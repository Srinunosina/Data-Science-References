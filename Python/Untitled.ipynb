{
 "cells": [
  {
   "cell_type": "code",
   "execution_count": 1,
   "metadata": {},
   "outputs": [
    {
     "name": "stderr",
     "output_type": "stream",
     "text": [
      "ERROR:root:File `\"r'D:\\\\Srinu.py\"` not found.\n"
     ]
    }
   ],
   "source": [
    "%run -i r'D:\\Srinu Docs\\Python\\GetIdentityToken.py'"
   ]
  },
  {
   "cell_type": "code",
   "execution_count": null,
   "metadata": {},
   "outputs": [],
   "source": [
    "# %load r'D:\\Srinu Docs\\Python\\GetIdentityToken.py'\n",
    "D:\\Srinu Docs\\Python\\GetIdentityToken.py"
   ]
  },
  {
   "cell_type": "code",
   "execution_count": 3,
   "metadata": {},
   "outputs": [
    {
     "name": "stderr",
     "output_type": "stream",
     "text": [
      "ERROR:root:File `\"r'D:\\\\Srinu.py\"` not found.\n"
     ]
    }
   ],
   "source": [
    "%run r'D:\\Srinu Docs\\Python\\GetIdentityToken.py'"
   ]
  },
  {
   "cell_type": "code",
   "execution_count": null,
   "metadata": {},
   "outputs": [],
   "source": [
    "# %load D:\\Srinu Docs\\Python\\GetIdentityToken.py\n",
    "\n",
    "import requests\n",
    "\n",
    "import warnings\n",
    "warnings.filterwarnings('ignore', message='Unverified HTTPS request')\n",
    "\n",
    "from requests.auth import HTTPBasicAuth\n",
    "basic = HTTPBasicAuth('INHYDL08743\\\\prismtest', 'prismtest')\n",
    "\n",
    "api_url = \"https://localhost:888/api/identity\"\n",
    "token_url = 'https://localhost:888/token'\n",
    "\n",
    "headers =  {\"Content-Type\":\"application/json\"}\n",
    "auth_headers =  {\n",
    "                 'Authorization': 'UserName: \"INHYDL08743\\\\prismtest\", Password: \"prismtest\"'\n",
    "                }\n",
    "\n",
    "# first getting user guid\n",
    "user_response = requests.post(api_url, auth = basic, verify = False)\n",
    "user_guid_json = user_response.json()\n",
    "print('UserGuid: ', user_guid_json.get('UserGuid'))\n",
    "\n",
    "# getting token\n",
    "input_token_data = { \"username\" : user_guid_json.get('UserGuid')\n",
    "                     ,\"grant_type\" : \"password\"\n",
    "                     ,\"client_id\"  : \"prism-api\"\n",
    "                     ,\"client_secret\": \"12c40d7162f452117bf5f71b112fdc96\"\n",
    "                   }\n",
    "token_response = requests.get(token_url, data=input_token_data, headers= headers, verify=False)\n",
    "print(token_response.json())\n"
   ]
  },
  {
   "cell_type": "code",
   "execution_count": 5,
   "metadata": {},
   "outputs": [
    {
     "name": "stderr",
     "output_type": "stream",
     "text": [
      "ERROR:root:File `'D:\\\\Srinu.py'` not found.\n"
     ]
    }
   ],
   "source": [
    "%run D:\\Srinu Docs\\Python\\GetIdentityToken.py"
   ]
  },
  {
   "cell_type": "code",
   "execution_count": 7,
   "metadata": {},
   "outputs": [
    {
     "name": "stdout",
     "output_type": "stream",
     "text": [
      "UserGuid:  61472824-db6f-4ffe-8d77-ee6771c623c8\n",
      "{'access_token': '_Rihamhn2L_FOObhCJdXVLsh5OoAnaj9ka546jfk39nehMXffxFwzhSakKNYDPHjDAzFm08Epw0bLBOAWsDln3XYN5TWlv_tccMucOA-N2hSDYGrq46Ywo5sn6GhDJpiCQ4a51SsQwVhLp6sDG1TznHJgMsOkHmNatwin_CoGAX9pbZb2hhWYDH_ywZfExI-DEICk3tb9kAcqYYD2glwQMcfIm4hHyGci8a_4X4hMCXBbwc-B4u2iBjLodbJv9b82E4e9RQbPY3ItFX_6I2y4SYvZwiKoUftEb5PbLh3BGSU0g3XNsowhFYGFlBytGFueEiZy8d3j5oswQEMCIrw4RbW3aNhxqt3Fg_izdUjkZOZBveQANXEmlkd8hiJRkSlz5LLGPuhNDPN7a8tCKfD9aPEC_EqLBWnOiCXV08hEzXwCKgm-BHmC6918GcU_wYWaCIg5aX4Jl2d-4VNxMebbCyim3npNhZJGGQv_qDk5v84lq42W6l6Fc0cE97-KNAkdd6OoIulmSXQBG8Kr_yUFw', 'token_type': 'bearer', 'expires_in': 3599, 'refresh_token': 'cddfd33f3b3043c8b2ee6c3c2293617f', 'as:client_id': 'prism-api', 'userName': 'INHYDL08743\\\\prismtest', 'SID': 'S-1-5-21-448617821-1419307995-1544298398-1009', 'client_session': '044ab8ab55514229a7c8a97bccbfe14e', '.issued': 'Wed, 21 Sep 2022 12:07:32 GMT', '.expires': 'Wed, 21 Sep 2022 13:07:32 GMT'}\n"
     ]
    }
   ],
   "source": [
    "%run GetIdentityToken.py"
   ]
  },
  {
   "cell_type": "code",
   "execution_count": null,
   "metadata": {},
   "outputs": [],
   "source": []
  }
 ],
 "metadata": {
  "kernelspec": {
   "display_name": "Python 3",
   "language": "python",
   "name": "python3"
  },
  "language_info": {
   "codemirror_mode": {
    "name": "ipython",
    "version": 3
   },
   "file_extension": ".py",
   "mimetype": "text/x-python",
   "name": "python",
   "nbconvert_exporter": "python",
   "pygments_lexer": "ipython3",
   "version": "3.6.5"
  }
 },
 "nbformat": 4,
 "nbformat_minor": 2
}
