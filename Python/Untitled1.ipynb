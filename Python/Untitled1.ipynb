{
 "cells": [
  {
   "cell_type": "code",
   "execution_count": 1,
   "metadata": {},
   "outputs": [
    {
     "name": "stdout",
     "output_type": "stream",
     "text": [
      "UserGuid:  1b49ef44-686d-4554-b437-435329c0a2ad\n",
      "{'access_token': '_T2mBNCL6Vt871e3ebIc4FHFtHblI2IG721T6DjmP5o8n9uuO9tCz9nO6Hr40MBb4apy7jbNb21fTBh8CVDFwwyk_OQwx8dF_s_fG_kXJHz1oN-y4uNu1hE9CwdG3py65eZwXgFTIST--UwgiNPrQtDpc--PtRh8DhIHif3ujdGH52Tad7VS3S4Y9WHYnawhPqTl35m1DJye8c25FGpUZ3HGz8JYW2VXCP_kgR7fzVQithNSLTUVlfdSWD_F-rqOJvL_UpqsNDyNoiCxrV2eZiV-ehiWDgZZVTcERdVuCkq12cbYg1yS-WnAz96JdPWR9vdRtm2UGBNsSFuEJcax2ds1KQ3jNw3DKrT-QuOHpdL45TlyQpX1kbDXx3aHLs9U5KKEEZqiWL3jcRUqTRwLrFcUyGEhGMS1ivo9Ip8czFhS0RSGQZJaNOcAl3zV_P6VBqVZNCrnmTFGfP9L1BGjNNFbqOQypgiRJbeXrwU2rT4kXpI6KdzLkTJuc5gWcmE7DyoosCn2URZ8DDbh2bAqQA', 'token_type': 'bearer', 'expires_in': 3599, 'refresh_token': '2e98863005b0470186c8bba5d76c54b7', 'as:client_id': 'prism-api', 'userName': 'INHYDL08743\\\\prismtest', 'SID': 'S-1-5-21-448617821-1419307995-1544298398-1009', 'client_session': 'a0b1b9a0099841fa8bc68155f54b19fa', '.issued': 'Wed, 21 Sep 2022 12:07:56 GMT', '.expires': 'Wed, 21 Sep 2022 13:07:56 GMT'}\n"
     ]
    }
   ],
   "source": [
    "%run GetIdentityToken.py"
   ]
  },
  {
   "cell_type": "code",
   "execution_count": 2,
   "metadata": {},
   "outputs": [
    {
     "name": "stdout",
     "output_type": "stream",
     "text": [
      "UserGuid:  05c2bcdb-d2c1-4d5e-a746-8b5e9c634a6b\n",
      "{'access_token': 'Cx9g2Pq7u3bXdZ5zr0LstKTBCoD38W5nZISMP9c1HDSukFkpQh14hJ7VN15Q9vOaYe3KsnComQ2_rgJEII9r_ppmFVn-Np6Xeou2tCrV-2jyo9MJUFzaICp3mpTcJoiGmBSSovLw1OTR_qYBp_Yuff1Ltg-nHsoeCmPFAGusSaTStOlHh--BT-w5vMmgCaPZ8qkPcT7f1y5vg2BKk03JMJ-pbnJ70d1NOfEzhCr3Pxtry9X7iFA-bt8H1BgzHXv2gUga50nVO-rKdMWPlgc_EiIClrHGo897KnPAiTLWS_jQWbQknmQxpEasuoSmdRW4TySEIFAUiprf9v-KYNzbzu4PL48PRHyUTLSNcPYKlpeU4KtazKwbWFM9--hEgC9Vuh-XWvKJJeg8VD7-96Bpb19DAhbin3nb08hFjukQkTVzx79k5MibGrzrqbtarG54fmIMkhyHLH5tZAMl3riCPhm29EVzT1yiSFyC9hoF4H-K210eK56RUtQkOkoRhAMQNBoAvXd6UFYm4L5YPkkfZw', 'token_type': 'bearer', 'expires_in': 3599, 'refresh_token': '875e08b71c1f417ab758b3b573046239', 'as:client_id': 'prism-api', 'userName': 'INHYDL08743\\\\prismtest', 'SID': 'S-1-5-21-448617821-1419307995-1544298398-1009', 'client_session': 'b9b14ec66a4a4798b1e24b9239f9deb2', '.issued': 'Wed, 21 Sep 2022 12:08:36 GMT', '.expires': 'Wed, 21 Sep 2022 13:08:36 GMT'}\n"
     ]
    }
   ],
   "source": [
    "token = %run GetIdentityToken.py\n",
    "token"
   ]
  },
  {
   "cell_type": "code",
   "execution_count": null,
   "metadata": {},
   "outputs": [],
   "source": []
  }
 ],
 "metadata": {
  "kernelspec": {
   "display_name": "Python 3",
   "language": "python",
   "name": "python3"
  },
  "language_info": {
   "codemirror_mode": {
    "name": "ipython",
    "version": 3
   },
   "file_extension": ".py",
   "mimetype": "text/x-python",
   "name": "python",
   "nbconvert_exporter": "python",
   "pygments_lexer": "ipython3",
   "version": "3.6.5"
  }
 },
 "nbformat": 4,
 "nbformat_minor": 2
}
