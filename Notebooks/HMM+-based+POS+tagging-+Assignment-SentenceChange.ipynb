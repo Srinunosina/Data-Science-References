{
 "cells": [
  {
   "cell_type": "markdown",
   "metadata": {},
   "source": [
    "## POS tagging using modified Viterbi"
   ]
  },
  {
   "cell_type": "markdown",
   "metadata": {},
   "source": [
    "Objectives of the analysis -\n",
    "- Write the vanilla Viterbi algorithm for assigning POS tags (i.e. without dealing with unknown words) \n",
    "\n",
    "- Solve the problem of unknown words using at least two techniques. \n",
    "\n",
    "- Compare the tagging accuracy after making these modifications with the vanilla Viterbi algorithm.\n",
    "\n",
    "- List down at least three cases from the sample test file (i.e. unknown word-tag pairs) which were \n",
    "incorrectly tagged by the original Viterbi POS tagger and got corrected after your modifications."
   ]
  },
  {
   "cell_type": "markdown",
   "metadata": {},
   "source": [
    "### Data Preparation"
   ]
  },
  {
   "cell_type": "code",
   "execution_count": 1,
   "metadata": {},
   "outputs": [],
   "source": [
    "#Importing libraries\n",
    "import nltk, re\n",
    "import requests\n",
    "import random\n",
    "import numpy as np\n",
    "import pandas as pd\n",
    "import pprint, time\n",
    "import matplotlib.pyplot as plt\n",
    "import seaborn as sns\n",
    "\n",
    "from sklearn.model_selection import train_test_split\n",
    "from nltk.tokenize import word_tokenize"
   ]
  },
  {
   "cell_type": "code",
   "execution_count": 2,
   "metadata": {},
   "outputs": [
    {
     "name": "stderr",
     "output_type": "stream",
     "text": [
      "[nltk_data] Downloading package universal_tagset to\n",
      "[nltk_data]     C:\\Users\\SRINU\\AppData\\Roaming\\nltk_data...\n",
      "[nltk_data]   Package universal_tagset is already up-to-date!\n",
      "[nltk_data] Downloading package averaged_perceptron_tagger to\n",
      "[nltk_data]     C:\\Users\\SRINU\\AppData\\Roaming\\nltk_data...\n",
      "[nltk_data]   Package averaged_perceptron_tagger is already up-to-\n",
      "[nltk_data]       date!\n"
     ]
    },
    {
     "data": {
      "text/plain": [
       "True"
      ]
     },
     "execution_count": 2,
     "metadata": {},
     "output_type": "execute_result"
    }
   ],
   "source": [
    "nltk.download('universal_tagset')\n",
    "nltk.download('averaged_perceptron_tagger')"
   ]
  },
  {
   "cell_type": "code",
   "execution_count": 3,
   "metadata": {},
   "outputs": [],
   "source": [
    "# reading the Treebank tagged sentences\n",
    "nltk_data = list(nltk.corpus.treebank.tagged_sents(tagset='universal'))"
   ]
  },
  {
   "cell_type": "code",
   "execution_count": 4,
   "metadata": {},
   "outputs": [
    {
     "name": "stdout",
     "output_type": "stream",
     "text": [
      "[[('Pierre', 'NOUN'), ('Vinken', 'NOUN'), (',', '.'), ('61', 'NUM'), ('years', 'NOUN'), ('old', 'ADJ'), (',', '.'), ('will', 'VERB'), ('join', 'VERB'), ('the', 'DET'), ('board', 'NOUN'), ('as', 'ADP'), ('a', 'DET'), ('nonexecutive', 'ADJ'), ('director', 'NOUN'), ('Nov.', 'NOUN'), ('29', 'NUM'), ('.', '.')], [('Mr.', 'NOUN'), ('Vinken', 'NOUN'), ('is', 'VERB'), ('chairman', 'NOUN'), ('of', 'ADP'), ('Elsevier', 'NOUN'), ('N.V.', 'NOUN'), (',', '.'), ('the', 'DET'), ('Dutch', 'NOUN'), ('publishing', 'VERB'), ('group', 'NOUN'), ('.', '.')], [('Rudolph', 'NOUN'), ('Agnew', 'NOUN'), (',', '.'), ('55', 'NUM'), ('years', 'NOUN'), ('old', 'ADJ'), ('and', 'CONJ'), ('former', 'ADJ'), ('chairman', 'NOUN'), ('of', 'ADP'), ('Consolidated', 'NOUN'), ('Gold', 'NOUN'), ('Fields', 'NOUN'), ('PLC', 'NOUN'), (',', '.'), ('was', 'VERB'), ('named', 'VERB'), ('*-1', 'X'), ('a', 'DET'), ('nonexecutive', 'ADJ'), ('director', 'NOUN'), ('of', 'ADP'), ('this', 'DET'), ('British', 'ADJ'), ('industrial', 'ADJ'), ('conglomerate', 'NOUN'), ('.', '.')], [('A', 'DET'), ('form', 'NOUN'), ('of', 'ADP'), ('asbestos', 'NOUN'), ('once', 'ADV'), ('used', 'VERB'), ('*', 'X'), ('*', 'X'), ('to', 'PRT'), ('make', 'VERB'), ('Kent', 'NOUN'), ('cigarette', 'NOUN'), ('filters', 'NOUN'), ('has', 'VERB'), ('caused', 'VERB'), ('a', 'DET'), ('high', 'ADJ'), ('percentage', 'NOUN'), ('of', 'ADP'), ('cancer', 'NOUN'), ('deaths', 'NOUN'), ('among', 'ADP'), ('a', 'DET'), ('group', 'NOUN'), ('of', 'ADP'), ('workers', 'NOUN'), ('exposed', 'VERB'), ('*', 'X'), ('to', 'PRT'), ('it', 'PRON'), ('more', 'ADV'), ('than', 'ADP'), ('30', 'NUM'), ('years', 'NOUN'), ('ago', 'ADP'), (',', '.'), ('researchers', 'NOUN'), ('reported', 'VERB'), ('0', 'X'), ('*T*-1', 'X'), ('.', '.')], [('The', 'DET'), ('asbestos', 'NOUN'), ('fiber', 'NOUN'), (',', '.'), ('crocidolite', 'NOUN'), (',', '.'), ('is', 'VERB'), ('unusually', 'ADV'), ('resilient', 'ADJ'), ('once', 'ADP'), ('it', 'PRON'), ('enters', 'VERB'), ('the', 'DET'), ('lungs', 'NOUN'), (',', '.'), ('with', 'ADP'), ('even', 'ADV'), ('brief', 'ADJ'), ('exposures', 'NOUN'), ('to', 'PRT'), ('it', 'PRON'), ('causing', 'VERB'), ('symptoms', 'NOUN'), ('that', 'DET'), ('*T*-1', 'X'), ('show', 'VERB'), ('up', 'PRT'), ('decades', 'NOUN'), ('later', 'ADJ'), (',', '.'), ('researchers', 'NOUN'), ('said', 'VERB'), ('0', 'X'), ('*T*-2', 'X'), ('.', '.')]]\n"
     ]
    }
   ],
   "source": [
    "# let's print few of the tagged data\n",
    "print(nltk_data[:5])\n"
   ]
  },
  {
   "cell_type": "code",
   "execution_count": 5,
   "metadata": {},
   "outputs": [
    {
     "name": "stdout",
     "output_type": "stream",
     "text": [
      "Training Set Length - 3718\n",
      "Training Set Length - 196\n",
      "-----------------------------------------------------------------------------------------------------------------------------\n",
      "Training Data Glimpse -\n",
      "\n",
      "[[('Bribe', 'NOUN'), ('by', 'ADP'), ('bribe', 'NOUN'), (',', '.'), ('Mr.', 'NOUN'), ('Sternberg', 'NOUN'), ('and', 'CONJ'), ('his', 'PRON'), ('co-author', 'NOUN'), (',', '.'), ('Matthew', 'NOUN'), ('C.', 'NOUN'), ('Harrison', 'NOUN'), ('Jr.', 'NOUN'), (',', '.'), ('lead', 'VERB'), ('us', 'PRON'), ('along', 'ADP'), ('the', 'DET'), ('path', 'NOUN'), ('0', 'X'), ('Wedtech', 'NOUN'), ('traveled', 'VERB'), ('*T*-1', 'X'), (',', '.'), ('from', 'ADP'), ('its', 'PRON'), ('inception', 'NOUN'), ('as', 'ADP'), ('a', 'DET'), ('small', 'ADJ'), ('manufacturing', 'VERB'), ('company', 'NOUN'), ('to', 'PRT'), ('the', 'DET'), ('status', 'NOUN'), ('of', 'ADP'), ('full-fledged', 'ADJ'), ('defense', 'NOUN'), ('contractor', 'NOUN'), (',', '.'), ('entrusted', 'VERB'), ('*', 'X'), ('with', 'ADP'), ('the', 'DET'), ('task', 'NOUN'), ('of', 'ADP'), ('*', 'X'), ('producing', 'VERB'), ('vital', 'ADJ'), ('equipment', 'NOUN'), ('for', 'ADP'), ('the', 'DET'), ('Army', 'NOUN'), ('and', 'CONJ'), ('Navy', 'NOUN'), ('.', '.')], [('The', 'DET'), ('British', 'ADJ'), ('paper', 'NOUN'), (',', '.'), ('packaging', 'NOUN'), ('and', 'CONJ'), ('publishing', 'NOUN'), ('concern', 'NOUN'), (',', '.'), ('said', 'VERB'), ('0', 'X'), ('profit', 'NOUN'), ('from', 'ADP'), ('continuing', 'VERB'), ('lines', 'NOUN'), ('fell', 'VERB'), ('10', 'NUM'), ('%', 'NOUN'), ('to', 'PRT'), ('#', '.'), ('118', 'NUM'), ('million', 'NUM'), ('*U*', 'X'), ('from', 'ADP'), ('#', '.'), ('130.6', 'NUM'), ('million', 'NUM'), ('*U*', 'X'), ('.', '.')], [('Meanwhile', 'ADV'), (',', '.'), ('the', 'DET'), ('National', 'NOUN'), ('Association', 'NOUN'), ('of', 'ADP'), ('Purchasing', 'NOUN'), ('Management', 'NOUN'), ('said', 'VERB'), ('0', 'X'), ('its', 'PRON'), ('latest', 'ADJ'), ('survey', 'NOUN'), ('indicated', 'VERB'), ('that', 'ADP'), ('the', 'DET'), ('manufacturing', 'NOUN'), ('economy', 'NOUN'), ('contracted', 'VERB'), ('in', 'ADP'), ('October', 'NOUN'), ('for', 'ADP'), ('the', 'DET'), ('sixth', 'ADJ'), ('consecutive', 'ADJ'), ('month', 'NOUN'), ('.', '.')], [('Robert', 'NOUN'), ('S.', 'NOUN'), ('Jenkins', 'NOUN'), ('Cambridge', 'NOUN'), (',', '.'), ('Mass', 'NOUN'), ('.', '.')], [('But', 'CONJ'), ('Moody', 'NOUN'), (\"'s\", 'VERB'), ('warned', 'VERB'), ('that', 'ADP'), ('Shearson', 'NOUN'), (\"'s\", 'PRT'), ('commercial', 'ADJ'), ('paper', 'NOUN'), ('rating', 'NOUN'), ('could', 'VERB'), ('be', 'VERB'), ('lowered', 'VERB'), ('*-1', 'X'), ('soon', 'ADV'), (',', '.'), ('a', 'DET'), ('move', 'NOUN'), ('that', 'DET'), ('*T*-2', 'X'), ('would', 'VERB'), ('reduce', 'VERB'), ('Shearson', 'NOUN'), (\"'s\", 'PRT'), ('profit', 'NOUN'), ('margins', 'NOUN'), ('on', 'ADP'), ('its', 'PRON'), ('borrowings', 'NOUN'), ('and', 'CONJ'), ('signal', 'VERB'), ('trouble', 'NOUN'), ('ahead', 'ADV'), ('for', 'ADP'), ('other', 'ADJ'), ('firms', 'NOUN'), ('.', '.')]]\n"
     ]
    }
   ],
   "source": [
    "# split data into training and validation set in the ratio 95:5\n",
    "random.seed(1234)\n",
    "train_set, test_set = train_test_split(nltk_data, train_size=0.95, test_size=0.05)\n",
    "\n",
    "print(\"Training Set Length -\", len(train_set))\n",
    "print(\"Training Set Length -\", len(test_set))\n",
    "print(\"-\" * 125)\n",
    "print(\"Training Data Glimpse -\\n\")\n",
    "print(train_set[:5])"
   ]
  },
  {
   "cell_type": "code",
   "execution_count": 6,
   "metadata": {},
   "outputs": [],
   "source": [
    "# function to extract nested tuple value\n",
    "\n",
    "def get_nested_tuple_from_list(input_list, index):\n",
    "    if index == -1:\n",
    "        return [tup for sent in input_list for tup in sent]\n",
    "    else:\n",
    "        return [tup[index] for sent in input_list for tup in sent]"
   ]
  },
  {
   "cell_type": "code",
   "execution_count": 7,
   "metadata": {},
   "outputs": [],
   "source": [
    "# function to extract value from tuple by index position\n",
    "\n",
    "def get_tuple_value_from_list(input_list, index):\n",
    "    if index == -1:\n",
    "        return [pair for pair in input_list]\n",
    "    else:\n",
    "        return [pair[index] for pair in input_list]\n",
    "    "
   ]
  },
  {
   "cell_type": "code",
   "execution_count": 8,
   "metadata": {},
   "outputs": [],
   "source": [
    "# function to convert list to set object\n",
    "\n",
    "def convert_list_to_set(input_list):\n",
    "    return set(input_list)"
   ]
  },
  {
   "cell_type": "code",
   "execution_count": 9,
   "metadata": {},
   "outputs": [],
   "source": [
    "# function to get values from set\n",
    "\n",
    "def get_value_from_set(input_set):\n",
    "    return [res for res in input_set]"
   ]
  },
  {
   "cell_type": "code",
   "execution_count": 10,
   "metadata": {},
   "outputs": [],
   "source": [
    "# function to convert tuple value to list\n",
    "\n",
    "def get_list_from_tuple_values(input_tuple, index):\n",
    "    return list(set(get_tuple_value_from_list(input_tuple, index)))"
   ]
  },
  {
   "cell_type": "code",
   "execution_count": 11,
   "metadata": {},
   "outputs": [
    {
     "name": "stdout",
     "output_type": "stream",
     "text": [
      "Total tagged words in training set : 95849\n",
      "-----------------------------------------------------------------------------------------------------------------------------\n",
      "Top 10 tagged words in training set : [('Bribe', 'NOUN'), ('by', 'ADP'), ('bribe', 'NOUN'), (',', '.'), ('Mr.', 'NOUN'), ('Sternberg', 'NOUN'), ('and', 'CONJ'), ('his', 'PRON'), ('co-author', 'NOUN'), (',', '.')]\n"
     ]
    }
   ],
   "source": [
    "# get's the list of training set tagged words and print top 10\n",
    "\n",
    "training_tagged_words = get_nested_tuple_from_list(train_set, -1)\n",
    "\n",
    "print('Total tagged words in training set :', len(training_tagged_words))\n",
    "print('-' * 125)\n",
    "print('Top 10 tagged words in training set :', training_tagged_words[:10])"
   ]
  },
  {
   "cell_type": "code",
   "execution_count": 12,
   "metadata": {},
   "outputs": [
    {
     "name": "stdout",
     "output_type": "stream",
     "text": [
      "Top 10 tagged words: ['Bribe', 'by', 'bribe', ',', 'Mr.', 'Sternberg', 'and', 'his', 'co-author', ',']\n"
     ]
    }
   ],
   "source": [
    "# extracting top 10 tokens from the training_tagged_words\n",
    "\n",
    "training_data_tokens = get_tuple_value_from_list(training_tagged_words, 0)\n",
    "\n",
    "print('Top 10 tagged words:', training_data_tokens[:10])"
   ]
  },
  {
   "cell_type": "code",
   "execution_count": 13,
   "metadata": {},
   "outputs": [
    {
     "name": "stdout",
     "output_type": "stream",
     "text": [
      "Top 10 POS tags : ['NOUN', 'ADP', 'NOUN', '.', 'NOUN', 'NOUN', 'CONJ', 'PRON', 'NOUN', '.']\n"
     ]
    }
   ],
   "source": [
    "# extracting top 10 POS tags for the training_tagged_words\n",
    "\n",
    "training_data_pos_tags = get_tuple_value_from_list(training_tagged_words, 1)\n",
    "\n",
    "print('Top 10 POS tags :', training_data_pos_tags[:10])"
   ]
  },
  {
   "cell_type": "code",
   "execution_count": 14,
   "metadata": {},
   "outputs": [
    {
     "name": "stdout",
     "output_type": "stream",
     "text": [
      "Top 10 vocabulary:  ['*T*-31', 'entangled', 'questioned', 'industry', 'Colo.', 'communications', 'arrival', 'quickly', '*T*-32', 'ITC']\n"
     ]
    }
   ],
   "source": [
    "# building the train vocabulary set from training data tokens\n",
    "\n",
    "training_vocabulary_set = convert_list_to_set(training_data_tokens)\n",
    "\n",
    "print('Top 10 vocabulary: ', get_value_from_set(training_vocabulary_set)[:10])"
   ]
  },
  {
   "cell_type": "code",
   "execution_count": 15,
   "metadata": {},
   "outputs": [
    {
     "name": "stdout",
     "output_type": "stream",
     "text": [
      "Top 10 POS tags:  ['PRON', '.', 'NUM', 'PRT', 'CONJ', 'NOUN', 'VERB', 'ADJ', 'ADV', 'DET']\n"
     ]
    }
   ],
   "source": [
    "# converting train POS tags to a set\n",
    "\n",
    "training_pos_tag_set = convert_list_to_set(training_data_pos_tags)\n",
    "\n",
    "print('Top 10 POS tags: ', get_value_from_set(training_pos_tag_set)[:10])"
   ]
  },
  {
   "cell_type": "code",
   "execution_count": 16,
   "metadata": {},
   "outputs": [
    {
     "name": "stdout",
     "output_type": "stream",
     "text": [
      "Length of Vocabulary: 12091\n",
      "Length of POS Tags: 12\n",
      "Available POS Tags: {'PRON', '.', 'NUM', 'PRT', 'CONJ', 'NOUN', 'VERB', 'ADJ', 'ADV', 'DET', 'X', 'ADP'}\n"
     ]
    }
   ],
   "source": [
    "print(\"Length of Vocabulary:\", len(training_vocabulary_set))\n",
    "print(\"Length of POS Tags:\", len(training_pos_tag_set)) \n",
    "print(\"Available POS Tags:\", training_pos_tag_set) "
   ]
  },
  {
   "cell_type": "markdown",
   "metadata": {},
   "source": [
    "### 2. POS Tagging Algorithm - HMM"
   ]
  },
  {
   "cell_type": "markdown",
   "metadata": {},
   "source": [
    "Hidden Markov Model based algorithm is used to tag the words. Given a sequence of words to be tagged, the task is to assign the most probable tag to the word.\n",
    "\n",
    "In other words, to every word w, assign the tag t that maximises the likelihood P(t/w). Since P(t/w) = P(w/t). P(t) / P(w), after ignoring P(w), we have to compute P(w/t) and P(t).\n",
    "\n",
    "P(w/t) is basically the probability that given a tag (say NN), what is the probability of it being w (say 'building'). This can be computed by computing the fraction of all NNs which are equal to w, i.e.\n",
    "\n",
    "P(w/t) = count(w, t) / count(t).\n",
    "\n",
    "The term P(t) is the probability of tag t, and in a tagging task, we assume that a tag will depend only on the previous tag. In other words, the probability of a tag being NN will depend only on the previous tag t(n-1). So for e.g. if t(n-1) is a JJ, then t(n) is likely to be an NN since adjectives often precede a noun.\n",
    "\n",
    "Given the penn treebank tagged dataset, we can compute the two terms P(w/t) and P(t) and store them in two large matrices. The matrix of P(w/t) will be sparse, since each word will not be seen with most tags ever, and those terms will thus be zero"
   ]
  },
  {
   "cell_type": "markdown",
   "metadata": {},
   "source": [
    "### Emission Probabilities (i.e. probability of a word given a tag)"
   ]
  },
  {
   "cell_type": "code",
   "execution_count": 17,
   "metadata": {},
   "outputs": [],
   "source": [
    "# computing P(w/t) and storing in [Tags x Vocabulary] matrix. This is a matrix with dimension\n",
    "# of len(training_pos_tag_set) X en(training_vocabulary_set)\n",
    "\n",
    "len_pos_tags = len(training_pos_tag_set)\n",
    "len_vocabulary = len(training_vocabulary_set)\n",
    "\n",
    "word_given_tag = np.zeros((len_pos_tags, len_vocabulary))"
   ]
  },
  {
   "cell_type": "code",
   "execution_count": 18,
   "metadata": {},
   "outputs": [],
   "source": [
    "# compute Emission Probability(word given tag): \n",
    "\n",
    "def emission_probability_word_given_tag(word, tag, training_bag = training_tagged_words):\n",
    "    tag_list = [pair for pair in training_bag if pair[1] == tag]\n",
    "    count_tag = len(tag_list)\n",
    "    w_given_tag_list = [pair[0] for pair in tag_list if pair[0] == word]\n",
    "    count_w_given_tag = len(w_given_tag_list)\n",
    "    \n",
    "    return (count_w_given_tag, count_tag)"
   ]
  },
  {
   "cell_type": "markdown",
   "metadata": {},
   "source": [
    "### Transition Probabilities (i.e. probability of getting a tag t2 given that the tag for previous word was t1)"
   ]
  },
  {
   "cell_type": "code",
   "execution_count": 19,
   "metadata": {},
   "outputs": [],
   "source": [
    "# compute Transition Probability (tag given tag: tag2(t2) given tag1 (t1))\n",
    "\n",
    "def transition_probability_t2_given_t1(t2, t1, training_bag = training_tagged_words):\n",
    "    tags = [pair[1] for pair in training_bag]\n",
    "    count_t1 = len([t for t in tags if t == t1])\n",
    "    count_t2_t1 = 0\n",
    "    for index in range(len(tags)-1):\n",
    "        if tags[index] == t1 and tags[index+1] == t2:\n",
    "            count_t2_t1 += 1\n",
    "    return (count_t2_t1, count_t1)"
   ]
  },
  {
   "cell_type": "code",
   "execution_count": 20,
   "metadata": {},
   "outputs": [
    {
     "data": {
      "text/plain": [
       "array([[8.05214699e-03, 4.06441726e-02, 7.28527596e-03, 1.26533741e-02,\n",
       "        4.98466240e-03, 2.09355831e-01, 4.82745409e-01, 7.40030706e-02,\n",
       "        3.52760740e-02, 9.20245424e-03, 9.35582817e-02, 2.22392641e-02],\n",
       "       [6.58709481e-02, 9.33321342e-02, 8.07681978e-02, 2.51278840e-03,\n",
       "        5.87812960e-02, 2.22022802e-01, 8.83065611e-02, 4.42430228e-02,\n",
       "        5.37557229e-02, 1.72395229e-01, 2.62047928e-02, 9.17167738e-02],\n",
       "       [1.78571430e-03, 1.14583336e-01, 1.83333337e-01, 2.73809526e-02,\n",
       "        1.36904763e-02, 3.55952382e-01, 1.84523817e-02, 3.24404761e-02,\n",
       "        2.97619053e-03, 3.57142859e-03, 2.09821433e-01, 3.60119045e-02],\n",
       "       [1.79914944e-02, 4.38338257e-02, 5.72456643e-02, 1.96270854e-03,\n",
       "        2.28982652e-03, 2.47628391e-01, 3.96140009e-01, 8.63591731e-02,\n",
       "        1.01406612e-02, 1.02060847e-01, 1.30847236e-02, 2.12626755e-02],\n",
       "       [5.79310358e-02, 3.44827585e-02, 4.27586213e-02, 5.05747134e-03,\n",
       "        4.59770119e-04, 3.46206903e-01, 1.57701150e-01, 1.18620686e-01,\n",
       "        5.51724136e-02, 1.19999997e-01, 8.27586185e-03, 5.33333346e-02],\n",
       "       [4.76415595e-03, 2.40098923e-01, 9.41920932e-03, 4.40048017e-02,\n",
       "        4.27683033e-02, 2.63883322e-01, 1.47106960e-01, 1.21467793e-02,\n",
       "        1.71291418e-02, 1.31650725e-02, 2.89486125e-02, 1.76564723e-01],\n",
       "       [3.50754932e-02, 3.43011990e-02, 2.31513735e-02, 3.18234600e-02,\n",
       "        5.57491276e-03, 1.09639950e-01, 1.70421988e-01, 6.45760745e-02,\n",
       "        8.19202513e-02, 1.34881914e-01, 2.16802165e-01, 9.18312073e-02],\n",
       "       [6.56491029e-04, 6.48284927e-02, 1.96947325e-02, 1.08321020e-02,\n",
       "        1.72328893e-02, 7.00475931e-01, 1.16527164e-02, 6.63056001e-02,\n",
       "        4.43131477e-03, 4.92368313e-03, 2.05153450e-02, 7.84506798e-02],\n",
       "       [1.51415402e-02, 1.34298876e-01, 3.15997377e-02, 1.34957209e-02,\n",
       "        6.91244239e-03, 3.25872302e-02, 3.45622122e-01, 1.30019754e-01,\n",
       "        7.99868330e-02, 6.68202788e-02, 2.30414756e-02, 1.20473996e-01],\n",
       "       [3.61794489e-03, 1.74867343e-02, 2.24312600e-02, 2.41196336e-04,\n",
       "        4.82392672e-04, 6.37843728e-01, 3.96767966e-02, 2.05258086e-01,\n",
       "        1.26628075e-02, 5.66811394e-03, 4.53449115e-02, 9.28605907e-03],\n",
       "       [5.49960025e-02, 1.65467620e-01, 2.71782582e-03, 1.82893679e-01,\n",
       "        1.07114306e-02, 6.20303750e-02, 2.04956040e-01, 1.71063151e-02,\n",
       "        2.50999201e-02, 5.45163862e-02, 7.41806552e-02, 1.45323738e-01],\n",
       "       [6.98810518e-02, 3.98258269e-02, 6.15972802e-02, 1.38062867e-03,\n",
       "        8.49617645e-04, 3.24341536e-01, 8.28377251e-03, 1.06202208e-01,\n",
       "        1.32752759e-02, 3.22536111e-01, 3.45157161e-02, 1.73109602e-02]],\n",
       "      dtype=float32)"
      ]
     },
     "execution_count": 20,
     "metadata": {},
     "output_type": "execute_result"
    }
   ],
   "source": [
    "# creating t x t transition matrix of tags\n",
    "\n",
    "tags_matrix = np.zeros((len_pos_tags, len_pos_tags), dtype='float32')\n",
    "for i, t1 in enumerate(list(training_pos_tag_set)):\n",
    "    for j, t2 in enumerate(list(training_pos_tag_set)): \n",
    "        tags_matrix[i, j] = transition_probability_t2_given_t1(t2, t1)[0]/transition_probability_t2_given_t1(t2, t1)[1]\n",
    "\n",
    "# Let's have a glimpse into the transition matrix\n",
    "tags_matrix"
   ]
  },
  {
   "cell_type": "code",
   "execution_count": 21,
   "metadata": {},
   "outputs": [
    {
     "data": {
      "text/html": [
       "<div>\n",
       "<style scoped>\n",
       "    .dataframe tbody tr th:only-of-type {\n",
       "        vertical-align: middle;\n",
       "    }\n",
       "\n",
       "    .dataframe tbody tr th {\n",
       "        vertical-align: top;\n",
       "    }\n",
       "\n",
       "    .dataframe thead th {\n",
       "        text-align: right;\n",
       "    }\n",
       "</style>\n",
       "<table border=\"1\" class=\"dataframe\">\n",
       "  <thead>\n",
       "    <tr style=\"text-align: right;\">\n",
       "      <th></th>\n",
       "      <th>PRON</th>\n",
       "      <th>.</th>\n",
       "      <th>NUM</th>\n",
       "      <th>PRT</th>\n",
       "      <th>CONJ</th>\n",
       "      <th>NOUN</th>\n",
       "      <th>VERB</th>\n",
       "      <th>ADJ</th>\n",
       "      <th>ADV</th>\n",
       "      <th>DET</th>\n",
       "      <th>X</th>\n",
       "      <th>ADP</th>\n",
       "    </tr>\n",
       "  </thead>\n",
       "  <tbody>\n",
       "    <tr>\n",
       "      <td>PRON</td>\n",
       "      <td>0.008052</td>\n",
       "      <td>0.040644</td>\n",
       "      <td>0.007285</td>\n",
       "      <td>0.012653</td>\n",
       "      <td>0.004985</td>\n",
       "      <td>0.209356</td>\n",
       "      <td>0.482745</td>\n",
       "      <td>0.074003</td>\n",
       "      <td>0.035276</td>\n",
       "      <td>0.009202</td>\n",
       "      <td>0.093558</td>\n",
       "      <td>0.022239</td>\n",
       "    </tr>\n",
       "    <tr>\n",
       "      <td>.</td>\n",
       "      <td>0.065871</td>\n",
       "      <td>0.093332</td>\n",
       "      <td>0.080768</td>\n",
       "      <td>0.002513</td>\n",
       "      <td>0.058781</td>\n",
       "      <td>0.222023</td>\n",
       "      <td>0.088307</td>\n",
       "      <td>0.044243</td>\n",
       "      <td>0.053756</td>\n",
       "      <td>0.172395</td>\n",
       "      <td>0.026205</td>\n",
       "      <td>0.091717</td>\n",
       "    </tr>\n",
       "    <tr>\n",
       "      <td>NUM</td>\n",
       "      <td>0.001786</td>\n",
       "      <td>0.114583</td>\n",
       "      <td>0.183333</td>\n",
       "      <td>0.027381</td>\n",
       "      <td>0.013690</td>\n",
       "      <td>0.355952</td>\n",
       "      <td>0.018452</td>\n",
       "      <td>0.032440</td>\n",
       "      <td>0.002976</td>\n",
       "      <td>0.003571</td>\n",
       "      <td>0.209821</td>\n",
       "      <td>0.036012</td>\n",
       "    </tr>\n",
       "    <tr>\n",
       "      <td>PRT</td>\n",
       "      <td>0.017991</td>\n",
       "      <td>0.043834</td>\n",
       "      <td>0.057246</td>\n",
       "      <td>0.001963</td>\n",
       "      <td>0.002290</td>\n",
       "      <td>0.247628</td>\n",
       "      <td>0.396140</td>\n",
       "      <td>0.086359</td>\n",
       "      <td>0.010141</td>\n",
       "      <td>0.102061</td>\n",
       "      <td>0.013085</td>\n",
       "      <td>0.021263</td>\n",
       "    </tr>\n",
       "    <tr>\n",
       "      <td>CONJ</td>\n",
       "      <td>0.057931</td>\n",
       "      <td>0.034483</td>\n",
       "      <td>0.042759</td>\n",
       "      <td>0.005057</td>\n",
       "      <td>0.000460</td>\n",
       "      <td>0.346207</td>\n",
       "      <td>0.157701</td>\n",
       "      <td>0.118621</td>\n",
       "      <td>0.055172</td>\n",
       "      <td>0.120000</td>\n",
       "      <td>0.008276</td>\n",
       "      <td>0.053333</td>\n",
       "    </tr>\n",
       "    <tr>\n",
       "      <td>NOUN</td>\n",
       "      <td>0.004764</td>\n",
       "      <td>0.240099</td>\n",
       "      <td>0.009419</td>\n",
       "      <td>0.044005</td>\n",
       "      <td>0.042768</td>\n",
       "      <td>0.263883</td>\n",
       "      <td>0.147107</td>\n",
       "      <td>0.012147</td>\n",
       "      <td>0.017129</td>\n",
       "      <td>0.013165</td>\n",
       "      <td>0.028949</td>\n",
       "      <td>0.176565</td>\n",
       "    </tr>\n",
       "    <tr>\n",
       "      <td>VERB</td>\n",
       "      <td>0.035075</td>\n",
       "      <td>0.034301</td>\n",
       "      <td>0.023151</td>\n",
       "      <td>0.031823</td>\n",
       "      <td>0.005575</td>\n",
       "      <td>0.109640</td>\n",
       "      <td>0.170422</td>\n",
       "      <td>0.064576</td>\n",
       "      <td>0.081920</td>\n",
       "      <td>0.134882</td>\n",
       "      <td>0.216802</td>\n",
       "      <td>0.091831</td>\n",
       "    </tr>\n",
       "    <tr>\n",
       "      <td>ADJ</td>\n",
       "      <td>0.000656</td>\n",
       "      <td>0.064828</td>\n",
       "      <td>0.019695</td>\n",
       "      <td>0.010832</td>\n",
       "      <td>0.017233</td>\n",
       "      <td>0.700476</td>\n",
       "      <td>0.011653</td>\n",
       "      <td>0.066306</td>\n",
       "      <td>0.004431</td>\n",
       "      <td>0.004924</td>\n",
       "      <td>0.020515</td>\n",
       "      <td>0.078451</td>\n",
       "    </tr>\n",
       "    <tr>\n",
       "      <td>ADV</td>\n",
       "      <td>0.015142</td>\n",
       "      <td>0.134299</td>\n",
       "      <td>0.031600</td>\n",
       "      <td>0.013496</td>\n",
       "      <td>0.006912</td>\n",
       "      <td>0.032587</td>\n",
       "      <td>0.345622</td>\n",
       "      <td>0.130020</td>\n",
       "      <td>0.079987</td>\n",
       "      <td>0.066820</td>\n",
       "      <td>0.023041</td>\n",
       "      <td>0.120474</td>\n",
       "    </tr>\n",
       "    <tr>\n",
       "      <td>DET</td>\n",
       "      <td>0.003618</td>\n",
       "      <td>0.017487</td>\n",
       "      <td>0.022431</td>\n",
       "      <td>0.000241</td>\n",
       "      <td>0.000482</td>\n",
       "      <td>0.637844</td>\n",
       "      <td>0.039677</td>\n",
       "      <td>0.205258</td>\n",
       "      <td>0.012663</td>\n",
       "      <td>0.005668</td>\n",
       "      <td>0.045345</td>\n",
       "      <td>0.009286</td>\n",
       "    </tr>\n",
       "    <tr>\n",
       "      <td>X</td>\n",
       "      <td>0.054996</td>\n",
       "      <td>0.165468</td>\n",
       "      <td>0.002718</td>\n",
       "      <td>0.182894</td>\n",
       "      <td>0.010711</td>\n",
       "      <td>0.062030</td>\n",
       "      <td>0.204956</td>\n",
       "      <td>0.017106</td>\n",
       "      <td>0.025100</td>\n",
       "      <td>0.054516</td>\n",
       "      <td>0.074181</td>\n",
       "      <td>0.145324</td>\n",
       "    </tr>\n",
       "    <tr>\n",
       "      <td>ADP</td>\n",
       "      <td>0.069881</td>\n",
       "      <td>0.039826</td>\n",
       "      <td>0.061597</td>\n",
       "      <td>0.001381</td>\n",
       "      <td>0.000850</td>\n",
       "      <td>0.324342</td>\n",
       "      <td>0.008284</td>\n",
       "      <td>0.106202</td>\n",
       "      <td>0.013275</td>\n",
       "      <td>0.322536</td>\n",
       "      <td>0.034516</td>\n",
       "      <td>0.017311</td>\n",
       "    </tr>\n",
       "  </tbody>\n",
       "</table>\n",
       "</div>"
      ],
      "text/plain": [
       "          PRON         .       NUM       PRT      CONJ      NOUN      VERB  \\\n",
       "PRON  0.008052  0.040644  0.007285  0.012653  0.004985  0.209356  0.482745   \n",
       ".     0.065871  0.093332  0.080768  0.002513  0.058781  0.222023  0.088307   \n",
       "NUM   0.001786  0.114583  0.183333  0.027381  0.013690  0.355952  0.018452   \n",
       "PRT   0.017991  0.043834  0.057246  0.001963  0.002290  0.247628  0.396140   \n",
       "CONJ  0.057931  0.034483  0.042759  0.005057  0.000460  0.346207  0.157701   \n",
       "NOUN  0.004764  0.240099  0.009419  0.044005  0.042768  0.263883  0.147107   \n",
       "VERB  0.035075  0.034301  0.023151  0.031823  0.005575  0.109640  0.170422   \n",
       "ADJ   0.000656  0.064828  0.019695  0.010832  0.017233  0.700476  0.011653   \n",
       "ADV   0.015142  0.134299  0.031600  0.013496  0.006912  0.032587  0.345622   \n",
       "DET   0.003618  0.017487  0.022431  0.000241  0.000482  0.637844  0.039677   \n",
       "X     0.054996  0.165468  0.002718  0.182894  0.010711  0.062030  0.204956   \n",
       "ADP   0.069881  0.039826  0.061597  0.001381  0.000850  0.324342  0.008284   \n",
       "\n",
       "           ADJ       ADV       DET         X       ADP  \n",
       "PRON  0.074003  0.035276  0.009202  0.093558  0.022239  \n",
       ".     0.044243  0.053756  0.172395  0.026205  0.091717  \n",
       "NUM   0.032440  0.002976  0.003571  0.209821  0.036012  \n",
       "PRT   0.086359  0.010141  0.102061  0.013085  0.021263  \n",
       "CONJ  0.118621  0.055172  0.120000  0.008276  0.053333  \n",
       "NOUN  0.012147  0.017129  0.013165  0.028949  0.176565  \n",
       "VERB  0.064576  0.081920  0.134882  0.216802  0.091831  \n",
       "ADJ   0.066306  0.004431  0.004924  0.020515  0.078451  \n",
       "ADV   0.130020  0.079987  0.066820  0.023041  0.120474  \n",
       "DET   0.205258  0.012663  0.005668  0.045345  0.009286  \n",
       "X     0.017106  0.025100  0.054516  0.074181  0.145324  \n",
       "ADP   0.106202  0.013275  0.322536  0.034516  0.017311  "
      ]
     },
     "execution_count": 21,
     "metadata": {},
     "output_type": "execute_result"
    }
   ],
   "source": [
    "# converting the matrix to a data frame\n",
    "df_tags = pd.DataFrame(tags_matrix, columns = list(training_pos_tag_set), index=list(training_pos_tag_set))\n",
    "\n",
    "# print data\n",
    "df_tags"
   ]
  },
  {
   "cell_type": "markdown",
   "metadata": {},
   "source": [
    "## Exploratory Data Analysis"
   ]
  },
  {
   "cell_type": "code",
   "execution_count": 22,
   "metadata": {},
   "outputs": [
    {
     "data": {
      "image/png": "[encoded data removed]",
      "text/plain": [
       "<Figure size 1008x864 with 2 Axes>"
      ]
     },
     "metadata": {
      "needs_background": "light"
     },
     "output_type": "display_data"
    }
   ],
   "source": [
    "# heatmap of tags matrix\n",
    "plt.figure(figsize=(14, 12))\n",
    "sns.heatmap(df_tags, annot = True)\n",
    "plt.show()"
   ]
  },
  {
   "cell_type": "code",
   "execution_count": 23,
   "metadata": {},
   "outputs": [
    {
     "data": {
      "image/png": "[encoded data removed]",
      "text/plain": [
       "<Figure size 1008x576 with 2 Axes>"
      ]
     },
     "metadata": {
      "needs_background": "light"
     },
     "output_type": "display_data"
    }
   ],
   "source": [
    "# frequent tags\n",
    "\n",
    "frequent_tags = df_tags[df_tags > 0.5]\n",
    "plt.figure(figsize=(14, 8))\n",
    "sns.heatmap(frequent_tags, annot = True)\n",
    "plt.show()"
   ]
  },
  {
   "cell_type": "markdown",
   "metadata": {},
   "source": [
    "### Build the vanilla Viterbi based POS tagger"
   ]
  },
  {
   "cell_type": "markdown",
   "metadata": {},
   "source": [
    "Let's now use the computed probabilities P(w, tag) and P(t2, t1) to assign tags to each word in the document. We'll run through each word w and compute P(tag/w)=P(w/tag).P(tag) for each tag in the tag set, and then assign the tag having the max P(tag/w).\n",
    "\n",
    "We'll store the assigned tags in a list of tuples, similar to the list 'training_tagged_words'. Each tuple will be a (token, assigned_tag). As we progress further in the list, each tag to be assigned will use the tag of the previous token.\n",
    "\n",
    "Note: P(tag|start) = P(tag|'.')"
   ]
  },
  {
   "cell_type": "code",
   "execution_count": 24,
   "metadata": {},
   "outputs": [],
   "source": [
    "# Vanilla Viterbi Algorithm\n",
    "def vanilla_viterbi(words, training_bag = training_tagged_words):\n",
    "    state = []\n",
    "    #T = list(set([pair[1] for pair in train_bag]))\n",
    "    T = list(set(get_tuple_value_from_list(training_bag, 1)))\n",
    "        \n",
    "    for key, word in enumerate(words):\n",
    "        p = [] \n",
    "        for tag in T:\n",
    "            if key == 0:\n",
    "                transition_p = df_tags.loc['.', tag]\n",
    "            else:\n",
    "                transition_p = df_tags.loc[state[-1], tag]\n",
    "                \n",
    "            # compute emission and state probabilities\n",
    "            emission_p = emission_probability_word_given_tag(words[key], tag)[0]/emission_probability_word_given_tag(words[key], tag)[1]\n",
    "            state_probability = emission_p * transition_p    \n",
    "            p.append(state_probability)\n",
    "            \n",
    "        pmax = max(p)\n",
    "        # getting maximum probability state\n",
    "        state_max = T[p.index(pmax)] \n",
    "        state.append(state_max)\n",
    "    return list(zip(words, state))"
   ]
  },
  {
   "cell_type": "markdown",
   "metadata": {},
   "source": [
    "### Testing Vanilla Viterbi Algorithm on sampled test data"
   ]
  },
  {
   "cell_type": "code",
   "execution_count": 25,
   "metadata": {},
   "outputs": [],
   "source": [
    "# Let's test our Viterbi algorithm on a few sample sentences of test dataset\n",
    "# since running it on the entire data set will take many hours\n",
    "\n",
    "random.seed(1234)\n",
    "\n",
    "# tagged words\n",
    "tagged_words = get_nested_tuple_from_list(test_set, -1)\n",
    "\n",
    "# untagged words\n",
    "test_tagged_words = get_nested_tuple_from_list(test_set, 0)"
   ]
  },
  {
   "cell_type": "code",
   "execution_count": 26,
   "metadata": {},
   "outputs": [],
   "source": [
    "# tagging the test sentences\n",
    "start = time.time()\n",
    "test_tagged_seq = vanilla_viterbi(test_tagged_words)\n",
    "end = time.time()\n",
    "difference = end-start"
   ]
  },
  {
   "cell_type": "code",
   "execution_count": 27,
   "metadata": {},
   "outputs": [
    {
     "name": "stdout",
     "output_type": "stream",
     "text": [
      "Time taken in seconds:  1485.1158061027527\n",
      "[('A', 'DET'), ('faster', 'ADJ'), ('version', 'NOUN'), (',', '.'), ('the', 'DET'), ('SuperDot', 'NOUN'), (',', '.'), ('was', 'VERB'), ('launched', 'VERB'), ('*-1', 'X'), ('in', 'ADP'), ('1984', 'NUM'), ('.', '.'), ('William', 'NOUN'), ('R.', 'NOUN'), ('Breakey', 'PRON'), ('M.D.', 'NOUN'), ('Pamela', 'NOUN'), ('J.', 'NOUN'), ('Fischer', 'PRON'), ('M.D.', 'NOUN'), ('Department', 'NOUN'), ('of', 'ADP'), ('Psychiatry', 'PRON'), ('Johns', 'PRON'), ('Hopkins', 'PRON'), ('University', 'NOUN'), ('School', 'NOUN'), ('of', 'ADP'), ('Medicine', 'NOUN'), ('Baltimore', 'NOUN'), ('The', 'DET'), ('scammers', 'NOUN'), ('themselves', 'PRON'), ('were', 'VERB'), ('garden-variety', 'PRON'), ('low', 'ADJ'), ('lifes', 'PRON'), (',', '.'), ('conspicuous', 'ADJ'), ('consumers', 'NOUN'), ('who', 'PRON'), ('*T*-1', 'X'), ('wanted', 'VERB'), ('big', 'ADJ'), ('houses', 'NOUN'), (',', '.'), ('Mercedes', 'PRON'), ('cars', 'NOUN'), (',', '.'), ('beautiful', 'ADJ'), ('women', 'NOUN'), (',', '.'), ('expensive', 'ADJ'), ('clothes', 'PRON'), ('.', '.'), ('A', 'DET'), ('federal', 'ADJ'), ('appeals', 'NOUN'), ('court', 'NOUN'), ('upheld', 'VERB'), ('a', 'DET'), ('lower', 'ADJ'), ('court', 'NOUN'), ('ruling', 'NOUN'), ('that', 'ADP'), ('the', 'DET'), ('U.S.', 'NOUN'), ('can', 'VERB'), ('bar', 'NOUN'), ('the', 'DET'), ('use', 'NOUN'), ('of', 'ADP'), ('federal', 'ADJ'), ('funds', 'NOUN'), ('for', 'ADP'), ('family-planning', 'ADJ'), ('programs', 'NOUN'), ('that', 'ADP'), ('*T*-1', 'X'), ('include', 'VERB'), ('abortion-related', 'PRON'), ('services', 'NOUN'), ('.', '.'), ('These', 'DET'), ('fiscal', 'ADJ'), ('pressures', 'NOUN'), ('are', 'VERB'), ('also', 'ADV'), ('a', 'DET'), ('factor', 'NOUN'), ('in', 'ADP'), ('*', 'X'), ('shaping', 'PRON'), ('the', 'DET'), ('Poland', 'NOUN'), ('package', 'NOUN'), (',', '.'), ('and', 'CONJ'), ('while', 'ADP'), ('more', 'ADJ'), ('ambitious', 'ADJ'), ('authorizing', 'PRON'), ('legislation', 'NOUN'), ('is', 'VERB'), ('still', 'ADV'), ('pending', 'VERB'), (',', '.'), ('the', 'DET'), ('appropriations', 'NOUN'), ('bill', 'NOUN'), ('in', 'ADP'), ('conference', 'NOUN'), ('will', 'VERB'), ('be', 'VERB'), ('more', 'ADV'), ('decisive', 'PRON'), ('on', 'ADP'), ('U.S.', 'NOUN'), ('aid', 'NOUN'), ('to', 'PRT'), ('Eastern', 'NOUN'), ('Europe', 'NOUN'), ('.', '.'), ('Yesterday', 'NOUN'), (\"'s\", 'PRT'), ('announcement', 'NOUN'), ('was', 'VERB'), ('made', 'VERB'), ('*-1', 'X'), ('after', 'ADP'), ('markets', 'NOUN'), ('closed', 'VERB'), ('.', '.'), ('Program', 'NOUN'), ('traders', 'NOUN'), ('argue', 'VERB'), ('that', 'ADP'), ('a', 'DET'), ('reinstatement', 'NOUN'), ('of', 'ADP'), ('the', 'DET'), ('rule', 'NOUN'), ('would', 'VERB'), ('destroy', 'PRON'), ('the', 'DET'), ('``', '.'), ('pricing', 'NOUN'), ('efficiency', 'PRON'), (\"''\", '.'), ('of', 'ADP'), ('the', 'DET'), ('futures', 'NOUN'), ('and', 'CONJ'), ('stock', 'NOUN'), ('markets', 'NOUN'), ('.', '.'), ('The', 'DET'), ('new', 'ADJ'), ('ad', 'NOUN'), ('plan', 'NOUN'), ('from', 'ADP'), ('Newsweek', 'NOUN'), (',', '.'), ('a', 'DET'), ('unit', 'NOUN'), ('of', 'ADP'), ('the', 'DET'), ('Washington', 'NOUN'), ('Post', 'PRON'), ('Co.', 'NOUN'), (',', '.'), ('is', 'VERB'), ('the', 'DET'), ('second', 'ADJ'), ('incentive', 'NOUN'), ('plan', 'NOUN'), ('0', 'X'), ('the', 'DET'), ('magazine', 'NOUN'), ('has', 'VERB'), ('offered', 'VERB'), ('advertisers', 'NOUN'), ('*T*-1', 'X'), ('in', 'ADP'), ('three', 'NUM'), ('years', 'NOUN'), ('.', '.'), ('When', 'ADV'), ('*', 'X'), ('referred', 'VERB'), ('*-2', 'X'), ('to', 'PRT'), ('the', 'DET'), ('questions', 'NOUN'), ('that', 'ADP'), ('*T*-107', 'PRON'), ('matched', 'VERB'), ('*T*-1', 'X'), (',', '.'), ('he', 'PRON'), ('said', 'VERB'), ('0', 'X'), ('it', 'PRON'), ('was', 'VERB'), ('coincidental', 'PRON'), ('.', '.'), ('This', 'DET'), ('time', 'NOUN'), (',', '.'), ('it', 'PRON'), ('was', 'VERB'), ('for', 'ADP'), ('dinner', 'PRON'), ('and', 'CONJ'), ('dancing', 'PRON'), ('--', '.'), ('a', 'DET'), ('block', 'NOUN'), ('away', 'ADV'), ('.', '.'), ('*-1', 'X'), ('Totally', 'PRON'), ('absorbed', 'PRON'), (',', '.'), ('the', 'DET'), ('ringers', 'NOUN'), ('stare', 'PRON'), ('straight', 'ADJ'), ('ahead', 'ADV'), (',', '.'), ('*-1', 'X'), ('using', 'VERB'), ('peripheral', 'ADJ'), ('vision', 'PRON'), ('-LRB-', '.'), ('they', 'PRON'), ('call', 'VERB'), ('it', 'PRON'), ('``', '.'), ('rope-sight', 'PRON'), (\"''\", '.'), ('-RRB-', '.'), ('*-2', 'X'), ('to', 'PRT'), ('watch', 'VERB'), ('the', 'DET'), ('other', 'ADJ'), ('ropes', 'NOUN'), ('and', 'CONJ'), ('thus', 'ADV'), ('time', 'NOUN'), ('their', 'PRON'), ('pulls', 'PRON'), ('.', '.'), ('It', 'PRON'), ('said', 'VERB'), ('0', 'X'), ('that', 'ADP'), ('volume', 'NOUN'), ('makes', 'VERB'), ('it', 'PRON'), ('the', 'DET'), ('largest', 'ADJ'), ('supplier', 'PRON'), ('of', 'ADP'), ('original', 'ADJ'), ('TV', 'NOUN'), ('programming', 'NOUN'), ('in', 'ADP'), ('Europe', 'NOUN'), ('.', '.'), ('Japan', 'NOUN'), (\"'s\", 'PRT'), ('Fair', 'NOUN'), ('Trade', 'NOUN'), ('Commission', 'NOUN'), ('has', 'VERB'), ('said', 'VERB'), ('0', 'X'), ('it', 'PRON'), ('is', 'VERB'), ('considering', 'VERB'), ('*-1', 'X'), ('investigating', 'VERB'), ('the', 'DET'), ('bids', 'NOUN'), ('for', 'ADP'), ('possible', 'ADJ'), ('antitrust-law', 'PRON'), ('violations', 'NOUN'), ('.', '.'), ('Because', 'ADP'), ('of', 'ADP'), ('deteriorating', 'PRON'), ('hearing', 'NOUN'), (',', '.'), ('she', 'PRON'), ('told', 'VERB'), ('colleagues', 'NOUN'), ('0', 'X'), ('she', 'PRON'), ('feared', 'VERB'), ('0', 'X'), ('she', 'PRON'), ('might', 'VERB'), ('not', 'ADV'), ('be', 'VERB'), ('able', 'ADJ'), ('*-1', 'X'), ('to', 'PRT'), ('teach', 'VERB'), ('much', 'ADV'), ('longer', 'ADV'), ('.', '.'), ('Last', 'ADJ'), ('year', 'NOUN'), (',', '.'), ('it', 'PRON'), ('had', 'VERB'), ('*-1', 'X'), ('to', 'PRT'), ('buy', 'VERB'), ('sugar', 'NOUN'), ('on', 'ADP'), ('the', 'DET'), ('world', 'NOUN'), ('market', 'NOUN'), ('*-2', 'X'), ('to', 'PRT'), ('meet', 'VERB'), ('export', 'NOUN'), ('commitments', 'NOUN'), (',', '.'), ('they', 'PRON'), ('noted', 'VERB'), ('0', 'X'), ('*T*-3', 'X'), ('.', '.'), ('As', 'ADP'), ('a', 'DET'), ('part', 'NOUN'), ('of', 'ADP'), ('overall', 'ADJ'), ('efforts', 'NOUN'), ('*', 'X'), ('to', 'PRT'), ('reduce', 'VERB'), ('spending', 'NOUN'), (',', '.'), ('Congress', 'NOUN'), ('cut', 'VERB'), ('by', 'ADP'), ('$', '.'), ('30', 'NUM'), ('million', 'NUM'), ('*U*', 'X'), ('the', 'DET'), ('Bush', 'NOUN'), ('administration', 'NOUN'), (\"'s\", 'PRT'), ('request', 'NOUN'), ('for', 'ADP'), ('antitrust', 'ADJ'), ('enforcement', 'NOUN'), ('for', 'ADP'), ('fiscal', 'ADJ'), ('1990', 'NUM'), (',', '.'), ('which', 'DET'), ('*T*-81', 'X'), ('began', 'VERB'), ('Oct.', 'NOUN'), ('1', 'NUM'), ('.', '.'), ('Jamaica', 'NOUN'), (',', '.'), ('wary', 'ADJ'), ('of', 'ADP'), ('*', 'X'), ('upsetting', 'PRON'), ('its', 'PRON'), ('Caribbean', 'NOUN'), ('Basin', 'NOUN'), ('allies', 'PRON'), (',', '.'), ('has', 'VERB'), ('apparently', 'ADV'), ('instructed', 'PRON'), ('its', 'PRON'), ('lobbyist', 'PRON'), ('*-2', 'X'), ('to', 'PRT'), ('abandon', 'VERB'), ('the', 'DET'), ('provision', 'NOUN'), ('initially', 'ADV'), ('drafted', 'PRON'), ('*', 'X'), ('by', 'ADP'), ('Mr.', 'NOUN'), ('Gray', 'NOUN'), (',', '.'), ('but', 'CONJ'), ('the', 'DET'), ('greater', 'ADJ'), ('question', 'NOUN'), ('is', 'VERB'), ('whether', 'ADP'), ('Mr.', 'NOUN'), ('Inouye', 'NOUN'), (',', '.'), ('who', 'PRON'), ('*T*-10', 'X'), ('has', 'VERB'), ('strong', 'ADJ'), ('ties', 'NOUN'), ('to', 'PRT'), ('the', 'DET'), ('sugar', 'NOUN'), ('industry', 'NOUN'), (',', '.'), ('is', 'VERB'), ('able', 'ADJ'), ('*-3', 'X'), ('to', 'PRT'), ('insert', 'PRON'), ('a', 'DET'), ('claim', 'NOUN'), ('by', 'ADP'), ('the', 'DET'), ('Philippines', 'NOUN'), ('.', '.'), ('*', 'X'), ('Encouraging', 'PRON'), ('long-term', 'ADJ'), ('investing', 'VERB'), ('.', '.'), ('Mr.', 'NOUN'), ('van', 'NOUN'), ('Dover', 'NOUN'), ('added', 'VERB'), ('that', 'ADP'), ('researchers', 'NOUN'), ('are', 'VERB'), ('trying', 'VERB'), ('*-2', 'X'), ('to', 'PRT'), ('determine', 'VERB'), ('precisely', 'ADV'), ('what', 'PRON'), ('crystal', 'NOUN'), ('changes', 'NOUN'), ('*T*-1', 'X'), ('solved', 'VERB'), ('the', 'DET'), ('problem', 'NOUN'), ('.', '.'), ('Guarantee', 'PRON'), ('by', 'ADP'), ('Dai-Ichi', 'NOUN'), ('Kangyo', 'NOUN'), ('Bank', 'NOUN'), ('Ltd', 'NOUN'), ('.', '.'), ('One', 'NUM'), ('railroad', 'NOUN'), (',', '.'), ('for', 'ADP'), ('example', 'NOUN'), (',', '.'), ('is', 'VERB'), ('already', 'ADV'), ('increasing', 'VERB'), ('its', 'PRON'), ('grain', 'NOUN'), ('hauling', 'PRON'), ('service', 'NOUN'), ('from', 'ADP'), ('Indiana', 'NOUN'), ('to', 'PRT'), ('Baltimore', 'NOUN'), ('.', '.'), ('The', 'DET'), ('Oklahoma', 'NOUN'), ('City', 'NOUN'), ('energy', 'NOUN'), ('and', 'CONJ'), ('defense', 'NOUN'), ('concern', 'NOUN'), ('said', 'VERB'), ('0', 'X'), ('it', 'PRON'), ('will', 'VERB'), ('record', 'NOUN'), ('a', 'DET'), ('$', '.'), ('7.5', 'NUM'), ('million', 'NUM'), ('*U*', 'X'), ('reserve', 'PRON'), ('for', 'ADP'), ('its', 'PRON'), ('defense', 'NOUN'), ('group', 'NOUN'), (',', '.'), ('including', 'VERB'), ('a', 'DET'), ('$', '.'), ('4.7', 'NUM'), ('million', 'NUM'), ('*U*', 'X'), ('charge', 'VERB'), ('related', 'VERB'), ('*', 'X'), ('to', 'PRT'), ('problems', 'NOUN'), ('under', 'ADP'), ('a', 'DET'), ('fixed-price', 'ADJ'), ('development', 'NOUN'), ('contract', 'NOUN'), ('and', 'CONJ'), ('$', '.'), ('2.8', 'NUM'), ('million', 'NUM'), ('*U*', 'X'), ('in', 'ADP'), ('overhead', 'ADJ'), ('costs', 'NOUN'), ('that', 'ADP'), ('*T*-2', 'X'), ('wo', 'VERB'), (\"n't\", 'ADV'), ('be', 'VERB'), ('reimbursed', 'PRON'), ('*-1', 'X'), ('.', '.'), ('Not', 'ADV'), ('included', 'VERB'), ('on', 'ADP'), ('the', 'DET'), ('most-likely-successor', 'PRON'), ('list', 'NOUN'), ('are', 'VERB'), ('Joni', 'PRON'), ('Evans', 'NOUN'), (',', '.'), ('recruited', 'PRON'), ('*', 'X'), ('two', 'NUM'), ('years', 'NOUN'), ('ago', 'ADP'), ('*', 'X'), ('to', 'PRT'), ('be', 'VERB'), ('publisher', 'NOUN'), ('of', 'ADP'), ('adult', 'NOUN'), ('trade', 'NOUN'), ('books', 'NOUN'), ('for', 'ADP'), ('Random', 'NOUN'), ('House', 'NOUN'), (',', '.'), ('and', 'CONJ'), ('Sonny', 'PRON'), ('Mehta', 'NOUN'), (',', '.'), ('president', 'NOUN'), ('of', 'ADP'), ('the', 'DET'), ('prestigious', 'ADJ'), ('Alfred', 'NOUN'), ('A.', 'NOUN'), ('Knopf', 'NOUN'), ('unit', 'NOUN'), ('.', '.'), ('River', 'NOUN'), ('barge', 'NOUN'), ('rates', 'NOUN'), ('have', 'VERB'), ('soared', 'VERB'), ('40', 'NUM'), ('%', 'NOUN'), ('this', 'DET'), ('fall', 'NOUN'), ('from', 'ADP'), ('a', 'DET'), ('year', 'NOUN'), ('earlier', 'ADV'), ('.', '.'), ('Quant', 'PRON'), ('--', '.'), ('Generally', 'PRON'), (',', '.'), ('any', 'DET'), ('Wall', 'NOUN'), ('Street', 'NOUN'), ('analyst', 'NOUN'), ('who', 'PRON'), ('*T*-1', 'X'), ('employs', 'VERB'), ('quantitive', 'PRON'), ('research', 'NOUN'), ('techniques', 'NOUN'), ('.', '.'), ('ROGERS', 'PRON'), ('COMMUNICATIONS', 'PRON'), ('Inc.', 'NOUN'), ('said', 'VERB'), ('0', 'X'), ('it', 'PRON'), ('plans', 'VERB'), ('*-1', 'X'), ('to', 'PRT'), ('raise', 'VERB'), ('175', 'NUM'), ('million', 'NUM'), ('to', 'PRT'), ('180', 'NUM'), ('million', 'NUM'), ('Canadian', 'ADJ'), ('dollars', 'NOUN'), ('-LRB-', '.'), ('US$', '.'), ('148.9', 'PRON'), ('million', 'NUM'), ('to', 'PRT'), ('$', '.'), ('153.3', 'PRON'), ('million', 'NUM'), ('*U*', 'X'), ('-RRB-', '.'), ('through', 'ADP'), ('a', 'DET'), ('private', 'ADJ'), ('placement', 'NOUN'), ('of', 'ADP'), ('perpetual', 'PRON'), ('preferred', 'VERB'), ('shares', 'NOUN'), ('.', '.'), ('*-1', 'X'), ('Funded', 'PRON'), ('*-2', 'X'), ('by', 'ADP'), ('a', 'DET'), ('$', '.'), ('1', 'NUM'), ('million', 'NUM'), ('*U*', 'X'), ('gift', 'NOUN'), ('from', 'ADP'), ('Tokio', 'PRON'), ('Marine', 'NOUN'), ('&', 'CONJ'), ('Fire', 'NOUN'), ('Insurance', 'NOUN'), (',', '.'), ('the', 'DET'), ('service', 'NOUN'), ('will', 'VERB'), ('follow', 'VERB'), ('Japanese', 'ADJ'), ('medical', 'ADJ'), ('protocols', 'PRON'), (',', '.'), ('including', 'VERB'), ('emphasis', 'NOUN'), ('on', 'ADP'), ('preventative', 'PRON'), ('medicine', 'NOUN'), ('.', '.'), ('The', 'DET'), ('word', 'NOUN'), ('dissemination', 'NOUN'), (',', '.'), ('it', 'PRON'), ('decided', 'VERB'), ('0', 'X'), ('*T*-1', 'X'), (',', '.'), ('referred', 'VERB'), ('only', 'ADV'), ('to', 'PRT'), ('itself', 'PRON'), ('.', '.'), ('Gary', 'NOUN'), ('Hoffman', 'PRON'), (',', '.'), ('a', 'DET'), ('Washington', 'NOUN'), ('lawyer', 'NOUN'), ('specializing', 'PRON'), ('in', 'ADP'), ('intellectual-property', 'ADJ'), ('cases', 'NOUN'), (',', '.'), ('said', 'VERB'), ('0', 'X'), ('the', 'DET'), ('threat', 'NOUN'), ('of', 'ADP'), ('U.S.', 'NOUN'), ('retaliation', 'PRON'), (',', '.'), ('combined', 'VERB'), ('*', 'X'), ('with', 'ADP'), ('a', 'DET'), ('growing', 'VERB'), ('recognition', 'NOUN'), ('that', 'ADP'), ('*', 'X'), ('protecting', 'VERB'), ('intellectual', 'ADJ'), ('property', 'NOUN'), ('is', 'VERB'), ('in', 'ADP'), ('a', 'DET'), ('country', 'NOUN'), (\"'s\", 'PRT'), ('own', 'ADJ'), ('interest', 'NOUN'), (',', '.'), ('prompted', 'VERB'), ('the', 'DET'), ('improvements', 'PRON'), ('made', 'VERB'), ('*', 'X'), ('by', 'ADP'), ('South', 'NOUN'), ('Korea', 'NOUN'), (',', '.'), ('Taiwan', 'NOUN'), ('and', 'CONJ'), ('Saudi', 'NOUN'), ('Arabia', 'NOUN'), ('.', '.'), ('``', '.'), ('*-1', 'X'), ('To', 'PRT'), ('ring', 'VERB'), ('for', 'ADP'), ('even', 'ADV'), ('one', 'NUM'), ('service', 'NOUN'), ('at', 'ADP'), ('this', 'DET'), ('tower', 'NOUN'), (',', '.'), ('we', 'PRON'), ('have', 'VERB'), ('*-1', 'X'), ('to', 'PRT'), ('scrape', 'PRON'), (',', '.'), (\"''\", '.'), ('says', 'VERB'), ('*T*-2', 'X'), ('Mr.', 'NOUN'), ('Hammond', 'NOUN'), (',', '.'), ('a', 'DET'), ('retired', 'VERB'), ('water-authority', 'PRON'), ('worker', 'NOUN'), ('.', '.'), ('*-1', 'X'), ('Assuming', 'VERB'), ('0', 'X'), ('it', 'PRON'), ('was', 'VERB'), (\"n't\", 'ADV'), ('one', 'NUM'), ('of', 'ADP'), ('those', 'DET'), ('columns', 'PRON'), ('that', 'ADP'), ('you', 'PRON'), ('clipped', 'PRON'), ('*T*-2', 'X'), ('and', 'CONJ'), ('put', 'VERB'), ('*T*-2', 'X'), ('on', 'ADP'), ('the', 'DET'), ('refrigerator', 'PRON'), ('door', 'NOUN'), (',', '.'), ('I', 'PRON'), (\"'ll\", 'VERB'), ('review', 'NOUN'), ('the', 'DET'), ('facts', 'NOUN'), ('.', '.'), ('Mr.', 'NOUN'), ('Bernstein', 'NOUN'), ('said', 'VERB'), ('0', 'X'), ('he', 'PRON'), ('will', 'VERB'), ('stay', 'VERB'), ('until', 'ADP'), ('Dec.', 'NOUN'), ('31', 'NUM'), ('and', 'CONJ'), ('work', 'NOUN'), ('with', 'ADP'), ('his', 'PRON'), ('successor', 'NOUN'), (',', '.'), ('who', 'PRON'), ('*T*-36', 'X'), ('is', 'VERB'), ('*-1', 'X'), ('to', 'PRT'), ('be', 'VERB'), ('named', 'VERB'), ('*-43', 'X'), ('soon', 'ADV'), ('.', '.'), ('The', 'DET'), ('new', 'ADJ'), ('securities', 'NOUN'), (',', '.'), ('part', 'NOUN'), ('of', 'ADP'), ('the', 'DET'), ('federal', 'ADJ'), ('government', 'NOUN'), (\"'s\", 'PRT'), ('regular', 'ADJ'), ('quarterly', 'ADJ'), ('refunding', 'NOUN'), (',', '.'), ('will', 'VERB'), ('consist', 'VERB'), ('of', 'ADP'), (':', '.'), ('And', 'CONJ'), ('he', 'PRON'), ('plans', 'VERB'), ('*-1', 'X'), ('to', 'PRT'), ('brief', 'ADJ'), ('the', 'DET'), ('president', 'NOUN'), ('at', 'ADP'), ('the', 'DET'), ('end', 'NOUN'), ('of', 'ADP'), ('the', 'DET'), ('week', 'NOUN'), (',', '.'), ('U.S.', 'NOUN'), ('sources', 'NOUN'), ('said', 'VERB'), ('0', 'X'), ('*T*-2', 'X'), ('.', '.'), ('``', '.'), ('We', 'PRON'), ('have', 'VERB'), ('*-1', 'X'), ('to', 'PRT'), ('have', 'VERB'), ('a', 'DET'), ('system', 'NOUN'), ('that', 'ADP'), ('*T*-2', 'X'), ('says', 'VERB'), ('to', 'PRT'), ('those', 'DET'), ('largest', 'ADJ'), ('investors', 'NOUN'), (':', '.'), ('No', 'DET'), ('one', 'NUM'), ('speaks', 'VERB'), (',', '.'), ('and', 'CONJ'), ('the', 'DET'), ('snaking', 'PRON'), ('of', 'ADP'), ('the', 'DET'), ('ropes', 'NOUN'), ('seems', 'VERB'), ('*-1', 'X'), ('to', 'PRT'), ('make', 'VERB'), ('as', 'ADP'), ('much', 'ADJ'), ('sound', 'NOUN'), ('as', 'ADP'), ('the', 'DET'), ('bells', 'NOUN'), ('themselves', 'PRON'), ('*?*', 'X'), (',', '.'), ('*-2', 'X'), ('muffled', 'PRON'), ('*-3', 'X'), ('by', 'ADP'), ('the', 'DET'), ('ceiling', 'NOUN'), ('.', '.'), ('The', 'DET'), ('warrants', 'NOUN'), ('expire', 'VERB'), ('Nov.', 'NOUN'), ('30', 'NUM'), (',', '.'), ('1990', 'NUM'), ('.', '.'), ('So', 'ADV'), ('far', 'ADV'), (',', '.'), ('they', 'PRON'), ('said', 'VERB'), ('0', 'X'), ('*T*-2', 'X'), (',', '.'), ('investors', 'NOUN'), ('appear', 'VERB'), ('unenthusiastic', 'PRON'), ('about', 'ADP'), ('the', 'DET'), ('new', 'ADJ'), ('issue', 'NOUN'), ('which', 'DET'), ('*T*-1', 'X'), ('might', 'VERB'), ('force', 'VERB'), ('the', 'DET'), ('government', 'NOUN'), ('to', 'PRT'), ('raise', 'VERB'), ('the', 'DET'), ('coupon', 'NOUN'), ('to', 'PRT'), ('more', 'ADJ'), ('than', 'ADP'), ('7', 'NUM'), ('%', 'NOUN'), ('.', '.'), ('Fees', 'NOUN'), ('1', 'NUM'), ('3\\\\/4', 'NUM'), ('.', '.'), ('Spirit', 'PRON'), ('of', 'ADP'), ('Perestroika', 'PRON'), ('Touches', 'PRON'), ('Design', 'PRON'), ('World', 'NOUN'), ('A', 'DET'), ('form', 'NOUN'), ('of', 'ADP'), ('asbestos', 'NOUN'), ('once', 'ADV'), ('used', 'VERB'), ('*', 'X'), ('*', 'X'), ('to', 'PRT'), ('make', 'VERB'), ('Kent', 'NOUN'), ('cigarette', 'NOUN'), ('filters', 'NOUN'), ('has', 'VERB'), ('caused', 'VERB'), ('a', 'DET'), ('high', 'ADJ'), ('percentage', 'NOUN'), ('of', 'ADP'), ('cancer', 'NOUN'), ('deaths', 'NOUN'), ('among', 'ADP'), ('a', 'DET'), ('group', 'NOUN'), ('of', 'ADP'), ('workers', 'NOUN'), ('exposed', 'VERB'), ('*', 'X'), ('to', 'PRT'), ('it', 'PRON'), ('more', 'ADJ'), ('than', 'ADP'), ('30', 'NUM'), ('years', 'NOUN'), ('ago', 'ADP'), (',', '.'), ('researchers', 'NOUN'), ('reported', 'VERB'), ('0', 'X'), ('*T*-1', 'X'), ('.', '.'), ('Columbia', 'NOUN'), ('Savings', 'NOUN'), ('&', 'CONJ'), ('Loan', 'NOUN'), ('-LRB-', '.'), ('NYSE', 'PRON'), (';', '.'), ('Symbol', 'PRON'), (':', '.'), ('CSV', 'PRON'), ('-RRB-', '.'), ('The', 'DET'), ('preferred', 'ADJ'), ('stock', 'NOUN'), (',', '.'), ('which', 'DET'), ('*T*-1', 'X'), ('would', 'VERB'), ('have', 'VERB'), ('a', 'DET'), ('dividend', 'NOUN'), ('rate', 'NOUN'), ('of', 'ADP'), ('$', '.'), ('1.76', 'NUM'), ('*U*', 'X'), ('a', 'DET'), ('year', 'NOUN'), (',', '.'), ('would', 'VERB'), ('be', 'VERB'), ('convertible', 'ADJ'), ('into', 'ADP'), ('Heritage', 'NOUN'), ('common', 'ADJ'), ('at', 'ADP'), ('a', 'DET'), ('rate', 'NOUN'), ('of', 'ADP'), ('four', 'NUM'), ('common', 'ADJ'), ('shares', 'NOUN'), ('for', 'ADP'), ('each', 'DET'), ('preferred', 'ADJ'), ('.', '.'), ('In', 'ADP'), ('the', 'DET'), ('past', 'ADJ'), ('decade', 'NOUN'), (',', '.'), ('Japanese', 'ADJ'), ('manufacturers', 'NOUN'), ('concentrated', 'VERB'), ('on', 'ADP'), ('domestic', 'ADJ'), ('production', 'NOUN'), ('for', 'ADP'), ('export', 'NOUN'), ('.', '.'), ('$', '.'), ('107', 'NUM'), ('million', 'NUM'), ('*U*', 'X'), ('of', 'ADP'), ('tax', 'NOUN'), ('allocation', 'NOUN'), ('bonds', 'NOUN'), (',', '.'), ('1989', 'NUM'), ('Series', 'NOUN'), ('A-D', 'PRON'), (',', '.'), ('due', 'ADJ'), ('1991-1999', 'PRON'), (',', '.'), ('2009', 'NUM'), ('and', 'CONJ'), ('2019', 'NUM'), (',', '.'), ('tentatively', 'ADV'), ('priced', 'VERB'), ('*', 'X'), ('by', 'ADP'), ('a', 'DET'), ('Donaldson', 'NOUN'), ('Lufkin', 'NOUN'), ('&', 'CONJ'), ('Jenrette', 'NOUN'), ('Securities', 'NOUN'), ('Corp.', 'NOUN'), ('group', 'NOUN'), ('*', 'X'), ('to', 'PRT'), ('yield', 'VERB'), ('from', 'ADP'), ('6.40', 'NUM'), ('%', 'NOUN'), ('in', 'ADP'), ('1991', 'NUM'), ('to', 'PRT'), ('7.458', 'NUM'), ('%', 'NOUN'), ('in', 'ADP'), ('2019', 'NUM'), ('.', '.'), ('Fees', 'NOUN'), ('2', 'NUM'), ('1\\\\/4', 'NUM'), ('.', '.'), ('``', '.'), ('That', 'DET'), ('attracts', 'PRON'), ('attention', 'NOUN'), ('...', '.'), ('Until', 'ADP'), ('now', 'ADV'), (',', '.'), ('however', 'ADV'), (',', '.'), ('buyers', 'NOUN'), ('who', 'PRON'), ('*T*-53', 'X'), ('wanted', 'VERB'), ('*-1', 'X'), ('to', 'PRT'), ('finance', 'VERB'), ('part', 'NOUN'), ('of', 'ADP'), ('a', 'DET'), ('car', 'NOUN'), ('purchase', 'NOUN'), ('through', 'ADP'), ('General', 'NOUN'), ('Motors', 'NOUN'), ('Acceptance', 'NOUN'), ('Corp.', 'NOUN'), ('could', 'VERB'), (\"n't\", 'ADV'), ('put', 'VERB'), ('their', 'PRON'), ('down', 'ADV'), ('payment', 'NOUN'), ('on', 'ADP'), ('a', 'DET'), ('charge', 'NOUN'), ('card', 'NOUN'), ('because', 'ADP'), ('of', 'ADP'), ('possible', 'ADJ'), ('conflicts', 'NOUN'), ('with', 'ADP'), ('truth-in-lending', 'PRON'), ('and', 'CONJ'), ('state', 'NOUN'), ('disclosure', 'NOUN'), ('laws', 'NOUN'), ('over', 'ADP'), ('finance', 'NOUN'), ('rates', 'NOUN'), (',', '.'), ('says', 'VERB'), ('*T*-2', 'X'), ('a', 'DET'), ('spokesman', 'NOUN'), ('for', 'ADP'), ('the', 'DET'), ('GM', 'NOUN'), ('finance', 'NOUN'), ('arm', 'NOUN'), ('.', '.'), ('The', 'DET'), ('newly', 'ADV'), ('fattened', 'PRON'), ('premiums', 'NOUN'), ('reflect', 'VERB'), ('the', 'DET'), ('increasingly', 'ADV'), ('global', 'ADJ'), ('marketing', 'NOUN'), ('of', 'ADP'), ('some', 'DET'), ('country', 'NOUN'), ('funds', 'NOUN'), (',', '.'), ('Mr.', 'NOUN'), ('Porter', 'NOUN'), ('suggests', 'VERB'), ('0', 'X'), ('*T*-1', 'X'), ('.', '.'), ('``', '.'), ('It', 'PRON'), ('*EXP*-1', 'X'), (\"'s\", 'PRT'), ('hard', 'ADJ'), ('*', 'X'), ('to', 'PRT'), ('explain', 'VERB'), ('to', 'PRT'), ('a', 'DET'), ('17-year-old', 'PRON'), ('why', 'ADV'), ('someone', 'NOUN'), ('0', 'X'), ('they', 'PRON'), ('like', 'VERB'), ('*T*-2', 'X'), ('had', 'VERB'), ('*-3', 'X'), ('to', 'PRT'), ('go', 'VERB'), (',', '.'), (\"''\", '.'), ('says', 'VERB'), ('*T*-4', 'X'), ('Mrs.', 'NOUN'), ('Ward', 'NOUN'), ('.', '.'), ('``', '.'), ('All', 'DET'), ('of', 'ADP'), ('these', 'DET'), ('forces', 'NOUN'), ('came', 'VERB'), ('together', 'ADV'), ('in', 'ADP'), ('1988', 'NUM'), ('*', 'X'), ('to', 'PRT'), ('benefit', 'VERB'), ('agriculture', 'PRON'), (',', '.'), (\"''\", '.'), ('Mr.', 'NOUN'), ('Collins', 'NOUN'), ('said', 'VERB'), ('*T*-1', 'X'), ('.', '.'), ('*', 'X'), ('Choose', 'PRON'), ('203', 'NUM'), ('business', 'NOUN'), ('executives', 'NOUN'), (',', '.'), ('including', 'VERB'), (',', '.'), ('perhaps', 'ADV'), (',', '.'), ('someone', 'NOUN'), ('from', 'ADP'), ('your', 'PRON'), ('own', 'ADJ'), ('staff', 'NOUN'), (',', '.'), ('and', 'CONJ'), ('*', 'X'), ('put', 'VERB'), ('them', 'PRON'), ('out', 'PRT'), ('on', 'ADP'), ('the', 'DET'), ('streets', 'NOUN'), (',', '.'), ('*-1', 'X'), ('to', 'PRT'), ('be', 'VERB'), ('deprived', 'PRON'), ('*-24', 'X'), ('for', 'ADP'), ('one', 'NUM'), ('month', 'NOUN'), ('of', 'ADP'), ('their', 'PRON'), ('homes', 'NOUN'), (',', '.'), ('families', 'PRON'), ('and', 'CONJ'), ('income', 'NOUN'), ('.', '.'), ('A', 'DET'), ('few', 'ADJ'), ('years', 'NOUN'), ('ago', 'ADP'), (',', '.'), ('the', 'DET'), ('company', 'NOUN'), ('offered', 'VERB'), ('two', 'NUM'), ('round-trip', 'PRON'), ('tickets', 'NOUN'), ('on', 'ADP'), ('Trans', 'PRON'), ('World', 'NOUN'), ('Airlines', 'NOUN'), ('to', 'PRT'), ('buyers', 'NOUN'), ('of', 'ADP'), ('its', 'PRON'), ('Riviera', 'NOUN'), ('luxury', 'NOUN'), ('car', 'NOUN'), ('.', '.'), ('The', 'DET'), ('House', 'NOUN'), ('voted', 'VERB'), ('*-1', 'X'), ('to', 'PRT'), ('boost', 'VERB'), ('the', 'DET'), ('federal', 'ADJ'), ('minimum', 'ADJ'), ('wage', 'NOUN'), ('for', 'ADP'), ('the', 'DET'), ('first', 'ADJ'), ('time', 'NOUN'), ('since', 'ADP'), ('early', 'ADJ'), ('1981', 'NUM'), (',', '.'), ('*-1', 'X'), ('casting', 'VERB'), ('a', 'DET'), ('solid', 'ADJ'), ('382-37', 'PRON'), ('vote', 'VERB'), ('for', 'ADP'), ('a', 'DET'), ('compromise', 'NOUN'), ('measure', 'NOUN'), ('backed', 'VERB'), ('*', 'X'), ('by', 'ADP'), ('President', 'NOUN'), ('Bush', 'NOUN'), ('.', '.'), ('Most', 'ADJ'), ('of', 'ADP'), ('the', 'DET'), ('volume', 'NOUN'), ('came', 'VERB'), ('from', 'ADP'), ('trades', 'NOUN'), ('designed', 'VERB'), ('*', 'X'), ('*', 'X'), ('to', 'PRT'), ('capture', 'VERB'), ('the', 'DET'), ('stock', 'NOUN'), (\"'s\", 'PRT'), ('next', 'ADJ'), ('dividend', 'NOUN'), (';', '.'), ('Texaco', 'NOUN'), ('has', 'VERB'), ('a', 'DET'), ('yield', 'NOUN'), ('of', 'ADP'), ('5.6', 'PRON'), ('%', 'NOUN'), ('and', 'CONJ'), ('goes', 'VERB'), ('ex-dividend', 'PRON'), ('today', 'NOUN'), ('.', '.'), ('Numerous', 'PRON'), ('other', 'ADJ'), ('scandals', 'PRON'), (',', '.'), ('among', 'ADP'), ('them', 'PRON'), ('the', 'DET'), ('ones', 'NOUN'), ('at', 'ADP'), ('HUD', 'PRON'), (',', '.'), ('have', 'VERB'), ('the', 'DET'), ('same', 'ADJ'), ('characteristics', 'PRON'), ('as', 'ADP'), ('Wedtech', 'NOUN'), ('.', '.'), ('Volume', 'NOUN'), ('totaled', 'VERB'), ('11,390,000', 'PRON'), ('shares', 'NOUN'), ('.', '.'), ('Tray', 'PRON'), ('Bon', 'PRON'), ('?', '.'), ('``', '.'), ('I', 'PRON'), ('do', 'VERB'), (\"n't\", 'ADV'), ('want', 'VERB'), ('*-1', 'X'), ('to', 'PRT'), ('denounce', 'VERB'), ('it', 'PRON'), ('because', 'ADP'), ('*', 'X'), ('denouncing', 'PRON'), ('it', 'PRON'), ('would', 'VERB'), ('be', 'VERB'), ('like', 'ADP'), ('*', 'X'), ('denouncing', 'PRON'), ('capitalism', 'PRON'), (',', '.'), (\"''\", '.'), ('he', 'PRON'), ('explains', 'VERB'), ('*T*-2', 'X'), ('.', '.'), ('``', '.'), ('I', 'PRON'), (\"'m\", 'VERB'), ('very', 'ADV'), ('alarmed', 'PRON'), ('*-2', 'X'), ('to', 'PRT'), ('see', 'VERB'), ('these', 'DET'), ('rich', 'ADJ'), ('valuations', 'PRON'), (',', '.'), (\"''\", '.'), ('says', 'VERB'), ('*T*-1', 'X'), ('Smith', 'NOUN'), ('Barney', 'NOUN'), (\"'s\", 'PRT'), ('Mr.', 'NOUN'), ('Porter', 'NOUN'), ('.', '.'), ('In', 'ADP'), ('the', 'DET'), ('tower', 'NOUN'), (',', '.'), ('five', 'NUM'), ('men', 'NOUN'), ('and', 'CONJ'), ('women', 'NOUN'), ('pull', 'VERB'), ('rhythmically', 'PRON'), ('on', 'ADP'), ('ropes', 'NOUN'), ('attached', 'VERB'), ('*', 'X'), ('to', 'PRT'), ('the', 'DET'), ('same', 'ADJ'), ('five', 'NUM'), ('bells', 'NOUN'), ('that', 'ADP'), ('*T*-220', 'PRON'), ('first', 'ADJ'), ('sounded', 'VERB'), ('here', 'ADV'), ('in', 'ADP'), ('1614', 'PRON'), ('.', '.'), ('By', 'ADP'), ('comparison', 'NOUN'), (',', '.'), ('for', 'ADP'), ('the', 'DET'), ('first', 'ADJ'), ('nine', 'NUM'), ('months', 'NOUN'), (',', '.'), ('Xerox', 'NOUN'), ('earned', 'VERB'), ('$', '.'), ('492', 'PRON'), ('million', 'NUM'), ('*U*', 'X'), (',', '.'), ('or', 'CONJ'), ('$', '.'), ('4.55', 'PRON'), ('*U*', 'X'), ('a', 'DET'), ('share', 'NOUN'), (',', '.'), ('on', 'ADP'), ('revenue', 'NOUN'), ('of', 'ADP'), ('$', '.'), ('12.97', 'PRON'), ('billion', 'NUM'), ('*U*', 'X'), ('.', '.'), ('Transamerica', 'NOUN'), ('said', 'VERB'), ('0', 'X'), ('third-quarter', 'NOUN'), ('investment', 'NOUN'), ('gains', 'NOUN'), ('were', 'VERB'), ('$', '.'), ('10.2', 'NUM'), ('million', 'NUM'), ('*U*', 'X'), (',', '.'), ('compared', 'VERB'), ('with', 'ADP'), ('$', '.'), ('6.4', 'PRON'), ('million', 'NUM'), ('*U*', 'X'), ('the', 'DET'), ('year', 'NOUN'), ('earlier', 'ADV'), ('.', '.'), ('The', 'DET'), ('Treasury', 'NOUN'), ('will', 'VERB'), ('raise', 'VERB'), ('$', '.'), ('10', 'NUM'), ('billion', 'NUM'), ('*U*', 'X'), ('in', 'ADP'), ('fresh', 'ADJ'), ('cash', 'NOUN'), ('by', 'ADP'), ('*-1', 'X'), ('selling', 'VERB'), ('$', '.'), ('30', 'NUM'), ('billion', 'NUM'), ('*U*', 'X'), ('of', 'ADP'), ('securities', 'NOUN'), (',', '.'), ('including', 'VERB'), ('$', '.'), ('10', 'NUM'), ('billion', 'NUM'), ('*U*', 'X'), ('of', 'ADP'), ('new', 'ADJ'), ('three-year', 'ADJ'), ('notes', 'NOUN'), ('and', 'CONJ'), ('$', '.'), ('10', 'NUM'), ('billion', 'NUM'), ('*U*', 'X'), ('of', 'ADP'), ('new', 'ADJ'), ('10-year', 'ADJ'), ('notes', 'NOUN'), ('.', '.'), ('Oil', 'NOUN'), ('production', 'NOUN'), ('from', 'ADP'), ('Australia', 'NOUN'), (\"'s\", 'PRT'), ('Bass', 'NOUN'), ('Strait', 'PRON'), ('fields', 'NOUN'), ('will', 'VERB'), ('be', 'VERB'), ('raised', 'VERB'), ('*-34', 'X'), ('by', 'ADP'), ('11,000', 'NUM'), ('barrels', 'NOUN'), ('a', 'DET'), ('day', 'NOUN'), ('to', 'PRT'), ('about', 'ADP'), ('321,000', 'PRON'), ('barrels', 'NOUN'), ('with', 'ADP'), ('the', 'DET'), ('launch', 'NOUN'), ('of', 'ADP'), ('the', 'DET'), ('Whiting', 'NOUN'), ('field', 'NOUN'), (',', '.'), ('the', 'DET'), ('first', 'ADJ'), ('of', 'ADP'), ('five', 'NUM'), ('small', 'ADJ'), ('fields', 'NOUN'), ('scheduled', 'VERB'), ('*', 'X'), ('to', 'PRT'), ('be', 'VERB'), ('brought', 'VERB'), ('*-35', 'X'), ('into', 'ADP'), ('production', 'NOUN'), ('before', 'ADP'), ('the', 'DET'), ('end', 'NOUN'), ('of', 'ADP'), ('1990', 'NUM'), ('.', '.'), ('On', 'ADP'), ('Tuesday', 'NOUN'), (',', '.'), ('the', 'DET'), ('judge', 'NOUN'), ('called', 'VERB'), ('a', 'DET'), ('news', 'NOUN'), ('conference', 'NOUN'), ('*-1', 'X'), ('to', 'PRT'), ('say', 'VERB'), ('0', 'X'), ('he', 'PRON'), ('was', 'VERB'), ('quitting', 'PRON'), ('*', 'X'), ('effective', 'ADJ'), ('Dec.', 'NOUN'), ('31', 'NUM'), ('*-2', 'X'), ('to', 'PRT'), ('join', 'VERB'), ('a', 'DET'), ('San', 'NOUN'), ('Francisco', 'NOUN'), ('law', 'NOUN'), ('firm', 'NOUN'), ('.', '.'), ('``', '.'), ('Argentina', 'NOUN'), ('aspires', 'PRON'), ('*-2', 'X'), ('to', 'PRT'), ('reach', 'VERB'), ('a', 'DET'), ('reduction', 'NOUN'), ('of', 'ADP'), ('50', 'NUM'), ('%', 'NOUN'), ('in', 'ADP'), ('the', 'DET'), ('value', 'NOUN'), ('of', 'ADP'), ('its', 'PRON'), ('external', 'PRON'), ('debt', 'NOUN'), (',', '.'), (\"''\", '.'), ('Mr.', 'NOUN'), ('Rapanelli', 'NOUN'), ('said', 'VERB'), ('*T*-1', 'X'), ('through', 'ADP'), ('his', 'PRON'), ('spokesman', 'NOUN'), (',', '.'), ('Miguel', 'PRON'), ('Alurralde', 'PRON'), ('.', '.'), ('For', 'ADP'), ('the', 'DET'), ('year', 'NOUN'), (',', '.'), ('*-1', 'X'), ('bolstered', 'VERB'), ('*-2', 'X'), ('by', 'ADP'), ('the', 'DET'), ('introduction', 'NOUN'), ('of', 'ADP'), ('the', 'DET'), ('Colorliner', 'PRON'), ('newspaper-printing', 'PRON'), ('press', 'NOUN'), (',', '.'), ('graphics', 'PRON'), ('earnings', 'NOUN'), ('almost', 'ADV'), ('doubled', 'VERB'), ('.', '.'), ('They', 'PRON'), ('are', 'VERB'), ('better', 'ADV'), ('able', 'ADJ'), ('*-1', 'X'), ('to', 'PRT'), ('get', 'VERB'), ('to', 'PRT'), ('those', 'DET'), ('segments', 'NOUN'), ('in', 'ADP'), ('the', 'DET'), ('wake', 'NOUN'), ('of', 'ADP'), ('the', 'DET'), ('deregulation', 'PRON'), ('that', 'ADP'), ('*T*-200', 'PRON'), ('began', 'VERB'), ('in', 'ADP'), ('the', 'DET'), ('late', 'ADJ'), ('1970s', 'NUM'), ('.', '.'), ('But', 'CONJ'), ('most', 'ADJ'), ('said', 'VERB'), ('0', 'X'), ('the', 'DET'), ('index', 'NOUN'), ('had', 'VERB'), ('no', 'DET'), ('more', 'ADJ'), ('than', 'ADP'), ('a', 'DET'), ('minimal', 'PRON'), ('effect', 'NOUN'), ('on', 'ADP'), ('trade', 'NOUN'), ('.', '.'), ('Last', 'ADJ'), ('October', 'NOUN'), (',', '.'), ('the', 'DET'), ('company', 'NOUN'), ('also', 'ADV'), ('bought', 'VERB'), ('a', 'DET'), ('wheel-loader', 'PRON'), ('manufacturing', 'VERB'), ('plant', 'NOUN'), ('in', 'ADP'), ('Heidelberg', 'PRON'), (',', '.'), ('West', 'NOUN'), ('Germany', 'NOUN'), (',', '.'), ('from', 'ADP'), ('Dresser', 'NOUN'), ('.', '.'), ('In', 'ADP'), ('addition', 'NOUN'), (',', '.'), ('it', 'PRON'), ('is', 'VERB'), ('believed', 'VERB'), ('*-1', 'X'), ('to', 'PRT'), ('offer', 'NOUN'), ('a', 'DET'), ('cost-sharing', 'NOUN'), ('mechanism', 'NOUN'), ('that', 'ADP'), ('*T*-2', 'X'), ('would', 'VERB'), ('help', 'VERB'), ('*-3', 'X'), ('subsidize', 'PRON'), ('the', 'DET'), ('clean-up', 'PRON'), ('costs', 'NOUN'), ('for', 'ADP'), ('the', 'DET'), ('dirtiest', 'ADJ'), ('coal-fired', 'PRON'), ('utilities', 'NOUN'), ('in', 'ADP'), ('the', 'DET'), ('country', 'NOUN'), (',', '.'), ('*-3', 'X'), ('sparing', 'PRON'), ('their', 'PRON'), ('customers', 'NOUN'), ('from', 'ADP'), ('exorbitant', 'PRON'), ('jumps', 'PRON'), ('in', 'ADP'), ('their', 'PRON'), ('electric', 'ADJ'), ('bills', 'NOUN'), ('.', '.'), ('A', 'DET'), ('marketing', 'NOUN'), ('study', 'NOUN'), ('indicates', 'VERB'), ('that', 'ADP'), ('Hong', 'NOUN'), ('Kong', 'NOUN'), ('consumers', 'NOUN'), ('are', 'VERB'), ('the', 'DET'), ('most', 'ADJ'), ('materialistic', 'ADJ'), ('in', 'ADP'), ('the', 'DET'), ('14', 'NUM'), ('major', 'ADJ'), ('markets', 'NOUN'), ('where', 'ADV'), ('the', 'DET'), ('survey', 'NOUN'), ('was', 'VERB'), ('carried', 'VERB'), ('out', 'PRT'), ('*T*-1', 'X'), ('.', '.'), ('The', 'DET'), ('Japanese', 'ADJ'), ('retort', 'PRON'), ('that', 'ADP'), ('the', 'DET'), ('first', 'ADJ'), ('round', 'NOUN'), ('was', 'VERB'), ('too', 'ADV'), ('early', 'ADJ'), ('*', 'X'), ('to', 'PRT'), ('make', 'VERB'), ('concessions', 'PRON'), ('.', '.'), ('Colleges', 'PRON'), (',', '.'), ('she', 'PRON'), ('says', 'VERB'), ('0', 'X'), ('*T*-1', 'X'), (',', '.'), ('are', 'VERB'), ('eyeing', 'PRON'), ('registration', 'NOUN'), ('through', 'ADP'), ('900', 'NUM'), ('service', 'NOUN'), ('.', '.'), ('The', 'DET'), ('discount', 'NOUN'), ('rate', 'NOUN'), ('on', 'ADP'), ('three-month', 'PRON'), ('Treasury', 'NOUN'), ('bills', 'NOUN'), ('was', 'VERB'), ('essentially', 'ADV'), ('unchanged', 'ADJ'), ('at', 'ADP'), ('7.79', 'PRON'), ('%', 'NOUN'), (',', '.'), ('while', 'ADP'), ('the', 'DET'), ('rate', 'NOUN'), ('on', 'ADP'), ('six-month', 'ADJ'), ('bills', 'NOUN'), ('was', 'VERB'), ('slightly', 'ADV'), ('lower', 'ADJ'), ('at', 'ADP'), ('7.52', 'PRON'), ('%', 'NOUN'), ('compared', 'VERB'), ('with', 'ADP'), ('7.60', 'PRON'), ('%', 'NOUN'), ('Tuesday', 'NOUN'), ('.', '.'), ('They', 'PRON'), ('are', 'VERB'), ('our', 'PRON'), ('version', 'NOUN'), ('of', 'ADP'), ('the', 'DET'), ('East', 'NOUN'), ('bloc', 'PRON'), (\"'s\", 'VERB'), ('Nomenklatura', 'PRON'), ('and', 'CONJ'), ('they', 'PRON'), ('have', 'VERB'), ('absolutely', 'ADV'), ('no', 'DET'), ('wish', 'NOUN'), ('*', 'X'), ('to', 'PRT'), ('see', 'VERB'), ('anything', 'NOUN'), ('change', 'NOUN'), ('.', '.'), ('Farmers', 'NOUN'), ('are', 'VERB'), ('in', 'ADP'), ('the', 'DET'), ('best', 'ADJ'), ('position', 'NOUN'), ('of', 'ADP'), ('many', 'ADJ'), ('years', 'NOUN'), ('0', 'X'), ('*', 'X'), ('to', 'PRT'), ('push', 'VERB'), ('up', 'ADV'), ('corn', 'NOUN'), ('prices', 'NOUN'), ('*T*-1', 'X'), ('.', '.'), ('Earlier', 'ADV'), ('this', 'DET'), ('year', 'NOUN'), (',', '.'), ('Japanese', 'ADJ'), ('investors', 'NOUN'), ('snapped', 'VERB'), ('up', 'ADV'), ('a', 'DET'), ('similar', 'ADJ'), (',', '.'), ('$', '.'), ('570', 'PRON'), ('million', 'NUM'), ('*U*', 'X'), ('mortgage-backed', 'ADJ'), ('securities', 'NOUN'), ('mutual', 'ADJ'), ('fund', 'NOUN'), ('.', '.'), ('Japan', 'NOUN'), (\"'s\", 'PRT'), ('domestic', 'ADJ'), ('sales', 'NOUN'), ('of', 'ADP'), ('cars', 'NOUN'), (',', '.'), ('trucks', 'NOUN'), ('and', 'CONJ'), ('buses', 'NOUN'), ('in', 'ADP'), ('October', 'NOUN'), ('rose', 'VERB'), ('18', 'NUM'), ('%', 'NOUN'), ('from', 'ADP'), ('a', 'DET'), ('year', 'NOUN'), ('earlier', 'ADV'), ('to', 'PRT'), ('500,004', 'PRON'), ('units', 'NOUN'), (',', '.'), ('a', 'DET'), ('record', 'NOUN'), ('for', 'ADP'), ('the', 'DET'), ('month', 'NOUN'), (',', '.'), ('the', 'DET'), ('Japan', 'NOUN'), ('Automobile', 'PRON'), ('Dealers', 'NOUN'), (\"'\", 'PRT'), ('Association', 'NOUN'), ('said', 'VERB'), ('0', 'X'), ('*T*-1', 'X'), ('.', '.'), ('The', 'DET'), ('Treasury', 'NOUN'), ('said', 'VERB'), ('0', 'X'), ('it', 'PRON'), ('needs', 'VERB'), ('*-1', 'X'), ('to', 'PRT'), ('raise', 'VERB'), ('$', '.'), ('47.5', 'PRON'), ('billion', 'NUM'), ('*U*', 'X'), ('in', 'ADP'), ('the', 'DET'), ('current', 'ADJ'), ('quarter', 'NOUN'), ('in', 'ADP'), ('order', 'NOUN'), ('*-1', 'X'), ('to', 'PRT'), ('end', 'VERB'), ('December', 'NOUN'), ('with', 'ADP'), ('a', 'DET'), ('$', '.'), ('20', 'NUM'), ('billion', 'NUM'), ('*U*', 'X'), ('cash', 'NOUN'), ('balance', 'NOUN'), ('.', '.'), ('The', 'DET'), ('man', 'NOUN'), ('had', 'VERB'), ('for', 'ADP'), ('a', 'DET'), ('long', 'ADJ'), ('time', 'NOUN'), ('had', 'VERB'), ('``', '.'), ('a', 'DET'), ('chaotic', 'PRON'), ('sex', 'NOUN'), ('life', 'NOUN'), (',', '.'), (\"''\", '.'), ('including', 'VERB'), ('relations', 'NOUN'), ('with', 'ADP'), ('foreign', 'ADJ'), ('men', 'NOUN'), (',', '.'), ('the', 'DET'), ('newspaper', 'NOUN'), ('said', 'VERB'), ('0', 'X'), ('*T*-1', 'X'), ('.', '.'), ('Upjohn', 'NOUN'), (',', '.'), ('a', 'DET'), ('rumored', 'VERB'), ('target', 'VERB'), ('within', 'ADP'), ('the', 'DET'), ('drug', 'NOUN'), ('industry', 'NOUN'), (',', '.'), ('advanced', 'VERB'), ('7\\\\/8', 'NUM'), ('to', 'PRT'), ('38', 'NUM'), ('7\\\\/8', 'NUM'), ('.', '.'), ('The', 'DET'), ('utility', 'NOUN'), ('has', 'VERB'), ('been', 'VERB'), ('collecting', 'PRON'), ('for', 'ADP'), ('the', 'DET'), ('plant', 'NOUN'), (\"'s\", 'PRT'), ('construction', 'NOUN'), ('cost', 'NOUN'), ('from', 'ADP'), ('its', 'PRON'), ('3.1', 'NUM'), ('million', 'NUM'), ('customers', 'NOUN'), ('subject', 'NOUN'), ('to', 'PRT'), ('a', 'DET'), ('refund', 'NOUN'), ('since', 'ADP'), ('1986', 'NUM'), ('.', '.'), ('Among', 'ADP'), ('other', 'ADJ'), ('things', 'NOUN'), (',', '.'), ('it', 'PRON'), ('included', 'VERB'), ('checking', 'NOUN'), (',', '.'), ('safe', 'PRON'), ('deposit', 'NOUN'), ('box', 'NOUN'), ('and', 'CONJ'), ('credit', 'NOUN'), ('card', 'NOUN'), ('--', '.'), ('all', 'DET'), ('for', 'ADP'), ('free', 'ADJ'), ('--', '.'), ('plus', 'CONJ'), ('a', 'DET'), ('good', 'ADJ'), ('deal', 'NOUN'), ('on', 'ADP'), ('installment', 'NOUN'), ('loans', 'NOUN'), ('.', '.'), ('The', 'DET'), ('graphics', 'PRON'), ('business', 'NOUN'), (',', '.'), ('which', 'DET'), ('*T*-2', 'X'), ('also', 'ADV'), ('was', 'VERB'), ('singled', 'PRON'), ('out', 'PRT'), ('*-1', 'X'), ('by', 'ADP'), ('the', 'DET'), ('chairman', 'NOUN'), ('as', 'ADP'), ('a', 'DET'), ('positive', 'ADJ'), (',', '.'), ('saw', 'VERB'), ('its', 'PRON'), ('operating', 'VERB'), ('earnings', 'NOUN'), ('for', 'ADP'), ('the', 'DET'), ('quarter', 'NOUN'), ('jump', 'VERB'), ('79', 'PRON'), ('%', 'NOUN'), ('to', 'PRT'), ('$', '.'), ('42.1', 'PRON'), ('million', 'NUM'), ('*U*', 'X'), ('from', 'ADP'), ('$', '.'), ('23.5', 'NUM'), ('million', 'NUM'), ('*U*', 'X'), ('.', '.'), ('``', '.'), ('Now', 'ADV'), (',', '.'), (\"''\", '.'), ('says', 'VERB'), ('*T*-1', 'X'), ('Joseph', 'NOUN'), ('Napolitan', 'PRON'), (',', '.'), ('a', 'DET'), ('pioneer', 'NOUN'), ('in', 'ADP'), ('political', 'ADJ'), ('television', 'NOUN'), (',', '.'), ('``', '.'), ('the', 'DET'), ('idea', 'NOUN'), ('is', 'VERB'), ('*', 'X'), ('to', 'PRT'), ('attack', 'NOUN'), ('first', 'ADJ'), (',', '.'), ('last', 'ADJ'), ('and', 'CONJ'), ('always', 'ADV'), ('.', '.'), (\"''\", '.'), ('That', 'DET'), ('process', 'NOUN'), ('of', 'ADP'), ('*', 'X'), ('sorting', 'PRON'), ('out', 'PRT'), ('specifics', 'PRON'), ('is', 'VERB'), ('likely', 'ADJ'), ('*-1', 'X'), ('to', 'PRT'), ('take', 'VERB'), ('time', 'NOUN'), (',', '.'), ('the', 'DET'), ('Japanese', 'ADJ'), ('say', 'VERB'), ('0', 'X'), ('*T*-2', 'X'), (',', '.'), ('no', 'DET'), ('matter', 'NOUN'), ('how', 'ADV'), ('badly', 'ADV'), ('the', 'DET'), ('U.S.', 'NOUN'), ('wants', 'VERB'), ('quick', 'ADJ'), ('results', 'NOUN'), ('*T*-3', 'X'), ('.', '.'), ('The', 'DET'), ('Chicago', 'NOUN'), ('Merc', 'NOUN'), ('plans', 'VERB'), ('an', 'DET'), ('additional', 'ADJ'), ('``', '.'), ('circuit', 'NOUN'), ('breaker', 'NOUN'), (\"''\", '.'), ('0', 'X'), ('*', 'X'), ('to', 'PRT'), ('stem', 'VERB'), ('sharp', 'ADJ'), ('drops', 'PRON'), ('in', 'ADP'), ('the', 'DET'), ('market', 'NOUN'), ('*T*-1', 'X'), ('.', '.'), ('Foreign', 'NOUN'), ('Bond', 'NOUN'), ('The', 'DET'), ('program', 'NOUN'), ('not', 'ADV'), ('only', 'ADV'), ('offers', 'VERB'), ('a', 'DET'), ('pre-approved', 'PRON'), ('car', 'NOUN'), ('loan', 'NOUN'), ('up', 'PRT'), ('to', 'PRT'), ('$', '.'), ('18,000', 'NUM'), ('*U*', 'X'), (',', '.'), ('but', 'CONJ'), ('throws', 'VERB'), ('in', 'ADP'), ('a', 'DET'), ('special', 'ADJ'), ('cash-flow', 'ADJ'), ('statement', 'NOUN'), ('0', 'X'), ('*T*-1', 'X'), ('to', 'PRT'), ('help', 'VERB'), ('in', 'ADP'), ('*', 'X'), ('saving', 'PRON'), ('money', 'NOUN'), ('.', '.'), ('Something', 'PRON'), ('like', 'VERB'), ('one-third', 'ADJ'), ('of', 'ADP'), ('the', 'DET'), ('nation', 'NOUN'), (\"'s\", 'PRT'), ('60', 'NUM'), ('largest', 'ADJ'), ('cities', 'NOUN'), ('*ICH*-1', 'X'), ('are', 'VERB'), ('thinking', 'VERB'), ('about', 'ADP'), ('new', 'ADJ'), ('stadiums', 'NOUN'), (',', '.'), ('ranging', 'PRON'), ('from', 'ADP'), ('Cleveland', 'NOUN'), ('to', 'PRT'), ('San', 'NOUN'), ('Antonio', 'NOUN'), ('and', 'CONJ'), ('St.', 'NOUN'), ('Petersburg', 'PRON'), ('.', '.'), ('The', 'DET'), ('rating', 'NOUN'), ('concern', 'NOUN'), ('said', 'VERB'), ('0', 'X'), ('the', 'DET'), ('textile', 'NOUN'), ('and', 'CONJ'), ('clothing', 'PRON'), ('company', 'NOUN'), (\"'s\", 'PRT'), ('interest', 'NOUN'), ('expense', 'PRON'), ('exceeds', 'PRON'), ('operating', 'VERB'), ('profit', 'NOUN'), ('``', '.'), ('by', 'ADP'), ('a', 'DET'), ('wide', 'ADJ'), ('margin', 'NOUN'), (\"''\", '.'), ('and', 'CONJ'), ('it', 'PRON'), ('noted', 'VERB'), ('United', 'NOUN'), (\"'s\", 'PRT'), ('estimated', 'VERB'), ('after-tax', 'ADJ'), ('loss', 'NOUN'), ('of', 'ADP'), ('$', '.'), ('24', 'NUM'), ('million', 'NUM'), ('*U*', 'X'), ('for', 'ADP'), ('the', 'DET'), ('year', 'NOUN'), ('ended', 'VERB'), ('June', 'NOUN'), ('30', 'NUM'), ('.', '.'), ('DISCOUNT', 'PRON'), ('RATE', 'NOUN'), (':', '.'), ('7', 'NUM'), ('%', 'NOUN'), ('.', '.'), ('``', '.'), ('Crime', 'PRON'), ('was', 'VERB'), ('awful', 'PRON'), (',', '.'), ('test', 'NOUN'), ('scores', 'NOUN'), ('were', 'VERB'), ('low', 'ADJ'), (',', '.'), ('and', 'CONJ'), ('there', 'DET'), ('was', 'VERB'), ('no', 'DET'), ('enrollment', 'PRON'), ('in', 'ADP'), ('honors', 'PRON'), ('programs', 'NOUN'), ('.', '.'), (\"''\", '.'), ('The', 'DET'), ('California', 'NOUN'), ('Supreme', 'NOUN'), ('Court', 'NOUN'), ('last', 'ADJ'), ('year', 'NOUN'), ('reversed', 'PRON'), ('direction', 'NOUN'), ('*-1', 'X'), ('to', 'PRT'), ('make', 'VERB'), ('it', 'PRON'), ('*EXP*-2', 'X'), ('much', 'ADV'), ('harder', 'ADJ'), ('*', 'X'), ('to', 'PRT'), ('win', 'VERB'), ('DES', 'NOUN'), ('cases', 'NOUN'), ('because', 'ADP'), ('the', 'DET'), ('justices', 'NOUN'), ('saw', 'VERB'), ('how', 'ADV'), ('all', 'DET'), ('the', 'DET'), ('pharmaceutical', 'ADJ'), ('litigation', 'NOUN'), ('has', 'VERB'), ('chilled', 'PRON'), ('the', 'DET'), ('introduction', 'NOUN'), ('of', 'ADP'), ('new', 'ADJ'), ('drugs', 'NOUN'), ('*T*-3', 'X'), ('.', '.'), ('Traders', 'NOUN'), ('profit', 'NOUN'), ('by', 'ADP'), ('*-1', 'X'), ('trying', 'VERB'), ('*-2', 'X'), ('to', 'PRT'), ('capture', 'VERB'), ('fleeting', 'PRON'), ('price', 'NOUN'), ('discrepancies', 'NOUN'), ('between', 'ADP'), ('stocks', 'NOUN'), ('and', 'CONJ'), ('the', 'DET'), ('index', 'NOUN'), ('futures', 'NOUN'), ('or', 'CONJ'), ('options', 'NOUN'), ('.', '.'), ('So', 'ADV'), ('far', 'ADV'), (',', '.'), ('Mrs.', 'NOUN'), ('Hills', 'NOUN'), ('has', 'VERB'), (\"n't\", 'ADV'), ('deemed', 'VERB'), ('any', 'DET'), ('cases', 'NOUN'), ('bad', 'ADJ'), ('enough', 'ADJ'), ('*-1', 'X'), ('to', 'PRT'), ('merit', 'NOUN'), ('an', 'DET'), ('accelerated', 'ADJ'), ('investigation', 'NOUN'), ('under', 'ADP'), ('the', 'DET'), ('so-called', 'ADJ'), ('special', 'ADJ'), ('301', 'PRON'), ('provision', 'NOUN'), ('of', 'ADP'), ('the', 'DET'), ('act', 'NOUN'), ('.', '.'), ('``', '.'), ('*', 'X'), ('Being', 'PRON'), ('a', 'DET'), ('teacher', 'NOUN'), ('just', 'ADV'), ('became', 'VERB'), ('my', 'PRON'), ('life', 'NOUN'), (',', '.'), (\"''\", '.'), ('says', 'VERB'), ('*T*-1', 'X'), ('the', 'DET'), ('37-year-old', 'PRON'), ('Mrs.', 'NOUN'), ('Yeargin', 'NOUN'), (',', '.'), ('a', 'DET'), ('teacher', 'NOUN'), ('for', 'ADP'), ('12', 'NUM'), ('years', 'NOUN'), ('before', 'ADP'), ('her', 'PRON'), ('dismissal', 'PRON'), ('.', '.'), ('``', '.'), ('So', 'ADV'), ('now', 'ADV'), ('the', 'DET'), ('situation', 'NOUN'), ('is', 'VERB'), ('this', 'DET'), (':', '.'), ('Chemical', 'NOUN'), ('Bank', 'NOUN'), ('spent', 'VERB'), ('more', 'ADV'), ('than', 'ADP'), ('$', '.'), ('50', 'NUM'), ('million', 'NUM'), ('*U*', 'X'), ('*-1', 'X'), ('to', 'PRT'), ('introduce', 'VERB'), ('its', 'PRON'), ('ChemPlus', 'PRON'), ('line', 'NOUN'), (',', '.'), ('several', 'ADJ'), ('packages', 'NOUN'), ('aimed', 'VERB'), ('*', 'X'), ('at', 'ADP'), ('different', 'ADJ'), ('segments', 'NOUN'), (',', '.'), ('in', 'ADP'), ('1986', 'NUM'), (',', '.'), ('according', 'VERB'), ('to', 'PRT'), ('Thomas', 'NOUN'), ('Jacob', 'NOUN'), (',', '.'), ('senior', 'ADJ'), ('vice', 'NOUN'), ('president', 'NOUN'), ('of', 'ADP'), ('marketing', 'NOUN'), ('.', '.'), ('For', 'ADP'), ('six', 'NUM'), ('years', 'NOUN'), (',', '.'), ('T.', 'NOUN'), ('Marshall', 'NOUN'), ('Hahn', 'NOUN'), ('Jr.', 'NOUN'), ('has', 'VERB'), ('made', 'VERB'), ('corporate', 'ADJ'), ('acquisitions', 'NOUN'), ('in', 'ADP'), ('the', 'DET'), ('George', 'NOUN'), ('Bush', 'NOUN'), ('mode', 'PRON'), (':', '.'), ('kind', 'NOUN'), ('and', 'CONJ'), ('gentle', 'PRON'), ('.', '.'), ('Inventor', 'PRON'), ('Claire', 'PRON'), ('Marvin', 'NOUN'), ('says', 'VERB'), ('0', 'X'), ('his', 'PRON'), ('design', 'VERB'), ('virtually', 'ADV'), ('eliminates', 'VERB'), ('spilling', 'PRON'), ('.', '.'), ('Dan', 'NOUN'), ('E.', 'NOUN'), ('Nelms', 'PRON'), (',', '.'), ('Valley', 'NOUN'), ('Federal', 'NOUN'), (\"'s\", 'PRT'), ('president', 'NOUN'), ('and', 'CONJ'), ('chief', 'NOUN'), ('executive', 'NOUN'), ('officer', 'NOUN'), (',', '.'), ('said', 'VERB'), ('0', 'X'), ('the', 'DET'), ('one-time', 'ADJ'), ('charge', 'NOUN'), ('substantially', 'ADV'), ('eliminates', 'VERB'), ('future', 'ADJ'), ('losses', 'NOUN'), ('associated', 'VERB'), ('*', 'X'), ('with', 'ADP'), ('the', 'DET'), ('unit', 'NOUN'), ('.', '.'), ('Cathryn', 'NOUN'), ('Rice', 'NOUN'), ('could', 'VERB'), ('hardly', 'ADV'), ('believe', 'VERB'), ('her', 'PRON'), ('eyes', 'NOUN'), ('.', '.'), ('``', '.'), ('The', 'DET'), ('First', 'NOUN'), ('Amendment', 'NOUN'), ('does', 'VERB'), ('not', 'ADV'), ('prescribe', 'PRON'), ('a', 'DET'), ('duty', 'NOUN'), ('upon', 'ADP'), ('the', 'DET'), ('government', 'NOUN'), ('*', 'X'), ('to', 'PRT'), ('assure', 'PRON'), ('easy', 'ADJ'), ('access', 'NOUN'), ('to', 'PRT'), ('information', 'NOUN'), ('for', 'ADP'), ('members', 'NOUN'), ('of', 'ADP'), ('the', 'DET'), ('press', 'NOUN'), ('.', '.'), (\"''\", '.'), ('At', 'ADP'), ('St.', 'NOUN'), ('Mary', 'NOUN'), (\"'s\", 'PRT'), ('Church', 'NOUN'), ('in', 'ADP'), ('Ilminster', 'PRON'), (',', '.'), ('Somerset', 'PRON'), (',', '.'), ('the', 'DET'), ('bells', 'NOUN'), ('have', 'VERB'), ('fallen', 'VERB'), ('*-1', 'X'), ('silent', 'ADJ'), ('following', 'NOUN'), ('a', 'DET'), ('dust-up', 'PRON'), ('over', 'ADP'), ('church', 'NOUN'), ('attendance', 'PRON'), ('.', '.'), ('The', 'DET'), ('Treasury', 'NOUN'), ('said', 'VERB'), ('0', 'X'), ('the', 'DET'), ('refunding', 'NOUN'), ('is', 'VERB'), ('contingent', 'NOUN'), ('upon', 'ADP'), ('congressional', 'ADJ'), ('and', 'CONJ'), ('presidential', 'ADJ'), ('passage', 'NOUN'), ('of', 'ADP'), ('an', 'DET'), ('increase', 'NOUN'), ('in', 'ADP'), ('the', 'DET'), ('federal', 'ADJ'), ('debt', 'NOUN'), ('ceiling', 'NOUN'), ('.', '.'), ('``', '.'), ('If', 'ADP'), ('the', 'DET'), ('market', 'NOUN'), ('goes', 'VERB'), ('down', 'ADV'), (',', '.'), ('I', 'PRON'), ('figure', 'VERB'), ('0', 'X'), ('it', 'PRON'), (\"'s\", 'VERB'), ('paper', 'NOUN'), ('profits', 'NOUN'), ('0', 'X'), ('I', 'PRON'), (\"'m\", 'VERB'), ('losing', 'VERB'), ('*T*-1', 'X'), ('.', '.'), ('University', 'NOUN'), ('Patents', 'NOUN'), ('Inc.', 'NOUN'), (',', '.'), ('based', 'VERB'), ('*', 'X'), ('in', 'ADP'), ('Westport', 'PRON'), (',', '.'), ('Conn.', 'NOUN'), (',', '.'), ('said', 'VERB'), ('0', 'X'), ('it', 'PRON'), ('seeks', 'VERB'), ('Johnson', 'NOUN'), ('&', 'CONJ'), ('Johnson', 'NOUN'), (\"'s\", 'PRT'), ('profits', 'NOUN'), ('from', 'ADP'), ('sales', 'NOUN'), ('of', 'ADP'), ('Retin-A', 'NOUN'), (',', '.'), ('estimated', 'VERB'), ('*', 'X'), ('at', 'ADP'), ('$', '.'), ('50', 'NUM'), ('million', 'NUM'), ('*U*', 'X'), (',', '.'), ('a', 'DET'), ('similar', 'ADJ'), ('amount', 'NOUN'), ('of', 'ADP'), ('punitive', 'PRON'), ('damages', 'NOUN'), ('and', 'CONJ'), ('the', 'DET'), ('right', 'NOUN'), ('*', 'X'), ('to', 'PRT'), ('license', 'NOUN'), ('Retin-A', 'NOUN'), ('elsewhere', 'ADV'), ('.', '.'), ('Publishing', 'NOUN'), ('officials', 'NOUN'), ('believe', 'VERB'), ('that', 'ADP'), ('while', 'ADP'), ('Random', 'NOUN'), ('House', 'NOUN'), ('has', 'VERB'), ('enjoyed', 'PRON'), ('spectacular', 'PRON'), ('growth', 'NOUN'), ('and', 'CONJ'), ('has', 'VERB'), ('smoothly', 'PRON'), ('integrated', 'VERB'), ('many', 'ADJ'), ('acquisitions', 'NOUN'), ('in', 'ADP'), ('recent', 'ADJ'), ('years', 'NOUN'), (',', '.'), ('some', 'DET'), ('of', 'ADP'), ('the', 'DET'), ('bigger', 'ADJ'), ('ones', 'NOUN'), ('have', 'VERB'), (\"n't\", 'ADV'), ('been', 'VERB'), ('absorbed', 'PRON'), ('*-44', 'X'), ('so', 'ADV'), ('easily', 'ADV'), ('.', '.'), ('Mr.', 'NOUN'), ('Nixon', 'NOUN'), ('met', 'VERB'), ('Mr.', 'NOUN'), ('Bush', 'NOUN'), ('and', 'CONJ'), ('his', 'PRON'), ('national', 'ADJ'), ('security', 'NOUN'), ('adviser', 'NOUN'), (',', '.'), ('Brent', 'PRON'), ('Scowcroft', 'PRON'), (',', '.'), ('before', 'ADP'), ('*-1', 'X'), ('coming', 'VERB'), ('to', 'PRT'), ('China', 'NOUN'), ('on', 'ADP'), ('Saturday', 'PRON'), ('.', '.'), ('The', 'DET'), ('U.S.', 'NOUN'), (',', '.'), ('*-1', 'X'), ('claiming', 'VERB'), ('some', 'DET'), ('success', 'NOUN'), ('in', 'ADP'), ('its', 'PRON'), ('trade', 'VERB'), ('diplomacy', 'PRON'), (',', '.'), ('removed', 'VERB'), ('South', 'NOUN'), ('Korea', 'NOUN'), (',', '.'), ('Taiwan', 'NOUN'), ('and', 'CONJ'), ('Saudi', 'NOUN'), ('Arabia', 'NOUN'), ('from', 'ADP'), ('a', 'DET'), ('list', 'NOUN'), ('of', 'ADP'), ('countries', 'NOUN'), ('0', 'X'), ('it', 'PRON'), ('is', 'VERB'), ('closely', 'ADV'), ('watching', 'PRON'), ('*T*-2', 'X'), ('for', 'ADP'), ('*', 'X'), ('allegedly', 'ADV'), ('failing', 'VERB'), ('*-3', 'X'), ('to', 'PRT'), ('honor', 'VERB'), ('U.S.', 'NOUN'), ('patents', 'NOUN'), (',', '.'), ('copyrights', 'PRON'), ('and', 'CONJ'), ('other', 'ADJ'), ('intellectual-property', 'ADJ'), ('rights', 'NOUN'), ('.', '.'), ('The', 'DET'), ('new', 'ADJ'), ('company', 'NOUN'), ('will', 'VERB'), ('attempt', 'NOUN'), ('*-1', 'X'), ('to', 'PRT'), ('limit', 'NOUN'), ('the', 'DET'), ('shipyard', 'NOUN'), (\"'s\", 'PRT'), ('losses', 'NOUN'), (',', '.'), ('participants', 'NOUN'), ('said', 'VERB'), ('0', 'X'), ('*T*-2', 'X'), ('.', '.'), ('Yesterday', 'NOUN'), (',', '.'), ('the', 'DET'), ('stock', 'NOUN'), ('market', 'NOUN'), ('rose', 'VERB'), ('strongly', 'ADV'), (',', '.'), ('*', 'X'), ('creating', 'VERB'), ('a', 'DET'), ('more', 'ADJ'), ('defensive', 'ADJ'), ('attitude', 'NOUN'), ('among', 'ADP'), ('precious', 'ADJ'), ('metals', 'NOUN'), ('traders', 'NOUN'), (',', '.'), ('he', 'PRON'), ('said', 'VERB'), ('0', 'X'), ('*T*-1', 'X'), ('.', '.'), ('Dow', 'NOUN'), ('Jones', 'NOUN'), ('&', 'CONJ'), ('Co.', 'NOUN'), ('said', 'VERB'), ('0', 'X'), ('it', 'PRON'), ('extended', 'VERB'), ('its', 'PRON'), ('$', '.'), ('18-a-share', 'PRON'), ('*U*', 'X'), ('offer', 'VERB'), ('for', 'ADP'), ('Telerate', 'NOUN'), ('Inc.', 'NOUN'), ('common', 'ADJ'), ('stock', 'NOUN'), ('until', 'ADP'), ('5', 'NUM'), ('p.m.', 'PRON'), ('EST', 'PRON'), ('Nov.', 'NOUN'), ('9', 'NUM'), ('.', '.'), ('Britain', 'NOUN'), ('has', 'VERB'), ('two', 'NUM'), ('main', 'ADJ'), ('index-arbitrage', 'ADJ'), ('instruments', 'NOUN'), ('.', '.'), ('Some', 'DET'), ('analysts', 'NOUN'), ('are', 'VERB'), ('worried', 'VERB'), ('that', 'ADP'), ('reports', 'NOUN'), ('of', 'ADP'), ('the', 'DET'), ('grain', 'NOUN'), ('industry', 'NOUN'), (\"'s\", 'PRT'), ('problems', 'NOUN'), ('might', 'VERB'), ('spark', 'VERB'), ('investors', 'NOUN'), ('to', 'PRT'), ('begin', 'VERB'), ('*-1', 'X'), ('buying', 'VERB'), ('corn', 'NOUN'), ('futures', 'NOUN'), ('contracts', 'NOUN'), ('--', '.'), ('*-2', 'X'), ('only', 'ADV'), ('to', 'PRT'), ('see', 'VERB'), ('little', 'ADV'), ('appreciation', 'NOUN'), ('.', '.'), ('He', 'PRON'), ('had', 'VERB'), ('been', 'VERB'), ('a', 'DET'), ('sales', 'NOUN'), ('and', 'CONJ'), ('marketing', 'NOUN'), ('executive', 'NOUN'), ('with', 'ADP'), ('Chrysler', 'NOUN'), ('for', 'ADP'), ('20', 'NUM'), ('years', 'NOUN'), ('.', '.'), ('The', 'DET'), ('loan', 'NOUN'), ('may', 'VERB'), ('be', 'VERB'), ('extended', 'VERB'), ('*-1', 'X'), ('by', 'ADP'), ('the', 'DET'), ('McAlpine', 'NOUN'), ('group', 'NOUN'), ('for', 'ADP'), ('an', 'DET'), ('additional', 'ADJ'), ('year', 'NOUN'), ('with', 'ADP'), ('an', 'DET'), ('increase', 'NOUN'), ('in', 'ADP'), ('the', 'DET'), ('conversion', 'NOUN'), ('price', 'NOUN'), ('to', 'PRT'), ('$', '.'), ('2.50', 'NUM'), ('*U*', 'X'), ('a', 'DET'), ('share', 'NOUN'), ('.', '.'), ('In', 'ADP'), ('an', 'DET'), ('era', 'NOUN'), ('when', 'ADV'), ('every', 'DET'), ('government', 'NOUN'), ('agency', 'NOUN'), ('has', 'VERB'), ('a', 'DET'), ('public-relations', 'PRON'), ('machine', 'NOUN'), ('that', 'ADP'), ('*T*-2', 'X'), ('sends', 'PRON'), ('you', 'PRON'), ('stuff', 'PRON'), ('whether', 'ADP'), ('you', 'PRON'), ('want', 'VERB'), ('it', 'PRON'), ('or', 'CONJ'), ('not', 'ADV'), ('*T*-1', 'X'), (',', '.'), ('this', 'DET'), ('does', 'VERB'), ('seem', 'VERB'), ('odd', 'ADJ'), ('.', '.'), ('None', 'NOUN'), ('of', 'ADP'), ('the', 'DET'), ('scams', 'PRON'), ('show', 'VERB'), ('much', 'ADV'), ('ingenuity', 'PRON'), (':', '.'), ('Auditors', 'PRON'), ('found', 'VERB'), ('crookery', 'PRON'), ('the', 'DET'), ('first', 'ADJ'), ('day', 'NOUN'), ('on', 'ADP'), ('the', 'DET'), ('job', 'NOUN'), ('.', '.'), ('Among', 'ADP'), ('them', 'PRON'), ('are', 'VERB'), ('*T*-1', 'X'), ('differences', 'NOUN'), ('in', 'ADP'), ('savings', 'NOUN'), ('and', 'CONJ'), ('investment', 'NOUN'), ('rates', 'NOUN'), (',', '.'), ('corporate', 'ADJ'), ('structures', 'NOUN'), ('and', 'CONJ'), ('management', 'NOUN'), (',', '.'), ('and', 'CONJ'), ('government', 'NOUN'), ('spending', 'NOUN'), ('.', '.'), ('Also', 'ADV'), (',', '.'), ('there', 'DET'), ('has', 'VERB'), ('been', 'VERB'), ('a', 'DET'), ('switch', 'NOUN'), ('*ICH*-3', 'X'), ('in', 'ADP'), ('the', 'DET'), ('past', 'ADJ'), ('decade', 'NOUN'), ('to', 'PRT'), ('planting', 'PRON'), ('of', 'ADP'), ('orange', 'PRON'), ('trees', 'PRON'), ('in', 'ADP'), ('areas', 'NOUN'), ('that', 'ADP'), ('*T*-5', 'X'), ('were', 'VERB'), ('previously', 'ADV'), ('used', 'VERB'), ('*-1', 'X'), ('for', 'ADP'), ('cane', 'PRON'), (',', '.'), ('and', 'CONJ'), ('this', 'DET'), ('change', 'NOUN'), ('is', 'VERB'), ('being', 'VERB'), ('felt', 'VERB'), ('*-4', 'X'), ('now', 'ADV'), (',', '.'), ('she', 'PRON'), ('said', 'VERB'), ('0', 'X'), ('*T*-2', 'X'), ('.', '.'), ('But', 'CONJ'), ('the', 'DET'), ('number', 'NOUN'), ('of', 'ADP'), ('weddings', 'NOUN'), ('last', 'ADJ'), ('year', 'NOUN'), ('--', '.'), ('271,124', 'PRON'), ('--', '.'), ('was', 'VERB'), ('still', 'ADV'), ('well', 'ADV'), ('below', 'ADP'), ('the', 'DET'), ('400,000', 'PRON'), ('registered', 'VERB'), ('*', 'X'), ('in', 'ADP'), ('1972', 'NUM'), (',', '.'), ('the', 'DET'), ('last', 'ADJ'), ('year', 'NOUN'), ('of', 'ADP'), ('increasing', 'VERB'), ('marriages', 'NOUN'), ('.', '.'), ('Drexel', 'NOUN'), ('remains', 'VERB'), ('confident', 'PRON'), ('of', 'ADP'), ('its', 'PRON'), ('future', 'ADJ'), ('creditworthiness', 'PRON'), ('.', '.'), ('But', 'CONJ'), ('like', 'ADP'), ('other', 'ADJ'), ('thrifts', 'NOUN'), (',', '.'), ('it', 'PRON'), (\"'s\", 'VERB'), ('expected', 'VERB'), ('*-1', 'X'), ('to', 'PRT'), ('seek', 'VERB'), ('regulators', 'NOUN'), (\"'\", 'PRT'), ('consent', 'NOUN'), ('*', 'X'), ('to', 'PRT'), ('create', 'VERB'), ('a', 'DET'), ('distinct', 'PRON'), ('junk-bond', 'NOUN'), ('entity', 'NOUN'), ('.', '.'), ('``', '.'), ('Even', 'ADV'), ('the', 'DET'), ('7.2', 'NUM'), ('%', 'NOUN'), ('return', 'NOUN'), ('from', 'ADP'), ('the', 'DET'), ('risk-free', 'PRON'), ('three-month', 'PRON'), ('Treasury', 'NOUN'), ('bill', 'NOUN'), ('has', 'VERB'), ('easily', 'ADV'), ('outdistanced', 'PRON'), ('the', 'DET'), ('4.1', 'NUM'), ('%', 'NOUN'), ('return', 'NOUN'), ('from', 'ADP'), ('junk', 'NOUN'), ('bonds', 'NOUN'), (',', '.'), (\"''\", '.'), ('wrote', 'VERB'), ('*T*-1', 'X'), ('Moody', 'NOUN'), (\"'s\", 'PRT'), ('economist', 'NOUN'), ('John', 'NOUN'), ('Lonski', 'PRON'), ('in', 'ADP'), ('yesterday', 'NOUN'), (\"'s\", 'PRT'), ('market', 'NOUN'), ('report', 'NOUN'), ('.', '.'), ('The', 'DET'), ('form', 'NOUN'), ('asks', 'VERB'), ('for', 'ADP'), ('such', 'ADJ'), ('details', 'NOUN'), ('as', 'ADP'), ('the', 'DET'), ('client', 'NOUN'), (\"'s\", 'PRT'), ('name', 'NOUN'), (',', '.'), ('Social', 'PRON'), ('Security', 'NOUN'), ('number', 'NOUN'), (',', '.'), ('passport', 'PRON'), ('number', 'NOUN'), ('and', 'CONJ'), ('details', 'NOUN'), ('about', 'ADP'), ('the', 'DET'), ('services', 'NOUN'), ('provided', 'VERB'), ('*', 'X'), ('for', 'ADP'), ('the', 'DET'), ('payment', 'NOUN'), ('.', '.'), ('Peter', 'NOUN'), ('Marcus', 'PRON'), (',', '.'), ('an', 'DET'), ('analyst', 'NOUN'), ('with', 'ADP'), ('PaineWebber', 'NOUN'), ('Inc.', 'NOUN'), (',', '.'), ('said', 'VERB'), ('that', 'ADP'), ('a', 'DET'), ('downturn', 'NOUN'), ('in', 'ADP'), ('the', 'DET'), ('appliance', 'PRON'), ('industry', 'NOUN'), (',', '.'), ('coupled', 'VERB'), ('*', 'X'), ('with', 'ADP'), ('sluggish', 'ADJ'), ('automotive', 'ADJ'), ('sales', 'NOUN'), (',', '.'), ('hurt', 'VERB'), ('USX', 'NOUN'), ('results', 'NOUN'), ('.', '.'), ('In', 'ADP'), ('August', 'NOUN'), (',', '.'), ('the', 'DET'), ('company', 'NOUN'), ('took', 'VERB'), ('a', 'DET'), ('$', '.'), ('343', 'PRON'), ('million', 'NUM'), ('*U*', 'X'), ('pretax', 'NOUN'), ('charge', 'NOUN'), ('against', 'ADP'), ('fiscal', 'ADJ'), ('1989', 'NUM'), ('earnings', 'NOUN'), ('when', 'ADV'), ('it', 'PRON'), ('announced', 'VERB'), ('a', 'DET'), ('world-wide', 'ADJ'), ('restructuring', 'NOUN'), ('plan', 'NOUN'), ('*T*-1', 'X'), ('.', '.'), ('``', '.'), ('This', 'DET'), ('is', 'VERB'), ('the', 'DET'), ('peak', 'NOUN'), ('of', 'ADP'), ('my', 'PRON'), ('wine-making', 'PRON'), ('experience', 'NOUN'), (',', '.'), (\"''\", '.'), ('Mr.', 'NOUN'), ('Winiarski', 'NOUN'), ('declared', 'VERB'), ('*T*-1', 'X'), ('when', 'ADV'), ('he', 'PRON'), ('introduced', 'VERB'), ('the', 'DET'), ('wine', 'NOUN'), ('at', 'ADP'), ('a', 'DET'), ('dinner', 'PRON'), ('in', 'ADP'), ('New', 'NOUN'), ('York', 'NOUN'), ('*T*-2', 'X'), (',', '.'), ('``', '.'), ('and', 'CONJ'), ('I', 'PRON'), ('wanted', 'VERB'), ('*-3', 'X'), ('to', 'PRT'), ('single', 'ADJ'), ('it', 'PRON'), ('out', 'PRT'), ('as', 'ADP'), ('such', 'ADJ'), ('.', '.'), (\"''\", '.'), ('Mrs.', 'NOUN'), ('Gorman', 'NOUN'), ('took', 'VERB'), ('advantage', 'NOUN'), ('of', 'ADP'), ('low', 'ADJ'), ('prices', 'NOUN'), ('after', 'ADP'), ('the', 'DET'), ('1987', 'NUM'), ('crash', 'NOUN'), ('*-1', 'X'), ('to', 'PRT'), ('buy', 'VERB'), ('stocks', 'NOUN'), ('and', 'CONJ'), ('has', 'VERB'), ('hunted', 'PRON'), ('for', 'ADP'), ('other', 'ADJ'), ('bargains', 'PRON'), ('since', 'ADP'), ('the', 'DET'), ('Oct.', 'NOUN'), ('13', 'NUM'), ('plunge', 'NOUN'), ('.', '.'), ('She', 'PRON'), ('adds', 'VERB'), ('that', 'ADP'), ('legislation', 'NOUN'), ('curbing', 'PRON'), ('it', 'PRON'), ('would', 'VERB'), ('be', 'VERB'), ('``', '.'), ('a', 'DET'), ('darned', 'PRON'), ('good', 'ADJ'), ('idea', 'NOUN'), ('.', '.'), (\"''\", '.'), ('The', 'DET'), ('first', 'ADJ'), ('two', 'NUM'), ('GAF', 'NOUN'), ('trials', 'PRON'), ('ended', 'VERB'), ('in', 'ADP'), ('mistrials', 'PRON'), ('earlier', 'ADJ'), ('this', 'DET'), ('year', 'NOUN'), ('.', '.'), ('Charities', 'NOUN'), ('test', 'NOUN'), ('the', 'DET'), ('waters', 'NOUN'), (',', '.'), ('but', 'CONJ'), ('they', 'PRON'), ('face', 'VERB'), ('legal', 'ADJ'), ('barriers', 'NOUN'), ('to', 'PRT'), ('electronic', 'ADJ'), ('fund', 'NOUN'), ('raising', 'VERB'), ('.', '.'), ('Last', 'ADJ'), ('year', 'NOUN'), (\"'s\", 'PRT'), ('record', 'NOUN'), ('net', 'NOUN'), ('cash', 'NOUN'), ('income', 'NOUN'), ('confirms', 'PRON'), ('the', 'DET'), ('farm', 'NOUN'), ('sector', 'NOUN'), (\"'s\", 'PRT'), ('rebound', 'VERB'), ('from', 'ADP'), ('the', 'DET'), ('agricultural', 'ADJ'), ('depression', 'PRON'), ('of', 'ADP'), ('the', 'DET'), ('early', 'ADJ'), ('1980s', 'NOUN'), ('.', '.'), ('The', 'DET'), ('Supreme', 'NOUN'), ('Court', 'NOUN'), (\"'s\", 'PRT'), ('decision', 'NOUN'), ('in', 'ADP'), ('INS', 'PRON'), ('v.', 'CONJ'), ('Chadha', 'PRON'), ('held', 'VERB'), ('that', 'ADP'), ('legislative', 'ADJ'), ('vetoes', 'PRON'), ('are', 'VERB'), ('unconstitutional', 'ADJ'), ('.', '.'), ('The', 'DET'), ('Toronto-based', 'ADJ'), ('real', 'ADJ'), ('estate', 'NOUN'), ('concern', 'NOUN'), ('said', 'VERB'), ('0', 'X'), ('each', 'DET'), ('bond', 'NOUN'), ('warrant', 'NOUN'), ('entitles', 'VERB'), ('the', 'DET'), ('holder', 'NOUN'), ('to', 'PRT'), ('buy', 'VERB'), ('C$', '.'), ('1,000', 'NUM'), ('*U*', 'X'), ('principal', 'NOUN'), ('amount', 'NOUN'), ('of', 'ADP'), ('debentures', 'NOUN'), ('at', 'ADP'), ('par', 'NOUN'), ('plus', 'CONJ'), ('accrued', 'PRON'), ('interest', 'NOUN'), ('to', 'PRT'), ('the', 'DET'), ('date', 'NOUN'), ('of', 'ADP'), ('purchase', 'NOUN'), ('.', '.'), ('Carnival', 'NOUN'), (',', '.'), ('which', 'DET'), ('*T*-1', 'X'), ('has', 'VERB'), ('three', 'NUM'), ('ships', 'NOUN'), ('on', 'ADP'), ('order', 'NOUN'), ('from', 'ADP'), ('Waertsilae', 'NOUN'), ('Marine', 'NOUN'), (',', '.'), ('presented', 'VERB'), ('claims', 'VERB'), ('for', 'ADP'), ('$', '.'), ('1.5', 'NUM'), ('billion', 'NUM'), ('*U*', 'X'), ('damages', 'NOUN'), ('in', 'ADP'), ('the', 'DET'), ('bankruptcy', 'NOUN'), ('court', 'NOUN'), ('this', 'DET'), ('week', 'NOUN'), ('.', '.'), ('``', '.'), ('After', 'ADP'), ('two', 'NUM'), ('months', 'NOUN'), ('of', 'ADP'), ('talks', 'NOUN'), (',', '.'), ('our', 'PRON'), ('rating', 'NOUN'), ('was', 'VERB'), ('maintained', 'VERB'), ('*-1', 'X'), ('.', '.'), (\"''\", '.'), ('For', 'ADP'), ('the', 'DET'), ('year', 'NOUN'), ('ended', 'VERB'), ('Sept.', 'NOUN'), ('30', 'NUM'), (',', '.'), ('Ralston', 'NOUN'), ('earned', 'VERB'), ('$', '.'), ('422.5', 'PRON'), ('million', 'NUM'), ('*U*', 'X'), (',', '.'), ('or', 'CONJ'), ('$', '.'), ('6.44', 'PRON'), ('*U*', 'X'), ('a', 'DET'), ('share', 'NOUN'), (',', '.'), ('up', 'ADV'), ('8.9', 'NUM'), ('%', 'NOUN'), ('from', 'ADP'), ('$', '.'), ('387.8', 'PRON'), ('million', 'NUM'), ('*U*', 'X'), (',', '.'), ('or', 'CONJ'), ('$', '.'), ('5.63', 'PRON'), ('*U*', 'X'), ('a', 'DET'), ('share', 'NOUN'), ('.', '.'), ('At', 'ADP'), ('the', 'DET'), ('time', 'NOUN'), (',', '.'), ('he', 'PRON'), ('was', 'VERB'), ('director', 'NOUN'), ('of', 'ADP'), ('the', 'DET'), ('The', 'DET'), ('Baker', 'NOUN'), ('proposal', 'NOUN'), ('reasserts', 'PRON'), ('Washington', 'NOUN'), (\"'s\", 'PRT'), ('intention', 'NOUN'), ('*', 'X'), ('to', 'PRT'), ('continue', 'VERB'), ('*-1', 'X'), ('playing', 'VERB'), ('a', 'DET'), ('leading', 'VERB'), ('political', 'ADJ'), ('role', 'NOUN'), ('in', 'ADP'), ('the', 'DET'), ('region', 'NOUN'), ('.', '.'), ('But', 'CONJ'), ('Mr.', 'NOUN'), ('Hahn', 'NOUN'), ('rose', 'VERB'), ('swiftly', 'ADV'), ('through', 'ADP'), ('the', 'DET'), ('ranks', 'NOUN'), (',', '.'), ('*-1', 'X'), ('demonstrating', 'PRON'), ('a', 'DET'), ('raw', 'PRON'), ('intelligence', 'NOUN'), ('that', 'ADP'), ('he', 'PRON'), ('says', 'VERB'), ('0', 'X'), ('he', 'PRON'), ('knew', 'VERB'), ('0', 'X'), ('he', 'PRON'), ('possessed', 'PRON'), ('*T*-2', 'X'), ('early', 'ADV'), ('on', 'ADP'), ('.', '.'), ('In', 'ADP'), ('Singapore', 'NOUN'), (',', '.'), ('a', 'DET'), ('new', 'ADJ'), ('law', 'NOUN'), ('requires', 'VERB'), ('smokers', 'NOUN'), ('to', 'PRT'), ('put', 'VERB'), ('out', 'PRT'), ('their', 'PRON'), ('cigarettes', 'NOUN'), ('before', 'ADP'), ('*-1', 'X'), ('entering', 'VERB'), ('restaurants', 'NOUN'), (',', '.'), ('department', 'NOUN'), ('stores', 'NOUN'), ('and', 'CONJ'), ('sports', 'NOUN'), ('centers', 'VERB'), ('or', 'CONJ'), ('face', 'NOUN'), ('a', 'DET'), ('$', '.'), ('250', 'NUM'), ('*U*', 'X'), ('fine', 'NOUN'), ('.', '.'), ('Its', 'PRON'), ('index', 'NOUN'), ('inched', 'VERB'), ('up', 'ADV'), ('to', 'PRT'), ('47.6', 'NUM'), ('%', 'NOUN'), ('in', 'ADP'), ('October', 'NOUN'), ('from', 'ADP'), ('46', 'NUM'), ('%', 'NOUN'), ('in', 'ADP'), ('September', 'NOUN'), ('.', '.'), ('Lawmakers', 'NOUN'), ('representing', 'VERB'), ('some', 'DET'), ('of', 'ADP'), ('the', 'DET'), ('cleaner', 'ADJ'), ('utilities', 'NOUN'), ('have', 'VERB'), ('been', 'VERB'), ('quietly', 'PRON'), ('working', 'VERB'), ('with', 'ADP'), ('the', 'DET'), ('White', 'NOUN'), ('House', 'NOUN'), ('*-1', 'X'), ('to', 'PRT'), ('devise', 'VERB'), ('ways', 'NOUN'), ('0', 'X'), ('*', 'X'), ('to', 'PRT'), ('tinker', 'PRON'), ('with', 'ADP'), ('the', 'DET'), ('administration', 'NOUN'), ('bill', 'NOUN'), ('*T*-2', 'X'), ('*', 'X'), ('to', 'PRT'), ('address', 'VERB'), ('their', 'PRON'), ('acid-rain', 'NOUN'), ('concerns', 'NOUN'), ('*PPA*-3', 'X'), ('.', '.'), ('``', '.'), ('Today', 'NOUN'), (',', '.'), ('a', 'DET'), ('banker', 'NOUN'), ('is', 'VERB'), ('worrying', 'PRON'), ('about', 'ADP'), ('local', 'ADJ'), (',', '.'), ('regional', 'ADJ'), ('and', 'CONJ'), ('money-center', 'PRON'), ('-LCB-', '.'), ('banks', 'NOUN'), ('-RCB-', '.'), (',', '.'), ('as', 'ADP'), ('well', 'ADV'), ('as', 'ADP'), ('thrifts', 'NOUN'), ('and', 'CONJ'), ('credit', 'NOUN'), ('unions', 'NOUN'), (',', '.'), (\"''\", '.'), ('says', 'VERB'), ('*T*-1', 'X'), ('Ms.', 'NOUN'), ('Moore', 'NOUN'), ('at', 'ADP'), ('Synergistics', 'NOUN'), ('Research', 'NOUN'), ('.', '.'), ('Virginia', 'NOUN'), (':', '.'), ('A', 'DET'), ('number', 'NOUN'), ('of', 'ADP'), ('cities', 'NOUN'), ('--', '.'), ('including', 'VERB'), ('Minneapolis', 'NOUN'), (',', '.'), ('Philadelphia', 'NOUN'), ('and', 'CONJ'), ('Houston', 'NOUN'), ('--', '.'), ('have', 'VERB'), ('vacant', 'ADJ'), ('grain', 'NOUN'), ('elevators', 'NOUN'), (',', '.'), ('Eggers', 'NOUN'), ('says', 'VERB'), ('0', 'X'), ('*T*-1', 'X'), ('.', '.'), ('In', 'ADP'), ('the', 'DET'), ('classroom', 'NOUN'), (',', '.'), ('students', 'NOUN'), ('say', 'VERB'), ('0', 'X'), ('*T*-3', 'X'), (',', '.'), ('Mrs.', 'NOUN'), ('Yeargin', 'NOUN'), ('distinguished', 'PRON'), ('herself', 'PRON'), ('by', 'ADP'), ('*', 'X'), ('varying', 'VERB'), ('teaching', 'NOUN'), ('approaches', 'PRON'), ('--', '.'), ('*-1', 'X'), ('forcing', 'VERB'), ('kids', 'NOUN'), ('to', 'PRT'), ('pair', 'PRON'), ('up', 'ADV'), ('*-2', 'X'), ('to', 'PRT'), ('complete', 'VERB'), ('classroom', 'NOUN'), ('work', 'NOUN'), ('or', 'CONJ'), ('using', 'VERB'), ('college-bowl', 'PRON'), ('type', 'NOUN'), ('competitions', 'PRON'), ('.', '.'), ('The', 'DET'), ('Japanese', 'ADJ'), ('industrial', 'ADJ'), ('companies', 'NOUN'), ('should', 'VERB'), ('know', 'VERB'), ('better', 'ADV'), ('.', '.'), ('Many', 'ADJ'), ('attorneys', 'NOUN'), ('have', 'VERB'), ('returned', 'VERB'), ('incomplete', 'ADJ'), ('forms', 'NOUN'), ('to', 'PRT'), ('the', 'DET'), ('IRS', 'NOUN'), ('in', 'ADP'), ('recent', 'ADJ'), ('years', 'NOUN'), (',', '.'), ('*-1', 'X'), ('citing', 'VERB'), ('attorney-client', 'ADJ'), ('privilege', 'NOUN'), ('.', '.'), ('Leon', 'PRON'), ('J.', 'NOUN'), ('Level', 'PRON'), (',', '.'), ('vice', 'NOUN'), ('president', 'NOUN'), ('and', 'CONJ'), ('chief', 'NOUN'), ('financial', 'ADJ'), ('officer', 'NOUN'), ('of', 'ADP'), ('this', 'DET'), ('computer', 'NOUN'), ('services', 'NOUN'), ('concern', 'NOUN'), (',', '.'), ('and', 'CONJ'), ('F.', 'NOUN'), ('Warren', 'NOUN'), ('McFarlan', 'PRON'), (',', '.'), ('a', 'DET'), ('professor', 'NOUN'), ('at', 'ADP'), ('Harvard', 'NOUN'), ('University', 'NOUN'), (\"'s\", 'PRT'), ('Graduate', 'NOUN'), ('School', 'NOUN'), ('of', 'ADP'), ('Business', 'NOUN'), (',', '.'), ('were', 'VERB'), ('elected', 'VERB'), ('*-1', 'X'), ('directors', 'NOUN'), (',', '.'), ('*', 'X'), ('increasing', 'VERB'), ('board', 'NOUN'), ('membership', 'NOUN'), ('to', 'PRT'), ('nine', 'NUM'), ('.', '.'), ('Analysts', 'NOUN'), ('said', 'VERB'), ('0', 'X'), ('the', 'DET'), ('fall', 'NOUN'), ('in', 'ADP'), ('pretax', 'NOUN'), ('profit', 'NOUN'), ('was', 'VERB'), ('due', 'ADJ'), ('to', 'PRT'), ('the', 'DET'), ('group', 'NOUN'), (\"'s\", 'PRT'), ('recent', 'ADJ'), ('restructuring', 'NOUN'), ('and', 'CONJ'), ('sale', 'NOUN'), ('of', 'ADP'), ('peripheral', 'ADJ'), ('units', 'NOUN'), (',', '.'), ('and', 'CONJ'), ('that', 'DET'), ('its', 'PRON'), ('remaining', 'VERB'), ('businesses', 'NOUN'), ('are', 'VERB'), ('performing', 'VERB'), ('well', 'ADV'), ('.', '.'), ('That', 'DET'), ('year', 'NOUN'), ('the', 'DET'), ('Apple', 'NOUN'), ('II', 'NOUN'), (',', '.'), ('Commodore', 'PRON'), ('Pet', 'PRON'), ('and', 'CONJ'), ('Tandy', 'PRON'), ('TRS-80', 'PRON'), ('came', 'VERB'), ('to', 'PRT'), ('market', 'NOUN'), ('.', '.'), ('In', 'ADP'), ('addition', 'NOUN'), (',', '.'), ('they', 'PRON'), ('will', 'VERB'), ('receive', 'VERB'), ('stock', 'NOUN'), ('in', 'ADP'), ('the', 'DET'), ('reorganized', 'PRON'), ('company', 'NOUN'), (',', '.'), ('which', 'DET'), ('*T*-2', 'X'), ('will', 'VERB'), ('be', 'VERB'), ('named', 'VERB'), ('*-1', 'X'), ('Ranger', 'PRON'), ('Industries', 'NOUN'), ('Inc', 'NOUN'), ('.', '.'), ('For', 'ADP'), ('the', 'DET'), ('year', 'NOUN'), ('to', 'PRT'), ('date', 'NOUN'), (',', '.'), ('Moody', 'NOUN'), (\"'s\", 'PRT'), ('said', 'VERB'), ('0', 'X'), ('total', 'VERB'), ('returns', 'NOUN'), ('were', 'VERB'), ('topped', 'PRON'), ('*-1', 'X'), ('by', 'ADP'), ('the', 'DET'), ('16.5', 'PRON'), ('%', 'NOUN'), ('of', 'ADP'), ('longer-term', 'ADJ'), ('Treasury', 'NOUN'), ('issues', 'NOUN'), (',', '.'), ('*-2', 'X'), ('closely', 'ADV'), ('followed', 'VERB'), ('*-3', 'X'), ('by', 'ADP'), ('15', 'NUM'), ('%', 'NOUN'), ('for', 'ADP'), ('investment-grade', 'ADJ'), ('bonds', 'NOUN'), ('.', '.'), ('Cray', 'NOUN'), ('Computer', 'NOUN'), ('also', 'ADV'), ('will', 'VERB'), ('face', 'VERB'), ('intense', 'ADJ'), ('competition', 'NOUN'), (',', '.'), ('not', 'ADV'), ('only', 'ADV'), ('from', 'ADP'), ('Cray', 'NOUN'), ('Research', 'NOUN'), (',', '.'), ('which', 'DET'), ('*T*-23', 'X'), ('has', 'VERB'), ('about', 'ADP'), ('60', 'NUM'), ('%', 'NOUN'), ('of', 'ADP'), ('the', 'DET'), ('world-wide', 'ADJ'), ('supercomputer', 'NOUN'), ('market', 'NOUN'), ('and', 'CONJ'), ('which', 'DET'), ('*T*-24', 'X'), ('is', 'VERB'), ('expected', 'VERB'), ('*-1', 'X'), ('to', 'PRT'), ('roll', 'VERB'), ('out', 'PRT'), ('the', 'DET'), ('C-90', 'PRON'), ('machine', 'NOUN'), (',', '.'), ('a', 'DET'), ('direct', 'ADJ'), ('competitor', 'NOUN'), ('with', 'ADP'), ('the', 'DET'), ('Cray-3', 'NOUN'), (',', '.'), ('in', 'ADP'), ('1991', 'NUM'), ('.', '.'), ('These', 'DET'), ('were', 'VERB'), ('Allied', 'NOUN'), ('Stores', 'NOUN'), (',', '.'), ('Western', 'NOUN'), ('Union', 'NOUN'), ('Telegraph', 'NOUN'), (',', '.'), ('Gillett', 'PRON'), ('Holdings', 'NOUN'), (',', '.'), ('SCI', 'NOUN'), ('Television', 'NOUN'), ('and', 'CONJ'), ('Texas', 'NOUN'), ('Air', 'NOUN'), (',', '.'), ('though', 'ADP'), ('many', 'ADJ'), ('other', 'ADJ'), ('bonds', 'NOUN'), ('in', 'ADP'), ('Columbia', 'NOUN'), (\"'s\", 'PRT'), ('portfolio', 'NOUN'), ('also', 'ADV'), ('have', 'VERB'), ('lost', 'VERB'), ('value', 'NOUN'), ('.', '.'), ('Junk-bond', 'PRON'), ('markdowns', 'NOUN'), (',', '.'), ('an', 'DET'), ('ongoing', 'ADJ'), ('Securities', 'NOUN'), ('and', 'CONJ'), ('Exchange', 'NOUN'), ('Commission', 'NOUN'), ('investigation', 'NOUN'), (',', '.'), ('a', 'DET'), ('Drexel', 'NOUN'), ('Burnham', 'NOUN'), ('Lambert', 'NOUN'), ('connection', 'NOUN'), (',', '.'), ('a', 'DET'), ('fizzled', 'PRON'), ('buy-out', 'NOUN'), ('rumor', 'NOUN'), ('.', '.'), ('After', 'ADP'), ('these', 'DET'), ('payments', 'NOUN'), (',', '.'), ('about', 'ADP'), ('$', '.'), ('225,000', 'PRON'), ('*U*', 'X'), ('will', 'VERB'), ('be', 'VERB'), ('available', 'ADJ'), ('for', 'ADP'), ('the', 'DET'), ('20', 'NUM'), ('million', 'NUM'), ('common', 'ADJ'), ('shares', 'NOUN'), ('outstanding', 'ADJ'), ('.', '.'), ('As', 'ADP'), ('an', 'DET'), ('actor', 'PRON'), (',', '.'), ('Charles', 'NOUN'), ('Lane', 'NOUN'), ('is', 'VERB'), (\"n't\", 'ADV'), ('the', 'DET'), ('inheritor', 'PRON'), ('of', 'ADP'), ('Charlie', 'PRON'), ('Chaplin', 'NOUN'), (\"'s\", 'PRT'), ('spirit', 'NOUN'), ('.', '.'), ('Later', 'PRON'), ('yesterday', 'NOUN'), (',', '.'), ('a', 'DET'), ('Massachusetts', 'NOUN'), ('senate', 'PRON'), ('committee', 'NOUN'), ('approved', 'VERB'), ('a', 'DET'), ('bill', 'NOUN'), ('0', 'X'), ('*T*-1', 'X'), ('to', 'PRT'), ('allow', 'VERB'), ('national', 'ADJ'), ('interstate', 'ADJ'), ('banking', 'NOUN'), ('by', 'ADP'), ('banks', 'NOUN'), ('in', 'ADP'), ('the', 'DET'), ('state', 'NOUN'), ('*', 'X'), ('beginning', 'VERB'), ('in', 'ADP'), ('1991', 'NUM'), ('.', '.'), ('``', '.'), ('The', 'DET'), ('psychology', 'NOUN'), ('is', 'VERB'), ('still', 'ADV'), (':', '.'), ('`', '.'), ('We', 'PRON'), ('want', 'VERB'), ('-LRB-', '.'), ('stocks', 'NOUN'), ('-RRB-', '.'), ('up', 'ADV'), (',', '.'), ('but', 'CONJ'), ('if', 'ADP'), ('they', 'PRON'), ('do', 'VERB'), (\"n't\", 'ADV'), ('carry', 'VERB'), ('we', 'PRON'), (\"'re\", 'VERB'), ('going', 'VERB'), ('*-1', 'X'), ('to', 'PRT'), ('sell', 'VERB'), ('them', 'PRON'), ('.', '.'), (\"'\", '.'), (\"''\", '.'), ('Moreover', 'ADV'), (',', '.'), ('the', 'DET'), ('framers', 'NOUN'), ('believed', 'VERB'), ('that', 'ADP'), ('the', 'DET'), ('nation', 'NOUN'), ('needed', 'VERB'), ('a', 'DET'), ('unitary', 'PRON'), ('executive', 'ADJ'), ('with', 'ADP'), ('the', 'DET'), ('independence', 'NOUN'), ('and', 'CONJ'), ('resources', 'NOUN'), ('0', 'X'), ('*', 'X'), ('to', 'PRT'), ('perform', 'VERB'), ('the', 'DET'), ('executive', 'ADJ'), ('functions', 'NOUN'), ('that', 'ADP'), ('the', 'DET'), ('Confederation', 'PRON'), ('Congress', 'NOUN'), ('had', 'VERB'), ('performed', 'VERB'), ('*T*-2', 'X'), ('poorly', 'ADV'), ('under', 'ADP'), ('the', 'DET'), ('Articles', 'PRON'), ('of', 'ADP'), ('Confederation', 'PRON'), ('*T*-1', 'X'), ('.', '.'), ('Michael', 'NOUN'), ('Henderson', 'PRON'), (',', '.'), ('51-year-old', 'PRON'), ('group', 'NOUN'), ('chief', 'NOUN'), ('executive', 'NOUN'), ('of', 'ADP'), ('this', 'DET'), ('U.K.', 'NOUN'), ('metals', 'NOUN'), ('and', 'CONJ'), ('industrial', 'ADJ'), ('materials', 'NOUN'), ('maker', 'NOUN'), (',', '.'), ('will', 'VERB'), ('become', 'VERB'), ('chairman', 'NOUN'), ('in', 'ADP'), ('May', 'NOUN'), (',', '.'), ('*-1', 'X'), ('succeeding', 'VERB'), ('Ian', 'PRON'), ('Butler', 'NOUN'), (',', '.'), ('64', 'NUM'), (',', '.'), ('who', 'PRON'), ('*T*-161', 'PRON'), ('is', 'VERB'), ('retiring', 'PRON'), ('.', '.'), ('Government', 'NOUN'), ('officials', 'NOUN'), ('said', 'VERB'), ('0', 'X'), ('exports', 'NOUN'), ('at', 'ADP'), ('the', 'DET'), ('end', 'NOUN'), ('of', 'ADP'), ('the', 'DET'), ('year', 'NOUN'), ('would', 'VERB'), ('remain', 'VERB'), ('under', 'ADP'), ('a', 'DET'), ('government', 'NOUN'), ('target', 'NOUN'), ('of', 'ADP'), ('$', '.'), ('68', 'NUM'), ('billion', 'NUM'), ('*U*', 'X'), ('.', '.'), ('``', '.'), ('We', 'PRON'), (\"'re\", 'VERB'), ('willing', 'ADJ'), ('*-2', 'X'), ('to', 'PRT'), ('negotiate', 'VERB'), (',', '.'), (\"''\", '.'), ('says', 'VERB'), ('*T*-1', 'X'), ('Dennis', 'NOUN'), ('Gillespie', 'NOUN'), (',', '.'), ('executive', 'NOUN'), ('vice', 'NOUN'), ('president', 'NOUN'), ('of', 'ADP'), ('marketing', 'NOUN'), ('.', '.'), ('Fees', 'NOUN'), ('1', 'NUM'), ('7\\\\/8', 'NUM'), ('.', '.'), ('But', 'CONJ'), ('some', 'DET'), ('European', 'ADJ'), ('funds', 'NOUN'), ('recently', 'ADV'), ('have', 'VERB'), ('skyrocketed', 'VERB'), (';', '.'), ('Spain', 'NOUN'), ('Fund', 'NOUN'), ('has', 'VERB'), ('surged', 'VERB'), ('to', 'PRT'), ('a', 'DET'), ('startling', 'ADJ'), ('120', 'NUM'), ('%', 'NOUN'), ('premium', 'NOUN'), ('.', '.'), ('Soon', 'ADV'), (',', '.'), ('T-shirts', 'PRON'), ('*ICH*-1', 'X'), ('appeared', 'VERB'), ('in', 'ADP'), ('the', 'DET'), ('corridors', 'PRON'), ('that', 'ADP'), ('*T*-2', 'X'), ('carried', 'VERB'), ('the', 'DET'), ('school', 'NOUN'), (\"'s\", 'PRT'), ('familiar', 'ADJ'), ('red-and-white', 'PRON'), ('GHS', 'PRON'), ('logo', 'PRON'), ('on', 'ADP'), ('the', 'DET'), ('front', 'NOUN'), ('.', '.'), ('The', 'DET'), ('charge', 'NOUN'), ('on', 'ADP'), ('loans', 'NOUN'), ('to', 'PRT'), ('depository', 'PRON'), ('institutions', 'NOUN'), ('by', 'ADP'), ('the', 'DET'), ('New', 'NOUN'), ('York', 'NOUN'), ('Federal', 'NOUN'), ('Reserve', 'NOUN'), ('Bank', 'NOUN'), ('.', '.'), ('``', '.'), ('Today', 'NOUN'), ('is', 'VERB'), ('not', 'ADV'), ('the', 'DET'), ('time', 'NOUN'), ('0', 'X'), ('*', 'X'), ('to', 'PRT'), ('signal', 'VERB'), ('that', 'ADP'), ('Congress', 'NOUN'), ('in', 'ADP'), ('any', 'DET'), ('way', 'NOUN'), ('sanctions', 'NOUN'), ('the', 'DET'), ('dismal', 'PRON'), ('state', 'NOUN'), ('into', 'ADP'), ('which', 'DET'), ('antitrust', 'ADJ'), ('enforcement', 'NOUN'), ('has', 'VERB'), ('fallen', 'VERB'), ('*T*-3', 'X'), ('*T*-2', 'X'), (',', '.'), (\"''\", '.'), ('Mr.', 'NOUN'), ('Edwards', 'NOUN'), ('argued', 'VERB'), ('0', 'X'), ('*T*-1', 'X'), ('.', '.'), ('The', 'DET'), ('U.S.', 'NOUN'), ('International', 'NOUN'), ('Trade', 'NOUN'), ('Commission', 'NOUN'), ('issued', 'VERB'), ('preliminary', 'ADJ'), ('rulings', 'NOUN'), ('under', 'ADP'), ('the', 'DET'), ('U.S.', 'NOUN'), ('anti-dumping', 'ADJ'), ('act', 'NOUN'), ('that', 'ADP'), ('imports', 'NOUN'), ('of', 'ADP'), ('sweaters', 'NOUN'), ('from', 'ADP'), ('Hong', 'NOUN'), ('Kong', 'NOUN'), (',', '.'), ('Taiwan', 'NOUN'), ('and', 'CONJ'), ('South', 'NOUN'), ('Korea', 'NOUN'), ('may', 'VERB'), ('be', 'VERB'), ('injuring', 'PRON'), ('a', 'DET'), ('domestic', 'ADJ'), ('industry', 'NOUN'), ('.', '.'), ('There', 'DET'), ('is', 'VERB'), ('$', '.'), ('81.8', 'PRON'), ('million', 'NUM'), ('*U*', 'X'), ('of', 'ADP'), ('7.20', 'PRON'), ('%', 'NOUN'), ('term', 'NOUN'), ('bonds', 'NOUN'), ('due', 'ADJ'), ('2009', 'NUM'), ('priced', 'VERB'), ('*', 'X'), ('at', 'ADP'), ('99', 'NUM'), ('1\\\\/4', 'NUM'), ('*', 'X'), ('to', 'PRT'), ('yield', 'VERB'), ('7.272', 'NUM'), ('%', 'NOUN'), ('.', '.'), ('While', 'ADP'), ('Mrs.', 'NOUN'), ('Ward', 'NOUN'), ('fired', 'VERB'), ('and', 'CONJ'), ('restructured', 'VERB'), ('staff', 'NOUN'), ('and', 'CONJ'), ('struggled', 'PRON'), ('*-1', 'X'), ('to', 'PRT'), ('improve', 'VERB'), ('curriculum', 'NOUN'), (',', '.'), ('Mrs.', 'NOUN'), ('Yeargin', 'NOUN'), ('worked', 'VERB'), ('14-hour', 'PRON'), ('days', 'NOUN'), ('and', 'CONJ'), ('fast', 'ADJ'), ('became', 'VERB'), ('a', 'DET'), ('student', 'NOUN'), ('favorite', 'ADJ'), ('.', '.'), ('Mr.', 'NOUN'), ('Black', 'NOUN'), ('said', 'VERB'), ('0', 'X'), ('he', 'PRON'), ('is', 'VERB'), ('``', '.'), ('pleased', 'VERB'), (\"''\", '.'), ('with', 'ADP'), ('the', 'DET'), ('economy', 'NOUN'), (\"'s\", 'PRT'), ('recent', 'ADJ'), ('performance', 'NOUN'), (',', '.'), ('and', 'CONJ'), ('does', 'VERB'), (\"n't\", 'ADV'), ('see', 'VERB'), ('``', '.'), ('a', 'DET'), ('lot', 'NOUN'), ('of', 'ADP'), ('excesses', 'PRON'), ('*ICH*-1', 'X'), ('out', 'PRT'), ('there', 'DET'), ('that', 'ADP'), ('*T*-3', 'X'), ('would', 'VERB'), ('tilt', 'PRON'), ('us', 'PRON'), ('into', 'ADP'), ('recession', 'NOUN'), ('.', '.'), (\"''\", '.'), ('But', 'CONJ'), ('he', 'PRON'), ('has', 'VERB'), ('failed', 'VERB'), ('*-1', 'X'), ('to', 'PRT'), ('gain', 'NOUN'), ('any', 'DET'), ('influence', 'NOUN'), ('at', 'ADP'), ('the', 'DET'), ('company', 'NOUN'), ('.', '.'), ('The', 'DET'), ('issue', 'NOUN'), ('will', 'VERB'), ('be', 'VERB'), ('swapped', 'PRON'), ('*-70', 'X'), ('into', 'ADP'), ('fixed-rate', 'ADJ'), ('U.S.', 'NOUN'), ('dollars', 'NOUN'), ('at', 'ADP'), ('a', 'DET'), ('rate', 'NOUN'), ('0', 'X'), ('the', 'DET'), ('company', 'NOUN'), ('said', 'VERB'), ('0', 'X'), ('*T*-1', 'X'), ('is', 'VERB'), ('less', 'ADJ'), ('than', 'ADP'), ('9', 'NUM'), ('%', 'NOUN'), (';', '.'), ('a', 'DET'), ('spokesman', 'NOUN'), ('declined', 'VERB'), ('*-2', 'X'), ('to', 'PRT'), ('elaborate', 'VERB'), ('.', '.'), ('In', 'ADP'), ('a', 'DET'), ('post-hearing', 'PRON'), ('news', 'NOUN'), ('conference', 'NOUN'), (',', '.'), ('Mr.', 'NOUN'), ('Phelan', 'NOUN'), (',', '.'), ('who', 'PRON'), ('*T*-214', 'PRON'), ('has', 'VERB'), ('publicly', 'ADV'), ('expressed', 'VERB'), ('concern', 'NOUN'), ('about', 'ADP'), ('market', 'NOUN'), ('volatility', 'NOUN'), (',', '.'), ('said', 'VERB'), ('0', 'X'), ('he', 'PRON'), ('told', 'VERB'), ('the', 'DET'), ('House', 'NOUN'), ('finance', 'NOUN'), ('and', 'CONJ'), ('telecommunications', 'NOUN'), ('subcommittee', 'NOUN'), ('that', 'ADP'), ('he', 'PRON'), ('would', 'VERB'), ('support', 'VERB'), ('the', 'DET'), ('program-trading', 'ADJ'), ('halt', 'NOUN'), ('proposal', 'NOUN'), ('``', '.'), ('*', 'X'), ('providing', 'VERB'), ('0', 'X'), ('the', 'DET'), ('SEC', 'NOUN'), ('would', 'VERB'), ('be', 'VERB'), ('comfortable', 'PRON'), ('with', 'ADP'), ('the', 'DET'), ('language', 'NOUN'), (\"''\", '.'), ('in', 'ADP'), ('a', 'DET'), ('bill', 'NOUN'), ('.', '.'), ('Pepperdine', 'PRON'), ('University', 'NOUN'), ('economist', 'NOUN'), ('Dean', 'PRON'), ('Baim', 'PRON'), ('scoffs', 'PRON'), ('at', 'ADP'), ('that', 'DET'), ('.', '.'), ('Ralston', 'NOUN'), ('said', 'VERB'), ('0', 'X'), ('its', 'PRON'), ('Eveready', 'PRON'), ('battery', 'NOUN'), ('unit', 'NOUN'), ('was', 'VERB'), ('hurt', 'VERB'), ('*-1', 'X'), ('by', 'ADP'), ('continuing', 'VERB'), ('economic', 'ADJ'), ('problems', 'NOUN'), ('in', 'ADP'), ('South', 'NOUN'), ('America', 'NOUN'), ('.', '.'), ('``', '.'), ('You', 'PRON'), ('Gotta', 'NOUN'), ('Have', 'NOUN'), ('Wa', '.'), (\"''\", '.'), ('is', 'VERB'), ('the', 'DET'), ('often', 'ADV'), ('amusing', 'ADJ'), ('chronicle', 'PRON'), ('of', 'ADP'), ('how', 'ADV'), ('American', 'ADJ'), ('ballplayers', 'NOUN'), (',', '.'), ('rationed', 'PRON'), ('*', 'X'), ('to', 'PRT'), ('two', 'NUM'), ('per', 'ADP'), ('team', 'NOUN'), (',', '.'), ('fare', 'VERB'), ('*T*-1', 'X'), ('in', 'ADP'), ('Japan', 'NOUN'), ('.', '.'), ('The', 'DET'), ('radio', 'NOUN'), ('show', 'NOUN'), ('``', '.'), ('enraged', 'PRON'), ('us', 'PRON'), (',', '.'), (\"''\", '.'), ('says', 'VERB'), ('*T*-1', 'X'), ('Mrs.', 'NOUN'), ('Ward', 'NOUN'), ('.', '.'), ('The', 'DET'), ('total', 'ADJ'), ('of', 'ADP'), ('18', 'NUM'), ('deaths', 'NOUN'), ('from', 'ADP'), ('malignant', 'PRON'), ('mesothelioma', 'PRON'), (',', '.'), ('lung', 'NOUN'), ('cancer', 'NOUN'), ('and', 'CONJ'), ('asbestosis', 'PRON'), ('was', 'VERB'), ('far', 'ADV'), ('higher', 'ADJ'), ('than', 'ADP'), ('*', 'X'), ('expected', 'VERB'), ('*?*', 'X'), (',', '.'), ('the', 'DET'), ('researchers', 'NOUN'), ('said', 'VERB'), ('0', 'X'), ('*T*-1', 'X'), ('.', '.'), ('The', 'DET'), ('company', 'NOUN'), ('said', 'VERB'), ('0', 'X'), ('its', 'PRON'), ('industrial', 'ADJ'), ('unit', 'NOUN'), ('continues', 'VERB'), ('*-1', 'X'), ('to', 'PRT'), ('face', 'VERB'), ('margin', 'NOUN'), ('pressures', 'NOUN'), ('and', 'CONJ'), ('lower', 'ADJ'), ('demand', 'NOUN'), ('.', '.'), ('Both', 'DET'), ('sides', 'NOUN'), ('have', 'VERB'), ('agreed', 'VERB'), ('that', 'ADP'), ('the', 'DET'), ('talks', 'NOUN'), ('will', 'VERB'), ('be', 'VERB'), ('most', 'ADV'), ('successful', 'ADJ'), ('if', 'ADP'), ('negotiators', 'NOUN'), ('start', 'VERB'), ('by', 'ADP'), ('*', 'X'), ('focusing', 'VERB'), ('on', 'ADP'), ('the', 'DET'), ('areas', 'NOUN'), ('that', 'ADP'), ('*T*-186', 'PRON'), ('can', 'VERB'), ('be', 'VERB'), ('most', 'ADV'), ('easily', 'ADV'), ('changed', 'VERB'), ('*-1', 'X'), ('.', '.'), ('The', 'DET'), ('reaction', 'NOUN'), ('in', 'ADP'), ('the', 'DET'), ('newsroom', 'NOUN'), ('was', 'VERB'), ('emotional', 'PRON'), ('.', '.'), ('The', 'DET'), ('average', 'ADJ'), ('maturity', 'NOUN'), ('for', 'ADP'), ('funds', 'NOUN'), ('open', 'VERB'), ('only', 'ADV'), ('to', 'PRT'), ('institutions', 'NOUN'), (',', '.'), ('considered', 'VERB'), ('by', 'ADP'), ('some', 'DET'), ('*', 'X'), ('to', 'PRT'), ('be', 'VERB'), ('a', 'DET'), ('stronger', 'ADJ'), ('indicator', 'NOUN'), ('because', 'ADP'), ('those', 'DET'), ('managers', 'NOUN'), ('watch', 'VERB'), ('the', 'DET'), ('market', 'NOUN'), ('closely', 'ADV'), (',', '.'), ('reached', 'VERB'), ('a', 'DET'), ('high', 'ADJ'), ('point', 'NOUN'), ('for', 'ADP'), ('the', 'DET'), ('year', 'NOUN'), ('--', '.'), ('33', 'NUM'), ('days', 'NOUN'), ('.', '.'), ('The', 'DET'), ('screen', 'NOUN'), ('fills', 'VERB'), ('with', 'ADP'), ('a', 'DET'), ('small', 'ADJ'), (',', '.'), ('tight', 'ADJ'), ('facial', 'PRON'), ('shot', 'VERB'), ('of', 'ADP'), ('David', 'NOUN'), ('Dinkins', 'NOUN'), (',', '.'), ('Democratic', 'ADJ'), ('candidate', 'NOUN'), ('for', 'ADP'), ('mayor', 'NOUN'), ('of', 'ADP'), ('New', 'NOUN'), ('York', 'NOUN'), ('City', 'NOUN'), ('.', '.'), ('The', 'DET'), ('broader', 'ADJ'), ('question', 'NOUN'), ('is', 'VERB'), ('where', 'ADV'), ('the', 'DET'), ('Senate', 'NOUN'), ('stands', 'VERB'), ('*T*-1', 'X'), ('on', 'ADP'), ('the', 'DET'), ('issue', 'NOUN'), ('.', '.'), ('Fees', 'NOUN'), ('1', 'NUM'), ('5\\\\/8', 'NUM'), ('.', '.'), ('IBM', 'NOUN'), (',', '.'), ('the', 'DET'), ('world', 'NOUN'), ('leader', 'NOUN'), ('in', 'ADP'), ('computers', 'NOUN'), (',', '.'), ('did', 'VERB'), (\"n't\", 'ADV'), ('offer', 'VERB'), ('its', 'PRON'), ('first', 'ADJ'), ('PC', 'NOUN'), ('until', 'ADP'), ('August', 'NOUN'), ('1981', 'NUM'), ('as', 'ADP'), ('many', 'ADJ'), ('other', 'ADJ'), ('companies', 'NOUN'), ('entered', 'VERB'), ('the', 'DET'), ('market', 'NOUN'), ('.', '.'), ('Late', 'ADV'), ('that', 'ADP'), ('afternoon', 'NOUN'), ('the', 'DET'), ('S&P', 'NOUN'), ('500', 'NUM'), ('stock-index', 'NOUN'), ('futures', 'NOUN'), ('contract', 'NOUN'), ('fell', 'VERB'), ('a', 'DET'), ('total', 'ADJ'), ('of', 'ADP'), ('30', 'NUM'), ('index', 'NOUN'), ('points', 'NOUN'), (',', '.'), ('*-1', 'X'), ('hitting', 'VERB'), ('a', 'DET'), ('Merc', 'NOUN'), ('circuit', 'NOUN'), ('breaker', 'NOUN'), ('limit', 'NOUN'), ('that', 'ADP'), ('*T*-210', 'PRON'), ('remained', 'VERB'), ('in', 'ADP'), ('effect', 'NOUN'), ('for', 'ADP'), ('the', 'DET'), ('rest', 'NOUN'), ('of', 'ADP'), ('the', 'DET'), ('trading', 'NOUN'), ('session', 'NOUN'), ('.', '.')]\n"
     ]
    }
   ],
   "source": [
    "print(\"Time taken in seconds: \", difference)\n",
    "print(test_tagged_seq)"
   ]
  },
  {
   "cell_type": "code",
   "execution_count": 28,
   "metadata": {},
   "outputs": [
    {
     "name": "stdout",
     "output_type": "stream",
     "text": [
      "The accuracy of the Vanilla Viterbi Algorithm is : 0.9084317381396313\n"
     ]
    }
   ],
   "source": [
    "# accuracy of the vanilla viterbi algorithm\n",
    "\n",
    "check = [i for i, j in zip(test_tagged_seq, tagged_words) if i == j]\n",
    "\n",
    "vanilla_viterbi_accuracy = len(check)/len(test_tagged_seq)\n",
    "\n",
    "print(\"The accuracy of the Vanilla Viterbi Algorithm is :\", vanilla_viterbi_accuracy)"
   ]
  },
  {
   "cell_type": "code",
   "execution_count": 29,
   "metadata": {},
   "outputs": [
    {
     "name": "stdout",
     "output_type": "stream",
     "text": [
      "442\n"
     ]
    }
   ],
   "source": [
    "# understand the incorrect tagged cases\n",
    "\n",
    "incorrect_tagged_cases = [[tagged_words[i-1],j] for i, j in enumerate(zip(test_tagged_seq, tagged_words)) if j[0]!=j[1]]\n",
    "print(len(incorrect_tagged_cases))\n",
    "#incorrect_tagged_cases"
   ]
  },
  {
   "cell_type": "markdown",
   "metadata": {},
   "source": [
    "####  Unknows words\n"
   ]
  },
  {
   "cell_type": "code",
   "execution_count": 30,
   "metadata": {},
   "outputs": [
    {
     "name": "stdout",
     "output_type": "stream",
     "text": [
      "Total Unknown words : 317\n",
      "\n",
      "\n",
      "Unknown Words : ['agriculture', 'COMMUNICATIONS', '37-year-old', '*T*-214', 'vetoes', 'upsetting', 'demonstrating', 'vision', 'Symbol', 'capitalism', 'Nelms', 'pair', 'Johns', 'accrued', 'depression', '301', 'ingenuity', 'scams', 'Dean', 'Eveready', 'Crime', 'Psychiatry', 'water-authority', 'destroy', 'copyrights', 'authorizing', '4.55', 'asbestosis', 'Petersburg', 'newspaper-printing', 'Encouraging', 'raw', 'HUD', 'hauling', 'reversed', 'logo', '51-year-old', 'Sonny', 'T-shirts', 'Trans', 'decisive', 'Leon', 'confident', '*T*-200', 'minimal', 'Level', 'ranging', 'clipped', 'money-center', 'Guarantee', 'characteristics', 'EST', 'stare', 'wheel-loader', 'reasserts', 'clothes', 'valuations', 'Something', 'fattened', 'Westport', 'fizzled', '*T*-107', 'protocols', '11,390,000', 'enjoyed', 'comfortable', 'tinker', '6.4', 'trials', 'deteriorating', 'coal-fired', 'snaking', 'coincidental', 'quietly', 'Brent', 'Baim', 'dismissal', '5.6', 'inheritor', 'Post', '7.79', '1614', 'wine-making', 'reserve', 'chilled', '7.60', 'Automobile', 'refrigerator', 'Tandy', 'Ian', 'efficiency', '387.8', 'retiring', 'actor', 'honors', 'absorbed', '500,004', 'Confederation', 'competitions', 'unitary', 'Being', '153.3', '*T*-220', 'Perestroika', 'facial', 'college-bowl', 'rhythmically', 'bargains', 'specifics', 'abortion-related', 'Bon', 'Tokio', 'round-trip', 'distinct', 'Numerous', 'bloc', 'aspires', 'herself', 'lifes', 'outdistanced', 'retort', 'Social', '*T*-186', 'Heidelberg', 'Napolitan', 'truth-in-lending', 'preventative', 'darned', 'three-month', '148.9', 'drops', 'Tray', 'saving', 'attracts', '17-year-old', '*T*-161', 'dancing', 'clean-up', 'eyeing', '47.5', 'TRS-80', '271,124', 'swapped', 'Saturday', 'deprived', '*T*-210', 'confirms', 'sorting', 'Henderson', 'lobbyist', 'Quant', 'ChemPlus', 'gentle', 'appliance', 'prescribe', 'deregulation', '422.5', 'GHS', '400,000', 'expense', 'INS', 'scoffs', '12.97', 'Pepperdine', '79', 'awful', 'garden-variety', 'instructed', '1991-1999', '6.44', 'Claire', 'cane', '492', 'rationed', 'singled', 'sends', 'Fischer', 'mistrials', '7.20', 'Ranger', 'post-hearing', 'reorganized', 'corridors', 'safe', 'fleeting', 'assure', 'shaping', 'CSV', 'creditworthiness', 'drafted', 'scrape', '16.5', 'approaches', 'perpetual', 'chronicle', 'dismal', 'insert', 'watching', 'Gillett', 'clothing', 'McFarlan', 'Choose', 'Hoffman', 'emotional', 'rope-sight', 'Later', 'orange', '42.1', 'distinguished', 'DISCOUNT', 'public-relations', 'diplomacy', 'Chadha', 'alarmed', 'Articles', 'Alurralde', 'struggled', 'Commodore', '343', 'graphics', 'Lonski', 'improvements', 'Auditors', 'Hopkins', 'mode', 'reimbursed', 'columns', '81.8', 'ex-dividend', 'p.m.', 'Marcus', 'risk-free', 'Generally', 'crookery', 'allies', 'unenthusiastic', 'Breakey', 'spectacular', 'Mercedes', 'exceeds', 'trees', 'Colleges', 'enraged', 'possessed', 'Spirit', 'passport', 'Scowcroft', 'Strait', 'Pet', 'Somerset', 'collecting', 'pre-approved', 'muffled', '382-37', 'jumps', 'worrying', 'Joni', 'attendance', 'Colorliner', 'specializing', 'dinner', 'malignant', 'denouncing', 'antitrust-law', 'spilling', 'subsidize', 'Inventor', '570', 'hunted', 'sparing', 'Funded', 'quantitive', 'tilt', '18-a-share', 'quitting', 'stuff', 'punitive', 'planting', 'enrollment', '7.52', '225,000', 'Charlie', 'most-likely-successor', 'exorbitant', 'Nomenklatura', '321,000', 'families', 'depository', 'Ilminster', 'pulls', 'supplier', '5.63', 'retaliation', 'recruited', 'Junk-bond', 'smoothly', 'Miguel', 'red-and-white', 'dust-up', 'chaotic', 'scandals', 'curbing', 'ROGERS', 'excesses', 'A-D', '14-hour', 'topped', 'external', 'mesothelioma', 'senate', 'concessions', 'Touches', 'injuring', 'NYSE', 'Design', 'C-90', 'Totally']\n"
     ]
    }
   ],
   "source": [
    "# Unknown words \n",
    "\n",
    "test_vocab_set = set([t for t in test_tagged_words])\n",
    "\n",
    "unknown_words = list(test_vocab_set - training_vocabulary_set)\n",
    "print(\"Total Unknown words :\", len(unknown_words))\n",
    "print(\"\\n\")\n",
    "print(\"Unknown Words :\", unknown_words)"
   ]
  },
  {
   "cell_type": "markdown",
   "metadata": {},
   "source": [
    "### Solve the problem of unknown words"
   ]
  },
  {
   "cell_type": "markdown",
   "metadata": {},
   "source": [
    "#### Method 1 "
   ]
  },
  {
   "cell_type": "markdown",
   "metadata": {},
   "source": [
    "Method 1\n",
    "The default Vanilla viterbi algorithm achieved an accuracy of about 94.14%. This approx. 5.86% loss of accuracy was majorly due to the fact that when the algorithm encountered an unknown word (i.e. not present in the training set), it assigned an incorrect tag arbitrarily. This is because, for unknown words, the emission probabilities for all candidate tags are 0, so the algorithm arbitrarily chooses (the first) tag.\n",
    "\n",
    "Now lets see how we can minimize this loss by modifying the vanilla viterbi.\n",
    "\n",
    "If a word is not present in the training vocabulary (unknown word), its emission probability will be ZERO. In that case the state probability will inturn be zero. Thus in cases where the algorithm encounters a word which it has not see previously, we can omit the emission probability and only consider the transition probability.\n",
    "\n",
    "The algorithm can be modified to deal the case as below -\n",
    "\n",
    "If word in unknown then\n",
    "\n",
    "consider only the transition_p (emission probability being 0)\n",
    "\n",
    "else\n",
    "\n",
    "consider both the emission and transition probability."
   ]
  },
  {
   "cell_type": "code",
   "execution_count": 31,
   "metadata": {},
   "outputs": [],
   "source": [
    "# Modified Viterbi Heuristic for Unknown words\n",
    "def Unknown_Words_With_Vanilla_Viterbi(words, training_bag = training_tagged_words):\n",
    "    state = []\n",
    "    #T = list(set([pair[1] for pair in train_bag]))\n",
    "    T = list(set(get_tuple_value_from_list(training_bag, 1)))\n",
    "    \n",
    "    for key, word in enumerate(words):\n",
    "        p = [] \n",
    "        for tag in T:\n",
    "            if key == 0:\n",
    "                transition_p = df_tags.loc['.', tag]\n",
    "            else:\n",
    "                transition_p = df_tags.loc[state[-1], tag]\n",
    "                \n",
    "            # compute emission and state probabilities\n",
    "            emission_p = emission_probability_word_given_tag(words[key], tag)[0]/emission_probability_word_given_tag(words[key], tag)[1]\n",
    "            \n",
    "            # modification to the original vanilla viterbi algorithm \n",
    "            # to consider unknown words\n",
    "            if word not in training_vocabulary_set:\n",
    "                state_probability = transition_p\n",
    "            else:\n",
    "                state_probability = emission_p * transition_p\n",
    "                \n",
    "            p.append(state_probability)\n",
    "            \n",
    "        pmax = max(p)\n",
    "        # getting state for which probability is maximum\n",
    "        state_max = T[p.index(pmax)] \n",
    "        state.append(state_max)\n",
    "    return list(zip(words, state))"
   ]
  },
  {
   "cell_type": "code",
   "execution_count": 32,
   "metadata": {},
   "outputs": [],
   "source": [
    "# tagging the test sentences\n",
    "start = time.time()\n",
    "unknown_word_test_tagged_seq = Unknown_Words_With_Vanilla_Viterbi(test_tagged_words)\n",
    "\n",
    "# accuracy\n",
    "test_unknown_word_check = [i for i, j in zip(unknown_word_test_tagged_seq, tagged_words) if i == j]\n",
    "\n",
    "optimized_viterbi_accuracy = len(test_unknown_word_check)/len(unknown_word_test_tagged_seq)\n",
    "\n",
    "end = time.time()\n",
    "difference = end-start"
   ]
  },
  {
   "cell_type": "code",
   "execution_count": 33,
   "metadata": {},
   "outputs": [
    {
     "name": "stdout",
     "output_type": "stream",
     "text": [
      "Time taken in seconds:  1414.5396857261658\n",
      "The accuracy of the Vanilla Viterbi Algorithm after modification to handle unknown words is: 0.9428216283405843\n"
     ]
    }
   ],
   "source": [
    "print(\"Time taken in seconds: \", difference)\n",
    "print(\"The accuracy of the Vanilla Viterbi Algorithm after modification to handle unknown words is:\", optimized_viterbi_accuracy)"
   ]
  },
  {
   "cell_type": "markdown",
   "metadata": {},
   "source": [
    "The accuracy of the Vanilla Viterbi Algorithm after modification to handle unknown words is: 0.9377224199288257\n",
    "We see the modified viterbi algorithm performs better than the original vanilla viterbi algorithm. The modified viterbi achieves an accuracy of (approx.) 94 comapred to 94% of the vanilla viterbi.\n",
    "\n",
    "Still there is a loss of approx. 6%.\n",
    "\n",
    "Now lets see if we can in reduce this loss further.\n",
    "\n",
    "Let's try with some Lexicon and Rule-Based Models for POS Tagging.\n",
    "Unigram Tagger"
   ]
  },
  {
   "cell_type": "code",
   "execution_count": 34,
   "metadata": {},
   "outputs": [
    {
     "name": "stdout",
     "output_type": "stream",
     "text": [
      "Unigram Tagger Accuracy:  0.9071887300600787\n"
     ]
    }
   ],
   "source": [
    "# Unigram Tagger\n",
    "\n",
    "unigram_tagger = nltk.UnigramTagger(train_set)\n",
    "unigram_tagger_accuracy = unigram_tagger.evaluate(test_set)\n",
    "print(\"Unigram Tagger Accuracy: \", unigram_tagger_accuracy)"
   ]
  },
  {
   "cell_type": "markdown",
   "metadata": {},
   "source": [
    "Let's now try combining the unigram tagger with a rule based regex tagger."
   ]
  },
  {
   "cell_type": "code",
   "execution_count": 35,
   "metadata": {},
   "outputs": [],
   "source": [
    "# rule based regex tagger\n",
    "\n",
    "patterns = [\n",
    "    (r'^[aA-zZ].*[0-9]+','NOUN'),  # Alpha Numeric\n",
    "    (r'.*ness$', 'NOUN'),\n",
    "    (r'.*\\'s$', 'NOUN'),              # possessive nouns\n",
    "    (r'.*s$', 'NOUN'),                # plural nouns\n",
    "    (r'.*', 'NOUN'),    \n",
    "    (r'.*ly$', 'ADV'),\n",
    "    (r'^(0|([*|-|$].*))','X'), # Any special character combination\n",
    "    (r'.*ould$', 'X'), # modals\n",
    "    (r'(The|the|A|a|An|an)$', 'DET'),\n",
    "    (r'^([0-9]|[aA-zZ])+\\-[aA-zZ]*$','ADJ'),\n",
    "    (r'.*able$', 'ADJ'), # adjective like 100-megabytes 237-Seats\n",
    "    (r'[aA-zZ]+(ed|ing|es)$', 'VERB'), # Any word ending with 'ing' or 'ed' is a verb\n",
    "    (r'[0-9].?[,\\/]?[0-9]*','NUM')# Numbers \n",
    "    ]"
   ]
  },
  {
   "cell_type": "code",
   "execution_count": 36,
   "metadata": {},
   "outputs": [],
   "source": [
    "# rule based RegexpTagger\n",
    "\n",
    "rule_based_tagger = nltk.RegexpTagger(patterns)\n",
    "\n",
    "# unigram tagger backed up by the rule-based tagger\n",
    "rule_based_unigram_tagger = nltk.UnigramTagger(train_set, backoff = rule_based_tagger)\n",
    "\n",
    "accuracy_rule_based_unigram_tagger = rule_based_unigram_tagger.evaluate(test_set)"
   ]
  },
  {
   "cell_type": "code",
   "execution_count": 37,
   "metadata": {},
   "outputs": [
    {
     "name": "stdout",
     "output_type": "stream",
     "text": [
      "Unigram Tagger Accuracy backed up by the RegexpTagger: 0.939714108141703\n"
     ]
    }
   ],
   "source": [
    "print(\"Unigram Tagger Accuracy backed up by the RegexpTagger:\", accuracy_rule_based_unigram_tagger)"
   ]
  },
  {
   "cell_type": "code",
   "execution_count": 38,
   "metadata": {},
   "outputs": [],
   "source": [
    "# Bigram tagger\n",
    "\n",
    "bigram_tagger = nltk.BigramTagger(train_set, backoff = rule_based_unigram_tagger)\n",
    "bigram_tagger.evaluate(test_set)\n",
    "accuracy_bigram_tagger = bigram_tagger.evaluate(test_set)"
   ]
  },
  {
   "cell_type": "code",
   "execution_count": 39,
   "metadata": {},
   "outputs": [
    {
     "name": "stdout",
     "output_type": "stream",
     "text": [
      "Bigram Tagger Accuracy backed up by the rule based unigram tagger: 0.943857468406878\n"
     ]
    }
   ],
   "source": [
    "print(\"Bigram Tagger Accuracy backed up by the rule based unigram tagger:\", accuracy_bigram_tagger)"
   ]
  },
  {
   "cell_type": "code",
   "execution_count": 40,
   "metadata": {},
   "outputs": [],
   "source": [
    "# trigram tagger\n",
    "\n",
    "trigram_tagger = nltk.TrigramTagger(train_set, backoff = bigram_tagger)\n",
    "trigram_tagger.evaluate(test_set)\n",
    "accuracy_trigram_tagger = trigram_tagger.evaluate(test_set)"
   ]
  },
  {
   "cell_type": "code",
   "execution_count": 41,
   "metadata": {},
   "outputs": [
    {
     "name": "stdout",
     "output_type": "stream",
     "text": [
      "Trigram Tagger accuracy backed up by the bigram tagger: 0.941371452247773\n"
     ]
    }
   ],
   "source": [
    "print(\"Trigram Tagger accuracy backed up by the bigram tagger:\", accuracy_trigram_tagger)"
   ]
  },
  {
   "cell_type": "markdown",
   "metadata": {},
   "source": [
    "##### Method 2\n",
    "We see that the Trigram Tagger backed up by the bigram tagger gives an accuracy of about 94.6%. Let's now try to modify the viterbi algorithm to use this trigram tagger as a back-off.\n",
    "\n",
    "When the viterbi algorithm is not able to tag an unknown word, it uses the rule-based tagger."
   ]
  },
  {
   "cell_type": "code",
   "execution_count": 42,
   "metadata": {},
   "outputs": [],
   "source": [
    "\n",
    "def trigram_tagger(word, train_set = train_set):\n",
    "    \n",
    "    patterns = [\n",
    "    (r'[aA-zZ]+(ed|ing|es)$', 'VERB'), # Any word ending with 'ing' or 'ed' is a verb\n",
    "\n",
    "    (r'.*ly$', 'ADV'),\n",
    "        \n",
    "    (r'^([0-9]|[aA-zZ])+\\-[aA-zZ]*$','ADJ'),\n",
    "    (r'.*able$', 'ADJ'), \n",
    "    (r'.*ful$', 'ADJ'),\n",
    "    (r'.*ous$', 'ADJ'),\n",
    "        \n",
    "    (r'^[aA-zZ].*[0-9]+','NOUN'),     # Alpha Numeric\n",
    "    (r'.*ness$', 'NOUN'),\n",
    "    (r'.*\\'s$', 'NOUN'),              # possessive nouns - words ending with 's\n",
    "    (r'.*s$', 'NOUN'),                # plural nouns\n",
    "    (r'.*ers$', 'NOUN'),              # eg.- kinderganteners, autobioghapgers\n",
    "    (r'.*ment$', 'NOUN'),\n",
    "    (r'.*town$', 'NOUN'),\n",
    "        \n",
    "    (r'^(0|([*|-|$].*))','X'), # Any special character combination\n",
    "    (r'.*ould$', 'X'),\n",
    "        \n",
    "    (r'(The|the|A|a|An|an|That|that|This|this|Those|those|These|these)$', 'DET'), # That/this/these/those belong to the category of Demonstrative determiners\n",
    "    (r'[0-9].?[,\\/]?[0-9]*','NUM'), # Numbers \n",
    "        \n",
    "    (r'.*', 'NOUN')\n",
    "    ]\n",
    "\n",
    "    regex_based_tagger = nltk.RegexpTagger(patterns)\n",
    "\n",
    "    # trigram backed up by the regex tagger\n",
    "    trigram_regex_tagger = nltk.TrigramTagger(train_set, backoff = regex_based_tagger)\n",
    "    return trigram_regex_tagger.tag_sents([[(word)]])"
   ]
  },
  {
   "cell_type": "code",
   "execution_count": 43,
   "metadata": {},
   "outputs": [],
   "source": [
    "def viterbi_backedup_by_trigram_tagger(words, training_bag = training_tagged_words):\n",
    "    state = []\n",
    "    tag_set = list(set(get_tuple_value_from_list(training_bag, 1))) #list(set([pair[1] for pair in training_bag]))\n",
    "    \n",
    "    # unknown words with trigram tagger backed up by the rule based tagger\n",
    "\n",
    "    for key, word in enumerate(words):\n",
    "        if word not in training_vocabulary_set:\n",
    "            unknown_word_tag = trigram_tagger(word)\n",
    "            for sent in unknown_word_tag:\n",
    "                for tup in sent:\n",
    "                    state.append(tup[1])\n",
    "        else:            \n",
    "            p = [] \n",
    "            for tag in tag_set:\n",
    "                if key == 0:\n",
    "                    transition_p = df_tags.loc['.', tag]\n",
    "                else:\n",
    "                    transition_p = df_tags.loc[state[-1], tag]\n",
    "                \n",
    "            # compute emission and state probabilities\n",
    "                emission_p = emission_probability_word_given_tag(words[key], tag)[0]/emission_probability_word_given_tag(words[key], tag)[1]\n",
    "                state_probability = emission_p * transition_p    \n",
    "                p.append(state_probability)\n",
    "            \n",
    "            pmax = max(p)\n",
    "            # getting state for which probability is maximum\n",
    "            state_max = tag_set[p.index(pmax)] \n",
    "            state.append(state_max)\n",
    "    return list(zip(words, state))"
   ]
  },
  {
   "cell_type": "markdown",
   "metadata": {},
   "source": [
    "#### Evaluating tagging accuracy"
   ]
  },
  {
   "cell_type": "code",
   "execution_count": 44,
   "metadata": {},
   "outputs": [],
   "source": [
    "# tagging the test sentences\n",
    "viterbi_trigram_tagged_seq = viterbi_backedup_by_trigram_tagger(test_tagged_words)\n",
    "\n",
    "# accuracy\n",
    "viterbi_trigram_word_check = [i for i, j in zip(viterbi_trigram_tagged_seq, tagged_words) if i == j]\n",
    "\n",
    "viterbi_trigram_accuracy = len(viterbi_trigram_word_check)/len(viterbi_trigram_tagged_seq)"
   ]
  },
  {
   "cell_type": "code",
   "execution_count": 45,
   "metadata": {},
   "outputs": [
    {
     "name": "stdout",
     "output_type": "stream",
     "text": [
      "viterbi backed up by trigram tagger accuracy: 0.9604309094675783\n"
     ]
    }
   ],
   "source": [
    "print(\"viterbi backed up by trigram tagger accuracy:\", viterbi_trigram_accuracy)"
   ]
  },
  {
   "cell_type": "markdown",
   "metadata": {},
   "source": [
    "#### Compare the tagging accuracies of the modifications with the vanilla Viterbi algorithm\n",
    "##### 1. First lets check the tagging accuracy on the test_set data generated using the test_train_split"
   ]
  },
  {
   "cell_type": "code",
   "execution_count": 46,
   "metadata": {},
   "outputs": [
    {
     "data": {
      "text/html": [
       "<div>\n",
       "<style scoped>\n",
       "    .dataframe tbody tr th:only-of-type {\n",
       "        vertical-align: middle;\n",
       "    }\n",
       "\n",
       "    .dataframe tbody tr th {\n",
       "        vertical-align: top;\n",
       "    }\n",
       "\n",
       "    .dataframe thead th {\n",
       "        text-align: right;\n",
       "    }\n",
       "</style>\n",
       "<table border=\"1\" class=\"dataframe\">\n",
       "  <thead>\n",
       "    <tr style=\"text-align: right;\">\n",
       "      <th></th>\n",
       "      <th>Tagging_Accuracy</th>\n",
       "    </tr>\n",
       "    <tr>\n",
       "      <th>Tagging_Algorithm</th>\n",
       "      <th></th>\n",
       "    </tr>\n",
       "  </thead>\n",
       "  <tbody>\n",
       "    <tr>\n",
       "      <td>Vanilla Viterbi</td>\n",
       "      <td>90.843174</td>\n",
       "    </tr>\n",
       "    <tr>\n",
       "      <td>Optimized Vanilla Viterbi</td>\n",
       "      <td>94.282163</td>\n",
       "    </tr>\n",
       "    <tr>\n",
       "      <td>Unigram Tagger</td>\n",
       "      <td>90.718873</td>\n",
       "    </tr>\n",
       "    <tr>\n",
       "      <td>Unigram + RegexpTagger</td>\n",
       "      <td>93.971411</td>\n",
       "    </tr>\n",
       "    <tr>\n",
       "      <td>Bigram Tagger + Unigram_tagger</td>\n",
       "      <td>94.385747</td>\n",
       "    </tr>\n",
       "    <tr>\n",
       "      <td>Trigram Tagger + Bigram_tagger</td>\n",
       "      <td>94.137145</td>\n",
       "    </tr>\n",
       "    <tr>\n",
       "      <td>Viterbi + Trigram_tagger</td>\n",
       "      <td>96.043091</td>\n",
       "    </tr>\n",
       "  </tbody>\n",
       "</table>\n",
       "</div>"
      ],
      "text/plain": [
       "                                Tagging_Accuracy\n",
       "Tagging_Algorithm                               \n",
       "Vanilla Viterbi                        90.843174\n",
       "Optimized Vanilla Viterbi              94.282163\n",
       "Unigram Tagger                         90.718873\n",
       "Unigram + RegexpTagger                 93.971411\n",
       "Bigram Tagger + Unigram_tagger         94.385747\n",
       "Trigram Tagger + Bigram_tagger         94.137145\n",
       "Viterbi + Trigram_tagger               96.043091"
      ]
     },
     "execution_count": 46,
     "metadata": {},
     "output_type": "execute_result"
    }
   ],
   "source": [
    "acccuracy_data = [['Vanilla Viterbi', vanilla_viterbi_accuracy*100], \n",
    "                  ['Optimized Vanilla Viterbi', optimized_viterbi_accuracy*100], \n",
    "                  ['Unigram Tagger', unigram_tagger_accuracy*100],\n",
    "                  ['Unigram + RegexpTagger', accuracy_rule_based_unigram_tagger*100],\n",
    "                  ['Bigram Tagger + Unigram_tagger', accuracy_bigram_tagger*100],\n",
    "                  ['Trigram Tagger + Bigram_tagger', accuracy_trigram_tagger*100],\n",
    "                  ['Viterbi + Trigram_tagger', viterbi_trigram_accuracy*100]]\n",
    "\n",
    "df_data_acccuracy = pd.DataFrame(acccuracy_data, columns = ['Tagging_Algorithm', 'Tagging_Accuracy'])\n",
    "\n",
    "df_data_acccuracy.set_index('Tagging_Algorithm', drop = True, inplace = True)\n",
    "\n",
    "df_data_acccuracy"
   ]
  },
  {
   "cell_type": "code",
   "execution_count": 47,
   "metadata": {},
   "outputs": [
    {
     "data": {
      "text/plain": [
       "<matplotlib.axes._subplots.AxesSubplot at 0x1c5be1cacc8>"
      ]
     },
     "execution_count": 47,
     "metadata": {},
     "output_type": "execute_result"
    },
    {
     "data": {
      "image/png": "[encoded data removed]",
      "text/plain": [
       "<Figure size 432x288 with 1 Axes>"
      ]
     },
     "metadata": {
      "needs_background": "light"
     },
     "output_type": "display_data"
    }
   ],
   "source": [
    "df_data_acccuracy.plot.line(rot = 90, legend = False)"
   ]
  },
  {
   "cell_type": "markdown",
   "metadata": {},
   "source": [
    "#### 2. Next, lets check the tagging accuracies for the algorithm on the sample test sentences provided -"
   ]
  },
  {
   "cell_type": "code",
   "execution_count": 48,
   "metadata": {},
   "outputs": [],
   "source": [
    "test_sentences = ['Android is a mobile operating system developed by Google.',\n",
    "\"Android has been the best-selling OS worldwide on smartphones since 2011 and on tablets since 2013.\",\n",
    "\"Google and Twitter made a deal in 2015 that gave Google access to Twitter's firehose.\",\n",
    "\"Twitter is an online news and social networking service on which users post and interact with messages known as tweets.\",\n",
    "\"Before entering politics, Donald Trump was a domineering businessman and a television personality.\",\n",
    "\"The 2018 FIFA World Cup is the 21st FIFA World Cup, an international football tournament contested once every four years.\",\n",
    "\"This is the first World Cup to be held in Eastern Europe and the 11th time that it has been held in Europe.\",\n",
    "\"Show me the cheapest round trips from Dallas to Atlanta\",\n",
    "\"I would like to see flights from Denver to Philadelphia.\",\n",
    "\"Show me the price of the flights leaving Atlanta at about 3 in the afternoon and arriving in San Francisco.\",\n",
    "\"NASA invited social media users to experience the launch of ICESAT-2 Satellite.\"]"
   ]
  },
  {
   "cell_type": "code",
   "execution_count": 49,
   "metadata": {},
   "outputs": [
    {
     "data": {
      "text/plain": [
       "[[('Android', 'NOUN'),\n",
       "  ('is', 'VERB'),\n",
       "  ('a', 'DET'),\n",
       "  ('mobile', 'ADJ'),\n",
       "  ('operating', 'NOUN'),\n",
       "  ('system', 'NOUN'),\n",
       "  ('developed', 'VERB'),\n",
       "  ('by', 'ADP'),\n",
       "  ('Google', 'NOUN'),\n",
       "  ('.', '.')],\n",
       " [('Android', 'NOUN'),\n",
       "  ('has', 'VERB'),\n",
       "  ('been', 'VERB'),\n",
       "  ('the', 'DET'),\n",
       "  ('best-selling', 'ADJ'),\n",
       "  ('OS', 'NOUN'),\n",
       "  ('worldwide', 'NOUN'),\n",
       "  ('on', 'ADP'),\n",
       "  ('smartphones', 'NOUN'),\n",
       "  ('since', 'ADP'),\n",
       "  ('2011', 'NUM'),\n",
       "  ('and', 'CONJ'),\n",
       "  ('on', 'ADP'),\n",
       "  ('tablets', 'NOUN'),\n",
       "  ('since', 'ADP'),\n",
       "  ('2013', 'NUM'),\n",
       "  ('.', '.')],\n",
       " [('Google', 'NOUN'),\n",
       "  ('and', 'CONJ'),\n",
       "  ('Twitter', 'NOUN'),\n",
       "  ('made', 'VERB'),\n",
       "  ('a', 'DET'),\n",
       "  ('deal', 'NOUN'),\n",
       "  ('in', 'ADP'),\n",
       "  ('2015', 'NUM'),\n",
       "  ('that', 'DET'),\n",
       "  ('gave', 'VERB'),\n",
       "  ('Google', 'NOUN'),\n",
       "  ('access', 'NOUN'),\n",
       "  ('to', 'PRT'),\n",
       "  ('Twitter', 'NOUN'),\n",
       "  (\"'s\", 'PRT'),\n",
       "  ('firehose', 'NOUN'),\n",
       "  ('.', '.')],\n",
       " [('Twitter', 'NOUN'),\n",
       "  ('is', 'VERB'),\n",
       "  ('an', 'DET'),\n",
       "  ('online', 'ADJ'),\n",
       "  ('news', 'NOUN'),\n",
       "  ('and', 'CONJ'),\n",
       "  ('social', 'ADJ'),\n",
       "  ('networking', 'NOUN'),\n",
       "  ('service', 'NOUN'),\n",
       "  ('on', 'ADP'),\n",
       "  ('which', 'DET'),\n",
       "  ('users', 'NOUN'),\n",
       "  ('post', 'NOUN'),\n",
       "  ('and', 'CONJ'),\n",
       "  ('interact', 'NOUN'),\n",
       "  ('with', 'ADP'),\n",
       "  ('messages', 'NOUN'),\n",
       "  ('known', 'VERB'),\n",
       "  ('as', 'ADP'),\n",
       "  ('tweets', 'NOUN'),\n",
       "  ('.', '.')],\n",
       " [('Before', 'ADP'),\n",
       "  ('entering', 'VERB'),\n",
       "  ('politics', 'NOUN'),\n",
       "  (',', '.'),\n",
       "  ('Donald', 'NOUN'),\n",
       "  ('Trump', 'NOUN'),\n",
       "  ('was', 'VERB'),\n",
       "  ('a', 'DET'),\n",
       "  ('domineering', 'ADJ'),\n",
       "  ('businessman', 'NOUN'),\n",
       "  ('and', 'CONJ'),\n",
       "  ('a', 'DET'),\n",
       "  ('television', 'NOUN'),\n",
       "  ('personality', 'NOUN'),\n",
       "  ('.', '.')],\n",
       " [('The', 'DET'),\n",
       "  ('2018', 'NUM'),\n",
       "  ('FIFA', 'NOUN'),\n",
       "  ('World', 'NOUN'),\n",
       "  ('Cup', 'NOUN'),\n",
       "  ('is', 'VERB'),\n",
       "  ('the', 'DET'),\n",
       "  ('21st', 'NUM'),\n",
       "  ('FIFA', 'NOUN'),\n",
       "  ('World', 'NOUN'),\n",
       "  ('Cup', 'NOUN'),\n",
       "  (',', '.'),\n",
       "  ('an', 'DET'),\n",
       "  ('international', 'ADJ'),\n",
       "  ('football', 'NOUN'),\n",
       "  ('tournament', 'NOUN'),\n",
       "  ('contested', 'VERB'),\n",
       "  ('once', 'ADV'),\n",
       "  ('every', 'DET'),\n",
       "  ('four', 'NUM'),\n",
       "  ('years', 'NOUN'),\n",
       "  ('.', '.')],\n",
       " [('This', 'DET'),\n",
       "  ('is', 'VERB'),\n",
       "  ('the', 'DET'),\n",
       "  ('first', 'ADJ'),\n",
       "  ('World', 'NOUN'),\n",
       "  ('Cup', 'NOUN'),\n",
       "  ('to', 'PRT'),\n",
       "  ('be', 'VERB'),\n",
       "  ('held', 'VERB'),\n",
       "  ('in', 'ADP'),\n",
       "  ('Eastern', 'NOUN'),\n",
       "  ('Europe', 'NOUN'),\n",
       "  ('and', 'CONJ'),\n",
       "  ('the', 'DET'),\n",
       "  ('11th', 'NUM'),\n",
       "  ('time', 'NOUN'),\n",
       "  ('that', 'ADP'),\n",
       "  ('it', 'PRON'),\n",
       "  ('has', 'VERB'),\n",
       "  ('been', 'VERB'),\n",
       "  ('held', 'VERB'),\n",
       "  ('in', 'ADP'),\n",
       "  ('Europe', 'NOUN'),\n",
       "  ('.', '.')],\n",
       " [('Show', 'VERB'),\n",
       "  ('me', 'PRON'),\n",
       "  ('the', 'DET'),\n",
       "  ('cheapest', 'ADJ'),\n",
       "  ('round', 'NOUN'),\n",
       "  ('trips', 'NOUN'),\n",
       "  ('from', 'ADP'),\n",
       "  ('Dallas', 'NOUN'),\n",
       "  ('to', 'PRT'),\n",
       "  ('Atlanta', 'VERB')],\n",
       " [('I', 'PRON'),\n",
       "  ('would', 'VERB'),\n",
       "  ('like', 'VERB'),\n",
       "  ('to', 'PRT'),\n",
       "  ('see', 'VERB'),\n",
       "  ('flights', 'NOUN'),\n",
       "  ('from', 'ADP'),\n",
       "  ('Denver', 'NOUN'),\n",
       "  ('to', 'PRT'),\n",
       "  ('Philadelphia', 'NOUN'),\n",
       "  ('.', '.')],\n",
       " [('Show', 'VERB'),\n",
       "  ('me', 'PRON'),\n",
       "  ('the', 'DET'),\n",
       "  ('price', 'NOUN'),\n",
       "  ('of', 'ADP'),\n",
       "  ('the', 'DET'),\n",
       "  ('flights', 'NOUN'),\n",
       "  ('leaving', 'VERB'),\n",
       "  ('Atlanta', 'NOUN'),\n",
       "  ('at', 'ADP'),\n",
       "  ('about', 'ADV'),\n",
       "  ('3', 'NUM'),\n",
       "  ('in', 'ADP'),\n",
       "  ('the', 'DET'),\n",
       "  ('afternoon', 'NOUN'),\n",
       "  ('and', 'CONJ'),\n",
       "  ('arriving', 'NOUN'),\n",
       "  ('in', 'ADP'),\n",
       "  ('San', 'NOUN'),\n",
       "  ('Francisco', 'NOUN'),\n",
       "  ('.', '.')],\n",
       " [('NASA', 'NOUN'),\n",
       "  ('invited', 'VERB'),\n",
       "  ('social', 'ADJ'),\n",
       "  ('media', 'NOUN'),\n",
       "  ('users', 'NOUN'),\n",
       "  ('to', 'PRT'),\n",
       "  ('experience', 'VERB'),\n",
       "  ('the', 'DET'),\n",
       "  ('launch', 'NOUN'),\n",
       "  ('of', 'ADP'),\n",
       "  ('ICESAT-2', 'NOUN'),\n",
       "  ('Satellite', 'NOUN'),\n",
       "  ('.', '.')]]"
      ]
     },
     "execution_count": 49,
     "metadata": {},
     "output_type": "execute_result"
    }
   ],
   "source": [
    "test_tokenized_sents = [word_tokenize(sent) for sent in test_sentences]\n",
    "test_corpus_pos_tags = nltk.pos_tag_sents(test_tokenized_sents, tagset = 'universal')\n",
    "test_corpus_pos_tags"
   ]
  },
  {
   "cell_type": "code",
   "execution_count": 50,
   "metadata": {},
   "outputs": [],
   "source": [
    "# untagged words from the test data provided\n",
    "test_tagged_words = get_nested_tuple_from_list(test_corpus_pos_tags, 0)\n",
    "\n",
    "# tagged words\n",
    "tagged_words_test_run_base  = get_nested_tuple_from_list(test_corpus_pos_tags, -1)"
   ]
  },
  {
   "cell_type": "code",
   "execution_count": 51,
   "metadata": {},
   "outputs": [
    {
     "data": {
      "text/plain": [
       "['Android',\n",
       " 'is',\n",
       " 'a',\n",
       " 'mobile',\n",
       " 'operating',\n",
       " 'system',\n",
       " 'developed',\n",
       " 'by',\n",
       " 'Google',\n",
       " '.',\n",
       " 'Android',\n",
       " 'has',\n",
       " 'been',\n",
       " 'the',\n",
       " 'best-selling',\n",
       " 'OS',\n",
       " 'worldwide',\n",
       " 'on',\n",
       " 'smartphones',\n",
       " 'since',\n",
       " '2011',\n",
       " 'and',\n",
       " 'on',\n",
       " 'tablets',\n",
       " 'since',\n",
       " '2013',\n",
       " '.',\n",
       " 'Google',\n",
       " 'and',\n",
       " 'Twitter',\n",
       " 'made',\n",
       " 'a',\n",
       " 'deal',\n",
       " 'in',\n",
       " '2015',\n",
       " 'that',\n",
       " 'gave',\n",
       " 'Google',\n",
       " 'access',\n",
       " 'to',\n",
       " 'Twitter',\n",
       " \"'s\",\n",
       " 'firehose',\n",
       " '.',\n",
       " 'Twitter',\n",
       " 'is',\n",
       " 'an',\n",
       " 'online',\n",
       " 'news',\n",
       " 'and',\n",
       " 'social',\n",
       " 'networking',\n",
       " 'service',\n",
       " 'on',\n",
       " 'which',\n",
       " 'users',\n",
       " 'post',\n",
       " 'and',\n",
       " 'interact',\n",
       " 'with',\n",
       " 'messages',\n",
       " 'known',\n",
       " 'as',\n",
       " 'tweets',\n",
       " '.',\n",
       " 'Before',\n",
       " 'entering',\n",
       " 'politics',\n",
       " ',',\n",
       " 'Donald',\n",
       " 'Trump',\n",
       " 'was',\n",
       " 'a',\n",
       " 'domineering',\n",
       " 'businessman',\n",
       " 'and',\n",
       " 'a',\n",
       " 'television',\n",
       " 'personality',\n",
       " '.',\n",
       " 'The',\n",
       " '2018',\n",
       " 'FIFA',\n",
       " 'World',\n",
       " 'Cup',\n",
       " 'is',\n",
       " 'the',\n",
       " '21st',\n",
       " 'FIFA',\n",
       " 'World',\n",
       " 'Cup',\n",
       " ',',\n",
       " 'an',\n",
       " 'international',\n",
       " 'football',\n",
       " 'tournament',\n",
       " 'contested',\n",
       " 'once',\n",
       " 'every',\n",
       " 'four',\n",
       " 'years',\n",
       " '.',\n",
       " 'This',\n",
       " 'is',\n",
       " 'the',\n",
       " 'first',\n",
       " 'World',\n",
       " 'Cup',\n",
       " 'to',\n",
       " 'be',\n",
       " 'held',\n",
       " 'in',\n",
       " 'Eastern',\n",
       " 'Europe',\n",
       " 'and',\n",
       " 'the',\n",
       " '11th',\n",
       " 'time',\n",
       " 'that',\n",
       " 'it',\n",
       " 'has',\n",
       " 'been',\n",
       " 'held',\n",
       " 'in',\n",
       " 'Europe',\n",
       " '.',\n",
       " 'Show',\n",
       " 'me',\n",
       " 'the',\n",
       " 'cheapest',\n",
       " 'round',\n",
       " 'trips',\n",
       " 'from',\n",
       " 'Dallas',\n",
       " 'to',\n",
       " 'Atlanta',\n",
       " 'I',\n",
       " 'would',\n",
       " 'like',\n",
       " 'to',\n",
       " 'see',\n",
       " 'flights',\n",
       " 'from',\n",
       " 'Denver',\n",
       " 'to',\n",
       " 'Philadelphia',\n",
       " '.',\n",
       " 'Show',\n",
       " 'me',\n",
       " 'the',\n",
       " 'price',\n",
       " 'of',\n",
       " 'the',\n",
       " 'flights',\n",
       " 'leaving',\n",
       " 'Atlanta',\n",
       " 'at',\n",
       " 'about',\n",
       " '3',\n",
       " 'in',\n",
       " 'the',\n",
       " 'afternoon',\n",
       " 'and',\n",
       " 'arriving',\n",
       " 'in',\n",
       " 'San',\n",
       " 'Francisco',\n",
       " '.',\n",
       " 'NASA',\n",
       " 'invited',\n",
       " 'social',\n",
       " 'media',\n",
       " 'users',\n",
       " 'to',\n",
       " 'experience',\n",
       " 'the',\n",
       " 'launch',\n",
       " 'of',\n",
       " 'ICESAT-2',\n",
       " 'Satellite',\n",
       " '.']"
      ]
     },
     "execution_count": 51,
     "metadata": {},
     "output_type": "execute_result"
    }
   ],
   "source": [
    "test_tagged_words"
   ]
  },
  {
   "cell_type": "markdown",
   "metadata": {},
   "source": [
    "#### 1. Testing the accuracy of Vanilla Viterbi on sample test data -"
   ]
  },
  {
   "cell_type": "code",
   "execution_count": 52,
   "metadata": {},
   "outputs": [],
   "source": [
    "# tagging the test sentences\n",
    "sample_data_test_tagged_seq = vanilla_viterbi(test_tagged_words)\n",
    "\n",
    "# Let's check the accuracy of the vanilla viterbi algorithm\n",
    "sample_data_test_check = [i for i, j in zip(sample_data_test_tagged_seq, tagged_words_test_run_base) if i == j]\n",
    "\n",
    "vanilla_viterbi_accuracy_on_sample_test_data = len(sample_data_test_check)/len(sample_data_test_tagged_seq)"
   ]
  },
  {
   "cell_type": "code",
   "execution_count": 53,
   "metadata": {},
   "outputs": [
    {
     "name": "stdout",
     "output_type": "stream",
     "text": [
      "Vanilla Viterbi Algorithm accuracy on the sample test data: 0.7513812154696132\n"
     ]
    }
   ],
   "source": [
    "print(\"Vanilla Viterbi Algorithm accuracy on the sample test data:\", vanilla_viterbi_accuracy_on_sample_test_data)"
   ]
  },
  {
   "cell_type": "markdown",
   "metadata": {},
   "source": [
    "#### 2. Testing the accuracy of Vanilla_Viterbi_for_Unknown_Words on sample test data -"
   ]
  },
  {
   "cell_type": "code",
   "execution_count": 54,
   "metadata": {},
   "outputs": [],
   "source": [
    "# tagging the test sentences\n",
    "sample_test_data_unknown_word_tagged_seq = Unknown_Words_With_Vanilla_Viterbi(test_tagged_words)\n",
    "\n",
    "# accuracy\n",
    "sample_test_data_unknown_word_check = [i for i, j in zip(sample_test_data_unknown_word_tagged_seq, tagged_words_test_run_base) if i == j]\n",
    "\n",
    "sample_test_data_optimized_viterbi_accuracy = len(sample_test_data_unknown_word_check)/len(sample_test_data_unknown_word_tagged_seq)"
   ]
  },
  {
   "cell_type": "code",
   "execution_count": 55,
   "metadata": {},
   "outputs": [
    {
     "name": "stdout",
     "output_type": "stream",
     "text": [
      "Unknown_Words_With_Vanilla_Viterbi accuracy on the sample test data: 0.8895027624309392\n"
     ]
    }
   ],
   "source": [
    "\n",
    "print(\"Unknown_Words_With_Vanilla_Viterbi accuracy on the sample test data:\", sample_test_data_optimized_viterbi_accuracy)"
   ]
  },
  {
   "cell_type": "markdown",
   "metadata": {},
   "source": [
    "#### 3. Testing the accuracy of viterbi_backedup_by_trigram_tagger on sample test data -"
   ]
  },
  {
   "cell_type": "code",
   "execution_count": 56,
   "metadata": {},
   "outputs": [],
   "source": [
    "# tagging the test sentences\n",
    "sample_test_data_viterbi_trigram_tagged_seq = viterbi_backedup_by_trigram_tagger(test_tagged_words)\n",
    "\n",
    "# accuracy\n",
    "sample_test_data_viterbi_trigram_check = [i for i, j in zip(sample_test_data_viterbi_trigram_tagged_seq, tagged_words_test_run_base) if i == j]\n",
    "\n",
    "sample_test_data_viterbi_trigram_accuracy = len(sample_test_data_viterbi_trigram_check)/len(sample_test_data_viterbi_trigram_tagged_seq)"
   ]
  },
  {
   "cell_type": "code",
   "execution_count": 57,
   "metadata": {},
   "outputs": [
    {
     "name": "stdout",
     "output_type": "stream",
     "text": [
      "viterbi_backedup_by_trigram_tagger accuracy on the sample test data: 0.9281767955801105\n"
     ]
    }
   ],
   "source": [
    "print(\"viterbi_backedup_by_trigram_tagger accuracy on the sample test data:\", sample_test_data_viterbi_trigram_accuracy)"
   ]
  },
  {
   "cell_type": "markdown",
   "metadata": {},
   "source": [
    "The accuracy of the viterbi_backedup_by_trigram_tagger on the sample test data is - 0.9281767955801105"
   ]
  },
  {
   "cell_type": "markdown",
   "metadata": {},
   "source": [
    "### Compare the tagging accuracies of the modifications with the vanilla Viterbi algorithm"
   ]
  },
  {
   "cell_type": "code",
   "execution_count": 58,
   "metadata": {},
   "outputs": [
    {
     "data": {
      "text/html": [
       "<div>\n",
       "<style scoped>\n",
       "    .dataframe tbody tr th:only-of-type {\n",
       "        vertical-align: middle;\n",
       "    }\n",
       "\n",
       "    .dataframe tbody tr th {\n",
       "        vertical-align: top;\n",
       "    }\n",
       "\n",
       "    .dataframe thead th {\n",
       "        text-align: right;\n",
       "    }\n",
       "</style>\n",
       "<table border=\"1\" class=\"dataframe\">\n",
       "  <thead>\n",
       "    <tr style=\"text-align: right;\">\n",
       "      <th></th>\n",
       "      <th>Tagging_Accuracy</th>\n",
       "    </tr>\n",
       "    <tr>\n",
       "      <th>Tagging_Algorithm</th>\n",
       "      <th></th>\n",
       "    </tr>\n",
       "  </thead>\n",
       "  <tbody>\n",
       "    <tr>\n",
       "      <td>Vanilla Viterbi</td>\n",
       "      <td>75.138122</td>\n",
       "    </tr>\n",
       "    <tr>\n",
       "      <td>Optimized Vanilla Viterbi</td>\n",
       "      <td>88.950276</td>\n",
       "    </tr>\n",
       "    <tr>\n",
       "      <td>Viterbi + Trigram_tagger</td>\n",
       "      <td>92.817680</td>\n",
       "    </tr>\n",
       "  </tbody>\n",
       "</table>\n",
       "</div>"
      ],
      "text/plain": [
       "                           Tagging_Accuracy\n",
       "Tagging_Algorithm                          \n",
       "Vanilla Viterbi                   75.138122\n",
       "Optimized Vanilla Viterbi         88.950276\n",
       "Viterbi + Trigram_tagger          92.817680"
      ]
     },
     "execution_count": 58,
     "metadata": {},
     "output_type": "execute_result"
    }
   ],
   "source": [
    "acccuracy_on_sample_test_data = [['Vanilla Viterbi', vanilla_viterbi_accuracy_on_sample_test_data*100], \n",
    "                  ['Optimized Vanilla Viterbi', sample_test_data_optimized_viterbi_accuracy*100], \n",
    "                  ['Viterbi + Trigram_tagger', sample_test_data_viterbi_trigram_accuracy*100]]\n",
    "\n",
    "df_sample_test_data_acccuracy = pd.DataFrame(acccuracy_on_sample_test_data, columns = ['Tagging_Algorithm', 'Tagging_Accuracy'])\n",
    "\n",
    "df_sample_test_data_acccuracy.set_index('Tagging_Algorithm', drop = True, inplace = True)\n",
    "\n",
    "df_sample_test_data_acccuracy"
   ]
  },
  {
   "cell_type": "code",
   "execution_count": 59,
   "metadata": {},
   "outputs": [
    {
     "data": {
      "text/plain": [
       "<matplotlib.axes._subplots.AxesSubplot at 0x1c5c063a2c8>"
      ]
     },
     "execution_count": 59,
     "metadata": {},
     "output_type": "execute_result"
    },
    {
     "data": {
      "image/png": "[encoded data removed]",
      "text/plain": [
       "<Figure size 432x288 with 1 Axes>"
      ]
     },
     "metadata": {
      "needs_background": "light"
     },
     "output_type": "display_data"
    }
   ],
   "source": [
    "df_sample_test_data_acccuracy.plot.line(rot = 90, legend = False)"
   ]
  },
  {
   "cell_type": "markdown",
   "metadata": {},
   "source": [
    "### List down cases which were incorrectly tagged by original POS tagger and got corrected by your modifications"
   ]
  },
  {
   "cell_type": "code",
   "execution_count": 60,
   "metadata": {},
   "outputs": [],
   "source": [
    "# test sentences\n",
    "\n",
    "test_data_sentence_1 = 'Android is a mobile operating system developed by Google.'\n",
    "test_data_sentence_2 = 'Android has been the best-selling OS worldwide on smartphones since 2011 and on tablets since 2013.'\n",
    "test_data_sentence_3 = \"Google and Twitter made a deal in 2015 that gave Google access to Twitter's firehose.\"\n",
    "test_data_sentence_4 = 'Twitter is an online news and social networking service on which users post and interact with messages known as tweets.'\n",
    "test_data_sentence_5 = 'Before entering politics, Donald Trump was a domineering businessman and a television personality.'\n",
    "test_data_sentence_6 = 'The 2018 FIFA World Cup is the 21st FIFA World Cup, an international football tournament contested once every four years.'\n",
    "test_data_sentence_7 = 'This is the first World Cup to be held in Eastern Europe and the 11th time that it has been held in Europe.'\n",
    "test_data_sentence_8 = 'Show me the cheapest round trips from Dallas to Atlanta'\n",
    "test_data_sentence_9 = 'I would like to see flights from Denver to Philadelphia.'\n",
    "test_data_sentence_10 = 'Show me the price of the flights leaving Atlanta at about 3 in the afternoon and arriving in San Francisco.'\n",
    "test_data_sentence_11 = 'NASA invited social media users to experience the launch of ICESAT-2 Satellite.'"
   ]
  },
  {
   "cell_type": "markdown",
   "metadata": {},
   "source": [
    "#### Case - 1"
   ]
  },
  {
   "cell_type": "code",
   "execution_count": 61,
   "metadata": {},
   "outputs": [
    {
     "name": "stdout",
     "output_type": "stream",
     "text": [
      "Tagging sequence with Vanilla_Viterbi -\n",
      "\n",
      " [('Android', 'PRON'), ('has', 'VERB'), ('been', 'VERB'), ('the', 'DET'), ('best-selling', 'ADJ'), ('OS', 'PRON'), ('worldwide', 'PRON'), ('on', 'ADP'), ('smartphones', 'PRON'), ('since', 'ADP'), ('2011', 'PRON'), ('and', 'CONJ'), ('on', 'ADP'), ('tablets', 'NOUN'), ('since', 'ADP'), ('2013', 'PRON'), ('.', '.')]\n",
      "\n",
      "\n",
      "------------------------------------------------------------------------------------------------------------------------\n",
      "Tagging sequence with viterbi_backedup_by_trigram_tagger -\n",
      "\n",
      " [('Android', 'NOUN'), ('has', 'VERB'), ('been', 'VERB'), ('the', 'DET'), ('best-selling', 'ADJ'), ('OS', 'NOUN'), ('worldwide', 'NOUN'), ('on', 'ADP'), ('smartphones', 'VERB'), ('since', 'ADP'), ('2011', 'NUM'), ('and', 'CONJ'), ('on', 'ADP'), ('tablets', 'NOUN'), ('since', 'ADP'), ('2013', 'NUM'), ('.', '.')]\n"
     ]
    }
   ],
   "source": [
    "# test_data_sentence_1 = 'Android is a mobile operating system developed by Google.'\n",
    "# test_data_sentence_1 = 'Android has been the best-selling OS worldwide on smartphones since 2011 and on tablets since 2013.'\n",
    "\n",
    "words_test_data_sentence_2 = nltk.word_tokenize(test_data_sentence_2)\n",
    "\n",
    "# pos tags with Vanilla_Viterbi\n",
    "pos_tagged_sequence_with_vanilla_viterbi = vanilla_viterbi(words_test_data_sentence_2)\n",
    "print(\"Tagging sequence with Vanilla_Viterbi -\\n\\n\", pos_tagged_sequence_with_vanilla_viterbi)\n",
    "\n",
    "print('\\n')\n",
    "print('-'*120)\n",
    "\n",
    "# pos tags with viterbi_backedup_by_trigram_tagger\n",
    "pos_tagged_sequence_with_viterbi_trigram = viterbi_backedup_by_trigram_tagger(words_test_data_sentence_2)\n",
    "print(\"Tagging sequence with viterbi_backedup_by_trigram_tagger -\\n\\n\", pos_tagged_sequence_with_viterbi_trigram)"
   ]
  },
  {
   "cell_type": "code",
   "execution_count": 62,
   "metadata": {},
   "outputs": [
    {
     "data": {
      "text/html": [
       "<div>\n",
       "<style scoped>\n",
       "    .dataframe tbody tr th:only-of-type {\n",
       "        vertical-align: middle;\n",
       "    }\n",
       "\n",
       "    .dataframe tbody tr th {\n",
       "        vertical-align: top;\n",
       "    }\n",
       "\n",
       "    .dataframe thead th {\n",
       "        text-align: right;\n",
       "    }\n",
       "</style>\n",
       "<table border=\"1\" class=\"dataframe\">\n",
       "  <thead>\n",
       "    <tr style=\"text-align: right;\">\n",
       "      <th></th>\n",
       "      <th>vanilla_viterbi_tags</th>\n",
       "      <th>viterbi_trigram_tags_with_corrections</th>\n",
       "    </tr>\n",
       "  </thead>\n",
       "  <tbody>\n",
       "    <tr>\n",
       "      <td>0</td>\n",
       "      <td>(Android, PRON)</td>\n",
       "      <td>(Android, NOUN)</td>\n",
       "    </tr>\n",
       "    <tr>\n",
       "      <td>1</td>\n",
       "      <td>(has, VERB)</td>\n",
       "      <td>(has, VERB)</td>\n",
       "    </tr>\n",
       "    <tr>\n",
       "      <td>2</td>\n",
       "      <td>(been, VERB)</td>\n",
       "      <td>(been, VERB)</td>\n",
       "    </tr>\n",
       "    <tr>\n",
       "      <td>3</td>\n",
       "      <td>(the, DET)</td>\n",
       "      <td>(the, DET)</td>\n",
       "    </tr>\n",
       "    <tr>\n",
       "      <td>4</td>\n",
       "      <td>(best-selling, ADJ)</td>\n",
       "      <td>(best-selling, ADJ)</td>\n",
       "    </tr>\n",
       "    <tr>\n",
       "      <td>5</td>\n",
       "      <td>(OS, PRON)</td>\n",
       "      <td>(OS, NOUN)</td>\n",
       "    </tr>\n",
       "    <tr>\n",
       "      <td>6</td>\n",
       "      <td>(worldwide, PRON)</td>\n",
       "      <td>(worldwide, NOUN)</td>\n",
       "    </tr>\n",
       "    <tr>\n",
       "      <td>7</td>\n",
       "      <td>(on, ADP)</td>\n",
       "      <td>(on, ADP)</td>\n",
       "    </tr>\n",
       "    <tr>\n",
       "      <td>8</td>\n",
       "      <td>(smartphones, PRON)</td>\n",
       "      <td>(smartphones, VERB)</td>\n",
       "    </tr>\n",
       "    <tr>\n",
       "      <td>9</td>\n",
       "      <td>(since, ADP)</td>\n",
       "      <td>(since, ADP)</td>\n",
       "    </tr>\n",
       "    <tr>\n",
       "      <td>10</td>\n",
       "      <td>(2011, PRON)</td>\n",
       "      <td>(2011, NUM)</td>\n",
       "    </tr>\n",
       "    <tr>\n",
       "      <td>11</td>\n",
       "      <td>(and, CONJ)</td>\n",
       "      <td>(and, CONJ)</td>\n",
       "    </tr>\n",
       "    <tr>\n",
       "      <td>12</td>\n",
       "      <td>(on, ADP)</td>\n",
       "      <td>(on, ADP)</td>\n",
       "    </tr>\n",
       "    <tr>\n",
       "      <td>13</td>\n",
       "      <td>(tablets, NOUN)</td>\n",
       "      <td>(tablets, NOUN)</td>\n",
       "    </tr>\n",
       "    <tr>\n",
       "      <td>14</td>\n",
       "      <td>(since, ADP)</td>\n",
       "      <td>(since, ADP)</td>\n",
       "    </tr>\n",
       "    <tr>\n",
       "      <td>15</td>\n",
       "      <td>(2013, PRON)</td>\n",
       "      <td>(2013, NUM)</td>\n",
       "    </tr>\n",
       "    <tr>\n",
       "      <td>16</td>\n",
       "      <td>(., .)</td>\n",
       "      <td>(., .)</td>\n",
       "    </tr>\n",
       "  </tbody>\n",
       "</table>\n",
       "</div>"
      ],
      "text/plain": [
       "   vanilla_viterbi_tags viterbi_trigram_tags_with_corrections\n",
       "0       (Android, PRON)                       (Android, NOUN)\n",
       "1           (has, VERB)                           (has, VERB)\n",
       "2          (been, VERB)                          (been, VERB)\n",
       "3            (the, DET)                            (the, DET)\n",
       "4   (best-selling, ADJ)                   (best-selling, ADJ)\n",
       "5            (OS, PRON)                            (OS, NOUN)\n",
       "6     (worldwide, PRON)                     (worldwide, NOUN)\n",
       "7             (on, ADP)                             (on, ADP)\n",
       "8   (smartphones, PRON)                   (smartphones, VERB)\n",
       "9          (since, ADP)                          (since, ADP)\n",
       "10         (2011, PRON)                           (2011, NUM)\n",
       "11          (and, CONJ)                           (and, CONJ)\n",
       "12            (on, ADP)                             (on, ADP)\n",
       "13      (tablets, NOUN)                       (tablets, NOUN)\n",
       "14         (since, ADP)                          (since, ADP)\n",
       "15         (2013, PRON)                           (2013, NUM)\n",
       "16               (., .)                                (., .)"
      ]
     },
     "execution_count": 62,
     "metadata": {},
     "output_type": "execute_result"
    }
   ],
   "source": [
    "cols = ['vanilla_viterbi_tags', 'viterbi_trigram_tags_with_corrections']\n",
    "df_tags_correction_1 = pd.DataFrame(columns = cols)\n",
    "df_tags_correction_1 = df_tags_correction_1.fillna(0)\n",
    "\n",
    "df_tags_correction_1.vanilla_viterbi_tags = [tup for tup in pos_tagged_sequence_with_vanilla_viterbi]\n",
    "df_tags_correction_1.viterbi_trigram_tags_with_corrections = [tup for tup in pos_tagged_sequence_with_viterbi_trigram]\n",
    "\n",
    "df_tags_correction_1"
   ]
  },
  {
   "cell_type": "markdown",
   "metadata": {},
   "source": [
    "As we see above in the sample test sentence 1 the word 'Android' was tagged as PRT by vanilla viterbi. The modified algorithm of viterbi backed up by trigram tagger corrected this and tagged 'Android' as NOUN."
   ]
  },
  {
   "cell_type": "markdown",
   "metadata": {},
   "source": [
    "#### Case - 2"
   ]
  },
  {
   "cell_type": "code",
   "execution_count": 63,
   "metadata": {},
   "outputs": [
    {
     "name": "stdout",
     "output_type": "stream",
     "text": [
      "Tagging sequence with Vanilla_Viterbi -\n",
      "\n",
      " [('The', 'DET'), ('2018', 'PRON'), ('FIFA', 'PRON'), ('World', 'NOUN'), ('Cup', 'PRON'), ('is', 'VERB'), ('the', 'DET'), ('21st', 'PRON'), ('FIFA', 'PRON'), ('World', 'NOUN'), ('Cup', 'PRON'), (',', '.'), ('an', 'DET'), ('international', 'ADJ'), ('football', 'NOUN'), ('tournament', 'PRON'), ('contested', 'PRON'), ('once', 'ADV'), ('every', 'DET'), ('four', 'NUM'), ('years', 'NOUN'), ('.', '.')]\n",
      "\n",
      "\n",
      "------------------------------------------------------------------------------------------------------------------------\n",
      "Tagging sequence with viterbi_backedup_by_trigram_tagger -\n",
      "\n",
      " [('The', 'DET'), ('2018', 'NUM'), ('FIFA', 'NOUN'), ('World', 'NOUN'), ('Cup', 'NOUN'), ('is', 'VERB'), ('the', 'DET'), ('21st', 'NUM'), ('FIFA', 'NOUN'), ('World', 'NOUN'), ('Cup', 'NOUN'), (',', '.'), ('an', 'DET'), ('international', 'ADJ'), ('football', 'NOUN'), ('tournament', 'NOUN'), ('contested', 'VERB'), ('once', 'ADV'), ('every', 'DET'), ('four', 'NUM'), ('years', 'NOUN'), ('.', '.')]\n"
     ]
    }
   ],
   "source": [
    "# test_data_sentence_6 = 'The 2018 FIFA World Cup is the 21st FIFA World Cup, \n",
    "#                   an international football tournament contested once every four years.'\n",
    "\n",
    "words_test_data_sentence_6 = nltk.word_tokenize(test_data_sentence_6)\n",
    "\n",
    "# pos tags with Vanilla_Viterbi\n",
    "pos_tagged_sequence_with_vanilla_viterbi_6 = vanilla_viterbi(words_test_data_sentence_6)\n",
    "print(\"Tagging sequence with Vanilla_Viterbi -\\n\\n\", pos_tagged_sequence_with_vanilla_viterbi_6)\n",
    "\n",
    "print('\\n')\n",
    "print('-'*120)\n",
    "\n",
    "# pos tags with viterbi_backedup_by_trigram_tagger\n",
    "pos_tagged_sequence_with_viterbi_trigram_6 = viterbi_backedup_by_trigram_tagger(words_test_data_sentence_6)\n",
    "print(\"Tagging sequence with viterbi_backedup_by_trigram_tagger -\\n\\n\", pos_tagged_sequence_with_viterbi_trigram_6)"
   ]
  },
  {
   "cell_type": "code",
   "execution_count": 64,
   "metadata": {},
   "outputs": [
    {
     "data": {
      "text/html": [
       "<div>\n",
       "<style scoped>\n",
       "    .dataframe tbody tr th:only-of-type {\n",
       "        vertical-align: middle;\n",
       "    }\n",
       "\n",
       "    .dataframe tbody tr th {\n",
       "        vertical-align: top;\n",
       "    }\n",
       "\n",
       "    .dataframe thead th {\n",
       "        text-align: right;\n",
       "    }\n",
       "</style>\n",
       "<table border=\"1\" class=\"dataframe\">\n",
       "  <thead>\n",
       "    <tr style=\"text-align: right;\">\n",
       "      <th></th>\n",
       "      <th>vanilla_viterbi_tags</th>\n",
       "      <th>viterbi_trigram_tags_with_corrections</th>\n",
       "    </tr>\n",
       "  </thead>\n",
       "  <tbody>\n",
       "    <tr>\n",
       "      <td>0</td>\n",
       "      <td>(The, DET)</td>\n",
       "      <td>(The, DET)</td>\n",
       "    </tr>\n",
       "    <tr>\n",
       "      <td>1</td>\n",
       "      <td>(2018, PRON)</td>\n",
       "      <td>(2018, NUM)</td>\n",
       "    </tr>\n",
       "    <tr>\n",
       "      <td>2</td>\n",
       "      <td>(FIFA, PRON)</td>\n",
       "      <td>(FIFA, NOUN)</td>\n",
       "    </tr>\n",
       "    <tr>\n",
       "      <td>3</td>\n",
       "      <td>(World, NOUN)</td>\n",
       "      <td>(World, NOUN)</td>\n",
       "    </tr>\n",
       "    <tr>\n",
       "      <td>4</td>\n",
       "      <td>(Cup, PRON)</td>\n",
       "      <td>(Cup, NOUN)</td>\n",
       "    </tr>\n",
       "    <tr>\n",
       "      <td>5</td>\n",
       "      <td>(is, VERB)</td>\n",
       "      <td>(is, VERB)</td>\n",
       "    </tr>\n",
       "    <tr>\n",
       "      <td>6</td>\n",
       "      <td>(the, DET)</td>\n",
       "      <td>(the, DET)</td>\n",
       "    </tr>\n",
       "    <tr>\n",
       "      <td>7</td>\n",
       "      <td>(21st, PRON)</td>\n",
       "      <td>(21st, NUM)</td>\n",
       "    </tr>\n",
       "    <tr>\n",
       "      <td>8</td>\n",
       "      <td>(FIFA, PRON)</td>\n",
       "      <td>(FIFA, NOUN)</td>\n",
       "    </tr>\n",
       "    <tr>\n",
       "      <td>9</td>\n",
       "      <td>(World, NOUN)</td>\n",
       "      <td>(World, NOUN)</td>\n",
       "    </tr>\n",
       "    <tr>\n",
       "      <td>10</td>\n",
       "      <td>(Cup, PRON)</td>\n",
       "      <td>(Cup, NOUN)</td>\n",
       "    </tr>\n",
       "    <tr>\n",
       "      <td>11</td>\n",
       "      <td>(,, .)</td>\n",
       "      <td>(,, .)</td>\n",
       "    </tr>\n",
       "    <tr>\n",
       "      <td>12</td>\n",
       "      <td>(an, DET)</td>\n",
       "      <td>(an, DET)</td>\n",
       "    </tr>\n",
       "    <tr>\n",
       "      <td>13</td>\n",
       "      <td>(international, ADJ)</td>\n",
       "      <td>(international, ADJ)</td>\n",
       "    </tr>\n",
       "    <tr>\n",
       "      <td>14</td>\n",
       "      <td>(football, NOUN)</td>\n",
       "      <td>(football, NOUN)</td>\n",
       "    </tr>\n",
       "    <tr>\n",
       "      <td>15</td>\n",
       "      <td>(tournament, PRON)</td>\n",
       "      <td>(tournament, NOUN)</td>\n",
       "    </tr>\n",
       "    <tr>\n",
       "      <td>16</td>\n",
       "      <td>(contested, PRON)</td>\n",
       "      <td>(contested, VERB)</td>\n",
       "    </tr>\n",
       "    <tr>\n",
       "      <td>17</td>\n",
       "      <td>(once, ADV)</td>\n",
       "      <td>(once, ADV)</td>\n",
       "    </tr>\n",
       "    <tr>\n",
       "      <td>18</td>\n",
       "      <td>(every, DET)</td>\n",
       "      <td>(every, DET)</td>\n",
       "    </tr>\n",
       "    <tr>\n",
       "      <td>19</td>\n",
       "      <td>(four, NUM)</td>\n",
       "      <td>(four, NUM)</td>\n",
       "    </tr>\n",
       "    <tr>\n",
       "      <td>20</td>\n",
       "      <td>(years, NOUN)</td>\n",
       "      <td>(years, NOUN)</td>\n",
       "    </tr>\n",
       "    <tr>\n",
       "      <td>21</td>\n",
       "      <td>(., .)</td>\n",
       "      <td>(., .)</td>\n",
       "    </tr>\n",
       "  </tbody>\n",
       "</table>\n",
       "</div>"
      ],
      "text/plain": [
       "    vanilla_viterbi_tags viterbi_trigram_tags_with_corrections\n",
       "0             (The, DET)                            (The, DET)\n",
       "1           (2018, PRON)                           (2018, NUM)\n",
       "2           (FIFA, PRON)                          (FIFA, NOUN)\n",
       "3          (World, NOUN)                         (World, NOUN)\n",
       "4            (Cup, PRON)                           (Cup, NOUN)\n",
       "5             (is, VERB)                            (is, VERB)\n",
       "6             (the, DET)                            (the, DET)\n",
       "7           (21st, PRON)                           (21st, NUM)\n",
       "8           (FIFA, PRON)                          (FIFA, NOUN)\n",
       "9          (World, NOUN)                         (World, NOUN)\n",
       "10           (Cup, PRON)                           (Cup, NOUN)\n",
       "11                (,, .)                                (,, .)\n",
       "12             (an, DET)                             (an, DET)\n",
       "13  (international, ADJ)                  (international, ADJ)\n",
       "14      (football, NOUN)                      (football, NOUN)\n",
       "15    (tournament, PRON)                    (tournament, NOUN)\n",
       "16     (contested, PRON)                     (contested, VERB)\n",
       "17           (once, ADV)                           (once, ADV)\n",
       "18          (every, DET)                          (every, DET)\n",
       "19           (four, NUM)                           (four, NUM)\n",
       "20         (years, NOUN)                         (years, NOUN)\n",
       "21                (., .)                                (., .)"
      ]
     },
     "execution_count": 64,
     "metadata": {},
     "output_type": "execute_result"
    }
   ],
   "source": [
    "df_tags_correction_6 = pd.DataFrame(columns = cols)\n",
    "df_tags_correction_6 = df_tags_correction_6.fillna(0)\n",
    "\n",
    "df_tags_correction_6.vanilla_viterbi_tags = [tup for tup in pos_tagged_sequence_with_vanilla_viterbi_6]\n",
    "df_tags_correction_6.viterbi_trigram_tags_with_corrections = [tup for tup in pos_tagged_sequence_with_viterbi_trigram_6]\n",
    "\n",
    "df_tags_correction_6"
   ]
  },
  {
   "cell_type": "markdown",
   "metadata": {},
   "source": [
    "#### As we see above in the sample test sentence 6 the following words were incorrectly tagged by the vanilla viterbi algorithm - '2018' - PRT, 'FIFA' - PRT, 'Cup' - PRT, '21st' - PRT, 'tournament' - PRT, 'contested' - PRT.\n",
    "\n",
    "#### The above words were corrected by viterbi backed up by the trigram tagger. The corrections were made as - '2018' - NUM, 'FIFA' - NOUN, 'Cup' - NOUN, '21st' - NUM, 'tournament' - NOUN, 'contested' - VERB."
   ]
  },
  {
   "cell_type": "markdown",
   "metadata": {},
   "source": [
    "#### Case - 3"
   ]
  },
  {
   "cell_type": "code",
   "execution_count": 65,
   "metadata": {},
   "outputs": [
    {
     "name": "stdout",
     "output_type": "stream",
     "text": [
      "Tagging sequence with Vanilla_Viterbi -\n",
      "\n",
      " [('Show', 'NOUN'), ('me', 'PRON'), ('the', 'DET'), ('cheapest', 'ADJ'), ('round', 'NOUN'), ('trips', 'PRON'), ('from', 'ADP'), ('Dallas', 'NOUN'), ('to', 'PRT'), ('Atlanta', 'NOUN')]\n",
      "\n",
      "\n",
      "------------------------------------------------------------------------------------------------------------------------\n",
      "Tagging sequence with viterbi_backedup_by_trigram_tagger -\n",
      "\n",
      " [('Show', 'NOUN'), ('me', 'PRON'), ('the', 'DET'), ('cheapest', 'ADJ'), ('round', 'NOUN'), ('trips', 'NOUN'), ('from', 'ADP'), ('Dallas', 'NOUN'), ('to', 'PRT'), ('Atlanta', 'NOUN')]\n"
     ]
    }
   ],
   "source": [
    "# test_data_sentence_8 = 'Show me the cheapest round trips from Dallas to Atlanta'\n",
    "\n",
    "words_test_data_sentence_8 = nltk.word_tokenize(test_data_sentence_8)\n",
    "\n",
    "# pos tags with Vanilla_Viterbi\n",
    "pos_tagged_sequence_with_vanilla_viterbi_8 = vanilla_viterbi(words_test_data_sentence_8)\n",
    "print(\"Tagging sequence with Vanilla_Viterbi -\\n\\n\", pos_tagged_sequence_with_vanilla_viterbi_8)\n",
    "\n",
    "print('\\n')\n",
    "print('-'*120)\n",
    "\n",
    "# pos tags with viterbi_backedup_by_trigram_tagger\n",
    "pos_tagged_sequence_with_viterbi_trigram_8 = viterbi_backedup_by_trigram_tagger(words_test_data_sentence_8)\n",
    "print(\"Tagging sequence with viterbi_backedup_by_trigram_tagger -\\n\\n\", pos_tagged_sequence_with_viterbi_trigram_8)"
   ]
  },
  {
   "cell_type": "code",
   "execution_count": 66,
   "metadata": {},
   "outputs": [
    {
     "data": {
      "text/html": [
       "<div>\n",
       "<style scoped>\n",
       "    .dataframe tbody tr th:only-of-type {\n",
       "        vertical-align: middle;\n",
       "    }\n",
       "\n",
       "    .dataframe tbody tr th {\n",
       "        vertical-align: top;\n",
       "    }\n",
       "\n",
       "    .dataframe thead th {\n",
       "        text-align: right;\n",
       "    }\n",
       "</style>\n",
       "<table border=\"1\" class=\"dataframe\">\n",
       "  <thead>\n",
       "    <tr style=\"text-align: right;\">\n",
       "      <th></th>\n",
       "      <th>vanilla_viterbi_tags</th>\n",
       "      <th>viterbi_trigram_tags_with_corrections</th>\n",
       "    </tr>\n",
       "  </thead>\n",
       "  <tbody>\n",
       "    <tr>\n",
       "      <td>0</td>\n",
       "      <td>(Show, NOUN)</td>\n",
       "      <td>(Show, NOUN)</td>\n",
       "    </tr>\n",
       "    <tr>\n",
       "      <td>1</td>\n",
       "      <td>(me, PRON)</td>\n",
       "      <td>(me, PRON)</td>\n",
       "    </tr>\n",
       "    <tr>\n",
       "      <td>2</td>\n",
       "      <td>(the, DET)</td>\n",
       "      <td>(the, DET)</td>\n",
       "    </tr>\n",
       "    <tr>\n",
       "      <td>3</td>\n",
       "      <td>(cheapest, ADJ)</td>\n",
       "      <td>(cheapest, ADJ)</td>\n",
       "    </tr>\n",
       "    <tr>\n",
       "      <td>4</td>\n",
       "      <td>(round, NOUN)</td>\n",
       "      <td>(round, NOUN)</td>\n",
       "    </tr>\n",
       "    <tr>\n",
       "      <td>5</td>\n",
       "      <td>(trips, PRON)</td>\n",
       "      <td>(trips, NOUN)</td>\n",
       "    </tr>\n",
       "    <tr>\n",
       "      <td>6</td>\n",
       "      <td>(from, ADP)</td>\n",
       "      <td>(from, ADP)</td>\n",
       "    </tr>\n",
       "    <tr>\n",
       "      <td>7</td>\n",
       "      <td>(Dallas, NOUN)</td>\n",
       "      <td>(Dallas, NOUN)</td>\n",
       "    </tr>\n",
       "    <tr>\n",
       "      <td>8</td>\n",
       "      <td>(to, PRT)</td>\n",
       "      <td>(to, PRT)</td>\n",
       "    </tr>\n",
       "    <tr>\n",
       "      <td>9</td>\n",
       "      <td>(Atlanta, NOUN)</td>\n",
       "      <td>(Atlanta, NOUN)</td>\n",
       "    </tr>\n",
       "  </tbody>\n",
       "</table>\n",
       "</div>"
      ],
      "text/plain": [
       "  vanilla_viterbi_tags viterbi_trigram_tags_with_corrections\n",
       "0         (Show, NOUN)                          (Show, NOUN)\n",
       "1           (me, PRON)                            (me, PRON)\n",
       "2           (the, DET)                            (the, DET)\n",
       "3      (cheapest, ADJ)                       (cheapest, ADJ)\n",
       "4        (round, NOUN)                         (round, NOUN)\n",
       "5        (trips, PRON)                         (trips, NOUN)\n",
       "6          (from, ADP)                           (from, ADP)\n",
       "7       (Dallas, NOUN)                        (Dallas, NOUN)\n",
       "8            (to, PRT)                             (to, PRT)\n",
       "9      (Atlanta, NOUN)                       (Atlanta, NOUN)"
      ]
     },
     "execution_count": 66,
     "metadata": {},
     "output_type": "execute_result"
    }
   ],
   "source": [
    "df_tags_correction_8 = pd.DataFrame(columns = cols)\n",
    "df_tags_correction_8 = df_tags_correction_8.fillna(0)\n",
    "\n",
    "df_tags_correction_8.vanilla_viterbi_tags = [tup for tup in pos_tagged_sequence_with_vanilla_viterbi_8]\n",
    "df_tags_correction_8.viterbi_trigram_tags_with_corrections = [tup for tup in pos_tagged_sequence_with_viterbi_trigram_8]\n",
    "\n",
    "df_tags_correction_8"
   ]
  },
  {
   "cell_type": "markdown",
   "metadata": {},
   "source": [
    "##### As we see in the sample test sentence 8, the vanilla viterbi tagged 'trips' as PRT. This was corrected by the modified viterbi algorithm (backed up by the trigram tagger) and tagged as NOUN.\n",
    "##### Now lets see the tags and corrections for all the sample test sentences with both the methods.\n",
    "##### Method 1 - We used only the transition probability for unknown words.\n",
    "##### Method 2 - We used the viterbi algorithm and backed it up with the trigram tagger which was inturn backed up by the rule based regex tagger.¶"
   ]
  },
  {
   "cell_type": "code",
   "execution_count": 67,
   "metadata": {},
   "outputs": [
    {
     "name": "stdout",
     "output_type": "stream",
     "text": [
      "Tagging sequence with Vanilla_Viterbi -\n",
      "\n",
      " [('Android', 'PRON'), ('is', 'VERB'), ('a', 'DET'), ('mobile', 'ADJ'), ('operating', 'NOUN'), ('system', 'NOUN'), ('developed', 'VERB'), ('by', 'ADP'), ('Google', 'PRON'), ('.', '.'), ('Android', 'PRON'), ('has', 'VERB'), ('been', 'VERB'), ('the', 'DET'), ('best-selling', 'ADJ'), ('OS', 'PRON'), ('worldwide', 'PRON'), ('on', 'ADP'), ('smartphones', 'PRON'), ('since', 'ADP'), ('2011', 'PRON'), ('and', 'CONJ'), ('on', 'ADP'), ('tablets', 'NOUN'), ('since', 'ADP'), ('2013', 'PRON'), ('.', '.'), ('Google', 'PRON'), ('and', 'CONJ'), ('Twitter', 'PRON'), ('made', 'VERB'), ('a', 'DET'), ('deal', 'NOUN'), ('in', 'ADP'), ('2015', 'PRON'), ('that', 'ADP'), ('gave', 'VERB'), ('Google', 'PRON'), ('access', 'NOUN'), ('to', 'PRT'), ('Twitter', 'PRON'), (\"'s\", 'VERB'), ('firehose', 'PRON'), ('.', '.'), ('Twitter', 'PRON'), ('is', 'VERB'), ('an', 'DET'), ('online', 'PRON'), ('news', 'NOUN'), ('and', 'CONJ'), ('social', 'ADJ'), ('networking', 'NOUN'), ('service', 'NOUN'), ('on', 'ADP'), ('which', 'DET'), ('users', 'NOUN'), ('post', 'NOUN'), ('and', 'CONJ'), ('interact', 'PRON'), ('with', 'ADP'), ('messages', 'PRON'), ('known', 'VERB'), ('as', 'ADP'), ('tweets', 'PRON'), ('.', '.'), ('Before', 'ADP'), ('entering', 'VERB'), ('politics', 'NOUN'), (',', '.'), ('Donald', 'NOUN'), ('Trump', 'NOUN'), ('was', 'VERB'), ('a', 'DET'), ('domineering', 'PRON'), ('businessman', 'NOUN'), ('and', 'CONJ'), ('a', 'DET'), ('television', 'NOUN'), ('personality', 'PRON'), ('.', '.'), ('The', 'DET'), ('2018', 'PRON'), ('FIFA', 'PRON'), ('World', 'NOUN'), ('Cup', 'PRON'), ('is', 'VERB'), ('the', 'DET'), ('21st', 'PRON'), ('FIFA', 'PRON'), ('World', 'NOUN'), ('Cup', 'PRON'), (',', '.'), ('an', 'DET'), ('international', 'ADJ'), ('football', 'NOUN'), ('tournament', 'PRON'), ('contested', 'PRON'), ('once', 'ADV'), ('every', 'DET'), ('four', 'NUM'), ('years', 'NOUN'), ('.', '.'), ('This', 'DET'), ('is', 'VERB'), ('the', 'DET'), ('first', 'ADJ'), ('World', 'NOUN'), ('Cup', 'PRON'), ('to', 'PRT'), ('be', 'VERB'), ('held', 'VERB'), ('in', 'ADP'), ('Eastern', 'NOUN'), ('Europe', 'NOUN'), ('and', 'CONJ'), ('the', 'DET'), ('11th', 'ADJ'), ('time', 'NOUN'), ('that', 'ADP'), ('it', 'PRON'), ('has', 'VERB'), ('been', 'VERB'), ('held', 'VERB'), ('in', 'ADP'), ('Europe', 'NOUN'), ('.', '.'), ('Show', 'NOUN'), ('me', 'PRON'), ('the', 'DET'), ('cheapest', 'ADJ'), ('round', 'NOUN'), ('trips', 'PRON'), ('from', 'ADP'), ('Dallas', 'NOUN'), ('to', 'PRT'), ('Atlanta', 'NOUN'), ('I', 'PRON'), ('would', 'VERB'), ('like', 'ADP'), ('to', 'PRT'), ('see', 'VERB'), ('flights', 'NOUN'), ('from', 'ADP'), ('Denver', 'NOUN'), ('to', 'PRT'), ('Philadelphia', 'NOUN'), ('.', '.'), ('Show', 'NOUN'), ('me', 'PRON'), ('the', 'DET'), ('price', 'NOUN'), ('of', 'ADP'), ('the', 'DET'), ('flights', 'NOUN'), ('leaving', 'VERB'), ('Atlanta', 'NOUN'), ('at', 'ADP'), ('about', 'ADP'), ('3', 'NUM'), ('in', 'ADP'), ('the', 'DET'), ('afternoon', 'NOUN'), ('and', 'CONJ'), ('arriving', 'PRON'), ('in', 'ADP'), ('San', 'NOUN'), ('Francisco', 'NOUN'), ('.', '.'), ('NASA', 'PRON'), ('invited', 'PRON'), ('social', 'ADJ'), ('media', 'NOUN'), ('users', 'NOUN'), ('to', 'PRT'), ('experience', 'NOUN'), ('the', 'DET'), ('launch', 'NOUN'), ('of', 'ADP'), ('ICESAT-2', 'PRON'), ('Satellite', 'PRON'), ('.', '.')]\n",
      "\n",
      "\n",
      "-----------------------------------------------------------------------------------------------------------------------------\n",
      "Tagging sequence with viterbi using only transition probability for unknown words -\n",
      "\n",
      " [('Android', 'NOUN'), ('is', 'VERB'), ('a', 'DET'), ('mobile', 'ADJ'), ('operating', 'NOUN'), ('system', 'NOUN'), ('developed', 'VERB'), ('by', 'ADP'), ('Google', 'NOUN'), ('.', '.'), ('Android', 'NOUN'), ('has', 'VERB'), ('been', 'VERB'), ('the', 'DET'), ('best-selling', 'ADJ'), ('OS', 'NOUN'), ('worldwide', 'NOUN'), ('on', 'ADP'), ('smartphones', 'NOUN'), ('since', 'ADP'), ('2011', 'NOUN'), ('and', 'CONJ'), ('on', 'ADP'), ('tablets', 'NOUN'), ('since', 'ADP'), ('2013', 'NOUN'), ('.', '.'), ('Google', 'NOUN'), ('and', 'CONJ'), ('Twitter', 'NOUN'), ('made', 'VERB'), ('a', 'DET'), ('deal', 'NOUN'), ('in', 'ADP'), ('2015', 'NOUN'), ('that', 'ADP'), ('gave', 'VERB'), ('Google', 'X'), ('access', 'NOUN'), ('to', 'PRT'), ('Twitter', 'VERB'), (\"'s\", 'PRT'), ('firehose', 'VERB'), ('.', '.'), ('Twitter', 'NOUN'), ('is', 'VERB'), ('an', 'DET'), ('online', 'NOUN'), ('news', 'NOUN'), ('and', 'CONJ'), ('social', 'ADJ'), ('networking', 'NOUN'), ('service', 'NOUN'), ('on', 'ADP'), ('which', 'DET'), ('users', 'NOUN'), ('post', 'NOUN'), ('and', 'CONJ'), ('interact', 'NOUN'), ('with', 'ADP'), ('messages', 'NOUN'), ('known', 'VERB'), ('as', 'ADP'), ('tweets', 'NOUN'), ('.', '.'), ('Before', 'ADP'), ('entering', 'VERB'), ('politics', 'NOUN'), (',', '.'), ('Donald', 'NOUN'), ('Trump', 'NOUN'), ('was', 'VERB'), ('a', 'DET'), ('domineering', 'NOUN'), ('businessman', 'NOUN'), ('and', 'CONJ'), ('a', 'DET'), ('television', 'NOUN'), ('personality', 'NOUN'), ('.', '.'), ('The', 'DET'), ('2018', 'NOUN'), ('FIFA', 'NOUN'), ('World', 'NOUN'), ('Cup', 'NOUN'), ('is', 'VERB'), ('the', 'DET'), ('21st', 'NOUN'), ('FIFA', 'NOUN'), ('World', 'NOUN'), ('Cup', 'NOUN'), (',', '.'), ('an', 'DET'), ('international', 'ADJ'), ('football', 'NOUN'), ('tournament', 'NOUN'), ('contested', 'NOUN'), ('once', 'ADV'), ('every', 'DET'), ('four', 'NUM'), ('years', 'NOUN'), ('.', '.'), ('This', 'DET'), ('is', 'VERB'), ('the', 'DET'), ('first', 'ADJ'), ('World', 'NOUN'), ('Cup', 'NOUN'), ('to', 'PRT'), ('be', 'VERB'), ('held', 'VERB'), ('in', 'ADP'), ('Eastern', 'NOUN'), ('Europe', 'NOUN'), ('and', 'CONJ'), ('the', 'DET'), ('11th', 'ADJ'), ('time', 'NOUN'), ('that', 'ADP'), ('it', 'PRON'), ('has', 'VERB'), ('been', 'VERB'), ('held', 'VERB'), ('in', 'ADP'), ('Europe', 'NOUN'), ('.', '.'), ('Show', 'NOUN'), ('me', 'PRON'), ('the', 'DET'), ('cheapest', 'ADJ'), ('round', 'NOUN'), ('trips', 'NOUN'), ('from', 'ADP'), ('Dallas', 'NOUN'), ('to', 'PRT'), ('Atlanta', 'NOUN'), ('I', 'PRON'), ('would', 'VERB'), ('like', 'ADP'), ('to', 'PRT'), ('see', 'VERB'), ('flights', 'NOUN'), ('from', 'ADP'), ('Denver', 'NOUN'), ('to', 'PRT'), ('Philadelphia', 'NOUN'), ('.', '.'), ('Show', 'NOUN'), ('me', 'PRON'), ('the', 'DET'), ('price', 'NOUN'), ('of', 'ADP'), ('the', 'DET'), ('flights', 'NOUN'), ('leaving', 'VERB'), ('Atlanta', 'NOUN'), ('at', 'ADP'), ('about', 'ADP'), ('3', 'NUM'), ('in', 'ADP'), ('the', 'DET'), ('afternoon', 'NOUN'), ('and', 'CONJ'), ('arriving', 'NOUN'), ('in', 'ADP'), ('San', 'NOUN'), ('Francisco', 'NOUN'), ('.', '.'), ('NASA', 'NOUN'), ('invited', 'NOUN'), ('social', 'ADJ'), ('media', 'NOUN'), ('users', 'NOUN'), ('to', 'PRT'), ('experience', 'NOUN'), ('the', 'DET'), ('launch', 'NOUN'), ('of', 'ADP'), ('ICESAT-2', 'NOUN'), ('Satellite', 'NOUN'), ('.', '.')]\n",
      "\n",
      "\n",
      "-----------------------------------------------------------------------------------------------------------------------------\n",
      "Tagging sequence with viterbi_backedup_by_trigram_tagger -\n",
      "\n",
      " [('Android', 'NOUN'), ('is', 'VERB'), ('a', 'DET'), ('mobile', 'ADJ'), ('operating', 'NOUN'), ('system', 'NOUN'), ('developed', 'VERB'), ('by', 'ADP'), ('Google', 'NOUN'), ('.', '.'), ('Android', 'NOUN'), ('has', 'VERB'), ('been', 'VERB'), ('the', 'DET'), ('best-selling', 'ADJ'), ('OS', 'NOUN'), ('worldwide', 'NOUN'), ('on', 'ADP'), ('smartphones', 'VERB'), ('since', 'ADP'), ('2011', 'NUM'), ('and', 'CONJ'), ('on', 'ADP'), ('tablets', 'NOUN'), ('since', 'ADP'), ('2013', 'NUM'), ('.', '.'), ('Google', 'NOUN'), ('and', 'CONJ'), ('Twitter', 'NOUN'), ('made', 'VERB'), ('a', 'DET'), ('deal', 'NOUN'), ('in', 'ADP'), ('2015', 'NUM'), ('that', 'ADP'), ('gave', 'VERB'), ('Google', 'NOUN'), ('access', 'NOUN'), ('to', 'PRT'), ('Twitter', 'NOUN'), (\"'s\", 'PRT'), ('firehose', 'NOUN'), ('.', '.'), ('Twitter', 'NOUN'), ('is', 'VERB'), ('an', 'DET'), ('online', 'NOUN'), ('news', 'NOUN'), ('and', 'CONJ'), ('social', 'ADJ'), ('networking', 'NOUN'), ('service', 'NOUN'), ('on', 'ADP'), ('which', 'DET'), ('users', 'NOUN'), ('post', 'NOUN'), ('and', 'CONJ'), ('interact', 'NOUN'), ('with', 'ADP'), ('messages', 'VERB'), ('known', 'VERB'), ('as', 'ADP'), ('tweets', 'NOUN'), ('.', '.'), ('Before', 'ADP'), ('entering', 'VERB'), ('politics', 'NOUN'), (',', '.'), ('Donald', 'NOUN'), ('Trump', 'NOUN'), ('was', 'VERB'), ('a', 'DET'), ('domineering', 'VERB'), ('businessman', 'NOUN'), ('and', 'CONJ'), ('a', 'DET'), ('television', 'NOUN'), ('personality', 'NOUN'), ('.', '.'), ('The', 'DET'), ('2018', 'NUM'), ('FIFA', 'NOUN'), ('World', 'NOUN'), ('Cup', 'NOUN'), ('is', 'VERB'), ('the', 'DET'), ('21st', 'NUM'), ('FIFA', 'NOUN'), ('World', 'NOUN'), ('Cup', 'NOUN'), (',', '.'), ('an', 'DET'), ('international', 'ADJ'), ('football', 'NOUN'), ('tournament', 'NOUN'), ('contested', 'VERB'), ('once', 'ADV'), ('every', 'DET'), ('four', 'NUM'), ('years', 'NOUN'), ('.', '.'), ('This', 'DET'), ('is', 'VERB'), ('the', 'DET'), ('first', 'ADJ'), ('World', 'NOUN'), ('Cup', 'NOUN'), ('to', 'PRT'), ('be', 'VERB'), ('held', 'VERB'), ('in', 'ADP'), ('Eastern', 'NOUN'), ('Europe', 'NOUN'), ('and', 'CONJ'), ('the', 'DET'), ('11th', 'ADJ'), ('time', 'NOUN'), ('that', 'ADP'), ('it', 'PRON'), ('has', 'VERB'), ('been', 'VERB'), ('held', 'VERB'), ('in', 'ADP'), ('Europe', 'NOUN'), ('.', '.'), ('Show', 'NOUN'), ('me', 'PRON'), ('the', 'DET'), ('cheapest', 'ADJ'), ('round', 'NOUN'), ('trips', 'NOUN'), ('from', 'ADP'), ('Dallas', 'NOUN'), ('to', 'PRT'), ('Atlanta', 'NOUN'), ('I', 'PRON'), ('would', 'VERB'), ('like', 'ADP'), ('to', 'PRT'), ('see', 'VERB'), ('flights', 'NOUN'), ('from', 'ADP'), ('Denver', 'NOUN'), ('to', 'PRT'), ('Philadelphia', 'NOUN'), ('.', '.'), ('Show', 'NOUN'), ('me', 'PRON'), ('the', 'DET'), ('price', 'NOUN'), ('of', 'ADP'), ('the', 'DET'), ('flights', 'NOUN'), ('leaving', 'VERB'), ('Atlanta', 'NOUN'), ('at', 'ADP'), ('about', 'ADP'), ('3', 'NUM'), ('in', 'ADP'), ('the', 'DET'), ('afternoon', 'NOUN'), ('and', 'CONJ'), ('arriving', 'VERB'), ('in', 'ADP'), ('San', 'NOUN'), ('Francisco', 'NOUN'), ('.', '.'), ('NASA', 'NOUN'), ('invited', 'VERB'), ('social', 'ADJ'), ('media', 'NOUN'), ('users', 'NOUN'), ('to', 'PRT'), ('experience', 'NOUN'), ('the', 'DET'), ('launch', 'NOUN'), ('of', 'ADP'), ('ICESAT-2', 'NOUN'), ('Satellite', 'NOUN'), ('.', '.')]\n"
     ]
    }
   ],
   "source": [
    "# Default Vanilla Viterbi\n",
    "# pos tags with Vanilla_Viterbi\n",
    "sample_test_data_tagged_sequence_with_vanilla_viterbi = vanilla_viterbi(test_tagged_words)\n",
    "print(\"Tagging sequence with Vanilla_Viterbi -\\n\\n\", sample_test_data_tagged_sequence_with_vanilla_viterbi)\n",
    "\n",
    "print('\\n')\n",
    "print('-'*125)\n",
    "\n",
    "# Method 1 - pos tags with Vanilla_Viterbi_for_Unknown_Words\n",
    "sample_test_data_tagged_sequence_unknown_words = Unknown_Words_With_Vanilla_Viterbi(test_tagged_words)\n",
    "print(\"Tagging sequence with viterbi using only transition probability for unknown words -\\n\\n\", \n",
    "      sample_test_data_tagged_sequence_unknown_words)\n",
    "\n",
    "print('\\n')\n",
    "print('-'*125)\n",
    "\n",
    "# Method 2 - pos tags with viterbi_backedup_by_trigram_tagger\n",
    "sample_test_data_tagged_sequence_with_viterbi_trigram = viterbi_backedup_by_trigram_tagger(test_tagged_words)\n",
    "print(\"Tagging sequence with viterbi_backedup_by_trigram_tagger -\\n\\n\", sample_test_data_tagged_sequence_with_viterbi_trigram)"
   ]
  },
  {
   "cell_type": "code",
   "execution_count": 68,
   "metadata": {},
   "outputs": [
    {
     "data": {
      "text/html": [
       "<div>\n",
       "<style scoped>\n",
       "    .dataframe tbody tr th:only-of-type {\n",
       "        vertical-align: middle;\n",
       "    }\n",
       "\n",
       "    .dataframe tbody tr th {\n",
       "        vertical-align: top;\n",
       "    }\n",
       "\n",
       "    .dataframe thead th {\n",
       "        text-align: right;\n",
       "    }\n",
       "</style>\n",
       "<table border=\"1\" class=\"dataframe\">\n",
       "  <thead>\n",
       "    <tr style=\"text-align: right;\">\n",
       "      <th></th>\n",
       "      <th>actual_tags</th>\n",
       "      <th>as_tagged_by_vanilla_viterbi</th>\n",
       "      <th>as_tagged_by_Vanilla_Viterbi_for_Unknown_Words</th>\n",
       "      <th>as_tagged_by_Vanilla_Viterbi_backed_by_trigram_tagger</th>\n",
       "    </tr>\n",
       "  </thead>\n",
       "  <tbody>\n",
       "    <tr>\n",
       "      <td>0</td>\n",
       "      <td>(Android, NOUN)</td>\n",
       "      <td>(Android, PRON)</td>\n",
       "      <td>(Android, NOUN)</td>\n",
       "      <td>(Android, NOUN)</td>\n",
       "    </tr>\n",
       "    <tr>\n",
       "      <td>8</td>\n",
       "      <td>(Google, NOUN)</td>\n",
       "      <td>(Google, PRON)</td>\n",
       "      <td>(Google, NOUN)</td>\n",
       "      <td>(Google, NOUN)</td>\n",
       "    </tr>\n",
       "    <tr>\n",
       "      <td>10</td>\n",
       "      <td>(Android, NOUN)</td>\n",
       "      <td>(Android, PRON)</td>\n",
       "      <td>(Android, NOUN)</td>\n",
       "      <td>(Android, NOUN)</td>\n",
       "    </tr>\n",
       "    <tr>\n",
       "      <td>15</td>\n",
       "      <td>(OS, NOUN)</td>\n",
       "      <td>(OS, PRON)</td>\n",
       "      <td>(OS, NOUN)</td>\n",
       "      <td>(OS, NOUN)</td>\n",
       "    </tr>\n",
       "    <tr>\n",
       "      <td>16</td>\n",
       "      <td>(worldwide, NOUN)</td>\n",
       "      <td>(worldwide, PRON)</td>\n",
       "      <td>(worldwide, NOUN)</td>\n",
       "      <td>(worldwide, NOUN)</td>\n",
       "    </tr>\n",
       "    <tr>\n",
       "      <td>18</td>\n",
       "      <td>(smartphones, NOUN)</td>\n",
       "      <td>(smartphones, PRON)</td>\n",
       "      <td>(smartphones, NOUN)</td>\n",
       "      <td>(smartphones, VERB)</td>\n",
       "    </tr>\n",
       "    <tr>\n",
       "      <td>20</td>\n",
       "      <td>(2011, NUM)</td>\n",
       "      <td>(2011, PRON)</td>\n",
       "      <td>(2011, NOUN)</td>\n",
       "      <td>(2011, NUM)</td>\n",
       "    </tr>\n",
       "    <tr>\n",
       "      <td>25</td>\n",
       "      <td>(2013, NUM)</td>\n",
       "      <td>(2013, PRON)</td>\n",
       "      <td>(2013, NOUN)</td>\n",
       "      <td>(2013, NUM)</td>\n",
       "    </tr>\n",
       "    <tr>\n",
       "      <td>27</td>\n",
       "      <td>(Google, NOUN)</td>\n",
       "      <td>(Google, PRON)</td>\n",
       "      <td>(Google, NOUN)</td>\n",
       "      <td>(Google, NOUN)</td>\n",
       "    </tr>\n",
       "    <tr>\n",
       "      <td>29</td>\n",
       "      <td>(Twitter, NOUN)</td>\n",
       "      <td>(Twitter, PRON)</td>\n",
       "      <td>(Twitter, NOUN)</td>\n",
       "      <td>(Twitter, NOUN)</td>\n",
       "    </tr>\n",
       "    <tr>\n",
       "      <td>34</td>\n",
       "      <td>(2015, NUM)</td>\n",
       "      <td>(2015, PRON)</td>\n",
       "      <td>(2015, NOUN)</td>\n",
       "      <td>(2015, NUM)</td>\n",
       "    </tr>\n",
       "    <tr>\n",
       "      <td>37</td>\n",
       "      <td>(Google, NOUN)</td>\n",
       "      <td>(Google, PRON)</td>\n",
       "      <td>(Google, X)</td>\n",
       "      <td>(Google, NOUN)</td>\n",
       "    </tr>\n",
       "    <tr>\n",
       "      <td>40</td>\n",
       "      <td>(Twitter, NOUN)</td>\n",
       "      <td>(Twitter, PRON)</td>\n",
       "      <td>(Twitter, VERB)</td>\n",
       "      <td>(Twitter, NOUN)</td>\n",
       "    </tr>\n",
       "    <tr>\n",
       "      <td>41</td>\n",
       "      <td>('s, PRT)</td>\n",
       "      <td>('s, VERB)</td>\n",
       "      <td>('s, PRT)</td>\n",
       "      <td>('s, PRT)</td>\n",
       "    </tr>\n",
       "    <tr>\n",
       "      <td>42</td>\n",
       "      <td>(firehose, NOUN)</td>\n",
       "      <td>(firehose, PRON)</td>\n",
       "      <td>(firehose, VERB)</td>\n",
       "      <td>(firehose, NOUN)</td>\n",
       "    </tr>\n",
       "    <tr>\n",
       "      <td>44</td>\n",
       "      <td>(Twitter, NOUN)</td>\n",
       "      <td>(Twitter, PRON)</td>\n",
       "      <td>(Twitter, NOUN)</td>\n",
       "      <td>(Twitter, NOUN)</td>\n",
       "    </tr>\n",
       "    <tr>\n",
       "      <td>47</td>\n",
       "      <td>(online, ADJ)</td>\n",
       "      <td>(online, PRON)</td>\n",
       "      <td>(online, NOUN)</td>\n",
       "      <td>(online, NOUN)</td>\n",
       "    </tr>\n",
       "    <tr>\n",
       "      <td>58</td>\n",
       "      <td>(interact, NOUN)</td>\n",
       "      <td>(interact, PRON)</td>\n",
       "      <td>(interact, NOUN)</td>\n",
       "      <td>(interact, NOUN)</td>\n",
       "    </tr>\n",
       "    <tr>\n",
       "      <td>60</td>\n",
       "      <td>(messages, NOUN)</td>\n",
       "      <td>(messages, PRON)</td>\n",
       "      <td>(messages, NOUN)</td>\n",
       "      <td>(messages, VERB)</td>\n",
       "    </tr>\n",
       "    <tr>\n",
       "      <td>63</td>\n",
       "      <td>(tweets, NOUN)</td>\n",
       "      <td>(tweets, PRON)</td>\n",
       "      <td>(tweets, NOUN)</td>\n",
       "      <td>(tweets, NOUN)</td>\n",
       "    </tr>\n",
       "    <tr>\n",
       "      <td>73</td>\n",
       "      <td>(domineering, ADJ)</td>\n",
       "      <td>(domineering, PRON)</td>\n",
       "      <td>(domineering, NOUN)</td>\n",
       "      <td>(domineering, VERB)</td>\n",
       "    </tr>\n",
       "    <tr>\n",
       "      <td>78</td>\n",
       "      <td>(personality, NOUN)</td>\n",
       "      <td>(personality, PRON)</td>\n",
       "      <td>(personality, NOUN)</td>\n",
       "      <td>(personality, NOUN)</td>\n",
       "    </tr>\n",
       "    <tr>\n",
       "      <td>81</td>\n",
       "      <td>(2018, NUM)</td>\n",
       "      <td>(2018, PRON)</td>\n",
       "      <td>(2018, NOUN)</td>\n",
       "      <td>(2018, NUM)</td>\n",
       "    </tr>\n",
       "    <tr>\n",
       "      <td>82</td>\n",
       "      <td>(FIFA, NOUN)</td>\n",
       "      <td>(FIFA, PRON)</td>\n",
       "      <td>(FIFA, NOUN)</td>\n",
       "      <td>(FIFA, NOUN)</td>\n",
       "    </tr>\n",
       "    <tr>\n",
       "      <td>84</td>\n",
       "      <td>(Cup, NOUN)</td>\n",
       "      <td>(Cup, PRON)</td>\n",
       "      <td>(Cup, NOUN)</td>\n",
       "      <td>(Cup, NOUN)</td>\n",
       "    </tr>\n",
       "    <tr>\n",
       "      <td>87</td>\n",
       "      <td>(21st, NUM)</td>\n",
       "      <td>(21st, PRON)</td>\n",
       "      <td>(21st, NOUN)</td>\n",
       "      <td>(21st, NUM)</td>\n",
       "    </tr>\n",
       "    <tr>\n",
       "      <td>88</td>\n",
       "      <td>(FIFA, NOUN)</td>\n",
       "      <td>(FIFA, PRON)</td>\n",
       "      <td>(FIFA, NOUN)</td>\n",
       "      <td>(FIFA, NOUN)</td>\n",
       "    </tr>\n",
       "    <tr>\n",
       "      <td>90</td>\n",
       "      <td>(Cup, NOUN)</td>\n",
       "      <td>(Cup, PRON)</td>\n",
       "      <td>(Cup, NOUN)</td>\n",
       "      <td>(Cup, NOUN)</td>\n",
       "    </tr>\n",
       "    <tr>\n",
       "      <td>95</td>\n",
       "      <td>(tournament, NOUN)</td>\n",
       "      <td>(tournament, PRON)</td>\n",
       "      <td>(tournament, NOUN)</td>\n",
       "      <td>(tournament, NOUN)</td>\n",
       "    </tr>\n",
       "    <tr>\n",
       "      <td>96</td>\n",
       "      <td>(contested, VERB)</td>\n",
       "      <td>(contested, PRON)</td>\n",
       "      <td>(contested, NOUN)</td>\n",
       "      <td>(contested, VERB)</td>\n",
       "    </tr>\n",
       "    <tr>\n",
       "      <td>107</td>\n",
       "      <td>(Cup, NOUN)</td>\n",
       "      <td>(Cup, PRON)</td>\n",
       "      <td>(Cup, NOUN)</td>\n",
       "      <td>(Cup, NOUN)</td>\n",
       "    </tr>\n",
       "    <tr>\n",
       "      <td>131</td>\n",
       "      <td>(trips, NOUN)</td>\n",
       "      <td>(trips, PRON)</td>\n",
       "      <td>(trips, NOUN)</td>\n",
       "      <td>(trips, NOUN)</td>\n",
       "    </tr>\n",
       "    <tr>\n",
       "      <td>163</td>\n",
       "      <td>(arriving, NOUN)</td>\n",
       "      <td>(arriving, PRON)</td>\n",
       "      <td>(arriving, NOUN)</td>\n",
       "      <td>(arriving, VERB)</td>\n",
       "    </tr>\n",
       "    <tr>\n",
       "      <td>168</td>\n",
       "      <td>(NASA, NOUN)</td>\n",
       "      <td>(NASA, PRON)</td>\n",
       "      <td>(NASA, NOUN)</td>\n",
       "      <td>(NASA, NOUN)</td>\n",
       "    </tr>\n",
       "    <tr>\n",
       "      <td>169</td>\n",
       "      <td>(invited, VERB)</td>\n",
       "      <td>(invited, PRON)</td>\n",
       "      <td>(invited, NOUN)</td>\n",
       "      <td>(invited, VERB)</td>\n",
       "    </tr>\n",
       "    <tr>\n",
       "      <td>178</td>\n",
       "      <td>(ICESAT-2, NOUN)</td>\n",
       "      <td>(ICESAT-2, PRON)</td>\n",
       "      <td>(ICESAT-2, NOUN)</td>\n",
       "      <td>(ICESAT-2, NOUN)</td>\n",
       "    </tr>\n",
       "    <tr>\n",
       "      <td>179</td>\n",
       "      <td>(Satellite, NOUN)</td>\n",
       "      <td>(Satellite, PRON)</td>\n",
       "      <td>(Satellite, NOUN)</td>\n",
       "      <td>(Satellite, NOUN)</td>\n",
       "    </tr>\n",
       "  </tbody>\n",
       "</table>\n",
       "</div>"
      ],
      "text/plain": [
       "             actual_tags as_tagged_by_vanilla_viterbi  \\\n",
       "0        (Android, NOUN)              (Android, PRON)   \n",
       "8         (Google, NOUN)               (Google, PRON)   \n",
       "10       (Android, NOUN)              (Android, PRON)   \n",
       "15            (OS, NOUN)                   (OS, PRON)   \n",
       "16     (worldwide, NOUN)            (worldwide, PRON)   \n",
       "18   (smartphones, NOUN)          (smartphones, PRON)   \n",
       "20           (2011, NUM)                 (2011, PRON)   \n",
       "25           (2013, NUM)                 (2013, PRON)   \n",
       "27        (Google, NOUN)               (Google, PRON)   \n",
       "29       (Twitter, NOUN)              (Twitter, PRON)   \n",
       "34           (2015, NUM)                 (2015, PRON)   \n",
       "37        (Google, NOUN)               (Google, PRON)   \n",
       "40       (Twitter, NOUN)              (Twitter, PRON)   \n",
       "41             ('s, PRT)                   ('s, VERB)   \n",
       "42      (firehose, NOUN)             (firehose, PRON)   \n",
       "44       (Twitter, NOUN)              (Twitter, PRON)   \n",
       "47         (online, ADJ)               (online, PRON)   \n",
       "58      (interact, NOUN)             (interact, PRON)   \n",
       "60      (messages, NOUN)             (messages, PRON)   \n",
       "63        (tweets, NOUN)               (tweets, PRON)   \n",
       "73    (domineering, ADJ)          (domineering, PRON)   \n",
       "78   (personality, NOUN)          (personality, PRON)   \n",
       "81           (2018, NUM)                 (2018, PRON)   \n",
       "82          (FIFA, NOUN)                 (FIFA, PRON)   \n",
       "84           (Cup, NOUN)                  (Cup, PRON)   \n",
       "87           (21st, NUM)                 (21st, PRON)   \n",
       "88          (FIFA, NOUN)                 (FIFA, PRON)   \n",
       "90           (Cup, NOUN)                  (Cup, PRON)   \n",
       "95    (tournament, NOUN)           (tournament, PRON)   \n",
       "96     (contested, VERB)            (contested, PRON)   \n",
       "107          (Cup, NOUN)                  (Cup, PRON)   \n",
       "131        (trips, NOUN)                (trips, PRON)   \n",
       "163     (arriving, NOUN)             (arriving, PRON)   \n",
       "168         (NASA, NOUN)                 (NASA, PRON)   \n",
       "169      (invited, VERB)              (invited, PRON)   \n",
       "178     (ICESAT-2, NOUN)             (ICESAT-2, PRON)   \n",
       "179    (Satellite, NOUN)            (Satellite, PRON)   \n",
       "\n",
       "    as_tagged_by_Vanilla_Viterbi_for_Unknown_Words  \\\n",
       "0                                  (Android, NOUN)   \n",
       "8                                   (Google, NOUN)   \n",
       "10                                 (Android, NOUN)   \n",
       "15                                      (OS, NOUN)   \n",
       "16                               (worldwide, NOUN)   \n",
       "18                             (smartphones, NOUN)   \n",
       "20                                    (2011, NOUN)   \n",
       "25                                    (2013, NOUN)   \n",
       "27                                  (Google, NOUN)   \n",
       "29                                 (Twitter, NOUN)   \n",
       "34                                    (2015, NOUN)   \n",
       "37                                     (Google, X)   \n",
       "40                                 (Twitter, VERB)   \n",
       "41                                       ('s, PRT)   \n",
       "42                                (firehose, VERB)   \n",
       "44                                 (Twitter, NOUN)   \n",
       "47                                  (online, NOUN)   \n",
       "58                                (interact, NOUN)   \n",
       "60                                (messages, NOUN)   \n",
       "63                                  (tweets, NOUN)   \n",
       "73                             (domineering, NOUN)   \n",
       "78                             (personality, NOUN)   \n",
       "81                                    (2018, NOUN)   \n",
       "82                                    (FIFA, NOUN)   \n",
       "84                                     (Cup, NOUN)   \n",
       "87                                    (21st, NOUN)   \n",
       "88                                    (FIFA, NOUN)   \n",
       "90                                     (Cup, NOUN)   \n",
       "95                              (tournament, NOUN)   \n",
       "96                               (contested, NOUN)   \n",
       "107                                    (Cup, NOUN)   \n",
       "131                                  (trips, NOUN)   \n",
       "163                               (arriving, NOUN)   \n",
       "168                                   (NASA, NOUN)   \n",
       "169                                (invited, NOUN)   \n",
       "178                               (ICESAT-2, NOUN)   \n",
       "179                              (Satellite, NOUN)   \n",
       "\n",
       "    as_tagged_by_Vanilla_Viterbi_backed_by_trigram_tagger  \n",
       "0                                      (Android, NOUN)     \n",
       "8                                       (Google, NOUN)     \n",
       "10                                     (Android, NOUN)     \n",
       "15                                          (OS, NOUN)     \n",
       "16                                   (worldwide, NOUN)     \n",
       "18                                 (smartphones, VERB)     \n",
       "20                                         (2011, NUM)     \n",
       "25                                         (2013, NUM)     \n",
       "27                                      (Google, NOUN)     \n",
       "29                                     (Twitter, NOUN)     \n",
       "34                                         (2015, NUM)     \n",
       "37                                      (Google, NOUN)     \n",
       "40                                     (Twitter, NOUN)     \n",
       "41                                           ('s, PRT)     \n",
       "42                                    (firehose, NOUN)     \n",
       "44                                     (Twitter, NOUN)     \n",
       "47                                      (online, NOUN)     \n",
       "58                                    (interact, NOUN)     \n",
       "60                                    (messages, VERB)     \n",
       "63                                      (tweets, NOUN)     \n",
       "73                                 (domineering, VERB)     \n",
       "78                                 (personality, NOUN)     \n",
       "81                                         (2018, NUM)     \n",
       "82                                        (FIFA, NOUN)     \n",
       "84                                         (Cup, NOUN)     \n",
       "87                                         (21st, NUM)     \n",
       "88                                        (FIFA, NOUN)     \n",
       "90                                         (Cup, NOUN)     \n",
       "95                                  (tournament, NOUN)     \n",
       "96                                   (contested, VERB)     \n",
       "107                                        (Cup, NOUN)     \n",
       "131                                      (trips, NOUN)     \n",
       "163                                   (arriving, VERB)     \n",
       "168                                       (NASA, NOUN)     \n",
       "169                                    (invited, VERB)     \n",
       "178                                   (ICESAT-2, NOUN)     \n",
       "179                                  (Satellite, NOUN)     "
      ]
     },
     "execution_count": 68,
     "metadata": {},
     "output_type": "execute_result"
    }
   ],
   "source": [
    "# A dataframe showing - \n",
    "# 1. the actual tags using nltk.pos_tag_sent\n",
    "# 2. words as tagged by vanilla viterbi\n",
    "# 3. words as tagged by Vanilla_Viterbi_for_Unknown_Words - METHOD - 1\n",
    "# 4. words as tagged by viterbi_backedup_by_trigram_tagger - METHOD - 2\n",
    "\n",
    "cols1 = ['actual_tags', 'as_tagged_by_vanilla_viterbi', 'as_tagged_by_Vanilla_Viterbi_for_Unknown_Words',\n",
    "            'as_tagged_by_Vanilla_Viterbi_backed_by_trigram_tagger']\n",
    "\n",
    "df_tags_comparison = pd.DataFrame(columns = cols1)\n",
    "df_tags_comparison = df_tags_comparison.fillna(0)\n",
    "\n",
    "# Actual tags\n",
    "df_tags_comparison.actual_tags = [tup for tup in tagged_words_test_run_base]\n",
    "\n",
    "# tags by vanilla viterbi\n",
    "df_tags_comparison.as_tagged_by_vanilla_viterbi = [tup for tup in sample_test_data_tagged_sequence_with_vanilla_viterbi]\n",
    "\n",
    "# tags by Vanilla_Viterbi_for_Unknown_Words - METHOD - 1\n",
    "df_tags_comparison.as_tagged_by_Vanilla_Viterbi_for_Unknown_Words = [tup for tup in sample_test_data_tagged_sequence_unknown_words]\n",
    "\n",
    "# tags by viterbi_backedup_by_trigram_tagger - METHOD - 2\n",
    "df_tags_comparison.as_tagged_by_Vanilla_Viterbi_backed_by_trigram_tagger = [tup for tup in \n",
    "                                                                            sample_test_data_tagged_sequence_with_viterbi_trigram]\n",
    "\n",
    "df_tags_comparison[df_tags_comparison.as_tagged_by_vanilla_viterbi != \n",
    "                   df_tags_comparison.as_tagged_by_Vanilla_Viterbi_backed_by_trigram_tagger]"
   ]
  },
  {
   "cell_type": "markdown",
   "metadata": {},
   "source": [
    "### Conclusion :\n",
    "##### Thus we see that most of the words that were incorrectly tagged by the vanilla viterbi algorithm were corrected by the viterbi algorithm backed up by the trigram tagger.\n",
    "##### In this analysis we used 2 modification techniques for the original vanilla viterbi -\n",
    "\n",
    "##### Method 1 -\n",
    "- We used only the transition probability for unknown words.\n",
    "- This method showed an increase in the accuracy (94.4%) but still had some incorrect classification.\n",
    "\n",
    "- The accuracy could be increased further and we turned two a second modification in method-2 below.\n",
    "\n",
    "##### Method 2 -\n",
    "- We used the viterbi algorithm and backed it up with the trigram tagger which was inturn backed up by the rule based \n",
    "regex tagger.\n",
    "- This gave us an accuracy of 95.82% on the test data.\n",
    "- Also on testing this model on the provided sample test data, it achieved an accuracy of 92.81% and comes out to be \n",
    "the winner."
   ]
  },
  {
   "cell_type": "code",
   "execution_count": null,
   "metadata": {},
   "outputs": [],
   "source": []
  }
 ],
 "metadata": {
  "kernelspec": {
   "display_name": "Python 3",
   "language": "python",
   "name": "python3"
  },
  "language_info": {
   "codemirror_mode": {
    "name": "ipython",
    "version": 3
   },
   "file_extension": ".py",
   "mimetype": "text/x-python",
   "name": "python",
   "nbconvert_exporter": "python",
   "pygments_lexer": "ipython3",
   "version": "3.7.4"
  }
 },
 "nbformat": 4,
 "nbformat_minor": 2
}
