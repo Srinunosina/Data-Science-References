{
 "cells": [
  {
   "cell_type": "code",
   "execution_count": 44,
   "metadata": {},
   "outputs": [],
   "source": [
    "from matplotlib import pyplot as plt\n",
    "import os\n",
    "import cv2\n",
    "import keras_ocr"
   ]
  },
  {
   "cell_type": "code",
   "execution_count": 35,
   "metadata": {},
   "outputs": [],
   "source": [
    "#!pip install keras-ocr"
   ]
  },
  {
   "cell_type": "code",
   "execution_count": 19,
   "metadata": {},
   "outputs": [],
   "source": []
  },
  {
   "cell_type": "code",
   "execution_count": 20,
   "metadata": {},
   "outputs": [
    {
     "name": "stdout",
     "output_type": "stream",
     "text": [
      "Looking for C:\\Users\\srinu.nosina\\.keras-ocr\\craft_mlt_25k.h5\n",
      "Downloading C:\\Users\\srinu.nosina\\.keras-ocr\\craft_mlt_25k.h5\n",
      "Looking for C:\\Users\\srinu.nosina\\.keras-ocr\\crnn_kurapan.h5\n",
      "Downloading C:\\Users\\srinu.nosina\\.keras-ocr\\crnn_kurapan.h5\n"
     ]
    }
   ],
   "source": [
    "pipeline = keras_ocr.pipeline.Pipeline()"
   ]
  },
  {
   "cell_type": "code",
   "execution_count": 21,
   "metadata": {},
   "outputs": [],
   "source": [
    "image_path = r\"D:\\Srinu Docs\\Images\""
   ]
  },
  {
   "cell_type": "code",
   "execution_count": 22,
   "metadata": {},
   "outputs": [],
   "source": [
    "def process_Images(folder_path):\n",
    "    \n",
    "    images = []\n",
    "\n",
    "    ext = ( 'jpg', 'jpeg', 'png', 'tif', 'tiff')\n",
    "    for img_file in os.listdir(folder_path):\n",
    "        if img_file.endswith(ext):\n",
    "            img_basename = os.path.splitext(img_file)[0]\n",
    "            print('\\n')\n",
    "            print('#################################')\n",
    "            print('### processing:', img_file )\n",
    "            img = cv2.imread(os.path.join(folder_path,img_file), 0)\n",
    "            images.push(img)\n",
    "            print('#################################')\n",
    "            print('\\n')\n",
    "            \n",
    "    return images            "
   ]
  },
  {
   "cell_type": "code",
   "execution_count": 46,
   "metadata": {},
   "outputs": [],
   "source": [
    "#images = process_Images(image_path)"
   ]
  },
  {
   "cell_type": "code",
   "execution_count": 53,
   "metadata": {},
   "outputs": [],
   "source": [
    "def load_images_from_folder(folder):\n",
    "    images = []\n",
    "    for filename in os.listdir(folder):\n",
    "        img = cv2.imread(os.path.join(folder, filename))\n",
    "        if img is not None:\n",
    "            images.append(img)\n",
    "            print('### processing:', folder + \"\\\\\" + filename )\n",
    "    return images"
   ]
  },
  {
   "cell_type": "code",
   "execution_count": 54,
   "metadata": {},
   "outputs": [
    {
     "name": "stdout",
     "output_type": "stream",
     "text": [
      "### processing: D:\\Srinu Docs\\Images\\1.jpg\n",
      "### processing: D:\\Srinu Docs\\Images\\100.png\n",
      "### processing: D:\\Srinu Docs\\Images\\93.png\n",
      "### processing: D:\\Srinu Docs\\Images\\94.png\n",
      "### processing: D:\\Srinu Docs\\Images\\95.png\n",
      "### processing: D:\\Srinu Docs\\Images\\96.png\n",
      "### processing: D:\\Srinu Docs\\Images\\97.png\n",
      "### processing: D:\\Srinu Docs\\Images\\98.png\n",
      "### processing: D:\\Srinu Docs\\Images\\99.png\n"
     ]
    }
   ],
   "source": [
    "images = load_images_from_folder(image_path)"
   ]
  },
  {
   "cell_type": "code",
   "execution_count": 52,
   "metadata": {},
   "outputs": [
    {
     "data": {
      "text/plain": [
       "<matplotlib.image.AxesImage at 0x1e190f16518>"
      ]
     },
     "execution_count": 52,
     "metadata": {},
     "output_type": "execute_result"
    }
   ],
   "source": [
    "#plt.imshow(images[0])"
   ]
  },
  {
   "cell_type": "raw",
   "metadata": {},
   "source": [
    "images = [\n",
    "  keras_ocr.tools.read(url) for url in [\n",
    "      'D:\\\\Srinu Docs\\\\Images\\\\1.png',        \n",
    "      'https://storage.googleapis.com/gcptutorials.com/examples/keras-ocr-img-2.png'\n",
    "  ]\n",
    "]"
   ]
  },
  {
   "cell_type": "code",
   "execution_count": null,
   "metadata": {},
   "outputs": [],
   "source": []
  },
  {
   "cell_type": "code",
   "execution_count": null,
   "metadata": {},
   "outputs": [],
   "source": []
  }
 ],
 "metadata": {
  "kernelspec": {
   "display_name": "Python 3",
   "language": "python",
   "name": "python3"
  },
  "language_info": {
   "codemirror_mode": {
    "name": "ipython",
    "version": 3
   },
   "file_extension": ".py",
   "mimetype": "text/x-python",
   "name": "python",
   "nbconvert_exporter": "python",
   "pygments_lexer": "ipython3",
   "version": "3.6.5"
  }
 },
 "nbformat": 4,
 "nbformat_minor": 2
}
