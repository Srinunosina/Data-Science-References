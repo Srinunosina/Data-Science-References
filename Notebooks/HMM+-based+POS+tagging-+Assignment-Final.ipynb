{
 "cells": [
  {
   "cell_type": "markdown",
   "metadata": {},
   "source": [
    "<center><b><h2><font color = 'green'> POS tagging using Vanilla Viterbi and Modified Viterbi </h2></b></center>"
   ]
  },
  {
   "cell_type": "markdown",
   "metadata": {},
   "source": [
    "<b><u><h3><font color = 'green'> Objectives </h3></u></b>\n",
    "\n",
    "\n",
    "- Vanilla Viterbi algorithm for assigning POS tags (i.e. without dealing with unknown words)\n",
    "\n",
    "- Solve the problem of unknown words using at least two techniques. \n",
    "\n",
    "- Compare the tagging accuracy after making these modifications with the Vanilla Viterbi algorithm.\n",
    "\n",
    "- List down at least three cases from the sample test file (i.e. unknown word-tag pairs) which were \n",
    "incorrectly tagged by the original Viterbi POS tagger and got corrected after your modifications."
   ]
  },
  {
   "cell_type": "markdown",
   "metadata": {},
   "source": [
    "<b><u><h3><font color = 'green'> Data Preparation</h3></u></b>"
   ]
  },
  {
   "cell_type": "code",
   "execution_count": 1,
   "metadata": {},
   "outputs": [],
   "source": [
    "#Importing libraries\n",
    "import nltk, re\n",
    "import requests\n",
    "import random\n",
    "import numpy as np\n",
    "import pandas as pd\n",
    "import pprint, time\n",
    "import matplotlib.pyplot as plt\n",
    "import seaborn as sns\n",
    "\n",
    "from sklearn.model_selection import train_test_split\n",
    "from nltk.tokenize import word_tokenize"
   ]
  },
  {
   "cell_type": "code",
   "execution_count": 2,
   "metadata": {},
   "outputs": [
    {
     "name": "stderr",
     "output_type": "stream",
     "text": [
      "[nltk_data] Downloading package universal_tagset to\n",
      "[nltk_data]     C:\\Users\\SRINU\\AppData\\Roaming\\nltk_data...\n",
      "[nltk_data]   Package universal_tagset is already up-to-date!\n",
      "[nltk_data] Downloading package averaged_perceptron_tagger to\n",
      "[nltk_data]     C:\\Users\\SRINU\\AppData\\Roaming\\nltk_data...\n",
      "[nltk_data]   Package averaged_perceptron_tagger is already up-to-\n",
      "[nltk_data]       date!\n"
     ]
    },
    {
     "data": {
      "text/plain": [
       "True"
      ]
     },
     "execution_count": 2,
     "metadata": {},
     "output_type": "execute_result"
    }
   ],
   "source": [
    "nltk.download('universal_tagset')\n",
    "nltk.download('averaged_perceptron_tagger')"
   ]
  },
  {
   "cell_type": "code",
   "execution_count": 3,
   "metadata": {},
   "outputs": [],
   "source": [
    "file_path = \"D:\\\\DataScientist\\\\\"\n",
    "file_name = \"Test_sentences.txt\""
   ]
  },
  {
   "cell_type": "code",
   "execution_count": 4,
   "metadata": {},
   "outputs": [],
   "source": [
    "# reading the Treebank tagged sentences\n",
    "nltk_data = list(nltk.corpus.treebank.tagged_sents(tagset='universal'))"
   ]
  },
  {
   "cell_type": "code",
   "execution_count": 5,
   "metadata": {},
   "outputs": [
    {
     "name": "stdout",
     "output_type": "stream",
     "text": [
      "[[('Pierre', 'NOUN'), ('Vinken', 'NOUN'), (',', '.'), ('61', 'NUM'), ('years', 'NOUN'), ('old', 'ADJ'), (',', '.'), ('will', 'VERB'), ('join', 'VERB'), ('the', 'DET'), ('board', 'NOUN'), ('as', 'ADP'), ('a', 'DET'), ('nonexecutive', 'ADJ'), ('director', 'NOUN'), ('Nov.', 'NOUN'), ('29', 'NUM'), ('.', '.')], [('Mr.', 'NOUN'), ('Vinken', 'NOUN'), ('is', 'VERB'), ('chairman', 'NOUN'), ('of', 'ADP'), ('Elsevier', 'NOUN'), ('N.V.', 'NOUN'), (',', '.'), ('the', 'DET'), ('Dutch', 'NOUN'), ('publishing', 'VERB'), ('group', 'NOUN'), ('.', '.')], [('Rudolph', 'NOUN'), ('Agnew', 'NOUN'), (',', '.'), ('55', 'NUM'), ('years', 'NOUN'), ('old', 'ADJ'), ('and', 'CONJ'), ('former', 'ADJ'), ('chairman', 'NOUN'), ('of', 'ADP'), ('Consolidated', 'NOUN'), ('Gold', 'NOUN'), ('Fields', 'NOUN'), ('PLC', 'NOUN'), (',', '.'), ('was', 'VERB'), ('named', 'VERB'), ('*-1', 'X'), ('a', 'DET'), ('nonexecutive', 'ADJ'), ('director', 'NOUN'), ('of', 'ADP'), ('this', 'DET'), ('British', 'ADJ'), ('industrial', 'ADJ'), ('conglomerate', 'NOUN'), ('.', '.')], [('A', 'DET'), ('form', 'NOUN'), ('of', 'ADP'), ('asbestos', 'NOUN'), ('once', 'ADV'), ('used', 'VERB'), ('*', 'X'), ('*', 'X'), ('to', 'PRT'), ('make', 'VERB'), ('Kent', 'NOUN'), ('cigarette', 'NOUN'), ('filters', 'NOUN'), ('has', 'VERB'), ('caused', 'VERB'), ('a', 'DET'), ('high', 'ADJ'), ('percentage', 'NOUN'), ('of', 'ADP'), ('cancer', 'NOUN'), ('deaths', 'NOUN'), ('among', 'ADP'), ('a', 'DET'), ('group', 'NOUN'), ('of', 'ADP'), ('workers', 'NOUN'), ('exposed', 'VERB'), ('*', 'X'), ('to', 'PRT'), ('it', 'PRON'), ('more', 'ADV'), ('than', 'ADP'), ('30', 'NUM'), ('years', 'NOUN'), ('ago', 'ADP'), (',', '.'), ('researchers', 'NOUN'), ('reported', 'VERB'), ('0', 'X'), ('*T*-1', 'X'), ('.', '.')], [('The', 'DET'), ('asbestos', 'NOUN'), ('fiber', 'NOUN'), (',', '.'), ('crocidolite', 'NOUN'), (',', '.'), ('is', 'VERB'), ('unusually', 'ADV'), ('resilient', 'ADJ'), ('once', 'ADP'), ('it', 'PRON'), ('enters', 'VERB'), ('the', 'DET'), ('lungs', 'NOUN'), (',', '.'), ('with', 'ADP'), ('even', 'ADV'), ('brief', 'ADJ'), ('exposures', 'NOUN'), ('to', 'PRT'), ('it', 'PRON'), ('causing', 'VERB'), ('symptoms', 'NOUN'), ('that', 'DET'), ('*T*-1', 'X'), ('show', 'VERB'), ('up', 'PRT'), ('decades', 'NOUN'), ('later', 'ADJ'), (',', '.'), ('researchers', 'NOUN'), ('said', 'VERB'), ('0', 'X'), ('*T*-2', 'X'), ('.', '.')]]\n"
     ]
    }
   ],
   "source": [
    "# let's print few of the tagged data\n",
    "print(nltk_data[:5])\n"
   ]
  },
  {
   "cell_type": "code",
   "execution_count": 6,
   "metadata": {},
   "outputs": [
    {
     "name": "stdout",
     "output_type": "stream",
     "text": [
      "Training Set Length : 3718\n",
      "Test Set Length : 196\n",
      "-----------------------------------------------------------------------------------------------------------------------------\n",
      "Training Data:\n",
      "\n",
      "[[('The', 'DET'), ('report', 'NOUN'), ('from', 'ADP'), ('the', 'DET'), ('Fed', 'NOUN'), ('found', 'VERB'), ('that', 'ADP'), ('manufacturing', 'NOUN'), (',', '.'), ('in', 'ADP'), ('particular', 'ADJ'), (',', '.'), ('has', 'VERB'), ('been', 'VERB'), ('weak', 'ADJ'), ('in', 'ADP'), ('recent', 'ADJ'), ('weeks', 'NOUN'), ('.', '.')], [('Thousands', 'NOUN'), ('of', 'ADP'), ('East', 'NOUN'), ('Germans', 'NOUN'), ('fled', 'VERB'), ('to', 'PRT'), ('Czechoslovakia', 'NOUN'), ('after', 'ADP'), ('the', 'DET'), ('East', 'NOUN'), ('Berlin', 'NOUN'), ('government', 'NOUN'), ('lifted', 'VERB'), ('travel', 'NOUN'), ('restrictions', 'NOUN'), ('.', '.')], [('If', 'ADP'), ('a', 'DET'), ('competitor', 'NOUN'), ('enters', 'VERB'), ('the', 'DET'), ('game', 'NOUN'), (',', '.'), ('for', 'ADP'), ('example', 'NOUN'), (',', '.'), ('Mr.', 'NOUN'), ('Hahn', 'NOUN'), ('could', 'VERB'), ('face', 'VERB'), ('the', 'DET'), ('dilemma', 'NOUN'), ('of', 'ADP'), ('*', 'X'), ('paying', 'VERB'), ('a', 'DET'), ('premium', 'NOUN'), ('for', 'ADP'), ('Nekoosa', 'NOUN'), ('or', 'CONJ'), ('seeing', 'VERB'), ('the', 'DET'), ('company', 'NOUN'), ('fall', 'NOUN'), ('into', 'ADP'), ('the', 'DET'), ('arms', 'NOUN'), ('of', 'ADP'), ('a', 'DET'), ('rival', 'NOUN'), ('.', '.')], [('But', 'CONJ'), ('in', 'ADP'), ('recent', 'ADJ'), ('days', 'NOUN'), (',', '.'), ('Columbia', 'NOUN'), ('has', 'VERB'), ('edged', 'VERB'), ('up', 'ADP'), (',', '.'), ('*-1', 'X'), ('closing', 'VERB'), ('at', 'ADP'), ('5', 'NUM'), ('1\\\\/4', 'NUM'), (',', '.'), ('up', 'ADV'), ('3\\\\/8', 'NUM'), (',', '.'), ('yesterday', 'NOUN'), ('on', 'ADP'), ('revived', 'VERB'), ('speculation', 'NOUN'), ('that', 'ADP'), ('the', 'DET'), ('thrift', 'NOUN'), ('might', 'NOUN'), ('restructure', 'VERB'), ('.', '.')], [('By', 'ADP'), ('January', 'NOUN'), ('it', 'PRON'), ('*EXP*-1', 'X'), ('should', 'VERB'), ('be', 'VERB'), ('fairly', 'ADV'), ('clear', 'ADJ'), ('what', 'PRON'), ('*T*-2', 'X'), (\"'s\", 'PRT'), ('hot', 'ADJ'), ('--', '.'), ('and', 'NOUN'), ('what', 'PRON'), ('*T*-172', 'X'), (\"'s\", 'VERB'), ('not', 'ADV'), ('*?*', 'X'), ('.', '.')]]\n"
     ]
    }
   ],
   "source": [
    "# split data into training and validation set in the ratio 95:5\n",
    "random.seed(1234)\n",
    "train_set, test_set = train_test_split(nltk_data, train_size=0.95, test_size=0.05)\n",
    "\n",
    "print(\"Training Set Length :\", len(train_set))\n",
    "print(\"Test Set Length :\", len(test_set))\n",
    "print(\"-\" * 125)\n",
    "print(\"Training Data:\\n\")\n",
    "print(train_set[:5])"
   ]
  },
  {
   "cell_type": "code",
   "execution_count": 7,
   "metadata": {},
   "outputs": [
    {
     "name": "stdout",
     "output_type": "stream",
     "text": [
      "Total Tagged words in Training set : 95718\n",
      "-----------------------------------------------------------------------------------------------------------------------------\n",
      "Top 10 Tagged words in Training set :\n",
      "\n",
      " [('The', 'DET'), ('report', 'NOUN'), ('from', 'ADP'), ('the', 'DET'), ('Fed', 'NOUN'), ('found', 'VERB'), ('that', 'ADP'), ('manufacturing', 'NOUN'), (',', '.'), ('in', 'ADP')]\n"
     ]
    }
   ],
   "source": [
    "# list of training set tagged words\n",
    "\n",
    "training_tagged_words = [tup for sent in train_set for tup in sent]\n",
    "\n",
    "print('Total Tagged words in Training set :', len(training_tagged_words))\n",
    "print('-' * 125)\n",
    "print('Top 10 Tagged words in Training set :\\n\\n', training_tagged_words[:10])"
   ]
  },
  {
   "cell_type": "code",
   "execution_count": 8,
   "metadata": {},
   "outputs": [],
   "source": [
    "#training_tagged_words"
   ]
  },
  {
   "cell_type": "markdown",
   "metadata": {},
   "source": [
    "<b><u><h3><font color = 'green'> Custom Functions </h3></u></b>"
   ]
  },
  {
   "cell_type": "code",
   "execution_count": 9,
   "metadata": {},
   "outputs": [],
   "source": [
    "# function to extract nested tuple value\n",
    "\n",
    "def get_nested_tuple_from_list(input_list, index):\n",
    "    if index == -1:\n",
    "        return [tup for sent in input_list for tup in sent]\n",
    "    else:\n",
    "        return [tup[index] for sent in input_list for tup in sent]"
   ]
  },
  {
   "cell_type": "code",
   "execution_count": 10,
   "metadata": {},
   "outputs": [],
   "source": [
    "# function to extract value from tuple by index position\n",
    "\n",
    "def get_tuple_value_from_list(input_list, index):\n",
    "    if index == -1:\n",
    "        return [pair for pair in input_list]\n",
    "    else:\n",
    "        return [pair[index] for pair in input_list]\n",
    "    "
   ]
  },
  {
   "cell_type": "code",
   "execution_count": 11,
   "metadata": {},
   "outputs": [],
   "source": [
    "# function to convert list to set object\n",
    "\n",
    "def convert_list_to_set(input_list):\n",
    "    return set(input_list)"
   ]
  },
  {
   "cell_type": "code",
   "execution_count": 12,
   "metadata": {},
   "outputs": [],
   "source": [
    "# function to get values from set\n",
    "\n",
    "def get_value_from_set(input_set):\n",
    "    return [res for res in input_set]"
   ]
  },
  {
   "cell_type": "code",
   "execution_count": 13,
   "metadata": {},
   "outputs": [],
   "source": [
    "# function to convert tuple value to list\n",
    "\n",
    "def get_list_from_tuple_values(input_tuple, index):\n",
    "    return list(set(get_tuple_value_from_list(input_tuple, index)))"
   ]
  },
  {
   "cell_type": "code",
   "execution_count": 14,
   "metadata": {},
   "outputs": [],
   "source": [
    "# funtion to compute Emission Probability(word given tag): \n",
    "\n",
    "def emission_probability_word_given_tag(word, tag, training_bag = training_tagged_words):\n",
    "    tag_list = [pair for pair in training_bag if pair[1] == tag]\n",
    "    count_tag = len(tag_list)\n",
    "    w_given_tag_list = [pair[0] for pair in tag_list if pair[0] == word]\n",
    "    count_w_given_tag = len(w_given_tag_list)\n",
    "    \n",
    "    return (count_w_given_tag, count_tag)"
   ]
  },
  {
   "cell_type": "code",
   "execution_count": 15,
   "metadata": {},
   "outputs": [],
   "source": [
    "# Vanilla Viterbi Algorithm\n",
    "def vanilla_viterbi(words, training_bag = training_tagged_words):\n",
    "    state = []\n",
    "    #T = list(set([pair[1] for pair in train_bag]))\n",
    "    T = list(set(get_tuple_value_from_list(training_bag, 1)))\n",
    "        \n",
    "    for key, word in enumerate(words):\n",
    "        p = [] \n",
    "        for tag in T:\n",
    "            if key == 0:\n",
    "                transition_p = df_tags.loc['.', tag]\n",
    "            else:\n",
    "                transition_p = df_tags.loc[state[-1], tag]\n",
    "                \n",
    "            # compute emission and state probabilities\n",
    "            emission_p = emission_probability_word_given_tag(words[key], tag)[0]/emission_probability_word_given_tag(words[key], tag)[1]\n",
    "            state_probability = emission_p * transition_p    \n",
    "            p.append(state_probability)\n",
    "            \n",
    "        pmax = max(p)\n",
    "        # getting maximum probability state\n",
    "        state_max = T[p.index(pmax)] \n",
    "        state.append(state_max)\n",
    "    return list(zip(words, state))"
   ]
  },
  {
   "cell_type": "code",
   "execution_count": 16,
   "metadata": {},
   "outputs": [],
   "source": [
    "# compute Transition Probability (tag given tag: tag2(t2) given tag1 (t1))\n",
    "\n",
    "def transition_probability_t2_given_t1(t2, t1, training_bag = training_tagged_words):\n",
    "    tags = [pair[1] for pair in training_bag]\n",
    "    count_t1 = len([t for t in tags if t == t1])\n",
    "    count_t2_t1 = 0\n",
    "    for index in range(len(tags)-1):\n",
    "        if tags[index] == t1 and tags[index+1] == t2:\n",
    "            count_t2_t1 += 1\n",
    "    return (count_t2_t1, count_t1)"
   ]
  },
  {
   "cell_type": "code",
   "execution_count": 17,
   "metadata": {},
   "outputs": [],
   "source": [
    "# Modified Viterbi Heuristic for Unknown words\n",
    "def unknown_words_with_vanilla_viterbi(words, training_bag = training_tagged_words):\n",
    "    state = []\n",
    "    #T = list(set([pair[1] for pair in train_bag]))\n",
    "    T = list(set(get_tuple_value_from_list(training_bag, 1)))\n",
    "    \n",
    "    for key, word in enumerate(words):\n",
    "        p = [] \n",
    "        for tag in T:\n",
    "            if key == 0:\n",
    "                transition_p = df_tags.loc['.', tag]\n",
    "            else:\n",
    "                transition_p = df_tags.loc[state[-1], tag]\n",
    "                \n",
    "            # compute emission and state probabilities\n",
    "            emission_p = emission_probability_word_given_tag(words[key], tag)[0]/emission_probability_word_given_tag(words[key], tag)[1]\n",
    "            \n",
    "            # modification to the original vanilla viterbi algorithm \n",
    "            # to consider unknown words\n",
    "            if word not in training_vocabulary_set:\n",
    "                state_probability = transition_p\n",
    "            else:\n",
    "                state_probability = emission_p * transition_p\n",
    "                \n",
    "            p.append(state_probability)\n",
    "            \n",
    "        pmax = max(p)\n",
    "        # getting state for which probability is maximum\n",
    "        state_max = T[p.index(pmax)] \n",
    "        state.append(state_max)\n",
    "    return list(zip(words, state))"
   ]
  },
  {
   "cell_type": "code",
   "execution_count": 18,
   "metadata": {},
   "outputs": [
    {
     "name": "stdout",
     "output_type": "stream",
     "text": [
      "Top 10 tagged words: ['The', 'report', 'from', 'the', 'Fed', 'found', 'that', 'manufacturing', ',', 'in']\n"
     ]
    }
   ],
   "source": [
    "# extracting top 10 tokens from the training_tagged_words\n",
    "\n",
    "training_data_tokens = get_tuple_value_from_list(training_tagged_words, 0)\n",
    "\n",
    "print('Top 10 tagged words:', training_data_tokens[:10])"
   ]
  },
  {
   "cell_type": "code",
   "execution_count": 19,
   "metadata": {},
   "outputs": [
    {
     "name": "stdout",
     "output_type": "stream",
     "text": [
      "Top 10 POS Tags : ['DET', 'NOUN', 'ADP', 'DET', 'NOUN', 'VERB', 'ADP', 'NOUN', '.', 'ADP']\n"
     ]
    }
   ],
   "source": [
    "# extracting top 10 POS tags for the training_tagged_words\n",
    "\n",
    "training_data_pos_tags = get_tuple_value_from_list(training_tagged_words, 1)\n",
    "\n",
    "print('Top 10 POS Tags :', training_data_pos_tags[:10])"
   ]
  },
  {
   "cell_type": "code",
   "execution_count": 20,
   "metadata": {},
   "outputs": [
    {
     "name": "stdout",
     "output_type": "stream",
     "text": [
      "Top 10 Vocabulary:  ['circuit-board', 'APPEARS', 'high-stakes', 'Photography', 'fraud', 'fancy', 'psychology', 'mollified', 'Generalized', 'Rick']\n"
     ]
    }
   ],
   "source": [
    "# building the train vocabulary set from training data tokens\n",
    "\n",
    "training_vocabulary_set = convert_list_to_set(training_data_tokens)\n",
    "\n",
    "print('Top 10 Vocabulary: ', get_value_from_set(training_vocabulary_set)[:10])"
   ]
  },
  {
   "cell_type": "code",
   "execution_count": 21,
   "metadata": {},
   "outputs": [
    {
     "name": "stdout",
     "output_type": "stream",
     "text": [
      "Top 10 POS Tags:  ['ADV', 'VERB', 'NOUN', 'DET', 'PRON', 'CONJ', 'ADP', 'X', '.', 'PRT']\n"
     ]
    }
   ],
   "source": [
    "# converting train POS tags to a set\n",
    "\n",
    "training_pos_tag_set = convert_list_to_set(training_data_pos_tags)\n",
    "\n",
    "print('Top 10 POS Tags: ', get_value_from_set(training_pos_tag_set)[:10])"
   ]
  },
  {
   "cell_type": "code",
   "execution_count": 22,
   "metadata": {},
   "outputs": [
    {
     "name": "stdout",
     "output_type": "stream",
     "text": [
      "Length of Vocabulary: 12054\n",
      "Length of POS Tags: 12\n",
      "Available POS Tags: {'ADV', 'VERB', 'NOUN', 'DET', 'PRON', 'CONJ', 'ADP', 'X', '.', 'PRT', 'NUM', 'ADJ'}\n"
     ]
    }
   ],
   "source": [
    "print(\"Length of Vocabulary:\", len(training_vocabulary_set))\n",
    "print(\"Length of POS Tags:\", len(training_pos_tag_set)) \n",
    "print(\"Available POS Tags:\", training_pos_tag_set) "
   ]
  },
  {
   "cell_type": "markdown",
   "metadata": {},
   "source": [
    "<b><u><h3><font color = 'green'> POS Tagging Algorithm - HMM </h3></u></b>"
   ]
  },
  {
   "cell_type": "markdown",
   "metadata": {},
   "source": [
    "Hidden Markov Model based algorithm is used to tag the words. Given a sequence of words to be tagged, the task is to assign the most probable tag to the word.\n",
    "\n",
    "In other words, to every word w, assign the tag t that maximises the likelihood P(t/w). \n",
    "\n",
    "Since P(t/w) = P(w/t). P(t) / P(w), after ignoring P(w), we have to compute P(w/t) and P(t).\n",
    "\n",
    "P(w/t) = count(w, t) / count(t).\n",
    "\n",
    "The term P(t) is the probability of tag t, and in a tagging task, we assume that a tag will depend only on the previous tag. In other words, the probability of a tag being NN will depend only on the previous tag t(n-1). So for e.g. if t(n-1) is a JJ, then t(n) is likely to be an NN since adjectives often precede a noun.\n",
    "\n",
    "Given the penn treebank tagged dataset, we can compute the two terms P(w/t) and P(t) and store them in two large matrices. The matrix of P(w/t) will be sparse, since each word will not be seen with most tags ever, and those terms will be zero"
   ]
  },
  {
   "cell_type": "markdown",
   "metadata": {},
   "source": [
    "<b><u><h3><font color = 'green'> Emission Probabilities (i.e. probability of a word given a tag) </h3></u></b>"
   ]
  },
  {
   "cell_type": "code",
   "execution_count": 23,
   "metadata": {},
   "outputs": [],
   "source": [
    "# computing P(w/t) and storing in [Tags x Vocabulary] matrix. This is a matrix with dimension\n",
    "# of len(training_pos_tag_set) X len(training_vocabulary_set)\n",
    "\n",
    "len_pos_tags = len(training_pos_tag_set)\n",
    "len_vocabulary = len(training_vocabulary_set)\n",
    "\n",
    "word_given_tag = np.zeros((len_pos_tags, len_vocabulary))"
   ]
  },
  {
   "cell_type": "markdown",
   "metadata": {},
   "source": [
    "<b><u><h3><font color = 'green'>Transition Probabilities (i.e. probability of getting a tag t2 given that the tag for previous word was t1) </h3></u></b>"
   ]
  },
  {
   "cell_type": "code",
   "execution_count": 24,
   "metadata": {},
   "outputs": [
    {
     "data": {
      "text/plain": [
       "array([[7.96932280e-02, 3.42780918e-01, 3.16772275e-02, 6.90230057e-02,\n",
       "        1.53384460e-02, 7.00233411e-03, 1.19706571e-01, 2.26742253e-02,\n",
       "        1.36045352e-01, 1.50050018e-02, 3.20106708e-02, 1.29043013e-01],\n",
       "       [8.17057043e-02, 1.68547198e-01, 1.10263795e-01, 1.34386435e-01,\n",
       "        3.58726941e-02, 5.13578719e-03, 9.20550898e-02, 2.18115315e-01,\n",
       "        3.50945443e-02, 3.13594267e-02, 2.25663371e-02, 6.48976713e-02],\n",
       "       [1.66630279e-02, 1.46401808e-01, 2.64170855e-01, 1.30248126e-02,\n",
       "        4.69329860e-03, 4.27126549e-02, 1.76853672e-01, 2.90693436e-02,\n",
       "        2.40813509e-01, 4.39132638e-02, 9.53212567e-03, 1.21516408e-02],\n",
       "       [1.25452355e-02, 3.94451134e-02, 6.37997568e-01, 5.66948112e-03,\n",
       "        3.37756332e-03, 4.82509058e-04, 9.40892659e-03, 4.58383597e-02,\n",
       "        1.79734621e-02, 2.41254529e-04, 2.20747888e-02, 2.04945713e-01],\n",
       "       [3.39113697e-02, 4.81695563e-01, 2.13102117e-01, 9.63391177e-03,\n",
       "        7.70712923e-03, 5.39499056e-03, 2.23506745e-02, 9.32562649e-02,\n",
       "        4.00770716e-02, 1.23314066e-02, 7.70712923e-03, 7.28323683e-02],\n",
       "       [5.38783111e-02, 1.53274506e-01, 3.52531344e-01, 1.19832791e-01,\n",
       "        5.75940534e-02, 4.64468176e-04, 5.24849035e-02, 8.36042687e-03,\n",
       "        3.57640497e-02, 5.10914996e-03, 4.08731997e-02, 1.19832791e-01],\n",
       "       [1.39539838e-02, 8.62803590e-03, 3.23817641e-01, 3.23391557e-01,\n",
       "        6.98764399e-02, 8.52151657e-04, 1.67234764e-02, 3.45121436e-02,\n",
       "        3.93054970e-02, 1.38474652e-03, 6.10353649e-02, 1.06518961e-01],\n",
       "       [2.58002859e-02, 2.03854114e-01, 6.11562356e-02, 5.52635752e-02,\n",
       "        5.55820987e-02, 1.03519671e-02, 1.46360889e-01, 7.45341629e-02,\n",
       "        1.63242549e-01, 1.83468699e-01, 2.86669843e-03, 1.75187141e-02],\n",
       "       [5.23864962e-02, 8.97286683e-02, 2.22530678e-01, 1.73547059e-01,\n",
       "        6.44756854e-02, 5.78490198e-02, 9.05346125e-02, 2.65962202e-02,\n",
       "        9.34001952e-02, 2.32828874e-03, 8.18483010e-02, 4.46852334e-02],\n",
       "       [9.48022213e-03, 4.01438385e-01, 2.48120308e-01, 1.01013400e-01,\n",
       "        1.73259228e-02, 2.28832942e-03, 1.96142532e-02, 1.34030730e-02,\n",
       "        4.28244509e-02, 1.96142541e-03, 5.72082363e-02, 8.53220001e-02],\n",
       "       [2.97176815e-03, 1.78306084e-02, 3.52748871e-01, 3.26894503e-03,\n",
       "        1.48588407e-03, 1.30757801e-02, 3.44725102e-02, 2.11887076e-01,\n",
       "        1.17384844e-01, 2.76374444e-02, 1.83655277e-01, 3.35809812e-02],\n",
       "       [4.43641143e-03, 1.23233655e-02, 6.99474216e-01, 4.27210005e-03,\n",
       "        6.57246157e-04, 1.69240888e-02, 7.77193531e-02, 2.07032543e-02,\n",
       "        6.50673658e-02, 1.13374963e-02, 2.10318770e-02, 6.60532340e-02]],\n",
       "      dtype=float32)"
      ]
     },
     "execution_count": 24,
     "metadata": {},
     "output_type": "execute_result"
    }
   ],
   "source": [
    "# creating t x t transition matrix of tags\n",
    "\n",
    "tags_matrix = np.zeros((len_pos_tags, len_pos_tags), dtype='float32')\n",
    "for i, t1 in enumerate(list(training_pos_tag_set)):\n",
    "    for j, t2 in enumerate(list(training_pos_tag_set)): \n",
    "        tags_matrix[i, j] = transition_probability_t2_given_t1(t2, t1)[0]/transition_probability_t2_given_t1(t2, t1)[1]\n",
    "\n",
    "# print transition matrix\n",
    "tags_matrix"
   ]
  },
  {
   "cell_type": "code",
   "execution_count": 25,
   "metadata": {},
   "outputs": [
    {
     "data": {
      "text/html": [
       "<div>\n",
       "<style scoped>\n",
       "    .dataframe tbody tr th:only-of-type {\n",
       "        vertical-align: middle;\n",
       "    }\n",
       "\n",
       "    .dataframe tbody tr th {\n",
       "        vertical-align: top;\n",
       "    }\n",
       "\n",
       "    .dataframe thead th {\n",
       "        text-align: right;\n",
       "    }\n",
       "</style>\n",
       "<table border=\"1\" class=\"dataframe\">\n",
       "  <thead>\n",
       "    <tr style=\"text-align: right;\">\n",
       "      <th></th>\n",
       "      <th>ADV</th>\n",
       "      <th>VERB</th>\n",
       "      <th>NOUN</th>\n",
       "      <th>DET</th>\n",
       "      <th>PRON</th>\n",
       "      <th>CONJ</th>\n",
       "      <th>ADP</th>\n",
       "      <th>X</th>\n",
       "      <th>.</th>\n",
       "      <th>PRT</th>\n",
       "      <th>NUM</th>\n",
       "      <th>ADJ</th>\n",
       "    </tr>\n",
       "  </thead>\n",
       "  <tbody>\n",
       "    <tr>\n",
       "      <td>ADV</td>\n",
       "      <td>0.079693</td>\n",
       "      <td>0.342781</td>\n",
       "      <td>0.031677</td>\n",
       "      <td>0.069023</td>\n",
       "      <td>0.015338</td>\n",
       "      <td>0.007002</td>\n",
       "      <td>0.119707</td>\n",
       "      <td>0.022674</td>\n",
       "      <td>0.136045</td>\n",
       "      <td>0.015005</td>\n",
       "      <td>0.032011</td>\n",
       "      <td>0.129043</td>\n",
       "    </tr>\n",
       "    <tr>\n",
       "      <td>VERB</td>\n",
       "      <td>0.081706</td>\n",
       "      <td>0.168547</td>\n",
       "      <td>0.110264</td>\n",
       "      <td>0.134386</td>\n",
       "      <td>0.035873</td>\n",
       "      <td>0.005136</td>\n",
       "      <td>0.092055</td>\n",
       "      <td>0.218115</td>\n",
       "      <td>0.035095</td>\n",
       "      <td>0.031359</td>\n",
       "      <td>0.022566</td>\n",
       "      <td>0.064898</td>\n",
       "    </tr>\n",
       "    <tr>\n",
       "      <td>NOUN</td>\n",
       "      <td>0.016663</td>\n",
       "      <td>0.146402</td>\n",
       "      <td>0.264171</td>\n",
       "      <td>0.013025</td>\n",
       "      <td>0.004693</td>\n",
       "      <td>0.042713</td>\n",
       "      <td>0.176854</td>\n",
       "      <td>0.029069</td>\n",
       "      <td>0.240814</td>\n",
       "      <td>0.043913</td>\n",
       "      <td>0.009532</td>\n",
       "      <td>0.012152</td>\n",
       "    </tr>\n",
       "    <tr>\n",
       "      <td>DET</td>\n",
       "      <td>0.012545</td>\n",
       "      <td>0.039445</td>\n",
       "      <td>0.637998</td>\n",
       "      <td>0.005669</td>\n",
       "      <td>0.003378</td>\n",
       "      <td>0.000483</td>\n",
       "      <td>0.009409</td>\n",
       "      <td>0.045838</td>\n",
       "      <td>0.017973</td>\n",
       "      <td>0.000241</td>\n",
       "      <td>0.022075</td>\n",
       "      <td>0.204946</td>\n",
       "    </tr>\n",
       "    <tr>\n",
       "      <td>PRON</td>\n",
       "      <td>0.033911</td>\n",
       "      <td>0.481696</td>\n",
       "      <td>0.213102</td>\n",
       "      <td>0.009634</td>\n",
       "      <td>0.007707</td>\n",
       "      <td>0.005395</td>\n",
       "      <td>0.022351</td>\n",
       "      <td>0.093256</td>\n",
       "      <td>0.040077</td>\n",
       "      <td>0.012331</td>\n",
       "      <td>0.007707</td>\n",
       "      <td>0.072832</td>\n",
       "    </tr>\n",
       "    <tr>\n",
       "      <td>CONJ</td>\n",
       "      <td>0.053878</td>\n",
       "      <td>0.153275</td>\n",
       "      <td>0.352531</td>\n",
       "      <td>0.119833</td>\n",
       "      <td>0.057594</td>\n",
       "      <td>0.000464</td>\n",
       "      <td>0.052485</td>\n",
       "      <td>0.008360</td>\n",
       "      <td>0.035764</td>\n",
       "      <td>0.005109</td>\n",
       "      <td>0.040873</td>\n",
       "      <td>0.119833</td>\n",
       "    </tr>\n",
       "    <tr>\n",
       "      <td>ADP</td>\n",
       "      <td>0.013954</td>\n",
       "      <td>0.008628</td>\n",
       "      <td>0.323818</td>\n",
       "      <td>0.323392</td>\n",
       "      <td>0.069876</td>\n",
       "      <td>0.000852</td>\n",
       "      <td>0.016723</td>\n",
       "      <td>0.034512</td>\n",
       "      <td>0.039305</td>\n",
       "      <td>0.001385</td>\n",
       "      <td>0.061035</td>\n",
       "      <td>0.106519</td>\n",
       "    </tr>\n",
       "    <tr>\n",
       "      <td>X</td>\n",
       "      <td>0.025800</td>\n",
       "      <td>0.203854</td>\n",
       "      <td>0.061156</td>\n",
       "      <td>0.055264</td>\n",
       "      <td>0.055582</td>\n",
       "      <td>0.010352</td>\n",
       "      <td>0.146361</td>\n",
       "      <td>0.074534</td>\n",
       "      <td>0.163243</td>\n",
       "      <td>0.183469</td>\n",
       "      <td>0.002867</td>\n",
       "      <td>0.017519</td>\n",
       "    </tr>\n",
       "    <tr>\n",
       "      <td>.</td>\n",
       "      <td>0.052386</td>\n",
       "      <td>0.089729</td>\n",
       "      <td>0.222531</td>\n",
       "      <td>0.173547</td>\n",
       "      <td>0.064476</td>\n",
       "      <td>0.057849</td>\n",
       "      <td>0.090535</td>\n",
       "      <td>0.026596</td>\n",
       "      <td>0.093400</td>\n",
       "      <td>0.002328</td>\n",
       "      <td>0.081848</td>\n",
       "      <td>0.044685</td>\n",
       "    </tr>\n",
       "    <tr>\n",
       "      <td>PRT</td>\n",
       "      <td>0.009480</td>\n",
       "      <td>0.401438</td>\n",
       "      <td>0.248120</td>\n",
       "      <td>0.101013</td>\n",
       "      <td>0.017326</td>\n",
       "      <td>0.002288</td>\n",
       "      <td>0.019614</td>\n",
       "      <td>0.013403</td>\n",
       "      <td>0.042824</td>\n",
       "      <td>0.001961</td>\n",
       "      <td>0.057208</td>\n",
       "      <td>0.085322</td>\n",
       "    </tr>\n",
       "    <tr>\n",
       "      <td>NUM</td>\n",
       "      <td>0.002972</td>\n",
       "      <td>0.017831</td>\n",
       "      <td>0.352749</td>\n",
       "      <td>0.003269</td>\n",
       "      <td>0.001486</td>\n",
       "      <td>0.013076</td>\n",
       "      <td>0.034473</td>\n",
       "      <td>0.211887</td>\n",
       "      <td>0.117385</td>\n",
       "      <td>0.027637</td>\n",
       "      <td>0.183655</td>\n",
       "      <td>0.033581</td>\n",
       "    </tr>\n",
       "    <tr>\n",
       "      <td>ADJ</td>\n",
       "      <td>0.004436</td>\n",
       "      <td>0.012323</td>\n",
       "      <td>0.699474</td>\n",
       "      <td>0.004272</td>\n",
       "      <td>0.000657</td>\n",
       "      <td>0.016924</td>\n",
       "      <td>0.077719</td>\n",
       "      <td>0.020703</td>\n",
       "      <td>0.065067</td>\n",
       "      <td>0.011337</td>\n",
       "      <td>0.021032</td>\n",
       "      <td>0.066053</td>\n",
       "    </tr>\n",
       "  </tbody>\n",
       "</table>\n",
       "</div>"
      ],
      "text/plain": [
       "           ADV      VERB      NOUN       DET      PRON      CONJ       ADP  \\\n",
       "ADV   0.079693  0.342781  0.031677  0.069023  0.015338  0.007002  0.119707   \n",
       "VERB  0.081706  0.168547  0.110264  0.134386  0.035873  0.005136  0.092055   \n",
       "NOUN  0.016663  0.146402  0.264171  0.013025  0.004693  0.042713  0.176854   \n",
       "DET   0.012545  0.039445  0.637998  0.005669  0.003378  0.000483  0.009409   \n",
       "PRON  0.033911  0.481696  0.213102  0.009634  0.007707  0.005395  0.022351   \n",
       "CONJ  0.053878  0.153275  0.352531  0.119833  0.057594  0.000464  0.052485   \n",
       "ADP   0.013954  0.008628  0.323818  0.323392  0.069876  0.000852  0.016723   \n",
       "X     0.025800  0.203854  0.061156  0.055264  0.055582  0.010352  0.146361   \n",
       ".     0.052386  0.089729  0.222531  0.173547  0.064476  0.057849  0.090535   \n",
       "PRT   0.009480  0.401438  0.248120  0.101013  0.017326  0.002288  0.019614   \n",
       "NUM   0.002972  0.017831  0.352749  0.003269  0.001486  0.013076  0.034473   \n",
       "ADJ   0.004436  0.012323  0.699474  0.004272  0.000657  0.016924  0.077719   \n",
       "\n",
       "             X         .       PRT       NUM       ADJ  \n",
       "ADV   0.022674  0.136045  0.015005  0.032011  0.129043  \n",
       "VERB  0.218115  0.035095  0.031359  0.022566  0.064898  \n",
       "NOUN  0.029069  0.240814  0.043913  0.009532  0.012152  \n",
       "DET   0.045838  0.017973  0.000241  0.022075  0.204946  \n",
       "PRON  0.093256  0.040077  0.012331  0.007707  0.072832  \n",
       "CONJ  0.008360  0.035764  0.005109  0.040873  0.119833  \n",
       "ADP   0.034512  0.039305  0.001385  0.061035  0.106519  \n",
       "X     0.074534  0.163243  0.183469  0.002867  0.017519  \n",
       ".     0.026596  0.093400  0.002328  0.081848  0.044685  \n",
       "PRT   0.013403  0.042824  0.001961  0.057208  0.085322  \n",
       "NUM   0.211887  0.117385  0.027637  0.183655  0.033581  \n",
       "ADJ   0.020703  0.065067  0.011337  0.021032  0.066053  "
      ]
     },
     "execution_count": 25,
     "metadata": {},
     "output_type": "execute_result"
    }
   ],
   "source": [
    "# converting the matrix to a data frame\n",
    "df_tags = pd.DataFrame(tags_matrix, columns = list(training_pos_tag_set), index=list(training_pos_tag_set))\n",
    "\n",
    "# print data\n",
    "df_tags"
   ]
  },
  {
   "cell_type": "markdown",
   "metadata": {},
   "source": [
    "<b><u><h3><font color = 'green'> Exploratory Data Analysis </h3></u></b>"
   ]
  },
  {
   "cell_type": "code",
   "execution_count": 26,
   "metadata": {},
   "outputs": [
    {
     "data": {
      "image/png": "[encoded data removed]",
      "text/plain": [
       "<Figure size 1008x720 with 2 Axes>"
      ]
     },
     "metadata": {
      "needs_background": "light"
     },
     "output_type": "display_data"
    }
   ],
   "source": [
    "# heatmap of tags matrix\n",
    "plt.figure(figsize=(14, 10))\n",
    "sns.heatmap(df_tags, annot = True)\n",
    "plt.show()"
   ]
  },
  {
   "cell_type": "code",
   "execution_count": 27,
   "metadata": {},
   "outputs": [
    {
     "data": {
      "image/png": "[encoded data removed]",
      "text/plain": [
       "<Figure size 1008x576 with 2 Axes>"
      ]
     },
     "metadata": {
      "needs_background": "light"
     },
     "output_type": "display_data"
    }
   ],
   "source": [
    "# frequent tags\n",
    "\n",
    "frequent_tags = df_tags[df_tags>0.5]\n",
    "plt.figure(figsize=(14, 8))\n",
    "sns.heatmap(frequent_tags, annot = True)\n",
    "plt.show()"
   ]
  },
  {
   "cell_type": "markdown",
   "metadata": {},
   "source": [
    "<b><u><h3><font color = 'green'> Build the Vanilla Viterbi based POS tagger</h3></u></b>"
   ]
  },
  {
   "cell_type": "markdown",
   "metadata": {},
   "source": [
    "Let's now use the computed probabilities P(w, tag) and P(t2, t1) to assign tags to each word in the document. We'll run through each word w and compute P(tag/w)=P(w/tag).P(tag) for each tag in the tag set, and then assign the tag having the max P(tag/w).\n",
    "\n",
    "Note: P(tag|start) = P(tag|'.')"
   ]
  },
  {
   "cell_type": "markdown",
   "metadata": {},
   "source": [
    "<b><u><h3><font color = 'green'> Testing Vanilla Viterbi Algorithm on sampled test data </h3></u></b>"
   ]
  },
  {
   "cell_type": "code",
   "execution_count": 28,
   "metadata": {},
   "outputs": [],
   "source": [
    "# Let's test our Viterbi algorithm on a few sample sentences of test dataset\n",
    "# since running it on the entire data set will take many hours\n",
    "\n",
    "random.seed(1234)\n",
    "\n",
    "# tagged words\n",
    "tagged_words = get_nested_tuple_from_list(test_set, -1)\n",
    "\n",
    "# untagged words\n",
    "test_tagged_words = get_nested_tuple_from_list(test_set, 0)"
   ]
  },
  {
   "cell_type": "code",
   "execution_count": 29,
   "metadata": {},
   "outputs": [],
   "source": [
    "# tagging the test sentences\n",
    "start = time.time()\n",
    "test_tagged_seq = vanilla_viterbi(test_tagged_words)\n",
    "end = time.time()\n",
    "difference = end-start"
   ]
  },
  {
   "cell_type": "code",
   "execution_count": 30,
   "metadata": {},
   "outputs": [
    {
     "name": "stdout",
     "output_type": "stream",
     "text": [
      "Time taken in seconds:  1359.7656173706055\n",
      "[('Stockbrokers', 'ADV'), (\"'\", 'PRT'), ('business', 'NOUN'), ('and', 'CONJ'), ('pay', 'VERB'), ('has', 'VERB'), ('been', 'VERB'), ('falling', 'VERB'), ('.', '.'), ('After', 'ADP'), ('troubled', 'ADJ'), ('Heritage', 'NOUN'), ('Media', 'NOUN'), ('proposed', 'VERB'), ('*-1', 'X'), ('acquiring', 'VERB'), ('POP', 'NOUN'), ('Radio', 'NOUN'), ('in', 'ADP'), ('a', 'DET'), ('stock', 'NOUN'), ('swap', 'NOUN'), (',', '.'), ('POP', 'NOUN'), ('Radio', 'NOUN'), (\"'s\", 'PRT'), ('shares', 'NOUN'), ('tumbled', 'VERB'), ('4', 'NUM'), ('to', 'PRT'), ('14', 'NUM'), ('3\\\\/4', 'NUM'), ('.', '.'), ('Mrs.', 'NOUN'), ('Ward', 'NOUN'), (',', '.'), ('for', 'ADP'), ('one', 'NUM'), (',', '.'), ('was', 'VERB'), ('relieved', 'ADV'), ('.', '.'), ('``', '.'), ('*', 'X'), ('Compare', 'ADV'), ('two', 'NUM'), ('candidates', 'NOUN'), ('for', 'ADP'), ('mayor', 'NOUN'), (',', '.'), (\"''\", '.'), ('says', 'VERB'), ('*T*-1', 'X'), ('the', 'DET'), ('announcer', 'NOUN'), ('.', '.'), ('Some', 'DET'), ('takeover', 'NOUN'), ('experts', 'NOUN'), ('were', 'VERB'), ('skeptical', 'ADJ'), (',', '.'), ('*-1', 'X'), ('saying', 'VERB'), ('0', 'X'), ('it', 'PRON'), ('*EXP*-2', 'X'), ('was', 'VERB'), ('possible', 'ADJ'), ('that', 'ADP'), ('Mr.', 'NOUN'), ('Steinberg', 'NOUN'), ('made', 'VERB'), ('the', 'DET'), ('filing', 'NOUN'), ('only', 'ADV'), ('*-3', 'X'), ('to', 'PRT'), ('help', 'VERB'), ('*-4', 'X'), ('boost', 'VERB'), ('the', 'DET'), ('value', 'NOUN'), ('of', 'ADP'), ('any', 'DET'), ('remaining', 'VERB'), ('Reliance', 'NOUN'), ('stake', 'NOUN'), ('in', 'ADP'), ('UAL', 'NOUN'), ('.', '.'), ('His', 'PRON'), ('longer', 'ADV'), ('analysis', 'NOUN'), ('of', 'ADP'), ('executive', 'ADJ'), ('power', 'NOUN'), ('and', 'CONJ'), ('the', 'DET'), ('appropriations', 'NOUN'), ('clause', 'NOUN'), ('is', 'VERB'), ('*-1', 'X'), ('to', 'PRT'), ('appear', 'VERB'), ('in', 'ADP'), ('the', 'DET'), ('Duke', 'NOUN'), ('Law', 'NOUN'), ('Journal', 'NOUN'), ('later', 'ADJ'), ('this', 'DET'), ('year', 'NOUN'), ('.', '.'), ('But', 'CONJ'), ('``', '.'), ('I', 'PRON'), (\"'m\", 'VERB'), ('a', 'DET'), ('long-term', 'ADJ'), ('investor', 'NOUN'), (',', '.'), (\"''\", '.'), ('he', 'PRON'), ('says', 'VERB'), ('*T*-1', 'X'), ('.', '.'), ('Factory', 'NOUN'), ('payrolls', 'NOUN'), ('fell', 'VERB'), ('in', 'ADP'), ('September', 'NOUN'), ('.', '.'), ('About', 'ADP'), ('$', '.'), ('490', 'ADV'), ('million', 'NUM'), ('*U*', 'X'), ('of', 'ADP'), ('that', 'DET'), ('would', 'VERB'), ('be', 'VERB'), ('allocated', 'VERB'), ('*-87', 'X'), ('to', 'PRT'), ('the', 'DET'), ('buy-back', 'ADJ'), (',', '.'), ('*', 'X'), ('leaving', 'VERB'), ('about', 'ADP'), ('$', '.'), ('130', 'NUM'), ('million', 'NUM'), ('*U*', 'X'), (',', '.'), ('he', 'PRON'), ('said', 'VERB'), ('0', 'X'), ('*T*-1', 'X'), ('.', '.'), ('There', 'DET'), ('was', 'VERB'), (\"n't\", 'ADV'), ('*?*', 'X'), ('.', '.'), (\"''\", '.'), ('Despite', 'ADP'), ('the', 'DET'), ('gloomy', 'ADV'), ('forecast', 'VERB'), (',', '.'), ('South', 'NOUN'), ('Korea', 'NOUN'), ('has', 'VERB'), ('recorded', 'VERB'), ('a', 'DET'), ('trade', 'NOUN'), ('surplus', 'NOUN'), ('of', 'ADP'), ('$', '.'), ('71', 'NUM'), ('million', 'NUM'), ('*U*', 'X'), ('so', 'ADV'), ('far', 'ADV'), ('this', 'DET'), ('year', 'NOUN'), ('.', '.'), ('The', 'DET'), ('company', 'NOUN'), ('said', 'VERB'), ('0', 'X'), ('Mr.', 'NOUN'), ('Stronach', 'NOUN'), ('will', 'VERB'), ('personally', 'ADV'), ('direct', 'ADJ'), ('the', 'DET'), ('restructuring', 'NOUN'), (',', '.'), ('*-1', 'X'), ('assisted', 'ADV'), ('*-2', 'X'), ('by', 'ADP'), ('Manfred', 'ADV'), ('Gingl', 'ADV'), (',', '.'), ('president', 'NOUN'), ('and', 'CONJ'), ('chief', 'NOUN'), ('executive', 'NOUN'), ('.', '.'), ('But', 'CONJ'), ('it', 'PRON'), ('said', 'VERB'), ('that', 'ADP'), ('severance', 'ADV'), ('payments', 'NOUN'), ('to', 'PRT'), ('those', 'DET'), ('executives', 'NOUN'), ('not', 'ADV'), ('staying', 'ADV'), ('with', 'ADP'), ('the', 'DET'), ('company', 'NOUN'), ('will', 'VERB'), ('reduce', 'VERB'), ('First', 'NOUN'), ('of', 'ADP'), ('America', 'NOUN'), (\"'s\", 'PRT'), ('operating', 'VERB'), ('results', 'NOUN'), ('for', 'ADP'), ('1989', 'NUM'), ('by', 'ADP'), ('$', '.'), ('3', 'NUM'), ('million', 'NUM'), ('*U*', 'X'), ('to', 'PRT'), ('$', '.'), ('4', 'NUM'), ('million', 'NUM'), ('*U*', 'X'), (',', '.'), ('or', 'CONJ'), ('15', 'NUM'), ('cents', 'NOUN'), ('to', 'PRT'), ('20', 'NUM'), ('cents', 'NOUN'), ('a', 'DET'), ('share', 'NOUN'), ('.', '.'), ('The', 'DET'), ('scientists', 'NOUN'), ('said', 'VERB'), ('0', 'X'), ('they', 'PRON'), ('created', 'VERB'), ('small', 'ADJ'), ('changes', 'NOUN'), ('in', 'ADP'), ('the', 'DET'), ('crystal-lattice', 'NOUN'), ('structures', 'NOUN'), ('of', 'ADP'), ('the', 'DET'), ('superconductors', 'NOUN'), ('*-2', 'X'), ('to', 'PRT'), ('raise', 'VERB'), ('the', 'DET'), ('amount', 'NOUN'), ('of', 'ADP'), ('current', 'ADJ'), ('that', 'ADP'), ('single', 'ADJ'), ('crystals', 'NOUN'), ('could', 'VERB'), ('carry', 'VERB'), ('*T*-1', 'X'), ('to', 'PRT'), ('600,000', 'NUM'), ('amps', 'ADV'), ('per', 'ADP'), ('square', 'ADJ'), ('centimeter', 'ADV'), ('in', 'ADP'), ('a', 'DET'), ('moderately', 'ADV'), ('strong', 'ADJ'), ('magnetic', 'ADJ'), ('field', 'NOUN'), ('.', '.'), ('Mr.', 'NOUN'), ('Stronach', 'NOUN'), ('will', 'VERB'), ('direct', 'ADJ'), ('an', 'DET'), ('effort', 'NOUN'), ('*', 'X'), ('to', 'PRT'), ('reduce', 'VERB'), ('overhead', 'ADJ'), ('and', 'CONJ'), ('curb', 'VERB'), ('capital', 'NOUN'), ('spending', 'NOUN'), ('``', '.'), ('until', 'ADP'), ('a', 'DET'), ('more', 'ADJ'), ('satisfactory', 'ADJ'), ('level', 'NOUN'), ('of', 'ADP'), ('profit', 'NOUN'), ('is', 'VERB'), ('achieved', 'ADV'), ('and', 'CONJ'), ('maintained', 'VERB'), ('*-1', 'X'), (',', '.'), (\"''\", '.'), ('Magna', 'NOUN'), ('said', 'VERB'), ('0', 'X'), ('*T*-2', 'X'), ('.', '.'), ('From', 'ADP'), ('Italy', 'NOUN'), ('there', 'DET'), ('is', 'VERB'), ('Angelo', 'ADV'), ('Gaja', 'ADV'), ('Barbaresco', 'ADV'), ('at', 'ADP'), ('$', '.'), ('125', 'NUM'), ('*U*', 'X'), ('a', 'DET'), ('bottle', 'NOUN'), (',', '.'), ('Piero', 'ADV'), ('Antinori', 'ADV'), (\"'s\", 'PRT'), ('La', 'NOUN'), ('Solaia', 'ADV'), (',', '.'), ('a', 'DET'), ('$', '.'), ('90', 'NUM'), ('*U*', 'X'), ('Cabernet', 'NOUN'), ('from', 'ADP'), ('Tuscany', 'NOUN'), (',', '.'), ('and', 'CONJ'), ('Biondi-Santi', 'NOUN'), ('Brunello', 'NOUN'), ('at', 'ADP'), ('$', '.'), ('98', 'NUM'), ('*U*', 'X'), ('.', '.'), ('It', 'PRON'), ('*EXP*-1', 'X'), ('is', 'VERB'), (\"n't\", 'ADV'), ('clear', 'ADJ'), ('how', 'ADV'), ('much', 'ADV'), ('a', 'DET'), ('restructuring', 'NOUN'), ('would', 'VERB'), ('help', 'VERB'), ('Columbia', 'NOUN'), ('stockholders', 'NOUN'), ('*T*-2', 'X'), ('.', '.'), ('Allergan', 'NOUN'), ('Inc.', 'NOUN'), ('said', 'VERB'), ('0', 'X'), ('it', 'PRON'), ('received', 'VERB'), ('Food', 'NOUN'), ('and', 'CONJ'), ('Drug', 'NOUN'), ('Administration', 'NOUN'), ('approval', 'NOUN'), ('*', 'X'), ('to', 'PRT'), ('sell', 'VERB'), ('the', 'DET'), ('PhacoFlex', 'ADV'), ('intraocular', 'ADV'), ('lens', 'NOUN'), (',', '.'), ('the', 'DET'), ('first', 'ADJ'), ('foldable', 'ADV'), ('silicone', 'ADV'), ('lens', 'NOUN'), ('available', 'ADJ'), ('for', 'ADP'), ('cataract', 'NOUN'), ('surgery', 'NOUN'), ('.', '.'), ('And', 'CONJ'), ('some', 'DET'), ('investment', 'NOUN'), ('bankers', 'NOUN'), ('say', 'VERB'), ('0', 'X'), ('a', 'DET'), ('restructuring', 'NOUN'), ('is', 'VERB'), (\"n't\", 'ADV'), ('feasible', 'ADJ'), ('while', 'ADP'), ('the', 'DET'), ('SEC', 'NOUN'), ('still', 'ADV'), ('is', 'VERB'), ('scrutinizing', 'VERB'), ('Mr.', 'NOUN'), ('Spiegel', 'NOUN'), (\"'s\", 'PRT'), ('past', 'ADJ'), ('junk-bond', 'NOUN'), ('trades', 'NOUN'), ('.', '.'), ('Her', 'PRON'), ('alternative', 'NOUN'), ('was', 'VERB'), ('90', 'NUM'), ('days', 'NOUN'), ('in', 'ADP'), ('jail', 'NOUN'), ('.', '.'), ('The', 'DET'), ('company', 'NOUN'), ('said', 'VERB'), ('0', 'X'), ('it', 'PRON'), ('plans', 'VERB'), ('a', 'DET'), ('fourth-quarter', 'NOUN'), ('charge', 'NOUN'), (',', '.'), ('which', 'DET'), ('it', 'PRON'), ('did', 'VERB'), (\"n't\", 'ADV'), ('specify', 'VERB'), ('*T*-1', 'X'), (',', '.'), ('for', 'ADP'), ('an', 'DET'), ('early-retirement', 'ADV'), ('program', 'NOUN'), ('.', '.'), ('--', '.'), ('In', 'ADP'), ('Japan', 'NOUN'), (',', '.'), ('the', 'DET'), ('benchmark', 'NOUN'), ('No.', 'NOUN'), ('111', 'NUM'), ('4.6', 'NUM'), ('%', 'NOUN'), ('issue', 'NOUN'), ('due', 'ADJ'), ('1998', 'ADV'), ('ended', 'VERB'), ('on', 'ADP'), ('brokers', 'NOUN'), ('screens', 'NOUN'), ('unchanged', 'ADJ'), ('at', 'ADP'), ('95.09', 'ADV'), ('*-1', 'X'), ('to', 'PRT'), ('yield', 'VERB'), ('5.435', 'ADV'), ('%', 'NOUN'), ('.', '.'), ('After', 'ADP'), ('*-1', 'X'), ('trading', 'NOUN'), ('at', 'ADP'), ('an', 'DET'), ('average', 'ADJ'), ('discount', 'NOUN'), ('of', 'ADP'), ('more', 'ADJ'), ('than', 'ADP'), ('20', 'NUM'), ('%', 'NOUN'), ('in', 'ADP'), ('late', 'ADJ'), ('1987', 'NUM'), ('and', 'CONJ'), ('part', 'NOUN'), ('of', 'ADP'), ('last', 'ADJ'), ('year', 'NOUN'), (',', '.'), ('country', 'NOUN'), ('funds', 'NOUN'), ('currently', 'ADV'), ('trade', 'VERB'), ('at', 'ADP'), ('an', 'DET'), ('average', 'ADJ'), ('premium', 'NOUN'), ('of', 'ADP'), ('6', 'NUM'), ('%', 'NOUN'), ('.', '.'), ('Many', 'ADJ'), ('banks', 'NOUN'), (',', '.'), ('particularly', 'ADV'), ('smaller', 'ADJ'), ('ones', 'NOUN'), (',', '.'), ('were', 'VERB'), ('slow', 'VERB'), ('*-1', 'X'), ('to', 'PRT'), ('computerize', 'ADV'), ('and', 'CONJ'), ('could', 'VERB'), (\"n't\", 'ADV'), ('target', 'NOUN'), ('market', 'NOUN'), ('niches', 'ADV'), ('that', 'ADP'), ('*T*-199', 'ADV'), ('would', 'VERB'), ('have', 'VERB'), ('made', 'VERB'), ('the', 'DET'), ('programs', 'NOUN'), ('more', 'ADV'), ('profitable', 'ADJ'), ('.', '.'), ('Composer', 'ADV'), ('Marc', 'ADV'), ('Marder', 'ADV'), (',', '.'), ('a', 'DET'), ('college', 'NOUN'), ('friend', 'NOUN'), ('of', 'ADP'), ('Mr.', 'NOUN'), ('Lane', 'NOUN'), (\"'s\", 'PRT'), ('who', 'PRON'), ('*T*-66', 'X'), ('earns', 'VERB'), ('his', 'PRON'), ('living', 'VERB'), ('*-1', 'X'), ('playing', 'VERB'), ('the', 'DET'), ('double', 'VERB'), ('bass', 'ADV'), ('in', 'ADP'), ('classical', 'ADV'), ('music', 'NOUN'), ('ensembles', 'ADV'), (',', '.'), ('has', 'VERB'), ('prepared', 'VERB'), ('an', 'DET'), ('exciting', 'ADV'), (',', '.'), ('eclectic', 'ADV'), ('score', 'NOUN'), ('that', 'ADP'), ('*T*-67', 'X'), ('tells', 'VERB'), ('you', 'PRON'), ('what', 'PRON'), ('the', 'DET'), ('characters', 'ADV'), ('are', 'VERB'), ('thinking', 'VERB'), ('*T*-2', 'X'), ('and', 'CONJ'), ('feeling', 'VERB'), ('*T*-2', 'X'), ('far', 'ADV'), ('more', 'ADJ'), ('precisely', 'ADV'), ('than', 'ADP'), ('intertitles', 'ADV'), (',', '.'), ('or', 'CONJ'), ('even', 'ADV'), ('words', 'NOUN'), (',', '.'), ('would', 'VERB'), ('*?*', 'X'), ('.', '.'), ('*', 'X'), ('PORTING', 'ADV'), ('POTABLES', 'ADV'), ('just', 'ADV'), ('got', 'VERB'), ('easier', 'ADJ'), (',', '.'), ('or', 'CONJ'), ('so', 'ADV'), ('claims', 'VERB'), ('Scypher', 'ADV'), ('Corp.', 'NOUN'), (',', '.'), ('the', 'DET'), ('maker', 'NOUN'), ('of', 'ADP'), ('the', 'DET'), ('Cup-Tote', 'ADV'), ('.', '.'), ('The', 'DET'), ('Illinois', 'NOUN'), ('Supreme', 'NOUN'), ('Court', 'NOUN'), ('ordered', 'VERB'), ('the', 'DET'), ('commission', 'NOUN'), ('*-1', 'X'), ('to', 'PRT'), ('audit', 'NOUN'), ('Commonwealth', 'NOUN'), ('Edison', 'NOUN'), (\"'s\", 'PRT'), ('construction', 'NOUN'), ('expenses', 'NOUN'), ('and', 'CONJ'), ('refund', 'NOUN'), ('any', 'DET'), ('unreasonable', 'ADJ'), ('expenses', 'NOUN'), ('.', '.'), ('The', 'DET'), ('field', 'NOUN'), ('has', 'VERB'), ('reserves', 'NOUN'), ('of', 'ADP'), ('21', 'NUM'), ('million', 'NUM'), ('barrels', 'NOUN'), ('.', '.'), ('Commonwealth', 'NOUN'), ('Edison', 'NOUN'), ('now', 'ADV'), ('faces', 'VERB'), ('an', 'DET'), ('additional', 'ADJ'), ('court-ordered', 'ADV'), ('refund', 'VERB'), ('on', 'ADP'), ('its', 'PRON'), ('summer\\\\/winter', 'ADV'), ('rate', 'NOUN'), ('differential', 'ADV'), ('collections', 'NOUN'), ('that', 'ADP'), ('the', 'DET'), ('Illinois', 'NOUN'), ('Appellate', 'ADV'), ('Court', 'NOUN'), ('has', 'VERB'), ('estimated', 'VERB'), ('*T*-1', 'X'), ('at', 'ADP'), ('$', '.'), ('140', 'NUM'), ('million', 'NUM'), ('*U*', 'X'), ('.', '.'), ('Traders', 'NOUN'), ('said', 'VERB'), ('0', 'X'), ('prices', 'NOUN'), ('also', 'ADV'), ('were', 'VERB'), ('supported', 'VERB'), ('*-1', 'X'), ('by', 'ADP'), ('widespread', 'ADJ'), ('rumors', 'NOUN'), ('that', 'ADP'), ('the', 'DET'), ('Soviet', 'ADJ'), ('Union', 'NOUN'), ('is', 'VERB'), ('on', 'ADP'), ('the', 'DET'), ('verge', 'ADV'), ('of', 'ADP'), ('*', 'X'), ('receiving', 'VERB'), ('most', 'ADV'), ('favored', 'VERB'), ('nation', 'NOUN'), ('status', 'NOUN'), ('from', 'ADP'), ('the', 'DET'), ('U.S.', 'NOUN'), ('.', '.'), ('The', 'DET'), ('program-trading', 'ADJ'), ('issue', 'NOUN'), ('is', 'VERB'), ('heating', 'NOUN'), ('up', 'PRT'), ('on', 'ADP'), ('Capitol', 'NOUN'), ('Hill', 'NOUN'), ('as', 'ADP'), ('it', 'PRON'), ('is', 'VERB'), ('*?*', 'X'), ('on', 'ADP'), ('Wall', 'NOUN'), ('Street', 'NOUN'), (',', '.'), ('and', 'CONJ'), ('several', 'ADJ'), ('legislators', 'ADV'), ('want', 'VERB'), ('*-2', 'X'), ('to', 'PRT'), ('grant', 'VERB'), ('the', 'DET'), ('SEC', 'NOUN'), ('the', 'DET'), ('power', 'NOUN'), ('*', 'X'), ('to', 'PRT'), ('shut', 'VERB'), ('off', 'PRT'), ('the', 'DET'), ('programs', 'NOUN'), ('when', 'ADV'), ('trading', 'VERB'), ('becomes', 'VERB'), ('too', 'ADV'), ('volatile', 'ADJ'), ('*T*-3', 'X'), ('.', '.'), ('Under', 'ADP'), ('an', 'DET'), ('accord', 'NOUN'), ('signed', 'VERB'), ('*', 'X'), ('yesterday', 'NOUN'), (',', '.'), ('the', 'DET'), ('government', 'NOUN'), ('and', 'CONJ'), ('Union', 'NOUN'), ('Bank', 'NOUN'), ('of', 'ADP'), ('Finland', 'NOUN'), ('would', 'VERB'), ('become', 'VERB'), ('major', 'ADJ'), ('shareholders', 'NOUN'), ('in', 'ADP'), ('the', 'DET'), ('new', 'ADJ'), ('company', 'NOUN'), (',', '.'), ('each', 'DET'), ('injecting', 'ADV'), ('100', 'NUM'), ('million', 'NUM'), ('Finnish', 'ADJ'), ('markkaa', 'NOUN'), ('-LRB-', '.'), ('$', '.'), ('23.5', 'NUM'), ('million', 'NUM'), ('*U*', 'X'), ('-RRB-', '.'), ('.', '.'), ('He', 'PRON'), ('enters', 'VERB'), ('the', 'DET'), ('story', 'NOUN'), ('toward', 'ADP'), ('the', 'DET'), ('end', 'NOUN'), (',', '.'), ('just', 'ADV'), ('in', 'ADP'), ('time', 'NOUN'), ('0', 'X'), ('*', 'X'), ('to', 'PRT'), ('get', 'VERB'), ('*-1', 'X'), ('arrested', 'ADV'), ('*-1', 'X'), ('*T*-2', 'X'), ('.', '.'), ('He', 'PRON'), ('says', 'VERB'), ('0', 'X'), ('the', 'DET'), ('10', 'NUM'), ('citizen-sparked', 'ADV'), ('issues', 'NOUN'), ('on', 'ADP'), ('state', 'NOUN'), ('ballots', 'ADV'), ('this', 'DET'), ('fall', 'NOUN'), ('represent', 'VERB'), ('the', 'DET'), ('most', 'ADJ'), ('in', 'ADP'), ('any', 'DET'), ('odd-year', 'ADV'), ('this', 'DET'), ('decade', 'NOUN'), ('.', '.'), ('Mr.', 'NOUN'), ('van', 'NOUN'), ('Dover', 'NOUN'), ('added', 'VERB'), ('that', 'ADP'), ('researchers', 'NOUN'), ('are', 'VERB'), ('trying', 'VERB'), ('*-2', 'X'), ('to', 'PRT'), ('determine', 'VERB'), ('precisely', 'ADV'), ('what', 'PRON'), ('crystal', 'NOUN'), ('changes', 'NOUN'), ('*T*-1', 'X'), ('solved', 'VERB'), ('the', 'DET'), ('problem', 'NOUN'), ('.', '.'), ('``', '.'), ('You', 'PRON'), (\"'ve\", 'VERB'), ('got', 'VERB'), ('*-2', 'X'), ('to', 'PRT'), ('make', 'VERB'), ('the', 'DET'), ('restructuring', 'NOUN'), ('work', 'NOUN'), (',', '.'), (\"''\", '.'), ('said', 'VERB'), ('*T*-1', 'X'), ('Mr.', 'NOUN'), ('Baum', 'NOUN'), ('.', '.'), ('Mr.', 'NOUN'), ('Simmons', 'NOUN'), ('and', 'CONJ'), ('NL', 'NOUN'), ('already', 'ADV'), ('own', 'ADJ'), ('a', 'DET'), ('9.9', 'NUM'), ('%', 'NOUN'), ('stake', 'NOUN'), ('in', 'ADP'), ('Georgia', 'NOUN'), ('Gulf', 'NOUN'), ('.', '.'), ('Tokyo', 'NOUN'), ('stocks', 'NOUN'), ('edged', 'VERB'), ('up', 'ADV'), ('Wednesday', 'NOUN'), ('in', 'ADP'), ('relatively', 'ADV'), ('active', 'ADJ'), ('but', 'CONJ'), ('unfocused', 'ADJ'), ('trading', 'NOUN'), ('.', '.'), ('Bank', 'NOUN'), ('of', 'ADP'), ('New', 'NOUN'), ('England', 'NOUN'), (\"'s\", 'PRT'), ('shares', 'NOUN'), ('are', 'VERB'), ('traded', 'VERB'), ('*-1', 'X'), ('on', 'ADP'), ('the', 'DET'), ('New', 'NOUN'), ('York', 'NOUN'), ('Stock', 'NOUN'), ('Exchange', 'NOUN'), ('.', '.'), ('Vicar', 'NOUN'), ('Marshall', 'NOUN'), ('admits', 'VERB'), ('to', 'PRT'), ('mixed', 'VERB'), ('feelings', 'ADV'), ('about', 'ADP'), ('this', 'DET'), ('issue', 'NOUN'), (',', '.'), ('since', 'ADP'), ('he', 'PRON'), ('is', 'VERB'), ('both', 'DET'), ('a', 'DET'), ('vicar', 'NOUN'), ('and', 'CONJ'), ('an', 'DET'), ('active', 'ADJ'), ('bell-ringer', 'ADV'), ('himself', 'PRON'), ('.', '.'), ('Only', 'ADV'), ('19', 'NUM'), ('%', 'NOUN'), ('of', 'ADP'), ('the', 'DET'), ('purchasing', 'NOUN'), ('managers', 'NOUN'), ('reported', 'VERB'), ('better', 'ADV'), ('export', 'VERB'), ('orders', 'NOUN'), ('in', 'ADP'), ('October', 'NOUN'), (',', '.'), ('down', 'ADV'), ('from', 'ADP'), ('27', 'NUM'), ('%', 'NOUN'), ('in', 'ADP'), ('September', 'NOUN'), ('.', '.'), ('Kalipharma', 'ADV'), ('is', 'VERB'), ('a', 'DET'), ('New', 'NOUN'), ('Jersey-based', 'ADV'), ('pharmaceuticals', 'NOUN'), ('concern', 'NOUN'), ('that', 'ADP'), ('*T*-34', 'X'), ('sells', 'VERB'), ('products', 'NOUN'), ('under', 'ADP'), ('the', 'DET'), ('Purepac', 'ADV'), ('label', 'ADV'), ('.', '.'), ('One', 'NUM'), ('clear', 'ADJ'), ('sign', 'NOUN'), ('of', 'ADP'), ('Japan', 'NOUN'), (\"'s\", 'PRT'), ('nervousness', 'ADV'), ('came', 'VERB'), ('this', 'DET'), ('week', 'NOUN'), (',', '.'), ('when', 'ADV'), ('a', 'DET'), ('spokesman', 'NOUN'), ('for', 'ADP'), ('Japan', 'NOUN'), (\"'s\", 'PRT'), ('Foreign', 'NOUN'), ('Ministry', 'NOUN'), ('devoted', 'ADV'), ('nearly', 'ADV'), ('all', 'DET'), ('of', 'ADP'), ('a', 'DET'), ('regular', 'ADJ'), (',', '.'), ('half-hour', 'NOUN'), ('briefing', 'ADV'), ('for', 'ADP'), ('foreign', 'ADJ'), ('journalists', 'ADV'), ('to', 'PRT'), ('the', 'DET'), ('subject', 'ADJ'), ('of', 'ADP'), ('recent', 'ADJ'), ('Japanese', 'ADJ'), ('investments', 'NOUN'), ('in', 'ADP'), ('the', 'DET'), ('U.S.', 'NOUN'), ('*T*-1', 'X'), ('.', '.'), ('But', 'CONJ'), ('a', 'DET'), ('Soviet', 'ADJ'), ('bank', 'NOUN'), ('here', 'ADV'), ('would', 'VERB'), ('be', 'VERB'), ('crippled', 'VERB'), ('*-51', 'X'), ('unless', 'ADP'), ('Moscow', 'NOUN'), ('found', 'VERB'), ('a', 'DET'), ('way', 'NOUN'), ('0', 'X'), ('*', 'X'), ('to', 'PRT'), ('settle', 'VERB'), ('the', 'DET'), ('$', '.'), ('188', 'NUM'), ('million', 'NUM'), ('*U*', 'X'), ('debt', 'NOUN'), (',', '.'), ('which', 'DET'), ('*T*-1', 'X'), ('was', 'VERB'), ('lent', 'VERB'), ('*-52', 'X'), ('to', 'PRT'), ('the', 'DET'), ('country', 'NOUN'), (\"'s\", 'PRT'), ('short-lived', 'ADV'), ('democratic', 'ADJ'), ('Kerensky', 'ADV'), ('government', 'NOUN'), ('before', 'ADP'), ('the', 'DET'), ('Communists', 'ADV'), ('seized', 'ADV'), ('power', 'NOUN'), ('in', 'ADP'), ('1917', 'ADV'), ('*T*-2', 'X'), ('.', '.'), ('5', 'NUM'), ('.', '.'), ('*', 'X'), ('Make', 'ADV'), ('a', 'DET'), ('lasting', 'ADV'), ('difference', 'NOUN'), ('in', 'ADP'), ('the', 'DET'), ('regulatory', 'ADJ'), ('life', 'NOUN'), ('of', 'ADP'), ('an', 'DET'), ('American', 'ADJ'), ('savings-and-loan', 'ADJ'), ('association', 'NOUN'), ('through', 'ADP'), ('the', 'DET'), ('Foster', 'NOUN'), ('Corporate', 'NOUN'), ('Parents', 'ADV'), ('Plan', 'NOUN'), ('.', '.'), ('Back', 'ADV'), ('downtown', 'NOUN'), (',', '.'), ('the', 'DET'), ('execs', 'ADV'), ('squeezed', 'VERB'), ('in', 'ADP'), ('a', 'DET'), ('few', 'ADJ'), ('meetings', 'NOUN'), ('at', 'ADP'), ('the', 'DET'), ('hotel', 'NOUN'), ('before', 'ADP'), ('*-1', 'X'), ('boarding', 'ADV'), ('the', 'DET'), ('buses', 'NOUN'), ('again', 'ADV'), ('.', '.'), ('Unfortunately', 'ADV'), (',', '.'), ('Japanese', 'ADJ'), ('manufacturers', 'NOUN'), ('have', 'VERB'), ('neither', 'DET'), ('good', 'ADJ'), ('working', 'NOUN'), ('conditions', 'NOUN'), ('nor', 'CONJ'), ('good', 'ADJ'), ('compensation', 'NOUN'), ('packages', 'NOUN'), ('.', '.'), ('Consolidated', 'NOUN'), ('Rail', 'ADV'), ('Corp.', 'NOUN'), ('said', 'VERB'), ('0', 'X'), ('it', 'PRON'), ('would', 'VERB'), ('spend', 'VERB'), ('more', 'ADV'), ('than', 'ADP'), ('$', '.'), ('30', 'NUM'), ('million', 'NUM'), ('*U*', 'X'), ('on', 'ADP'), ('1,000', 'NUM'), ('enclosed', 'ADV'), ('railcars', 'NOUN'), ('for', 'ADP'), ('*', 'X'), ('transporting', 'ADV'), ('autos', 'ADV'), ('.', '.'), ('Atsushi', 'ADV'), ('Muramatsu', 'ADV'), (',', '.'), ('executive', 'NOUN'), ('vice', 'NOUN'), ('president', 'NOUN'), ('and', 'CONJ'), ('chief', 'NOUN'), ('financial', 'ADJ'), ('officer', 'NOUN'), ('of', 'ADP'), ('Nissan', 'NOUN'), (',', '.'), ('said', 'VERB'), (',', '.'), ('``', '.'), ('The', 'DET'), ('company', 'NOUN'), ('has', 'VERB'), ('experienced', 'ADV'), ('a', 'DET'), ('remarkable', 'ADV'), ('turnaround', 'NOUN'), ('in', 'ADP'), ('terms', 'NOUN'), ('of', 'ADP'), ('profitability', 'NOUN'), ('since', 'ADP'), ('the', 'DET'), ('fiscal', 'ADJ'), ('year', 'NOUN'), ('ending', 'VERB'), ('March', 'NOUN'), ('1987', 'NUM'), (',', '.'), ('when', 'ADV'), ('the', 'DET'), ('sharp', 'ADJ'), ('and', 'CONJ'), ('rapid', 'ADJ'), ('appreciation', 'NOUN'), ('of', 'ADP'), ('the', 'DET'), ('yen', 'NOUN'), ('caused', 'VERB'), ('many', 'ADJ'), ('difficulties', 'ADV'), ('*T*-1', 'X'), ('.', '.'), ('Investors', 'NOUN'), ('unsettled', 'ADV'), ('*', 'X'), ('by', 'ADP'), ('the', 'DET'), ('stock', 'NOUN'), ('market', 'NOUN'), (\"'s\", 'PRT'), ('gyrations', 'NOUN'), ('can', 'VERB'), ('take', 'VERB'), ('some', 'DET'), ('comfort', 'ADV'), ('in', 'ADP'), ('the', 'DET'), ('predictable', 'ADV'), ('arrival', 'ADV'), ('of', 'ADP'), ('quarterly', 'ADJ'), ('dividend', 'NOUN'), ('checks', 'NOUN'), ('.', '.'), ('The', 'DET'), ('program', 'NOUN'), ('not', 'ADV'), ('only', 'ADV'), ('offers', 'VERB'), ('a', 'DET'), ('pre-approved', 'ADV'), ('car', 'NOUN'), ('loan', 'NOUN'), ('up', 'PRT'), ('to', 'PRT'), ('$', '.'), ('18,000', 'ADV'), ('*U*', 'X'), (',', '.'), ('but', 'CONJ'), ('throws', 'VERB'), ('in', 'ADP'), ('a', 'DET'), ('special', 'ADJ'), ('cash-flow', 'ADJ'), ('statement', 'NOUN'), ('0', 'X'), ('*T*-1', 'X'), ('to', 'PRT'), ('help', 'VERB'), ('in', 'ADP'), ('*', 'X'), ('saving', 'ADV'), ('money', 'NOUN'), ('.', '.'), ('Robert', 'NOUN'), ('L.', 'NOUN'), ('Bernstein', 'NOUN'), (',', '.'), ('chairman', 'NOUN'), ('and', 'CONJ'), ('president', 'NOUN'), ('of', 'ADP'), ('Random', 'NOUN'), ('House', 'NOUN'), ('Inc.', 'NOUN'), (',', '.'), ('announced', 'VERB'), ('his', 'PRON'), ('resignation', 'NOUN'), ('from', 'ADP'), ('the', 'DET'), ('publishing', 'NOUN'), ('house', 'NOUN'), ('0', 'X'), ('he', 'PRON'), ('has', 'VERB'), ('run', 'VERB'), ('*T*-1', 'X'), ('for', 'ADP'), ('23', 'NUM'), ('years', 'NOUN'), ('.', '.'), ('Democratic', 'ADJ'), ('Lt.', 'ADV'), ('Gov.', 'NOUN'), ('Douglas', 'NOUN'), ('Wilder', 'NOUN'), ('opened', 'VERB'), ('his', 'PRON'), ('gubernatorial', 'ADV'), ('battle', 'VERB'), ('with', 'ADP'), ('Republican', 'ADJ'), ('Marshall', 'NOUN'), ('Coleman', 'NOUN'), ('with', 'ADP'), ('an', 'DET'), ('abortion', 'NOUN'), ('commercial', 'NOUN'), ('produced', 'VERB'), ('*', 'X'), ('by', 'ADP'), ('Frank', 'NOUN'), ('Greer', 'ADV'), ('that', 'ADP'), ('analysts', 'NOUN'), ('of', 'ADP'), ('every', 'DET'), ('political', 'ADJ'), ('persuasion', 'ADV'), ('agree', 'VERB'), ('0', 'X'), ('*T*-1', 'X'), ('was', 'VERB'), ('a', 'DET'), ('tour', 'ADV'), ('de', 'ADP'), ('force', 'NOUN'), ('.', '.'), ('A', 'DET'), ('spokeswoman', 'NOUN'), ('for', 'ADP'), ('Crum', 'NOUN'), ('&', 'CONJ'), ('Forster', 'NOUN'), ('said', 'VERB'), ('0', 'X'), ('employees', 'NOUN'), ('were', 'VERB'), ('told', 'VERB'), ('*-1', 'X'), ('early', 'ADV'), ('this', 'DET'), ('week', 'NOUN'), ('that', 'ADP'), ('numerous', 'ADJ'), ('staff', 'NOUN'), ('functions', 'NOUN'), ('for', 'ADP'), ('the', 'DET'), ('personal', 'ADJ'), ('insurance', 'NOUN'), ('lines', 'NOUN'), ('were', 'VERB'), ('going', 'VERB'), ('*-3', 'X'), ('to', 'PRT'), ('be', 'VERB'), ('centralized', 'ADV'), ('*-2', 'X'), ('as', 'ADP'), ('a', 'DET'), ('cost-cutting', 'ADJ'), ('move', 'NOUN'), ('.', '.'), ('Second', 'NOUN'), (',', '.'), ('it', 'PRON'), ('can', 'VERB'), ('be', 'VERB'), ('used', 'VERB'), ('*-1', 'X'), ('*', 'X'), ('to', 'PRT'), ('unwind', 'ADV'), ('positions', 'NOUN'), ('before', 'ADP'), ('U.S.', 'NOUN'), ('trading', 'NOUN'), ('begins', 'VERB'), (',', '.'), ('but', 'CONJ'), ('at', 'ADP'), ('prices', 'NOUN'), ('pegged', 'VERB'), ('*', 'X'), ('to', 'PRT'), ('the', 'DET'), ('previous', 'ADJ'), ('session', 'NOUN'), (\"'s\", 'PRT'), ('Big', 'NOUN'), ('Board', 'NOUN'), ('close', 'VERB'), ('.', '.'), ('*', 'X'), ('Beginning', 'ADV'), ('in', 'ADP'), ('1980', 'ADV'), (',', '.'), ('courts', 'NOUN'), ('in', 'ADP'), ('several', 'ADJ'), ('states', 'NOUN'), ('including', 'VERB'), ('California', 'NOUN'), ('and', 'CONJ'), ('New', 'NOUN'), ('York', 'NOUN'), ('decided', 'VERB'), ('*-2', 'X'), ('to', 'PRT'), ('suspend', 'VERB'), ('the', 'DET'), ('common-law', 'ADV'), ('rule', 'VERB'), ('that', 'ADP'), ('plaintiffs', 'NOUN'), ('must', 'VERB'), ('prove', 'VERB'), ('that', 'ADP'), ('the', 'DET'), ('defendants', 'NOUN'), ('are', 'VERB'), ('the', 'DET'), ('ones', 'NOUN'), ('who', 'PRON'), ('*T*-1', 'X'), ('are', 'VERB'), ('liable', 'ADJ'), ('.', '.'), ('Like', 'ADP'), ('healthy', 'ADJ'), ('regulatory', 'ADJ'), ('capital', 'NOUN'), ('.', '.'), ('He', 'PRON'), ('said', 'VERB'), ('0', 'X'), ('USX', 'NOUN'), ('also', 'ADV'), ('appeared', 'VERB'), ('*-1', 'X'), ('to', 'PRT'), ('sell', 'VERB'), ('a', 'DET'), ('richer', 'ADV'), ('mix', 'NOUN'), ('of', 'ADP'), ('steel', 'NOUN'), ('products', 'NOUN'), (',', '.'), ('such', 'ADJ'), ('as', 'ADP'), ('the', 'DET'), ('more', 'ADJ'), ('profitable', 'ADJ'), ('pipe', 'ADV'), ('and', 'CONJ'), ('galvanized', 'ADV'), ('coated', 'ADV'), ('sheet', 'NOUN'), (',', '.'), ('than', 'ADP'), ('lower-priced', 'ADV'), ('structural', 'ADV'), ('goods', 'NOUN'), ('.', '.'), ('Many', 'ADJ'), ('are', 'VERB'), ('far', 'ADV'), ('enough', 'ADV'), ('from', 'ADP'), ('residential', 'ADJ'), ('areas', 'NOUN'), ('*', 'X'), ('to', 'PRT'), ('pass', 'VERB'), ('public', 'ADJ'), ('muster', 'ADV'), (',', '.'), ('yet', 'ADV'), ('close', 'VERB'), ('enough', 'ADV'), ('*', 'X'), ('to', 'PRT'), ('permit', 'VERB'), ('family', 'NOUN'), ('visits', 'ADV'), ('.', '.'), ('According', 'VERB'), ('to', 'PRT'), ('Audit', 'ADV'), ('Bureau', 'NOUN'), ('of', 'ADP'), ('Circulations', 'ADV'), (',', '.'), ('Time', 'NOUN'), (',', '.'), ('the', 'DET'), ('largest', 'ADJ'), ('newsweekly', 'ADV'), (',', '.'), ('had', 'VERB'), ('average', 'ADJ'), ('circulation', 'NOUN'), ('of', 'ADP'), ('4,393,237', 'ADV'), (',', '.'), ('a', 'DET'), ('decrease', 'VERB'), ('of', 'ADP'), ('7.3', 'NUM'), ('%', 'NOUN'), ('.', '.'), ('He', 'PRON'), ('added', 'VERB'), (',', '.'), ('``', '.'), ('This', 'DET'), ('has', 'VERB'), ('nothing', 'NOUN'), ('0', 'X'), ('*', 'X'), ('to', 'PRT'), ('do', 'VERB'), ('*T*-1', 'X'), ('with', 'ADP'), ('Marty', 'ADV'), ('Ackerman', 'NOUN'), ('and', 'CONJ'), ('it', 'PRON'), ('is', 'VERB'), ('not', 'ADV'), ('designed', 'VERB'), (',', '.'), ('particularly', 'ADV'), (',', '.'), ('*-2', 'X'), ('to', 'PRT'), ('take', 'VERB'), ('the', 'DET'), ('company', 'NOUN'), ('private', 'ADJ'), ('.', '.'), (\"''\", '.'), ('Plans', 'NOUN'), ('that', 'ADP'), ('*T*-13', 'X'), ('give', 'VERB'), ('advertisers', 'NOUN'), ('discounts', 'ADV'), ('for', 'ADP'), ('*', 'X'), ('maintaining', 'VERB'), ('or', 'CONJ'), ('increasing', 'VERB'), ('ad', 'NOUN'), ('spending', 'NOUN'), ('have', 'VERB'), ('become', 'VERB'), ('permanent', 'ADJ'), ('fixtures', 'ADV'), ('at', 'ADP'), ('the', 'DET'), ('news', 'NOUN'), ('weeklies', 'NOUN'), ('and', 'CONJ'), ('underscore', 'ADV'), ('the', 'DET'), ('fierce', 'ADJ'), ('competition', 'NOUN'), ('between', 'ADP'), ('Newsweek', 'NOUN'), (',', '.'), ('Time', 'NOUN'), ('Warner', 'NOUN'), ('Inc.', 'NOUN'), (\"'s\", 'PRT'), ('Time', 'NOUN'), ('magazine', 'NOUN'), (',', '.'), ('and', 'CONJ'), ('Mortimer', 'ADV'), ('B.', 'NOUN'), ('Zuckerman', 'ADV'), (\"'s\", 'PRT'), ('U.S.', 'NOUN'), ('News', 'NOUN'), ('&', 'CONJ'), ('World', 'NOUN'), ('Report', 'NOUN'), ('.', '.'), ('In', 'ADP'), ('the', 'DET'), ('year-ago', 'ADJ'), ('quarter', 'NOUN'), (',', '.'), ('the', 'DET'), ('company', 'NOUN'), ('reported', 'VERB'), ('net', 'ADJ'), ('income', 'NOUN'), ('of', 'ADP'), ('$', '.'), ('1.9', 'ADV'), ('million', 'NUM'), ('*U*', 'X'), (',', '.'), ('or', 'CONJ'), ('29', 'NUM'), ('cents', 'NOUN'), ('a', 'DET'), ('share', 'NOUN'), ('.', '.'), ('3', 'NUM'), ('.', '.'), ('*', 'X'), ('Send', 'ADV'), ('your', 'PRON'), ('child', 'NOUN'), ('to', 'PRT'), ('a', 'DET'), ('university', 'NOUN'), ('.', '.'), ('In', 'ADP'), ('1979', 'NUM'), (',', '.'), ('Hearst', 'NOUN'), ('hired', 'VERB'), ('editor', 'NOUN'), ('James', 'NOUN'), ('Bellows', 'ADV'), (',', '.'), ('who', 'PRON'), ('*T*-48', 'X'), ('brightened', 'ADV'), ('the', 'DET'), ('editorial', 'NOUN'), ('product', 'NOUN'), ('considerably', 'ADV'), ('.', '.'), ('The', 'DET'), ('discussions', 'NOUN'), ('were', 'VERB'), ('disclosed', 'VERB'), ('*-93', 'ADV'), ('as', 'ADP'), ('the', 'DET'), ('bank', 'NOUN'), ('holding', 'VERB'), ('company', 'NOUN'), ('said', 'VERB'), ('that', 'ADP'), ('it', 'PRON'), ('has', 'VERB'), ('dropped', 'VERB'), ('its', 'PRON'), ('longstanding', 'ADV'), ('opposition', 'NOUN'), ('to', 'PRT'), ('full', 'ADJ'), ('interstate', 'ADJ'), ('banking', 'NOUN'), ('bills', 'NOUN'), ('in', 'ADP'), ('Connecticut', 'NOUN'), ('and', 'CONJ'), ('in', 'ADP'), ('Massachusetts', 'NOUN'), ('.', '.'), ('``', '.'), ('Markey', 'NOUN'), ('said', 'VERB'), ('0', 'X'), ('we', 'PRON'), ('could', 'VERB'), ('have', 'VERB'), ('done', 'VERB'), ('this', 'DET'), ('in', 'ADP'), ('public', 'ADJ'), (\"''\", '.'), ('because', 'ADP'), ('so', 'ADV'), ('little', 'ADJ'), ('sensitive', 'ADV'), ('information', 'NOUN'), ('was', 'VERB'), ('disclosed', 'VERB'), ('*-132', 'ADV'), (',', '.'), ('the', 'DET'), ('aide', 'NOUN'), ('said', 'VERB'), ('0', 'X'), ('*T*-1', 'X'), ('.', '.'), ('The', 'DET'), ('Army', 'NOUN'), ('Corps', 'NOUN'), ('is', 'VERB'), ('cutting', 'VERB'), ('the', 'DET'), ('flow', 'NOUN'), ('of', 'ADP'), ('the', 'DET'), ('Missouri', 'NOUN'), ('River', 'NOUN'), ('about', 'ADP'), ('two', 'NUM'), ('weeks', 'NOUN'), ('earlier', 'ADV'), ('than', 'ADP'), ('normal', 'ADJ'), ('because', 'ADP'), ('of', 'ADP'), ('low', 'ADJ'), ('water', 'NOUN'), ('levels', 'NOUN'), ('in', 'ADP'), ('the', 'DET'), ('reservoirs', 'ADV'), ('that', 'ADP'), ('*T*-1', 'X'), ('feed', 'VERB'), ('it', 'PRON'), ('.', '.'), ('``', '.'), ('These', 'DET'), ('days', 'NOUN'), (',', '.'), ('banking', 'NOUN'), ('customers', 'NOUN'), ('walk', 'VERB'), ('in', 'ADP'), ('the', 'DET'), ('door', 'NOUN'), ('*-1', 'X'), ('expecting', 'VERB'), ('you', 'PRON'), ('to', 'PRT'), ('have', 'VERB'), ('a', 'DET'), ('package', 'NOUN'), ('especially', 'ADV'), ('for', 'ADP'), ('them', 'PRON'), (',', '.'), (\"''\", '.'), ('Ms.', 'NOUN'), ('Moore', 'NOUN'), ('says', 'VERB'), ('*T*-2', 'X'), ('.', '.'), ('Nissan', 'NOUN'), ('Motor', 'NOUN'), ('Co.', 'NOUN'), (',', '.'), ('Japan', 'NOUN'), (\"'s\", 'PRT'), ('second-largest', 'ADJ'), ('car', 'NOUN'), ('maker', 'NOUN'), (',', '.'), ('announced', 'VERB'), ('Wednesday', 'NOUN'), ('that', 'ADP'), ('the', 'DET'), ('parent', 'NOUN'), ('concern', 'NOUN'), (\"'s\", 'PRT'), ('pretax', 'NOUN'), ('earnings', 'NOUN'), ('in', 'ADP'), ('the', 'DET'), ('first', 'ADJ'), ('half', 'NOUN'), ('ended', 'VERB'), ('last', 'ADJ'), ('Sept.', 'NOUN'), ('30', 'NUM'), ('rose', 'VERB'), ('14', 'NUM'), ('%', 'NOUN'), ('to', 'PRT'), ('88.32', 'ADV'), ('billion', 'NUM'), ('yen', 'NOUN'), ('-LRB-', '.'), ('$', '.'), ('618.1', 'ADV'), ('million', 'NUM'), ('*U*', 'X'), ('-RRB-', '.'), ('from', 'ADP'), ('77.6', 'ADV'), ('billion', 'NUM'), ('yen', 'NOUN'), ('a', 'DET'), ('year', 'NOUN'), ('earlier', 'ADV'), ('.', '.'), ('``', '.'), ('There', 'DET'), ('are', 'VERB'), ('certain', 'ADJ'), ('cult', 'ADV'), ('wines', 'NOUN'), ('that', 'ADP'), ('*T*-163', 'ADV'), ('can', 'VERB'), ('command', 'NOUN'), ('these', 'DET'), ('higher', 'ADJ'), ('prices', 'NOUN'), (',', '.'), (\"''\", '.'), ('says', 'VERB'), ('*T*-1', 'X'), ('Larry', 'NOUN'), ('Shapiro', 'NOUN'), ('of', 'ADP'), ('Marty', 'ADV'), (\"'s\", 'PRT'), (',', '.'), ('one', 'NUM'), ('of', 'ADP'), ('the', 'DET'), ('largest', 'ADJ'), ('wine', 'NOUN'), ('shops', 'NOUN'), ('in', 'ADP'), ('Dallas', 'NOUN'), ('.', '.'), ('Gerard', 'NOUN'), ('Scannell', 'NOUN'), (',', '.'), ('the', 'DET'), ('head', 'NOUN'), ('of', 'ADP'), ('OSHA', 'NOUN'), (',', '.'), ('said', 'VERB'), ('0', 'X'), ('USX', 'NOUN'), ('managers', 'NOUN'), ('have', 'VERB'), ('known', 'VERB'), ('about', 'ADP'), ('many', 'ADJ'), ('of', 'ADP'), ('the', 'DET'), ('safety', 'NOUN'), ('and', 'CONJ'), ('health', 'NOUN'), ('deficiencies', 'NOUN'), ('at', 'ADP'), ('the', 'DET'), ('plants', 'NOUN'), ('for', 'ADP'), ('years', 'NOUN'), (',', '.'), ('``', '.'), ('yet', 'ADV'), ('have', 'VERB'), ('failed', 'VERB'), ('*-1', 'X'), ('to', 'PRT'), ('take', 'VERB'), ('necessary', 'ADJ'), ('action', 'NOUN'), ('*', 'X'), ('to', 'PRT'), ('counteract', 'ADV'), ('the', 'DET'), ('hazards', 'NOUN'), ('.', '.'), (\"''\", '.'), ('There', 'DET'), ('were', 'VERB'), ('many', 'ADJ'), ('pioneer', 'ADV'), ('PC', 'NOUN'), ('contributors', 'ADV'), ('.', '.'), ('In', 'ADP'), ('addition', 'NOUN'), (',', '.'), ('the', 'DET'), ('company', 'NOUN'), ('has', 'VERB'), ('replaced', 'VERB'), ('its', 'PRON'), ('president', 'NOUN'), ('and', 'CONJ'), ('chief', 'NOUN'), ('executive', 'NOUN'), (',', '.'), ('*-1', 'X'), ('naming', 'VERB'), ('W.', 'NOUN'), ('James', 'NOUN'), ('Nichol', 'NOUN'), (',', '.'), ('head', 'NOUN'), ('of', 'ADP'), ('the', 'DET'), ('company', 'NOUN'), (\"'s\", 'PRT'), ('contract', 'NOUN'), ('health', 'NOUN'), ('services', 'NOUN'), (',', '.'), ('to', 'PRT'), ('succeed', 'VERB'), ('B.', 'NOUN'), ('Lee', 'NOUN'), ('Karns', 'NOUN'), ('.', '.'), ('Dealers', 'NOUN'), ('said', 'VERB'), ('0', 'X'), ('the', 'DET'), ('market', 'NOUN'), ('agreed', 'VERB'), ('.', '.'), ('Rockwell', 'NOUN'), ('International', 'NOUN'), ('Corp.', 'NOUN'), ('reported', 'VERB'), ('flat', 'ADJ'), ('operating', 'NOUN'), ('earnings', 'NOUN'), ('for', 'ADP'), ('the', 'DET'), ('fourth', 'ADJ'), ('quarter', 'NOUN'), ('ended', 'VERB'), ('Sept.', 'NOUN'), ('30', 'NUM'), ('.', '.'), ('Though', 'ADV'), ('some', 'DET'), ('lawyers', 'NOUN'), ('reported', 'VERB'), ('that', 'ADP'), ('prospective', 'ADJ'), ('acquirers', 'ADV'), ('were', 'VERB'), ('scrambling', 'VERB'), ('*-1', 'X'), ('to', 'PRT'), ('make', 'VERB'), ('filings', 'NOUN'), ('before', 'ADP'), ('the', 'DET'), ('fees', 'NOUN'), ('take', 'VERB'), ('effect', 'NOUN'), (',', '.'), ('government', 'NOUN'), ('officials', 'NOUN'), ('said', 'VERB'), ('0', 'X'), ('they', 'PRON'), ('had', 'VERB'), (\"n't\", 'ADV'), ('noticed', 'ADV'), ('any', 'DET'), ('surge', 'NOUN'), ('in', 'ADP'), ('filings', 'NOUN'), ('.', '.'), ('The', 'DET'), ('discussions', 'NOUN'), ('are', 'VERB'), ('still', 'ADV'), ('in', 'ADP'), ('preliminary', 'ADJ'), ('stages', 'NOUN'), (',', '.'), ('and', 'CONJ'), ('the', 'DET'), ('specific', 'ADJ'), ('details', 'NOUN'), ('have', 'VERB'), (\"n't\", 'ADV'), ('been', 'VERB'), ('worked', 'VERB'), ('*-2', 'X'), ('out', 'PRT'), ('between', 'ADP'), ('the', 'DET'), ('Seattle', 'ADV'), ('aerospace', 'NOUN'), ('company', 'NOUN'), ('and', 'CONJ'), ('Kawasaki', 'ADV'), ('Heavy', 'ADV'), ('Industries', 'NOUN'), ('Ltd.', 'NOUN'), (',', '.'), ('Mitsubishi', 'NOUN'), ('Heavy', 'ADV'), ('Industries', 'NOUN'), ('Ltd.', 'NOUN'), ('and', 'CONJ'), ('Fuji', 'ADV'), ('Heavy', 'ADV'), ('Industries', 'NOUN'), ('Ltd', 'NOUN'), ('.', '.'), ('That', 'DET'), ('sounded', 'VERB'), ('a', 'DET'), ('lot', 'NOUN'), ('like', 'ADP'), ('censorship', 'NOUN'), (',', '.'), ('so', 'ADV'), ('after', 'ADP'), ('years', 'NOUN'), ('of', 'ADP'), ('letters', 'NOUN'), ('and', 'CONJ'), ('conversations', 'NOUN'), ('that', 'ADP'), ('*T*-22', 'X'), ('went', 'VERB'), ('nowhere', 'ADV'), (',', '.'), ('I', 'PRON'), ('sued', 'VERB'), ('.', '.'), ('They', 'PRON'), ('also', 'ADV'), ('said', 'VERB'), ('that', 'ADP'), ('more', 'ADJ'), ('than', 'ADP'), ('a', 'DET'), ('dozen', 'NOUN'), ('presidents', 'NOUN'), ('*PPA*-1', 'X'), ('have', 'VERB'), ('called', 'VERB'), ('for', 'ADP'), ('line-item', 'ADJ'), ('veto', 'NOUN'), ('authority', 'NOUN'), ('since', 'ADP'), ('the', 'DET'), ('Civil', 'ADV'), ('War', 'NOUN'), (',', '.'), ('and', 'CONJ'), ('``', '.'), ('all', 'DET'), ('have', 'VERB'), ('shared', 'ADV'), ('the', 'DET'), ('view', 'NOUN'), ('that', 'ADP'), ('such', 'ADJ'), ('lawmaking', 'ADV'), ('power', 'NOUN'), ('is', 'VERB'), ('beyond', 'ADP'), ('the', 'DET'), ('reach', 'NOUN'), (\"''\", '.'), ('of', 'ADP'), ('the', 'DET'), ('president', 'NOUN'), ('.', '.'), ('Los', 'NOUN'), ('Angeles', 'NOUN'), ('is', 'VERB'), ('a', 'DET'), ('sprawling', 'ADV'), (',', '.'), ('balkanized', 'ADV'), ('newspaper', 'NOUN'), ('market', 'NOUN'), (',', '.'), ('and', 'CONJ'), ('advertisers', 'NOUN'), ('seemed', 'VERB'), ('*-1', 'X'), ('to', 'PRT'), ('feel', 'VERB'), ('0', 'X'), ('they', 'PRON'), ('could', 'VERB'), ('buy', 'VERB'), ('space', 'NOUN'), ('in', 'ADP'), ('the', 'DET'), ('mammoth', 'ADV'), ('Times', 'NOUN'), (',', '.'), ('then', 'ADV'), ('target', 'NOUN'), ('a', 'DET'), ('particular', 'ADJ'), ('area', 'NOUN'), ('with', 'ADP'), ('one', 'NUM'), ('of', 'ADP'), ('the', 'DET'), ('regional', 'ADJ'), ('dailies', 'NOUN'), ('.', '.'), ('Mr.', 'NOUN'), ('Mehta', 'NOUN'), ('is', 'VERB'), ('widely', 'ADV'), ('viewed', 'VERB'), ('as', 'ADP'), ('a', 'DET'), ('brilliant', 'ADJ'), ('editor', 'NOUN'), ('but', 'CONJ'), ('a', 'DET'), ('less-than-brilliant', 'ADV'), ('administrator', 'NOUN'), ('and', 'CONJ'), ('his', 'PRON'), ('own', 'ADJ'), ('departure', 'NOUN'), ('was', 'VERB'), ('rumored', 'VERB'), ('*-47', 'X'), ('recently', 'ADV'), ('.', '.'), ('As', 'ADP'), ('chairman', 'NOUN'), ('of', 'ADP'), ('the', 'DET'), ('House', 'NOUN'), ('Energy', 'NOUN'), ('and', 'CONJ'), ('Commerce', 'NOUN'), ('Committee', 'NOUN'), (',', '.'), ('Mr.', 'NOUN'), ('Dingell', 'NOUN'), ('has', 'VERB'), ('almost', 'ADV'), ('single-handed', 'ADV'), ('control', 'VERB'), ('over', 'ADP'), ('clean-air', 'ADJ'), ('legislation', 'NOUN'), ('.', '.'), ('They', 'PRON'), ('will', 'VERB'), ('mature', 'VERB'), ('Dec.', 'NOUN'), ('21', 'NUM'), ('.', '.'), ('On', 'ADP'), ('the', 'DET'), ('one', 'NUM'), ('hand', 'NOUN'), (',', '.'), ('Brazil', 'NOUN'), ('started', 'VERB'), ('an', 'DET'), ('ethanol', 'ADV'), ('program', 'NOUN'), ('about', 'ADP'), ('15', 'NUM'), ('years', 'NOUN'), ('ago', 'ADP'), ('*-1', 'X'), ('to', 'PRT'), ('fuel', 'NOUN'), ('a', 'DET'), ('huge', 'ADJ'), ('portion', 'NOUN'), ('of', 'ADP'), ('its', 'PRON'), ('national', 'ADJ'), ('fleet', 'ADV'), ('of', 'ADP'), ('cars', 'NOUN'), ('and', 'CONJ'), ('is', 'VERB'), ('now', 'ADV'), ('committed', 'VERB'), ('to', 'PRT'), ('this', 'DET'), ('program', 'NOUN'), ('.', '.'), ('The', 'DET'), ('offsetting', 'VERB'), ('fees', 'NOUN'), ('would', 'VERB'), ('apply', 'VERB'), ('to', 'PRT'), ('filings', 'NOUN'), ('made', 'VERB'), ('*', 'X'), ('under', 'ADP'), ('the', 'DET'), ('Hart-Scott-Rodino', 'ADV'), ('Act', 'NOUN'), ('.', '.'), ('They', 'PRON'), ('must', 'VERB'), ('figure', 'VERB'), ('that', 'ADP'), ('justice', 'NOUN'), ('has', 'VERB'), ('*-2', 'X'), ('to', 'PRT'), ('get', 'VERB'), ('done', 'VERB'), ('*-3', 'X'), ('by', 'ADP'), ('somebody', 'NOUN'), (',', '.'), ('but', 'CONJ'), ('know', 'VERB'), ('0', 'X'), ('it', 'PRON'), ('wo', 'VERB'), (\"n't\", 'ADV'), ('be', 'VERB'), ('done', 'VERB'), ('*-1', 'X'), ('by', 'ADP'), ('Congress', 'NOUN'), ('.', '.'), ('it', 'PRON'), ('was', 'VERB'), ('just', 'ADV'), ('another', 'DET'), ('one', 'NUM'), ('of', 'ADP'), ('the', 'DET'), ('risk', 'NOUN'), ('factors', 'NOUN'), (\"''\", '.'), ('that', 'DET'), ('*T*-17', 'X'), ('led', 'VERB'), ('to', 'PRT'), ('the', 'DET'), ('company', 'NOUN'), (\"'s\", 'PRT'), ('decision', 'NOUN'), ('*', 'X'), ('to', 'PRT'), ('withdraw', 'VERB'), ('from', 'ADP'), ('the', 'DET'), ('bidding', 'NOUN'), (',', '.'), ('he', 'PRON'), ('added', 'VERB'), ('0', 'X'), ('*T*-1', 'X'), ('.', '.'), ('Sales', 'NOUN'), ('totaled', 'VERB'), ('1.916', 'ADV'), ('trillion', 'NUM'), ('yen', 'NOUN'), (',', '.'), ('*-1', 'X'), ('climbing', 'VERB'), ('17', 'NUM'), ('%', 'NOUN'), ('from', 'ADP'), ('1.637', 'ADV'), ('trillion', 'NUM'), ('yen', 'NOUN'), ('in', 'ADP'), ('the', 'DET'), ('year-earlier', 'ADJ'), ('period', 'NOUN'), ('.', '.'), ('From', 'ADP'), ('the', 'DET'), ('1940s', 'ADV'), ('until', 'ADP'), ('1971', 'NUM'), (',', '.'), ('some', 'DET'), ('two', 'NUM'), ('million', 'NUM'), ('women', 'NOUN'), ('took', 'VERB'), ('the', 'DET'), ('synthetic', 'ADJ'), ('hormone', 'ADV'), ('diethylstilbestrol', 'ADV'), ('-LRB-', '.'), ('DES', 'NOUN'), ('-RRB-', '.'), ('*-1', 'X'), ('to', 'PRT'), ('prevent', 'VERB'), ('miscarriages', 'ADV'), ('and', 'CONJ'), ('morning', 'NOUN'), ('sickness', 'ADV'), ('.', '.'), ('The', 'DET'), ('Treasury', 'NOUN'), ('said', 'VERB'), ('0', 'X'), ('it', 'PRON'), ('needs', 'VERB'), ('*-1', 'X'), ('to', 'PRT'), ('raise', 'VERB'), ('$', '.'), ('47.5', 'ADV'), ('billion', 'NUM'), ('*U*', 'X'), ('in', 'ADP'), ('the', 'DET'), ('current', 'ADJ'), ('quarter', 'NOUN'), ('in', 'ADP'), ('order', 'NOUN'), ('*-1', 'X'), ('to', 'PRT'), ('end', 'NOUN'), ('December', 'NOUN'), ('with', 'ADP'), ('a', 'DET'), ('$', '.'), ('20', 'NUM'), ('billion', 'NUM'), ('*U*', 'X'), ('cash', 'NOUN'), ('balance', 'NOUN'), ('.', '.'), ('It', 'PRON'), ('is', 'VERB'), ('in', 'ADP'), ('my', 'PRON'), ('estimation', 'ADV'), ('the', 'DET'), ('best', 'ADJ'), ('wine', 'NOUN'), ('0', 'X'), ('Stag', 'NOUN'), (\"'s\", 'PRT'), ('Leap', 'NOUN'), ('has', 'VERB'), ('produced', 'VERB'), ('*T*-2', 'X'), (',', '.'), ('and', 'CONJ'), ('with', 'ADP'), ('fewer', 'ADJ'), ('than', 'ADP'), ('700', 'ADV'), ('cases', 'NOUN'), ('available', 'ADJ'), (',', '.'), ('it', 'PRON'), ('is', 'VERB'), ('sure', 'ADJ'), ('*-3', 'X'), ('to', 'PRT'), ('sell', 'VERB'), ('quickly', 'ADV'), ('.', '.'), ('``', '.'), ('Now', 'ADV'), (',', '.'), (\"''\", '.'), ('says', 'VERB'), ('*T*-1', 'X'), ('Joseph', 'NOUN'), ('Napolitan', 'ADV'), (',', '.'), ('a', 'DET'), ('pioneer', 'ADV'), ('in', 'ADP'), ('political', 'ADJ'), ('television', 'NOUN'), (',', '.'), ('``', '.'), ('the', 'DET'), ('idea', 'NOUN'), ('is', 'VERB'), ('*', 'X'), ('to', 'PRT'), ('attack', 'NOUN'), ('first', 'ADJ'), (',', '.'), ('last', 'ADJ'), ('and', 'CONJ'), ('always', 'ADV'), ('.', '.'), (\"''\", '.'), ('These', 'DET'), ('imports', 'NOUN'), ('totaled', 'VERB'), ('about', 'ADP'), ('$', '.'), ('17', 'NUM'), ('million', 'NUM'), ('*U*', 'X'), ('last', 'ADJ'), ('year', 'NOUN'), ('.', '.'), ('Or', 'CONJ'), (',', '.'), ('as', 'ADP'), ('Dorothy', 'NOUN'), ('Arighi', 'NOUN'), (',', '.'), ('an', 'DET'), ('interior', 'ADV'), ('decorator', 'ADV'), ('in', 'ADP'), ('Arnold', 'NOUN'), (',', '.'), ('Calif.', 'NOUN'), (',', '.'), ('puts', 'VERB'), ('it', 'PRON'), (':', '.'), ('``', '.'), ('All', 'DET'), ('kinds', 'NOUN'), ('of', 'ADP'), ('funny', 'ADJ'), ('things', 'NOUN'), ('spook', 'ADV'), ('the', 'DET'), ('market', 'NOUN'), ('these', 'DET'), ('days', 'NOUN'), ('.', '.'), (\"''\", '.'), ('The', 'DET'), ('show', 'NOUN'), ('runs', 'VERB'), ('the', 'DET'), ('gamut', 'ADV'), (',', '.'), ('from', 'ADP'), ('a', 'DET'), ('blender', 'ADV'), ('to', 'PRT'), ('chairs', 'ADV'), ('to', 'PRT'), ('a', 'DET'), ('model', 'NOUN'), ('of', 'ADP'), ('the', 'DET'), ('Citicorp', 'ADV'), ('building', 'VERB'), ('.', '.'), ('Mr.', 'NOUN'), ('McGovern', 'NOUN'), ('himself', 'PRON'), ('had', 'VERB'), ('said', 'VERB'), ('repeatedly', 'ADV'), ('that', 'ADP'), ('he', 'PRON'), ('intended', 'VERB'), ('*-1', 'X'), ('to', 'PRT'), ('stay', 'VERB'), ('on', 'ADP'), ('until', 'ADP'), ('he', 'PRON'), ('reached', 'VERB'), ('the', 'DET'), ('conventional', 'ADJ'), ('retirement', 'NOUN'), ('age', 'NOUN'), ('of', 'ADP'), ('65', 'NUM'), ('in', 'ADP'), ('October', 'NOUN'), ('1991', 'NUM'), (',', '.'), ('``', '.'), ('unless', 'ADP'), ('I', 'PRON'), ('get', 'VERB'), ('fired', 'VERB'), ('.', '.'), (\"''\", '.'), ('Other', 'ADJ'), ('financial', 'ADJ'), ('institutions', 'NOUN'), ('involved', 'VERB'), ('*', 'X'), ('include', 'VERB'), ('Barclays', 'ADV'), ('Bank', 'NOUN'), ('PLC', 'NOUN'), (',', '.'), ('Midland', 'ADV'), ('Bank', 'NOUN'), ('PLC', 'NOUN'), (',', '.'), ('Security', 'NOUN'), ('Pacific', 'NOUN'), ('Corp.', 'NOUN'), (',', '.'), ('Chemical', 'NOUN'), ('Banking', 'NOUN'), ('Corp.', 'NOUN'), (\"'s\", 'PRT'), ('Chemical', 'NOUN'), ('Bank', 'NOUN'), (',', '.'), ('Citicorp', 'ADV'), (\"'s\", 'PRT'), ('Citibank', 'ADV'), ('and', 'CONJ'), ('Mitsubishi', 'NOUN'), ('Finance', 'NOUN'), ('International', 'NOUN'), ('.', '.'), ('Mr.', 'NOUN'), ('Samnick', 'NOUN'), (',', '.'), ('who', 'PRON'), ('*T*-135', 'ADV'), ('will', 'VERB'), ('go', 'VERB'), ('before', 'ADP'), ('the', 'DET'), ('disciplinary', 'ADJ'), ('panel', 'NOUN'), (',', '.'), ('said', 'VERB'), ('0', 'X'), ('the', 'DET'), ('proceedings', 'NOUN'), ('are', 'VERB'), ('unfair', 'ADJ'), ('and', 'CONJ'), ('that', 'DET'), ('any', 'DET'), ('punishment', 'ADV'), ('from', 'ADP'), ('the', 'DET'), ('guild', 'NOUN'), ('would', 'VERB'), ('be', 'VERB'), ('unjustified', 'ADJ'), ('.', '.'), ('The', 'DET'), ('thrift', 'NOUN'), ('holding', 'VERB'), ('company', 'NOUN'), ('said', 'VERB'), ('0', 'X'), ('it', 'PRON'), ('expects', 'VERB'), ('*-1', 'X'), ('to', 'PRT'), ('obtain', 'VERB'), ('regulatory', 'ADJ'), ('approval', 'NOUN'), ('and', 'CONJ'), ('complete', 'VERB'), ('the', 'DET'), ('transaction', 'NOUN'), ('by', 'ADP'), ('year-end', 'NOUN'), ('.', '.'), ('``', '.'), ('This', 'DET'), ('stadium', 'NOUN'), ('shows', 'VERB'), ('that', 'ADP'), ('anything', 'NOUN'), ('0', 'X'), ('government', 'NOUN'), ('can', 'VERB'), ('do', 'VERB'), ('*T*-2', 'X'), (',', '.'), ('we', 'PRON'), ('can', 'VERB'), ('do', 'VERB'), ('*-3', 'X'), ('better', 'ADV'), (',', '.'), (\"''\", '.'), ('Mr.', 'NOUN'), ('Robbie', 'NOUN'), ('says', 'VERB'), ('*T*-1', 'X'), ('.', '.'), ('Mr.', 'NOUN'), ('Rosenblum', 'NOUN'), (',', '.'), ('who', 'PRON'), ('*T*-250', 'ADV'), ('apparently', 'ADV'), ('has', 'VERB'), ('an', 'DET'), ('unpublished', 'ADJ'), ('phone', 'NOUN'), ('number', 'NOUN'), (',', '.'), ('also', 'ADV'), ('could', 'VERB'), (\"n't\", 'ADV'), ('be', 'VERB'), ('reached', 'VERB'), ('*-156', 'ADV'), ('.', '.'), ('``', '.'), ('Right', 'ADV'), ('now', 'ADV'), (',', '.'), ('we', 'PRON'), (\"'re\", 'VERB'), ('lucky', 'ADV'), ('if', 'ADP'), ('after', 'ADP'), ('five', 'NUM'), ('years', 'NOUN'), ('we', 'PRON'), ('keep', 'VERB'), ('one', 'NUM'), ('new', 'ADJ'), ('ringer', 'NOUN'), ('out', 'PRT'), ('of', 'ADP'), ('10', 'NUM'), (',', '.'), (\"''\", '.'), ('he', 'PRON'), ('adds', 'VERB'), ('*T*-1', 'X'), ('.', '.'), ('Peter', 'NOUN'), ('Anthony', 'NOUN'), (',', '.'), ('who', 'PRON'), ('*T*-1', 'X'), ('runs', 'VERB'), ('an', 'DET'), ('employment', 'NOUN'), ('agency', 'NOUN'), ('in', 'ADP'), ('New', 'NOUN'), ('York', 'NOUN'), (',', '.'), ('decries', 'ADV'), ('program', 'NOUN'), ('trading', 'NOUN'), ('as', 'ADP'), ('``', '.'), ('*', 'X'), ('limiting', 'VERB'), ('the', 'DET'), ('game', 'NOUN'), ('to', 'PRT'), ('a', 'DET'), ('few', 'ADJ'), (',', '.'), (\"''\", '.'), ('but', 'CONJ'), ('he', 'PRON'), ('also', 'ADV'), ('is', 'VERB'), (\"n't\", 'ADV'), ('sure', 'ADJ'), ('0', 'X'), ('it', 'PRON'), ('should', 'VERB'), ('be', 'VERB'), ('more', 'ADV'), ('strictly', 'ADV'), ('regulated', 'VERB'), ('*-2', 'X'), ('.', '.'), ('But', 'CONJ'), ('with', 'ADP'), ('the', 'DET'), ('index', 'NOUN'), ('proving', 'VERB'), ('somewhat', 'ADV'), ('better', 'ADV'), ('than', 'ADP'), ('*', 'X'), ('expected', 'VERB'), ('and', 'CONJ'), ('the', 'DET'), ('widely', 'ADV'), ('anticipated', 'VERB'), ('report', 'VERB'), ('on', 'ADP'), ('October', 'NOUN'), ('employment', 'NOUN'), ('scheduled', 'VERB'), ('*-1', 'X'), ('to', 'PRT'), ('arrive', 'ADV'), ('tomorrow', 'NOUN'), (',', '.'), ('stock', 'NOUN'), ('prices', 'NOUN'), ('firmed', 'ADV'), ('only', 'ADV'), ('modestly', 'ADV'), ('in', 'ADP'), ('response', 'NOUN'), ('to', 'PRT'), ('the', 'DET'), ('report', 'NOUN'), ('and', 'CONJ'), ('then', 'ADV'), ('faltered', 'ADV'), ('.', '.'), ('Currently', 'ADV'), (',', '.'), ('ShareData', 'NOUN'), ('has', 'VERB'), ('about', 'ADP'), ('4.1', 'NUM'), ('million', 'NUM'), ('common', 'ADJ'), ('shares', 'NOUN'), ('outstanding', 'ADJ'), ('.', '.'), ('However', 'ADV'), (',', '.'), ('neither', 'DET'), ('Mr.', 'NOUN'), ('Baum', 'NOUN'), ('nor', 'CONJ'), ('Mr.', 'NOUN'), ('Harper', 'NOUN'), ('has', 'VERB'), ('much', 'ADV'), ('international', 'ADJ'), ('experience', 'NOUN'), ('.', '.'), ('NTG', 'NOUN'), ('was', 'VERB'), ('formed', 'VERB'), ('*-1', 'X'), ('by', 'ADP'), ('Osborn', 'ADV'), ('Communications', 'NOUN'), ('Corp.', 'NOUN'), ('and', 'CONJ'), ('Desai', 'ADV'), ('Capital', 'NOUN'), ('.', '.'), ('*', 'X'), ('Hold', 'ADV'), ('the', 'DET'), ('Putty', 'ADV'), ('!', '.'), ('So', 'ADV'), ('far', 'ADV'), (',', '.'), ('the', 'DET'), ('grain', 'NOUN'), ('industry', 'NOUN'), (\"'s\", 'PRT'), ('budding', 'ADV'), ('logistical', 'ADV'), ('problems', 'NOUN'), ('have', 'VERB'), (\"n't\", 'ADV'), ('been', 'VERB'), ('a', 'DET'), ('major', 'ADJ'), ('factor', 'NOUN'), ('in', 'ADP'), ('the', 'DET'), ('trading', 'NOUN'), ('of', 'ADP'), ('corn', 'NOUN'), ('contracts', 'NOUN'), ('at', 'ADP'), ('the', 'DET'), ('Chicago', 'NOUN'), ('Board', 'NOUN'), ('of', 'ADP'), ('Trade', 'NOUN'), ('.', '.'), ('He', 'PRON'), ('also', 'ADV'), ('considers', 'VERB'), ('the', 'DET'), ('market', 'NOUN'), ('overvalued', 'ADV'), ('and', 'CONJ'), ('cites', 'VERB'), ('the', 'DET'), ('troubles', 'NOUN'), ('in', 'ADP'), ('junk', 'NOUN'), ('bonds', 'NOUN'), ('.', '.'), ('Preliminary', 'ADV'), ('tallies', 'ADV'), ('by', 'ADP'), ('the', 'DET'), ('Trade', 'NOUN'), ('and', 'CONJ'), ('Industry', 'NOUN'), ('Ministry', 'NOUN'), ('showed', 'VERB'), ('another', 'DET'), ('trade', 'NOUN'), ('deficit', 'NOUN'), ('in', 'ADP'), ('October', 'NOUN'), (',', '.'), ('the', 'DET'), ('fifth', 'ADJ'), ('monthly', 'ADJ'), ('setback', 'NOUN'), ('this', 'DET'), ('year', 'NOUN'), (',', '.'), ('*', 'X'), ('casting', 'VERB'), ('a', 'DET'), ('cloud', 'ADV'), ('on', 'ADP'), ('South', 'NOUN'), ('Korea', 'NOUN'), (\"'s\", 'PRT'), ('export-oriented', 'ADV'), ('economy', 'NOUN'), ('.', '.'), ('A', 'DET'), ('series', 'NOUN'), ('of', 'ADP'), ('5,000', 'NUM'), ('or', 'CONJ'), ('so', 'ADV'), ('changes', 'VERB'), ('is', 'VERB'), ('a', 'DET'), ('``', '.'), ('peal', 'NOUN'), (\"''\", '.'), ('and', 'CONJ'), ('takes', 'VERB'), ('about', 'ADP'), ('three', 'NUM'), ('hours', 'NOUN'), ('.', '.'), ('Nevertheless', 'ADV'), (',', '.'), ('said', 'VERB'), ('*T*-1', 'X'), ('Brenda', 'ADV'), ('Malizia', 'ADV'), ('Negus', 'ADV'), (',', '.'), ('editor', 'NOUN'), ('of', 'ADP'), ('Money', 'NOUN'), ('Fund', 'NOUN'), ('Report', 'NOUN'), (',', '.'), ('yields', 'NOUN'), ('``', '.'), ('may', 'VERB'), ('blip', 'ADV'), ('up', 'ADV'), ('again', 'ADV'), ('before', 'ADP'), ('they', 'PRON'), ('blip', 'ADV'), ('down', 'ADV'), (\"''\", '.'), ('because', 'ADP'), ('of', 'ADP'), ('recent', 'ADJ'), ('rises', 'ADV'), ('in', 'ADP'), ('short-term', 'ADJ'), ('interest', 'NOUN'), ('rates', 'NOUN'), ('.', '.'), ('About', 'ADP'), ('a', 'DET'), ('quarter', 'NOUN'), ('of', 'ADP'), ('this', 'DET'), ('share', 'NOUN'), ('has', 'VERB'), ('already', 'ADV'), ('been', 'VERB'), ('reallocated', 'ADV'), ('*-9', 'X'), (',', '.'), ('according', 'VERB'), ('to', 'PRT'), ('the', 'DET'), ('industry', 'NOUN'), (',', '.'), ('but', 'CONJ'), ('the', 'DET'), ('remaining', 'VERB'), ('23,403', 'ADV'), ('tons', 'NOUN'), ('are', 'VERB'), ('still', 'ADV'), ('a', 'DET'), ('lucrative', 'ADJ'), ('target', 'NOUN'), ('for', 'ADP'), ('growers', 'ADV'), ('because', 'ADP'), ('the', 'DET'), ('current', 'ADJ'), ('U.S.', 'NOUN'), ('price', 'NOUN'), ('of', 'ADP'), ('18', 'NUM'), ('cents', 'NOUN'), ('a', 'DET'), ('pound', 'NOUN'), ('runs', 'VERB'), ('as', 'ADP'), ('much', 'ADJ'), ('as', 'ADP'), ('a', 'DET'), ('nickel', 'NOUN'), ('a', 'DET'), ('pound', 'NOUN'), ('above', 'ADP'), ('the', 'DET'), ('world', 'NOUN'), ('rate', 'NOUN'), ('.', '.'), ('But', 'CONJ'), ('if', 'ADP'), ('Columbia', 'NOUN'), ('could', 'VERB'), ('keep', 'VERB'), ('its', 'PRON'), ('junk', 'NOUN'), ('bonds', 'NOUN'), ('separate', 'ADJ'), ('from', 'ADP'), ('the', 'DET'), ('thrift', 'NOUN'), ('till', 'ADV'), ('they', 'PRON'), ('mature', 'VERB'), ('--', '.'), ('at', 'ADP'), ('full', 'ADJ'), ('value', 'NOUN'), (',', '.'), ('unless', 'ADP'), ('the', 'DET'), ('issuer', 'ADV'), ('goes', 'VERB'), ('bust', 'ADV'), ('or', 'CONJ'), ('restructures', 'ADV'), ('--', '.'), ('the', 'DET'), ('junk', 'NOUN'), ('portfolio', 'NOUN'), ('might', 'VERB'), ('do', 'VERB'), ('all', 'DET'), ('right', 'NOUN'), ('.', '.'), ('In', 'ADP'), ('addition', 'NOUN'), (',', '.'), ('a', 'DET'), ('big', 'ADJ'), ('loan', 'NOUN'), ('that', 'ADP'), ('First', 'NOUN'), ('Boston', 'NOUN'), ('made', 'VERB'), ('*T*-2', 'X'), ('to', 'PRT'), ('Ohio', 'NOUN'), ('Mattress', 'ADV'), ('Co', 'NOUN'), ('.', '.'), ('was', 'VERB'), (\"n't\", 'ADV'), ('repaid', 'VERB'), ('on', 'ADP'), ('time', 'NOUN'), ('when', 'ADV'), ('its', 'PRON'), ('$', '.'), ('450', 'NUM'), ('million', 'NUM'), ('*U*', 'X'), ('junk', 'NOUN'), ('financing', 'NOUN'), ('for', 'ADP'), ('a', 'DET'), ('buy-out', 'NOUN'), ('of', 'ADP'), ('the', 'DET'), ('bedding', 'ADV'), ('company', 'NOUN'), ('was', 'VERB'), ('withdrawn', 'VERB'), ('*-1', 'X'), ('*T*-3', 'X'), ('.', '.'), ('A', 'DET'), ('total', 'ADJ'), ('of', 'ADP'), ('139', 'ADV'), ('companies', 'NOUN'), ('*ICH*-1', 'X'), ('raised', 'VERB'), ('dividends', 'NOUN'), ('in', 'ADP'), ('October', 'NOUN'), (',', '.'), ('basically', 'ADV'), ('unchanged', 'ADJ'), ('from', 'ADP'), ('138', 'ADV'), ('a', 'DET'), ('year', 'NOUN'), ('ago', 'ADP'), (',', '.'), ('S&P', 'NOUN'), ('said', 'VERB'), ('0', 'X'), ('*T*-2', 'X'), ('Wednesday', 'NOUN'), ('.', '.'), ('*-1', 'X'), ('Totally', 'ADV'), ('absorbed', 'ADV'), (',', '.'), ('the', 'DET'), ('ringers', 'NOUN'), ('stare', 'ADV'), ('straight', 'ADJ'), ('ahead', 'ADV'), (',', '.'), ('*-1', 'X'), ('using', 'VERB'), ('peripheral', 'ADJ'), ('vision', 'ADV'), ('-LRB-', '.'), ('they', 'PRON'), ('call', 'VERB'), ('it', 'PRON'), ('``', '.'), ('rope-sight', 'ADV'), (\"''\", '.'), ('-RRB-', '.'), ('*-2', 'X'), ('to', 'PRT'), ('watch', 'VERB'), ('the', 'DET'), ('other', 'ADJ'), ('ropes', 'NOUN'), ('and', 'CONJ'), ('thus', 'ADV'), ('time', 'NOUN'), ('their', 'PRON'), ('pulls', 'ADV'), ('.', '.'), ('The', 'DET'), ('Tokyo', 'NOUN'), ('Stock', 'NOUN'), ('Price', 'NOUN'), ('Index', 'NOUN'), ('-LRB-', '.'), ('Topix', 'ADV'), ('-RRB-', '.'), ('of', 'ADP'), ('all', 'DET'), ('issues', 'NOUN'), ('listed', 'VERB'), ('*', 'X'), ('in', 'ADP'), ('the', 'DET'), ('First', 'NOUN'), ('Section', 'NOUN'), (',', '.'), ('which', 'DET'), ('*T*-1', 'X'), ('gained', 'VERB'), ('16.05', 'ADV'), ('points', 'NOUN'), ('Tuesday', 'NOUN'), (',', '.'), ('was', 'VERB'), ('down', 'ADV'), ('1.46', 'ADV'), ('points', 'NOUN'), (',', '.'), ('or', 'CONJ'), ('0.05', 'ADV'), ('%', 'NOUN'), (',', '.'), ('at', 'ADP'), ('2691.19', 'ADV'), ('.', '.'), ('Nissan', 'NOUN'), ('cited', 'VERB'), ('strong', 'ADJ'), ('domestic', 'ADJ'), ('sales', 'NOUN'), ('against', 'ADP'), ('the', 'DET'), ('backdrop', 'ADV'), ('of', 'ADP'), ('continuous', 'ADV'), ('economic', 'ADJ'), ('expansion', 'NOUN'), ('.', '.'), ('Mr.', 'NOUN'), ('Icahn', 'NOUN'), ('has', 'VERB'), ('said', 'VERB'), ('0', 'X'), ('he', 'PRON'), ('believes', 'VERB'), ('0', 'X'), ('USX', 'NOUN'), ('would', 'VERB'), ('be', 'VERB'), ('worth', 'ADP'), ('more', 'ADJ'), ('if', 'ADP'), ('*-1', 'X'), ('broken', 'VERB'), ('up', 'ADV'), ('*-2', 'X'), ('into', 'ADP'), ('steel', 'NOUN'), ('and', 'CONJ'), ('energy', 'NOUN'), ('segments', 'NOUN'), ('.', '.'), ('For', 'ADP'), ('stock', 'NOUN'), ('indexes', 'ADV'), (',', '.'), ('the', 'DET'), ('underlying', 'ADJ'), ('investment', 'NOUN'), ('may', 'VERB'), ('be', 'VERB'), ('a', 'DET'), ('stock-index', 'ADJ'), ('futures', 'NOUN'), ('contract', 'NOUN'), ('or', 'CONJ'), ('the', 'DET'), ('cash', 'NOUN'), ('value', 'NOUN'), ('of', 'ADP'), ('a', 'DET'), ('stock', 'NOUN'), ('index', 'NOUN'), ('.', '.'), ('The', 'DET'), ('computers', 'NOUN'), ('were', 'VERB'), ('crude', 'ADJ'), ('by', 'ADP'), ('today', 'NOUN'), (\"'s\", 'PRT'), ('standards', 'NOUN'), ('.', '.'), ('He', 'PRON'), ('said', 'VERB'), ('0', 'X'), ('more', 'ADV'), ('than', 'ADP'), ('90', 'NUM'), ('%', 'NOUN'), ('of', 'ADP'), ('the', 'DET'), ('funds', 'NOUN'), ('were', 'VERB'), ('placed', 'VERB'), ('*-40', 'X'), ('with', 'ADP'), ('Japanese', 'ADJ'), ('institutional', 'ADJ'), ('investors', 'NOUN'), ('.', '.'), ('Wine', 'NOUN'), ('auctions', 'NOUN'), ('have', 'VERB'), ('almost', 'ADV'), ('exhausted', 'ADV'), ('the', 'DET'), ('limited', 'ADJ'), ('supply', 'NOUN'), ('of', 'ADP'), ('those', 'DET'), ('wines', 'NOUN'), (',', '.'), ('Mr.', 'NOUN'), ('Shapiro', 'NOUN'), ('continued', 'VERB'), (':', '.'), ('0', 'X'), ('*T*-1', 'X'), ('``', '.'), ('We', 'PRON'), (\"'ve\", 'VERB'), ('seen', 'VERB'), ('a', 'DET'), ('dramatic', 'ADJ'), ('decrease', 'VERB'), ('in', 'ADP'), ('demand', 'NOUN'), ('for', 'ADP'), ('wines', 'NOUN'), ('from', 'ADP'), ('the', 'DET'), (\"'40s\", 'ADV'), ('and', 'CONJ'), (\"'50s\", 'ADV'), (',', '.'), ('which', 'DET'), ('*T*-165', 'ADV'), ('go', 'VERB'), ('for', 'ADP'), ('$', '.'), ('300', 'NUM'), ('to', 'PRT'), ('$', '.'), ('400', 'NUM'), ('*U*', 'X'), ('a', 'DET'), ('bottle', 'NOUN'), ('.', '.'), ('He', 'PRON'), ('has', 'VERB'), ('in', 'ADP'), ('tow', 'ADV'), ('his', 'PRON'), ('prescient', 'ADV'), ('girlfriend', 'ADV'), (',', '.'), ('whose', 'PRON'), ('sassy', 'ADV'), ('retorts', 'ADV'), ('*T*-54', 'X'), ('mark', 'NOUN'), ('her', 'PRON'), ('as', 'ADP'), ('anything', 'NOUN'), ('but', 'CONJ'), ('a', 'DET'), ('docile', 'ADV'), ('butterfly', 'ADV'), ('.', '.'), ('As', 'ADP'), ('it', 'PRON'), ('stands', 'VERB'), ('now', 'ADV'), (',', '.'), ('Congress', 'NOUN'), ('presumes', 'ADV'), ('after', 'ADP'), ('the', 'DET'), ('Reagan', 'NOUN'), ('administration', 'NOUN'), ('that', 'ADP'), ('the', 'DET'), ('White', 'NOUN'), ('House', 'NOUN'), ('will', 'VERB'), ('take', 'VERB'), ('unconstitutional', 'ADJ'), ('provisions', 'NOUN'), ('in', 'ADP'), ('appropriations', 'NOUN'), ('bills', 'NOUN'), ('*-1', 'X'), ('lying', 'VERB'), ('down', 'ADV'), ('.', '.'), ('Mr.', 'NOUN'), ('Trudeau', 'NOUN'), (',', '.'), ('a', 'DET'), ('Writers', 'NOUN'), ('Guild', 'NOUN'), ('member', 'NOUN'), (',', '.'), ('also', 'ADV'), ('was', 'VERB'), ('employed', 'VERB'), ('*-1', 'X'), ('as', 'ADP'), ('a', 'DET'), ('writer', 'NOUN'), ('for', 'ADP'), ('Darkhorse', 'NOUN'), (',', '.'), ('which', 'DET'), ('*T*-134', 'ADV'), ('was', 'VERB'), ('covered', 'VERB'), ('*-2', 'X'), ('by', 'ADP'), ('a', 'DET'), ('guild', 'NOUN'), ('collective-bargaining', 'ADV'), ('agreement', 'NOUN'), ('.', '.'), ('Government', 'NOUN'), ('construction', 'NOUN'), ('spending', 'NOUN'), ('rose', 'VERB'), ('4.3', 'NUM'), ('%', 'NOUN'), ('to', 'PRT'), ('$', '.'), ('88', 'NUM'), ('billion', 'NUM'), ('*U*', 'X'), ('.', '.'), ('What', 'PRON'), ('if', 'ADP'), ('I', 'PRON'), ('tune', 'VERB'), ('in', 'ADP'), ('my', 'PRON'), ('short-wave', 'ADV'), ('radio', 'NOUN'), (',', '.'), ('transcribe', 'ADV'), ('an', 'DET'), ('editorial', 'NOUN'), ('or', 'CONJ'), ('program', 'NOUN'), (',', '.'), ('and', 'CONJ'), ('print', 'VERB'), ('it', 'PRON'), ('in', 'ADP'), ('my', 'PRON'), ('newspaper', 'NOUN'), ('?', '.'), ('They', 'PRON'), ('have', 'VERB'), ('begun', 'VERB'), ('*-1', 'X'), ('sending', 'VERB'), ('letters', 'NOUN'), ('explaining', 'ADV'), ('the', 'DET'), ('program', 'NOUN'), (',', '.'), ('which', 'DET'), ('*T*-52', 'X'), ('began', 'VERB'), ('Oct.', 'NOUN'), ('18', 'NUM'), ('and', 'CONJ'), ('will', 'VERB'), ('end', 'NOUN'), ('Dec.', 'NOUN'), ('18', 'NUM'), (',', '.'), ('to', 'PRT'), ('about', 'ADP'), ('five', 'NUM'), ('million', 'NUM'), ('card', 'NOUN'), ('holders', 'NOUN'), ('.', '.'), ('Campbell', 'NOUN'), ('officials', 'NOUN'), ('said', 'VERB'), ('0', 'X'), ('Mr.', 'NOUN'), ('McGovern', 'NOUN'), ('was', 'VERB'), (\"n't\", 'ADV'), ('available', 'ADJ'), ('*ICH*-2', 'X'), ('yesterday', 'NOUN'), ('*-1', 'X'), ('to', 'PRT'), ('discuss', 'VERB'), ('the', 'DET'), ('circumstances', 'NOUN'), ('of', 'ADP'), ('his', 'PRON'), ('departure', 'NOUN'), ('.', '.'), ('But', 'CONJ'), ('some', 'DET'), ('European', 'ADJ'), ('funds', 'NOUN'), ('recently', 'ADV'), ('have', 'VERB'), ('skyrocketed', 'VERB'), (';', '.'), ('Spain', 'NOUN'), ('Fund', 'NOUN'), ('has', 'VERB'), ('surged', 'VERB'), ('to', 'PRT'), ('a', 'DET'), ('startling', 'ADJ'), ('120', 'NUM'), ('%', 'NOUN'), ('premium', 'NOUN'), ('.', '.'), ('Dan', 'NOUN'), ('E.', 'NOUN'), ('Nelms', 'ADV'), (',', '.'), ('Valley', 'NOUN'), ('Federal', 'NOUN'), (\"'s\", 'PRT'), ('president', 'NOUN'), ('and', 'CONJ'), ('chief', 'NOUN'), ('executive', 'NOUN'), ('officer', 'NOUN'), (',', '.'), ('said', 'VERB'), ('0', 'X'), ('the', 'DET'), ('one-time', 'ADJ'), ('charge', 'NOUN'), ('substantially', 'ADV'), ('eliminates', 'VERB'), ('future', 'ADJ'), ('losses', 'NOUN'), ('associated', 'VERB'), ('*', 'X'), ('with', 'ADP'), ('the', 'DET'), ('unit', 'NOUN'), ('.', '.'), ('New', 'NOUN'), ('rules', 'NOUN'), ('force', 'NOUN'), ('thrifts', 'NOUN'), ('to', 'PRT'), ('write', 'VERB'), ('down', 'ADV'), ('their', 'PRON'), ('junk', 'NOUN'), ('to', 'PRT'), ('market', 'NOUN'), ('value', 'NOUN'), (',', '.'), ('then', 'ADV'), ('sell', 'VERB'), ('the', 'DET'), ('bonds', 'NOUN'), ('over', 'ADP'), ('five', 'NUM'), ('years', 'NOUN'), ('.', '.'), ('Sales', 'NOUN'), ('rose', 'VERB'), ('11', 'NUM'), ('%', 'NOUN'), ('to', 'PRT'), ('292.32', 'ADV'), ('billion', 'NUM'), ('yen', 'NOUN'), ('from', 'ADP'), ('263.07', 'ADV'), ('billion', 'NUM'), ('yen', 'NOUN'), ('.', '.'), ('The', 'DET'), ('plan', 'NOUN'), ('calls', 'VERB'), ('for', 'ADP'), ('*', 'X'), ('closing', 'VERB'), ('at', 'ADP'), ('least', 'ADJ'), ('nine', 'NUM'), ('plants', 'NOUN'), ('and', 'CONJ'), ('eliminating', 'VERB'), ('about', 'ADP'), ('3,600', 'ADV'), ('jobs', 'NOUN'), ('.', '.'), ('Reed', 'NOUN'), ('International', 'NOUN'), ('PLC', 'NOUN'), ('said', 'VERB'), ('that', 'ADP'), ('net', 'ADJ'), ('income', 'NOUN'), ('for', 'ADP'), ('the', 'DET'), ('six', 'NUM'), ('months', 'NOUN'), ('ended', 'VERB'), ('Oct.', 'NOUN'), ('1', 'NUM'), ('slipped', 'VERB'), ('5', 'NUM'), ('%', 'NOUN'), ('to', 'PRT'), ('#', '.'), ('89.7', 'ADV'), ('million', 'NUM'), ('*U*', 'X'), ('-LRB-', '.'), ('$', '.'), ('141.9', 'ADV'), ('million', 'NUM'), ('*U*', 'X'), ('-RRB-', '.'), (',', '.'), ('or', 'CONJ'), ('16', 'NUM'), ('pence', 'NOUN'), ('a', 'DET'), ('share', 'NOUN'), (',', '.'), ('from', 'ADP'), ('#', '.'), ('94.8', 'ADV'), ('million', 'NUM'), ('*U*', 'X'), ('-LRB-', '.'), ('$', '.'), ('149.9', 'ADV'), ('million', 'NUM'), ('*U*', 'X'), ('-RRB-', '.'), (',', '.'), ('or', 'CONJ'), ('17.3', 'NUM'), ('pence', 'NOUN'), ('a', 'DET'), ('share', 'NOUN'), ('.', '.'), ('It', 'PRON'), ('said', 'VERB'), ('0', 'X'), ('it', 'PRON'), ('has', 'VERB'), ('taken', 'VERB'), ('measures', 'VERB'), ('*-1', 'X'), ('to', 'PRT'), ('continue', 'VERB'), ('shipments', 'NOUN'), ('during', 'ADP'), ('the', 'DET'), ('work', 'NOUN'), ('stoppage', 'ADV'), ('.', '.'), ('The', 'DET'), ('warnings', 'NOUN'), (',', '.'), ('issued', 'VERB'), ('*', 'X'), ('to', 'PRT'), ('at', 'ADP'), ('least', 'ADJ'), ('100', 'NUM'), ('criminal', 'ADJ'), ('defense', 'NOUN'), ('attorneys', 'NOUN'), ('in', 'ADP'), ('several', 'ADJ'), ('major', 'ADJ'), ('cities', 'NOUN'), ('in', 'ADP'), ('the', 'DET'), ('last', 'ADJ'), ('week', 'NOUN'), (',', '.'), ('have', 'VERB'), ('led', 'VERB'), ('to', 'PRT'), ('an', 'DET'), ('outcry', 'ADV'), ('by', 'ADP'), ('members', 'NOUN'), ('of', 'ADP'), ('the', 'DET'), ('organized', 'VERB'), ('bar', 'VERB'), (',', '.'), ('who', 'PRON'), ('*T*-125', 'ADV'), ('claim', 'VERB'), ('0', 'X'), ('the', 'DET'), ('information', 'NOUN'), ('is', 'VERB'), ('protected', 'ADV'), ('*-1', 'X'), ('by', 'ADP'), ('attorney-client', 'ADJ'), ('privilege', 'NOUN'), ('.', '.'), ('F.H.', 'ADV'), ('Faulding', 'NOUN'), ('&', 'CONJ'), ('Co.', 'NOUN'), (',', '.'), ('an', 'DET'), ('Australian', 'ADJ'), ('pharmaceuticals', 'NOUN'), ('company', 'NOUN'), (',', '.'), ('said', 'VERB'), ('0', 'X'), ('its', 'PRON'), ('Moleculon', 'NOUN'), ('Inc.', 'NOUN'), ('affiliate', 'NOUN'), ('acquired', 'VERB'), ('Kalipharma', 'ADV'), ('Inc.', 'NOUN'), ('for', 'ADP'), ('$', '.'), ('23', 'NUM'), ('million', 'NUM'), ('*U*', 'X'), ('.', '.'), ('``', '.'), ('We', 'PRON'), ('could', 'VERB'), ('prevent', 'VERB'), ('many', 'ADJ'), ('of', 'ADP'), ('these', 'DET'), ('fatalities', 'NOUN'), ('with', 'ADP'), ('minimum', 'ADJ'), ('roof-crush', 'ADJ'), ('standards', 'NOUN'), (',', '.'), (\"''\", '.'), ('he', 'PRON'), ('said', 'VERB'), ('*T*-1', 'X'), ('.', '.'), ('But', 'CONJ'), ('she', 'PRON'), ('believes', 'VERB'), ('that', 'ADP'), ('``', '.'), ('program', 'NOUN'), ('trading', 'NOUN'), ('creates', 'VERB'), ('deviant', 'ADV'), ('swings', 'NOUN'), ('.', '.'), ('And', 'CONJ'), ('it', 'PRON'), ('*EXP*-2', 'X'), ('is', 'VERB'), (\"n't\", 'ADV'), ('clear', 'ADJ'), ('that', 'ADP'), ('the', 'DET'), ('Soviet', 'ADJ'), ('Union', 'NOUN'), ('will', 'VERB'), ('stay', 'VERB'), ('on', 'ADP'), ('its', 'PRON'), ('record', 'NOUN'), ('buying', 'VERB'), ('pace', 'NOUN'), ('.', '.'), ('The', 'DET'), ('goverment', 'ADV'), ('counts', 'NOUN'), ('money', 'NOUN'), ('as', 'ADP'), ('it', 'PRON'), ('is', 'VERB'), ('spent', 'VERB'), ('*-53', 'X'), (';', '.'), ('Dodge', 'NOUN'), ('counts', 'NOUN'), ('contracts', 'NOUN'), ('when', 'ADV'), ('they', 'PRON'), ('are', 'VERB'), ('awarded', 'VERB'), ('*-54', 'X'), ('*T*-1', 'X'), ('.', '.'), ('Mr.', 'NOUN'), ('Gillespie', 'NOUN'), ('at', 'ADP'), ('Viacom', 'NOUN'), ('says', 'VERB'), ('0', 'X'), ('the', 'DET'), ('ratings', 'NOUN'), ('are', 'VERB'), ('rising', 'VERB'), ('.', '.'), ('Indexing', 'ADV'), ('--', '.'), ('Many', 'ADJ'), ('investors', 'NOUN'), (',', '.'), ('mainly', 'ADV'), ('institutions', 'NOUN'), (',', '.'), ('follow', 'VERB'), ('an', 'DET'), ('investment', 'NOUN'), ('strategy', 'NOUN'), ('of', 'ADP'), ('*', 'X'), ('buying', 'VERB'), ('and', 'CONJ'), ('holding', 'VERB'), ('a', 'DET'), ('mix', 'NOUN'), ('of', 'ADP'), ('stocks', 'NOUN'), ('0', 'X'), ('*T*-1', 'X'), ('to', 'PRT'), ('match', 'VERB'), ('the', 'DET'), ('performance', 'NOUN'), ('of', 'ADP'), ('a', 'DET'), ('broad', 'ADJ'), ('stock-market', 'NOUN'), ('barometer', 'ADV'), ('such', 'ADJ'), ('as', 'ADP'), ('the', 'DET'), ('S&P', 'NOUN'), ('500', 'NUM'), ('.', '.'), ('At', 'ADP'), ('the', 'DET'), ('Charles', 'NOUN'), ('Schwab', 'ADV'), ('&', 'CONJ'), ('Co.', 'NOUN'), ('office', 'NOUN'), ('in', 'ADP'), ('Atlanta', 'NOUN'), (\"'s\", 'PRT'), ('Buckhead', 'ADV'), ('district', 'NOUN'), (',', '.'), ('a', 'DET'), ('group', 'NOUN'), ('of', 'ADP'), ('investors', 'NOUN'), ('voices', 'NOUN'), ('skepticism', 'ADV'), ('that', 'ADP'), ('federal', 'ADJ'), ('officials', 'NOUN'), ('would', 'VERB'), ('curb', 'VERB'), ('program', 'NOUN'), ('trading', 'NOUN'), ('.', '.'), ('A', 'DET'), ('couple', 'NOUN'), ('of', 'ADP'), ('weeks', 'NOUN'), ('ago', 'ADP'), (',', '.'), ('I', 'PRON'), ('lost', 'VERB'), ('the', 'DET'), ('case', 'NOUN'), ('in', 'ADP'), ('federal', 'ADJ'), ('district', 'NOUN'), ('court', 'NOUN'), ('in', 'ADP'), ('Des', 'NOUN'), ('Moines', 'NOUN'), ('.', '.'), ('The', 'DET'), ('new', 'ADJ'), ('company', 'NOUN'), ('will', 'VERB'), ('attempt', 'NOUN'), ('*-1', 'X'), ('to', 'PRT'), ('limit', 'NOUN'), ('the', 'DET'), ('shipyard', 'NOUN'), (\"'s\", 'PRT'), ('losses', 'NOUN'), (',', '.'), ('participants', 'NOUN'), ('said', 'VERB'), ('0', 'X'), ('*T*-2', 'X'), ('.', '.'), ('The', 'DET'), ('company', 'NOUN'), ('recently', 'ADV'), ('said', 'VERB'), ('0', 'X'), ('it', 'PRON'), ('would', 'VERB'), ('sell', 'VERB'), ('some', 'DET'), ('operations', 'NOUN'), ('and', 'CONJ'), ('lay', 'ADV'), ('off', 'ADP'), ('4', 'NUM'), ('%', 'NOUN'), ('of', 'ADP'), ('its', 'PRON'), ('work', 'VERB'), ('force', 'VERB'), (',', '.'), ('altogether', 'ADV'), ('*-1', 'X'), ('reducing', 'VERB'), ('employment', 'NOUN'), ('to', 'PRT'), ('less', 'ADJ'), ('than', 'ADP'), ('16,000', 'NUM'), ('from', 'ADP'), ('about', 'ADP'), ('18,000', 'ADV'), ('.', '.'), ('He', 'PRON'), ('said', 'VERB'), ('0', 'X'), ('Equitable', 'NOUN'), ('hopes', 'VERB'), ('*-1', 'X'), ('to', 'PRT'), ('eventually', 'ADV'), ('reduce', 'VERB'), ('its', 'PRON'), ('stake', 'NOUN'), ('in', 'ADP'), ('Younkers', 'NOUN'), ('to', 'PRT'), ('less', 'ADJ'), ('than', 'ADP'), ('50', 'NUM'), ('%', 'NOUN'), ('.', '.'), ('In', 'ADP'), ('Champagne', 'NOUN'), (',', '.'), ('some', 'DET'), ('of', 'ADP'), ('the', 'DET'), ('prestige', 'ADV'), ('cuvees', 'ADV'), ('are', 'VERB'), ('inching', 'ADV'), ('toward', 'ADP'), ('$', '.'), ('100', 'NUM'), ('*U*', 'X'), ('a', 'DET'), ('bottle', 'NOUN'), ('.', '.'), ('National', 'NOUN'), ('Tyre', 'NOUN'), (',', '.'), ('which', 'DET'), ('*T*-1', 'X'), ('has', 'VERB'), ('420', 'ADV'), ('branches', 'NOUN'), ('throughout', 'ADP'), ('the', 'DET'), ('U.K.', 'NOUN'), (',', '.'), ('had', 'VERB'), ('1988', 'NUM'), ('pretax', 'NOUN'), ('profit', 'NOUN'), ('of', 'ADP'), ('#', '.'), ('8.5', 'NUM'), ('million', 'NUM'), ('*U*', 'X'), ('.', '.'), ('Her', 'PRON'), ('remorse', 'ADV'), ('was', 'VERB'), ('shallow', 'ADV'), ('and', 'CONJ'), ('brief', 'ADJ'), ('.', '.'), ('IT', 'ADV'), (\"'S\", 'ADV'), ('A', 'DET'), ('TWO', 'ADV'), ('BIRDS', 'ADV'), ('with', 'ADP'), ('one', 'NUM'), ('stone', 'NOUN'), ('deal', 'NOUN'), (':', '.'), ('Eggers', 'NOUN'), ('Group', 'NOUN'), ('architects', 'ADV'), ('propose', 'ADV'), ('*-2', 'X'), ('using', 'VERB'), ('grain', 'NOUN'), ('elevators', 'NOUN'), ('*-1', 'X'), ('to', 'PRT'), ('house', 'NOUN'), ('prisoners', 'ADV'), ('.', '.'), ('This', 'DET'), ('does', 'VERB'), ('not', 'ADV'), ('sit', 'ADV'), ('well', 'ADV'), ('with', 'ADP'), ('some', 'DET'), ('clerics', 'ADV'), ('.', '.'), ('The', 'DET'), ('competition', 'NOUN'), ('has', 'VERB'), ('cultivated', 'ADV'), ('a', 'DET'), ('much', 'ADJ'), ('savvier', 'ADV'), ('consumer', 'NOUN'), ('.', '.'), ('Michael', 'NOUN'), ('Ross', 'NOUN'), (',', '.'), ('a', 'DET'), ('New', 'NOUN'), ('York', 'NOUN'), ('lawyer', 'NOUN'), ('who', 'PRON'), ('*T*-132', 'ADV'), ('heads', 'VERB'), ('the', 'DET'), ('ABA', 'NOUN'), (\"'s\", 'PRT'), ('grand', 'ADV'), ('jury', 'NOUN'), ('committee', 'NOUN'), (',', '.'), ('said', 'VERB'), ('that', 'ADP'), ('lawyers', 'NOUN'), ('are', 'VERB'), ('prohibited', 'ADV'), ('*-1', 'X'), ('by', 'ADP'), ('the', 'DET'), ('ABA', 'NOUN'), (\"'s\", 'PRT'), ('code', 'NOUN'), ('of', 'ADP'), ('ethics', 'ADV'), ('from', 'ADP'), ('*-1', 'X'), ('disclosing', 'ADV'), ('information', 'NOUN'), ('about', 'ADP'), ('a', 'DET'), ('client', 'NOUN'), ('except', 'ADP'), ('where', 'ADV'), ('a', 'DET'), ('court', 'NOUN'), ('orders', 'NOUN'), ('it', 'PRON'), ('*T*-3', 'X'), ('or', 'CONJ'), ('*-1', 'X'), ('to', 'PRT'), ('prevent', 'VERB'), ('the', 'DET'), ('client', 'NOUN'), ('from', 'ADP'), ('*-4', 'X'), ('committing', 'ADV'), ('a', 'DET'), ('criminal', 'ADJ'), ('act', 'NOUN'), ('that', 'ADP'), ('*T*-2', 'X'), ('could', 'VERB'), ('result', 'VERB'), ('in', 'ADP'), ('death', 'NOUN'), ('.', '.'), ('For', 'ADP'), ('their', 'PRON'), ('troubles', 'NOUN'), (',', '.'), ('the', 'DET'), ('banks', 'NOUN'), ('get', 'VERB'), ('a', 'DET'), ('larger', 'ADJ'), ('captive', 'ADV'), ('audience', 'ADV'), ('that', 'ADP'), ('*T*-204', 'ADV'), ('is', 'VERB'), ('less', 'ADJ'), ('likely', 'ADJ'), ('*-1', 'X'), ('to', 'PRT'), ('move', 'VERB'), ('at', 'ADP'), ('the', 'DET'), ('drop', 'NOUN'), ('of', 'ADP'), ('a', 'DET'), ('rate', 'NOUN'), ('.', '.'), ('Caldor', 'NOUN'), (',', '.'), ('based', 'VERB'), ('*', 'X'), ('in', 'ADP'), ('Norwalk', 'ADV'), (',', '.'), ('Conn.', 'NOUN'), (',', '.'), ('operates', 'VERB'), ('118', 'NUM'), ('stores', 'NOUN'), ('in', 'ADP'), ('the', 'DET'), ('Northeast', 'NOUN'), (';', '.'), ('it', 'PRON'), ('reported', 'VERB'), ('revenue', 'NOUN'), ('of', 'ADP'), ('$', '.'), ('1.6', 'NUM'), ('billion', 'NUM'), ('*U*', 'X'), ('last', 'ADJ'), ('year', 'NOUN'), ('.', '.'), ('Short', 'ADV'), ('of', 'ADP'), ('a', 'DET'), ('total', 'ADJ'), ('ban', 'NOUN'), (',', '.'), ('some', 'DET'), ('anti-programmers', 'NOUN'), ('have', 'VERB'), ('proposed', 'VERB'), ('several', 'ADJ'), ('middle-ground', 'ADV'), ('reforms', 'NOUN'), (',', '.'), ('which', 'DET'), ('they', 'PRON'), ('say', 'VERB'), ('0', 'X'), ('*T*-1', 'X'), ('would', 'VERB'), ('take', 'VERB'), ('away', 'ADV'), ('certain', 'ADJ'), ('advantages', 'NOUN'), ('0', 'X'), ('program', 'NOUN'), ('traders', 'NOUN'), ('currently', 'ADV'), ('enjoy', 'ADV'), ('*T*-2', 'X'), ('in', 'ADP'), ('the', 'DET'), ('marketplace', 'NOUN'), ('that', 'ADP'), ('other', 'ADJ'), ('investors', 'NOUN'), ('do', 'VERB'), (\"n't\", 'ADV'), ('*T*-3', 'X'), ('.', '.'), ('Government', 'NOUN'), ('press', 'NOUN'), ('releases', 'NOUN'), (',', '.'), ('speeches', 'ADV'), (',', '.'), ('briefings', 'ADV'), (',', '.'), ('tours', 'NOUN'), ('of', 'ADP'), ('military', 'ADJ'), ('facilities', 'NOUN'), (',', '.'), ('publications', 'NOUN'), ('are', 'VERB'), ('all', 'DET'), ('propaganda', 'NOUN'), ('of', 'ADP'), ('sorts', 'ADV'), ('.', '.'), ('Many', 'ADJ'), ('people', 'NOUN'), ('believe', 'VERB'), ('0', 'X'), ('the', 'DET'), ('growth', 'NOUN'), ('in', 'ADP'), ('dividends', 'NOUN'), ('will', 'VERB'), ('slow', 'VERB'), ('next', 'ADJ'), ('year', 'NOUN'), (',', '.'), ('although', 'ADP'), ('a', 'DET'), ('minority', 'NOUN'), ('see', 'VERB'), ('double-digit', 'ADJ'), ('gains', 'NOUN'), ('continuing', 'VERB'), ('.', '.'), ('They', 'PRON'), ('cited', 'VERB'), ('Wall', 'NOUN'), ('Street', 'NOUN'), (\"'s\", 'PRT'), ('recent', 'ADJ'), ('volatility', 'NOUN'), ('and', 'CONJ'), ('the', 'DET'), ('lack', 'NOUN'), ('of', 'ADP'), ('a', 'DET'), ('clear', 'ADJ'), ('indication', 'NOUN'), ('over', 'ADP'), ('the', 'DET'), ('market', 'NOUN'), (\"'s\", 'PRT'), ('short-term', 'ADJ'), ('direction', 'NOUN'), ('as', 'ADP'), ('factors', 'NOUN'), ('in', 'ADP'), ('the', 'DET'), ('institutional', 'ADJ'), ('caution', 'NOUN'), ('.', '.'), ('Publishing', 'NOUN'), ('officials', 'NOUN'), ('believe', 'VERB'), ('that', 'ADP'), ('while', 'ADP'), ('Random', 'NOUN'), ('House', 'NOUN'), ('has', 'VERB'), ('enjoyed', 'ADV'), ('spectacular', 'ADV'), ('growth', 'NOUN'), ('and', 'CONJ'), ('has', 'VERB'), ('smoothly', 'ADV'), ('integrated', 'VERB'), ('many', 'ADJ'), ('acquisitions', 'NOUN'), ('in', 'ADP'), ('recent', 'ADJ'), ('years', 'NOUN'), (',', '.'), ('some', 'DET'), ('of', 'ADP'), ('the', 'DET'), ('bigger', 'ADJ'), ('ones', 'NOUN'), ('have', 'VERB'), (\"n't\", 'ADV'), ('been', 'VERB'), ('absorbed', 'ADV'), ('*-44', 'X'), ('so', 'ADV'), ('easily', 'ADV'), ('.', '.'), ('GOODY', 'ADV'), ('PRODUCTS', 'ADV'), ('Inc.', 'NOUN'), ('cut', 'VERB'), ('its', 'PRON'), ('quarterly', 'ADJ'), ('dividend', 'NOUN'), ('to', 'PRT'), ('five', 'NUM'), ('cents', 'NOUN'), ('a', 'DET'), ('share', 'NOUN'), ('from', 'ADP'), ('11.5', 'ADV'), ('cents', 'NOUN'), ('a', 'DET'), ('share', 'NOUN'), ('.', '.'), ('He', 'PRON'), ('said', 'VERB'), ('0', 'X'), ('authors', 'NOUN'), ('of', 'ADP'), ('Scoring', 'NOUN'), ('High', 'NOUN'), ('``', '.'), ('scrupulously', 'ADV'), ('avoid', 'VERB'), (\"''\", '.'), ('*-1', 'X'), ('replicating', 'ADV'), ('exact', 'ADJ'), ('questions', 'NOUN'), (',', '.'), ('but', 'CONJ'), ('he', 'PRON'), ('does', 'VERB'), (\"n't\", 'ADV'), ('deny', 'VERB'), ('that', 'ADP'), ('some', 'DET'), ('items', 'NOUN'), ('are', 'VERB'), ('similar', 'ADJ'), ('.', '.'), ('The', 'DET'), ('company', 'NOUN'), ('also', 'ADV'), ('cited', 'VERB'), ('interest', 'NOUN'), ('costs', 'NOUN'), ('and', 'CONJ'), ('amortization', 'ADV'), ('of', 'ADP'), ('goodwill', 'NOUN'), ('as', 'ADP'), ('factors', 'NOUN'), ('in', 'ADP'), ('the', 'DET'), ('loss', 'NOUN'), ('.', '.'), ('The', 'DET'), ('sale', 'NOUN'), ('represents', 'VERB'), ('10.2', 'NUM'), ('%', 'NOUN'), ('of', 'ADP'), ('Meridian', 'NOUN'), (\"'s\", 'PRT'), ('shares', 'NOUN'), ('outstanding', 'ADJ'), ('.', '.'), ('In', 'ADP'), ('this', 'DET'), ('instance', 'NOUN'), (',', '.'), ('industry', 'NOUN'), ('observers', 'NOUN'), ('say', 'VERB'), ('0', 'X'), ('*T*-1', 'X'), (',', '.'), ('he', 'PRON'), ('is', 'VERB'), ('entering', 'VERB'), ('uncharted', 'ADJ'), ('waters', 'NOUN'), ('.', '.'), ('Dick', 'ADV'), ('Lobo', 'ADV'), (',', '.'), ('the', 'DET'), ('general', 'ADJ'), ('manager', 'NOUN'), ('of', 'ADP'), ('WTVJ', 'ADV'), (',', '.'), ('the', 'DET'), ('NBC-owned', 'ADV'), ('station', 'NOUN'), ('in', 'ADP'), ('Miami', 'NOUN'), (',', '.'), ('for', 'ADP'), ('example', 'NOUN'), (',', '.'), ('says', 'VERB'), ('0', 'X'), ('the', 'DET'), ('show', 'NOUN'), ('has', 'VERB'), ('``', '.'), ('been', 'VERB'), ('a', 'DET'), ('major', 'ADJ'), ('disappointment', 'NOUN'), ('to', 'PRT'), ('us', 'PRON'), ('.', '.'), (\"''\", '.'), ('The', 'DET'), ('framers', 'NOUN'), ('hardly', 'ADV'), ('discussed', 'VERB'), ('the', 'DET'), ('appropriations', 'NOUN'), ('clause', 'NOUN'), ('at', 'ADP'), ('the', 'DET'), ('Constitutional', 'ADV'), ('Convention', 'ADV'), ('of', 'ADP'), ('1787', 'ADV'), (',', '.'), ('according', 'VERB'), ('to', 'PRT'), ('Madison', 'NOUN'), (\"'s\", 'PRT'), ('notes', 'NOUN'), ('.', '.'), ('``', '.'), ('Insurance', 'NOUN'), ('agents', 'NOUN'), ('have', 'VERB'), ('been', 'VERB'), ('forced', 'VERB'), ('*-158', 'ADV'), ('by', 'ADP'), ('their', 'PRON'), ('companies', 'NOUN'), ('into', 'ADP'), ('*-2', 'X'), ('becoming', 'VERB'), ('registered', 'VERB'), ('reps', 'ADV'), (',', '.'), (\"''\", '.'), ('he', 'PRON'), ('said', 'VERB'), ('*T*-1', 'X'), (',', '.'), ('``', '.'), ('but', 'CONJ'), ('they', 'PRON'), ('are', 'VERB'), ('not', 'ADV'), ('providing', 'VERB'), ('compliance', 'NOUN'), ('and', 'CONJ'), ('security-type', 'ADV'), ('training', 'NOUN'), ('so', 'ADV'), ('that', 'ADP'), ('we', 'PRON'), ('can', 'VERB'), ('avoid', 'VERB'), ('stupid', 'ADJ'), ('mistakes', 'ADV'), ('.', '.'), (\"''\", '.'), ('The', 'DET'), ('Philadelphia', 'NOUN'), ('and', 'CONJ'), ('Cleveland', 'NOUN'), ('districts', 'NOUN'), (',', '.'), ('for', 'ADP'), ('example', 'NOUN'), (',', '.'), ('reported', 'VERB'), ('declines', 'VERB'), ('in', 'ADP'), ('manufacturing', 'NOUN'), ('activity', 'NOUN'), ('while', 'ADP'), ('the', 'DET'), ('Boston', 'NOUN'), (',', '.'), ('Dallas', 'NOUN'), ('and', 'CONJ'), ('San', 'NOUN'), ('Francisco', 'NOUN'), ('banks', 'NOUN'), ('noted', 'VERB'), ('that', 'ADP'), ('business', 'NOUN'), ('expanded', 'VERB'), ('.', '.'), ('Ruth', 'ADV'), ('K.', 'NOUN'), ('Nelson', 'NOUN'), ('Cullowhee', 'ADV'), (',', '.'), ('N.C', 'NOUN'), ('.', '.'), ('Such', 'ADJ'), ('problems', 'NOUN'), ('will', 'VERB'), ('require', 'VERB'), ('considerable', 'ADJ'), ('skill', 'ADV'), ('*', 'X'), ('to', 'PRT'), ('resolve', 'VERB'), ('.', '.'), ('In', 'ADP'), ('a', 'DET'), ('few', 'ADJ'), ('weeks', 'NOUN'), (',', '.'), ('many', 'ADJ'), ('barges', 'NOUN'), ('probably', 'ADV'), ('wo', 'VERB'), (\"n't\", 'ADV'), ('be', 'VERB'), ('able', 'ADJ'), ('*-2', 'X'), ('to', 'PRT'), ('operate', 'VERB'), ('fully', 'ADV'), ('loaded', 'VERB'), ('south', 'ADV'), ('of', 'ADP'), ('St.', 'NOUN'), ('Louis', 'NOUN'), ('because', 'ADP'), ('the', 'DET'), ('U.S.', 'NOUN'), ('Army', 'NOUN'), ('Corps', 'NOUN'), ('of', 'ADP'), ('Engineers', 'NOUN'), ('is', 'VERB'), ('beginning', 'VERB'), ('*-3', 'X'), ('to', 'PRT'), ('reduce', 'VERB'), ('the', 'DET'), ('flow', 'NOUN'), ('of', 'ADP'), ('the', 'DET'), ('Missouri', 'NOUN'), ('River', 'NOUN'), (',', '.'), ('which', 'DET'), ('*T*-1', 'X'), ('feeds', 'ADV'), ('into', 'ADP'), ('the', 'DET'), ('Mississippi', 'NOUN'), ('River', 'NOUN'), ('.', '.'), ('It', 'PRON'), ('did', 'VERB'), (\"n't\", 'ADV'), ('elaborate', 'VERB'), ('.', '.'), ('It', 'PRON'), ('employs', 'VERB'), ('2,700', 'ADV'), ('people', 'NOUN'), ('and', 'CONJ'), ('has', 'VERB'), ('annual', 'ADJ'), ('revenue', 'NOUN'), ('of', 'ADP'), ('about', 'ADP'), ('$', '.'), ('370', 'ADV'), ('million', 'NUM'), ('*U*', 'X'), ('.', '.'), ('Here', 'ADV'), ('are', 'VERB'), ('*T*-1', 'X'), ('price', 'NOUN'), ('trends', 'NOUN'), ('on', 'ADP'), ('the', 'DET'), ('world', 'NOUN'), (\"'s\", 'PRT'), ('major', 'ADJ'), ('stock', 'NOUN'), ('markets', 'NOUN'), (',', '.'), ('as', 'ADP'), ('*', 'X'), ('calculated', 'ADV'), ('*-2', 'X'), ('by', 'ADP'), ('Morgan', 'NOUN'), ('Stanley', 'NOUN'), ('Capital', 'NOUN'), ('International', 'NOUN'), ('Perspective', 'ADV'), (',', '.'), ('Geneva', 'ADV'), ('.', '.'), ('The', 'DET'), ('1990', 'NUM'), ('appropriations', 'NOUN'), ('bills', 'NOUN'), ('also', 'ADV'), ('contain', 'VERB'), ('a', 'DET'), ('number', 'NOUN'), ('of', 'ADP'), ('``', '.'), ('muzzling', 'ADV'), (\"''\", '.'), ('provisions', 'NOUN'), ('that', 'ADP'), ('*T*-1', 'X'), ('violate', 'VERB'), ('the', 'DET'), ('recommendation', 'ADV'), ('clause', 'NOUN'), ('in', 'ADP'), ('Article', 'NOUN'), ('II', 'NOUN'), ('of', 'ADP'), ('the', 'DET'), ('Constitution', 'NOUN'), ('.', '.'), ('Both', 'DET'), ('Dr.', 'NOUN'), ('Mason', 'NOUN'), ('and', 'CONJ'), ('Dr.', 'NOUN'), ('Sullivan', 'NOUN'), ('oppose', 'VERB'), ('federal', 'ADJ'), ('funding', 'NOUN'), ('for', 'ADP'), ('abortion', 'NOUN'), (',', '.'), ('as', 'ADP'), ('does', 'VERB'), ('President', 'NOUN'), ('Bush', 'NOUN'), ('*?*', 'X'), (',', '.'), ('except', 'ADP'), ('in', 'ADP'), ('cases', 'NOUN'), ('where', 'ADV'), ('a', 'DET'), ('woman', 'NOUN'), (\"'s\", 'PRT'), ('life', 'NOUN'), ('is', 'VERB'), ('threatened', 'VERB'), ('*-2', 'X'), ('*T*-1', 'X'), ('.', '.'), ('Serial', 'ADJ'), ('bonds', 'NOUN'), ('are', 'VERB'), ('priced', 'VERB'), ('*-1', 'X'), ('*', 'X'), ('to', 'PRT'), ('yield', 'VERB'), ('from', 'ADP'), ('6.20', 'NUM'), ('%', 'NOUN'), ('in', 'ADP'), ('1991', 'NUM'), ('to', 'PRT'), ('7', 'NUM'), ('%', 'NOUN'), ('in', 'ADP'), ('2000', 'NUM'), ('.', '.'), ('A', 'DET'), ('man', 'NOUN'), ('from', 'ADP'), ('the', 'DET'), ('Bush', 'NOUN'), ('administration', 'NOUN'), ('came', 'VERB'), ('before', 'ADP'), ('the', 'DET'), ('House', 'NOUN'), ('Agriculture', 'NOUN'), ('Committee', 'NOUN'), ('yesterday', 'NOUN'), ('*-1', 'X'), ('to', 'PRT'), ('talk', 'VERB'), ('about', 'ADP'), ('the', 'DET'), ('U.S.', 'NOUN'), (\"'s\", 'PRT'), ('intention', 'NOUN'), ('*', 'X'), ('to', 'PRT'), ('send', 'VERB'), ('some', 'DET'), ('$', '.'), ('100', 'NUM'), ('million', 'NUM'), ('*U*', 'X'), ('in', 'ADP'), ('food', 'NOUN'), ('aid', 'NOUN'), ('to', 'PRT'), ('Poland', 'NOUN'), (',', '.'), ('with', 'ADP'), ('more', 'ADJ'), ('0', 'X'), ('*T*-2', 'X'), ('to', 'PRT'), ('come', 'VERB'), ('from', 'ADP'), ('the', 'DET'), ('EC', 'ADV'), ('.', '.'), ('Programs', 'ADV'), ('like', 'ADP'), ('Section', 'NOUN'), ('8', 'NUM'), ('-LRB-', '.'), ('A', 'DET'), ('-RRB-', '.'), ('are', 'VERB'), ('a', 'DET'), ('little', 'ADJ'), ('like', 'ADP'), ('*', 'X'), ('leaving', 'VERB'), ('gold', 'NOUN'), ('in', 'ADP'), ('the', 'DET'), ('street', 'NOUN'), ('and', 'CONJ'), ('then', 'ADV'), ('expressing', 'ADV'), ('surprise', 'NOUN'), ('when', 'ADV'), ('thieves', 'ADV'), ('walk', 'VERB'), ('by', 'ADP'), ('*-2', 'X'), ('to', 'PRT'), ('scoop', 'NOUN'), ('it', 'PRON'), ('up', 'ADV'), ('*T*-1', 'X'), ('.', '.'), ('At', 'ADP'), ('one', 'NUM'), ('point', 'NOUN'), (',', '.'), ('Hammersmith', 'NOUN'), ('is', 'VERB'), ('reported', 'VERB'), ('*-1', 'X'), ('to', 'PRT'), ('have', 'VERB'), ('accounted', 'ADV'), ('for', 'ADP'), ('as', 'ADP'), ('much', 'ADJ'), ('as', 'ADP'), ('10', 'NUM'), ('%', 'NOUN'), ('of', 'ADP'), ('the', 'DET'), ('sterling', 'ADV'), ('market', 'NOUN'), ('in', 'ADP'), ('interest-rate', 'NOUN'), ('swap', 'NOUN'), ('dealings', 'NOUN'), ('.', '.'), ('``', '.'), ('There', 'DET'), ('may', 'VERB'), ('be', 'VERB'), ('sticker-shock', 'ADV'), ('reaction', 'NOUN'), ('initially', 'ADV'), (',', '.'), (\"''\", '.'), ('said', 'VERB'), ('*T*-2', 'X'), ('Mr.', 'NOUN'), ('Pratt', 'NOUN'), (',', '.'), ('``', '.'), ('but', 'CONJ'), ('as', 'ADP'), ('the', 'DET'), ('wine', 'NOUN'), ('is', 'VERB'), ('talked', 'ADV'), ('about', 'ADP'), ('*-1', 'X'), ('and', 'CONJ'), ('starts', 'NOUN'), ('*-1', 'X'), ('to', 'PRT'), ('sell', 'VERB'), (',', '.'), ('they', 'PRON'), ('eventually', 'ADV'), ('get', 'VERB'), ('excited', 'ADV'), ('and', 'CONJ'), ('decide', 'VERB'), ('0', 'X'), ('it', 'PRON'), (\"'s\", 'VERB'), ('worth', 'ADP'), ('the', 'DET'), ('astronomical', 'ADV'), ('price', 'NOUN'), ('*-3', 'X'), ('to', 'PRT'), ('add', 'VERB'), ('it', 'PRON'), ('to', 'PRT'), ('their', 'PRON'), ('collection', 'ADV'), ('.', '.'), (\"''\", '.'), ('He', 'PRON'), ('sold', 'VERB'), ('his', 'PRON'), ('exchange', 'NOUN'), ('seat', 'NOUN'), ('and', 'CONJ'), ('wrote', 'VERB'), ('a', 'DET'), ('bitter', 'ADJ'), ('letter', 'NOUN'), ('to', 'PRT'), ('Big', 'NOUN'), ('Board', 'NOUN'), ('Chairman', 'NOUN'), ('John', 'NOUN'), ('J.', 'NOUN'), ('Phelan', 'NOUN'), ('Jr.', 'NOUN'), ('in', 'ADP'), ('which', 'DET'), ('he', 'PRON'), ('said', 'VERB'), ('*T*-1', 'X'), ('0', 'X'), ('the', 'DET'), ('Big', 'NOUN'), ('Board', 'NOUN'), ('is', 'VERB'), ('too', 'ADV'), ('focused', 'VERB'), ('on', 'ADP'), ('machines', 'NOUN'), (',', '.'), ('rather', 'ADV'), ('than', 'ADP'), ('people', 'NOUN'), ('.', '.'), ('The', 'DET'), ('flow', 'NOUN'), ('of', 'ADP'), ('Japanese', 'ADJ'), ('funds', 'NOUN'), ('has', 'VERB'), ('set', 'VERB'), ('in', 'ADP'), ('motion', 'NOUN'), ('``', '.'), ('a', 'DET'), ('process', 'NOUN'), ('whereby', 'ADV'), ('these', 'DET'), ('economies', 'NOUN'), ('will', 'VERB'), ('be', 'VERB'), ('knitted', 'ADV'), ('*-1', 'X'), ('together', 'PRT'), ('by', 'ADP'), ('the', 'DET'), ('great', 'ADJ'), ('Japanese', 'ADJ'), ('investment', 'NOUN'), ('machine', 'NOUN'), ('*T*-2', 'X'), (',', '.'), (\"''\", '.'), ('says', 'VERB'), ('0', 'X'), ('*T*-3', 'X'), ('Robert', 'NOUN'), ('Hormats', 'NOUN'), (',', '.'), ('vice', 'NOUN'), ('chairman', 'NOUN'), ('of', 'ADP'), ('Goldman', 'NOUN'), ('Sachs', 'NOUN'), ('International', 'NOUN'), ('Corp', 'NOUN'), ('.', '.'), ('On', 'ADP'), ('the', 'DET'), ('other', 'ADJ'), ('hand', 'NOUN'), (',', '.'), ('if', 'ADP'), ('it', 'PRON'), ('goes', 'VERB'), ('way', 'NOUN'), ('sky', 'ADV'), ('high', 'ADJ'), (',', '.'), ('I', 'PRON'), ('always', 'ADV'), ('sell', 'VERB'), ('.', '.'), ('A', 'DET'), ('spokesman', 'NOUN'), ('for', 'ADP'), ('the', 'DET'), ('IRS', 'NOUN'), ('confirmed', 'VERB'), ('that', 'ADP'), ('``', '.'), ('there', 'DET'), ('has', 'VERB'), ('been', 'VERB'), ('correspondence', 'ADV'), ('mailed', 'ADV'), ('*', 'X'), ('about', 'ADP'), ('incomplete', 'ADJ'), ('8300s', 'ADV'), (',', '.'), (\"''\", '.'), ('but', 'CONJ'), ('he', 'PRON'), ('declined', 'VERB'), ('*-1', 'X'), ('to', 'PRT'), ('say', 'VERB'), ('why', 'ADV'), ('the', 'DET'), ('letters', 'NOUN'), ('were', 'VERB'), ('sent', 'VERB'), ('*-2', 'X'), ('to', 'PRT'), ('lawyers', 'NOUN'), ('now', 'ADV'), ('.', '.'), ('In', 'ADP'), ('the', 'DET'), ('coming', 'VERB'), ('decade', 'NOUN'), (',', '.'), ('analysts', 'NOUN'), ('say', 'VERB'), ('0', 'X'), ('*T*-2', 'X'), (',', '.'), ('U.S.-Japanese', 'ADV'), ('relations', 'NOUN'), ('will', 'VERB'), ('be', 'VERB'), ('tested', 'VERB'), ('*-1', 'X'), ('as', 'ADP'), ('Tokyo', 'NOUN'), ('comes', 'VERB'), ('to', 'PRT'), ('terms', 'NOUN'), ('with', 'ADP'), ('its', 'PRON'), ('new', 'ADJ'), ('status', 'NOUN'), ('as', 'ADP'), ('the', 'DET'), ('region', 'NOUN'), (\"'s\", 'PRT'), ('economic', 'ADJ'), ('behemoth', 'ADV'), ('.', '.'), ('Yale', 'NOUN'), ('is', 'VERB'), ('one', 'NUM'), ('of', 'ADP'), ('the', 'DET'), ('few', 'ADJ'), ('medical', 'ADJ'), ('institutions', 'NOUN'), ('conducting', 'VERB'), ('privately', 'ADV'), ('funded', 'VERB'), ('research', 'NOUN'), ('on', 'ADP'), ('fetal-tissue', 'ADJ'), ('transplants', 'NOUN'), ('.', '.'), ('More', 'ADJ'), ('common', 'ADJ'), ('chrysotile', 'NOUN'), ('fibers', 'NOUN'), ('are', 'VERB'), ('curly', 'ADV'), ('and', 'CONJ'), ('are', 'VERB'), ('more', 'ADV'), ('easily', 'ADV'), ('rejected', 'VERB'), ('*-1', 'X'), ('by', 'ADP'), ('the', 'DET'), ('body', 'NOUN'), (',', '.'), ('Dr.', 'NOUN'), ('Mossman', 'NOUN'), ('explained', 'VERB'), ('0', 'X'), ('*T*-2', 'X'), ('.', '.')]\n"
     ]
    }
   ],
   "source": [
    "print(\"Time taken in seconds: \", difference)\n",
    "print(test_tagged_seq)"
   ]
  },
  {
   "cell_type": "code",
   "execution_count": 31,
   "metadata": {},
   "outputs": [
    {
     "name": "stdout",
     "output_type": "stream",
     "text": [
      "The accuracy of the Vanilla Viterbi Algorithm is : 0.900564743848326\n"
     ]
    }
   ],
   "source": [
    "# accuracy of the vanilla viterbi algorithm\n",
    "\n",
    "check = [i for i, j in zip(test_tagged_seq, tagged_words) if i == j]\n",
    "\n",
    "vanilla_viterbi_accuracy = len(check)/len(test_tagged_seq)\n",
    "\n",
    "print(\"The accuracy of the Vanilla Viterbi Algorithm is :\", vanilla_viterbi_accuracy)"
   ]
  },
  {
   "cell_type": "code",
   "execution_count": 32,
   "metadata": {},
   "outputs": [
    {
     "name": "stdout",
     "output_type": "stream",
     "text": [
      "493\n"
     ]
    }
   ],
   "source": [
    "# understand the incorrect tagged cases\n",
    "\n",
    "incorrect_tagged_cases = [[tagged_words[i-1],j] for i, j in enumerate(zip(test_tagged_seq, tagged_words)) if j[0]!=j[1]]\n",
    "print(len(incorrect_tagged_cases))\n",
    "#incorrect_tagged_cases"
   ]
  },
  {
   "cell_type": "markdown",
   "metadata": {},
   "source": [
    "<b><u><h3><font color = 'green'> Unknow words </h3></u></b>"
   ]
  },
  {
   "cell_type": "code",
   "execution_count": 33,
   "metadata": {},
   "outputs": [
    {
     "name": "stdout",
     "output_type": "stream",
     "text": [
      "Total Unknown words : 354\n",
      "\n",
      "\n",
      "Unknown Words :\n",
      "\n",
      " ['F.H.', 'enjoy', 'sit', 'boarding', '23,403', 'tallies', 'Kawasaki', '16.05', 'Composer', 'verge', 'bass', 'sterling', 'gubernatorial', '11.5', 'cultivated', 'spook', 'intraocular', 'arrested', 'lawmaking', 'Mortimer', 'Brenda', 'lay', 'early-retirement', 'curly', 'predictable', '2,700', 'remorse', 'NBC-owned', 'Angelo', '1998', 'execs', 'computerize', 'retorts', '1.916', 'Unfortunately', 'decries', 'indexes', 'estimation', '95.09', 'export-oriented', 'lasting', 'Seattle', 'Topix', 'Barclays', 'less-than-brilliant', '138', 'Marty', 'Bellows', 'diethylstilbestrol', 'centralized', 'muster', 'POTABLES', '*-158', 'excited', '420', 'U.S.-Japanese', 'discounts', 'ethanol', 'brightened', 'underscore', 'arrival', 'fixtures', 'devoted', 'sorts', 'collective-bargaining', 'Marder', 'Heavy', 'sticker-shock', 'reps', '88.32', 'acquirers', \"'50s\", 'Desai', 'counteract', 'Convention', 'astronomical', 'docile', 'Osborn', 'Beginning', 'WTVJ', '4,393,237', 'Geneva', 'barometer', 'overvalued', 'Dick', 'assisted', 'journalists', 'severance', 'clerics', 'tow', 'bust', 'cult', 'Though', 'savvier', 'odd-year', 'cloud', 'mistakes', 'galvanized', 'Norwalk', 'disclosing', '0.05', 'Kerensky', 'Antinori', 'Greer', 'Make', 'Circulations', 'grand', '*T*-250', 'short-wave', 'Mattress', 'PORTING', 'Gaja', '5.435', 'Malizia', 'comfort', 'committing', 'visits', '149.9', 'nervousness', 'ethics', 'legislators', 'logistical', 'centimeter', 'Schwab', 'PRODUCTS', 'gloomy', 'classical', 'goverment', 'feelings', 'stoppage', 'personally', 'Manfred', 'chairs', 'Scypher', 'Short', 'Rail', 'newsweekly', 'exciting', '263.07', 'Nelms', 'sky', 'sassy', 'Putty', '370', 'skepticism', 'accounted', 'Appellate', '139', 'IT', 'outcry', 'sprawling', 'deviant', '618.1', 'richer', 'Hold', '*T*-125', '77.6', 'intertitles', 'Solaia', 'Compare', 'Cup-Tote', '*-132', '1940s', 'single-handed', 'reallocated', 'Purepac', 'foldable', 'audience', 'Ruth', 'correspondence', 'absorbed', 'till', 'structural', 'pioneer', 'transcribe', 'Stockbrokers', 'amortization', 'Zuckerman', 'ensembles', 'scrupulously', 'Audit', 'Indexing', '*T*-135', 'characters', 'coated', 'interior', 'PhacoFlex', 'Marc', 'Buckhead', 'prisoners', 'expressing', 'collection', 'sensitive', 'briefings', 'longstanding', 'bedding', 'persuasion', 'summer\\\\/winter', 'label', '18,000', 'continuous', \"'S\", 'transporting', 'pipe', 'court-ordered', 'enclosed', 'calculated', 'staying', '*T*-163', 'lucky', '*T*-132', 'architects', 'muzzling', '94.8', 'Piero', 'issuer', '1917', 'Cullowhee', 'feeds', '*T*-134', 'sickness', 'hormone', '*-93', 'Preliminary', 'common-law', '700', 'stare', 'Lobo', 'differential', 'Kalipharma', 'Gingl', 'inching', 'autos', 'Atsushi', 'firmed', 'restructures', 'remarkable', 'unsettled', 'Midland', '2691.19', 'vision', 'prestige', 'knitted', 'rises', 'propose', 'Citibank', 'thieves', 'seized', 'Citicorp', 'Totally', 'ballots', 'EC', '1.46', 'protected', 'TWO', 'smoothly', 'experienced', 'mailed', '3,600', '141.9', 'citizen-sparked', 'Programs', 'shared', 'altogether', 'security-type', '89.7', 'south', 'fleet', 'tour', 'Muramatsu', 'skill', 'saving', 'recommendation', 'Communists', 'pre-approved', 'difficulties', 'presumes', 'girlfriend', 'bell-ringer', '*T*-199', '8300s', 'blip', '490', 'faltered', 'blender', 'pulls', 'spectacular', 'Perspective', 'rope-sight', 'Negus', 'growers', 'middle-ground', '1.637', 'silicone', 'amps', 'Back', 'niches', 'arrive', 'prescient', 'shallow', '1787', 'short-lived', 'Fuji', 'replicating', 'achieved', 'contributors', 'punishment', 'budding', 'Lt.', 'balkanized', 'unwind', 'whereby', 'speeches', 'Hart-Scott-Rodino', 'behemoth', 'miscarriages', 'eclectic', 'reservoirs', 'Parents', 'Constitutional', '1980', 'briefing', 'decorator', 'GOODY', 'cuvees', 'Barbaresco', 'prohibited', 'noticed', 'Jersey-based', 'Send', 'exhausted', '*-156', 'Civil', '47.5', 'backdrop', 'explaining', 'enjoyed', 'talked', 'captive', '*T*-204', '1.9', 'butterfly', 'injecting', 'gamut', 'lower-priced', 'mammoth', \"'40s\", 'BIRDS', '*T*-165', 'relieved', '292.32', 'repeatedly', 'strictly', 'Napolitan']\n"
     ]
    }
   ],
   "source": [
    "# Unknown words \n",
    "\n",
    "test_vocab_set = set([t for t in test_tagged_words])\n",
    "\n",
    "unknown_words = list(test_vocab_set - training_vocabulary_set)\n",
    "print(\"Total Unknown words :\", len(unknown_words))\n",
    "print(\"\\n\")\n",
    "print(\"Unknown Words :\\n\\n\", unknown_words)"
   ]
  },
  {
   "cell_type": "markdown",
   "metadata": {},
   "source": [
    "<b><u><h3><font color = 'green'>  Solve the problem of Unknown Words </h3></u></b>"
   ]
  },
  {
   "cell_type": "markdown",
   "metadata": {},
   "source": [
    "<b><u><h3><font color = 'green'>Method 1 </h3></u></b>"
   ]
  },
  {
   "cell_type": "markdown",
   "metadata": {},
   "source": [
    "###### Vanilla Viterbi algorithm achieved an accuracy of about 90%. This approx. 10% loss of accuracy.\n",
    "\n",
    "###### Loss was majorly due to unknown word (i.e. not present in the training set), it assigned an incorrect tag arbitrarily. This is because, for unknown words, the emission probabilities for all candidate tags are 0, so the algorithm arbitrarily chooses (the first) tag.\n",
    "\n",
    "###### If unknown word in the training vocabulary then its emission probability will be ZERO and state probability will inturn be ZERO.\n",
    "\n",
    "##### If unknown word encounters, we can omit Emission probability and  consider Transition probability"
   ]
  },
  {
   "cell_type": "code",
   "execution_count": 34,
   "metadata": {},
   "outputs": [],
   "source": [
    "# tagging the test sentences\n",
    "start = time.time()\n",
    "unknown_word_test_tagged_seq = unknown_words_with_vanilla_viterbi(test_tagged_words)\n",
    "\n",
    "# accuracy\n",
    "test_unknown_word_check = [i for i, j in zip(unknown_word_test_tagged_seq, tagged_words) if i == j]\n",
    "\n",
    "optimized_viterbi_accuracy = len(test_unknown_word_check)/len(unknown_word_test_tagged_seq)\n",
    "\n",
    "end = time.time()\n",
    "difference = end-start"
   ]
  },
  {
   "cell_type": "code",
   "execution_count": 35,
   "metadata": {},
   "outputs": [
    {
     "name": "stdout",
     "output_type": "stream",
     "text": [
      "Time taken in seconds:  1322.4564156532288\n",
      "Accuracy of the Vanilla Viterbi Algorithm after modification to handle unknown words is: 0.9352561516740622\n"
     ]
    }
   ],
   "source": [
    "print(\"Time taken in seconds: \", difference)\n",
    "print(\"Accuracy of the Vanilla Viterbi Algorithm after modification to handle unknown words is:\", optimized_viterbi_accuracy)"
   ]
  },
  {
   "cell_type": "markdown",
   "metadata": {},
   "source": [
    "##### Accuracies: "
   ]
  },
  {
   "cell_type": "code",
   "execution_count": 36,
   "metadata": {},
   "outputs": [
    {
     "name": "stdout",
     "output_type": "stream",
     "text": [
      "Vanilla Viterbi Algorithm  : 90.06%\n",
      "Vanilla Viterbi Algorithm with handling unknown words: 93.53%\n",
      "Still approx. 6.47% loss present , so try with some Lexicon and Rule-Based Models for POS Tagging\n"
     ]
    }
   ],
   "source": [
    "vanilla_accuracy = round(vanilla_viterbi_accuracy, 4)*100\n",
    "optimized_vanilla_accuracy = round(optimized_viterbi_accuracy, 4)*100 \n",
    "accuracy_loss = round(100 - optimized_vanilla_accuracy, 2)\n",
    "\n",
    "print(f'Vanilla Viterbi Algorithm  : {vanilla_accuracy}%')\n",
    "\n",
    "print(f'Vanilla Viterbi Algorithm with handling unknown words: {optimized_vanilla_accuracy}%')\n",
    "\n",
    "print(f'Still approx. {accuracy_loss}% loss present , so try with some Lexicon and Rule-Based Models for POS Tagging')"
   ]
  },
  {
   "cell_type": "code",
   "execution_count": 37,
   "metadata": {},
   "outputs": [
    {
     "name": "stdout",
     "output_type": "stream",
     "text": [
      "Unigram Tagger Accuracy:  0.8981444130697862\n"
     ]
    }
   ],
   "source": [
    "# Unigram Tagger\n",
    "\n",
    "unigram_tagger = nltk.UnigramTagger(train_set)\n",
    "unigram_tagger_accuracy = unigram_tagger.evaluate(test_set)\n",
    "print(\"Unigram Tagger Accuracy: \", unigram_tagger_accuracy)"
   ]
  },
  {
   "cell_type": "markdown",
   "metadata": {},
   "source": [
    "Combining the Unigram Tagger with a rule based regex tagger."
   ]
  },
  {
   "cell_type": "code",
   "execution_count": 38,
   "metadata": {},
   "outputs": [],
   "source": [
    "# rule based regex tagger\n",
    "\n",
    "patterns = [\n",
    "    (r'^[aA-zZ].*[0-9]+','NOUN'),  # Alpha Numeric\n",
    "    (r'.*ness$', 'NOUN'),\n",
    "    (r'.*\\'s$', 'NOUN'),              # possessive nouns\n",
    "    (r'.*s$', 'NOUN'),                # plural nouns\n",
    "    (r'.*', 'NOUN'),    \n",
    "    (r'.*ly$', 'ADV'),\n",
    "    (r'^(0|([*|-|$].*))','X'), # Any special character combination\n",
    "    (r'.*ould$', 'X'), # modals\n",
    "    (r'(The|the|A|a|An|an)$', 'DET'),\n",
    "    (r'^([0-9]|[aA-zZ])+\\-[aA-zZ]*$','ADJ'),\n",
    "    (r'.*able$', 'ADJ'), # adjective like 100-megabytes 237-Seats\n",
    "    (r'[aA-zZ]+(ed|ing|es)$', 'VERB'), # Any word ending with 'ing' or 'ed' is a verb\n",
    "    (r'[0-9].?[,\\/]?[0-9]*','NUM')# Numbers \n",
    "    ]"
   ]
  },
  {
   "cell_type": "code",
   "execution_count": 39,
   "metadata": {},
   "outputs": [],
   "source": [
    "# rule based RegexpTagger\n",
    "\n",
    "rule_based_tagger = nltk.RegexpTagger(patterns)\n",
    "\n",
    "# unigram tagger backed up by the rule-based tagger\n",
    "rule_based_unigram_tagger = nltk.UnigramTagger(train_set, backoff = rule_based_tagger)\n",
    "\n",
    "accuracy_rule_based_unigram_tagger = rule_based_unigram_tagger.evaluate(test_set)"
   ]
  },
  {
   "cell_type": "code",
   "execution_count": 40,
   "metadata": {},
   "outputs": [
    {
     "name": "stdout",
     "output_type": "stream",
     "text": [
      "Unigram Tagger Accuracy backed up by the RegexpTagger: 0.9328358208955224\n"
     ]
    }
   ],
   "source": [
    "print(\"Unigram Tagger Accuracy backed up by the RegexpTagger:\", accuracy_rule_based_unigram_tagger)"
   ]
  },
  {
   "cell_type": "code",
   "execution_count": 41,
   "metadata": {},
   "outputs": [],
   "source": [
    "# Bigram tagger\n",
    "\n",
    "bigram_tagger = nltk.BigramTagger(train_set, backoff = rule_based_unigram_tagger)\n",
    "bigram_tagger.evaluate(test_set)\n",
    "accuracy_bigram_tagger = bigram_tagger.evaluate(test_set)"
   ]
  },
  {
   "cell_type": "code",
   "execution_count": 42,
   "metadata": {},
   "outputs": [
    {
     "name": "stdout",
     "output_type": "stream",
     "text": [
      "Bigram Tagger Accuracy backed up by the rule based unigram tagger: 0.936062928600242\n"
     ]
    }
   ],
   "source": [
    "print(\"Bigram Tagger Accuracy backed up by the rule based unigram tagger:\", accuracy_bigram_tagger)"
   ]
  },
  {
   "cell_type": "code",
   "execution_count": 43,
   "metadata": {},
   "outputs": [],
   "source": [
    "# trigram tagger\n",
    "\n",
    "trigram_tagger = nltk.TrigramTagger(train_set, backoff = bigram_tagger)\n",
    "trigram_tagger.evaluate(test_set)\n",
    "accuracy_trigram_tagger = trigram_tagger.evaluate(test_set)"
   ]
  },
  {
   "cell_type": "code",
   "execution_count": 44,
   "metadata": {},
   "outputs": [
    {
     "name": "stdout",
     "output_type": "stream",
     "text": [
      "Trigram Tagger accuracy backed up by the bigram tagger: 0.9334409035901573\n"
     ]
    }
   ],
   "source": [
    "print(\"Trigram Tagger accuracy backed up by the bigram tagger:\", accuracy_trigram_tagger)"
   ]
  },
  {
   "cell_type": "markdown",
   "metadata": {},
   "source": [
    "<b><u><h3><font color = 'green'> Method 2 </h3></u></b>\n",
    "###### Trigram Tagger backed up by the bigram tagger accuracy is: 93.55%. \n",
    "\n",
    "###### Modify the viterbi algorithm to use trigram tagger as a back-off. \n",
    "\n",
    "###### When the Viterbi algorithm is not able to tag an unknown word, it uses the rule-based tagger."
   ]
  },
  {
   "cell_type": "code",
   "execution_count": 45,
   "metadata": {},
   "outputs": [],
   "source": [
    "# function trigram_tagger\n",
    "def trigram_tagger(word, train_set = train_set):\n",
    "    \n",
    "    patterns = [\n",
    "    (r'[aA-zZ]+(ed|ing|es)$', 'VERB'), # Any word ending with 'ing' or 'ed' is a verb\n",
    "\n",
    "    (r'.*ly$', 'ADV'),\n",
    "        \n",
    "    (r'^([0-9]|[aA-zZ])+\\-[aA-zZ]*$','ADJ'),\n",
    "    (r'.*able$', 'ADJ'), \n",
    "    (r'.*ful$', 'ADJ'),\n",
    "    (r'.*ous$', 'ADJ'),\n",
    "        \n",
    "    (r'^[aA-zZ].*[0-9]+','NOUN'),     # Alpha Numeric\n",
    "    (r'.*ness$', 'NOUN'),\n",
    "    (r'.*\\'s$', 'NOUN'),              # possessive nouns - words ending with 's\n",
    "    (r'.*s$', 'NOUN'),                # plural nouns\n",
    "    (r'.*ers$', 'NOUN'),              # eg.- kinderganteners, autobioghapgers\n",
    "    (r'.*ment$', 'NOUN'),\n",
    "    (r'.*town$', 'NOUN'),\n",
    "        \n",
    "    (r'^(0|([*|-|$].*))','X'), # Any special character combination\n",
    "    (r'.*ould$', 'X'),\n",
    "        \n",
    "    (r'(The|the|A|a|An|an|That|that|This|this|Those|those|These|these)$', 'DET'), # That/this/these/those belong to the category of Demonstrative determiners\n",
    "    (r'[0-9].?[,\\/]?[0-9]*','NUM'), # Numbers \n",
    "        \n",
    "    (r'.*', 'NOUN')\n",
    "    ]\n",
    "\n",
    "    regex_based_tagger = nltk.RegexpTagger(patterns)\n",
    "\n",
    "    # trigram backed up by the regex tagger\n",
    "    trigram_regex_tagger = nltk.TrigramTagger(train_set, backoff = regex_based_tagger)\n",
    "    return trigram_regex_tagger.tag_sents([[(word)]])"
   ]
  },
  {
   "cell_type": "code",
   "execution_count": 46,
   "metadata": {},
   "outputs": [],
   "source": [
    "#function Viterbi_Backedup_By_Trigram_Tagger\n",
    "def Viterbi_Backedup_By_Trigram_Tagger(words, training_bag = training_tagged_words):\n",
    "    state = []\n",
    "    tag_set = list(set(get_tuple_value_from_list(training_bag, 1))) #list(set([pair[1] for pair in training_bag]))\n",
    "    \n",
    "    # unknown words with trigram tagger backed up by the rule based tagger\n",
    "\n",
    "    for key, word in enumerate(words):\n",
    "        if word not in training_vocabulary_set:\n",
    "            unknown_word_tag = trigram_tagger(word)\n",
    "            for sent in unknown_word_tag:\n",
    "                for tup in sent:\n",
    "                    state.append(tup[1])\n",
    "        else:            \n",
    "            p = [] \n",
    "            for tag in tag_set:\n",
    "                if key == 0:\n",
    "                    transition_p = df_tags.loc['.', tag]\n",
    "                else:\n",
    "                    transition_p = df_tags.loc[state[-1], tag]\n",
    "                \n",
    "            # compute emission and state probabilities\n",
    "                emission_p = emission_probability_word_given_tag(words[key], tag)[0]/emission_probability_word_given_tag(words[key], tag)[1]\n",
    "                state_probability = emission_p * transition_p    \n",
    "                p.append(state_probability)\n",
    "            \n",
    "            pmax = max(p)\n",
    "            # getting state for which probability is maximum\n",
    "            state_max = tag_set[p.index(pmax)] \n",
    "            state.append(state_max)\n",
    "    return list(zip(words, state))"
   ]
  },
  {
   "cell_type": "markdown",
   "metadata": {},
   "source": [
    "<b><u><h3><font color = 'green'>Evaluating tagging accuracy </h3></u></b>"
   ]
  },
  {
   "cell_type": "code",
   "execution_count": 47,
   "metadata": {},
   "outputs": [],
   "source": [
    "# tagging the test sentences\n",
    "start = time.time()\n",
    "viterbi_trigram_tagged_seq = Viterbi_Backedup_By_Trigram_Tagger(test_tagged_words)\n",
    "\n",
    "# accuracy\n",
    "viterbi_trigram_word_check = [i for i, j in zip(viterbi_trigram_tagged_seq, tagged_words) if i == j]\n",
    "\n",
    "viterbi_trigram_accuracy = len(viterbi_trigram_word_check)/len(viterbi_trigram_tagged_seq)\n",
    "end = time.time()\n",
    "difference = end-start"
   ]
  },
  {
   "cell_type": "code",
   "execution_count": 48,
   "metadata": {},
   "outputs": [
    {
     "name": "stdout",
     "output_type": "stream",
     "text": [
      "Time taken in seconds:  3603.910690307617\n",
      "viterbi backed up by trigram tagger accuracy: 0.9538120209762001\n"
     ]
    }
   ],
   "source": [
    "print(\"Time taken in seconds: \", difference)\n",
    "print(\"viterbi backed up by trigram tagger accuracy:\", viterbi_trigram_accuracy)"
   ]
  },
  {
   "cell_type": "markdown",
   "metadata": {},
   "source": [
    "<b><u><h3><font color = 'green'> Compare tagging accuracies of the modifications with the Vanilla Viterbi algorithm</h3></u></b>\n",
    "    \n",
    "<b><u><h5><font color = 'green'> 1. Check tagging accuracy on the test_set data generated using the test_train_split</h5></u></b>"
   ]
  },
  {
   "cell_type": "code",
   "execution_count": 49,
   "metadata": {},
   "outputs": [
    {
     "data": {
      "text/html": [
       "<div>\n",
       "<style scoped>\n",
       "    .dataframe tbody tr th:only-of-type {\n",
       "        vertical-align: middle;\n",
       "    }\n",
       "\n",
       "    .dataframe tbody tr th {\n",
       "        vertical-align: top;\n",
       "    }\n",
       "\n",
       "    .dataframe thead th {\n",
       "        text-align: right;\n",
       "    }\n",
       "</style>\n",
       "<table border=\"1\" class=\"dataframe\">\n",
       "  <thead>\n",
       "    <tr style=\"text-align: right;\">\n",
       "      <th></th>\n",
       "      <th>Tagging_Accuracy</th>\n",
       "    </tr>\n",
       "    <tr>\n",
       "      <th>Tagging_Algorithm</th>\n",
       "      <th></th>\n",
       "    </tr>\n",
       "  </thead>\n",
       "  <tbody>\n",
       "    <tr>\n",
       "      <td>Vanilla Viterbi</td>\n",
       "      <td>90.056474</td>\n",
       "    </tr>\n",
       "    <tr>\n",
       "      <td>Optimized Vanilla Viterbi</td>\n",
       "      <td>93.525615</td>\n",
       "    </tr>\n",
       "    <tr>\n",
       "      <td>Unigram Tagger</td>\n",
       "      <td>89.814441</td>\n",
       "    </tr>\n",
       "    <tr>\n",
       "      <td>Unigram + RegexpTagger</td>\n",
       "      <td>93.283582</td>\n",
       "    </tr>\n",
       "    <tr>\n",
       "      <td>Bigram Tagger + Unigram_tagger</td>\n",
       "      <td>93.606293</td>\n",
       "    </tr>\n",
       "    <tr>\n",
       "      <td>Trigram Tagger + Bigram_tagger</td>\n",
       "      <td>93.344090</td>\n",
       "    </tr>\n",
       "    <tr>\n",
       "      <td>Viterbi + Trigram_tagger</td>\n",
       "      <td>95.381202</td>\n",
       "    </tr>\n",
       "  </tbody>\n",
       "</table>\n",
       "</div>"
      ],
      "text/plain": [
       "                                Tagging_Accuracy\n",
       "Tagging_Algorithm                               \n",
       "Vanilla Viterbi                        90.056474\n",
       "Optimized Vanilla Viterbi              93.525615\n",
       "Unigram Tagger                         89.814441\n",
       "Unigram + RegexpTagger                 93.283582\n",
       "Bigram Tagger + Unigram_tagger         93.606293\n",
       "Trigram Tagger + Bigram_tagger         93.344090\n",
       "Viterbi + Trigram_tagger               95.381202"
      ]
     },
     "execution_count": 49,
     "metadata": {},
     "output_type": "execute_result"
    }
   ],
   "source": [
    "data_acccuracy = [['Vanilla Viterbi', vanilla_viterbi_accuracy*100], \n",
    "                  ['Optimized Vanilla Viterbi', optimized_viterbi_accuracy*100], \n",
    "                  ['Unigram Tagger', unigram_tagger_accuracy*100],\n",
    "                  ['Unigram + RegexpTagger', accuracy_rule_based_unigram_tagger*100],\n",
    "                  ['Bigram Tagger + Unigram_tagger', accuracy_bigram_tagger*100],\n",
    "                  ['Trigram Tagger + Bigram_tagger', accuracy_trigram_tagger*100],\n",
    "                  ['Viterbi + Trigram_tagger', viterbi_trigram_accuracy*100]]\n",
    "\n",
    "df_data_acccuracy = pd.DataFrame(data_acccuracy, columns = ['Tagging_Algorithm', 'Tagging_Accuracy'])\n",
    "\n",
    "df_data_acccuracy.set_index('Tagging_Algorithm', drop = True, inplace = True)\n",
    "\n",
    "df_data_acccuracy"
   ]
  },
  {
   "cell_type": "code",
   "execution_count": 50,
   "metadata": {},
   "outputs": [
    {
     "data": {
      "text/plain": [
       "<matplotlib.axes._subplots.AxesSubplot at 0x17e7ea62ec8>"
      ]
     },
     "execution_count": 50,
     "metadata": {},
     "output_type": "execute_result"
    },
    {
     "data": {
      "image/png": "[encoded data removed]",
      "text/plain": [
       "<Figure size 432x288 with 1 Axes>"
      ]
     },
     "metadata": {
      "needs_background": "light"
     },
     "output_type": "display_data"
    }
   ],
   "source": [
    "df_data_acccuracy.plot.line(rot = 90, legend = False)"
   ]
  },
  {
   "cell_type": "markdown",
   "metadata": {},
   "source": [
    "<b><u><h5><font color = 'green'>2. Check tagging accuracies for the algorithm on the sample test sentences </h5></u></b>"
   ]
  },
  {
   "cell_type": "code",
   "execution_count": 51,
   "metadata": {},
   "outputs": [],
   "source": [
    "test_sentences = []\n",
    "test_file = open(file_path + file_name, 'r')\n",
    "\n",
    "for line in test_file:\n",
    "    test_sentences.append(line)\n",
    "test_file.close()"
   ]
  },
  {
   "cell_type": "code",
   "execution_count": 52,
   "metadata": {},
   "outputs": [
    {
     "data": {
      "text/plain": [
       "[[('Android', 'NOUN'),\n",
       "  ('is', 'VERB'),\n",
       "  ('a', 'DET'),\n",
       "  ('mobile', 'ADJ'),\n",
       "  ('operating', 'NOUN'),\n",
       "  ('system', 'NOUN'),\n",
       "  ('developed', 'VERB'),\n",
       "  ('by', 'ADP'),\n",
       "  ('Google', 'NOUN'),\n",
       "  ('.', '.')],\n",
       " [('Android', 'NOUN'),\n",
       "  ('has', 'VERB'),\n",
       "  ('been', 'VERB'),\n",
       "  ('the', 'DET'),\n",
       "  ('best-selling', 'ADJ'),\n",
       "  ('OS', 'NOUN'),\n",
       "  ('worldwide', 'NOUN'),\n",
       "  ('on', 'ADP'),\n",
       "  ('smartphones', 'NOUN'),\n",
       "  ('since', 'ADP'),\n",
       "  ('2011', 'NUM'),\n",
       "  ('and', 'CONJ'),\n",
       "  ('on', 'ADP'),\n",
       "  ('tablets', 'NOUN'),\n",
       "  ('since', 'ADP'),\n",
       "  ('2013', 'NUM'),\n",
       "  ('.', '.')],\n",
       " [('Google', 'NOUN'),\n",
       "  ('and', 'CONJ'),\n",
       "  ('Twitter', 'NOUN'),\n",
       "  ('made', 'VERB'),\n",
       "  ('a', 'DET'),\n",
       "  ('deal', 'NOUN'),\n",
       "  ('in', 'ADP'),\n",
       "  ('2015', 'NUM'),\n",
       "  ('that', 'DET'),\n",
       "  ('gave', 'VERB'),\n",
       "  ('Google', 'NOUN'),\n",
       "  ('access', 'NOUN'),\n",
       "  ('to', 'PRT'),\n",
       "  ('Twitter', 'NOUN'),\n",
       "  (\"'s\", 'PRT'),\n",
       "  ('firehose', 'NOUN'),\n",
       "  ('.', '.')],\n",
       " [('Twitter', 'NOUN'),\n",
       "  ('is', 'VERB'),\n",
       "  ('an', 'DET'),\n",
       "  ('online', 'ADJ'),\n",
       "  ('news', 'NOUN'),\n",
       "  ('and', 'CONJ'),\n",
       "  ('social', 'ADJ'),\n",
       "  ('networking', 'NOUN'),\n",
       "  ('service', 'NOUN'),\n",
       "  ('on', 'ADP'),\n",
       "  ('which', 'DET'),\n",
       "  ('users', 'NOUN'),\n",
       "  ('post', 'NOUN'),\n",
       "  ('and', 'CONJ'),\n",
       "  ('interact', 'NOUN'),\n",
       "  ('with', 'ADP'),\n",
       "  ('messages', 'NOUN'),\n",
       "  ('known', 'VERB'),\n",
       "  ('as', 'ADP'),\n",
       "  ('tweets', 'NOUN'),\n",
       "  ('.', '.')],\n",
       " [('Before', 'ADP'),\n",
       "  ('entering', 'VERB'),\n",
       "  ('politics', 'NOUN'),\n",
       "  (',', '.'),\n",
       "  ('Donald', 'NOUN'),\n",
       "  ('Trump', 'NOUN'),\n",
       "  ('was', 'VERB'),\n",
       "  ('a', 'DET'),\n",
       "  ('domineering', 'ADJ'),\n",
       "  ('businessman', 'NOUN'),\n",
       "  ('and', 'CONJ'),\n",
       "  ('a', 'DET'),\n",
       "  ('television', 'NOUN'),\n",
       "  ('personality', 'NOUN'),\n",
       "  ('.', '.')],\n",
       " [('The', 'DET'),\n",
       "  ('2018', 'NUM'),\n",
       "  ('FIFA', 'NOUN'),\n",
       "  ('World', 'NOUN'),\n",
       "  ('Cup', 'NOUN'),\n",
       "  ('is', 'VERB'),\n",
       "  ('the', 'DET'),\n",
       "  ('21st', 'NUM'),\n",
       "  ('FIFA', 'NOUN'),\n",
       "  ('World', 'NOUN'),\n",
       "  ('Cup', 'NOUN'),\n",
       "  (',', '.'),\n",
       "  ('an', 'DET'),\n",
       "  ('international', 'ADJ'),\n",
       "  ('football', 'NOUN'),\n",
       "  ('tournament', 'NOUN'),\n",
       "  ('contested', 'VERB'),\n",
       "  ('once', 'ADV'),\n",
       "  ('every', 'DET'),\n",
       "  ('four', 'NUM'),\n",
       "  ('years', 'NOUN'),\n",
       "  ('.', '.')],\n",
       " [('This', 'DET'),\n",
       "  ('is', 'VERB'),\n",
       "  ('the', 'DET'),\n",
       "  ('first', 'ADJ'),\n",
       "  ('World', 'NOUN'),\n",
       "  ('Cup', 'NOUN'),\n",
       "  ('to', 'PRT'),\n",
       "  ('be', 'VERB'),\n",
       "  ('held', 'VERB'),\n",
       "  ('in', 'ADP'),\n",
       "  ('Eastern', 'NOUN'),\n",
       "  ('Europe', 'NOUN'),\n",
       "  ('and', 'CONJ'),\n",
       "  ('the', 'DET'),\n",
       "  ('11th', 'NUM'),\n",
       "  ('time', 'NOUN'),\n",
       "  ('that', 'ADP'),\n",
       "  ('it', 'PRON'),\n",
       "  ('has', 'VERB'),\n",
       "  ('been', 'VERB'),\n",
       "  ('held', 'VERB'),\n",
       "  ('in', 'ADP'),\n",
       "  ('Europe', 'NOUN'),\n",
       "  ('.', '.')],\n",
       " [('Show', 'VERB'),\n",
       "  ('me', 'PRON'),\n",
       "  ('the', 'DET'),\n",
       "  ('cheapest', 'ADJ'),\n",
       "  ('round', 'NOUN'),\n",
       "  ('trips', 'NOUN'),\n",
       "  ('from', 'ADP'),\n",
       "  ('Dallas', 'NOUN'),\n",
       "  ('to', 'PRT'),\n",
       "  ('Atlanta', 'VERB')],\n",
       " [('I', 'PRON'),\n",
       "  ('would', 'VERB'),\n",
       "  ('like', 'VERB'),\n",
       "  ('to', 'PRT'),\n",
       "  ('see', 'VERB'),\n",
       "  ('flights', 'NOUN'),\n",
       "  ('from', 'ADP'),\n",
       "  ('Denver', 'NOUN'),\n",
       "  ('to', 'PRT'),\n",
       "  ('Philadelphia', 'NOUN'),\n",
       "  ('.', '.')],\n",
       " [('Show', 'VERB'),\n",
       "  ('me', 'PRON'),\n",
       "  ('the', 'DET'),\n",
       "  ('price', 'NOUN'),\n",
       "  ('of', 'ADP'),\n",
       "  ('the', 'DET'),\n",
       "  ('flights', 'NOUN'),\n",
       "  ('leaving', 'VERB'),\n",
       "  ('Atlanta', 'NOUN'),\n",
       "  ('at', 'ADP'),\n",
       "  ('about', 'ADV'),\n",
       "  ('3', 'NUM'),\n",
       "  ('in', 'ADP'),\n",
       "  ('the', 'DET'),\n",
       "  ('afternoon', 'NOUN'),\n",
       "  ('and', 'CONJ'),\n",
       "  ('arriving', 'NOUN'),\n",
       "  ('in', 'ADP'),\n",
       "  ('San', 'NOUN'),\n",
       "  ('Francisco', 'NOUN'),\n",
       "  ('.', '.')],\n",
       " [('NASA', 'NOUN'),\n",
       "  ('invited', 'VERB'),\n",
       "  ('social', 'ADJ'),\n",
       "  ('media', 'NOUN'),\n",
       "  ('users', 'NOUN'),\n",
       "  ('to', 'PRT'),\n",
       "  ('experience', 'VERB'),\n",
       "  ('the', 'DET'),\n",
       "  ('launch', 'NOUN'),\n",
       "  ('of', 'ADP'),\n",
       "  ('ICESAT-2', 'NOUN'),\n",
       "  ('Satellite', 'NOUN'),\n",
       "  ('.', '.')],\n",
       " [],\n",
       " []]"
      ]
     },
     "execution_count": 52,
     "metadata": {},
     "output_type": "execute_result"
    }
   ],
   "source": [
    "test_tokenized_sents = [word_tokenize(sent) for sent in test_sentences]\n",
    "test_corpus_pos_tags = nltk.pos_tag_sents(test_tokenized_sents, tagset = 'universal')\n",
    "test_corpus_pos_tags"
   ]
  },
  {
   "cell_type": "code",
   "execution_count": 53,
   "metadata": {},
   "outputs": [],
   "source": [
    "# untagged words from the test data provided\n",
    "test_tagged_words = get_nested_tuple_from_list(test_corpus_pos_tags, 0)\n",
    "\n",
    "# tagged words\n",
    "tagged_words_test_run_base  = get_nested_tuple_from_list(test_corpus_pos_tags, -1)"
   ]
  },
  {
   "cell_type": "code",
   "execution_count": 54,
   "metadata": {},
   "outputs": [
    {
     "data": {
      "text/plain": [
       "['Android',\n",
       " 'is',\n",
       " 'a',\n",
       " 'mobile',\n",
       " 'operating',\n",
       " 'system',\n",
       " 'developed',\n",
       " 'by',\n",
       " 'Google',\n",
       " '.',\n",
       " 'Android',\n",
       " 'has',\n",
       " 'been',\n",
       " 'the',\n",
       " 'best-selling',\n",
       " 'OS',\n",
       " 'worldwide',\n",
       " 'on',\n",
       " 'smartphones',\n",
       " 'since',\n",
       " '2011',\n",
       " 'and',\n",
       " 'on',\n",
       " 'tablets',\n",
       " 'since',\n",
       " '2013',\n",
       " '.',\n",
       " 'Google',\n",
       " 'and',\n",
       " 'Twitter',\n",
       " 'made',\n",
       " 'a',\n",
       " 'deal',\n",
       " 'in',\n",
       " '2015',\n",
       " 'that',\n",
       " 'gave',\n",
       " 'Google',\n",
       " 'access',\n",
       " 'to',\n",
       " 'Twitter',\n",
       " \"'s\",\n",
       " 'firehose',\n",
       " '.',\n",
       " 'Twitter',\n",
       " 'is',\n",
       " 'an',\n",
       " 'online',\n",
       " 'news',\n",
       " 'and',\n",
       " 'social',\n",
       " 'networking',\n",
       " 'service',\n",
       " 'on',\n",
       " 'which',\n",
       " 'users',\n",
       " 'post',\n",
       " 'and',\n",
       " 'interact',\n",
       " 'with',\n",
       " 'messages',\n",
       " 'known',\n",
       " 'as',\n",
       " 'tweets',\n",
       " '.',\n",
       " 'Before',\n",
       " 'entering',\n",
       " 'politics',\n",
       " ',',\n",
       " 'Donald',\n",
       " 'Trump',\n",
       " 'was',\n",
       " 'a',\n",
       " 'domineering',\n",
       " 'businessman',\n",
       " 'and',\n",
       " 'a',\n",
       " 'television',\n",
       " 'personality',\n",
       " '.',\n",
       " 'The',\n",
       " '2018',\n",
       " 'FIFA',\n",
       " 'World',\n",
       " 'Cup',\n",
       " 'is',\n",
       " 'the',\n",
       " '21st',\n",
       " 'FIFA',\n",
       " 'World',\n",
       " 'Cup',\n",
       " ',',\n",
       " 'an',\n",
       " 'international',\n",
       " 'football',\n",
       " 'tournament',\n",
       " 'contested',\n",
       " 'once',\n",
       " 'every',\n",
       " 'four',\n",
       " 'years',\n",
       " '.',\n",
       " 'This',\n",
       " 'is',\n",
       " 'the',\n",
       " 'first',\n",
       " 'World',\n",
       " 'Cup',\n",
       " 'to',\n",
       " 'be',\n",
       " 'held',\n",
       " 'in',\n",
       " 'Eastern',\n",
       " 'Europe',\n",
       " 'and',\n",
       " 'the',\n",
       " '11th',\n",
       " 'time',\n",
       " 'that',\n",
       " 'it',\n",
       " 'has',\n",
       " 'been',\n",
       " 'held',\n",
       " 'in',\n",
       " 'Europe',\n",
       " '.',\n",
       " 'Show',\n",
       " 'me',\n",
       " 'the',\n",
       " 'cheapest',\n",
       " 'round',\n",
       " 'trips',\n",
       " 'from',\n",
       " 'Dallas',\n",
       " 'to',\n",
       " 'Atlanta',\n",
       " 'I',\n",
       " 'would',\n",
       " 'like',\n",
       " 'to',\n",
       " 'see',\n",
       " 'flights',\n",
       " 'from',\n",
       " 'Denver',\n",
       " 'to',\n",
       " 'Philadelphia',\n",
       " '.',\n",
       " 'Show',\n",
       " 'me',\n",
       " 'the',\n",
       " 'price',\n",
       " 'of',\n",
       " 'the',\n",
       " 'flights',\n",
       " 'leaving',\n",
       " 'Atlanta',\n",
       " 'at',\n",
       " 'about',\n",
       " '3',\n",
       " 'in',\n",
       " 'the',\n",
       " 'afternoon',\n",
       " 'and',\n",
       " 'arriving',\n",
       " 'in',\n",
       " 'San',\n",
       " 'Francisco',\n",
       " '.',\n",
       " 'NASA',\n",
       " 'invited',\n",
       " 'social',\n",
       " 'media',\n",
       " 'users',\n",
       " 'to',\n",
       " 'experience',\n",
       " 'the',\n",
       " 'launch',\n",
       " 'of',\n",
       " 'ICESAT-2',\n",
       " 'Satellite',\n",
       " '.']"
      ]
     },
     "execution_count": 54,
     "metadata": {},
     "output_type": "execute_result"
    }
   ],
   "source": [
    "test_tagged_words"
   ]
  },
  {
   "cell_type": "markdown",
   "metadata": {},
   "source": [
    "<b><u><h5><font color = 'green'>1. Testing the accuracy of Vanilla Viterbi on sample test data</h5></u></b>"
   ]
  },
  {
   "cell_type": "code",
   "execution_count": 55,
   "metadata": {},
   "outputs": [],
   "source": [
    "# tagging the test sentences\n",
    "sample_data_test_tagged_seq = vanilla_viterbi(test_tagged_words)\n",
    "\n",
    "# Let's check the accuracy of the vanilla viterbi algorithm\n",
    "sample_data_test_check = [i for i, j in zip(sample_data_test_tagged_seq, tagged_words_test_run_base) if i == j]\n",
    "\n",
    "vanilla_viterbi_accuracy_on_sample_test_data = len(sample_data_test_check)/len(sample_data_test_tagged_seq)"
   ]
  },
  {
   "cell_type": "code",
   "execution_count": 56,
   "metadata": {},
   "outputs": [
    {
     "name": "stdout",
     "output_type": "stream",
     "text": [
      "Vanilla Viterbi Algorithm accuracy on the sample test data: 0.7569060773480663\n"
     ]
    }
   ],
   "source": [
    "print(\"Vanilla Viterbi Algorithm accuracy on the sample test data:\", vanilla_viterbi_accuracy_on_sample_test_data)"
   ]
  },
  {
   "cell_type": "markdown",
   "metadata": {},
   "source": [
    "<b><u><h5><font color = 'green'> 2. Testing the accuracy of Vanilla_Viterbi_With_Unknown_Words on sample test data </h5></u></b>"
   ]
  },
  {
   "cell_type": "code",
   "execution_count": 57,
   "metadata": {},
   "outputs": [],
   "source": [
    "# tagging the test sentences\n",
    "sample_test_data_unknown_word_tagged_seq = unknown_words_with_vanilla_viterbi(test_tagged_words)\n",
    "\n",
    "# accuracy\n",
    "sample_test_data_unknown_word_check = [i for i, j in zip(sample_test_data_unknown_word_tagged_seq, tagged_words_test_run_base) if i == j]\n",
    "\n",
    "sample_test_data_optimized_viterbi_accuracy = len(sample_test_data_unknown_word_check)/len(sample_test_data_unknown_word_tagged_seq)"
   ]
  },
  {
   "cell_type": "code",
   "execution_count": 58,
   "metadata": {},
   "outputs": [
    {
     "name": "stdout",
     "output_type": "stream",
     "text": [
      "unknown_words_with_vanilla_viterbi accuracy on the sample test data: 0.8895027624309392\n"
     ]
    }
   ],
   "source": [
    "\n",
    "print(\"unknown_words_with_vanilla_viterbi accuracy on the sample test data:\", sample_test_data_optimized_viterbi_accuracy)"
   ]
  },
  {
   "cell_type": "markdown",
   "metadata": {},
   "source": [
    "<b><u><h5><font color = 'green'> 3. Testing the accuracy of Viterbi_Backedup_By_Trigram_Tagger on sample test data</h5></u></b>"
   ]
  },
  {
   "cell_type": "code",
   "execution_count": 59,
   "metadata": {},
   "outputs": [],
   "source": [
    "# tagging the test sentences\n",
    "sample_test_data_viterbi_trigram_tagged_seq = Viterbi_Backedup_By_Trigram_Tagger(test_tagged_words)\n",
    "\n",
    "# accuracy\n",
    "sample_test_data_viterbi_trigram_check = [i for i, j in zip(sample_test_data_viterbi_trigram_tagged_seq, tagged_words_test_run_base) if i == j]\n",
    "\n",
    "sample_test_data_viterbi_trigram_accuracy = len(sample_test_data_viterbi_trigram_check)/len(sample_test_data_viterbi_trigram_tagged_seq)"
   ]
  },
  {
   "cell_type": "code",
   "execution_count": 60,
   "metadata": {},
   "outputs": [
    {
     "name": "stdout",
     "output_type": "stream",
     "text": [
      "Viterbi_Backedup_By_Trigram_Tagger accuracy on the sample test data: 0.9281767955801105\n"
     ]
    }
   ],
   "source": [
    "print(\"Viterbi_Backedup_By_Trigram_Tagger accuracy on the sample test data:\", sample_test_data_viterbi_trigram_accuracy)"
   ]
  },
  {
   "cell_type": "markdown",
   "metadata": {},
   "source": [
    "<b><h3><font color = 'green'>Compare the tagging accuracies of the modifications with the Vanilla Viterbi algorithm </h3></b>"
   ]
  },
  {
   "cell_type": "code",
   "execution_count": 61,
   "metadata": {},
   "outputs": [
    {
     "data": {
      "text/html": [
       "<div>\n",
       "<style scoped>\n",
       "    .dataframe tbody tr th:only-of-type {\n",
       "        vertical-align: middle;\n",
       "    }\n",
       "\n",
       "    .dataframe tbody tr th {\n",
       "        vertical-align: top;\n",
       "    }\n",
       "\n",
       "    .dataframe thead th {\n",
       "        text-align: right;\n",
       "    }\n",
       "</style>\n",
       "<table border=\"1\" class=\"dataframe\">\n",
       "  <thead>\n",
       "    <tr style=\"text-align: right;\">\n",
       "      <th></th>\n",
       "      <th>Tagging_Accuracy</th>\n",
       "    </tr>\n",
       "    <tr>\n",
       "      <th>Tagging_Algorithm</th>\n",
       "      <th></th>\n",
       "    </tr>\n",
       "  </thead>\n",
       "  <tbody>\n",
       "    <tr>\n",
       "      <td>Vanilla Viterbi</td>\n",
       "      <td>75.690608</td>\n",
       "    </tr>\n",
       "    <tr>\n",
       "      <td>Optimized Vanilla Viterbi</td>\n",
       "      <td>88.950276</td>\n",
       "    </tr>\n",
       "    <tr>\n",
       "      <td>Viterbi + Trigram_tagger</td>\n",
       "      <td>92.817680</td>\n",
       "    </tr>\n",
       "  </tbody>\n",
       "</table>\n",
       "</div>"
      ],
      "text/plain": [
       "                           Tagging_Accuracy\n",
       "Tagging_Algorithm                          \n",
       "Vanilla Viterbi                   75.690608\n",
       "Optimized Vanilla Viterbi         88.950276\n",
       "Viterbi + Trigram_tagger          92.817680"
      ]
     },
     "execution_count": 61,
     "metadata": {},
     "output_type": "execute_result"
    }
   ],
   "source": [
    "acccuracy_on_sample_test_data = [['Vanilla Viterbi', vanilla_viterbi_accuracy_on_sample_test_data*100], \n",
    "                  ['Optimized Vanilla Viterbi', sample_test_data_optimized_viterbi_accuracy*100], \n",
    "                  ['Viterbi + Trigram_tagger', sample_test_data_viterbi_trigram_accuracy*100]]\n",
    "\n",
    "df_sample_test_data_acccuracy = pd.DataFrame(acccuracy_on_sample_test_data, columns = ['Tagging_Algorithm', 'Tagging_Accuracy'])\n",
    "\n",
    "df_sample_test_data_acccuracy.set_index('Tagging_Algorithm', drop = True, inplace = True)\n",
    "\n",
    "df_sample_test_data_acccuracy"
   ]
  },
  {
   "cell_type": "code",
   "execution_count": 62,
   "metadata": {},
   "outputs": [
    {
     "data": {
      "text/plain": [
       "<matplotlib.axes._subplots.AxesSubplot at 0x17e0403d3c8>"
      ]
     },
     "execution_count": 62,
     "metadata": {},
     "output_type": "execute_result"
    },
    {
     "data": {
      "image/png": "[encoded data removed]",
      "text/plain": [
       "<Figure size 432x288 with 1 Axes>"
      ]
     },
     "metadata": {
      "needs_background": "light"
     },
     "output_type": "display_data"
    }
   ],
   "source": [
    "df_sample_test_data_acccuracy.plot.line(rot = 90, legend = False)"
   ]
  },
  {
   "cell_type": "markdown",
   "metadata": {},
   "source": [
    "<b><h3><font color = 'green'>List down cases which were incorrectly tagged by original POS tagger and got corrected by your modifications </h3></b>"
   ]
  },
  {
   "cell_type": "code",
   "execution_count": 63,
   "metadata": {},
   "outputs": [],
   "source": [
    "# test sentences\n",
    "\n",
    "test_data_sentence_2 = 'Android has been the best-selling OS worldwide on smartphones since 2011 and on tablets since 2013.'\n",
    "test_data_sentence_4 = 'Twitter is an online news and social networking service on which users post and interact with messages known as tweets.'\n",
    "test_data_sentence_11 = 'NASA invited social media users to experience the launch of ICESAT-2 Satellite.'"
   ]
  },
  {
   "cell_type": "markdown",
   "metadata": {},
   "source": [
    "<b><u><h3><font color = 'green'> Case: 1</h3></u></b>"
   ]
  },
  {
   "cell_type": "code",
   "execution_count": 64,
   "metadata": {},
   "outputs": [
    {
     "name": "stdout",
     "output_type": "stream",
     "text": [
      "Tagging sequence with vanilla_viterbi -\n",
      "\n",
      " [('Android', 'ADV'), ('has', 'VERB'), ('been', 'VERB'), ('the', 'DET'), ('best-selling', 'ADJ'), ('OS', 'ADV'), ('worldwide', 'ADV'), ('on', 'ADP'), ('smartphones', 'ADV'), ('since', 'ADP'), ('2011', 'ADV'), ('and', 'CONJ'), ('on', 'ADP'), ('tablets', 'NOUN'), ('since', 'ADP'), ('2013', 'ADV'), ('.', '.')]\n",
      "\n",
      "\n",
      "-----------------------------------------------------------------------------------------------------------------------------\n",
      "Tagging sequence with Viterbi_Backedup_By_Trigram_Tagger:\n",
      "\n",
      " [('Android', 'NOUN'), ('has', 'VERB'), ('been', 'VERB'), ('the', 'DET'), ('best-selling', 'ADJ'), ('OS', 'NOUN'), ('worldwide', 'NOUN'), ('on', 'ADP'), ('smartphones', 'VERB'), ('since', 'ADP'), ('2011', 'NUM'), ('and', 'CONJ'), ('on', 'ADP'), ('tablets', 'NOUN'), ('since', 'ADP'), ('2013', 'NUM'), ('.', '.')]\n"
     ]
    }
   ],
   "source": [
    "# test_data_sentence_2 = 'Android has been the best-selling OS worldwide on smartphones since 2011 and on tablets since 2013.'\n",
    "\n",
    "words_test_data_sentence_2 = nltk.word_tokenize(test_data_sentence_2)\n",
    "\n",
    "# pos tags with Vanilla_Viterbi\n",
    "pos_tagged_sequence_with_vanilla_viterbi = vanilla_viterbi(words_test_data_sentence_2)\n",
    "print(\"Tagging sequence with vanilla_viterbi -\\n\\n\", pos_tagged_sequence_with_vanilla_viterbi)\n",
    "\n",
    "print('\\n')\n",
    "print('-'*125)\n",
    "\n",
    "# pos tags with Viterbi_Backedup_By_Trigram_Tagger\n",
    "pos_tagged_sequence_with_viterbi_trigram = Viterbi_Backedup_By_Trigram_Tagger(words_test_data_sentence_2)\n",
    "print(\"Tagging sequence with Viterbi_Backedup_By_Trigram_Tagger:\\n\\n\", pos_tagged_sequence_with_viterbi_trigram)"
   ]
  },
  {
   "cell_type": "code",
   "execution_count": 65,
   "metadata": {},
   "outputs": [
    {
     "data": {
      "text/html": [
       "<div>\n",
       "<style scoped>\n",
       "    .dataframe tbody tr th:only-of-type {\n",
       "        vertical-align: middle;\n",
       "    }\n",
       "\n",
       "    .dataframe tbody tr th {\n",
       "        vertical-align: top;\n",
       "    }\n",
       "\n",
       "    .dataframe thead th {\n",
       "        text-align: right;\n",
       "    }\n",
       "</style>\n",
       "<table border=\"1\" class=\"dataframe\">\n",
       "  <thead>\n",
       "    <tr style=\"text-align: right;\">\n",
       "      <th></th>\n",
       "      <th>vanilla_viterbi_tags</th>\n",
       "      <th>viterbi_trigram_tags_with_corrections</th>\n",
       "    </tr>\n",
       "  </thead>\n",
       "  <tbody>\n",
       "    <tr>\n",
       "      <td>0</td>\n",
       "      <td>(Android, ADV)</td>\n",
       "      <td>(Android, NOUN)</td>\n",
       "    </tr>\n",
       "    <tr>\n",
       "      <td>1</td>\n",
       "      <td>(has, VERB)</td>\n",
       "      <td>(has, VERB)</td>\n",
       "    </tr>\n",
       "    <tr>\n",
       "      <td>2</td>\n",
       "      <td>(been, VERB)</td>\n",
       "      <td>(been, VERB)</td>\n",
       "    </tr>\n",
       "    <tr>\n",
       "      <td>3</td>\n",
       "      <td>(the, DET)</td>\n",
       "      <td>(the, DET)</td>\n",
       "    </tr>\n",
       "    <tr>\n",
       "      <td>4</td>\n",
       "      <td>(best-selling, ADJ)</td>\n",
       "      <td>(best-selling, ADJ)</td>\n",
       "    </tr>\n",
       "    <tr>\n",
       "      <td>5</td>\n",
       "      <td>(OS, ADV)</td>\n",
       "      <td>(OS, NOUN)</td>\n",
       "    </tr>\n",
       "    <tr>\n",
       "      <td>6</td>\n",
       "      <td>(worldwide, ADV)</td>\n",
       "      <td>(worldwide, NOUN)</td>\n",
       "    </tr>\n",
       "    <tr>\n",
       "      <td>7</td>\n",
       "      <td>(on, ADP)</td>\n",
       "      <td>(on, ADP)</td>\n",
       "    </tr>\n",
       "    <tr>\n",
       "      <td>8</td>\n",
       "      <td>(smartphones, ADV)</td>\n",
       "      <td>(smartphones, VERB)</td>\n",
       "    </tr>\n",
       "    <tr>\n",
       "      <td>9</td>\n",
       "      <td>(since, ADP)</td>\n",
       "      <td>(since, ADP)</td>\n",
       "    </tr>\n",
       "    <tr>\n",
       "      <td>10</td>\n",
       "      <td>(2011, ADV)</td>\n",
       "      <td>(2011, NUM)</td>\n",
       "    </tr>\n",
       "    <tr>\n",
       "      <td>11</td>\n",
       "      <td>(and, CONJ)</td>\n",
       "      <td>(and, CONJ)</td>\n",
       "    </tr>\n",
       "    <tr>\n",
       "      <td>12</td>\n",
       "      <td>(on, ADP)</td>\n",
       "      <td>(on, ADP)</td>\n",
       "    </tr>\n",
       "    <tr>\n",
       "      <td>13</td>\n",
       "      <td>(tablets, NOUN)</td>\n",
       "      <td>(tablets, NOUN)</td>\n",
       "    </tr>\n",
       "    <tr>\n",
       "      <td>14</td>\n",
       "      <td>(since, ADP)</td>\n",
       "      <td>(since, ADP)</td>\n",
       "    </tr>\n",
       "    <tr>\n",
       "      <td>15</td>\n",
       "      <td>(2013, ADV)</td>\n",
       "      <td>(2013, NUM)</td>\n",
       "    </tr>\n",
       "    <tr>\n",
       "      <td>16</td>\n",
       "      <td>(., .)</td>\n",
       "      <td>(., .)</td>\n",
       "    </tr>\n",
       "  </tbody>\n",
       "</table>\n",
       "</div>"
      ],
      "text/plain": [
       "   vanilla_viterbi_tags viterbi_trigram_tags_with_corrections\n",
       "0        (Android, ADV)                       (Android, NOUN)\n",
       "1           (has, VERB)                           (has, VERB)\n",
       "2          (been, VERB)                          (been, VERB)\n",
       "3            (the, DET)                            (the, DET)\n",
       "4   (best-selling, ADJ)                   (best-selling, ADJ)\n",
       "5             (OS, ADV)                            (OS, NOUN)\n",
       "6      (worldwide, ADV)                     (worldwide, NOUN)\n",
       "7             (on, ADP)                             (on, ADP)\n",
       "8    (smartphones, ADV)                   (smartphones, VERB)\n",
       "9          (since, ADP)                          (since, ADP)\n",
       "10          (2011, ADV)                           (2011, NUM)\n",
       "11          (and, CONJ)                           (and, CONJ)\n",
       "12            (on, ADP)                             (on, ADP)\n",
       "13      (tablets, NOUN)                       (tablets, NOUN)\n",
       "14         (since, ADP)                          (since, ADP)\n",
       "15          (2013, ADV)                           (2013, NUM)\n",
       "16               (., .)                                (., .)"
      ]
     },
     "execution_count": 65,
     "metadata": {},
     "output_type": "execute_result"
    }
   ],
   "source": [
    "cols = ['vanilla_viterbi_tags', 'viterbi_trigram_tags_with_corrections']\n",
    "df_tags_correction_1 = pd.DataFrame(columns = cols)\n",
    "df_tags_correction_1 = df_tags_correction_1.fillna(0)\n",
    "\n",
    "df_tags_correction_1.vanilla_viterbi_tags = [tup for tup in pos_tagged_sequence_with_vanilla_viterbi]\n",
    "df_tags_correction_1.viterbi_trigram_tags_with_corrections = [tup for tup in pos_tagged_sequence_with_viterbi_trigram]\n",
    "\n",
    "df_tags_correction_1"
   ]
  },
  {
   "cell_type": "markdown",
   "metadata": {},
   "source": [
    "####  Vanilla Viterbi algorithm : test sentence 2 incorrectly tagged words:\n",
    "\n",
    "'Android' - PRT\n",
    "\n",
    "#### Corrected by viterbi backed up by the Trigram Tagger\n",
    "\n",
    " 'Android' - NOUN"
   ]
  },
  {
   "cell_type": "markdown",
   "metadata": {},
   "source": [
    "<b><u><h3><font color = 'green'>Case: 2 </h3></u></b>"
   ]
  },
  {
   "cell_type": "code",
   "execution_count": 66,
   "metadata": {},
   "outputs": [
    {
     "name": "stdout",
     "output_type": "stream",
     "text": [
      "Tagging sequence with vanilla_viterbi:\n",
      "\n",
      " [('Twitter', 'ADV'), ('is', 'VERB'), ('an', 'DET'), ('online', 'ADV'), ('news', 'NOUN'), ('and', 'CONJ'), ('social', 'ADJ'), ('networking', 'NOUN'), ('service', 'NOUN'), ('on', 'ADP'), ('which', 'DET'), ('users', 'NOUN'), ('post', 'NOUN'), ('and', 'CONJ'), ('interact', 'ADV'), ('with', 'ADP'), ('messages', 'ADV'), ('known', 'VERB'), ('as', 'ADP'), ('tweets', 'ADV'), ('.', '.')]\n",
      "\n",
      "\n",
      "-----------------------------------------------------------------------------------------------------------------------------\n",
      "Tagging sequence with Viterbi_Backedup_By_Trigram_Tagger:\n",
      "\n",
      " [('Twitter', 'NOUN'), ('is', 'VERB'), ('an', 'DET'), ('online', 'NOUN'), ('news', 'NOUN'), ('and', 'CONJ'), ('social', 'ADJ'), ('networking', 'NOUN'), ('service', 'NOUN'), ('on', 'ADP'), ('which', 'DET'), ('users', 'NOUN'), ('post', 'NOUN'), ('and', 'CONJ'), ('interact', 'NOUN'), ('with', 'ADP'), ('messages', 'VERB'), ('known', 'VERB'), ('as', 'ADP'), ('tweets', 'NOUN'), ('.', '.')]\n"
     ]
    }
   ],
   "source": [
    "# test_data_sentence_4 = 'Twitter is an online news and social networking service on which users post\n",
    "#                         and interact with messages known as tweets.'\n",
    "\n",
    "words_test_data_sentence_4 = nltk.word_tokenize(test_data_sentence_4)\n",
    "\n",
    "# pos tags with vanilla_viterbi\n",
    "pos_tagged_sequence_with_vanilla_viterbi_4 = vanilla_viterbi(words_test_data_sentence_4)\n",
    "print(\"Tagging sequence with vanilla_viterbi:\\n\\n\", pos_tagged_sequence_with_vanilla_viterbi_4)\n",
    "\n",
    "print('\\n')\n",
    "print('-'*125)\n",
    "\n",
    "# pos tags with Viterbi_Backedup_By_Trigram_Tagger\n",
    "pos_tagged_sequence_with_viterbi_trigram_4 = Viterbi_Backedup_By_Trigram_Tagger(words_test_data_sentence_4)\n",
    "print(\"Tagging sequence with Viterbi_Backedup_By_Trigram_Tagger:\\n\\n\", pos_tagged_sequence_with_viterbi_trigram_4)"
   ]
  },
  {
   "cell_type": "code",
   "execution_count": 67,
   "metadata": {},
   "outputs": [
    {
     "data": {
      "text/html": [
       "<div>\n",
       "<style scoped>\n",
       "    .dataframe tbody tr th:only-of-type {\n",
       "        vertical-align: middle;\n",
       "    }\n",
       "\n",
       "    .dataframe tbody tr th {\n",
       "        vertical-align: top;\n",
       "    }\n",
       "\n",
       "    .dataframe thead th {\n",
       "        text-align: right;\n",
       "    }\n",
       "</style>\n",
       "<table border=\"1\" class=\"dataframe\">\n",
       "  <thead>\n",
       "    <tr style=\"text-align: right;\">\n",
       "      <th></th>\n",
       "      <th>vanilla_viterbi_tags</th>\n",
       "      <th>viterbi_trigram_tags_with_corrections</th>\n",
       "    </tr>\n",
       "  </thead>\n",
       "  <tbody>\n",
       "    <tr>\n",
       "      <td>0</td>\n",
       "      <td>(Twitter, ADV)</td>\n",
       "      <td>(Twitter, NOUN)</td>\n",
       "    </tr>\n",
       "    <tr>\n",
       "      <td>1</td>\n",
       "      <td>(is, VERB)</td>\n",
       "      <td>(is, VERB)</td>\n",
       "    </tr>\n",
       "    <tr>\n",
       "      <td>2</td>\n",
       "      <td>(an, DET)</td>\n",
       "      <td>(an, DET)</td>\n",
       "    </tr>\n",
       "    <tr>\n",
       "      <td>3</td>\n",
       "      <td>(online, ADV)</td>\n",
       "      <td>(online, NOUN)</td>\n",
       "    </tr>\n",
       "    <tr>\n",
       "      <td>4</td>\n",
       "      <td>(news, NOUN)</td>\n",
       "      <td>(news, NOUN)</td>\n",
       "    </tr>\n",
       "    <tr>\n",
       "      <td>5</td>\n",
       "      <td>(and, CONJ)</td>\n",
       "      <td>(and, CONJ)</td>\n",
       "    </tr>\n",
       "    <tr>\n",
       "      <td>6</td>\n",
       "      <td>(social, ADJ)</td>\n",
       "      <td>(social, ADJ)</td>\n",
       "    </tr>\n",
       "    <tr>\n",
       "      <td>7</td>\n",
       "      <td>(networking, NOUN)</td>\n",
       "      <td>(networking, NOUN)</td>\n",
       "    </tr>\n",
       "    <tr>\n",
       "      <td>8</td>\n",
       "      <td>(service, NOUN)</td>\n",
       "      <td>(service, NOUN)</td>\n",
       "    </tr>\n",
       "    <tr>\n",
       "      <td>9</td>\n",
       "      <td>(on, ADP)</td>\n",
       "      <td>(on, ADP)</td>\n",
       "    </tr>\n",
       "    <tr>\n",
       "      <td>10</td>\n",
       "      <td>(which, DET)</td>\n",
       "      <td>(which, DET)</td>\n",
       "    </tr>\n",
       "    <tr>\n",
       "      <td>11</td>\n",
       "      <td>(users, NOUN)</td>\n",
       "      <td>(users, NOUN)</td>\n",
       "    </tr>\n",
       "    <tr>\n",
       "      <td>12</td>\n",
       "      <td>(post, NOUN)</td>\n",
       "      <td>(post, NOUN)</td>\n",
       "    </tr>\n",
       "    <tr>\n",
       "      <td>13</td>\n",
       "      <td>(and, CONJ)</td>\n",
       "      <td>(and, CONJ)</td>\n",
       "    </tr>\n",
       "    <tr>\n",
       "      <td>14</td>\n",
       "      <td>(interact, ADV)</td>\n",
       "      <td>(interact, NOUN)</td>\n",
       "    </tr>\n",
       "    <tr>\n",
       "      <td>15</td>\n",
       "      <td>(with, ADP)</td>\n",
       "      <td>(with, ADP)</td>\n",
       "    </tr>\n",
       "    <tr>\n",
       "      <td>16</td>\n",
       "      <td>(messages, ADV)</td>\n",
       "      <td>(messages, VERB)</td>\n",
       "    </tr>\n",
       "    <tr>\n",
       "      <td>17</td>\n",
       "      <td>(known, VERB)</td>\n",
       "      <td>(known, VERB)</td>\n",
       "    </tr>\n",
       "    <tr>\n",
       "      <td>18</td>\n",
       "      <td>(as, ADP)</td>\n",
       "      <td>(as, ADP)</td>\n",
       "    </tr>\n",
       "    <tr>\n",
       "      <td>19</td>\n",
       "      <td>(tweets, ADV)</td>\n",
       "      <td>(tweets, NOUN)</td>\n",
       "    </tr>\n",
       "    <tr>\n",
       "      <td>20</td>\n",
       "      <td>(., .)</td>\n",
       "      <td>(., .)</td>\n",
       "    </tr>\n",
       "  </tbody>\n",
       "</table>\n",
       "</div>"
      ],
      "text/plain": [
       "   vanilla_viterbi_tags viterbi_trigram_tags_with_corrections\n",
       "0        (Twitter, ADV)                       (Twitter, NOUN)\n",
       "1            (is, VERB)                            (is, VERB)\n",
       "2             (an, DET)                             (an, DET)\n",
       "3         (online, ADV)                        (online, NOUN)\n",
       "4          (news, NOUN)                          (news, NOUN)\n",
       "5           (and, CONJ)                           (and, CONJ)\n",
       "6         (social, ADJ)                         (social, ADJ)\n",
       "7    (networking, NOUN)                    (networking, NOUN)\n",
       "8       (service, NOUN)                       (service, NOUN)\n",
       "9             (on, ADP)                             (on, ADP)\n",
       "10         (which, DET)                          (which, DET)\n",
       "11        (users, NOUN)                         (users, NOUN)\n",
       "12         (post, NOUN)                          (post, NOUN)\n",
       "13          (and, CONJ)                           (and, CONJ)\n",
       "14      (interact, ADV)                      (interact, NOUN)\n",
       "15          (with, ADP)                           (with, ADP)\n",
       "16      (messages, ADV)                      (messages, VERB)\n",
       "17        (known, VERB)                         (known, VERB)\n",
       "18            (as, ADP)                             (as, ADP)\n",
       "19        (tweets, ADV)                        (tweets, NOUN)\n",
       "20               (., .)                                (., .)"
      ]
     },
     "execution_count": 67,
     "metadata": {},
     "output_type": "execute_result"
    }
   ],
   "source": [
    "df_tags_correction_4 = pd.DataFrame(columns = cols)\n",
    "df_tags_correction_4 = df_tags_correction_4.fillna(0)\n",
    "\n",
    "df_tags_correction_4.vanilla_viterbi_tags = [tup for tup in pos_tagged_sequence_with_vanilla_viterbi_4]\n",
    "df_tags_correction_4.viterbi_trigram_tags_with_corrections = [tup for tup in pos_tagged_sequence_with_viterbi_trigram_4]\n",
    "\n",
    "df_tags_correction_4"
   ]
  },
  {
   "cell_type": "markdown",
   "metadata": {},
   "source": [
    "####  Vanilla Viterbi algorithm : test sentence 4 incorrectly tagged words:\n",
    "\n",
    "'Twitter' - PRT,  'online' - PRT,  'interact'-PRT,  'messages'-PRT,  'tweets' - PRT.\n",
    "\n",
    "#### Corrected by viterbi backed up by the trigram tagger\n",
    "\n",
    " 'Twitter' - NOUN,  'online' - NOUN,  'interact'-NOUN,  'messages'-VERB,  'tweets' - NOUN."
   ]
  },
  {
   "cell_type": "markdown",
   "metadata": {},
   "source": [
    "<b><u><h3><font color = 'green'>Case: 3</h3></u></b>"
   ]
  },
  {
   "cell_type": "code",
   "execution_count": 68,
   "metadata": {},
   "outputs": [
    {
     "name": "stdout",
     "output_type": "stream",
     "text": [
      "Tagging sequence with Vanilla_Viterbi:\n",
      "\n",
      " [('NASA', 'ADV'), ('invited', 'ADV'), ('social', 'ADJ'), ('media', 'NOUN'), ('users', 'NOUN'), ('to', 'PRT'), ('experience', 'NOUN'), ('the', 'DET'), ('launch', 'NOUN'), ('of', 'ADP'), ('ICESAT-2', 'ADV'), ('Satellite', 'ADV'), ('.', '.')]\n",
      "\n",
      "\n",
      "-----------------------------------------------------------------------------------------------------------------------------\n",
      "Tagging sequence with Viterbi_Backedup_By_Trigram_Tagger:\n",
      "\n",
      " [('NASA', 'NOUN'), ('invited', 'VERB'), ('social', 'ADJ'), ('media', 'NOUN'), ('users', 'NOUN'), ('to', 'PRT'), ('experience', 'NOUN'), ('the', 'DET'), ('launch', 'NOUN'), ('of', 'ADP'), ('ICESAT-2', 'NOUN'), ('Satellite', 'NOUN'), ('.', '.')]\n"
     ]
    }
   ],
   "source": [
    "# test_data_sentence_11 = 'NASA invited social media users to experience the launch of ICESAT-2 Satellite.'\n",
    "\n",
    "words_test_data_sentence_11 = nltk.word_tokenize(test_data_sentence_11)\n",
    "\n",
    "# pos tags with Vanilla_Viterbi\n",
    "pos_tagged_sequence_with_vanilla_viterbi_11 = vanilla_viterbi(words_test_data_sentence_11)\n",
    "print(\"Tagging sequence with Vanilla_Viterbi:\\n\\n\", pos_tagged_sequence_with_vanilla_viterbi_11)\n",
    "\n",
    "print('\\n')\n",
    "print('-'*125)\n",
    "\n",
    "# pos tags with Viterbi_Backedup_By_Trigram_Tagger\n",
    "pos_tagged_sequence_with_viterbi_trigram_11 = Viterbi_Backedup_By_Trigram_Tagger(words_test_data_sentence_11)\n",
    "print(\"Tagging sequence with Viterbi_Backedup_By_Trigram_Tagger:\\n\\n\", pos_tagged_sequence_with_viterbi_trigram_11)"
   ]
  },
  {
   "cell_type": "code",
   "execution_count": 69,
   "metadata": {},
   "outputs": [
    {
     "data": {
      "text/html": [
       "<div>\n",
       "<style scoped>\n",
       "    .dataframe tbody tr th:only-of-type {\n",
       "        vertical-align: middle;\n",
       "    }\n",
       "\n",
       "    .dataframe tbody tr th {\n",
       "        vertical-align: top;\n",
       "    }\n",
       "\n",
       "    .dataframe thead th {\n",
       "        text-align: right;\n",
       "    }\n",
       "</style>\n",
       "<table border=\"1\" class=\"dataframe\">\n",
       "  <thead>\n",
       "    <tr style=\"text-align: right;\">\n",
       "      <th></th>\n",
       "      <th>vanilla_viterbi_tags</th>\n",
       "      <th>viterbi_trigram_tags_with_corrections</th>\n",
       "    </tr>\n",
       "  </thead>\n",
       "  <tbody>\n",
       "    <tr>\n",
       "      <td>0</td>\n",
       "      <td>(NASA, ADV)</td>\n",
       "      <td>(NASA, NOUN)</td>\n",
       "    </tr>\n",
       "    <tr>\n",
       "      <td>1</td>\n",
       "      <td>(invited, ADV)</td>\n",
       "      <td>(invited, VERB)</td>\n",
       "    </tr>\n",
       "    <tr>\n",
       "      <td>2</td>\n",
       "      <td>(social, ADJ)</td>\n",
       "      <td>(social, ADJ)</td>\n",
       "    </tr>\n",
       "    <tr>\n",
       "      <td>3</td>\n",
       "      <td>(media, NOUN)</td>\n",
       "      <td>(media, NOUN)</td>\n",
       "    </tr>\n",
       "    <tr>\n",
       "      <td>4</td>\n",
       "      <td>(users, NOUN)</td>\n",
       "      <td>(users, NOUN)</td>\n",
       "    </tr>\n",
       "    <tr>\n",
       "      <td>5</td>\n",
       "      <td>(to, PRT)</td>\n",
       "      <td>(to, PRT)</td>\n",
       "    </tr>\n",
       "    <tr>\n",
       "      <td>6</td>\n",
       "      <td>(experience, NOUN)</td>\n",
       "      <td>(experience, NOUN)</td>\n",
       "    </tr>\n",
       "    <tr>\n",
       "      <td>7</td>\n",
       "      <td>(the, DET)</td>\n",
       "      <td>(the, DET)</td>\n",
       "    </tr>\n",
       "    <tr>\n",
       "      <td>8</td>\n",
       "      <td>(launch, NOUN)</td>\n",
       "      <td>(launch, NOUN)</td>\n",
       "    </tr>\n",
       "    <tr>\n",
       "      <td>9</td>\n",
       "      <td>(of, ADP)</td>\n",
       "      <td>(of, ADP)</td>\n",
       "    </tr>\n",
       "    <tr>\n",
       "      <td>10</td>\n",
       "      <td>(ICESAT-2, ADV)</td>\n",
       "      <td>(ICESAT-2, NOUN)</td>\n",
       "    </tr>\n",
       "    <tr>\n",
       "      <td>11</td>\n",
       "      <td>(Satellite, ADV)</td>\n",
       "      <td>(Satellite, NOUN)</td>\n",
       "    </tr>\n",
       "    <tr>\n",
       "      <td>12</td>\n",
       "      <td>(., .)</td>\n",
       "      <td>(., .)</td>\n",
       "    </tr>\n",
       "  </tbody>\n",
       "</table>\n",
       "</div>"
      ],
      "text/plain": [
       "   vanilla_viterbi_tags viterbi_trigram_tags_with_corrections\n",
       "0           (NASA, ADV)                          (NASA, NOUN)\n",
       "1        (invited, ADV)                       (invited, VERB)\n",
       "2         (social, ADJ)                         (social, ADJ)\n",
       "3         (media, NOUN)                         (media, NOUN)\n",
       "4         (users, NOUN)                         (users, NOUN)\n",
       "5             (to, PRT)                             (to, PRT)\n",
       "6    (experience, NOUN)                    (experience, NOUN)\n",
       "7            (the, DET)                            (the, DET)\n",
       "8        (launch, NOUN)                        (launch, NOUN)\n",
       "9             (of, ADP)                             (of, ADP)\n",
       "10      (ICESAT-2, ADV)                      (ICESAT-2, NOUN)\n",
       "11     (Satellite, ADV)                     (Satellite, NOUN)\n",
       "12               (., .)                                (., .)"
      ]
     },
     "execution_count": 69,
     "metadata": {},
     "output_type": "execute_result"
    }
   ],
   "source": [
    "df_tags_correction_11 = pd.DataFrame(columns = cols)\n",
    "df_tags_correction_11 = df_tags_correction_11.fillna(0)\n",
    "\n",
    "df_tags_correction_11.vanilla_viterbi_tags = [tup for tup in pos_tagged_sequence_with_vanilla_viterbi_11]\n",
    "df_tags_correction_11.viterbi_trigram_tags_with_corrections = [tup for tup in pos_tagged_sequence_with_viterbi_trigram_11]\n",
    "\n",
    "df_tags_correction_11"
   ]
  },
  {
   "cell_type": "markdown",
   "metadata": {},
   "source": [
    "####  Vanilla Viterbi algorithm : test sentence 11 incorrectly tagged words:\n",
    "\n",
    " 'NASA' - PRT,  'invited' - PRT,  'ICESAT-2'-PRT,  'Satellite'-PRT\n",
    "\n",
    "#### Corrected by viterbi backed up by the trigram tagger\n",
    "\n",
    "  'NASA' - NOUN,  'invited' - VERB,  'ICESAT-2'- NOUN,  'Satellite'-NOUN"
   ]
  },
  {
   "cell_type": "markdown",
   "metadata": {},
   "source": [
    "<b><u><h3><font color = 'green'>Now lets see the tags and corrections for all the sample test sentences with both the methods.</h3></u></b>"
   ]
  },
  {
   "cell_type": "markdown",
   "metadata": {},
   "source": [
    "- Method 1 - Considered only Transition probability for Unknown Words.\n",
    "- Method 2 - Viterbi algorithm and backed it up with the Trigram Tagger which was inturn backed up by the rule based regex tagger."
   ]
  },
  {
   "cell_type": "code",
   "execution_count": 70,
   "metadata": {},
   "outputs": [
    {
     "name": "stdout",
     "output_type": "stream",
     "text": [
      "Tagging sequence with vanilla_viterbi:\n",
      "\n",
      " [('Android', 'ADV'), ('is', 'VERB'), ('a', 'DET'), ('mobile', 'ADJ'), ('operating', 'NOUN'), ('system', 'NOUN'), ('developed', 'VERB'), ('by', 'ADP'), ('Google', 'ADV'), ('.', '.'), ('Android', 'ADV'), ('has', 'VERB'), ('been', 'VERB'), ('the', 'DET'), ('best-selling', 'ADJ'), ('OS', 'ADV'), ('worldwide', 'ADV'), ('on', 'ADP'), ('smartphones', 'ADV'), ('since', 'ADP'), ('2011', 'ADV'), ('and', 'CONJ'), ('on', 'ADP'), ('tablets', 'NOUN'), ('since', 'ADP'), ('2013', 'ADV'), ('.', '.'), ('Google', 'ADV'), ('and', 'CONJ'), ('Twitter', 'ADV'), ('made', 'VERB'), ('a', 'DET'), ('deal', 'NOUN'), ('in', 'ADP'), ('2015', 'ADV'), ('that', 'ADP'), ('gave', 'VERB'), ('Google', 'ADV'), ('access', 'NOUN'), ('to', 'PRT'), ('Twitter', 'ADV'), (\"'s\", 'PRT'), ('firehose', 'ADV'), ('.', '.'), ('Twitter', 'ADV'), ('is', 'VERB'), ('an', 'DET'), ('online', 'ADV'), ('news', 'NOUN'), ('and', 'CONJ'), ('social', 'ADJ'), ('networking', 'NOUN'), ('service', 'NOUN'), ('on', 'ADP'), ('which', 'DET'), ('users', 'NOUN'), ('post', 'NOUN'), ('and', 'CONJ'), ('interact', 'ADV'), ('with', 'ADP'), ('messages', 'ADV'), ('known', 'VERB'), ('as', 'ADP'), ('tweets', 'ADV'), ('.', '.'), ('Before', 'ADP'), ('entering', 'VERB'), ('politics', 'NOUN'), (',', '.'), ('Donald', 'NOUN'), ('Trump', 'NOUN'), ('was', 'VERB'), ('a', 'DET'), ('domineering', 'ADV'), ('businessman', 'NOUN'), ('and', 'CONJ'), ('a', 'DET'), ('television', 'NOUN'), ('personality', 'ADV'), ('.', '.'), ('The', 'DET'), ('2018', 'ADV'), ('FIFA', 'ADV'), ('World', 'NOUN'), ('Cup', 'ADV'), ('is', 'VERB'), ('the', 'DET'), ('21st', 'ADV'), ('FIFA', 'ADV'), ('World', 'NOUN'), ('Cup', 'ADV'), (',', '.'), ('an', 'DET'), ('international', 'ADJ'), ('football', 'NOUN'), ('tournament', 'ADV'), ('contested', 'ADV'), ('once', 'ADV'), ('every', 'DET'), ('four', 'NUM'), ('years', 'NOUN'), ('.', '.'), ('This', 'DET'), ('is', 'VERB'), ('the', 'DET'), ('first', 'ADJ'), ('World', 'NOUN'), ('Cup', 'ADV'), ('to', 'PRT'), ('be', 'VERB'), ('held', 'VERB'), ('in', 'ADP'), ('Eastern', 'NOUN'), ('Europe', 'NOUN'), ('and', 'CONJ'), ('the', 'DET'), ('11th', 'ADJ'), ('time', 'NOUN'), ('that', 'ADP'), ('it', 'PRON'), ('has', 'VERB'), ('been', 'VERB'), ('held', 'VERB'), ('in', 'ADP'), ('Europe', 'NOUN'), ('.', '.'), ('Show', 'NOUN'), ('me', 'PRON'), ('the', 'DET'), ('cheapest', 'ADJ'), ('round', 'NOUN'), ('trips', 'ADV'), ('from', 'ADP'), ('Dallas', 'NOUN'), ('to', 'PRT'), ('Atlanta', 'NOUN'), ('I', 'PRON'), ('would', 'VERB'), ('like', 'ADP'), ('to', 'PRT'), ('see', 'VERB'), ('flights', 'NOUN'), ('from', 'ADP'), ('Denver', 'NOUN'), ('to', 'PRT'), ('Philadelphia', 'NOUN'), ('.', '.'), ('Show', 'NOUN'), ('me', 'PRON'), ('the', 'DET'), ('price', 'NOUN'), ('of', 'ADP'), ('the', 'DET'), ('flights', 'NOUN'), ('leaving', 'VERB'), ('Atlanta', 'NOUN'), ('at', 'ADP'), ('about', 'ADP'), ('3', 'NUM'), ('in', 'ADP'), ('the', 'DET'), ('afternoon', 'NOUN'), ('and', 'CONJ'), ('arriving', 'ADV'), ('in', 'ADP'), ('San', 'NOUN'), ('Francisco', 'NOUN'), ('.', '.'), ('NASA', 'ADV'), ('invited', 'ADV'), ('social', 'ADJ'), ('media', 'NOUN'), ('users', 'NOUN'), ('to', 'PRT'), ('experience', 'NOUN'), ('the', 'DET'), ('launch', 'NOUN'), ('of', 'ADP'), ('ICESAT-2', 'ADV'), ('Satellite', 'ADV'), ('.', '.')]\n",
      "\n",
      "\n",
      "-----------------------------------------------------------------------------------------------------------------------------\n",
      "Tagging sequence with Vanilla Viterbi using only transition probability for unknown words:\n",
      "\n",
      " [('Android', 'NOUN'), ('is', 'VERB'), ('a', 'DET'), ('mobile', 'ADJ'), ('operating', 'NOUN'), ('system', 'NOUN'), ('developed', 'VERB'), ('by', 'ADP'), ('Google', 'NOUN'), ('.', '.'), ('Android', 'NOUN'), ('has', 'VERB'), ('been', 'VERB'), ('the', 'DET'), ('best-selling', 'ADJ'), ('OS', 'NOUN'), ('worldwide', 'NOUN'), ('on', 'ADP'), ('smartphones', 'NOUN'), ('since', 'ADP'), ('2011', 'NOUN'), ('and', 'CONJ'), ('on', 'ADP'), ('tablets', 'NOUN'), ('since', 'ADP'), ('2013', 'NOUN'), ('.', '.'), ('Google', 'NOUN'), ('and', 'CONJ'), ('Twitter', 'NOUN'), ('made', 'VERB'), ('a', 'DET'), ('deal', 'NOUN'), ('in', 'ADP'), ('2015', 'NOUN'), ('that', 'ADP'), ('gave', 'VERB'), ('Google', 'X'), ('access', 'NOUN'), ('to', 'PRT'), ('Twitter', 'VERB'), (\"'s\", 'PRT'), ('firehose', 'VERB'), ('.', '.'), ('Twitter', 'NOUN'), ('is', 'VERB'), ('an', 'DET'), ('online', 'NOUN'), ('news', 'NOUN'), ('and', 'CONJ'), ('social', 'ADJ'), ('networking', 'NOUN'), ('service', 'NOUN'), ('on', 'ADP'), ('which', 'DET'), ('users', 'NOUN'), ('post', 'NOUN'), ('and', 'CONJ'), ('interact', 'NOUN'), ('with', 'ADP'), ('messages', 'NOUN'), ('known', 'VERB'), ('as', 'ADP'), ('tweets', 'NOUN'), ('.', '.'), ('Before', 'ADP'), ('entering', 'VERB'), ('politics', 'NOUN'), (',', '.'), ('Donald', 'NOUN'), ('Trump', 'NOUN'), ('was', 'VERB'), ('a', 'DET'), ('domineering', 'NOUN'), ('businessman', 'NOUN'), ('and', 'CONJ'), ('a', 'DET'), ('television', 'NOUN'), ('personality', 'NOUN'), ('.', '.'), ('The', 'DET'), ('2018', 'NOUN'), ('FIFA', 'NOUN'), ('World', 'NOUN'), ('Cup', 'NOUN'), ('is', 'VERB'), ('the', 'DET'), ('21st', 'NOUN'), ('FIFA', 'NOUN'), ('World', 'NOUN'), ('Cup', 'NOUN'), (',', '.'), ('an', 'DET'), ('international', 'ADJ'), ('football', 'NOUN'), ('tournament', 'NOUN'), ('contested', 'NOUN'), ('once', 'ADV'), ('every', 'DET'), ('four', 'NUM'), ('years', 'NOUN'), ('.', '.'), ('This', 'DET'), ('is', 'VERB'), ('the', 'DET'), ('first', 'ADJ'), ('World', 'NOUN'), ('Cup', 'NOUN'), ('to', 'PRT'), ('be', 'VERB'), ('held', 'VERB'), ('in', 'ADP'), ('Eastern', 'NOUN'), ('Europe', 'NOUN'), ('and', 'CONJ'), ('the', 'DET'), ('11th', 'ADJ'), ('time', 'NOUN'), ('that', 'ADP'), ('it', 'PRON'), ('has', 'VERB'), ('been', 'VERB'), ('held', 'VERB'), ('in', 'ADP'), ('Europe', 'NOUN'), ('.', '.'), ('Show', 'NOUN'), ('me', 'PRON'), ('the', 'DET'), ('cheapest', 'ADJ'), ('round', 'NOUN'), ('trips', 'NOUN'), ('from', 'ADP'), ('Dallas', 'NOUN'), ('to', 'PRT'), ('Atlanta', 'NOUN'), ('I', 'PRON'), ('would', 'VERB'), ('like', 'ADP'), ('to', 'PRT'), ('see', 'VERB'), ('flights', 'NOUN'), ('from', 'ADP'), ('Denver', 'NOUN'), ('to', 'PRT'), ('Philadelphia', 'NOUN'), ('.', '.'), ('Show', 'NOUN'), ('me', 'PRON'), ('the', 'DET'), ('price', 'NOUN'), ('of', 'ADP'), ('the', 'DET'), ('flights', 'NOUN'), ('leaving', 'VERB'), ('Atlanta', 'NOUN'), ('at', 'ADP'), ('about', 'ADP'), ('3', 'NUM'), ('in', 'ADP'), ('the', 'DET'), ('afternoon', 'NOUN'), ('and', 'CONJ'), ('arriving', 'NOUN'), ('in', 'ADP'), ('San', 'NOUN'), ('Francisco', 'NOUN'), ('.', '.'), ('NASA', 'NOUN'), ('invited', 'NOUN'), ('social', 'ADJ'), ('media', 'NOUN'), ('users', 'NOUN'), ('to', 'PRT'), ('experience', 'NOUN'), ('the', 'DET'), ('launch', 'NOUN'), ('of', 'ADP'), ('ICESAT-2', 'NOUN'), ('Satellite', 'NOUN'), ('.', '.')]\n",
      "\n",
      "\n",
      "-----------------------------------------------------------------------------------------------------------------------------\n",
      "Tagging sequence with Viterbi_Backedup_By_Trigram_Tagger:\n",
      "\n",
      " [('Android', 'NOUN'), ('is', 'VERB'), ('a', 'DET'), ('mobile', 'ADJ'), ('operating', 'NOUN'), ('system', 'NOUN'), ('developed', 'VERB'), ('by', 'ADP'), ('Google', 'NOUN'), ('.', '.'), ('Android', 'NOUN'), ('has', 'VERB'), ('been', 'VERB'), ('the', 'DET'), ('best-selling', 'ADJ'), ('OS', 'NOUN'), ('worldwide', 'NOUN'), ('on', 'ADP'), ('smartphones', 'VERB'), ('since', 'ADP'), ('2011', 'NUM'), ('and', 'CONJ'), ('on', 'ADP'), ('tablets', 'NOUN'), ('since', 'ADP'), ('2013', 'NUM'), ('.', '.'), ('Google', 'NOUN'), ('and', 'CONJ'), ('Twitter', 'NOUN'), ('made', 'VERB'), ('a', 'DET'), ('deal', 'NOUN'), ('in', 'ADP'), ('2015', 'NUM'), ('that', 'ADP'), ('gave', 'VERB'), ('Google', 'NOUN'), ('access', 'NOUN'), ('to', 'PRT'), ('Twitter', 'NOUN'), (\"'s\", 'PRT'), ('firehose', 'NOUN'), ('.', '.'), ('Twitter', 'NOUN'), ('is', 'VERB'), ('an', 'DET'), ('online', 'NOUN'), ('news', 'NOUN'), ('and', 'CONJ'), ('social', 'ADJ'), ('networking', 'NOUN'), ('service', 'NOUN'), ('on', 'ADP'), ('which', 'DET'), ('users', 'NOUN'), ('post', 'NOUN'), ('and', 'CONJ'), ('interact', 'NOUN'), ('with', 'ADP'), ('messages', 'VERB'), ('known', 'VERB'), ('as', 'ADP'), ('tweets', 'NOUN'), ('.', '.'), ('Before', 'ADP'), ('entering', 'VERB'), ('politics', 'NOUN'), (',', '.'), ('Donald', 'NOUN'), ('Trump', 'NOUN'), ('was', 'VERB'), ('a', 'DET'), ('domineering', 'VERB'), ('businessman', 'NOUN'), ('and', 'CONJ'), ('a', 'DET'), ('television', 'NOUN'), ('personality', 'NOUN'), ('.', '.'), ('The', 'DET'), ('2018', 'NUM'), ('FIFA', 'NOUN'), ('World', 'NOUN'), ('Cup', 'NOUN'), ('is', 'VERB'), ('the', 'DET'), ('21st', 'NUM'), ('FIFA', 'NOUN'), ('World', 'NOUN'), ('Cup', 'NOUN'), (',', '.'), ('an', 'DET'), ('international', 'ADJ'), ('football', 'NOUN'), ('tournament', 'NOUN'), ('contested', 'VERB'), ('once', 'ADV'), ('every', 'DET'), ('four', 'NUM'), ('years', 'NOUN'), ('.', '.'), ('This', 'DET'), ('is', 'VERB'), ('the', 'DET'), ('first', 'ADJ'), ('World', 'NOUN'), ('Cup', 'NOUN'), ('to', 'PRT'), ('be', 'VERB'), ('held', 'VERB'), ('in', 'ADP'), ('Eastern', 'NOUN'), ('Europe', 'NOUN'), ('and', 'CONJ'), ('the', 'DET'), ('11th', 'ADJ'), ('time', 'NOUN'), ('that', 'ADP'), ('it', 'PRON'), ('has', 'VERB'), ('been', 'VERB'), ('held', 'VERB'), ('in', 'ADP'), ('Europe', 'NOUN'), ('.', '.'), ('Show', 'NOUN'), ('me', 'PRON'), ('the', 'DET'), ('cheapest', 'ADJ'), ('round', 'NOUN'), ('trips', 'NOUN'), ('from', 'ADP'), ('Dallas', 'NOUN'), ('to', 'PRT'), ('Atlanta', 'NOUN'), ('I', 'PRON'), ('would', 'VERB'), ('like', 'ADP'), ('to', 'PRT'), ('see', 'VERB'), ('flights', 'NOUN'), ('from', 'ADP'), ('Denver', 'NOUN'), ('to', 'PRT'), ('Philadelphia', 'NOUN'), ('.', '.'), ('Show', 'NOUN'), ('me', 'PRON'), ('the', 'DET'), ('price', 'NOUN'), ('of', 'ADP'), ('the', 'DET'), ('flights', 'NOUN'), ('leaving', 'VERB'), ('Atlanta', 'NOUN'), ('at', 'ADP'), ('about', 'ADP'), ('3', 'NUM'), ('in', 'ADP'), ('the', 'DET'), ('afternoon', 'NOUN'), ('and', 'CONJ'), ('arriving', 'VERB'), ('in', 'ADP'), ('San', 'NOUN'), ('Francisco', 'NOUN'), ('.', '.'), ('NASA', 'NOUN'), ('invited', 'VERB'), ('social', 'ADJ'), ('media', 'NOUN'), ('users', 'NOUN'), ('to', 'PRT'), ('experience', 'NOUN'), ('the', 'DET'), ('launch', 'NOUN'), ('of', 'ADP'), ('ICESAT-2', 'NOUN'), ('Satellite', 'NOUN'), ('.', '.')]\n"
     ]
    }
   ],
   "source": [
    "# Default Vanilla Viterbi\n",
    "# pos tags with Vanilla Viterbi\n",
    "sample_test_data_tagged_sequence_with_vanilla_viterbi = vanilla_viterbi(test_tagged_words)\n",
    "print(\"Tagging sequence with vanilla_viterbi:\\n\\n\", sample_test_data_tagged_sequence_with_vanilla_viterbi)\n",
    "\n",
    "print('\\n')\n",
    "print('-'*125)\n",
    "\n",
    "# Method 1 - pos tags with unknown_words_with_vanilla_viterbi\n",
    "sample_test_data_tagged_sequence_unknown_words = unknown_words_with_vanilla_viterbi(test_tagged_words)\n",
    "print(\"Tagging sequence with Vanilla Viterbi using only transition probability for unknown words:\\n\\n\", \n",
    "      sample_test_data_tagged_sequence_unknown_words)\n",
    "\n",
    "print('\\n')\n",
    "print('-'*125)\n",
    "\n",
    "# Method 2 - pos tags with Viterbi_Backedup_By_Trigram_Tagger\n",
    "sample_test_data_tagged_sequence_with_viterbi_trigram = Viterbi_Backedup_By_Trigram_Tagger(test_tagged_words)\n",
    "print(\"Tagging sequence with Viterbi_Backedup_By_Trigram_Tagger:\\n\\n\", sample_test_data_tagged_sequence_with_viterbi_trigram)"
   ]
  },
  {
   "cell_type": "code",
   "execution_count": 71,
   "metadata": {},
   "outputs": [
    {
     "data": {
      "text/html": [
       "<div>\n",
       "<style scoped>\n",
       "    .dataframe tbody tr th:only-of-type {\n",
       "        vertical-align: middle;\n",
       "    }\n",
       "\n",
       "    .dataframe tbody tr th {\n",
       "        vertical-align: top;\n",
       "    }\n",
       "\n",
       "    .dataframe thead th {\n",
       "        text-align: right;\n",
       "    }\n",
       "</style>\n",
       "<table border=\"1\" class=\"dataframe\">\n",
       "  <thead>\n",
       "    <tr style=\"text-align: right;\">\n",
       "      <th></th>\n",
       "      <th>actual_tags</th>\n",
       "      <th>as_tagged_by_vanilla_viterbi</th>\n",
       "      <th>as_tagged_by_Vanilla_Viterbi_for_Unknown_Words</th>\n",
       "      <th>as_tagged_by_Vanilla_Viterbi_backed_by_trigram_tagger</th>\n",
       "    </tr>\n",
       "  </thead>\n",
       "  <tbody>\n",
       "    <tr>\n",
       "      <td>0</td>\n",
       "      <td>(Android, NOUN)</td>\n",
       "      <td>(Android, ADV)</td>\n",
       "      <td>(Android, NOUN)</td>\n",
       "      <td>(Android, NOUN)</td>\n",
       "    </tr>\n",
       "    <tr>\n",
       "      <td>8</td>\n",
       "      <td>(Google, NOUN)</td>\n",
       "      <td>(Google, ADV)</td>\n",
       "      <td>(Google, NOUN)</td>\n",
       "      <td>(Google, NOUN)</td>\n",
       "    </tr>\n",
       "    <tr>\n",
       "      <td>10</td>\n",
       "      <td>(Android, NOUN)</td>\n",
       "      <td>(Android, ADV)</td>\n",
       "      <td>(Android, NOUN)</td>\n",
       "      <td>(Android, NOUN)</td>\n",
       "    </tr>\n",
       "    <tr>\n",
       "      <td>15</td>\n",
       "      <td>(OS, NOUN)</td>\n",
       "      <td>(OS, ADV)</td>\n",
       "      <td>(OS, NOUN)</td>\n",
       "      <td>(OS, NOUN)</td>\n",
       "    </tr>\n",
       "    <tr>\n",
       "      <td>16</td>\n",
       "      <td>(worldwide, NOUN)</td>\n",
       "      <td>(worldwide, ADV)</td>\n",
       "      <td>(worldwide, NOUN)</td>\n",
       "      <td>(worldwide, NOUN)</td>\n",
       "    </tr>\n",
       "    <tr>\n",
       "      <td>18</td>\n",
       "      <td>(smartphones, NOUN)</td>\n",
       "      <td>(smartphones, ADV)</td>\n",
       "      <td>(smartphones, NOUN)</td>\n",
       "      <td>(smartphones, VERB)</td>\n",
       "    </tr>\n",
       "    <tr>\n",
       "      <td>20</td>\n",
       "      <td>(2011, NUM)</td>\n",
       "      <td>(2011, ADV)</td>\n",
       "      <td>(2011, NOUN)</td>\n",
       "      <td>(2011, NUM)</td>\n",
       "    </tr>\n",
       "    <tr>\n",
       "      <td>25</td>\n",
       "      <td>(2013, NUM)</td>\n",
       "      <td>(2013, ADV)</td>\n",
       "      <td>(2013, NOUN)</td>\n",
       "      <td>(2013, NUM)</td>\n",
       "    </tr>\n",
       "    <tr>\n",
       "      <td>27</td>\n",
       "      <td>(Google, NOUN)</td>\n",
       "      <td>(Google, ADV)</td>\n",
       "      <td>(Google, NOUN)</td>\n",
       "      <td>(Google, NOUN)</td>\n",
       "    </tr>\n",
       "    <tr>\n",
       "      <td>29</td>\n",
       "      <td>(Twitter, NOUN)</td>\n",
       "      <td>(Twitter, ADV)</td>\n",
       "      <td>(Twitter, NOUN)</td>\n",
       "      <td>(Twitter, NOUN)</td>\n",
       "    </tr>\n",
       "    <tr>\n",
       "      <td>34</td>\n",
       "      <td>(2015, NUM)</td>\n",
       "      <td>(2015, ADV)</td>\n",
       "      <td>(2015, NOUN)</td>\n",
       "      <td>(2015, NUM)</td>\n",
       "    </tr>\n",
       "    <tr>\n",
       "      <td>37</td>\n",
       "      <td>(Google, NOUN)</td>\n",
       "      <td>(Google, ADV)</td>\n",
       "      <td>(Google, X)</td>\n",
       "      <td>(Google, NOUN)</td>\n",
       "    </tr>\n",
       "    <tr>\n",
       "      <td>40</td>\n",
       "      <td>(Twitter, NOUN)</td>\n",
       "      <td>(Twitter, ADV)</td>\n",
       "      <td>(Twitter, VERB)</td>\n",
       "      <td>(Twitter, NOUN)</td>\n",
       "    </tr>\n",
       "    <tr>\n",
       "      <td>42</td>\n",
       "      <td>(firehose, NOUN)</td>\n",
       "      <td>(firehose, ADV)</td>\n",
       "      <td>(firehose, VERB)</td>\n",
       "      <td>(firehose, NOUN)</td>\n",
       "    </tr>\n",
       "    <tr>\n",
       "      <td>44</td>\n",
       "      <td>(Twitter, NOUN)</td>\n",
       "      <td>(Twitter, ADV)</td>\n",
       "      <td>(Twitter, NOUN)</td>\n",
       "      <td>(Twitter, NOUN)</td>\n",
       "    </tr>\n",
       "    <tr>\n",
       "      <td>47</td>\n",
       "      <td>(online, ADJ)</td>\n",
       "      <td>(online, ADV)</td>\n",
       "      <td>(online, NOUN)</td>\n",
       "      <td>(online, NOUN)</td>\n",
       "    </tr>\n",
       "    <tr>\n",
       "      <td>58</td>\n",
       "      <td>(interact, NOUN)</td>\n",
       "      <td>(interact, ADV)</td>\n",
       "      <td>(interact, NOUN)</td>\n",
       "      <td>(interact, NOUN)</td>\n",
       "    </tr>\n",
       "    <tr>\n",
       "      <td>60</td>\n",
       "      <td>(messages, NOUN)</td>\n",
       "      <td>(messages, ADV)</td>\n",
       "      <td>(messages, NOUN)</td>\n",
       "      <td>(messages, VERB)</td>\n",
       "    </tr>\n",
       "    <tr>\n",
       "      <td>63</td>\n",
       "      <td>(tweets, NOUN)</td>\n",
       "      <td>(tweets, ADV)</td>\n",
       "      <td>(tweets, NOUN)</td>\n",
       "      <td>(tweets, NOUN)</td>\n",
       "    </tr>\n",
       "    <tr>\n",
       "      <td>73</td>\n",
       "      <td>(domineering, ADJ)</td>\n",
       "      <td>(domineering, ADV)</td>\n",
       "      <td>(domineering, NOUN)</td>\n",
       "      <td>(domineering, VERB)</td>\n",
       "    </tr>\n",
       "    <tr>\n",
       "      <td>78</td>\n",
       "      <td>(personality, NOUN)</td>\n",
       "      <td>(personality, ADV)</td>\n",
       "      <td>(personality, NOUN)</td>\n",
       "      <td>(personality, NOUN)</td>\n",
       "    </tr>\n",
       "    <tr>\n",
       "      <td>81</td>\n",
       "      <td>(2018, NUM)</td>\n",
       "      <td>(2018, ADV)</td>\n",
       "      <td>(2018, NOUN)</td>\n",
       "      <td>(2018, NUM)</td>\n",
       "    </tr>\n",
       "    <tr>\n",
       "      <td>82</td>\n",
       "      <td>(FIFA, NOUN)</td>\n",
       "      <td>(FIFA, ADV)</td>\n",
       "      <td>(FIFA, NOUN)</td>\n",
       "      <td>(FIFA, NOUN)</td>\n",
       "    </tr>\n",
       "    <tr>\n",
       "      <td>84</td>\n",
       "      <td>(Cup, NOUN)</td>\n",
       "      <td>(Cup, ADV)</td>\n",
       "      <td>(Cup, NOUN)</td>\n",
       "      <td>(Cup, NOUN)</td>\n",
       "    </tr>\n",
       "    <tr>\n",
       "      <td>87</td>\n",
       "      <td>(21st, NUM)</td>\n",
       "      <td>(21st, ADV)</td>\n",
       "      <td>(21st, NOUN)</td>\n",
       "      <td>(21st, NUM)</td>\n",
       "    </tr>\n",
       "    <tr>\n",
       "      <td>88</td>\n",
       "      <td>(FIFA, NOUN)</td>\n",
       "      <td>(FIFA, ADV)</td>\n",
       "      <td>(FIFA, NOUN)</td>\n",
       "      <td>(FIFA, NOUN)</td>\n",
       "    </tr>\n",
       "    <tr>\n",
       "      <td>90</td>\n",
       "      <td>(Cup, NOUN)</td>\n",
       "      <td>(Cup, ADV)</td>\n",
       "      <td>(Cup, NOUN)</td>\n",
       "      <td>(Cup, NOUN)</td>\n",
       "    </tr>\n",
       "    <tr>\n",
       "      <td>95</td>\n",
       "      <td>(tournament, NOUN)</td>\n",
       "      <td>(tournament, ADV)</td>\n",
       "      <td>(tournament, NOUN)</td>\n",
       "      <td>(tournament, NOUN)</td>\n",
       "    </tr>\n",
       "    <tr>\n",
       "      <td>96</td>\n",
       "      <td>(contested, VERB)</td>\n",
       "      <td>(contested, ADV)</td>\n",
       "      <td>(contested, NOUN)</td>\n",
       "      <td>(contested, VERB)</td>\n",
       "    </tr>\n",
       "    <tr>\n",
       "      <td>107</td>\n",
       "      <td>(Cup, NOUN)</td>\n",
       "      <td>(Cup, ADV)</td>\n",
       "      <td>(Cup, NOUN)</td>\n",
       "      <td>(Cup, NOUN)</td>\n",
       "    </tr>\n",
       "    <tr>\n",
       "      <td>131</td>\n",
       "      <td>(trips, NOUN)</td>\n",
       "      <td>(trips, ADV)</td>\n",
       "      <td>(trips, NOUN)</td>\n",
       "      <td>(trips, NOUN)</td>\n",
       "    </tr>\n",
       "    <tr>\n",
       "      <td>163</td>\n",
       "      <td>(arriving, NOUN)</td>\n",
       "      <td>(arriving, ADV)</td>\n",
       "      <td>(arriving, NOUN)</td>\n",
       "      <td>(arriving, VERB)</td>\n",
       "    </tr>\n",
       "    <tr>\n",
       "      <td>168</td>\n",
       "      <td>(NASA, NOUN)</td>\n",
       "      <td>(NASA, ADV)</td>\n",
       "      <td>(NASA, NOUN)</td>\n",
       "      <td>(NASA, NOUN)</td>\n",
       "    </tr>\n",
       "    <tr>\n",
       "      <td>169</td>\n",
       "      <td>(invited, VERB)</td>\n",
       "      <td>(invited, ADV)</td>\n",
       "      <td>(invited, NOUN)</td>\n",
       "      <td>(invited, VERB)</td>\n",
       "    </tr>\n",
       "    <tr>\n",
       "      <td>178</td>\n",
       "      <td>(ICESAT-2, NOUN)</td>\n",
       "      <td>(ICESAT-2, ADV)</td>\n",
       "      <td>(ICESAT-2, NOUN)</td>\n",
       "      <td>(ICESAT-2, NOUN)</td>\n",
       "    </tr>\n",
       "    <tr>\n",
       "      <td>179</td>\n",
       "      <td>(Satellite, NOUN)</td>\n",
       "      <td>(Satellite, ADV)</td>\n",
       "      <td>(Satellite, NOUN)</td>\n",
       "      <td>(Satellite, NOUN)</td>\n",
       "    </tr>\n",
       "  </tbody>\n",
       "</table>\n",
       "</div>"
      ],
      "text/plain": [
       "             actual_tags as_tagged_by_vanilla_viterbi  \\\n",
       "0        (Android, NOUN)               (Android, ADV)   \n",
       "8         (Google, NOUN)                (Google, ADV)   \n",
       "10       (Android, NOUN)               (Android, ADV)   \n",
       "15            (OS, NOUN)                    (OS, ADV)   \n",
       "16     (worldwide, NOUN)             (worldwide, ADV)   \n",
       "18   (smartphones, NOUN)           (smartphones, ADV)   \n",
       "20           (2011, NUM)                  (2011, ADV)   \n",
       "25           (2013, NUM)                  (2013, ADV)   \n",
       "27        (Google, NOUN)                (Google, ADV)   \n",
       "29       (Twitter, NOUN)               (Twitter, ADV)   \n",
       "34           (2015, NUM)                  (2015, ADV)   \n",
       "37        (Google, NOUN)                (Google, ADV)   \n",
       "40       (Twitter, NOUN)               (Twitter, ADV)   \n",
       "42      (firehose, NOUN)              (firehose, ADV)   \n",
       "44       (Twitter, NOUN)               (Twitter, ADV)   \n",
       "47         (online, ADJ)                (online, ADV)   \n",
       "58      (interact, NOUN)              (interact, ADV)   \n",
       "60      (messages, NOUN)              (messages, ADV)   \n",
       "63        (tweets, NOUN)                (tweets, ADV)   \n",
       "73    (domineering, ADJ)           (domineering, ADV)   \n",
       "78   (personality, NOUN)           (personality, ADV)   \n",
       "81           (2018, NUM)                  (2018, ADV)   \n",
       "82          (FIFA, NOUN)                  (FIFA, ADV)   \n",
       "84           (Cup, NOUN)                   (Cup, ADV)   \n",
       "87           (21st, NUM)                  (21st, ADV)   \n",
       "88          (FIFA, NOUN)                  (FIFA, ADV)   \n",
       "90           (Cup, NOUN)                   (Cup, ADV)   \n",
       "95    (tournament, NOUN)            (tournament, ADV)   \n",
       "96     (contested, VERB)             (contested, ADV)   \n",
       "107          (Cup, NOUN)                   (Cup, ADV)   \n",
       "131        (trips, NOUN)                 (trips, ADV)   \n",
       "163     (arriving, NOUN)              (arriving, ADV)   \n",
       "168         (NASA, NOUN)                  (NASA, ADV)   \n",
       "169      (invited, VERB)               (invited, ADV)   \n",
       "178     (ICESAT-2, NOUN)              (ICESAT-2, ADV)   \n",
       "179    (Satellite, NOUN)             (Satellite, ADV)   \n",
       "\n",
       "    as_tagged_by_Vanilla_Viterbi_for_Unknown_Words  \\\n",
       "0                                  (Android, NOUN)   \n",
       "8                                   (Google, NOUN)   \n",
       "10                                 (Android, NOUN)   \n",
       "15                                      (OS, NOUN)   \n",
       "16                               (worldwide, NOUN)   \n",
       "18                             (smartphones, NOUN)   \n",
       "20                                    (2011, NOUN)   \n",
       "25                                    (2013, NOUN)   \n",
       "27                                  (Google, NOUN)   \n",
       "29                                 (Twitter, NOUN)   \n",
       "34                                    (2015, NOUN)   \n",
       "37                                     (Google, X)   \n",
       "40                                 (Twitter, VERB)   \n",
       "42                                (firehose, VERB)   \n",
       "44                                 (Twitter, NOUN)   \n",
       "47                                  (online, NOUN)   \n",
       "58                                (interact, NOUN)   \n",
       "60                                (messages, NOUN)   \n",
       "63                                  (tweets, NOUN)   \n",
       "73                             (domineering, NOUN)   \n",
       "78                             (personality, NOUN)   \n",
       "81                                    (2018, NOUN)   \n",
       "82                                    (FIFA, NOUN)   \n",
       "84                                     (Cup, NOUN)   \n",
       "87                                    (21st, NOUN)   \n",
       "88                                    (FIFA, NOUN)   \n",
       "90                                     (Cup, NOUN)   \n",
       "95                              (tournament, NOUN)   \n",
       "96                               (contested, NOUN)   \n",
       "107                                    (Cup, NOUN)   \n",
       "131                                  (trips, NOUN)   \n",
       "163                               (arriving, NOUN)   \n",
       "168                                   (NASA, NOUN)   \n",
       "169                                (invited, NOUN)   \n",
       "178                               (ICESAT-2, NOUN)   \n",
       "179                              (Satellite, NOUN)   \n",
       "\n",
       "    as_tagged_by_Vanilla_Viterbi_backed_by_trigram_tagger  \n",
       "0                                      (Android, NOUN)     \n",
       "8                                       (Google, NOUN)     \n",
       "10                                     (Android, NOUN)     \n",
       "15                                          (OS, NOUN)     \n",
       "16                                   (worldwide, NOUN)     \n",
       "18                                 (smartphones, VERB)     \n",
       "20                                         (2011, NUM)     \n",
       "25                                         (2013, NUM)     \n",
       "27                                      (Google, NOUN)     \n",
       "29                                     (Twitter, NOUN)     \n",
       "34                                         (2015, NUM)     \n",
       "37                                      (Google, NOUN)     \n",
       "40                                     (Twitter, NOUN)     \n",
       "42                                    (firehose, NOUN)     \n",
       "44                                     (Twitter, NOUN)     \n",
       "47                                      (online, NOUN)     \n",
       "58                                    (interact, NOUN)     \n",
       "60                                    (messages, VERB)     \n",
       "63                                      (tweets, NOUN)     \n",
       "73                                 (domineering, VERB)     \n",
       "78                                 (personality, NOUN)     \n",
       "81                                         (2018, NUM)     \n",
       "82                                        (FIFA, NOUN)     \n",
       "84                                         (Cup, NOUN)     \n",
       "87                                         (21st, NUM)     \n",
       "88                                        (FIFA, NOUN)     \n",
       "90                                         (Cup, NOUN)     \n",
       "95                                  (tournament, NOUN)     \n",
       "96                                   (contested, VERB)     \n",
       "107                                        (Cup, NOUN)     \n",
       "131                                      (trips, NOUN)     \n",
       "163                                   (arriving, VERB)     \n",
       "168                                       (NASA, NOUN)     \n",
       "169                                    (invited, VERB)     \n",
       "178                                   (ICESAT-2, NOUN)     \n",
       "179                                  (Satellite, NOUN)     "
      ]
     },
     "execution_count": 71,
     "metadata": {},
     "output_type": "execute_result"
    }
   ],
   "source": [
    "# A dataframe showing - \n",
    "# 1. the actual tags using nltk.pos_tag_sent\n",
    "# 2. words as tagged by vanilla viterbi\n",
    "# 3. words as tagged by Vanilla_Viterbi_With_Unknown_Words - METHOD - 1\n",
    "# 4. words as tagged by Viterbi_Backedup_By_Trigram_Tagger - METHOD - 2\n",
    "\n",
    "cols1 = ['actual_tags', 'as_tagged_by_vanilla_viterbi', 'as_tagged_by_Vanilla_Viterbi_for_Unknown_Words',\n",
    "            'as_tagged_by_Vanilla_Viterbi_backed_by_trigram_tagger']\n",
    "\n",
    "df_tags_comparison = pd.DataFrame(columns = cols1)\n",
    "df_tags_comparison = df_tags_comparison.fillna(0)\n",
    "\n",
    "# Actual tags\n",
    "df_tags_comparison.actual_tags = [tup for tup in tagged_words_test_run_base]\n",
    "\n",
    "# tags by vanilla viterbi\n",
    "df_tags_comparison.as_tagged_by_vanilla_viterbi = [tup for tup in sample_test_data_tagged_sequence_with_vanilla_viterbi]\n",
    "\n",
    "# tags by Vanilla_Viterbi_With_Unknown_Words - METHOD - 1\n",
    "df_tags_comparison.as_tagged_by_Vanilla_Viterbi_for_Unknown_Words = [tup for tup in sample_test_data_tagged_sequence_unknown_words]\n",
    "\n",
    "# tags by Viterbi_Backedup_By_Trigram_Tagger - METHOD - 2\n",
    "df_tags_comparison.as_tagged_by_Vanilla_Viterbi_backed_by_trigram_tagger = [tup for tup in \n",
    "                                                                            sample_test_data_tagged_sequence_with_viterbi_trigram]\n",
    "\n",
    "df_tags_comparison[df_tags_comparison.as_tagged_by_vanilla_viterbi != \n",
    "                   df_tags_comparison.as_tagged_by_Vanilla_Viterbi_backed_by_trigram_tagger]"
   ]
  },
  {
   "cell_type": "markdown",
   "metadata": {},
   "source": [
    "<b><u><h3><font color = 'green'> Conclusion : </h3></u></b>\n",
    "##### Most of the words that were incorrectly tagged by the Vanilla Viterbi algorithm were corrected by the Viterbi algorithm backed up by the Trigram Tagger.\n",
    "##### Below are the 2 modification techniques used for the original Vanilla Viterbi\n",
    "\n",
    "##### Technique 1 \n",
    "- Considered only Transition probability for Unknown Words.\n",
    "- Achieved 93% accuracy.\n",
    "\n",
    "##### Technique 2 \n",
    "- Viterbi algorithm and backed it up with the trigram tagger which was inturn backed up by the rule based \n",
    "regex tagger.\n",
    "- Achieved 95% accuracy.\n",
    "- Ans also it's achieved an accuracy of 92% on sample test data"
   ]
  },
  {
   "cell_type": "code",
   "execution_count": null,
   "metadata": {},
   "outputs": [],
   "source": []
  }
 ],
 "metadata": {
  "kernelspec": {
   "display_name": "Python 3",
   "language": "python",
   "name": "python3"
  },
  "language_info": {
   "codemirror_mode": {
    "name": "ipython",
    "version": 3
   },
   "file_extension": ".py",
   "mimetype": "text/x-python",
   "name": "python",
   "nbconvert_exporter": "python",
   "pygments_lexer": "ipython3",
   "version": "3.7.4"
  }
 },
 "nbformat": 4,
 "nbformat_minor": 2
}
