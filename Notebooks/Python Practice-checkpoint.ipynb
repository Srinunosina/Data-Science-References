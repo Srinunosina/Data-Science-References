{
 "cells": [
  {
   "cell_type": "code",
   "execution_count": 1,
   "metadata": {},
   "outputs": [],
   "source": [
    "import numpy as np\n",
    "import pandas as pd"
   ]
  },
  {
   "cell_type": "code",
   "execution_count": 2,
   "metadata": {},
   "outputs": [
    {
     "name": "stdout",
     "output_type": "stream",
     "text": [
      "[1, 2, 3, 4, 5, 6, 7, 8, 9, 10]\n"
     ]
    }
   ],
   "source": [
    "lst = []\n",
    "for i in range(1, 11):\n",
    "    lst.append(i)\n",
    "    \n",
    "print(lst)"
   ]
  },
  {
   "cell_type": "code",
   "execution_count": 3,
   "metadata": {},
   "outputs": [
    {
     "data": {
      "text/plain": [
       "[1, 2, 3, 4, 5, 6, 7, 8, 9, 10]"
      ]
     },
     "execution_count": 3,
     "metadata": {},
     "output_type": "execute_result"
    }
   ],
   "source": [
    "lst1 = [i for i in range(1, 11)]\n",
    "lst1"
   ]
  },
  {
   "cell_type": "code",
   "execution_count": 5,
   "metadata": {},
   "outputs": [
    {
     "data": {
      "text/plain": [
       "[2, 4, 6, 8, 10]"
      ]
     },
     "execution_count": 5,
     "metadata": {},
     "output_type": "execute_result"
    }
   ],
   "source": [
    "lst_even = [i for i in range(1, 11) if i%2 == 0]\n",
    "lst_even"
   ]
  },
  {
   "cell_type": "code",
   "execution_count": 6,
   "metadata": {},
   "outputs": [
    {
     "data": {
      "text/plain": [
       "[1, 3, 5, 7, 9]"
      ]
     },
     "execution_count": 6,
     "metadata": {},
     "output_type": "execute_result"
    }
   ],
   "source": [
    "lst_odd = [i for i in range(1, 11) if i%2 != 0]\n",
    "lst_odd"
   ]
  },
  {
   "cell_type": "code",
   "execution_count": 8,
   "metadata": {},
   "outputs": [
    {
     "data": {
      "text/plain": [
       "[5, 8, 10, 20, 23, 30]"
      ]
     },
     "execution_count": 8,
     "metadata": {},
     "output_type": "execute_result"
    }
   ],
   "source": [
    "lst_incr_gt_10 =[ 5, 8, 10, 15, 18, 25]\n",
    "\n",
    "res = [i+5 if i> 10 else i for i in lst_incr_gt_10 ]\n",
    "res"
   ]
  },
  {
   "cell_type": "code",
   "execution_count": 1,
   "metadata": {},
   "outputs": [
    {
     "name": "stdout",
     "output_type": "stream",
     "text": [
      "Good\n"
     ]
    }
   ],
   "source": [
    "s1= \"I am Good\"\n",
    "\n",
    "print(s1[5:9])"
   ]
  },
  {
   "cell_type": "code",
   "execution_count": 2,
   "metadata": {},
   "outputs": [
    {
     "name": "stdout",
     "output_type": "stream",
     "text": [
      "range(1, 10)\n"
     ]
    }
   ],
   "source": [
    "print(range(1, 10))"
   ]
  },
  {
   "cell_type": "code",
   "execution_count": 5,
   "metadata": {},
   "outputs": [
    {
     "name": "stdout",
     "output_type": "stream",
     "text": [
      "1\n",
      "2\n",
      "3\n",
      "4\n",
      "5\n",
      "6\n",
      "7\n",
      "8\n",
      "9\n"
     ]
    }
   ],
   "source": [
    "for i in range(1, 10):\n",
    "    print(i)\n"
   ]
  },
  {
   "cell_type": "code",
   "execution_count": 10,
   "metadata": {},
   "outputs": [
    {
     "name": "stdout",
     "output_type": "stream",
     "text": [
      "a\n",
      "b\n",
      "a\n",
      "b\n",
      "c\n",
      "c\n"
     ]
    },
    {
     "data": {
      "text/plain": [
       "['a', 'b', 'c']"
      ]
     },
     "execution_count": 10,
     "metadata": {},
     "output_type": "execute_result"
    }
   ],
   "source": [
    "lst1 = ['A', 'B', 'a', 'b', 'C', 'c']\n",
    "l1 = []\n",
    "\n",
    "for item in lst1:\n",
    "    print(item.lower())\n",
    "    if item.lower() not in l1:\n",
    "        l1.append(item.lower())\n",
    "\n",
    "l1"
   ]
  },
  {
   "cell_type": "code",
   "execution_count": 24,
   "metadata": {},
   "outputs": [
    {
     "data": {
      "text/plain": [
       "[None, None, None]"
      ]
     },
     "execution_count": 24,
     "metadata": {},
     "output_type": "execute_result"
    }
   ],
   "source": [
    "l2 = []\n",
    "\n",
    "l3 = [l2.append(item.lower()) for item in lst1 if item.lower() not in l2]\n",
    "l2\n",
    "l3\n"
   ]
  },
  {
   "cell_type": "code",
   "execution_count": 16,
   "metadata": {},
   "outputs": [
    {
     "name": "stdout",
     "output_type": "stream",
     "text": [
      "A\n",
      "B\n",
      "a\n",
      "b\n",
      "C\n",
      "c\n"
     ]
    }
   ],
   "source": [
    "for item in lst1:\n",
    "    print(item)"
   ]
  },
  {
   "cell_type": "code",
   "execution_count": 26,
   "metadata": {},
   "outputs": [
    {
     "name": "stdout",
     "output_type": "stream",
     "text": [
      "{'AA', 'BB'}\n"
     ]
    }
   ],
   "source": [
    "lst = ['AA', 'BB', 'AA', 'BB']\n",
    "print(set(lst))"
   ]
  },
  {
   "cell_type": "code",
   "execution_count": 29,
   "metadata": {},
   "outputs": [
    {
     "name": "stdout",
     "output_type": "stream",
     "text": [
      "2\n"
     ]
    }
   ],
   "source": [
    "res = 0;\n",
    "\n",
    "for item in lst:\n",
    "    if item.lower() == 'AA'.lower():\n",
    "        res +=1\n",
    "print(res)\n",
    "    "
   ]
  },
  {
   "cell_type": "code",
   "execution_count": 32,
   "metadata": {},
   "outputs": [
    {
     "name": "stdout",
     "output_type": "stream",
     "text": [
      "120\n"
     ]
    }
   ],
   "source": [
    "#5! \n",
    "upper_limit = 6; fact =1;\n",
    "\n",
    "for item in range(1, upper_limit):\n",
    "    fact= item * fact\n",
    "    \n",
    "print(fact)"
   ]
  },
  {
   "cell_type": "code",
   "execution_count": 47,
   "metadata": {},
   "outputs": [
    {
     "data": {
      "text/plain": [
       "720"
      ]
     },
     "execution_count": 47,
     "metadata": {},
     "output_type": "execute_result"
    }
   ],
   "source": [
    "def fact(number):\n",
    "    if number == 1 or number == 0:\n",
    "        return number;\n",
    "    else:\n",
    "        return number * fact(number -1)\n",
    "        \n",
    "fact(6)"
   ]
  },
  {
   "cell_type": "code",
   "execution_count": 55,
   "metadata": {
    "scrolled": true
   },
   "outputs": [
    {
     "name": "stdout",
     "output_type": "stream",
     "text": [
      "0 0\n",
      "0 1\n"
     ]
    }
   ],
   "source": [
    "#lower triangle\n",
    "\n",
    "for row in range(0, 1):\n",
    "    for col in range(0, 2):\n",
    "        print(row, col)"
   ]
  },
  {
   "cell_type": "code",
   "execution_count": 57,
   "metadata": {},
   "outputs": [
    {
     "name": "stdout",
     "output_type": "stream",
     "text": [
      "0 1\n"
     ]
    }
   ],
   "source": [
    "for row in range(0, 1):\n",
    "    for col in range(0, 2):\n",
    "        if( row < col):\n",
    "            print(row, col)"
   ]
  },
  {
   "cell_type": "code",
   "execution_count": 58,
   "metadata": {},
   "outputs": [
    {
     "data": {
      "text/plain": [
       "[[1, 4, 5], [-5, 8, 9]]"
      ]
     },
     "execution_count": 58,
     "metadata": {},
     "output_type": "execute_result"
    }
   ],
   "source": [
    "A = [[1, 4, 5], \n",
    "    [-5, 8, 9]]\n",
    "A"
   ]
  },
  {
   "cell_type": "code",
   "execution_count": null,
   "metadata": {},
   "outputs": [],
   "source": [
    "n1 = 12345\n",
    "sum = 0\n",
    "\n",
    "while n1:\n",
    "    r1 = n1 % 10\n",
    "    c1 =  n1 //10\n",
    "    sum += sum +r1\n",
    "    \n",
    "print(sum)"
   ]
  },
  {
   "cell_type": "code",
   "execution_count": 1,
   "metadata": {},
   "outputs": [
    {
     "name": "stdout",
     "output_type": "stream",
     "text": [
      "5\n"
     ]
    }
   ],
   "source": [
    "n1 = 12345\n",
    "print(n1 % 10)"
   ]
  },
  {
   "cell_type": "code",
   "execution_count": 2,
   "metadata": {},
   "outputs": [
    {
     "name": "stdout",
     "output_type": "stream",
     "text": [
      "1234\n"
     ]
    }
   ],
   "source": [
    "print(n1//10)"
   ]
  },
  {
   "cell_type": "code",
   "execution_count": 5,
   "metadata": {
    "scrolled": true
   },
   "outputs": [
    {
     "name": "stdout",
     "output_type": "stream",
     "text": [
      "2\n",
      "1\n",
      "2\n",
      "1\n",
      "0\n",
      "5\n",
      "5\n"
     ]
    }
   ],
   "source": [
    "n1 = 12\n",
    "sum = 0\n",
    "\n",
    "while n1 > 0:\n",
    "    r1 = n1 % 10\n",
    "    print(r1)\n",
    "    n1 =  n1 //10\n",
    "    print(n1)\n",
    "    sum += sum + r1\n",
    "    print(sum)\n",
    "    \n",
    "print(sum)"
   ]
  },
  {
   "cell_type": "code",
   "execution_count": 38,
   "metadata": {},
   "outputs": [],
   "source": [
    "# Identity Matrix\n",
    "\n",
    "matrix = []\n",
    "\n",
    "def print_indentity_matrix(rows, cols):\n",
    "    \n",
    "    for i in range(1, rows):\n",
    "        row = []\n",
    "        for j in range(1, cols):\n",
    "            if i == j:\n",
    "                row.append(1)\n",
    "            else:\n",
    "                row.append(0)                \n",
    "        matrix.append(row)      \n",
    "    \n",
    "        \n",
    "    return matrix;"
   ]
  },
  {
   "cell_type": "code",
   "execution_count": 39,
   "metadata": {},
   "outputs": [
    {
     "data": {
      "text/plain": [
       "[[1, 0, 0, 0, 0, 0, 0],\n",
       " [0, 1, 0, 0, 0, 0, 0],\n",
       " [0, 0, 1, 0, 0, 0, 0],\n",
       " [0, 0, 0, 1, 0, 0, 0],\n",
       " [0, 0, 0, 0, 1, 0, 0],\n",
       " [0, 0, 0, 0, 0, 1, 0],\n",
       " [0, 0, 0, 0, 0, 0, 1]]"
      ]
     },
     "execution_count": 39,
     "metadata": {},
     "output_type": "execute_result"
    }
   ],
   "source": [
    "print_indentity_matrix(8, 8)"
   ]
  },
  {
   "cell_type": "code",
   "execution_count": 50,
   "metadata": {},
   "outputs": [],
   "source": [
    "matrix = []\n",
    "\n",
    "def print_Lowertriangle_matrix(rows, cols):\n",
    "    \n",
    "    for i in range(1, rows):\n",
    "        row = []\n",
    "        \n",
    "        for j in range(1, cols):\n",
    "            if(i ==j):\n",
    "                row.append(i+1)\n",
    "            elif i > j:\n",
    "                row.append(5)\n",
    "            else:\n",
    "                row.append(0)\n",
    "                \n",
    "        matrix.append(row)\n",
    "        \n",
    "    return matrix;"
   ]
  },
  {
   "cell_type": "code",
   "execution_count": 51,
   "metadata": {},
   "outputs": [
    {
     "data": {
      "text/plain": [
       "[[2, 0, 0, 0, 0, 0, 0, 0, 0],\n",
       " [5, 3, 0, 0, 0, 0, 0, 0, 0],\n",
       " [5, 5, 4, 0, 0, 0, 0, 0, 0],\n",
       " [5, 5, 5, 5, 0, 0, 0, 0, 0],\n",
       " [5, 5, 5, 5, 6, 0, 0, 0, 0],\n",
       " [5, 5, 5, 5, 5, 7, 0, 0, 0],\n",
       " [5, 5, 5, 5, 5, 5, 8, 0, 0],\n",
       " [5, 5, 5, 5, 5, 5, 5, 9, 0],\n",
       " [5, 5, 5, 5, 5, 5, 5, 5, 10]]"
      ]
     },
     "execution_count": 51,
     "metadata": {},
     "output_type": "execute_result"
    }
   ],
   "source": [
    "print_Lowertriangle_matrix(10, 10)"
   ]
  },
  {
   "cell_type": "code",
   "execution_count": 54,
   "metadata": {},
   "outputs": [
    {
     "data": {
      "text/plain": [
       "'nohtyp'"
      ]
     },
     "execution_count": 54,
     "metadata": {},
     "output_type": "execute_result"
    }
   ],
   "source": [
    "s1 = \"python\"\n",
    "\n",
    "s1[::-1]"
   ]
  },
  {
   "cell_type": "code",
   "execution_count": 55,
   "metadata": {},
   "outputs": [
    {
     "data": {
      "text/plain": [
       "'noh'"
      ]
     },
     "execution_count": 55,
     "metadata": {},
     "output_type": "execute_result"
    }
   ],
   "source": [
    "s1[:2:-1]"
   ]
  },
  {
   "cell_type": "code",
   "execution_count": 64,
   "metadata": {},
   "outputs": [
    {
     "data": {
      "text/plain": [
       "'no'"
      ]
     },
     "execution_count": 64,
     "metadata": {},
     "output_type": "execute_result"
    }
   ],
   "source": [
    "s1[:-3:-1]"
   ]
  },
  {
   "cell_type": "code",
   "execution_count": 63,
   "metadata": {},
   "outputs": [
    {
     "data": {
      "text/plain": [
       "'Python'"
      ]
     },
     "execution_count": 63,
     "metadata": {},
     "output_type": "execute_result"
    }
   ],
   "source": [
    " 'Py' 'thon'"
   ]
  },
  {
   "cell_type": "code",
   "execution_count": 71,
   "metadata": {},
   "outputs": [
    {
     "data": {
      "text/plain": [
       "'python'"
      ]
     },
     "execution_count": 71,
     "metadata": {},
     "output_type": "execute_result"
    }
   ],
   "source": [
    "s1[-6:]"
   ]
  },
  {
   "cell_type": "code",
   "execution_count": 177,
   "metadata": {},
   "outputs": [],
   "source": [
    "s1 = \"PythonPythonPythonAABBCCAABBCCAAAPython\"\n",
    "s2= \"AA\""
   ]
  },
  {
   "cell_type": "code",
   "execution_count": 178,
   "metadata": {},
   "outputs": [],
   "source": [
    "def str_frequency1(s1, s2):\n",
    "    freq_count =0\n",
    "    for i in range(len(s1)):\n",
    "        if s1[i : i+ len(s2)] == s2:\n",
    "            freq_count +=1\n",
    "            \n",
    "    return freq_count"
   ]
  },
  {
   "cell_type": "code",
   "execution_count": 179,
   "metadata": {},
   "outputs": [
    {
     "data": {
      "text/plain": [
       "4"
      ]
     },
     "execution_count": 179,
     "metadata": {},
     "output_type": "execute_result"
    }
   ],
   "source": [
    "str_frequency1(s1, s2)"
   ]
  },
  {
   "cell_type": "code",
   "execution_count": 637,
   "metadata": {},
   "outputs": [],
   "source": [
    "# Person at starting of Stair, want to reach end of the stairs\n",
    "# rule 1: max step at 1 once : 2\n",
    "        \n",
    "def find_step(n):\n",
    "    if n == 1 or n == 0:\n",
    "        return 1\n",
    "    elif n == 2:\n",
    "        return 2\n",
    "    else :\n",
    "        find_step(n-3) + find_step(n-2) + find_step(n-1)"
   ]
  },
  {
   "cell_type": "code",
   "execution_count": 638,
   "metadata": {},
   "outputs": [
    {
     "name": "stdout",
     "output_type": "stream",
     "text": [
      "10\n"
     ]
    }
   ],
   "source": [
    "print(10)"
   ]
  },
  {
   "cell_type": "code",
   "execution_count": 250,
   "metadata": {},
   "outputs": [],
   "source": [
    "def fibonacci_series(n):\n",
    "    fib = []\n",
    "    n1 = 0\n",
    "    n2 = 1\n",
    "    fib.append(n1)\n",
    "    fib.append(n2)   \n",
    "    \n",
    "    for i in range(1, n-1):    \n",
    "        res = n1 + n2\n",
    "        n1 = n2\n",
    "        n2 = res\n",
    "        fib.append(res)\n",
    "        \n",
    "    return fib \n",
    "        \n"
   ]
  },
  {
   "cell_type": "code",
   "execution_count": 251,
   "metadata": {},
   "outputs": [
    {
     "data": {
      "text/plain": [
       "[0, 1, 1, 2, 3]"
      ]
     },
     "execution_count": 251,
     "metadata": {},
     "output_type": "execute_result"
    }
   ],
   "source": [
    "fibonacci_series(5)"
   ]
  },
  {
   "cell_type": "code",
   "execution_count": 256,
   "metadata": {},
   "outputs": [],
   "source": [
    "# Python program to count all possible paths \n",
    "# from top left to bottom right\n",
    "  \n",
    "# Returns count of possible paths to reach cell \n",
    "# at row number m and column number n from the \n",
    "# topmost leftmost cell (cell at 1, 1)\n",
    "def numberOfPaths(m, n):\n",
    "    # Create a 2D table to store\n",
    "    # results of subproblems\n",
    "    # one-liner logic to take input for rows and columns\n",
    "    # mat = [[int(input()) for x in range (C)] for y in range(R)]\n",
    "      \n",
    "    count = [[0 for x in range(n)] for y in range(m)]\n",
    "    \n",
    "    # Count of paths to reach any \n",
    "    # cell in first column is 1\n",
    "    for i in range(m):\n",
    "        count[i][0] = 1;\n",
    "    \n",
    "    # Count of paths to reach any \n",
    "    # cell in first column is 1\n",
    "    for j in range(n):\n",
    "        count[0][j] = 1;\n",
    "    \n",
    "    # Calculate count of paths for other\n",
    "    # cells in bottom-up \n",
    "    # manner using the recursive solution\n",
    "    for i in range(1, m):\n",
    "        for j in range(1, n):             \n",
    "            count[i][j] = count[i-1][j] + count[i][j-1]\n",
    "    return count[m-1][n-1]"
   ]
  },
  {
   "cell_type": "code",
   "execution_count": 639,
   "metadata": {},
   "outputs": [
    {
     "name": "stdout",
     "output_type": "stream",
     "text": [
      "220\n"
     ]
    }
   ],
   "source": [
    "m = 10\n",
    "n = 4\n",
    "print( numberOfPaths(m, n))"
   ]
  },
  {
   "cell_type": "code",
   "execution_count": null,
   "metadata": {},
   "outputs": [],
   "source": [
    "#Dynamic Program\n",
    "\n",
    "#1. Topdown approach [memoization]\n",
    "#2. Bottomup Tablulation"
   ]
  },
  {
   "cell_type": "code",
   "execution_count": 342,
   "metadata": {},
   "outputs": [],
   "source": [
    "# Fibanacci serice general\n",
    "\n",
    "def fibonacci(n):\n",
    "    if n < 2:\n",
    "        return n\n",
    "    \n",
    "    return fibonacci(n-1) + fibonacci(n-2)\n"
   ]
  },
  {
   "cell_type": "code",
   "execution_count": 347,
   "metadata": {},
   "outputs": [
    {
     "name": "stdout",
     "output_type": "stream",
     "text": [
      "6th Fibonacci is: 8\n",
      "7th Fibonacci is: 13\n",
      "8th Fibonacci is: 21\n"
     ]
    }
   ],
   "source": [
    "print('6th Fibonacci is:', fibonacci(6))\n",
    "print('7th Fibonacci is:', fibonacci(7))\n",
    "print('8th Fibonacci is:', fibonacci(8))"
   ]
  },
  {
   "cell_type": "code",
   "execution_count": 379,
   "metadata": {},
   "outputs": [],
   "source": [
    "#1. DP with Memoization\n",
    "\n",
    "def fibonacci(n):\n",
    "    #memo = [-1 for i in range(n+1)]\n",
    "    memo = [-1] * n+1\n",
    "    fibonacci_memoization(n, memo)\n",
    "    \n",
    "def fibonacci_memoization(n, memo):\n",
    "    \n",
    "    if n < 2:\n",
    "        return n\n",
    "    \n",
    "    if memo[n] >=0:\n",
    "        return memo[n]   \n",
    "    \n",
    "    memo[n] = fibonacci_memoization(n-1, memo) +  fibonacci_memoization(n-2, memo)\n",
    "    \n",
    "    return memo;    "
   ]
  },
  {
   "cell_type": "code",
   "execution_count": 418,
   "metadata": {},
   "outputs": [],
   "source": [
    "#print('6th Fibonacci is:', fibonacci(6))\n",
    "#print('7th Fibonacci is:', fibonacci_memoization(7))\n",
    "#print('8th Fibonacci is:', fibonacci_memoization(8))"
   ]
  },
  {
   "cell_type": "code",
   "execution_count": 421,
   "metadata": {},
   "outputs": [],
   "source": [
    "def list_memo(n):\n",
    "    memoize = [-1 for x in range(n+1)]\n",
    "    return calculateFibonacciRecur(memoize, n)"
   ]
  },
  {
   "cell_type": "code",
   "execution_count": 423,
   "metadata": {},
   "outputs": [
    {
     "data": {
      "text/plain": [
       "5"
      ]
     },
     "execution_count": 423,
     "metadata": {},
     "output_type": "execute_result"
    }
   ],
   "source": [
    "l1= list_memo(5)\n",
    "l1"
   ]
  },
  {
   "cell_type": "code",
   "execution_count": 431,
   "metadata": {},
   "outputs": [],
   "source": [
    "def calculateFibonacciRecur(memoize, n):\n",
    "    if n < 2:\n",
    "        return n\n",
    "\n",
    "  # if we have already solved this subproblem, simply return the result from the cache\n",
    "    if memoize[n] >= 0:\n",
    "        return memoize[n]\n",
    "\n",
    "    memoize[n] = calculateFibonacciRecur(memoize, n - 1) + calculateFibonacciRecur(memoize, n - 2)\n",
    "    \n",
    "    return memoize[n]\n"
   ]
  },
  {
   "cell_type": "code",
   "execution_count": 432,
   "metadata": {},
   "outputs": [],
   "source": [
    "def Fibonacci(n):\n",
    "    memoize = [-1 for x in range(n+1)]\n",
    "    return calculateFibonacciRecur(memoize, n)"
   ]
  },
  {
   "cell_type": "code",
   "execution_count": 434,
   "metadata": {},
   "outputs": [
    {
     "name": "stdout",
     "output_type": "stream",
     "text": [
      "6th Fibonacci is: 8\n",
      "7th Fibonacci is: 13\n",
      "8th Fibonacci is: 21\n"
     ]
    }
   ],
   "source": [
    "print('6th Fibonacci is:', Fibonacci(6))\n",
    "print('7th Fibonacci is:', Fibonacci(7))\n",
    "print('8th Fibonacci is:', Fibonacci(8))"
   ]
  },
  {
   "cell_type": "code",
   "execution_count": 448,
   "metadata": {},
   "outputs": [],
   "source": [
    "\n",
    "def mat():\n",
    "    matrix = []\n",
    "    for row in range(1, 4):\n",
    "        row = []\n",
    "        for col in range(1,4):\n",
    "            row.append(col)  \n",
    "            \n",
    "        matrix.append(row)\n",
    "        print(end=\"\")\n",
    "    \n",
    "    return matrix    \n"
   ]
  },
  {
   "cell_type": "code",
   "execution_count": 449,
   "metadata": {},
   "outputs": [
    {
     "data": {
      "text/plain": [
       "[[1, 2, 3], [1, 2, 3], [1, 2, 3]]"
      ]
     },
     "execution_count": 449,
     "metadata": {},
     "output_type": "execute_result"
    }
   ],
   "source": [
    "mat = mat()\n",
    "mat"
   ]
  },
  {
   "cell_type": "code",
   "execution_count": 451,
   "metadata": {},
   "outputs": [
    {
     "data": {
      "text/plain": [
       "{10: 60, 20: 100, 30: 120}"
      ]
     },
     "execution_count": 451,
     "metadata": {},
     "output_type": "execute_result"
    }
   ],
   "source": [
    "val = [60, 100, 120]\n",
    "wt = [10, 20, 30]\n",
    "W = 50\n",
    "\n",
    "p = {10: 60, 20: 100, 30:120}\n",
    "p"
   ]
  },
  {
   "cell_type": "code",
   "execution_count": 487,
   "metadata": {},
   "outputs": [],
   "source": [
    "items = [('avocado', 2.2, 170), ('pamelo', 8, 1500), ('durian', 22, 1500), ('cucamelon', 0.26, 15), ('lychee', 0.4, 20),\n",
    "        ('star apple', 1, 200)]"
   ]
  },
  {
   "cell_type": "code",
   "execution_count": 488,
   "metadata": {},
   "outputs": [
    {
     "data": {
      "text/plain": [
       "[('avocado', 2.2, 170),\n",
       " ('pamelo', 8, 1500),\n",
       " ('durian', 22, 1500),\n",
       " ('cucamelon', 0.26, 15),\n",
       " ('lychee', 0.4, 20),\n",
       " ('star apple', 1, 200)]"
      ]
     },
     "execution_count": 488,
     "metadata": {},
     "output_type": "execute_result"
    }
   ],
   "source": [
    "items"
   ]
  },
  {
   "cell_type": "code",
   "execution_count": 489,
   "metadata": {},
   "outputs": [
    {
     "name": "stdout",
     "output_type": "stream",
     "text": [
      "[('avocado', 2.2, 170), ('pamelo', 8, 1500), ('durian', 22, 1500), ('cucamelon', 0.26, 15), ('lychee', 0.4, 20), ('star apple', 1, 200)]\n",
      "(33.86, {'avocado': 2011.0, 'pamelo': 11.829411764705883, 'durian': 0.007886274509803922, 'cucamelon': 5.257516339869281e-06, 'lychee': 3.5050108932461876e-07, 'star apple': 1.752505446623094e-08})\n"
     ]
    }
   ],
   "source": [
    "items = [('avocado', 2.2, 170), ('pamelo', 8, 1500), ('durian', 22, 1500), ('cucamelon', 0.26, 15), ('lychee', 0.4, 20),\n",
    "        ('star apple', 1, 200)]\n",
    "\n",
    "print(items)\n",
    "\n",
    "def get_knapsack_greedy(items, capacity):\n",
    "    total_profit = 0\n",
    "    selected_items = {}\n",
    "\n",
    "    for i in range(len(items)):\n",
    "        name, profit, weight = items[i]\n",
    "        capacity += (capacity - capacity % weight) / weight\n",
    "        # capcity = 9 weight = 2 = ( 9 - 9%2 ) / 2 = 4\n",
    "        selected_items[name] = capacity\n",
    "        capacity = capacity/weight\n",
    "        total_profit += profit\n",
    "    \n",
    "    return round(total_profit, 2), selected_items\n",
    "\n",
    "\n",
    "print(get_knapsack_greedy(items, 2000))"
   ]
  },
  {
   "cell_type": "code",
   "execution_count": 582,
   "metadata": {},
   "outputs": [
    {
     "data": {
      "text/plain": [
       "[[0, 0, 0, 0, 0, 0, 0, 0, 0],\n",
       " [0, 0, 0, 0, 0, 0, 0, 0, 0],\n",
       " [0, 0, 0, 0, 0, 0, 0, 0, 0],\n",
       " [0, 0, 0, 0, 0, 0, 0, 0, 0],\n",
       " [0, 0, 0, 0, 0, 0, 0, 0, 0]]"
      ]
     },
     "execution_count": 582,
     "metadata": {},
     "output_type": "execute_result"
    }
   ],
   "source": [
    "profit = [1, 2, 5, 6]\n",
    "wt = [2, 3, 4, 5]\n",
    "\n",
    "M=8\n",
    "n=4\n",
    "\n",
    "bag = [[0 for i in range(M+1)] for j in range(n+1)]\n",
    "bag"
   ]
  },
  {
   "cell_type": "code",
   "execution_count": 583,
   "metadata": {},
   "outputs": [
    {
     "data": {
      "text/plain": [
       "2"
      ]
     },
     "execution_count": 583,
     "metadata": {},
     "output_type": "execute_result"
    }
   ],
   "source": [
    "profit[1]"
   ]
  },
  {
   "cell_type": "code",
   "execution_count": 586,
   "metadata": {},
   "outputs": [
    {
     "data": {
      "text/plain": [
       "[[0, 0, 0, 0, 0, 6, 6, 7, 8],\n",
       " [0, 0, 0, 0, 0, 6, 6, 7, 8],\n",
       " [0, 0, 0, 0, 0, 6, 6, 7, 8],\n",
       " [0, 0, 0, 0, 0, 6, 6, 7, 8],\n",
       " [0, 0, 0, 0, 0, 6, 6, 7, 8]]"
      ]
     },
     "execution_count": 586,
     "metadata": {},
     "output_type": "execute_result"
    }
   ],
   "source": [
    "for row in range(n+1):\n",
    "    for w in range(M+1):\n",
    "        if wt[i-1] <= w:\n",
    "            bag[row][w] = max(profit[row-1] + bag[row-1][w - wt[row-1]], bag[row-1][w])\n",
    "                                         \n",
    "        else:\n",
    "            bag[row][w] = bag[row-1][w]\n",
    "bag\n",
    "    "
   ]
  },
  {
   "cell_type": "code",
   "execution_count": 587,
   "metadata": {},
   "outputs": [
    {
     "data": {
      "text/plain": [
       "[[0, 0, 0, 0, 0, 0, 0, 0, 0],\n",
       " [0, 0, 0, 0, 0, 0, 0, 0, 0],\n",
       " [0, 0, 0, 0, 0, 0, 0, 0, 0],\n",
       " [0, 0, 0, 0, 0, 0, 0, 0, 0],\n",
       " [0, 0, 0, 0, 0, 0, 0, 0, 0]]"
      ]
     },
     "execution_count": 587,
     "metadata": {},
     "output_type": "execute_result"
    }
   ],
   "source": [
    "K = [[0 for x in range(W + 1)] for x in range(n + 1)]\n",
    "K"
   ]
  },
  {
   "cell_type": "code",
   "execution_count": 590,
   "metadata": {},
   "outputs": [],
   "source": [
    "val = [60, 100, 120]\n",
    "wt = [10, 20, 30]\n",
    "W = 50\n",
    "n = len(val)"
   ]
  },
  {
   "cell_type": "code",
   "execution_count": 594,
   "metadata": {},
   "outputs": [
    {
     "name": "stdout",
     "output_type": "stream",
     "text": [
      "220\n"
     ]
    }
   ],
   "source": [
    "\n",
    "# Driver code\n",
    "val = [60, 100, 120]\n",
    "wt = [0, 10, 20, 30]\n",
    "W = 50\n",
    "n = len(val)\n",
    "print(knapSack(W, wt, val, n))\n",
    "\n",
    "# This code is contributed by Bhavya Jain\n"
   ]
  },
  {
   "cell_type": "code",
   "execution_count": 641,
   "metadata": {},
   "outputs": [
    {
     "data": {
      "text/plain": [
       "[[0, 0, 0, 0, 0, 0],\n",
       " [0, 0, 0, 0, 0, 0],\n",
       " [0, 0, 0, 0, 0, 0],\n",
       " [0, 0, 0, 0, 0, 0]]"
      ]
     },
     "execution_count": 641,
     "metadata": {},
     "output_type": "execute_result"
    }
   ],
   "source": [
    "val = [6, 10, 12]\n",
    "wt = [1, 2, 3]\n",
    "W = 5\n",
    "n = len(val)\n",
    "\n",
    "K = [[0 for x in range(W + 1)] for x in range(n + 1)]\n",
    "K"
   ]
  },
  {
   "cell_type": "code",
   "execution_count": 642,
   "metadata": {},
   "outputs": [
    {
     "data": {
      "text/plain": [
       "2"
      ]
     },
     "execution_count": 642,
     "metadata": {},
     "output_type": "execute_result"
    }
   ],
   "source": [
    "wt[1]"
   ]
  },
  {
   "cell_type": "code",
   "execution_count": 643,
   "metadata": {},
   "outputs": [
    {
     "data": {
      "text/plain": [
       "[[0, 0, 0, 0, 0, 0],\n",
       " [0, 6, 6, 6, 6, 6],\n",
       " [0, 6, 10, 16, 16, 16],\n",
       " [0, 6, 10, 16, 18, 22]]"
      ]
     },
     "execution_count": 643,
     "metadata": {},
     "output_type": "execute_result"
    }
   ],
   "source": [
    "for i in range(n + 1):\n",
    "    for w in range(W + 1):\n",
    "        if i == 0 or w == 0:\n",
    "            K[i][w] = 0\n",
    "        elif wt[i-1] <= w:\n",
    "            K[i][w] = max(val[i-1] + K[i-1][w-wt[i-1]], K[i-1][w])\n",
    "        else:\n",
    "            K[i][w] = K[i-1][w]\n",
    "        \n",
    "K     "
   ]
  },
  {
   "cell_type": "code",
   "execution_count": 622,
   "metadata": {},
   "outputs": [
    {
     "data": {
      "text/plain": [
       "[[0, 0, 0, 0, 0, 0],\n",
       " [0, 6, 6, 6, 6, 6],\n",
       " [0, 6, 10, 16, 16, 16],\n",
       " [0, 6, 10, 16, 18, 22]]"
      ]
     },
     "execution_count": 622,
     "metadata": {},
     "output_type": "execute_result"
    }
   ],
   "source": [
    "for i in range(n + 1):\n",
    "    for w in range(W + 1):\n",
    "        if i == 0 or w == 0:\n",
    "            K[i][w] = 0\n",
    "        elif wt[i-1] <= w:\n",
    "            K[i][w] = max(val[i-1] + K[i-1][w-wt[i-1]], K[i-1][w])\n",
    "        else:\n",
    "            K[i][w] = K[i-1][w]\n",
    "K"
   ]
  },
  {
   "cell_type": "code",
   "execution_count": 600,
   "metadata": {},
   "outputs": [],
   "source": [
    "def knapSack(W, wt, val, n):\n",
    "    K = [[0 for x in range(W + 1)] for x in range(n + 1)]\n",
    " \n",
    "    # Build table K[][] in bottom up manner\n",
    "    for i in range(n + 1):\n",
    "        for w in range(W + 1):\n",
    "            if i == 0 or w == 0:\n",
    "                K[i][w] = 0\n",
    "            elif wt[i-1] <= w:\n",
    "                K[i][w] = max(val[i-1]\n",
    "                          + K[i-1][w-wt[i-1]], \n",
    "                              K[i-1][w])\n",
    "            else:\n",
    "                K[i][w] = K[i-1][w]\n",
    " \n",
    "    return K[n][W]\n",
    "        \n",
    "        "
   ]
  },
  {
   "cell_type": "code",
   "execution_count": 573,
   "metadata": {},
   "outputs": [
    {
     "name": "stdout",
     "output_type": "stream",
     "text": [
      "8\n"
     ]
    }
   ],
   "source": [
    "# Driver code\n",
    "\n",
    "profit = [1, 2, 5, 6]\n",
    "wt = [2, 3, 4, 5]\n",
    "W=8\n",
    "n= len(profit)\n",
    "\n",
    "print(knapSack(W, wt, profit, n))"
   ]
  },
  {
   "cell_type": "code",
   "execution_count": 503,
   "metadata": {},
   "outputs": [],
   "source": [
    "def dynamic_fruid(items, capacity):\n",
    "    bag = [0 for i in range(capacity+1)]\n",
    "    \n",
    "    for cap in range(capacity+1):\n",
    "        for i in range(len(items)):\n",
    "            name, profit, weight = items[i]\n",
    "            if weight < cap:\n",
    "                bag[cap] = max(bag[cap], bag[cap-weight]+profit)\n",
    "    \n",
    "    return round(bag[capacity], 2), bag"
   ]
  },
  {
   "cell_type": "code",
   "execution_count": 504,
   "metadata": {},
   "outputs": [
    {
     "name": "stdout",
     "output_type": "stream",
     "text": [
      "(39.86, [0, 0, 0, 0, 0, 0, 0, 0, 0, 0, 0, 0, 0, 0, 0, 0, 0.26, 0.26, 0.26, 0.26, 0.26, 0.4, 0.4, 0.4, 0.4, 0.4, 0.4, 0.4, 0.4, 0.4, 0.4, 0.52, 0.52, 0.52, 0.52, 0.52, 0.66, 0.66, 0.66, 0.66, 0.66, 0.8, 0.8, 0.8, 0.8, 0.8, 0.8, 0.8, 0.8, 0.8, 0.8, 0.92, 0.92, 0.92, 0.92, 0.92, 1.06, 1.06, 1.06, 1.06, 1.06, 1.2000000000000002, 1.2000000000000002, 1.2000000000000002, 1.2000000000000002, 1.2000000000000002, 1.2000000000000002, 1.2000000000000002, 1.2000000000000002, 1.2000000000000002, 1.2000000000000002, 1.32, 1.32, 1.32, 1.32, 1.32, 1.4600000000000002, 1.4600000000000002, 1.4600000000000002, 1.4600000000000002, 1.4600000000000002, 1.6, 1.6, 1.6, 1.6, 1.6, 1.6, 1.6, 1.6, 1.6, 1.6, 1.7200000000000002, 1.7200000000000002, 1.7200000000000002, 1.7200000000000002, 1.7200000000000002, 1.8600000000000003, 1.8600000000000003, 1.8600000000000003, 1.8600000000000003, 1.8600000000000003, 2.0, 2.0, 2.0, 2.0, 2.0, 2.0, 2.0, 2.0, 2.0, 2.0, 2.12, 2.12, 2.12, 2.12, 2.12, 2.2600000000000002, 2.2600000000000002, 2.2600000000000002, 2.2600000000000002, 2.2600000000000002, 2.4, 2.4, 2.4, 2.4, 2.4, 2.4, 2.4, 2.4, 2.4, 2.4, 2.5200000000000005, 2.5200000000000005, 2.5200000000000005, 2.5200000000000005, 2.5200000000000005, 2.66, 2.66, 2.66, 2.66, 2.66, 2.8, 2.8, 2.8, 2.8, 2.8, 2.8, 2.8, 2.8, 2.8, 2.8, 2.9200000000000004, 2.9200000000000004, 2.9200000000000004, 2.9200000000000004, 2.9200000000000004, 3.06, 3.06, 3.06, 3.06, 3.06, 3.1999999999999997, 3.1999999999999997, 3.1999999999999997, 3.1999999999999997, 3.1999999999999997, 3.1999999999999997, 3.1999999999999997, 3.1999999999999997, 3.1999999999999997, 3.1999999999999997, 3.3200000000000003, 3.3200000000000003, 3.3200000000000003, 3.3200000000000003, 3.3200000000000003, 3.46, 3.46, 3.46, 3.46, 3.46, 3.5999999999999996, 3.5999999999999996, 3.5999999999999996, 3.5999999999999996, 3.5999999999999996, 3.5999999999999996, 3.5999999999999996, 3.5999999999999996, 3.5999999999999996, 3.5999999999999996, 3.72, 3.72, 3.72, 3.72, 3.72, 3.86, 3.86, 3.86, 3.86, 3.86, 3.9999999999999996, 3.9999999999999996, 3.9999999999999996, 3.9999999999999996, 3.9999999999999996, 3.9999999999999996, 3.9999999999999996, 3.9999999999999996, 3.9999999999999996, 3.9999999999999996, 4.12, 4.12, 4.12, 4.12, 4.12, 4.26, 4.26, 4.26, 4.26, 4.26, 4.3999999999999995, 4.3999999999999995, 4.3999999999999995, 4.3999999999999995, 4.3999999999999995, 4.3999999999999995, 4.3999999999999995, 4.3999999999999995, 4.3999999999999995, 4.3999999999999995, 4.5200000000000005, 4.5200000000000005, 4.5200000000000005, 4.5200000000000005, 4.5200000000000005, 4.66, 4.66, 4.66, 4.66, 4.66, 4.8, 4.8, 4.8, 4.8, 4.8, 4.8, 4.8, 4.8, 4.8, 4.8, 4.920000000000001, 4.920000000000001, 4.920000000000001, 4.920000000000001, 4.920000000000001, 5.0600000000000005, 5.0600000000000005, 5.0600000000000005, 5.0600000000000005, 5.0600000000000005, 5.2, 5.2, 5.2, 5.2, 5.2, 5.2, 5.2, 5.2, 5.2, 5.2, 5.320000000000001, 5.320000000000001, 5.320000000000001, 5.320000000000001, 5.320000000000001, 5.460000000000001, 5.460000000000001, 5.460000000000001, 5.460000000000001, 5.460000000000001, 5.6000000000000005, 5.6000000000000005, 5.6000000000000005, 5.6000000000000005, 5.6000000000000005, 5.6000000000000005, 5.6000000000000005, 5.6000000000000005, 5.6000000000000005, 5.6000000000000005, 5.7200000000000015, 5.7200000000000015, 5.7200000000000015, 5.7200000000000015, 5.7200000000000015, 5.860000000000001, 5.860000000000001, 5.860000000000001, 5.860000000000001, 5.860000000000001, 6.000000000000001, 6.000000000000001, 6.000000000000001, 6.000000000000001, 6.000000000000001, 6.000000000000001, 6.000000000000001, 6.000000000000001, 6.000000000000001, 6.000000000000001, 6.120000000000002, 6.120000000000002, 6.120000000000002, 6.120000000000002, 6.120000000000002, 6.260000000000002, 6.260000000000002, 6.260000000000002, 6.260000000000002, 6.260000000000002, 6.400000000000001, 6.400000000000001, 6.400000000000001, 6.400000000000001, 6.400000000000001, 6.400000000000001, 6.400000000000001, 6.400000000000001, 6.400000000000001, 6.400000000000001, 6.520000000000002, 6.520000000000002, 6.520000000000002, 6.520000000000002, 6.520000000000002, 6.660000000000002, 6.660000000000002, 6.660000000000002, 6.660000000000002, 6.660000000000002, 6.800000000000002, 6.800000000000002, 6.800000000000002, 6.800000000000002, 6.800000000000002, 6.800000000000002, 6.800000000000002, 6.800000000000002, 6.800000000000002, 6.800000000000002, 6.920000000000003, 6.920000000000003, 6.920000000000003, 6.920000000000003, 6.920000000000003, 7.060000000000002, 7.060000000000002, 7.060000000000002, 7.060000000000002, 7.060000000000002, 7.200000000000002, 7.200000000000002, 7.200000000000002, 7.200000000000002, 7.200000000000002, 7.200000000000002, 7.200000000000002, 7.200000000000002, 7.200000000000002, 7.200000000000002, 7.320000000000003, 7.320000000000003, 7.320000000000003, 7.320000000000003, 7.320000000000003, 7.460000000000003, 7.460000000000003, 7.460000000000003, 7.460000000000003, 7.460000000000003, 7.600000000000002, 7.600000000000002, 7.600000000000002, 7.600000000000002, 7.600000000000002, 7.600000000000002, 7.600000000000002, 7.600000000000002, 7.600000000000002, 7.600000000000002, 7.720000000000003, 7.720000000000003, 7.720000000000003, 7.720000000000003, 7.720000000000003, 7.860000000000003, 7.860000000000003, 7.860000000000003, 7.860000000000003, 7.860000000000003, 8.000000000000002, 8.000000000000002, 8.000000000000002, 8.000000000000002, 8.000000000000002, 8.000000000000002, 8.000000000000002, 8.000000000000002, 8.000000000000002, 8.000000000000002, 8.120000000000003, 8.120000000000003, 8.120000000000003, 8.120000000000003, 8.120000000000003, 8.260000000000003, 8.260000000000003, 8.260000000000003, 8.260000000000003, 8.260000000000003, 8.400000000000002, 8.400000000000002, 8.400000000000002, 8.400000000000002, 8.400000000000002, 8.400000000000002, 8.400000000000002, 8.400000000000002, 8.400000000000002, 8.400000000000002, 8.520000000000003, 8.520000000000003, 8.520000000000003, 8.520000000000003, 8.520000000000003, 8.660000000000004, 8.660000000000004, 8.660000000000004, 8.660000000000004, 8.660000000000004, 8.800000000000002, 8.800000000000002, 8.800000000000002, 8.800000000000002, 8.800000000000002, 8.800000000000002, 8.800000000000002, 8.800000000000002, 8.800000000000002, 8.800000000000002, 8.920000000000003, 8.920000000000003, 8.920000000000003, 8.920000000000003, 8.920000000000003, 9.060000000000004, 9.060000000000004, 9.060000000000004, 9.060000000000004, 9.060000000000004, 9.200000000000003, 9.200000000000003, 9.200000000000003, 9.200000000000003, 9.200000000000003, 9.200000000000003, 9.200000000000003, 9.200000000000003, 9.200000000000003, 9.200000000000003, 9.320000000000004, 9.320000000000004, 9.320000000000004, 9.320000000000004, 9.320000000000004, 9.460000000000004, 9.460000000000004, 9.460000000000004, 9.460000000000004, 9.460000000000004, 9.600000000000003, 9.600000000000003, 9.600000000000003, 9.600000000000003, 9.600000000000003, 9.600000000000003, 9.600000000000003, 9.600000000000003, 9.600000000000003, 9.600000000000003, 9.720000000000004, 9.720000000000004, 9.720000000000004, 9.720000000000004, 9.720000000000004, 9.860000000000005, 9.860000000000005, 9.860000000000005, 9.860000000000005, 9.860000000000005, 10.000000000000004, 10.000000000000004, 10.000000000000004, 10.000000000000004, 10.000000000000004, 10.000000000000004, 10.000000000000004, 10.000000000000004, 10.000000000000004, 10.000000000000004, 10.120000000000005, 10.120000000000005, 10.120000000000005, 10.120000000000005, 10.120000000000005, 10.260000000000005, 10.260000000000005, 10.260000000000005, 10.260000000000005, 10.260000000000005, 10.400000000000004, 10.400000000000004, 10.400000000000004, 10.400000000000004, 10.400000000000004, 10.400000000000004, 10.400000000000004, 10.400000000000004, 10.400000000000004, 10.400000000000004, 10.520000000000005, 10.520000000000005, 10.520000000000005, 10.520000000000005, 10.520000000000005, 10.660000000000005, 10.660000000000005, 10.660000000000005, 10.660000000000005, 10.660000000000005, 10.800000000000004, 10.800000000000004, 10.800000000000004, 10.800000000000004, 10.800000000000004, 10.800000000000004, 10.800000000000004, 10.800000000000004, 10.800000000000004, 10.800000000000004, 10.920000000000005, 10.920000000000005, 10.920000000000005, 10.920000000000005, 10.920000000000005, 11.060000000000006, 11.060000000000006, 11.060000000000006, 11.060000000000006, 11.060000000000006, 11.200000000000005, 11.200000000000005, 11.200000000000005, 11.200000000000005, 11.200000000000005, 11.200000000000005, 11.200000000000005, 11.200000000000005, 11.200000000000005, 11.200000000000005, 11.320000000000006, 11.320000000000006, 11.320000000000006, 11.320000000000006, 11.320000000000006, 11.460000000000006, 11.460000000000006, 11.460000000000006, 11.460000000000006, 11.460000000000006, 11.600000000000005, 11.600000000000005, 11.600000000000005, 11.600000000000005, 11.600000000000005, 11.600000000000005, 11.600000000000005, 11.600000000000005, 11.600000000000005, 11.600000000000005, 11.720000000000006, 11.720000000000006, 11.720000000000006, 11.720000000000006, 11.720000000000006, 11.860000000000007, 11.860000000000007, 11.860000000000007, 11.860000000000007, 11.860000000000007, 12.000000000000005, 12.000000000000005, 12.000000000000005, 12.000000000000005, 12.000000000000005, 12.000000000000005, 12.000000000000005, 12.000000000000005, 12.000000000000005, 12.000000000000005, 12.120000000000006, 12.120000000000006, 12.120000000000006, 12.120000000000006, 12.120000000000006, 12.260000000000007, 12.260000000000007, 12.260000000000007, 12.260000000000007, 12.260000000000007, 12.400000000000006, 12.400000000000006, 12.400000000000006, 12.400000000000006, 12.400000000000006, 12.400000000000006, 12.400000000000006, 12.400000000000006, 12.400000000000006, 12.400000000000006, 12.520000000000007, 12.520000000000007, 12.520000000000007, 12.520000000000007, 12.520000000000007, 12.660000000000007, 12.660000000000007, 12.660000000000007, 12.660000000000007, 12.660000000000007, 12.800000000000006, 12.800000000000006, 12.800000000000006, 12.800000000000006, 12.800000000000006, 12.800000000000006, 12.800000000000006, 12.800000000000006, 12.800000000000006, 12.800000000000006, 12.920000000000007, 12.920000000000007, 12.920000000000007, 12.920000000000007, 12.920000000000007, 13.060000000000008, 13.060000000000008, 13.060000000000008, 13.060000000000008, 13.060000000000008, 13.200000000000006, 13.200000000000006, 13.200000000000006, 13.200000000000006, 13.200000000000006, 13.200000000000006, 13.200000000000006, 13.200000000000006, 13.200000000000006, 13.200000000000006, 13.320000000000007, 13.320000000000007, 13.320000000000007, 13.320000000000007, 13.320000000000007, 13.460000000000008, 13.460000000000008, 13.460000000000008, 13.460000000000008, 13.460000000000008, 13.600000000000007, 13.600000000000007, 13.600000000000007, 13.600000000000007, 13.600000000000007, 13.600000000000007, 13.600000000000007, 13.600000000000007, 13.600000000000007, 13.600000000000007, 13.720000000000008, 13.720000000000008, 13.720000000000008, 13.720000000000008, 13.720000000000008, 13.860000000000008, 13.860000000000008, 13.860000000000008, 13.860000000000008, 13.860000000000008, 14.000000000000007, 14.000000000000007, 14.000000000000007, 14.000000000000007, 14.000000000000007, 14.000000000000007, 14.000000000000007, 14.000000000000007, 14.000000000000007, 14.000000000000007, 14.120000000000008, 14.120000000000008, 14.120000000000008, 14.120000000000008, 14.120000000000008, 14.260000000000009, 14.260000000000009, 14.260000000000009, 14.260000000000009, 14.260000000000009, 14.400000000000007, 14.400000000000007, 14.400000000000007, 14.400000000000007, 14.400000000000007, 14.400000000000007, 14.400000000000007, 14.400000000000007, 14.400000000000007, 14.400000000000007, 14.520000000000008, 14.520000000000008, 14.520000000000008, 14.520000000000008, 14.520000000000008, 14.660000000000009, 14.660000000000009, 14.660000000000009, 14.660000000000009, 14.660000000000009, 14.800000000000008, 14.800000000000008, 14.800000000000008, 14.800000000000008, 14.800000000000008, 14.800000000000008, 14.800000000000008, 14.800000000000008, 14.800000000000008, 14.800000000000008, 14.920000000000009, 14.920000000000009, 14.920000000000009, 14.920000000000009, 14.920000000000009, 15.06000000000001, 15.06000000000001, 15.06000000000001, 15.06000000000001, 15.06000000000001, 15.200000000000008, 15.200000000000008, 15.200000000000008, 15.200000000000008, 15.200000000000008, 15.200000000000008, 15.200000000000008, 15.200000000000008, 15.200000000000008, 15.200000000000008, 15.32000000000001, 15.32000000000001, 15.32000000000001, 15.32000000000001, 15.32000000000001, 15.46000000000001, 15.46000000000001, 15.46000000000001, 15.46000000000001, 15.46000000000001, 15.600000000000009, 15.600000000000009, 15.600000000000009, 15.600000000000009, 15.600000000000009, 15.600000000000009, 15.600000000000009, 15.600000000000009, 15.600000000000009, 15.600000000000009, 15.72000000000001, 15.72000000000001, 15.72000000000001, 15.72000000000001, 15.72000000000001, 15.86000000000001, 15.86000000000001, 15.86000000000001, 15.86000000000001, 15.86000000000001, 16.000000000000007, 16.000000000000007, 16.000000000000007, 16.000000000000007, 16.000000000000007, 16.000000000000007, 16.000000000000007, 16.000000000000007, 16.000000000000007, 16.000000000000007, 16.12000000000001, 16.12000000000001, 16.12000000000001, 16.12000000000001, 16.12000000000001, 16.26000000000001, 16.26000000000001, 16.26000000000001, 16.26000000000001, 16.26000000000001, 16.400000000000006, 16.400000000000006, 16.400000000000006, 16.400000000000006, 16.400000000000006, 16.400000000000006, 16.400000000000006, 16.400000000000006, 16.400000000000006, 16.400000000000006, 16.52000000000001, 16.52000000000001, 16.52000000000001, 16.52000000000001, 16.52000000000001, 16.660000000000007, 16.660000000000007, 16.660000000000007, 16.660000000000007, 16.660000000000007, 16.800000000000004, 16.800000000000004, 16.800000000000004, 16.800000000000004, 16.800000000000004, 16.800000000000004, 16.800000000000004, 16.800000000000004, 16.800000000000004, 16.800000000000004, 16.92000000000001, 16.92000000000001, 16.92000000000001, 16.92000000000001, 16.92000000000001, 17.060000000000006, 17.060000000000006, 17.060000000000006, 17.060000000000006, 17.060000000000006, 17.200000000000003, 17.200000000000003, 17.200000000000003, 17.200000000000003, 17.200000000000003, 17.200000000000003, 17.200000000000003, 17.200000000000003, 17.200000000000003, 17.200000000000003, 17.320000000000007, 17.320000000000007, 17.320000000000007, 17.320000000000007, 17.320000000000007, 17.460000000000004, 17.460000000000004, 17.460000000000004, 17.460000000000004, 17.460000000000004, 17.6, 17.6, 17.6, 17.6, 17.6, 17.6, 17.6, 17.6, 17.6, 17.6, 17.720000000000006, 17.720000000000006, 17.720000000000006, 17.720000000000006, 17.720000000000006, 17.860000000000003, 17.860000000000003, 17.860000000000003, 17.860000000000003, 17.860000000000003, 18.0, 18.0, 18.0, 18.0, 18.0, 18.0, 18.0, 18.0, 18.0, 18.0, 18.120000000000005, 18.120000000000005, 18.120000000000005, 18.120000000000005, 18.120000000000005, 18.26, 18.26, 18.26, 18.26, 18.26, 18.4, 18.4, 18.4, 18.4, 18.4, 18.4, 18.4, 18.4, 18.4, 18.4, 18.520000000000003, 18.520000000000003, 18.520000000000003, 18.520000000000003, 18.520000000000003, 18.66, 18.66, 18.66, 18.66, 18.66, 18.799999999999997, 18.799999999999997, 18.799999999999997, 18.799999999999997, 18.799999999999997, 18.799999999999997, 18.799999999999997, 18.799999999999997, 18.799999999999997, 18.799999999999997, 18.92, 18.92, 18.92, 18.92, 18.92, 19.06, 19.06, 19.06, 19.06, 19.06, 19.199999999999996, 19.199999999999996, 19.199999999999996, 19.199999999999996, 19.199999999999996, 19.199999999999996, 19.199999999999996, 19.199999999999996, 19.199999999999996, 19.199999999999996, 19.32, 19.32, 19.32, 19.32, 19.32, 19.459999999999997, 19.459999999999997, 19.459999999999997, 19.459999999999997, 19.459999999999997, 19.599999999999994, 19.599999999999994, 19.599999999999994, 19.599999999999994, 19.599999999999994, 19.599999999999994, 19.599999999999994, 19.599999999999994, 19.599999999999994, 19.599999999999994, 19.72, 19.72, 19.72, 19.72, 19.72, 19.859999999999996, 19.859999999999996, 19.859999999999996, 19.859999999999996, 19.859999999999996, 19.999999999999993, 19.999999999999993, 19.999999999999993, 19.999999999999993, 19.999999999999993, 19.999999999999993, 19.999999999999993, 19.999999999999993, 19.999999999999993, 19.999999999999993, 20.119999999999997, 20.119999999999997, 20.119999999999997, 20.119999999999997, 20.119999999999997, 20.259999999999994, 20.259999999999994, 20.259999999999994, 20.259999999999994, 20.259999999999994, 20.39999999999999, 20.39999999999999, 20.39999999999999, 20.39999999999999, 20.39999999999999, 20.39999999999999, 20.39999999999999, 20.39999999999999, 20.39999999999999, 20.39999999999999, 20.519999999999996, 20.519999999999996, 20.519999999999996, 20.519999999999996, 20.519999999999996, 20.659999999999993, 20.659999999999993, 20.659999999999993, 20.659999999999993, 20.659999999999993, 20.79999999999999, 20.79999999999999, 20.79999999999999, 20.79999999999999, 20.79999999999999, 20.79999999999999, 20.79999999999999, 20.79999999999999, 20.79999999999999, 20.79999999999999, 20.919999999999995, 20.919999999999995, 20.919999999999995, 20.919999999999995, 20.919999999999995, 21.05999999999999, 21.05999999999999, 21.05999999999999, 21.05999999999999, 21.05999999999999, 21.19999999999999, 21.19999999999999, 21.19999999999999, 21.19999999999999, 21.19999999999999, 21.19999999999999, 21.19999999999999, 21.19999999999999, 21.19999999999999, 21.19999999999999, 21.319999999999993, 21.319999999999993, 21.319999999999993, 21.319999999999993, 21.319999999999993, 21.45999999999999, 21.45999999999999, 21.45999999999999, 21.45999999999999, 21.45999999999999, 21.599999999999987, 21.599999999999987, 21.599999999999987, 21.599999999999987, 21.599999999999987, 21.599999999999987, 21.599999999999987, 21.599999999999987, 21.599999999999987, 21.599999999999987, 21.71999999999999, 21.71999999999999, 21.71999999999999, 21.71999999999999, 21.71999999999999, 21.85999999999999, 21.85999999999999, 21.85999999999999, 21.85999999999999, 21.85999999999999, 21.999999999999986, 21.999999999999986, 21.999999999999986, 21.999999999999986, 21.999999999999986, 21.999999999999986, 21.999999999999986, 21.999999999999986, 21.999999999999986, 21.999999999999986, 22.11999999999999, 22.11999999999999, 22.11999999999999, 22.11999999999999, 22.11999999999999, 22.259999999999987, 22.259999999999987, 22.259999999999987, 22.259999999999987, 22.259999999999987, 22.399999999999984, 22.399999999999984, 22.399999999999984, 22.399999999999984, 22.399999999999984, 22.399999999999984, 22.399999999999984, 22.399999999999984, 22.399999999999984, 22.399999999999984, 22.51999999999999, 22.51999999999999, 22.51999999999999, 22.51999999999999, 22.51999999999999, 22.659999999999986, 22.659999999999986, 22.659999999999986, 22.659999999999986, 22.659999999999986, 22.799999999999983, 22.799999999999983, 22.799999999999983, 22.799999999999983, 22.799999999999983, 22.799999999999983, 22.799999999999983, 22.799999999999983, 22.799999999999983, 22.799999999999983, 22.919999999999987, 22.919999999999987, 22.919999999999987, 22.919999999999987, 22.919999999999987, 23.059999999999985, 23.059999999999985, 23.059999999999985, 23.059999999999985, 23.059999999999985, 23.19999999999998, 23.19999999999998, 23.19999999999998, 23.19999999999998, 23.19999999999998, 23.19999999999998, 23.19999999999998, 23.19999999999998, 23.19999999999998, 23.19999999999998, 23.319999999999986, 23.319999999999986, 23.319999999999986, 23.319999999999986, 23.319999999999986, 23.459999999999983, 23.459999999999983, 23.459999999999983, 23.459999999999983, 23.459999999999983, 23.59999999999998, 23.59999999999998, 23.59999999999998, 23.59999999999998, 23.59999999999998, 23.59999999999998, 23.59999999999998, 23.59999999999998, 23.59999999999998, 23.59999999999998, 23.719999999999985, 23.719999999999985, 23.719999999999985, 23.719999999999985, 23.719999999999985, 23.85999999999998, 23.85999999999998, 23.85999999999998, 23.85999999999998, 23.85999999999998, 23.99999999999998, 23.99999999999998, 23.99999999999998, 23.99999999999998, 23.99999999999998, 23.99999999999998, 23.99999999999998, 23.99999999999998, 23.99999999999998, 23.99999999999998, 24.119999999999983, 24.119999999999983, 24.119999999999983, 24.119999999999983, 24.119999999999983, 24.25999999999998, 24.25999999999998, 24.25999999999998, 24.25999999999998, 24.25999999999998, 24.399999999999977, 24.399999999999977, 24.399999999999977, 24.399999999999977, 24.399999999999977, 24.399999999999977, 24.399999999999977, 24.399999999999977, 24.399999999999977, 24.399999999999977, 24.519999999999982, 24.519999999999982, 24.519999999999982, 24.519999999999982, 24.519999999999982, 24.65999999999998, 24.65999999999998, 24.65999999999998, 24.65999999999998, 24.65999999999998, 24.799999999999976, 24.799999999999976, 24.799999999999976, 24.799999999999976, 24.799999999999976, 24.799999999999976, 24.799999999999976, 24.799999999999976, 24.799999999999976, 24.799999999999976, 24.91999999999998, 24.91999999999998, 24.91999999999998, 24.91999999999998, 24.91999999999998, 25.059999999999977, 25.059999999999977, 25.059999999999977, 25.059999999999977, 25.059999999999977, 25.199999999999974, 25.199999999999974, 25.199999999999974, 25.199999999999974, 25.199999999999974, 25.199999999999974, 25.199999999999974, 25.199999999999974, 25.199999999999974, 25.199999999999974, 25.31999999999998, 25.31999999999998, 25.31999999999998, 25.31999999999998, 25.31999999999998, 25.459999999999976, 25.459999999999976, 25.459999999999976, 25.459999999999976, 25.459999999999976, 25.599999999999973, 25.599999999999973, 25.599999999999973, 25.599999999999973, 25.599999999999973, 25.599999999999973, 25.599999999999973, 25.599999999999973, 25.599999999999973, 25.599999999999973, 25.719999999999978, 25.719999999999978, 25.719999999999978, 25.719999999999978, 25.719999999999978, 25.859999999999975, 25.859999999999975, 25.859999999999975, 25.859999999999975, 25.859999999999975, 25.99999999999997, 25.99999999999997, 25.99999999999997, 25.99999999999997, 25.99999999999997, 25.99999999999997, 25.99999999999997, 25.99999999999997, 25.99999999999997, 25.99999999999997, 26.119999999999976, 26.119999999999976, 26.119999999999976, 26.119999999999976, 26.119999999999976, 26.259999999999973, 26.259999999999973, 26.259999999999973, 26.259999999999973, 26.259999999999973, 26.39999999999997, 26.39999999999997, 26.39999999999997, 26.39999999999997, 26.39999999999997, 26.39999999999997, 26.39999999999997, 26.39999999999997, 26.39999999999997, 26.39999999999997, 26.519999999999975, 26.519999999999975, 26.519999999999975, 26.519999999999975, 26.519999999999975, 26.65999999999997, 26.65999999999997, 26.65999999999997, 26.65999999999997, 26.65999999999997, 26.79999999999997, 26.79999999999997, 26.79999999999997, 26.79999999999997, 26.79999999999997, 26.79999999999997, 26.79999999999997, 26.79999999999997, 26.79999999999997, 26.79999999999997, 26.919999999999973, 26.919999999999973, 26.919999999999973, 26.919999999999973, 26.919999999999973, 27.05999999999997, 27.05999999999997, 27.05999999999997, 27.05999999999997, 27.05999999999997, 27.199999999999967, 27.199999999999967, 27.199999999999967, 27.199999999999967, 27.199999999999967, 27.199999999999967, 27.199999999999967, 27.199999999999967, 27.199999999999967, 27.199999999999967, 27.319999999999972, 27.319999999999972, 27.319999999999972, 27.319999999999972, 27.319999999999972, 27.45999999999997, 27.45999999999997, 27.45999999999997, 27.45999999999997, 27.45999999999997, 27.599999999999966, 27.599999999999966, 27.599999999999966, 27.599999999999966, 27.599999999999966, 27.599999999999966, 27.599999999999966, 27.599999999999966, 27.599999999999966, 27.599999999999966, 27.71999999999997, 27.71999999999997, 27.71999999999997, 27.71999999999997, 27.71999999999997, 27.859999999999967, 27.859999999999967, 27.859999999999967, 27.859999999999967, 27.859999999999967, 27.999999999999964, 27.999999999999964, 27.999999999999964, 27.999999999999964, 27.999999999999964, 27.999999999999964, 27.999999999999964, 27.999999999999964, 27.999999999999964, 27.999999999999964, 28.11999999999997, 28.11999999999997, 28.11999999999997, 28.11999999999997, 28.11999999999997, 28.259999999999966, 28.259999999999966, 28.259999999999966, 28.259999999999966, 28.259999999999966, 28.399999999999963, 28.399999999999963, 28.399999999999963, 28.399999999999963, 28.399999999999963, 28.399999999999963, 28.399999999999963, 28.399999999999963, 28.399999999999963, 28.399999999999963, 28.519999999999968, 28.519999999999968, 28.519999999999968, 28.519999999999968, 28.519999999999968, 28.659999999999965, 28.659999999999965, 28.659999999999965, 28.659999999999965, 28.659999999999965, 28.79999999999996, 28.79999999999996, 28.79999999999996, 28.79999999999996, 28.79999999999996, 28.79999999999996, 28.79999999999996, 28.79999999999996, 28.79999999999996, 28.79999999999996, 28.919999999999966, 28.919999999999966, 28.919999999999966, 28.919999999999966, 28.919999999999966, 29.059999999999963, 29.059999999999963, 29.059999999999963, 29.059999999999963, 29.059999999999963, 29.19999999999996, 29.19999999999996, 29.19999999999996, 29.19999999999996, 29.19999999999996, 29.19999999999996, 29.19999999999996, 29.19999999999996, 29.19999999999996, 29.19999999999996, 29.319999999999965, 29.319999999999965, 29.319999999999965, 29.319999999999965, 29.319999999999965, 29.45999999999996, 29.45999999999996, 29.45999999999996, 29.45999999999996, 29.45999999999996, 29.59999999999996, 29.59999999999996, 29.59999999999996, 29.59999999999996, 29.59999999999996, 29.59999999999996, 29.59999999999996, 29.59999999999996, 29.59999999999996, 29.59999999999996, 29.719999999999963, 29.719999999999963, 29.719999999999963, 29.719999999999963, 29.719999999999963, 29.85999999999996, 29.85999999999996, 29.85999999999996, 29.85999999999996, 29.85999999999996, 29.999999999999957, 29.999999999999957, 29.999999999999957, 29.999999999999957, 29.999999999999957, 29.999999999999957, 29.999999999999957, 29.999999999999957, 29.999999999999957, 29.999999999999957, 30.119999999999962, 30.119999999999962, 30.119999999999962, 30.119999999999962, 30.119999999999962, 30.25999999999996, 30.25999999999996, 30.25999999999996, 30.25999999999996, 30.25999999999996, 30.399999999999956, 30.399999999999956, 30.399999999999956, 30.399999999999956, 30.399999999999956, 30.399999999999956, 30.399999999999956, 30.399999999999956, 30.399999999999956, 30.399999999999956, 30.51999999999996, 30.51999999999996, 30.51999999999996, 30.51999999999996, 30.51999999999996, 30.659999999999958, 30.659999999999958, 30.659999999999958, 30.659999999999958, 30.659999999999958, 30.799999999999955, 30.799999999999955, 30.799999999999955, 30.799999999999955, 30.799999999999955, 30.799999999999955, 30.799999999999955, 30.799999999999955, 30.799999999999955, 30.799999999999955, 30.91999999999996, 30.91999999999996, 30.91999999999996, 30.91999999999996, 30.91999999999996, 31.059999999999956, 31.059999999999956, 31.059999999999956, 31.059999999999956, 31.059999999999956, 31.199999999999953, 31.199999999999953, 31.199999999999953, 31.199999999999953, 31.199999999999953, 31.199999999999953, 31.199999999999953, 31.199999999999953, 31.199999999999953, 31.199999999999953, 31.319999999999958, 31.319999999999958, 31.319999999999958, 31.319999999999958, 31.319999999999958, 31.459999999999955, 31.459999999999955, 31.459999999999955, 31.459999999999955, 31.459999999999955, 31.59999999999995, 31.59999999999995, 31.59999999999995, 31.59999999999995, 31.59999999999995, 31.59999999999995, 31.59999999999995, 31.59999999999995, 31.59999999999995, 31.59999999999995, 31.719999999999956, 31.719999999999956, 31.719999999999956, 31.719999999999956, 31.719999999999956, 31.859999999999953, 31.859999999999953, 31.859999999999953, 31.859999999999953, 31.859999999999953, 31.99999999999995, 31.99999999999995, 31.99999999999995, 31.99999999999995, 31.99999999999995, 31.99999999999995, 31.99999999999995, 31.99999999999995, 31.99999999999995, 31.99999999999995, 32.119999999999955, 32.119999999999955, 32.119999999999955, 32.119999999999955, 32.119999999999955, 32.259999999999955, 32.259999999999955, 32.259999999999955, 32.259999999999955, 32.259999999999955, 32.39999999999995, 32.39999999999995, 32.39999999999995, 32.39999999999995, 32.39999999999995, 32.39999999999995, 32.39999999999995, 32.39999999999995, 32.39999999999995, 32.39999999999995, 32.51999999999995, 32.51999999999995, 32.51999999999995, 32.51999999999995, 32.51999999999995, 32.659999999999954, 32.659999999999954, 32.659999999999954, 32.659999999999954, 32.659999999999954, 32.79999999999995, 32.79999999999995, 32.79999999999995, 32.79999999999995, 32.79999999999995, 32.79999999999995, 32.79999999999995, 32.79999999999995, 32.79999999999995, 32.79999999999995, 32.91999999999995, 32.91999999999995, 32.91999999999995, 32.91999999999995, 32.91999999999995, 33.05999999999995, 33.05999999999995, 33.05999999999995, 33.05999999999995, 33.05999999999995, 33.199999999999946, 33.199999999999946, 33.199999999999946, 33.199999999999946, 33.199999999999946, 33.199999999999946, 33.199999999999946, 33.199999999999946, 33.199999999999946, 33.199999999999946, 33.31999999999995, 33.31999999999995, 33.31999999999995, 33.31999999999995, 33.31999999999995, 33.45999999999995, 33.45999999999995, 33.45999999999995, 33.45999999999995, 33.45999999999995, 33.599999999999945, 33.599999999999945, 33.599999999999945, 33.599999999999945, 33.599999999999945, 33.599999999999945, 33.599999999999945, 33.599999999999945, 33.599999999999945, 33.599999999999945, 33.71999999999995, 33.71999999999995, 33.71999999999995, 33.71999999999995, 33.71999999999995, 33.85999999999995, 33.85999999999995, 33.85999999999995, 33.85999999999995, 33.85999999999995, 33.99999999999994, 33.99999999999994, 33.99999999999994, 33.99999999999994, 33.99999999999994, 33.99999999999994, 33.99999999999994, 33.99999999999994, 33.99999999999994, 33.99999999999994, 34.11999999999995, 34.11999999999995, 34.11999999999995, 34.11999999999995, 34.11999999999995, 34.25999999999995, 34.25999999999995, 34.25999999999995, 34.25999999999995, 34.25999999999995, 34.39999999999994, 34.39999999999994, 34.39999999999994, 34.39999999999994, 34.39999999999994, 34.39999999999994, 34.39999999999994, 34.39999999999994, 34.39999999999994, 34.39999999999994, 34.519999999999946, 34.519999999999946, 34.519999999999946, 34.519999999999946, 34.519999999999946, 34.65999999999995, 34.65999999999995, 34.65999999999995, 34.65999999999995, 34.65999999999995, 34.79999999999994, 34.79999999999994, 34.79999999999994, 34.79999999999994, 34.79999999999994, 34.79999999999994, 34.79999999999994, 34.79999999999994, 34.79999999999994, 34.79999999999994, 34.919999999999945, 34.919999999999945, 34.919999999999945, 34.919999999999945, 34.919999999999945, 35.059999999999945, 35.059999999999945, 35.059999999999945, 35.059999999999945, 35.059999999999945, 35.19999999999994, 35.19999999999994, 35.19999999999994, 35.19999999999994, 35.19999999999994, 35.19999999999994, 35.19999999999994, 35.19999999999994, 35.19999999999994, 35.19999999999994, 35.31999999999994, 35.31999999999994, 35.31999999999994, 35.31999999999994, 35.31999999999994, 35.459999999999944, 35.459999999999944, 35.459999999999944, 35.459999999999944, 35.459999999999944, 35.59999999999994, 35.59999999999994, 35.59999999999994, 35.59999999999994, 35.59999999999994, 35.59999999999994, 35.59999999999994, 35.59999999999994, 35.59999999999994, 35.59999999999994, 35.71999999999994, 35.71999999999994, 35.71999999999994, 35.71999999999994, 35.71999999999994, 35.85999999999994, 35.85999999999994, 35.85999999999994, 35.85999999999994, 35.85999999999994, 35.999999999999936, 35.999999999999936, 35.999999999999936, 35.999999999999936, 35.999999999999936, 35.999999999999936, 35.999999999999936, 35.999999999999936, 35.999999999999936, 35.999999999999936, 36.11999999999994, 36.11999999999994, 36.11999999999994, 36.11999999999994, 36.11999999999994, 36.25999999999994, 36.25999999999994, 36.25999999999994, 36.25999999999994, 36.25999999999994, 36.399999999999935, 36.399999999999935, 36.399999999999935, 36.399999999999935, 36.399999999999935, 36.399999999999935, 36.399999999999935, 36.399999999999935, 36.399999999999935, 36.399999999999935, 36.51999999999994, 36.51999999999994, 36.51999999999994, 36.51999999999994, 36.51999999999994, 36.65999999999994, 36.65999999999994, 36.65999999999994, 36.65999999999994, 36.65999999999994, 36.79999999999993, 36.79999999999993, 36.79999999999993, 36.79999999999993, 36.79999999999993, 36.79999999999993, 36.79999999999993, 36.79999999999993, 36.79999999999993, 36.79999999999993, 36.91999999999994, 36.91999999999994, 36.91999999999994, 36.91999999999994, 36.91999999999994, 37.05999999999994, 37.05999999999994, 37.05999999999994, 37.05999999999994, 37.05999999999994, 37.19999999999993, 37.19999999999993, 37.19999999999993, 37.19999999999993, 37.19999999999993, 37.19999999999993, 37.19999999999993, 37.19999999999993, 37.19999999999993, 37.19999999999993, 37.319999999999936, 37.319999999999936, 37.319999999999936, 37.319999999999936, 37.319999999999936, 37.45999999999994, 37.45999999999994, 37.45999999999994, 37.45999999999994, 37.45999999999994, 37.59999999999993, 37.59999999999993, 37.59999999999993, 37.59999999999993, 37.59999999999993, 37.59999999999993, 37.59999999999993, 37.59999999999993, 37.59999999999993, 37.59999999999993, 37.719999999999935, 37.719999999999935, 37.719999999999935, 37.719999999999935, 37.719999999999935, 37.859999999999935, 37.859999999999935, 37.859999999999935, 37.859999999999935, 37.859999999999935, 37.99999999999993, 37.99999999999993, 37.99999999999993, 37.99999999999993, 37.99999999999993, 37.99999999999993, 37.99999999999993, 37.99999999999993, 37.99999999999993, 37.99999999999993, 38.11999999999993, 38.11999999999993, 38.11999999999993, 38.11999999999993, 38.11999999999993, 38.259999999999934, 38.259999999999934, 38.259999999999934, 38.259999999999934, 38.259999999999934, 38.39999999999993, 38.39999999999993, 38.39999999999993, 38.39999999999993, 38.39999999999993, 38.39999999999993, 38.39999999999993, 38.39999999999993, 38.39999999999993, 38.39999999999993, 38.51999999999993, 38.51999999999993, 38.51999999999993, 38.51999999999993, 38.51999999999993, 38.65999999999993, 38.65999999999993, 38.65999999999993, 38.65999999999993, 38.65999999999993, 38.799999999999926, 38.799999999999926, 38.799999999999926, 38.799999999999926, 38.799999999999926, 38.799999999999926, 38.799999999999926, 38.799999999999926, 38.799999999999926, 38.799999999999926, 38.91999999999993, 38.91999999999993, 38.91999999999993, 38.91999999999993, 38.91999999999993, 39.05999999999993, 39.05999999999993, 39.05999999999993, 39.05999999999993, 39.05999999999993, 39.199999999999925, 39.199999999999925, 39.199999999999925, 39.199999999999925, 39.199999999999925, 39.199999999999925, 39.199999999999925, 39.199999999999925, 39.199999999999925, 39.199999999999925, 39.31999999999993, 39.31999999999993, 39.31999999999993, 39.31999999999993, 39.31999999999993, 39.45999999999993, 39.45999999999993, 39.45999999999993, 39.45999999999993, 39.45999999999993, 39.59999999999992, 39.59999999999992, 39.59999999999992, 39.59999999999992, 39.59999999999992, 39.59999999999992, 39.59999999999992, 39.59999999999992, 39.59999999999992, 39.59999999999992, 39.71999999999993, 39.71999999999993, 39.71999999999993, 39.71999999999993, 39.71999999999993, 39.85999999999993, 39.85999999999993, 39.85999999999993, 39.85999999999993, 39.85999999999993])\n"
     ]
    }
   ],
   "source": [
    "print(dynamic_fruid(items, 2000))"
   ]
  },
  {
   "cell_type": "code",
   "execution_count": 682,
   "metadata": {},
   "outputs": [],
   "source": [
    "profit = [6, 10, 12]\n",
    "weight = [1, 2, 3]\n",
    "capacity = 5\n",
    "combinations = {}"
   ]
  },
  {
   "cell_type": "code",
   "execution_count": 683,
   "metadata": {},
   "outputs": [],
   "source": [
    "weight[0]\n",
    "lst = []"
   ]
  },
  {
   "cell_type": "code",
   "execution_count": 684,
   "metadata": {},
   "outputs": [],
   "source": [
    "def knapsack(W, profits, weights, n):\n",
    "    if n == 0 or W == 0:\n",
    "        return 0\n",
    "    if weights[n-1] > W:\n",
    "        return knapsack(W, profits, weights, n-1)\n",
    "    else:\n",
    "        return max(profits[n-1] + knapsack(W-weights[n-1], profits, weights, n-1), knapsack(W, profits, weights, n-1))"
   ]
  },
  {
   "cell_type": "code",
   "execution_count": 685,
   "metadata": {},
   "outputs": [
    {
     "data": {
      "text/plain": [
       "22"
      ]
     },
     "execution_count": 685,
     "metadata": {},
     "output_type": "execute_result"
    }
   ],
   "source": [
    "knapsack(capacity, profit, weight, len(weight))"
   ]
  },
  {
   "cell_type": "code",
   "execution_count": 679,
   "metadata": {},
   "outputs": [
    {
     "name": "stdout",
     "output_type": "stream",
     "text": [
      "Help on dict object:\n",
      "\n",
      "class dict(object)\n",
      " |  dict() -> new empty dictionary\n",
      " |  dict(mapping) -> new dictionary initialized from a mapping object's\n",
      " |      (key, value) pairs\n",
      " |  dict(iterable) -> new dictionary initialized as if via:\n",
      " |      d = {}\n",
      " |      for k, v in iterable:\n",
      " |          d[k] = v\n",
      " |  dict(**kwargs) -> new dictionary initialized with the name=value pairs\n",
      " |      in the keyword argument list.  For example:  dict(one=1, two=2)\n",
      " |  \n",
      " |  Methods defined here:\n",
      " |  \n",
      " |  __contains__(self, key, /)\n",
      " |      True if D has a key k, else False.\n",
      " |  \n",
      " |  __delitem__(self, key, /)\n",
      " |      Delete self[key].\n",
      " |  \n",
      " |  __eq__(self, value, /)\n",
      " |      Return self==value.\n",
      " |  \n",
      " |  __ge__(self, value, /)\n",
      " |      Return self>=value.\n",
      " |  \n",
      " |  __getattribute__(self, name, /)\n",
      " |      Return getattr(self, name).\n",
      " |  \n",
      " |  __getitem__(...)\n",
      " |      x.__getitem__(y) <==> x[y]\n",
      " |  \n",
      " |  __gt__(self, value, /)\n",
      " |      Return self>value.\n",
      " |  \n",
      " |  __init__(self, /, *args, **kwargs)\n",
      " |      Initialize self.  See help(type(self)) for accurate signature.\n",
      " |  \n",
      " |  __iter__(self, /)\n",
      " |      Implement iter(self).\n",
      " |  \n",
      " |  __le__(self, value, /)\n",
      " |      Return self<=value.\n",
      " |  \n",
      " |  __len__(self, /)\n",
      " |      Return len(self).\n",
      " |  \n",
      " |  __lt__(self, value, /)\n",
      " |      Return self<value.\n",
      " |  \n",
      " |  __ne__(self, value, /)\n",
      " |      Return self!=value.\n",
      " |  \n",
      " |  __new__(*args, **kwargs) from builtins.type\n",
      " |      Create and return a new object.  See help(type) for accurate signature.\n",
      " |  \n",
      " |  __repr__(self, /)\n",
      " |      Return repr(self).\n",
      " |  \n",
      " |  __setitem__(self, key, value, /)\n",
      " |      Set self[key] to value.\n",
      " |  \n",
      " |  __sizeof__(...)\n",
      " |      D.__sizeof__() -> size of D in memory, in bytes\n",
      " |  \n",
      " |  clear(...)\n",
      " |      D.clear() -> None.  Remove all items from D.\n",
      " |  \n",
      " |  copy(...)\n",
      " |      D.copy() -> a shallow copy of D\n",
      " |  \n",
      " |  fromkeys(iterable, value=None, /) from builtins.type\n",
      " |      Returns a new dict with keys from iterable and values equal to value.\n",
      " |  \n",
      " |  get(...)\n",
      " |      D.get(k[,d]) -> D[k] if k in D, else d.  d defaults to None.\n",
      " |  \n",
      " |  items(...)\n",
      " |      D.items() -> a set-like object providing a view on D's items\n",
      " |  \n",
      " |  keys(...)\n",
      " |      D.keys() -> a set-like object providing a view on D's keys\n",
      " |  \n",
      " |  pop(...)\n",
      " |      D.pop(k[,d]) -> v, remove specified key and return the corresponding value.\n",
      " |      If key is not found, d is returned if given, otherwise KeyError is raised\n",
      " |  \n",
      " |  popitem(...)\n",
      " |      D.popitem() -> (k, v), remove and return some (key, value) pair as a\n",
      " |      2-tuple; but raise KeyError if D is empty.\n",
      " |  \n",
      " |  setdefault(...)\n",
      " |      D.setdefault(k[,d]) -> D.get(k,d), also set D[k]=d if k not in D\n",
      " |  \n",
      " |  update(...)\n",
      " |      D.update([E, ]**F) -> None.  Update D from dict/iterable E and F.\n",
      " |      If E is present and has a .keys() method, then does:  for k in E: D[k] = E[k]\n",
      " |      If E is present and lacks a .keys() method, then does:  for k, v in E: D[k] = v\n",
      " |      In either case, this is followed by: for k in F:  D[k] = F[k]\n",
      " |  \n",
      " |  values(...)\n",
      " |      D.values() -> an object providing a view on D's values\n",
      " |  \n",
      " |  ----------------------------------------------------------------------\n",
      " |  Data and other attributes defined here:\n",
      " |  \n",
      " |  __hash__ = None\n",
      "\n"
     ]
    }
   ],
   "source": [
    "help(combinations)"
   ]
  },
  {
   "cell_type": "code",
   "execution_count": null,
   "metadata": {},
   "outputs": [],
   "source": []
  }
 ],
 "metadata": {
  "kernelspec": {
   "display_name": "Python 3",
   "language": "python",
   "name": "python3"
  },
  "language_info": {
   "codemirror_mode": {
    "name": "ipython",
    "version": 3
   },
   "file_extension": ".py",
   "mimetype": "text/x-python",
   "name": "python",
   "nbconvert_exporter": "python",
   "pygments_lexer": "ipython3",
   "version": "3.6.5"
  }
 },
 "nbformat": 4,
 "nbformat_minor": 2
}
