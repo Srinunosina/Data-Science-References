{
 "cells": [
  {
   "cell_type": "markdown",
   "metadata": {},
   "source": [
    "## POS tagging using modified Viterbi"
   ]
  },
  {
   "cell_type": "markdown",
   "metadata": {},
   "source": [
    "Objectives of the analysis -\n",
    "- Write the vanilla Viterbi algorithm for assigning POS tags (i.e. without dealing with unknown words) \n",
    "\n",
    "- Solve the problem of unknown words using at least two techniques. \n",
    "\n",
    "- Compare the tagging accuracy after making these modifications with the vanilla Viterbi algorithm.\n",
    "\n",
    "- List down at least three cases from the sample test file (i.e. unknown word-tag pairs) which were \n",
    "incorrectly tagged by the original Viterbi POS tagger and got corrected after your modifications."
   ]
  },
  {
   "cell_type": "markdown",
   "metadata": {},
   "source": [
    "### Data Preparation"
   ]
  },
  {
   "cell_type": "code",
   "execution_count": 57,
   "metadata": {},
   "outputs": [],
   "source": [
    "#Importing libraries\n",
    "import nltk, re\n",
    "import requests\n",
    "import random\n",
    "import numpy as np\n",
    "import pandas as pd\n",
    "import pprint, time\n",
    "import matplotlib.pyplot as plt\n",
    "import seaborn as sns\n",
    "\n",
    "from sklearn.model_selection import train_test_split\n",
    "from nltk.tokenize import word_tokenize"
   ]
  },
  {
   "cell_type": "code",
   "execution_count": 58,
   "metadata": {},
   "outputs": [
    {
     "name": "stderr",
     "output_type": "stream",
     "text": [
      "[nltk_data] Downloading package universal_tagset to\n",
      "[nltk_data]     C:\\Users\\SRINU\\AppData\\Roaming\\nltk_data...\n",
      "[nltk_data]   Package universal_tagset is already up-to-date!\n",
      "[nltk_data] Downloading package averaged_perceptron_tagger to\n",
      "[nltk_data]     C:\\Users\\SRINU\\AppData\\Roaming\\nltk_data...\n",
      "[nltk_data]   Unzipping taggers\\averaged_perceptron_tagger.zip.\n"
     ]
    },
    {
     "data": {
      "text/plain": [
       "True"
      ]
     },
     "execution_count": 58,
     "metadata": {},
     "output_type": "execute_result"
    }
   ],
   "source": [
    "nltk.download('universal_tagset')\n",
    "nltk.download('averaged_perceptron_tagger')"
   ]
  },
  {
   "cell_type": "code",
   "execution_count": 2,
   "metadata": {},
   "outputs": [],
   "source": [
    "# reading the Treebank tagged sentences\n",
    "nltk_data = list(nltk.corpus.treebank.tagged_sents(tagset='universal'))"
   ]
  },
  {
   "cell_type": "code",
   "execution_count": 3,
   "metadata": {},
   "outputs": [
    {
     "name": "stdout",
     "output_type": "stream",
     "text": [
      "[[('Pierre', 'NOUN'), ('Vinken', 'NOUN'), (',', '.'), ('61', 'NUM'), ('years', 'NOUN'), ('old', 'ADJ'), (',', '.'), ('will', 'VERB'), ('join', 'VERB'), ('the', 'DET'), ('board', 'NOUN'), ('as', 'ADP'), ('a', 'DET'), ('nonexecutive', 'ADJ'), ('director', 'NOUN'), ('Nov.', 'NOUN'), ('29', 'NUM'), ('.', '.')], [('Mr.', 'NOUN'), ('Vinken', 'NOUN'), ('is', 'VERB'), ('chairman', 'NOUN'), ('of', 'ADP'), ('Elsevier', 'NOUN'), ('N.V.', 'NOUN'), (',', '.'), ('the', 'DET'), ('Dutch', 'NOUN'), ('publishing', 'VERB'), ('group', 'NOUN'), ('.', '.')], [('Rudolph', 'NOUN'), ('Agnew', 'NOUN'), (',', '.'), ('55', 'NUM'), ('years', 'NOUN'), ('old', 'ADJ'), ('and', 'CONJ'), ('former', 'ADJ'), ('chairman', 'NOUN'), ('of', 'ADP'), ('Consolidated', 'NOUN'), ('Gold', 'NOUN'), ('Fields', 'NOUN'), ('PLC', 'NOUN'), (',', '.'), ('was', 'VERB'), ('named', 'VERB'), ('*-1', 'X'), ('a', 'DET'), ('nonexecutive', 'ADJ'), ('director', 'NOUN'), ('of', 'ADP'), ('this', 'DET'), ('British', 'ADJ'), ('industrial', 'ADJ'), ('conglomerate', 'NOUN'), ('.', '.')], [('A', 'DET'), ('form', 'NOUN'), ('of', 'ADP'), ('asbestos', 'NOUN'), ('once', 'ADV'), ('used', 'VERB'), ('*', 'X'), ('*', 'X'), ('to', 'PRT'), ('make', 'VERB'), ('Kent', 'NOUN'), ('cigarette', 'NOUN'), ('filters', 'NOUN'), ('has', 'VERB'), ('caused', 'VERB'), ('a', 'DET'), ('high', 'ADJ'), ('percentage', 'NOUN'), ('of', 'ADP'), ('cancer', 'NOUN'), ('deaths', 'NOUN'), ('among', 'ADP'), ('a', 'DET'), ('group', 'NOUN'), ('of', 'ADP'), ('workers', 'NOUN'), ('exposed', 'VERB'), ('*', 'X'), ('to', 'PRT'), ('it', 'PRON'), ('more', 'ADV'), ('than', 'ADP'), ('30', 'NUM'), ('years', 'NOUN'), ('ago', 'ADP'), (',', '.'), ('researchers', 'NOUN'), ('reported', 'VERB'), ('0', 'X'), ('*T*-1', 'X'), ('.', '.')], [('The', 'DET'), ('asbestos', 'NOUN'), ('fiber', 'NOUN'), (',', '.'), ('crocidolite', 'NOUN'), (',', '.'), ('is', 'VERB'), ('unusually', 'ADV'), ('resilient', 'ADJ'), ('once', 'ADP'), ('it', 'PRON'), ('enters', 'VERB'), ('the', 'DET'), ('lungs', 'NOUN'), (',', '.'), ('with', 'ADP'), ('even', 'ADV'), ('brief', 'ADJ'), ('exposures', 'NOUN'), ('to', 'PRT'), ('it', 'PRON'), ('causing', 'VERB'), ('symptoms', 'NOUN'), ('that', 'DET'), ('*T*-1', 'X'), ('show', 'VERB'), ('up', 'PRT'), ('decades', 'NOUN'), ('later', 'ADJ'), (',', '.'), ('researchers', 'NOUN'), ('said', 'VERB'), ('0', 'X'), ('*T*-2', 'X'), ('.', '.')]]\n"
     ]
    }
   ],
   "source": [
    "# let's print few of the tagged data\n",
    "print(nltk_data[:5])\n"
   ]
  },
  {
   "cell_type": "code",
   "execution_count": 4,
   "metadata": {},
   "outputs": [
    {
     "name": "stdout",
     "output_type": "stream",
     "text": [
      "Training Set Length - 3718\n",
      "Training Set Length - 196\n",
      "-----------------------------------------------------------------------------------------------------------------------------\n",
      "Training Data Glimpse -\n",
      "\n",
      "[[('But', 'CONJ'), ('the', 'DET'), ('presidency', 'NOUN'), ('would', 'VERB'), ('be', 'VERB'), ('no', 'ADV'), ('worse', 'ADJ'), ('off', 'ADP'), ('than', 'ADP'), ('it', 'PRON'), ('is', 'VERB'), ('*?*', 'X'), ('now', 'ADV'), ('.', '.')], [('Last', 'ADJ'), ('week', 'NOUN'), (',', '.'), ('Miami-based', 'ADJ'), ('Carnival', 'NOUN'), ('disclosed', 'VERB'), ('that', 'ADP'), ('Waertsilae', 'NOUN'), ('Marine', 'NOUN'), ('Industries', 'NOUN'), (',', '.'), ('the', 'DET'), ('Finnish', 'ADJ'), ('shipyard', 'NOUN'), ('that', 'DET'), ('*T*-1', 'X'), ('is', 'VERB'), ('building', 'VERB'), ('Carnival', 'NOUN'), (\"'s\", 'PRT'), ('new', 'ADJ'), ('cruise', 'NOUN'), ('ships', 'NOUN'), (',', '.'), ('planned', 'VERB'), ('*-2', 'X'), ('to', 'PRT'), ('file', 'VERB'), ('for', 'ADP'), ('bankruptcy', 'NOUN'), ('.', '.')], [('On', 'ADP'), ('the', 'DET'), ('Commodity', 'NOUN'), ('Exchange', 'NOUN'), ('in', 'ADP'), ('New', 'NOUN'), ('York', 'NOUN'), (',', '.'), ('gold', 'NOUN'), ('for', 'ADP'), ('current', 'ADJ'), ('delivery', 'NOUN'), ('settled', 'VERB'), ('at', 'ADP'), ('$', '.'), ('374.20', 'NUM'), ('*U*', 'X'), ('an', 'DET'), ('ounce', 'NOUN'), (',', '.'), ('down', 'ADP'), ('50', 'NUM'), ('cents', 'NOUN'), ('.', '.')], [('In', 'ADP'), ('the', 'DET'), ('new', 'ADJ'), ('position', 'NOUN'), ('he', 'PRON'), ('will', 'VERB'), ('oversee', 'VERB'), ('Mazda', 'NOUN'), (\"'s\", 'PRT'), ('U.S.', 'NOUN'), ('sales', 'NOUN'), (',', '.'), ('service', 'NOUN'), (',', '.'), ('parts', 'NOUN'), ('and', 'CONJ'), ('marketing', 'NOUN'), ('operations', 'NOUN'), ('.', '.')], [('``', '.'), ('Producers', 'NOUN'), ('were', 'VERB'), ('granted', 'VERB'), ('*-2', 'X'), ('the', 'DET'), ('right', 'ADV'), ('*ICH*-1', 'X'), ('earlier', 'ADV'), ('this', 'DET'), ('year', 'NOUN'), ('*', 'X'), ('to', 'PRT'), ('ship', 'VERB'), ('sugar', 'NOUN'), ('and', 'CONJ'), ('the', 'DET'), ('export', 'NOUN'), ('licenses', 'NOUN'), ('were', 'VERB'), ('expected', 'VERB'), ('*-4', 'X'), ('to', 'PRT'), ('have', 'VERB'), ('begun', 'VERB'), ('*-5', 'X'), ('to', 'PRT'), ('be', 'VERB'), ('issued', 'VERB'), ('*-3', 'X'), (\"''\", '.'), ('yesterday', 'NOUN'), ('.', '.')]]\n"
     ]
    }
   ],
   "source": [
    "# split data into training and validation set in the ratio 95:5\n",
    "random.seed(1234)\n",
    "train_set, test_set = train_test_split(nltk_data, train_size=0.95, test_size=0.05)\n",
    "\n",
    "print(\"Training Set Length -\", len(train_set))\n",
    "print(\"Training Set Length -\", len(test_set))\n",
    "print(\"-\" * 125)\n",
    "print(\"Training Data Glimpse -\\n\")\n",
    "print(train_set[:5])"
   ]
  },
  {
   "cell_type": "code",
   "execution_count": 5,
   "metadata": {},
   "outputs": [],
   "source": [
    "# function to extract nested tuple value\n",
    "\n",
    "def get_nested_tuple_from_list(input_list, index):\n",
    "    if index == -1:\n",
    "        return [tup for sent in input_list for tup in sent]\n",
    "    else:\n",
    "        return [tup[index] for sent in input_list for tup in sent]"
   ]
  },
  {
   "cell_type": "code",
   "execution_count": 6,
   "metadata": {},
   "outputs": [],
   "source": [
    "# function to extract value from tuple by index position\n",
    "\n",
    "def get_tuple_value_from_list(input_list, index):\n",
    "    if index == -1:\n",
    "        return [pair for pair in input_list]\n",
    "    else:\n",
    "        return [pair[index] for pair in input_list]\n",
    "    "
   ]
  },
  {
   "cell_type": "code",
   "execution_count": 7,
   "metadata": {},
   "outputs": [],
   "source": [
    "# function to convert list to set object\n",
    "\n",
    "def convert_list_to_set(input_list):\n",
    "    return set(input_list)"
   ]
  },
  {
   "cell_type": "code",
   "execution_count": 8,
   "metadata": {},
   "outputs": [],
   "source": [
    "# function to get values from set\n",
    "\n",
    "def get_value_from_set(input_set):\n",
    "    return [res for res in input_set]"
   ]
  },
  {
   "cell_type": "code",
   "execution_count": 9,
   "metadata": {},
   "outputs": [],
   "source": [
    "# function to convert tuple value to list\n",
    "\n",
    "def get_list_from_tuple_values(input_tuple, index):\n",
    "    return list(set(get_tuple_value_from_list(input_tuple, index)))"
   ]
  },
  {
   "cell_type": "code",
   "execution_count": 10,
   "metadata": {},
   "outputs": [
    {
     "name": "stdout",
     "output_type": "stream",
     "text": [
      "Total tagged words in training set : 95227\n",
      "-----------------------------------------------------------------------------------------------------------------------------\n",
      "Top 10 tagged words in training set : [('But', 'CONJ'), ('the', 'DET'), ('presidency', 'NOUN'), ('would', 'VERB'), ('be', 'VERB'), ('no', 'ADV'), ('worse', 'ADJ'), ('off', 'ADP'), ('than', 'ADP'), ('it', 'PRON')]\n"
     ]
    }
   ],
   "source": [
    "# get's the list of training set tagged words and print top 10\n",
    "\n",
    "training_tagged_words = get_nested_tuple_from_list(train_set, -1)\n",
    "\n",
    "print('Total tagged words in training set :', len(training_tagged_words))\n",
    "print('-' * 125)\n",
    "print('Top 10 tagged words in training set :', training_tagged_words[:10])"
   ]
  },
  {
   "cell_type": "code",
   "execution_count": 11,
   "metadata": {},
   "outputs": [
    {
     "name": "stdout",
     "output_type": "stream",
     "text": [
      "Top 10 tagged words: ['But', 'the', 'presidency', 'would', 'be', 'no', 'worse', 'off', 'than', 'it']\n"
     ]
    }
   ],
   "source": [
    "# extracting top 10 tokens from the training_tagged_words\n",
    "\n",
    "training_data_tokens = get_tuple_value_from_list(training_tagged_words, 0)\n",
    "\n",
    "print('Top 10 tagged words:', training_data_tokens[:10])"
   ]
  },
  {
   "cell_type": "code",
   "execution_count": 12,
   "metadata": {},
   "outputs": [
    {
     "name": "stdout",
     "output_type": "stream",
     "text": [
      "Top 10 POS tags : ['CONJ', 'DET', 'NOUN', 'VERB', 'VERB', 'ADV', 'ADJ', 'ADP', 'ADP', 'PRON']\n"
     ]
    }
   ],
   "source": [
    "# extracting top 10 POS tags for the training_tagged_words\n",
    "\n",
    "training_data_pos_tags = get_tuple_value_from_list(training_tagged_words, 1)\n",
    "\n",
    "print('Top 10 POS tags :', training_data_pos_tags[:10])"
   ]
  },
  {
   "cell_type": "code",
   "execution_count": 13,
   "metadata": {},
   "outputs": [
    {
     "name": "stdout",
     "output_type": "stream",
     "text": [
      "Top 10 vocabulary:  ['specified', 'affordable', '1987', 'violence', 'sewing-machine', 'Coast', 'Telegraph', 'tissue', 'shipyards', 'top-yielding']\n"
     ]
    }
   ],
   "source": [
    "# building the train vocabulary set from training data tokens\n",
    "\n",
    "training_vocabulary_set = convert_list_to_set(training_data_tokens)\n",
    "\n",
    "print('Top 10 vocabulary: ', get_value_from_set(training_vocabulary_set)[:10])"
   ]
  },
  {
   "cell_type": "code",
   "execution_count": 14,
   "metadata": {},
   "outputs": [
    {
     "name": "stdout",
     "output_type": "stream",
     "text": [
      "Top 10 POS tags:  ['DET', 'PRON', 'ADP', 'X', 'PRT', 'NOUN', '.', 'ADJ', 'CONJ', 'NUM']\n"
     ]
    }
   ],
   "source": [
    "# converting train POS tags to a set\n",
    "\n",
    "training_pos_tag_set = convert_list_to_set(training_data_pos_tags)\n",
    "\n",
    "print('Top 10 POS tags: ', get_value_from_set(training_pos_tag_set)[:10])"
   ]
  },
  {
   "cell_type": "code",
   "execution_count": 15,
   "metadata": {},
   "outputs": [
    {
     "name": "stdout",
     "output_type": "stream",
     "text": [
      "Length of Vocabulary: 12049\n",
      "Length of POS Tags: 12\n",
      "Available POS Tags: {'DET', 'PRON', 'ADP', 'X', 'PRT', 'NOUN', '.', 'ADJ', 'CONJ', 'NUM', 'ADV', 'VERB'}\n"
     ]
    }
   ],
   "source": [
    "print(\"Length of Vocabulary:\", len(training_vocabulary_set))\n",
    "print(\"Length of POS Tags:\", len(training_pos_tag_set)) \n",
    "print(\"Available POS Tags:\", training_pos_tag_set) "
   ]
  },
  {
   "cell_type": "markdown",
   "metadata": {},
   "source": [
    "### 2. POS Tagging Algorithm - HMM"
   ]
  },
  {
   "cell_type": "markdown",
   "metadata": {},
   "source": [
    "Hidden Markov Model based algorithm is used to tag the words. Given a sequence of words to be tagged, the task is to assign the most probable tag to the word.\n",
    "\n",
    "In other words, to every word w, assign the tag t that maximises the likelihood P(t/w). Since P(t/w) = P(w/t). P(t) / P(w), after ignoring P(w), we have to compute P(w/t) and P(t).\n",
    "\n",
    "P(w/t) is basically the probability that given a tag (say NN), what is the probability of it being w (say 'building'). This can be computed by computing the fraction of all NNs which are equal to w, i.e.\n",
    "\n",
    "P(w/t) = count(w, t) / count(t).\n",
    "\n",
    "The term P(t) is the probability of tag t, and in a tagging task, we assume that a tag will depend only on the previous tag. In other words, the probability of a tag being NN will depend only on the previous tag t(n-1). So for e.g. if t(n-1) is a JJ, then t(n) is likely to be an NN since adjectives often precede a noun.\n",
    "\n",
    "Given the penn treebank tagged dataset, we can compute the two terms P(w/t) and P(t) and store them in two large matrices. The matrix of P(w/t) will be sparse, since each word will not be seen with most tags ever, and those terms will thus be zero"
   ]
  },
  {
   "cell_type": "markdown",
   "metadata": {},
   "source": [
    "### Emission Probabilities (i.e. probability of a word given a tag)"
   ]
  },
  {
   "cell_type": "code",
   "execution_count": 16,
   "metadata": {},
   "outputs": [],
   "source": [
    "# computing P(w/t) and storing in [Tags x Vocabulary] matrix. This is a matrix with dimension\n",
    "# of len(training_pos_tag_set) X en(training_vocabulary_set)\n",
    "\n",
    "len_pos_tags = len(training_pos_tag_set)\n",
    "len_vocabulary = len(training_vocabulary_set)\n",
    "\n",
    "word_given_tag = np.zeros((len_pos_tags, len_vocabulary))"
   ]
  },
  {
   "cell_type": "code",
   "execution_count": 17,
   "metadata": {},
   "outputs": [],
   "source": [
    "# compute Emission Probability(word given tag): \n",
    "\n",
    "def emission_probability_word_given_tag(word, tag, training_bag = training_tagged_words):\n",
    "    tag_list = [pair for pair in training_bag if pair[1] == tag]\n",
    "    count_tag = len(tag_list)\n",
    "    w_given_tag_list = [pair[0] for pair in tag_list if pair[0] == word]\n",
    "    count_w_given_tag = len(w_given_tag_list)\n",
    "    \n",
    "    return (count_w_given_tag, count_tag)"
   ]
  },
  {
   "cell_type": "markdown",
   "metadata": {},
   "source": [
    "### Transition Probabilities (i.e. probability of getting a tag t2 given that the tag for previous word was t1)"
   ]
  },
  {
   "cell_type": "code",
   "execution_count": 18,
   "metadata": {},
   "outputs": [],
   "source": [
    "# compute Transition Probability (tag given tag: tag2(t2) given tag1 (t1))\n",
    "\n",
    "def transition_probability_t2_given_t1(t2, t1, training_bag = training_tagged_words):\n",
    "    tags = [pair[1] for pair in training_bag]\n",
    "    count_t1 = len([t for t in tags if t == t1])\n",
    "    count_t2_t1 = 0\n",
    "    for index in range(len(tags)-1):\n",
    "        if tags[index] == t1 and tags[index+1] == t2:\n",
    "            count_t2_t1 += 1\n",
    "    return (count_t2_t1, count_t1)"
   ]
  },
  {
   "cell_type": "code",
   "execution_count": 19,
   "metadata": {},
   "outputs": [
    {
     "data": {
      "text/plain": [
       "array([[5.55354357e-03, 3.62187624e-03, 9.29614902e-03, 4.56356406e-02,\n",
       "        2.41458416e-04, 6.37088001e-01, 1.77471936e-02, 2.04998195e-01,\n",
       "        4.82916832e-04, 2.23349035e-02, 1.27972960e-02, 4.02028263e-02],\n",
       "       [9.62649193e-03, 7.70119391e-03, 2.23334618e-02, 9.20292661e-02,\n",
       "        1.27069699e-02, 2.10242584e-01, 4.08163257e-02, 7.35464022e-02,\n",
       "        5.39083546e-03, 6.54601445e-03, 3.42703126e-02, 4.84790146e-01],\n",
       "       [3.25631142e-01, 6.87847659e-02, 1.72229353e-02, 3.48737687e-02,\n",
       "        1.49764656e-03, 3.21673095e-01, 3.87248620e-02, 1.06332906e-01,\n",
       "        8.55798018e-04, 6.16174601e-02, 1.42276427e-02, 8.55797995e-03],\n",
       "       [5.29185385e-02, 5.53239249e-02, 1.45285442e-01, 7.40859509e-02,\n",
       "        1.86978832e-01, 6.14175759e-02, 1.62764594e-01, 1.66773573e-02,\n",
       "        9.78191104e-03, 2.72610644e-03, 2.58178320e-02, 2.06221938e-01],\n",
       "       [1.00098133e-01, 1.83186121e-02, 2.06084400e-02, 1.34118414e-02,\n",
       "        1.96270854e-03, 2.45665684e-01, 4.28524688e-02, 8.47235844e-02,\n",
       "        1.96270854e-03, 5.56100756e-02, 1.01406612e-02, 4.04645085e-01],\n",
       "       [1.30122425e-02, 4.76504676e-03, 1.77442998e-01, 2.88102049e-02,\n",
       "        4.41316627e-02, 2.63836950e-01, 2.39205331e-01, 1.24257756e-02,\n",
       "        4.22989503e-02, 9.53009352e-03, 1.70075502e-02, 1.47533178e-01],\n",
       "       [1.74884647e-01, 6.58644736e-02, 9.20112208e-02, 2.73228996e-02,\n",
       "        2.44277576e-03, 2.21297383e-01, 9.41825733e-02, 4.37890179e-02,\n",
       "        5.83551973e-02, 8.02497044e-02, 5.20220771e-02, 8.74875635e-02],\n",
       "       [4.79735341e-03, 6.61703874e-04, 7.74193555e-02, 2.13399511e-02,\n",
       "        1.09181143e-02, 6.99751854e-01, 6.50124103e-02, 6.61703870e-02,\n",
       "        1.70388743e-02, 2.08436716e-02, 4.30107536e-03, 1.17452443e-02],\n",
       "       [1.20956399e-01, 5.90717308e-02, 5.48523217e-02, 8.43881816e-03,\n",
       "        4.68823267e-03, 3.50210965e-01, 3.46929207e-02, 1.12517580e-01,\n",
       "        4.68823244e-04, 4.03187983e-02, 5.53211421e-02, 1.58462256e-01],\n",
       "       [3.00210156e-03, 1.50105078e-03, 3.51245888e-02, 2.07745418e-01,\n",
       "        2.76193339e-02, 3.53947759e-01, 1.17382169e-01, 3.36235352e-02,\n",
       "        1.35094570e-02, 1.84929445e-01, 3.00210156e-03, 1.86130293e-02],\n",
       "       [6.95419610e-02, 1.60481445e-02, 1.18689403e-01, 2.20661983e-02,\n",
       "        1.37077896e-02, 3.17619517e-02, 1.37412235e-01, 1.29053831e-01,\n",
       "        7.35539943e-03, 3.20962891e-02, 7.75660351e-02, 3.44700783e-01],\n",
       "       [1.35109931e-01, 3.58946472e-02, 9.07466412e-02, 2.17310235e-01,\n",
       "        3.07668410e-02, 1.10558622e-01, 3.54284830e-02, 6.51076064e-02,\n",
       "        5.36088878e-03, 2.29197424e-02, 8.12679678e-02, 1.69528395e-01]],\n",
       "      dtype=float32)"
      ]
     },
     "execution_count": 19,
     "metadata": {},
     "output_type": "execute_result"
    }
   ],
   "source": [
    "# creating t x t transition matrix of tags\n",
    "\n",
    "tags_matrix = np.zeros((len_pos_tags, len_pos_tags), dtype='float32')\n",
    "for i, t1 in enumerate(list(training_pos_tag_set)):\n",
    "    for j, t2 in enumerate(list(training_pos_tag_set)): \n",
    "        tags_matrix[i, j] = transition_probability_t2_given_t1(t2, t1)[0]/transition_probability_t2_given_t1(t2, t1)[1]\n",
    "\n",
    "# Let's have a glimpse into the transition matrix\n",
    "tags_matrix"
   ]
  },
  {
   "cell_type": "code",
   "execution_count": 20,
   "metadata": {},
   "outputs": [
    {
     "data": {
      "text/html": [
       "<div>\n",
       "<style scoped>\n",
       "    .dataframe tbody tr th:only-of-type {\n",
       "        vertical-align: middle;\n",
       "    }\n",
       "\n",
       "    .dataframe tbody tr th {\n",
       "        vertical-align: top;\n",
       "    }\n",
       "\n",
       "    .dataframe thead th {\n",
       "        text-align: right;\n",
       "    }\n",
       "</style>\n",
       "<table border=\"1\" class=\"dataframe\">\n",
       "  <thead>\n",
       "    <tr style=\"text-align: right;\">\n",
       "      <th></th>\n",
       "      <th>DET</th>\n",
       "      <th>PRON</th>\n",
       "      <th>ADP</th>\n",
       "      <th>X</th>\n",
       "      <th>PRT</th>\n",
       "      <th>NOUN</th>\n",
       "      <th>.</th>\n",
       "      <th>ADJ</th>\n",
       "      <th>CONJ</th>\n",
       "      <th>NUM</th>\n",
       "      <th>ADV</th>\n",
       "      <th>VERB</th>\n",
       "    </tr>\n",
       "  </thead>\n",
       "  <tbody>\n",
       "    <tr>\n",
       "      <td>DET</td>\n",
       "      <td>0.005554</td>\n",
       "      <td>0.003622</td>\n",
       "      <td>0.009296</td>\n",
       "      <td>0.045636</td>\n",
       "      <td>0.000241</td>\n",
       "      <td>0.637088</td>\n",
       "      <td>0.017747</td>\n",
       "      <td>0.204998</td>\n",
       "      <td>0.000483</td>\n",
       "      <td>0.022335</td>\n",
       "      <td>0.012797</td>\n",
       "      <td>0.040203</td>\n",
       "    </tr>\n",
       "    <tr>\n",
       "      <td>PRON</td>\n",
       "      <td>0.009626</td>\n",
       "      <td>0.007701</td>\n",
       "      <td>0.022333</td>\n",
       "      <td>0.092029</td>\n",
       "      <td>0.012707</td>\n",
       "      <td>0.210243</td>\n",
       "      <td>0.040816</td>\n",
       "      <td>0.073546</td>\n",
       "      <td>0.005391</td>\n",
       "      <td>0.006546</td>\n",
       "      <td>0.034270</td>\n",
       "      <td>0.484790</td>\n",
       "    </tr>\n",
       "    <tr>\n",
       "      <td>ADP</td>\n",
       "      <td>0.325631</td>\n",
       "      <td>0.068785</td>\n",
       "      <td>0.017223</td>\n",
       "      <td>0.034874</td>\n",
       "      <td>0.001498</td>\n",
       "      <td>0.321673</td>\n",
       "      <td>0.038725</td>\n",
       "      <td>0.106333</td>\n",
       "      <td>0.000856</td>\n",
       "      <td>0.061617</td>\n",
       "      <td>0.014228</td>\n",
       "      <td>0.008558</td>\n",
       "    </tr>\n",
       "    <tr>\n",
       "      <td>X</td>\n",
       "      <td>0.052919</td>\n",
       "      <td>0.055324</td>\n",
       "      <td>0.145285</td>\n",
       "      <td>0.074086</td>\n",
       "      <td>0.186979</td>\n",
       "      <td>0.061418</td>\n",
       "      <td>0.162765</td>\n",
       "      <td>0.016677</td>\n",
       "      <td>0.009782</td>\n",
       "      <td>0.002726</td>\n",
       "      <td>0.025818</td>\n",
       "      <td>0.206222</td>\n",
       "    </tr>\n",
       "    <tr>\n",
       "      <td>PRT</td>\n",
       "      <td>0.100098</td>\n",
       "      <td>0.018319</td>\n",
       "      <td>0.020608</td>\n",
       "      <td>0.013412</td>\n",
       "      <td>0.001963</td>\n",
       "      <td>0.245666</td>\n",
       "      <td>0.042852</td>\n",
       "      <td>0.084724</td>\n",
       "      <td>0.001963</td>\n",
       "      <td>0.055610</td>\n",
       "      <td>0.010141</td>\n",
       "      <td>0.404645</td>\n",
       "    </tr>\n",
       "    <tr>\n",
       "      <td>NOUN</td>\n",
       "      <td>0.013012</td>\n",
       "      <td>0.004765</td>\n",
       "      <td>0.177443</td>\n",
       "      <td>0.028810</td>\n",
       "      <td>0.044132</td>\n",
       "      <td>0.263837</td>\n",
       "      <td>0.239205</td>\n",
       "      <td>0.012426</td>\n",
       "      <td>0.042299</td>\n",
       "      <td>0.009530</td>\n",
       "      <td>0.017008</td>\n",
       "      <td>0.147533</td>\n",
       "    </tr>\n",
       "    <tr>\n",
       "      <td>.</td>\n",
       "      <td>0.174885</td>\n",
       "      <td>0.065864</td>\n",
       "      <td>0.092011</td>\n",
       "      <td>0.027323</td>\n",
       "      <td>0.002443</td>\n",
       "      <td>0.221297</td>\n",
       "      <td>0.094183</td>\n",
       "      <td>0.043789</td>\n",
       "      <td>0.058355</td>\n",
       "      <td>0.080250</td>\n",
       "      <td>0.052022</td>\n",
       "      <td>0.087488</td>\n",
       "    </tr>\n",
       "    <tr>\n",
       "      <td>ADJ</td>\n",
       "      <td>0.004797</td>\n",
       "      <td>0.000662</td>\n",
       "      <td>0.077419</td>\n",
       "      <td>0.021340</td>\n",
       "      <td>0.010918</td>\n",
       "      <td>0.699752</td>\n",
       "      <td>0.065012</td>\n",
       "      <td>0.066170</td>\n",
       "      <td>0.017039</td>\n",
       "      <td>0.020844</td>\n",
       "      <td>0.004301</td>\n",
       "      <td>0.011745</td>\n",
       "    </tr>\n",
       "    <tr>\n",
       "      <td>CONJ</td>\n",
       "      <td>0.120956</td>\n",
       "      <td>0.059072</td>\n",
       "      <td>0.054852</td>\n",
       "      <td>0.008439</td>\n",
       "      <td>0.004688</td>\n",
       "      <td>0.350211</td>\n",
       "      <td>0.034693</td>\n",
       "      <td>0.112518</td>\n",
       "      <td>0.000469</td>\n",
       "      <td>0.040319</td>\n",
       "      <td>0.055321</td>\n",
       "      <td>0.158462</td>\n",
       "    </tr>\n",
       "    <tr>\n",
       "      <td>NUM</td>\n",
       "      <td>0.003002</td>\n",
       "      <td>0.001501</td>\n",
       "      <td>0.035125</td>\n",
       "      <td>0.207745</td>\n",
       "      <td>0.027619</td>\n",
       "      <td>0.353948</td>\n",
       "      <td>0.117382</td>\n",
       "      <td>0.033624</td>\n",
       "      <td>0.013509</td>\n",
       "      <td>0.184929</td>\n",
       "      <td>0.003002</td>\n",
       "      <td>0.018613</td>\n",
       "    </tr>\n",
       "    <tr>\n",
       "      <td>ADV</td>\n",
       "      <td>0.069542</td>\n",
       "      <td>0.016048</td>\n",
       "      <td>0.118689</td>\n",
       "      <td>0.022066</td>\n",
       "      <td>0.013708</td>\n",
       "      <td>0.031762</td>\n",
       "      <td>0.137412</td>\n",
       "      <td>0.129054</td>\n",
       "      <td>0.007355</td>\n",
       "      <td>0.032096</td>\n",
       "      <td>0.077566</td>\n",
       "      <td>0.344701</td>\n",
       "    </tr>\n",
       "    <tr>\n",
       "      <td>VERB</td>\n",
       "      <td>0.135110</td>\n",
       "      <td>0.035895</td>\n",
       "      <td>0.090747</td>\n",
       "      <td>0.217310</td>\n",
       "      <td>0.030767</td>\n",
       "      <td>0.110559</td>\n",
       "      <td>0.035428</td>\n",
       "      <td>0.065108</td>\n",
       "      <td>0.005361</td>\n",
       "      <td>0.022920</td>\n",
       "      <td>0.081268</td>\n",
       "      <td>0.169528</td>\n",
       "    </tr>\n",
       "  </tbody>\n",
       "</table>\n",
       "</div>"
      ],
      "text/plain": [
       "           DET      PRON       ADP         X       PRT      NOUN         .  \\\n",
       "DET   0.005554  0.003622  0.009296  0.045636  0.000241  0.637088  0.017747   \n",
       "PRON  0.009626  0.007701  0.022333  0.092029  0.012707  0.210243  0.040816   \n",
       "ADP   0.325631  0.068785  0.017223  0.034874  0.001498  0.321673  0.038725   \n",
       "X     0.052919  0.055324  0.145285  0.074086  0.186979  0.061418  0.162765   \n",
       "PRT   0.100098  0.018319  0.020608  0.013412  0.001963  0.245666  0.042852   \n",
       "NOUN  0.013012  0.004765  0.177443  0.028810  0.044132  0.263837  0.239205   \n",
       ".     0.174885  0.065864  0.092011  0.027323  0.002443  0.221297  0.094183   \n",
       "ADJ   0.004797  0.000662  0.077419  0.021340  0.010918  0.699752  0.065012   \n",
       "CONJ  0.120956  0.059072  0.054852  0.008439  0.004688  0.350211  0.034693   \n",
       "NUM   0.003002  0.001501  0.035125  0.207745  0.027619  0.353948  0.117382   \n",
       "ADV   0.069542  0.016048  0.118689  0.022066  0.013708  0.031762  0.137412   \n",
       "VERB  0.135110  0.035895  0.090747  0.217310  0.030767  0.110559  0.035428   \n",
       "\n",
       "           ADJ      CONJ       NUM       ADV      VERB  \n",
       "DET   0.204998  0.000483  0.022335  0.012797  0.040203  \n",
       "PRON  0.073546  0.005391  0.006546  0.034270  0.484790  \n",
       "ADP   0.106333  0.000856  0.061617  0.014228  0.008558  \n",
       "X     0.016677  0.009782  0.002726  0.025818  0.206222  \n",
       "PRT   0.084724  0.001963  0.055610  0.010141  0.404645  \n",
       "NOUN  0.012426  0.042299  0.009530  0.017008  0.147533  \n",
       ".     0.043789  0.058355  0.080250  0.052022  0.087488  \n",
       "ADJ   0.066170  0.017039  0.020844  0.004301  0.011745  \n",
       "CONJ  0.112518  0.000469  0.040319  0.055321  0.158462  \n",
       "NUM   0.033624  0.013509  0.184929  0.003002  0.018613  \n",
       "ADV   0.129054  0.007355  0.032096  0.077566  0.344701  \n",
       "VERB  0.065108  0.005361  0.022920  0.081268  0.169528  "
      ]
     },
     "execution_count": 20,
     "metadata": {},
     "output_type": "execute_result"
    }
   ],
   "source": [
    "# converting the matrix to a data frame\n",
    "df_tags = pd.DataFrame(tags_matrix, columns = list(training_pos_tag_set), index=list(training_pos_tag_set))\n",
    "\n",
    "# print data\n",
    "df_tags"
   ]
  },
  {
   "cell_type": "markdown",
   "metadata": {},
   "source": [
    "## Exploratory Data Analysis"
   ]
  },
  {
   "cell_type": "code",
   "execution_count": 21,
   "metadata": {},
   "outputs": [
    {
     "data": {
      "image/png": "[encoded data removed]",
      "text/plain": [
       "<Figure size 1008x864 with 2 Axes>"
      ]
     },
     "metadata": {
      "needs_background": "light"
     },
     "output_type": "display_data"
    }
   ],
   "source": [
    "# heatmap of tags matrix\n",
    "plt.figure(figsize=(14, 12))\n",
    "sns.heatmap(df_tags, annot = True)\n",
    "plt.show()"
   ]
  },
  {
   "cell_type": "code",
   "execution_count": 22,
   "metadata": {},
   "outputs": [
    {
     "data": {
      "image/png": "[encoded data removed]",
      "text/plain": [
       "<Figure size 1008x576 with 2 Axes>"
      ]
     },
     "metadata": {
      "needs_background": "light"
     },
     "output_type": "display_data"
    }
   ],
   "source": [
    "# frequent tags\n",
    "\n",
    "frequent_tags = df_tags[df_tags > 0.5]\n",
    "plt.figure(figsize=(14, 8))\n",
    "sns.heatmap(frequent_tags, annot = True)\n",
    "plt.show()"
   ]
  },
  {
   "cell_type": "markdown",
   "metadata": {},
   "source": [
    "### Build the vanilla Viterbi based POS tagger"
   ]
  },
  {
   "cell_type": "markdown",
   "metadata": {},
   "source": [
    "Let's now use the computed probabilities P(w, tag) and P(t2, t1) to assign tags to each word in the document. We'll run through each word w and compute P(tag/w)=P(w/tag).P(tag) for each tag in the tag set, and then assign the tag having the max P(tag/w).\n",
    "\n",
    "We'll store the assigned tags in a list of tuples, similar to the list 'training_tagged_words'. Each tuple will be a (token, assigned_tag). As we progress further in the list, each tag to be assigned will use the tag of the previous token.\n",
    "\n",
    "Note: P(tag|start) = P(tag|'.')"
   ]
  },
  {
   "cell_type": "code",
   "execution_count": 23,
   "metadata": {},
   "outputs": [],
   "source": [
    "# Vanilla Viterbi Algorithm\n",
    "def vanilla_viterbi(words, training_bag = training_tagged_words):\n",
    "    state = []\n",
    "    #T = list(set([pair[1] for pair in train_bag]))\n",
    "    T = list(set(get_tuple_value_from_list(training_bag, 1)))\n",
    "        \n",
    "    for key, word in enumerate(words):\n",
    "        p = [] \n",
    "        for tag in T:\n",
    "            if key == 0:\n",
    "                transition_p = df_tags.loc['.', tag]\n",
    "            else:\n",
    "                transition_p = df_tags.loc[state[-1], tag]\n",
    "                \n",
    "            # compute emission and state probabilities\n",
    "            emission_p = emission_probability_word_given_tag(words[key], tag)[0]/emission_probability_word_given_tag(words[key], tag)[1]\n",
    "            state_probability = emission_p * transition_p    \n",
    "            p.append(state_probability)\n",
    "            \n",
    "        pmax = max(p)\n",
    "        # getting maximum probability state\n",
    "        state_max = T[p.index(pmax)] \n",
    "        state.append(state_max)\n",
    "    return list(zip(words, state))"
   ]
  },
  {
   "cell_type": "markdown",
   "metadata": {},
   "source": [
    "### Testing Vanilla Viterbi Algorithm on sampled test data"
   ]
  },
  {
   "cell_type": "code",
   "execution_count": 24,
   "metadata": {},
   "outputs": [],
   "source": [
    "# Let's test our Viterbi algorithm on a few sample sentences of test dataset\n",
    "# since running it on the entire data set will take many hours\n",
    "\n",
    "random.seed(1234)\n",
    "\n",
    "# tagged words\n",
    "tagged_words = get_nested_tuple_from_list(test_set, -1)\n",
    "\n",
    "# untagged words\n",
    "test_tagged_words = get_nested_tuple_from_list(test_set, 0)"
   ]
  },
  {
   "cell_type": "code",
   "execution_count": 25,
   "metadata": {},
   "outputs": [],
   "source": [
    "# tagging the test sentences\n",
    "start = time.time()\n",
    "test_tagged_seq = vanilla_viterbi(test_tagged_words)\n",
    "end = time.time()\n",
    "difference = end-start"
   ]
  },
  {
   "cell_type": "code",
   "execution_count": 26,
   "metadata": {},
   "outputs": [
    {
     "name": "stdout",
     "output_type": "stream",
     "text": [
      "Time taken in seconds:  1312.4408061504364\n",
      "[('The', 'DET'), ('show', 'NOUN'), ('did', 'VERB'), (\"n't\", 'ADV'), ('give', 'VERB'), ('the', 'DET'), ('particulars', 'DET'), ('of', 'ADP'), ('Mrs.', 'NOUN'), ('Yeargin', 'NOUN'), (\"'s\", 'PRT'), ('offense', 'DET'), (',', '.'), ('*-1', 'X'), ('saying', 'VERB'), ('only', 'ADV'), ('that', 'ADP'), ('she', 'PRON'), ('helped', 'VERB'), ('students', 'NOUN'), ('do', 'VERB'), ('better', 'ADV'), ('on', 'ADP'), ('the', 'DET'), ('test', 'NOUN'), ('.', '.'), ('But', 'CONJ'), ('*', 'X'), ('do', 'VERB'), (\"n't\", 'ADV'), ('breathe', 'DET'), ('too', 'ADV'), ('easy', 'ADJ'), (':', '.'), ('Those', 'DET'), ('dividend', 'NOUN'), ('increases', 'NOUN'), ('may', 'VERB'), ('signal', 'VERB'), ('trouble', 'NOUN'), ('ahead', 'ADV'), ('for', 'ADP'), ('stock', 'NOUN'), ('prices', 'NOUN'), (',', '.'), ('some', 'DET'), ('analysts', 'NOUN'), ('warn', 'DET'), ('0', 'X'), ('*T*-1', 'X'), ('.', '.'), ('``', '.'), ('Wilder', 'NOUN'), ('has', 'VERB'), ('managed', 'VERB'), ('*-1', 'X'), ('to', 'PRT'), ('get', 'VERB'), ('across', 'ADP'), ('the', 'DET'), ('idea', 'NOUN'), ('that', 'ADP'), ('Coleman', 'NOUN'), ('will', 'VERB'), ('say', 'VERB'), ('anything', 'NOUN'), ('*-2', 'X'), ('to', 'PRT'), ('get', 'VERB'), ('elected', 'VERB'), ('*-3', 'X'), ('governor', 'NOUN'), ('and', 'CONJ'), ('--', '.'), ('more', 'ADV'), ('important', 'ADJ'), ('--', '.'), ('has', 'VERB'), ('been', 'VERB'), ('able', 'ADJ'), ('*-1', 'X'), ('to', 'PRT'), ('put', 'VERB'), ('the', 'DET'), ('onus', 'DET'), ('for', 'ADP'), ('all', 'DET'), ('the', 'DET'), ('negative', 'ADJ'), ('campaigning', 'NOUN'), ('on', 'ADP'), ('Coleman', 'NOUN'), ('.', '.'), (\"''\", '.'), ('But', 'CONJ'), ('despite', 'ADP'), ('partisan', 'DET'), ('bickering', 'DET'), ('over', 'ADP'), ('the', 'DET'), ('debt', 'NOUN'), ('ceiling', 'NOUN'), (',', '.'), ('which', 'DET'), ('*T*-177', 'DET'), ('has', 'VERB'), ('become', 'VERB'), ('entangled', 'DET'), ('in', 'ADP'), ('the', 'DET'), ('fight', 'NOUN'), ('over', 'ADP'), ('*', 'X'), ('cutting', 'VERB'), ('capital-gains', 'ADJ'), ('taxes', 'NOUN'), (',', '.'), ('Congress', 'NOUN'), ('is', 'VERB'), ('almost', 'ADV'), ('certain', 'ADJ'), ('*-1', 'X'), ('to', 'PRT'), ('act', 'VERB'), ('in', 'ADP'), ('time', 'NOUN'), ('0', 'X'), ('*', 'X'), ('to', 'PRT'), ('avoid', 'VERB'), ('default', 'VERB'), ('*T*-3', 'X'), ('.', '.'), ('``', '.'), ('We', 'PRON'), ('have', 'VERB'), ('a', 'DET'), ('long', 'ADJ'), ('history', 'NOUN'), ('of', 'ADP'), ('*', 'X'), ('maintaining', 'VERB'), ('an', 'DET'), ('open', 'ADJ'), ('direct-investment', 'DET'), ('policy', 'NOUN'), (',', '.'), (\"''\", '.'), ('Mr.', 'NOUN'), ('Dallara', 'NOUN'), ('says', 'VERB'), ('*T*-1', 'X'), ('.', '.'), ('AMR', 'DET'), ('climbed', 'VERB'), ('1', 'NUM'), ('3\\\\/4', 'NUM'), ('to', 'PRT'), ('73', 'NUM'), ('1\\\\/8', 'NUM'), ('amid', 'ADP'), ('rumors', 'NOUN'), ('that', 'ADP'), ('New', 'NOUN'), ('York', 'NOUN'), ('developer', 'DET'), ('Donald', 'NOUN'), ('Trump', 'NOUN'), ('was', 'VERB'), ('seeking', 'VERB'), ('financing', 'VERB'), ('0', 'X'), ('*', 'X'), ('to', 'PRT'), ('mount', 'DET'), ('a', 'DET'), ('new', 'ADJ'), (',', '.'), ('lower', 'ADJ'), ('offer', 'NOUN'), ('for', 'ADP'), ('the', 'DET'), ('parent', 'NOUN'), ('company', 'NOUN'), ('of', 'ADP'), ('American', 'NOUN'), ('Airlines', 'NOUN'), ('*T*-1', 'X'), ('.', '.'), ('A', 'DET'), ('faster', 'ADJ'), ('version', 'NOUN'), (',', '.'), ('the', 'DET'), ('SuperDot', 'NOUN'), (',', '.'), ('was', 'VERB'), ('launched', 'VERB'), ('*-1', 'X'), ('in', 'ADP'), ('1984', 'NUM'), ('.', '.'), ('*-1', 'X'), ('Crude', 'ADJ'), ('as', 'ADP'), ('they', 'PRON'), ('were', 'VERB'), ('*?*', 'X'), (',', '.'), ('these', 'DET'), ('early', 'ADJ'), ('PCs', 'NOUN'), ('triggered', 'VERB'), ('explosive', 'DET'), ('product', 'NOUN'), ('development', 'NOUN'), ('in', 'ADP'), ('desktop', 'DET'), ('models', 'NOUN'), ('for', 'ADP'), ('the', 'DET'), ('home', 'NOUN'), ('and', 'CONJ'), ('office', 'NOUN'), ('.', '.'), ('Proponents', 'DET'), ('of', 'ADP'), ('the', 'DET'), ('funding', 'NOUN'), ('arrangement', 'NOUN'), ('predict', 'VERB'), ('that', 'ADP'), (',', '.'), ('based', 'VERB'), ('on', 'ADP'), ('recent', 'ADJ'), ('filing', 'NOUN'), ('levels', 'NOUN'), ('of', 'ADP'), ('more', 'ADJ'), ('than', 'ADP'), ('2,000', 'DET'), ('a', 'DET'), ('year', 'NOUN'), (',', '.'), ('the', 'DET'), ('fees', 'NOUN'), ('will', 'VERB'), ('yield', 'VERB'), ('at', 'ADP'), ('least', 'ADJ'), ('$', '.'), ('40', 'NUM'), ('million', 'NUM'), ('*U*', 'X'), ('*ICH*-1', 'X'), ('this', 'DET'), ('fiscal', 'ADJ'), ('year', 'NOUN'), (',', '.'), ('or', 'CONJ'), ('$', '.'), ('10', 'NUM'), ('million', 'NUM'), ('*U*', 'X'), ('more', 'ADV'), ('than', 'ADP'), ('the', 'DET'), ('budget', 'NOUN'), ('cuts', 'NOUN'), ('.', '.'), ('Several', 'ADJ'), ('candidates', 'NOUN'), ('have', 'VERB'), ('withdrawn', 'VERB'), ('their', 'PRON'), ('names', 'NOUN'), ('from', 'ADP'), ('consideration', 'NOUN'), ('after', 'ADP'), ('administration', 'NOUN'), ('officials', 'NOUN'), ('asked', 'VERB'), ('them', 'PRON'), ('for', 'ADP'), ('their', 'PRON'), ('views', 'VERB'), ('on', 'ADP'), ('abortion', 'NOUN'), ('and', 'CONJ'), ('fetal-tissue', 'ADJ'), ('transplants', 'NOUN'), ('.', '.'), ('But', 'CONJ'), (',', '.'), ('analysts', 'NOUN'), ('say', 'VERB'), ('0', 'X'), ('*T*-2', 'X'), (',', '.'), ('Asian', 'ADJ'), ('cooperation', 'NOUN'), ('is', 'VERB'), (\"n't\", 'ADV'), ('likely', 'ADJ'), ('*-1', 'X'), ('to', 'PRT'), ('parallel', 'ADJ'), ('the', 'DET'), ('European', 'ADJ'), ('Common', 'ADJ'), ('Market', 'NOUN'), ('approach', 'NOUN'), ('.', '.'), ('He', 'PRON'), ('will', 'VERB'), ('continue', 'VERB'), ('*-1', 'X'), ('to', 'PRT'), ('report', 'NOUN'), ('to', 'PRT'), ('Donald', 'NOUN'), ('Pardus', 'DET'), (',', '.'), ('president', 'NOUN'), ('and', 'CONJ'), ('chief', 'NOUN'), ('executive', 'NOUN'), ('officer', 'NOUN'), ('.', '.'), ('Besides', 'ADP'), ('the', 'DET'), ('designer', 'NOUN'), (\"'s\", 'PRT'), ('age', 'NOUN'), (',', '.'), ('other', 'ADJ'), ('risk', 'NOUN'), ('factors', 'NOUN'), ('for', 'ADP'), ('Mr.', 'NOUN'), ('Cray', 'NOUN'), (\"'s\", 'PRT'), ('new', 'ADJ'), ('company', 'NOUN'), ('include', 'VERB'), ('the', 'DET'), ('Cray-3', 'NOUN'), (\"'s\", 'PRT'), ('tricky', 'DET'), (',', '.'), ('unproven', 'DET'), ('chip', 'NOUN'), ('technology', 'NOUN'), ('.', '.'), ('The', 'DET'), ('speed', 'NOUN'), ('of', 'ADP'), ('his', 'PRON'), ('transaction', 'NOUN'), ('is', 'VERB'), (\"n't\", 'ADV'), ('*-1', 'X'), ('to', 'PRT'), ('be', 'VERB'), ('feared', 'VERB'), ('*-79', 'X'), ('either', 'DET'), (',', '.'), ('because', 'ADP'), ('faster', 'ADJ'), ('and', 'CONJ'), ('cleaner', 'ADJ'), ('execution', 'NOUN'), ('is', 'VERB'), ('desirable', 'ADJ'), (',', '.'), ('not', 'ADV'), ('loathsome', 'DET'), ('.', '.'), ('*', 'X'), ('Getting', 'DET'), ('a', 'DET'), ('level', 'NOUN'), ('playing', 'VERB'), ('field', 'NOUN'), ('.', '.'), ('World', 'NOUN'), ('sugar', 'NOUN'), ('futures', 'NOUN'), ('prices', 'NOUN'), ('soared', 'VERB'), ('on', 'ADP'), ('rumors', 'NOUN'), ('that', 'ADP'), ('Brazil', 'NOUN'), (',', '.'), ('a', 'DET'), ('major', 'ADJ'), ('grower', 'DET'), ('and', 'CONJ'), ('exporter', 'NOUN'), (',', '.'), ('might', 'VERB'), ('not', 'ADV'), ('ship', 'VERB'), ('sugar', 'NOUN'), ('this', 'DET'), ('crop', 'NOUN'), ('year', 'NOUN'), ('and', 'CONJ'), ('next', 'ADJ'), ('.', '.'), ('Garret', 'DET'), ('Boone', 'NOUN'), (',', '.'), ('who', 'PRON'), ('*T*-11', 'X'), ('teaches', 'DET'), ('art', 'NOUN'), ('at', 'ADP'), ('Earlham', 'DET'), ('College', 'NOUN'), (',', '.'), ('calls', 'VERB'), ('the', 'DET'), ('new', 'ADJ'), ('structure', 'NOUN'), ('``', '.'), ('just', 'ADV'), ('an', 'DET'), ('ugly', 'DET'), ('bridge', 'NOUN'), (\"''\", '.'), ('and', 'CONJ'), ('one', 'NUM'), ('that', 'ADP'), ('*T*-1', 'X'), ('blocks', 'NOUN'), ('the', 'DET'), ('view', 'NOUN'), ('of', 'ADP'), ('a', 'DET'), ('new', 'ADJ'), ('park', 'NOUN'), ('below', 'ADP'), ('.', '.'), ('We', 'PRON'), ('-LRB-', '.'), ('I', 'PRON'), ('assume', 'VERB'), ('0', 'X'), ('you', 'PRON'), (\"'re\", 'VERB'), ('in', 'ADP'), ('this', 'DET'), ('with', 'ADP'), ('me', 'PRON'), ('at', 'ADP'), ('this', 'DET'), ('point', 'NOUN'), ('-RRB-', '.'), ('need', 'VERB'), ('*-1', 'X'), ('to', 'PRT'), ('get', 'VERB'), ('three', 'NUM'), ('words', 'NOUN'), ('--', '.'), ('``', '.'), ('for', 'ADP'), ('examination', 'NOUN'), ('only', 'ADV'), (\"''\", '.'), ('--', '.'), ('eliminated', 'VERB'), ('from', 'ADP'), ('the', 'DET'), ('law', 'NOUN'), ('.', '.'), ('Net', 'ADJ'), ('advanced', 'ADJ'), ('to', 'PRT'), ('$', '.'), ('94.2', 'DET'), ('million', 'NUM'), ('*U*', 'X'), (',', '.'), ('or', 'CONJ'), ('89', 'NUM'), ('cents', 'NOUN'), ('a', 'DET'), ('share', 'NOUN'), (',', '.'), ('from', 'ADP'), ('$', '.'), ('85', 'NUM'), ('million', 'NUM'), ('*U*', 'X'), (',', '.'), ('or', 'CONJ'), ('83', 'DET'), ('cents', 'NOUN'), ('a', 'DET'), ('share', 'NOUN'), (',', '.'), ('including', 'VERB'), ('net', 'ADJ'), ('realized', 'VERB'), ('investment', 'NOUN'), ('gains', 'NOUN'), ('of', 'ADP'), ('$', '.'), ('31', 'NUM'), ('million', 'NUM'), ('*U*', 'X'), (',', '.'), ('up', 'ADV'), ('from', 'ADP'), ('$', '.'), ('10', 'NUM'), ('million', 'NUM'), ('*U*', 'X'), ('a', 'DET'), ('year', 'NOUN'), ('ago', 'ADP'), ('.', '.'), ('The', 'DET'), ('formula', 'DET'), ('has', 'VERB'), ('paid', 'VERB'), ('off', 'PRT'), (',', '.'), ('so', 'ADV'), ('far', 'ADV'), ('.', '.'), ('But', 'CONJ'), ('it', 'PRON'), ('said', 'VERB'), ('that', 'ADP'), ('severance', 'DET'), ('payments', 'NOUN'), ('to', 'PRT'), ('those', 'DET'), ('executives', 'NOUN'), ('not', 'ADV'), ('staying', 'DET'), ('with', 'ADP'), ('the', 'DET'), ('company', 'NOUN'), ('will', 'VERB'), ('reduce', 'VERB'), ('First', 'NOUN'), ('of', 'ADP'), ('America', 'NOUN'), (\"'s\", 'PRT'), ('operating', 'VERB'), ('results', 'NOUN'), ('for', 'ADP'), ('1989', 'NUM'), ('by', 'ADP'), ('$', '.'), ('3', 'NUM'), ('million', 'NUM'), ('*U*', 'X'), ('to', 'PRT'), ('$', '.'), ('4', 'NUM'), ('million', 'NUM'), ('*U*', 'X'), (',', '.'), ('or', 'CONJ'), ('15', 'NUM'), ('cents', 'NOUN'), ('to', 'PRT'), ('20', 'NUM'), ('cents', 'NOUN'), ('a', 'DET'), ('share', 'NOUN'), ('.', '.'), ('Five', 'DET'), ('things', 'NOUN'), ('0', 'X'), ('you', 'PRON'), ('can', 'VERB'), ('do', 'VERB'), ('*T*-1', 'X'), ('for', 'ADP'), ('$', '.'), ('15,000', 'NUM'), ('*U*', 'X'), ('or', 'CONJ'), ('less', 'ADJ'), (':', '.'), ('That', 'DET'), ('represents', 'VERB'), ('a', 'DET'), ('very', 'ADV'), ('thin', 'ADJ'), ('``', '.'), ('excess', 'NOUN'), (\"''\", '.'), ('return', 'NOUN'), (',', '.'), ('certainly', 'ADV'), ('far', 'ADV'), ('less', 'ADJ'), ('than', 'ADP'), ('what', 'PRON'), ('most', 'ADJ'), ('fundamental', 'ADJ'), ('stock', 'NOUN'), ('pickers', 'NOUN'), ('claim', 'VERB'), ('*-1', 'X'), ('to', 'PRT'), ('seek', 'VERB'), ('*T*-2', 'X'), ('as', 'ADP'), ('their', 'PRON'), ('performance', 'NOUN'), ('objective', 'NOUN'), ('.', '.'), ('Sales', 'NOUN'), ('rose', 'VERB'), ('11', 'NUM'), ('%', 'NOUN'), ('to', 'PRT'), ('292.32', 'DET'), ('billion', 'NUM'), ('yen', 'NOUN'), ('from', 'ADP'), ('263.07', 'DET'), ('billion', 'NUM'), ('yen', 'NOUN'), ('.', '.'), ('R.', 'NOUN'), ('Gordon', 'NOUN'), ('McGovern', 'NOUN'), ('was', 'VERB'), ('forced', 'VERB'), ('*-37', 'X'), ('out', 'PRT'), ('as', 'ADP'), ('Campbell', 'NOUN'), ('Soup', 'NOUN'), ('Co.', 'NOUN'), (\"'s\", 'PRT'), ('president', 'NOUN'), ('and', 'CONJ'), ('chief', 'NOUN'), ('executive', 'NOUN'), ('officer', 'NOUN'), (',', '.'), ('the', 'DET'), ('strongest', 'ADJ'), ('evidence', 'NOUN'), ('yet', 'ADV'), ('of', 'ADP'), ('the', 'DET'), ('power', 'NOUN'), ('that', 'ADP'), ('Dorrance', 'NOUN'), ('family', 'NOUN'), ('members', 'NOUN'), ('intend', 'VERB'), ('*-2', 'X'), ('to', 'PRT'), ('wield', 'DET'), ('*T*-1', 'X'), ('in', 'ADP'), ('*', 'X'), ('reshaping', 'VERB'), ('the', 'DET'), ('troubled', 'ADJ'), ('food', 'NOUN'), ('company', 'NOUN'), ('.', '.'), ('The', 'DET'), ('report', 'NOUN'), ('from', 'ADP'), ('the', 'DET'), ('Fed', 'NOUN'), ('found', 'VERB'), ('that', 'ADP'), ('manufacturing', 'NOUN'), (',', '.'), ('in', 'ADP'), ('particular', 'ADJ'), (',', '.'), ('has', 'VERB'), ('been', 'VERB'), ('weak', 'ADJ'), ('in', 'ADP'), ('recent', 'ADJ'), ('weeks', 'NOUN'), ('.', '.'), ('CS', 'NOUN'), ('First', 'NOUN'), ('Boston', 'NOUN'), (',', '.'), ('however', 'ADV'), (',', '.'), ('benefits', 'NOUN'), ('from', 'ADP'), ('the', 'DET'), ('backing', 'VERB'), ('of', 'ADP'), ('its', 'PRON'), ('largest', 'ADJ'), ('shareholder', 'NOUN'), (',', '.'), ('Credit', 'NOUN'), ('Suisse', 'DET'), (',', '.'), ('Switzerland', 'NOUN'), (\"'s\", 'PRT'), ('third', 'ADJ'), ('largest', 'ADJ'), ('bank', 'NOUN'), ('.', '.'), ('The', 'DET'), ('dollar', 'NOUN'), ('rose', 'VERB'), ('.', '.'), ('Under', 'ADP'), ('measures', 'NOUN'), ('approved', 'VERB'), ('*', 'X'), ('by', 'ADP'), ('both', 'DET'), ('houses', 'NOUN'), ('of', 'ADP'), ('Congress', 'NOUN'), (',', '.'), ('the', 'DET'), ('administration', 'NOUN'), (\"'s\", 'PRT'), ('request', 'NOUN'), ('for', 'ADP'), ('$', '.'), ('47', 'NUM'), ('million', 'NUM'), ('*U*', 'X'), ('for', 'ADP'), ('the', 'DET'), ('Antitrust', 'DET'), ('Division', 'DET'), ('would', 'VERB'), ('be', 'VERB'), ('cut', 'VERB'), ('*-84', 'X'), ('$', '.'), ('15', 'NUM'), ('million', 'NUM'), ('*U*', 'X'), ('.', '.'), ('It', 'PRON'), ('was', 'VERB'), ('censorship', 'NOUN'), ('.', '.'), ('Japanese', 'ADJ'), ('investment', 'NOUN'), ('in', 'ADP'), ('Southeast', 'NOUN'), ('Asia', 'NOUN'), ('is', 'VERB'), ('propelling', 'DET'), ('the', 'DET'), ('region', 'NOUN'), ('toward', 'ADP'), ('economic', 'ADJ'), ('integration', 'NOUN'), ('.', '.'), ('She', 'PRON'), ('believes', 'VERB'), ('that', 'ADP'), ('the', 'DET'), ('only', 'ADJ'), ('answer', 'NOUN'), ('for', 'ADP'), ('individuals', 'NOUN'), ('is', 'VERB'), ('*', 'X'), ('to', 'PRT'), ('``', '.'), ('buy', 'VERB'), ('stocks', 'NOUN'), ('that', 'ADP'), ('*T*-1', 'X'), (\"'ll\", 'VERB'), ('weather', 'NOUN'), ('any', 'DET'), ('storm', 'DET'), ('.', '.'), (\"''\", '.'), ('Average', 'NOUN'), ('maturity', 'NOUN'), ('of', 'ADP'), ('the', 'DET'), ('funds', 'NOUN'), (\"'\", 'PRT'), ('investments', 'NOUN'), ('lengthened', 'DET'), ('by', 'ADP'), ('a', 'DET'), ('day', 'NOUN'), ('to', 'PRT'), ('41', 'NUM'), ('days', 'NOUN'), (',', '.'), ('the', 'DET'), ('longest', 'DET'), ('since', 'ADP'), ('early', 'ADJ'), ('August', 'NOUN'), (',', '.'), ('according', 'VERB'), ('to', 'PRT'), ('Donoghue', 'DET'), (\"'s\", 'VERB'), ('.', '.'), ('*-4', 'X'), ('A', 'DET'), ('high-balance', 'DET'), ('customer', 'NOUN'), ('that', 'ADP'), ('banks', 'NOUN'), ('pine', 'DET'), ('for', 'ADP'), ('*T*-1', 'X'), (',', '.'), ('she', 'PRON'), ('did', 'VERB'), (\"n't\", 'ADV'), ('give', 'VERB'), ('much', 'ADV'), ('thought', 'VERB'), ('to', 'PRT'), ('the', 'DET'), ('rates', 'NOUN'), ('0', 'X'), ('she', 'PRON'), ('was', 'VERB'), ('receiving', 'VERB'), ('*T*-2', 'X'), (',', '.'), ('nor', 'CONJ'), ('to', 'PRT'), ('the', 'DET'), ('fees', 'NOUN'), ('0', 'X'), ('she', 'PRON'), ('was', 'VERB'), ('paying', 'VERB'), ('*T*-3', 'X'), ('.', '.'), ('Each', 'DET'), ('of', 'ADP'), ('the', 'DET'), ('survey', 'NOUN'), (\"'s\", 'PRT'), ('indicators', 'NOUN'), ('gauges', 'DET'), ('the', 'DET'), ('difference', 'NOUN'), ('between', 'ADP'), ('the', 'DET'), ('number', 'NOUN'), ('of', 'ADP'), ('purchasers', 'NOUN'), ('reporting', 'VERB'), ('improvement', 'NOUN'), ('in', 'ADP'), ('a', 'DET'), ('particular', 'ADJ'), ('area', 'NOUN'), ('and', 'CONJ'), ('the', 'DET'), ('number', 'NOUN'), ('reporting', 'VERB'), ('a', 'DET'), ('worsening', 'DET'), ('.', '.'), ('Intermec', 'DET'), ('Corp.', 'NOUN'), (',', '.'), ('offering', 'NOUN'), ('of', 'ADP'), ('1,050,000', 'DET'), ('common', 'ADJ'), ('shares', 'NOUN'), (',', '.'), ('via', 'ADP'), ('Goldman', 'NOUN'), (',', '.'), ('Sachs', 'NOUN'), ('&', 'CONJ'), ('Co.', 'NOUN'), ('and', 'CONJ'), ('Piper', 'DET'), (',', '.'), ('Jaffray', 'DET'), ('&', 'CONJ'), ('Hopwood', 'DET'), ('Inc', 'NOUN'), ('.', '.'), ('Brisk', 'DET'), ('domestic', 'ADJ'), ('demand', 'NOUN'), ('due', 'ADJ'), ('to', 'PRT'), ('increasing', 'VERB'), ('capital', 'NOUN'), ('investment', 'NOUN'), ('pushed', 'VERB'), ('up', 'ADV'), ('sales', 'NOUN'), ('sharply', 'ADV'), ('in', 'ADP'), ('construction', 'NOUN'), ('and', 'CONJ'), ('industrial', 'ADJ'), ('machinery', 'NOUN'), ('divisions', 'NOUN'), ('.', '.'), ('But', 'CONJ'), ('we', 'PRON'), ('are', 'VERB'), ('not', 'ADV'), ('going', 'VERB'), ('back', 'ADV'), ('to', 'PRT'), ('1970', 'NUM'), ('.', '.'), (\"''\", '.'), ('*-2', 'X'), ('Given', 'DET'), ('*-3', 'X'), ('that', 'ADP'), ('choice', 'NOUN'), (',', '.'), ('associates', 'NOUN'), ('of', 'ADP'), ('Mr.', 'NOUN'), ('Hahn', 'NOUN'), ('and', 'CONJ'), ('industry', 'NOUN'), ('observers', 'NOUN'), ('say', 'VERB'), ('0', 'X'), ('the', 'DET'), ('former', 'ADJ'), ('university', 'NOUN'), ('president', 'NOUN'), ('--', '.'), ('who', 'PRON'), ('*T*-1', 'X'), ('has', 'VERB'), ('developed', 'VERB'), ('a', 'DET'), ('reputation', 'NOUN'), ('for', 'ADP'), ('*', 'X'), ('not', 'ADV'), ('overpaying', 'DET'), ('for', 'ADP'), ('anything', 'NOUN'), ('--', '.'), ('would', 'VERB'), ('fold', 'VERB'), ('.', '.'), ('The', 'DET'), ('$', '.'), ('35.7', 'NUM'), ('million', 'NUM'), ('*U*', 'X'), ('net', 'ADJ'), ('loss', 'NOUN'), ('equals', 'DET'), ('86', 'DET'), ('cents', 'NOUN'), ('a', 'DET'), ('share', 'NOUN'), ('.', '.'), ('Spending', 'DET'), ('on', 'ADP'), ('private', 'ADJ'), (',', '.'), ('nonresidential', 'DET'), ('construction', 'NOUN'), ('was', 'VERB'), ('off', 'PRT'), ('2.6', 'NUM'), ('%', 'NOUN'), ('to', 'PRT'), ('an', 'DET'), ('annual', 'ADJ'), ('rate', 'NOUN'), ('of', 'ADP'), ('$', '.'), ('99.1', 'DET'), ('billion', 'NUM'), ('*U*', 'X'), ('with', 'ADP'), ('no', 'DET'), ('sector', 'NOUN'), ('showing', 'VERB'), ('strength', 'NOUN'), ('.', '.'), ('At', 'ADP'), ('the', 'DET'), ('Board', 'NOUN'), ('of', 'ADP'), ('Trade', 'NOUN'), ('yesterday', 'NOUN'), ('the', 'DET'), ('price', 'NOUN'), ('of', 'ADP'), ('the', 'DET'), ('corn', 'NOUN'), ('contract', 'NOUN'), ('for', 'ADP'), ('December', 'NOUN'), ('delivery', 'NOUN'), ('slipped', 'VERB'), ('3.5', 'NUM'), ('cents', 'NOUN'), ('a', 'DET'), ('bushel', 'NOUN'), ('*-1', 'X'), ('to', 'PRT'), ('settle', 'VERB'), ('at', 'ADP'), ('$', '.'), ('2.375', 'DET'), ('*U*', 'X'), ('a', 'DET'), ('bushel', 'NOUN'), ('.', '.'), ('The', 'DET'), ('ailing', 'VERB'), ('company', 'NOUN'), (',', '.'), ('which', 'DET'), ('*T*-236', 'DET'), ('has', 'VERB'), ('reported', 'VERB'), ('net', 'ADJ'), ('losses', 'NOUN'), ('for', 'ADP'), ('16', 'NUM'), ('consecutive', 'ADJ'), ('quarters', 'NOUN'), (',', '.'), ('said', 'VERB'), ('0', 'X'), ('it', 'PRON'), ('wo', 'VERB'), (\"n't\", 'ADV'), ('manufacture', 'DET'), ('network', 'NOUN'), ('computer', 'NOUN'), ('systems', 'NOUN'), ('any', 'DET'), ('more', 'ADJ'), ('and', 'CONJ'), ('will', 'VERB'), ('greatly', 'ADV'), ('reduce', 'VERB'), ('its', 'PRON'), ('costly', 'ADJ'), ('direct', 'ADJ'), ('sales', 'NOUN'), ('force', 'NOUN'), ('.', '.'), ('RMS', 'NOUN'), ('International', 'NOUN'), ('Inc.', 'NOUN'), (',', '.'), ('Hasbrouk', 'DET'), ('Heights', 'NOUN'), (',', '.'), ('N.J.', 'NOUN'), (',', '.'), ('*-1', 'X'), ('facing', 'VERB'), ('a', 'DET'), ('cash-flow', 'ADJ'), ('squeeze', 'NOUN'), (',', '.'), ('said', 'VERB'), ('0', 'X'), ('it', 'PRON'), ('is', 'VERB'), ('seeking', 'VERB'), ('other', 'ADJ'), ('financing', 'NOUN'), ('sources', 'NOUN'), ('and', 'CONJ'), ('waivers', 'DET'), ('from', 'ADP'), ('debenture', 'NOUN'), ('holders', 'NOUN'), ('.', '.'), ('Not', 'ADV'), ('only', 'ADV'), ('is', 'VERB'), ('development', 'NOUN'), ('of', 'ADP'), ('the', 'DET'), ('new', 'ADJ'), ('company', 'NOUN'), (\"'s\", 'PRT'), ('initial', 'ADJ'), ('machine', 'NOUN'), ('tied', 'VERB'), ('*-1', 'X'), ('directly', 'ADV'), ('to', 'PRT'), ('Mr.', 'NOUN'), ('Cray', 'NOUN'), (',', '.'), ('so', 'ADV'), ('is', 'VERB'), ('*T*-2', 'X'), ('its', 'PRON'), ('balance', 'NOUN'), ('sheet', 'NOUN'), ('.', '.'), ('To', 'PRT'), ('the', 'DET'), ('astonishment', 'DET'), ('and', 'CONJ'), ('dismay', 'DET'), ('of', 'ADP'), ('her', 'PRON'), ('superiors', 'DET'), ('and', 'CONJ'), ('legal', 'ADJ'), ('authorities', 'NOUN'), ('--', '.'), ('and', 'CONJ'), ('perhaps', 'ADV'), ('as', 'ADP'), ('a', 'DET'), ('measure', 'NOUN'), ('of', 'ADP'), ('the', 'DET'), ('unpopularity', 'DET'), ('of', 'ADP'), ('standardized', 'ADJ'), ('tests', 'NOUN'), ('--', '.'), ('Mrs', 'DET'), ('.', '.'), ('Yeargin', 'NOUN'), ('won', 'VERB'), ('widespread', 'ADJ'), ('local', 'ADJ'), ('support', 'NOUN'), ('.', '.'), ('Volume', 'NOUN'), ('totaled', 'VERB'), ('11,390,000', 'DET'), ('shares', 'NOUN'), ('.', '.'), ('They', 'PRON'), ('did', 'VERB'), (\"n't\", 'ADV'), ('have', 'VERB'), ('much', 'ADV'), ('luck', 'DET'), ('during', 'ADP'), ('the', 'DET'), ('Reagan', 'NOUN'), ('administration', 'NOUN'), ('.', '.'), ('These', 'DET'), ('prices', 'NOUN'), ('seem', 'VERB'), ('rather', 'ADV'), ('modest', 'ADJ'), (',', '.'), ('however', 'ADV'), (',', '.'), ('in', 'ADP'), ('light', 'ADJ'), ('of', 'ADP'), ('other', 'ADJ'), ('French', 'ADJ'), ('wines', 'NOUN'), ('from', 'ADP'), ('current', 'ADJ'), ('vintages', 'NOUN'), ('.', '.'), ('The', 'DET'), ('Big', 'NOUN'), ('Three', 'NUM'), ('auto', 'NOUN'), ('makers', 'NOUN'), ('said', 'VERB'), ('0', 'X'), ('the', 'DET'), ('rule', 'NOUN'), ('changes', 'NOUN'), ('were', 'VERB'), (\"n't\", 'ADV'), ('surprising', 'ADJ'), ('because', 'ADP'), ('Bush', 'NOUN'), ('administration', 'NOUN'), ('officials', 'NOUN'), ('have', 'VERB'), ('long', 'ADV'), ('said', 'VERB'), ('0', 'X'), ('they', 'PRON'), ('planned', 'VERB'), ('*-1', 'X'), ('to', 'PRT'), ('impose', 'VERB'), ('car', 'NOUN'), ('safety', 'NOUN'), ('standards', 'NOUN'), ('on', 'ADP'), ('light', 'ADJ'), ('trucks', 'NOUN'), ('and', 'CONJ'), ('vans', 'NOUN'), ('.', '.'), ('``', '.'), ('We', 'PRON'), (\"'re\", 'VERB'), ('pleased', 'VERB'), ('0', 'X'), ('the', 'DET'), ('ABA', 'NOUN'), ('rated', 'VERB'), ('him', 'PRON'), ('qualified', 'VERB'), (',', '.'), (\"''\", '.'), ('David', 'NOUN'), ('Runkel', 'DET'), (',', '.'), ('the', 'DET'), ('department', 'NOUN'), (\"'s\", 'PRT'), ('chief', 'NOUN'), ('spokesman', 'NOUN'), (',', '.'), ('said', 'VERB'), ('*T*-1', 'X'), ('in', 'ADP'), ('an', 'DET'), ('interview', 'NOUN'), ('.', '.'), ('We', 'PRON'), (\"'re\", 'VERB'), ('talking', 'VERB'), ('about', 'ADP'), ('years', 'NOUN'), ('ago', 'ADP'), ('before', 'ADP'), ('anyone', 'NOUN'), ('heard', 'VERB'), ('of', 'ADP'), ('asbestos', 'NOUN'), ('having', 'VERB'), ('any', 'DET'), ('questionable', 'ADJ'), ('properties', 'DET'), ('.', '.'), ('Chrysler', 'NOUN'), ('said', 'VERB'), ('0', 'X'), ('its', 'PRON'), ('trucks', 'NOUN'), ('and', 'CONJ'), ('vans', 'NOUN'), ('already', 'ADV'), ('meet', 'VERB'), ('the', 'DET'), ('roof-crush', 'ADJ'), ('resistance', 'NOUN'), ('standard', 'NOUN'), ('for', 'ADP'), ('cars', 'NOUN'), ('.', '.'), ('Akio', 'NOUN'), ('Yamamoto', 'NOUN'), (',', '.'), ('managing', 'VERB'), ('director', 'NOUN'), ('of', 'ADP'), ('Nomura', 'DET'), ('Investment', 'NOUN'), ('Trust', 'NOUN'), ('Management', 'NOUN'), (',', '.'), ('said', 'VERB'), ('that', 'ADP'), ('if', 'ADP'), ('the', 'DET'), ('U.S.', 'NOUN'), ('federal', 'ADJ'), ('funds', 'NOUN'), ('rate', 'NOUN'), ('declines', 'NOUN'), ('to', 'PRT'), ('around', 'ADP'), ('8.5', 'NUM'), ('%', 'NOUN'), (',', '.'), ('institutions', 'NOUN'), ('would', 'VERB'), ('acquire', 'VERB'), ('a', 'DET'), ('clearer', 'DET'), ('idea', 'NOUN'), ('regarding', 'VERB'), ('the', 'DET'), ('direction', 'NOUN'), ('of', 'ADP'), ('the', 'DET'), ('market', 'NOUN'), ('and', 'CONJ'), ('thus', 'ADV'), ('more', 'ADJ'), ('comfortably', 'DET'), ('participate', 'VERB'), ('in', 'ADP'), ('active', 'ADJ'), ('buying', 'NOUN'), ('.', '.'), ('When', 'ADV'), ('test', 'VERB'), ('booklets', 'NOUN'), ('were', 'VERB'), ('passed', 'VERB'), ('*-1', 'X'), ('out', 'PRT'), ('48', 'NUM'), ('hours', 'NOUN'), ('ahead', 'ADV'), ('of', 'ADP'), ('time', 'NOUN'), ('*T*-2', 'X'), (',', '.'), ('she', 'PRON'), ('says', 'VERB'), ('0', 'X'), ('she', 'PRON'), ('copied', 'DET'), ('questions', 'NOUN'), ('in', 'ADP'), ('the', 'DET'), ('social', 'ADJ'), ('studies', 'NOUN'), ('section', 'NOUN'), ('and', 'CONJ'), ('gave', 'VERB'), ('the', 'DET'), ('answers', 'NOUN'), ('to', 'PRT'), ('students', 'NOUN'), ('.', '.'), ('So', 'ADV'), ('far', 'ADV'), (',', '.'), ('the', 'DET'), ('grain', 'NOUN'), ('industry', 'NOUN'), (\"'s\", 'PRT'), ('budding', 'DET'), ('logistical', 'DET'), ('problems', 'NOUN'), ('have', 'VERB'), (\"n't\", 'ADV'), ('been', 'VERB'), ('a', 'DET'), ('major', 'ADJ'), ('factor', 'NOUN'), ('in', 'ADP'), ('the', 'DET'), ('trading', 'NOUN'), ('of', 'ADP'), ('corn', 'NOUN'), ('contracts', 'NOUN'), ('at', 'ADP'), ('the', 'DET'), ('Chicago', 'NOUN'), ('Board', 'NOUN'), ('of', 'ADP'), ('Trade', 'NOUN'), ('.', '.'), ('The', 'DET'), ('U.S.', 'NOUN'), ('Chamber', 'NOUN'), ('of', 'ADP'), ('Commerce', 'NOUN'), (',', '.'), ('*-1', 'X'), ('still', 'ADV'), ('opposed', 'VERB'), ('to', 'PRT'), ('any', 'DET'), ('mininum-wage', 'DET'), ('increase', 'NOUN'), (',', '.'), ('said', 'VERB'), ('0', 'X'), ('the', 'DET'), ('compromise', 'NOUN'), ('plan', 'NOUN'), ('*', 'X'), ('to', 'PRT'), ('lift', 'VERB'), ('the', 'DET'), ('wage', 'NOUN'), ('floor', 'NOUN'), ('27', 'NUM'), ('%', 'NOUN'), ('in', 'ADP'), ('two', 'NUM'), ('stages', 'NOUN'), ('between', 'ADP'), ('April', 'NOUN'), ('1990', 'NUM'), ('and', 'CONJ'), ('April', 'NOUN'), ('1991', 'NUM'), ('``', '.'), ('will', 'VERB'), ('be', 'VERB'), ('impossible', 'ADJ'), ('for', 'ADP'), ('many', 'ADJ'), ('employers', 'DET'), ('to', 'PRT'), ('accommodate', 'VERB'), ('and', 'CONJ'), ('will', 'VERB'), ('result', 'VERB'), ('in', 'ADP'), ('the', 'DET'), ('elimination', 'DET'), ('of', 'ADP'), ('jobs', 'NOUN'), ('for', 'ADP'), ('American', 'NOUN'), ('workers', 'NOUN'), ('and', 'CONJ'), ('higher', 'ADJ'), ('prices', 'NOUN'), ('for', 'ADP'), ('American', 'NOUN'), ('consumers', 'NOUN'), ('.', '.'), ('Corporate', 'NOUN'), ('lawyers', 'NOUN'), ('said', 'VERB'), ('0', 'X'), ('the', 'DET'), ('new', 'ADJ'), ('fees', 'NOUN'), ('would', 'VERB'), (\"n't\", 'ADV'), ('inhibit', 'DET'), ('many', 'ADJ'), ('mergers', 'NOUN'), ('or', 'CONJ'), ('other', 'ADJ'), ('transactions', 'NOUN'), ('.', '.'), ('Similarly', 'ADV'), (',', '.'), ('Rick', 'NOUN'), ('Wamre', 'DET'), (',', '.'), ('a', 'DET'), ('31-year-old', 'DET'), ('asset', 'NOUN'), ('manager', 'NOUN'), ('for', 'ADP'), ('a', 'DET'), ('Dallas', 'NOUN'), ('real-estate', 'NOUN'), ('firm', 'NOUN'), (',', '.'), ('would', 'VERB'), ('like', 'ADP'), ('*-1', 'X'), ('to', 'PRT'), ('see', 'VERB'), ('program', 'NOUN'), ('trading', 'NOUN'), ('disappear', 'DET'), ('because', 'ADP'), ('``', '.'), ('I', 'PRON'), ('ca', 'VERB'), (\"n't\", 'ADV'), ('see', 'VERB'), ('that', 'ADP'), ('it', 'PRON'), ('does', 'VERB'), ('anything', 'NOUN'), ('for', 'ADP'), ('the', 'DET'), ('market', 'NOUN'), ('or', 'CONJ'), ('the', 'DET'), ('country', 'NOUN'), ('.', '.'), (\"''\", '.'), ('Bond', 'NOUN'), ('prices', 'NOUN'), ('were', 'VERB'), ('up', 'ADV'), ('.', '.'), ('The', 'DET'), ('May', 'NOUN'), ('contract', 'NOUN'), (',', '.'), ('which', 'DET'), ('*T*-1', 'X'), ('also', 'ADV'), ('is', 'VERB'), ('without', 'ADP'), ('restraints', 'DET'), (',', '.'), ('ended', 'VERB'), ('with', 'ADP'), ('a', 'DET'), ('gain', 'NOUN'), ('of', 'ADP'), ('0.54', 'DET'), ('cent', 'NOUN'), ('to', 'PRT'), ('14.26', 'DET'), ('cents', 'NOUN'), ('.', '.'), ('Short', 'DET'), ('of', 'ADP'), ('a', 'DET'), ('total', 'ADJ'), ('ban', 'NOUN'), (',', '.'), ('some', 'DET'), ('anti-programmers', 'NOUN'), ('have', 'VERB'), ('proposed', 'VERB'), ('several', 'ADJ'), ('middle-ground', 'DET'), ('reforms', 'NOUN'), (',', '.'), ('which', 'DET'), ('they', 'PRON'), ('say', 'VERB'), ('0', 'X'), ('*T*-1', 'X'), ('would', 'VERB'), ('take', 'VERB'), ('away', 'ADV'), ('certain', 'ADJ'), ('advantages', 'NOUN'), ('0', 'X'), ('program', 'NOUN'), ('traders', 'NOUN'), ('currently', 'ADV'), ('enjoy', 'DET'), ('*T*-2', 'X'), ('in', 'ADP'), ('the', 'DET'), ('marketplace', 'NOUN'), ('that', 'ADP'), ('other', 'ADJ'), ('investors', 'NOUN'), ('do', 'VERB'), (\"n't\", 'ADV'), ('*T*-3', 'X'), ('.', '.'), ('``', '.'), ('You', 'PRON'), ('have', 'VERB'), ('...', '.'), ('raised', 'VERB'), ('important', 'ADJ'), ('questions', 'NOUN'), ('which', 'DET'), ('*T*-26', 'X'), ('ought', 'VERB'), ('*-2', 'X'), ('to', 'PRT'), ('be', 'VERB'), ('answered', 'VERB'), ('*-3', 'X'), (':', '.'), ('What', 'PRON'), ('does', 'VERB'), ('USIA', 'NOUN'), ('say', 'VERB'), ('*T*-27', 'X'), ('about', 'ADP'), ('America', 'NOUN'), ('abroad', 'ADV'), (';', '.'), ('how', 'ADV'), ('do', 'VERB'), ('we', 'PRON'), ('say', 'VERB'), ('it', 'PRON'), ('*T*-4', 'X'), (';', '.'), ('and', 'CONJ'), ('how', 'ADV'), ('can', 'VERB'), ('American', 'ADJ'), ('taxpayers', 'NOUN'), ('get', 'VERB'), ('the', 'DET'), ('answers', 'NOUN'), ('to', 'PRT'), ('these', 'DET'), ('questions', 'NOUN'), ('*T*-5', 'X'), ('?', '.'), (\"''\", '.'), ('a', 'DET'), ('man', 'NOUN'), ('wrote', 'VERB'), ('me', 'PRON'), ('*T*-1', 'X'), ('a', 'DET'), ('couple', 'NOUN'), ('of', 'ADP'), ('years', 'NOUN'), ('ago', 'ADP'), ('.', '.'), ('No', 'DET'), ('fewer', 'ADJ'), ('than', 'ADP'), ('24', 'NUM'), ('country', 'NOUN'), ('funds', 'NOUN'), ('*ICH*-1', 'X'), ('have', 'VERB'), ('been', 'VERB'), ('launched', 'VERB'), ('*-2', 'X'), ('or', 'CONJ'), ('registered', 'VERB'), ('*-2', 'X'), ('with', 'ADP'), ('regulators', 'NOUN'), ('this', 'DET'), ('year', 'NOUN'), (',', '.'), ('triple', 'DET'), ('the', 'DET'), ('level', 'NOUN'), ('of', 'ADP'), ('all', 'DET'), ('of', 'ADP'), ('1988', 'NUM'), (',', '.'), ('according', 'VERB'), ('to', 'PRT'), ('Charles', 'NOUN'), ('E.', 'NOUN'), ('Simon', 'NOUN'), ('&', 'CONJ'), ('Co.', 'NOUN'), (',', '.'), ('a', 'DET'), ('Washington-based', 'DET'), ('research', 'NOUN'), ('firm', 'NOUN'), ('.', '.'), ('Speculation', 'NOUN'), ('on', 'ADP'), ('his', 'PRON'), ('successor', 'NOUN'), ('centers', 'NOUN'), ('on', 'ADP'), ('a', 'DET'), ('number', 'NOUN'), ('of', 'ADP'), ('division', 'NOUN'), ('heads', 'VERB'), ('at', 'ADP'), ('the', 'DET'), ('house', 'NOUN'), ('.', '.'), ('*', 'X'), ('Filling', 'DET'), ('out', 'ADP'), ('detailed', 'ADJ'), ('forms', 'NOUN'), ('about', 'ADP'), ('these', 'DET'), ('individuals', 'NOUN'), ('would', 'VERB'), ('tip', 'DET'), ('the', 'DET'), ('IRS', 'NOUN'), ('off', 'PRT'), ('and', 'CONJ'), ('spark', 'VERB'), ('action', 'NOUN'), ('against', 'ADP'), ('the', 'DET'), ('clients', 'NOUN'), (',', '.'), ('he', 'PRON'), ('said', 'VERB'), ('0', 'X'), ('*T*-1', 'X'), ('.', '.'), ('Pakistan', 'DET'), (\"'s\", 'VERB'), ('Bhutto', 'DET'), ('defeated', 'DET'), ('the', 'DET'), ('first', 'ADJ'), ('no-confidence', 'DET'), ('motion', 'NOUN'), ('in', 'ADP'), ('the', 'DET'), ('nation', 'NOUN'), (\"'s\", 'PRT'), ('42-year', 'DET'), ('history', 'NOUN'), (',', '.'), ('*-2', 'X'), ('surviving', 'VERB'), ('the', 'DET'), ('vote', 'NOUN'), ('that', 'ADP'), ('*T*-1', 'X'), ('could', 'VERB'), ('have', 'VERB'), ('brought', 'VERB'), ('down', 'ADV'), ('her', 'PRON'), ('11-month-old', 'DET'), ('government', 'NOUN'), ('.', '.'), ('``', '.'), ('A', 'DET'), ('lot', 'NOUN'), ('of', 'ADP'), ('the', 'DET'), ('stocks', 'NOUN'), ('that', 'ADP'), ('*T*-117', 'DET'), ('have', 'VERB'), ('been', 'VERB'), ('under', 'ADP'), ('water', 'NOUN'), ('finally', 'ADV'), ('saw', 'VERB'), ('a', 'DET'), ('reason', 'NOUN'), ('0', 'X'), ('*', 'X'), ('to', 'PRT'), ('uptick', 'NOUN'), ('*T*-1', 'X'), (',', '.'), (\"''\", '.'), ('said', 'VERB'), ('*T*-2', 'X'), ('George', 'NOUN'), ('Jennison', 'NOUN'), (',', '.'), ('head', 'NOUN'), ('trader', 'NOUN'), ('of', 'ADP'), ('banking', 'NOUN'), ('issues', 'NOUN'), ('in', 'ADP'), ('Shearson', 'NOUN'), ('Lehman', 'NOUN'), ('Hutton', 'NOUN'), (\"'s\", 'PRT'), ('OTC', 'NOUN'), ('department', 'NOUN'), ('.', '.'), ('They', 'PRON'), ('suffered', 'VERB'), ('from', 'ADP'), ('malnutrition', 'DET'), (',', '.'), ('chest', 'DET'), ('diseases', 'NOUN'), (',', '.'), ('cardiovascular', 'DET'), ('disorders', 'NOUN'), (',', '.'), ('skin', 'NOUN'), ('problems', 'NOUN'), (',', '.'), ('infectious', 'DET'), ('diseases', 'NOUN'), ('and', 'CONJ'), ('the', 'DET'), ('aftereffects', 'DET'), ('of', 'ADP'), ('assaults', 'DET'), ('and', 'CONJ'), ('rape', 'NOUN'), ('.', '.'), ('They', 'PRON'), ('are', 'VERB'), ('keeping', 'VERB'), ('a', 'DET'), ('close', 'NOUN'), ('watch', 'VERB'), ('on', 'ADP'), ('the', 'DET'), ('yield', 'NOUN'), ('on', 'ADP'), ('the', 'DET'), ('S&P', 'NOUN'), ('500', 'NUM'), ('.', '.'), ('Mr.', 'NOUN'), ('Nixon', 'NOUN'), ('met', 'VERB'), ('Mr.', 'NOUN'), ('Bush', 'NOUN'), ('and', 'CONJ'), ('his', 'PRON'), ('national', 'ADJ'), ('security', 'NOUN'), ('adviser', 'NOUN'), (',', '.'), ('Brent', 'DET'), ('Scowcroft', 'DET'), (',', '.'), ('before', 'ADP'), ('*-1', 'X'), ('coming', 'VERB'), ('to', 'PRT'), ('China', 'NOUN'), ('on', 'ADP'), ('Saturday', 'DET'), ('.', '.'), ('The', 'DET'), ('thrift', 'NOUN'), ('holding', 'VERB'), ('company', 'NOUN'), ('said', 'VERB'), ('0', 'X'), ('it', 'PRON'), ('expects', 'VERB'), ('*-1', 'X'), ('to', 'PRT'), ('obtain', 'VERB'), ('regulatory', 'ADJ'), ('approval', 'NOUN'), ('and', 'CONJ'), ('complete', 'VERB'), ('the', 'DET'), ('transaction', 'NOUN'), ('by', 'ADP'), ('year-end', 'NOUN'), ('.', '.'), ('IBM', 'NOUN'), (',', '.'), ('the', 'DET'), ('world', 'NOUN'), ('leader', 'NOUN'), ('in', 'ADP'), ('computers', 'NOUN'), (',', '.'), ('did', 'VERB'), (\"n't\", 'ADV'), ('offer', 'VERB'), ('its', 'PRON'), ('first', 'ADJ'), ('PC', 'NOUN'), ('until', 'ADP'), ('August', 'NOUN'), ('1981', 'NUM'), ('as', 'ADP'), ('many', 'ADJ'), ('other', 'ADJ'), ('companies', 'NOUN'), ('entered', 'VERB'), ('the', 'DET'), ('market', 'NOUN'), ('.', '.'), ('The', 'DET'), ('magazine', 'NOUN'), ('will', 'VERB'), ('reward', 'DET'), ('with', 'ADP'), ('``', '.'), ('page', 'NOUN'), ('bonuses', 'NOUN'), (\"''\", '.'), ('advertisers', 'NOUN'), ('who', 'PRON'), ('in', 'ADP'), ('1990', 'NUM'), ('*T*-1', 'X'), ('meet', 'VERB'), ('or', 'CONJ'), ('exceed', 'VERB'), ('their', 'PRON'), ('1989', 'NUM'), ('spending', 'NOUN'), (',', '.'), ('as', 'ADP'), ('long', 'ADJ'), ('as', 'ADP'), ('they', 'PRON'), ('spent', 'VERB'), ('$', '.'), ('325,000', 'DET'), ('*U*', 'X'), ('in', 'ADP'), ('1989', 'NUM'), ('and', 'CONJ'), ('$', '.'), ('340,000', 'DET'), ('*U*', 'X'), ('in', 'ADP'), ('1990', 'NUM'), ('.', '.'), ('Sales', 'NOUN'), ('were', 'VERB'), ('roughly', 'ADV'), ('flat', 'ADJ'), ('in', 'ADP'), ('the', 'DET'), ('1989', 'NUM'), ('model', 'NOUN'), ('year', 'NOUN'), ('compared', 'VERB'), ('with', 'ADP'), ('a', 'DET'), ('year', 'NOUN'), ('earlier', 'ADV'), (',', '.'), ('though', 'ADP'), ('industry', 'NOUN'), ('sales', 'NOUN'), ('fell', 'VERB'), ('.', '.'), ('*-2', 'X'), ('Unable', 'DET'), ('*-3', 'X'), ('to', 'PRT'), ('unload', 'DET'), ('UAL', 'NOUN'), ('and', 'CONJ'), ('other', 'ADJ'), ('airline', 'NOUN'), ('shares', 'NOUN'), (',', '.'), ('takeover-stock', 'DET'), ('speculators', 'NOUN'), (',', '.'), ('or', 'CONJ'), ('risk', 'NOUN'), ('arbitragers', 'DET'), (',', '.'), ('dumped', 'VERB'), ('every', 'DET'), ('blue-chip', 'ADJ'), ('stock', 'NOUN'), ('0', 'X'), ('they', 'PRON'), ('had', 'VERB'), ('*T*-1', 'X'), ('.', '.'), ('Workers', 'NOUN'), ('described', 'VERB'), ('``', '.'), ('clouds', 'DET'), ('of', 'ADP'), ('blue', 'ADJ'), ('dust', 'DET'), (\"''\", '.'), ('that', 'DET'), ('*T*-1', 'X'), ('hung', 'DET'), ('over', 'ADP'), ('parts', 'NOUN'), ('of', 'ADP'), ('the', 'DET'), ('factory', 'NOUN'), (',', '.'), ('even', 'ADV'), ('though', 'ADP'), ('exhaust', 'VERB'), ('fans', 'NOUN'), ('ventilated', 'DET'), ('the', 'DET'), ('area', 'NOUN'), ('.', '.'), ('When', 'ADV'), ('two', 'NUM'), ('parties', 'NOUN'), ('engage', 'VERB'), ('in', 'ADP'), ('an', 'DET'), ('interest-rate', 'NOUN'), ('swap', 'NOUN'), ('*T*-1', 'X'), (',', '.'), ('they', 'PRON'), ('are', 'VERB'), ('betting', 'DET'), ('against', 'ADP'), ('each', 'DET'), ('other', 'ADJ'), ('on', 'ADP'), ('future', 'ADJ'), ('rates', 'NOUN'), ('.', '.'), ('``', '.'), ('Lighthouse', 'DET'), ('II', 'NOUN'), (\"''\", '.'), ('was', 'VERB'), ('painted', 'DET'), ('*-1', 'X'), ('in', 'ADP'), ('oils', 'DET'), ('by', 'ADP'), ('the', 'DET'), ('playwright', 'DET'), ('in', 'ADP'), ('1901', 'DET'), ('...', '.'), ('Probably', 'DET'), ('the', 'DET'), ('most', 'ADJ'), ('egregious', 'DET'), ('example', 'NOUN'), ('is', 'VERB'), ('a', 'DET'), ('proviso', 'DET'), ('in', 'ADP'), ('the', 'DET'), ('appropriations', 'NOUN'), ('bill', 'NOUN'), ('for', 'ADP'), ('the', 'DET'), ('executive', 'ADJ'), ('office', 'NOUN'), ('that', 'ADP'), ('*T*-1', 'X'), ('prevents', 'VERB'), ('the', 'DET'), ('president', 'NOUN'), (\"'s\", 'PRT'), ('Office', 'DET'), ('of', 'ADP'), ('Management', 'NOUN'), ('and', 'CONJ'), ('Budget', 'DET'), ('from', 'ADP'), ('*-2', 'X'), ('subjecting', 'DET'), ('agricultural', 'ADJ'), ('marketing', 'NOUN'), ('orders', 'NOUN'), ('to', 'PRT'), ('any', 'DET'), ('cost-benefit', 'DET'), ('scrutiny', 'NOUN'), ('.', '.'), ('Rekindled', 'DET'), ('hope', 'NOUN'), ('that', 'ADP'), ('two', 'NUM'), ('New', 'NOUN'), ('England', 'NOUN'), ('states', 'NOUN'), ('will', 'VERB'), ('allow', 'VERB'), ('broader', 'ADJ'), ('interstate', 'ADJ'), ('banking', 'NOUN'), ('boosted', 'VERB'), ('Nasdaq', 'NOUN'), (\"'s\", 'PRT'), ('bank', 'NOUN'), ('stocks', 'NOUN'), (',', '.'), ('but', 'CONJ'), ('the', 'DET'), ('over-the-counter', 'ADJ'), ('market', 'NOUN'), ('was', 'VERB'), ('up', 'ADV'), ('only', 'ADV'), ('slightly', 'ADV'), ('in', 'ADP'), ('lackluster', 'DET'), ('trading', 'NOUN'), ('.', '.'), ('``', '.'), ('They', 'PRON'), ('are', 'VERB'), (\"n't\", 'ADV'), ('really', 'ADV'), ('a', 'DET'), ('thrift', 'NOUN'), (',', '.'), (\"''\", '.'), ('says', 'VERB'), ('*T*-1', 'X'), ('Jonathan', 'NOUN'), ('Gray', 'NOUN'), (',', '.'), ('a', 'DET'), ('Sanford', 'DET'), ('C.', 'NOUN'), ('Bernstein', 'NOUN'), ('analyst', 'NOUN'), ('.', '.'), ('I', 'PRON'), ('say', 'VERB'), ('``', '.'), ('*', 'X'), ('contained', 'VERB'), ('dialogue', 'NOUN'), (\"''\", '.'), ('because', 'ADP'), ('``', '.'), ('Sidewalk', 'NOUN'), ('Stories', 'NOUN'), (\"''\", '.'), ('is', 'VERB'), (\"n't\", 'ADV'), ('really', 'ADV'), ('silent', 'ADJ'), ('at', 'ADP'), ('all', 'DET'), ('.', '.'), ('The', 'DET'), ('previous', 'ADJ'), ('record', 'NOUN'), ('was', 'VERB'), ('$', '.'), ('57.7', 'DET'), ('billion', 'NUM'), ('*U*', 'X'), ('in', 'ADP'), ('1987', 'NUM'), (',', '.'), ('according', 'VERB'), ('to', 'PRT'), ('the', 'DET'), ('Agriculture', 'NOUN'), ('Department', 'NOUN'), ('.', '.'), ('Georgia', 'NOUN'), ('Gulf', 'NOUN'), ('received', 'VERB'), ('a', 'DET'), ('new', 'ADJ'), ('takeover', 'NOUN'), ('bid', 'NOUN'), ('*ICH*-1', 'X'), ('from', 'ADP'), ('investor', 'NOUN'), ('Harold', 'NOUN'), ('Simmons', 'NOUN'), ('and', 'CONJ'), ('NL', 'NOUN'), ('Industries', 'NOUN'), ('of', 'ADP'), ('$', '.'), ('50', 'NUM'), ('*U*', 'X'), ('a', 'DET'), ('share', 'NOUN'), (',', '.'), ('or', 'CONJ'), ('about', 'ADP'), ('$', '.'), ('1.1', 'NUM'), ('billion', 'NUM'), ('*U*', 'X'), ('.', '.'), ('Freeport-McMoRan', 'NOUN'), (',', '.'), ('a', 'DET'), ('New', 'NOUN'), ('Orleans-based', 'DET'), ('diversified', 'ADJ'), ('energy', 'NOUN'), ('conglomerate', 'NOUN'), (',', '.'), ('said', 'VERB'), ('0', 'X'), ('the', 'DET'), ('partnership', 'NOUN'), ('will', 'VERB'), ('exchange', 'NOUN'), ('its', 'PRON'), ('assets', 'NOUN'), ('for', 'ADP'), ('common', 'ADJ'), ('shares', 'NOUN'), ('of', 'ADP'), ('a', 'DET'), ('yet-to-be-formed', 'DET'), ('entity', 'NOUN'), ('.', '.'), ('May', 'NOUN'), ('Stores', 'NOUN'), (',', '.'), ('St.', 'NOUN'), ('Louis', 'NOUN'), (',', '.'), ('runs', 'VERB'), ('such', 'ADJ'), ('well-known', 'ADJ'), ('department', 'NOUN'), ('stores', 'NOUN'), ('as', 'ADP'), ('Lord', 'DET'), ('&', 'CONJ'), ('Taylor', 'NOUN'), ('.', '.'), ('The', 'DET'), ('most', 'ADJ'), ('widely', 'ADV'), ('used', 'VERB'), ('of', 'ADP'), ('these', 'DET'), ('tests', 'NOUN'), ('are', 'VERB'), ('Macmillan\\\\/McGraw', 'NOUN'), (\"'s\", 'PRT'), ('CAT', 'NOUN'), ('and', 'CONJ'), ('Comprehensive', 'NOUN'), ('Test', 'NOUN'), ('of', 'ADP'), ('Basic', 'ADJ'), ('Skills', 'NOUN'), (';', '.'), ('the', 'DET'), ('Iowa', 'NOUN'), ('Test', 'NOUN'), ('of', 'ADP'), ('Basic', 'ADJ'), ('Skills', 'NOUN'), (',', '.'), ('by', 'ADP'), ('Houghton', 'DET'), ('Mifflin', 'DET'), ('Co.', 'NOUN'), (';', '.'), ('and', 'CONJ'), ('Harcourt', 'DET'), ('Brace', 'DET'), ('Jovanovich', 'DET'), ('Inc.', 'NOUN'), (\"'s\", 'PRT'), ('Metropolitan', 'DET'), ('Achievement', 'NOUN'), ('Test', 'NOUN'), ('and', 'CONJ'), ('Stanford', 'NOUN'), ('Achievement', 'NOUN'), ('Test', 'NOUN'), ('.', '.'), ('The', 'DET'), ('total', 'ADJ'), ('marks', 'NOUN'), ('the', 'DET'), ('sixth', 'ADJ'), ('consecutive', 'ADJ'), ('monthly', 'ADJ'), ('decline', 'NOUN'), ('.', '.'), ('The', 'DET'), ('reason', 'NOUN'), (':', '.'), ('the', 'DET'), ('refusal', 'NOUN'), ('*ICH*-1', 'X'), ('of', 'ADP'), ('Congress', 'NOUN'), ('*', 'X'), ('to', 'PRT'), ('give', 'VERB'), ('federal', 'ADJ'), ('judges', 'NOUN'), ('a', 'DET'), ('raise', 'VERB'), ('.', '.'), ('Nevertheless', 'ADV'), (',', '.'), ('both', 'DET'), ('Mr.', 'NOUN'), ('Guffey', 'NOUN'), ('and', 'CONJ'), ('Mr.', 'NOUN'), ('Black', 'NOUN'), ('say', 'VERB'), ('0', 'X'), ('the', 'DET'), ('slowdown', 'NOUN'), ('so', 'ADP'), ('far', 'ADV'), ('is', 'VERB'), ('no', 'DET'), ('cause', 'NOUN'), ('for', 'ADP'), ('concern', 'NOUN'), ('.', '.'), ('Stephen', 'NOUN'), ('Salmore', 'NOUN'), (',', '.'), ('a', 'DET'), ('political', 'ADJ'), ('scientist', 'NOUN'), ('at', 'ADP'), ('New', 'NOUN'), ('Jersey', 'NOUN'), (\"'s\", 'PRT'), ('Eagleton', 'DET'), ('Institute', 'NOUN'), (',', '.'), ('says', 'VERB'), ('0', 'X'), ('it', 'PRON'), (\"'s\", 'VERB'), ('another', 'DET'), ('example', 'NOUN'), ('of', 'ADP'), ('an', 'DET'), ('ad', 'NOUN'), ('that', 'ADP'), ('*T*-1', 'X'), (\"'s\", 'PRT'), ('true', 'ADJ'), ('but', 'CONJ'), ('not', 'ADV'), ('fully', 'ADV'), ('accurate', 'ADJ'), ('.', '.'), ('Partly', 'ADV'), ('because', 'ADP'), ('of', 'ADP'), ('worries', 'VERB'), ('about', 'ADP'), ('potential', 'ADJ'), ('abuse', 'NOUN'), (',', '.'), ('however', 'ADV'), (',', '.'), ('he', 'PRON'), ('says', 'VERB'), ('0', 'X'), ('the', 'DET'), ('state', 'NOUN'), ('will', 'VERB'), ('begin', 'VERB'), ('*-1', 'X'), ('keeping', 'VERB'), ('closer', 'ADV'), ('track', 'DET'), ('of', 'ADP'), ('achievement-test', 'DET'), ('preparation', 'NOUN'), ('booklets', 'NOUN'), ('next', 'ADP'), ('spring', 'NOUN'), ('.', '.'), ('Last', 'ADJ'), ('month', 'NOUN'), (',', '.'), ('Judge', 'NOUN'), ('Curry', 'NOUN'), ('set', 'VERB'), ('the', 'DET'), ('interest', 'NOUN'), ('rate', 'NOUN'), ('on', 'ADP'), ('the', 'DET'), ('refund', 'NOUN'), ('at', 'ADP'), ('9', 'NUM'), ('%', 'NOUN'), ('.', '.'), ('Waertsilae', 'NOUN'), ('Marine', 'NOUN'), (\"'s\", 'PRT'), ('biggest', 'ADJ'), ('creditor', 'NOUN'), ('is', 'VERB'), ('Miami-based', 'ADJ'), ('Carnival', 'NOUN'), ('Cruise', 'NOUN'), ('Lines', 'NOUN'), ('Inc', 'NOUN'), ('.', '.'), ('After', 'ADP'), ('years', 'NOUN'), ('of', 'ADP'), ('decline', 'NOUN'), (',', '.'), ('weddings', 'NOUN'), ('in', 'ADP'), ('France', 'NOUN'), ('showed', 'VERB'), ('a', 'DET'), ('2.2', 'NUM'), ('%', 'NOUN'), ('upturn', 'DET'), ('last', 'ADJ'), ('year', 'NOUN'), (',', '.'), ('with', 'ADP'), ('6,000', 'DET'), ('more', 'ADJ'), ('couples', 'DET'), ('*ICH*-1', 'X'), ('exchanging', 'DET'), ('rings', 'VERB'), ('in', 'ADP'), ('1988', 'NUM'), ('than', 'ADP'), ('in', 'ADP'), ('the', 'DET'), ('previous', 'ADJ'), ('year', 'NOUN'), (',', '.'), ('the', 'DET'), ('national', 'ADJ'), ('statistics', 'NOUN'), ('office', 'NOUN'), ('said', 'VERB'), ('0', 'X'), ('*T*-2', 'X'), ('.', '.'), ('Colleges', 'DET'), (',', '.'), ('she', 'PRON'), ('says', 'VERB'), ('0', 'X'), ('*T*-1', 'X'), (',', '.'), ('are', 'VERB'), ('eyeing', 'DET'), ('registration', 'NOUN'), ('through', 'ADP'), ('900', 'NUM'), ('service', 'NOUN'), ('.', '.'), ('Behind', 'DET'), ('all', 'DET'), ('the', 'DET'), ('hoopla', 'DET'), ('is', 'VERB'), ('*T*-1', 'X'), ('some', 'DET'), ('heavy-duty', 'DET'), ('competition', 'NOUN'), ('.', '.'), ('In', 'ADP'), ('composite', 'ADJ'), ('trading', 'NOUN'), ('on', 'ADP'), ('the', 'DET'), ('New', 'NOUN'), ('York', 'NOUN'), ('Stock', 'NOUN'), ('Exchange', 'NOUN'), (',', '.'), ('Telerate', 'NOUN'), ('shares', 'NOUN'), ('closed', 'VERB'), ('at', 'ADP'), ('$', '.'), ('19.50', 'DET'), ('*U*', 'X'), (',', '.'), ('up', 'ADV'), ('12.5', 'NUM'), ('cents', 'NOUN'), ('.', '.'), ('As', 'ADP'), ('it', 'PRON'), ('stands', 'VERB'), ('now', 'ADV'), (',', '.'), ('Congress', 'NOUN'), ('presumes', 'DET'), ('after', 'ADP'), ('the', 'DET'), ('Reagan', 'NOUN'), ('administration', 'NOUN'), ('that', 'ADP'), ('the', 'DET'), ('White', 'NOUN'), ('House', 'NOUN'), ('will', 'VERB'), ('take', 'VERB'), ('unconstitutional', 'ADJ'), ('provisions', 'NOUN'), ('in', 'ADP'), ('appropriations', 'NOUN'), ('bills', 'NOUN'), ('*-1', 'X'), ('lying', 'VERB'), ('down', 'ADV'), ('.', '.'), ('The', 'DET'), ('March', 'NOUN'), ('and', 'CONJ'), ('May', 'NOUN'), ('contracts', 'NOUN'), ('rose', 'VERB'), ('to', 'PRT'), ('fresh', 'ADJ'), ('life-of-contract', 'DET'), ('highs', 'NOUN'), ('of', 'ADP'), ('14.54', 'DET'), ('cents', 'NOUN'), ('and', 'CONJ'), ('14.28', 'DET'), ('cents', 'NOUN'), ('at', 'ADP'), ('their', 'PRON'), ('best', 'ADJ'), ('levels', 'NOUN'), ('of', 'ADP'), ('the', 'DET'), ('day', 'NOUN'), ('.', '.'), ('By', 'ADP'), ('Monday', 'NOUN'), (',', '.'), ('they', 'PRON'), ('hope', 'VERB'), ('*-1', 'X'), ('to', 'PRT'), ('have', 'VERB'), ('a', 'DET'), ('sheaf', 'DET'), ('of', 'ADP'), ('documents', 'NOUN'), ('0', 'X'), ('both', 'DET'), ('sides', 'NOUN'), ('can', 'VERB'), ('trust', 'NOUN'), ('*T*-2', 'X'), ('.', '.'), ('Shearson', 'NOUN'), ('also', 'ADV'), ('has', 'VERB'), ('been', 'VERB'), ('an', 'DET'), ('aggressive', 'ADJ'), ('participant', 'DET'), ('in', 'ADP'), ('the', 'DET'), ('leveraged', 'ADJ'), ('buy-out', 'NOUN'), ('business', 'NOUN'), ('.', '.'), ('The', 'DET'), ('group', 'NOUN'), ('says', 'VERB'), ('0', 'X'), ('standardized', 'ADJ'), ('achievement', 'NOUN'), ('test', 'NOUN'), ('scores', 'NOUN'), ('are', 'VERB'), ('greatly', 'ADV'), ('inflated', 'DET'), ('because', 'ADP'), ('teachers', 'NOUN'), ('often', 'ADV'), ('``', '.'), ('teach', 'VERB'), ('the', 'DET'), ('test', 'NOUN'), (\"''\", '.'), ('as', 'ADP'), ('Mrs.', 'NOUN'), ('Yeargin', 'NOUN'), ('did', 'VERB'), ('*?*', 'X'), (',', '.'), ('although', 'ADP'), ('most', 'ADJ'), ('are', 'VERB'), ('never', 'ADV'), ('caught', 'VERB'), ('*-1', 'X'), ('.', '.'), ('Against', 'DET'), ('a', 'DET'), ('shot', 'NOUN'), ('of', 'ADP'), ('Monticello', 'DET'), ('superimposed', 'DET'), ('*', 'X'), ('on', 'ADP'), ('an', 'DET'), ('American', 'NOUN'), ('flag', 'NOUN'), (',', '.'), ('an', 'DET'), ('announcer', 'NOUN'), ('talks', 'NOUN'), ('about', 'ADP'), ('the', 'DET'), ('``', '.'), ('strong', 'ADJ'), ('tradition', 'NOUN'), ('of', 'ADP'), ('freedom', 'NOUN'), ('and', 'CONJ'), ('individual', 'ADJ'), ('liberty', 'DET'), (\"''\", '.'), ('that', 'DET'), ('Virginians', 'DET'), ('have', 'VERB'), ('nurtured', 'DET'), ('*T*-1', 'X'), ('for', 'ADP'), ('generations', 'DET'), ('.', '.'), ('But', 'CONJ'), ('Fujitsu', 'NOUN'), (',', '.'), ('Japan', 'NOUN'), (\"'s\", 'PRT'), ('No.', 'NOUN'), ('1', 'NUM'), ('computer', 'NOUN'), ('maker', 'NOUN'), (',', '.'), ('is', 'VERB'), (\"n't\", 'ADV'), ('alone', 'ADV'), ('.', '.'), ('But', 'CONJ'), ('the', 'DET'), ('two', 'NUM'), ('legal', 'ADJ'), ('experts', 'NOUN'), (',', '.'), ('responding', 'VERB'), ('to', 'PRT'), ('an', 'DET'), ('inquiry', 'NOUN'), ('by', 'ADP'), ('Sen.', 'NOUN'), ('Edward', 'NOUN'), ('Kennedy', 'NOUN'), ('-LRB-', '.'), ('D.', 'NOUN'), (',', '.'), ('Mass.', 'NOUN'), ('-RRB-', '.'), (',', '.'), ('wrote', 'VERB'), ('in', 'ADP'), ('a', 'DET'), ('joint', 'ADJ'), ('letter', 'NOUN'), ('that', 'ADP'), ('the', 'DET'), ('president', 'NOUN'), ('``', '.'), ('lacks', 'VERB'), ('the', 'DET'), ('constitutional', 'ADJ'), ('authority', 'NOUN'), ('*', 'X'), ('to', 'PRT'), ('exercise', 'VERB'), ('a', 'DET'), ('line-item', 'ADJ'), ('veto', 'NOUN'), ('.', '.'), (\"''\", '.'), ('But', 'CONJ'), ('C.J.B.', 'DET'), ('Marshall', 'NOUN'), (',', '.'), ('vicar', 'NOUN'), ('of', 'ADP'), ('a', 'DET'), ('nearby', 'ADV'), ('church', 'NOUN'), (',', '.'), ('feels', 'DET'), ('0', 'X'), ('the', 'DET'), ('fault', 'NOUN'), ('is', 'VERB'), ('in', 'ADP'), ('the', 'DET'), ('stairs', 'DET'), ('from', 'ADP'), ('the', 'DET'), ('bell', 'NOUN'), ('tower', 'NOUN'), ('that', 'ADP'), ('*T*-1', 'X'), ('are', 'VERB'), ('located', 'VERB'), ('*-138', 'DET'), ('next', 'ADJ'), ('to', 'PRT'), ('the', 'DET'), ('altar', 'DET'), ('.', '.'), ('The', 'DET'), ('rating', 'NOUN'), ('concern', 'NOUN'), ('said', 'VERB'), ('0', 'X'), ('the', 'DET'), ('textile', 'NOUN'), ('and', 'CONJ'), ('clothing', 'DET'), ('company', 'NOUN'), (\"'s\", 'PRT'), ('interest', 'NOUN'), ('expense', 'DET'), ('exceeds', 'DET'), ('operating', 'NOUN'), ('profit', 'NOUN'), ('``', '.'), ('by', 'ADP'), ('a', 'DET'), ('wide', 'ADJ'), ('margin', 'NOUN'), (\"''\", '.'), ('and', 'CONJ'), ('it', 'PRON'), ('noted', 'VERB'), ('United', 'NOUN'), (\"'s\", 'PRT'), ('estimated', 'VERB'), ('after-tax', 'ADJ'), ('loss', 'NOUN'), ('of', 'ADP'), ('$', '.'), ('24', 'NUM'), ('million', 'NUM'), ('*U*', 'X'), ('for', 'ADP'), ('the', 'DET'), ('year', 'NOUN'), ('ended', 'VERB'), ('June', 'NOUN'), ('30', 'NUM'), ('.', '.'), ('The', 'DET'), ('scientists', 'NOUN'), ('said', 'VERB'), ('0', 'X'), ('they', 'PRON'), ('created', 'VERB'), ('small', 'ADJ'), ('changes', 'NOUN'), ('in', 'ADP'), ('the', 'DET'), ('crystal-lattice', 'NOUN'), ('structures', 'NOUN'), ('of', 'ADP'), ('the', 'DET'), ('superconductors', 'NOUN'), ('*-2', 'X'), ('to', 'PRT'), ('raise', 'VERB'), ('the', 'DET'), ('amount', 'NOUN'), ('of', 'ADP'), ('current', 'ADJ'), ('that', 'ADP'), ('single', 'ADJ'), ('crystals', 'NOUN'), ('could', 'VERB'), ('carry', 'VERB'), ('*T*-1', 'X'), ('to', 'PRT'), ('600,000', 'NUM'), ('amps', 'DET'), ('per', 'ADP'), ('square', 'ADJ'), ('centimeter', 'DET'), ('in', 'ADP'), ('a', 'DET'), ('moderately', 'ADV'), ('strong', 'ADJ'), ('magnetic', 'ADJ'), ('field', 'NOUN'), ('.', '.'), ('``', '.'), ('What', 'PRON'), ('sector', 'NOUN'), ('is', 'VERB'), ('*T*-46', 'X'), ('stepping', 'VERB'), ('forward', 'ADV'), ('*-2', 'X'), ('to', 'PRT'), ('pick', 'VERB'), ('up', 'ADV'), ('the', 'DET'), ('slack', 'ADJ'), ('?', '.'), (\"''\", '.'), ('he', 'PRON'), ('asked', 'VERB'), ('*T*-1', 'X'), ('.', '.'), ('Georgia-Pacific', 'NOUN'), (\"'s\", 'PRT'), ('sales', 'NOUN'), ('climbed', 'VERB'), ('to', 'PRT'), ('$', '.'), ('9.5', 'NUM'), ('billion', 'NUM'), ('*U*', 'X'), ('last', 'ADJ'), ('year', 'NOUN'), (',', '.'), ('compared', 'VERB'), ('with', 'ADP'), ('$', '.'), ('6', 'NUM'), ('billion', 'NUM'), ('*U*', 'X'), ('in', 'ADP'), ('1983', 'NUM'), (',', '.'), ('when', 'ADV'), ('Mr.', 'NOUN'), ('Hahn', 'NOUN'), ('took', 'VERB'), ('the', 'DET'), ('reins', 'DET'), ('*T*-1', 'X'), ('.', '.'), ('*-1', 'X'), ('Not', 'ADV'), ('counting', 'DET'), ('the', 'DET'), ('extraordinary', 'ADJ'), ('charge', 'NOUN'), (',', '.'), ('the', 'DET'), ('company', 'NOUN'), ('said', 'VERB'), ('0', 'X'), ('it', 'PRON'), ('would', 'VERB'), ('have', 'VERB'), ('had', 'VERB'), ('a', 'DET'), ('net', 'ADJ'), ('loss', 'NOUN'), ('of', 'ADP'), ('$', '.'), ('3.1', 'NUM'), ('million', 'NUM'), ('*U*', 'X'), (',', '.'), ('or', 'CONJ'), ('seven', 'NUM'), ('cents', 'NOUN'), ('a', 'DET'), ('share', 'NOUN'), ('.', '.'), ('Like', 'ADP'), ('most', 'ADJ'), ('of', 'ADP'), ('the', 'DET'), ('other', 'ADJ'), ('6,000', 'DET'), ('churches', 'NOUN'), ('in', 'ADP'), ('Britain', 'NOUN'), ('with', 'ADP'), ('sets', 'NOUN'), ('of', 'ADP'), ('bells', 'NOUN'), (',', '.'), ('St.', 'NOUN'), ('Michael', 'NOUN'), ('once', 'ADV'), ('had', 'VERB'), ('its', 'PRON'), ('own', 'ADJ'), ('``', '.'), ('band', 'NOUN'), (\"''\", '.'), ('of', 'ADP'), ('ringers', 'NOUN'), (',', '.'), ('who', 'PRON'), ('*T*-221', 'DET'), ('would', 'VERB'), ('herald', 'DET'), ('every', 'DET'), ('Sunday', 'NOUN'), ('morning', 'NOUN'), ('and', 'CONJ'), ('evening', 'NOUN'), ('service', 'NOUN'), ('.', '.'), ('The', 'DET'), ('following', 'VERB'), ('*ICH*-4', 'X'), ('were', 'VERB'), ('barred', 'VERB'), ('*-3', 'X'), ('or', 'CONJ'), (',', '.'), ('where', 'ADV'), ('*', 'X'), ('noted', 'VERB'), ('*-1', 'X'), ('*T*-2', 'X'), (',', '.'), ('suspended', 'VERB'), ('*-3', 'X'), ('and', 'CONJ'), ('consented', 'VERB'), ('to', 'PRT'), ('findings', 'NOUN'), ('without', 'ADP'), ('*-3', 'X'), ('admitting', 'VERB'), ('or', 'CONJ'), ('denying', 'VERB'), ('wrongdoing', 'NOUN'), (':', '.'), ('Edward', 'NOUN'), ('L.', 'NOUN'), ('Cole', 'DET'), (',', '.'), ('Jackson', 'DET'), (',', '.'), ('Miss.', 'NOUN'), (',', '.'), ('$', '.'), ('10,000', 'NUM'), ('*U*', 'X'), ('fine', 'NOUN'), (';', '.'), ('Rita', 'DET'), ('Rae', 'DET'), ('Cross', 'DET'), (',', '.'), ('Denver', 'DET'), (',', '.'), ('$', '.'), ('2,500', 'NUM'), ('*U*', 'X'), ('fine', 'NOUN'), ('and', 'CONJ'), ('30-day', 'ADJ'), ('suspension', 'NOUN'), (';', '.'), ('Thomas', 'NOUN'), ('Richard', 'NOUN'), ('Meinders', 'DET'), (',', '.'), ('Colorado', 'NOUN'), ('Springs', 'NOUN'), (',', '.'), ('Colo.', 'NOUN'), (',', '.'), ('$', '.'), ('2,000', 'DET'), ('*U*', 'X'), ('fine', 'NOUN'), (',', '.'), ('five-day', 'DET'), ('suspension', 'NOUN'), ('and', 'CONJ'), ('eight-month', 'DET'), ('suspension', 'NOUN'), ('as', 'ADP'), ('a', 'DET'), ('principal', 'NOUN'), (';', '.'), ('Ronald', 'NOUN'), ('A.', 'NOUN'), ('Cutrer', 'NOUN'), (',', '.'), ('Baton', 'DET'), ('Rouge', 'DET'), (',', '.'), ('La.', 'DET'), (',', '.'), ('$', '.'), ('15,000', 'NUM'), ('*U*', 'X'), ('fine', 'NOUN'), ('and', 'CONJ'), ('one-month', 'ADJ'), ('suspension', 'NOUN'), (';', '.'), ('Karl', 'DET'), ('Grant', 'DET'), ('Hale', 'DET'), (',', '.'), ('Midvale', 'DET'), (',', '.'), ('Utah', 'DET'), (',', '.'), ('$', '.'), ('15,000', 'NUM'), ('*U*', 'X'), ('fine', 'NOUN'), (';', '.'), ('Clinton', 'DET'), ('P.', 'NOUN'), ('Hayne', 'DET'), (',', '.'), ('New', 'NOUN'), ('Orleans', 'NOUN'), (',', '.'), ('$', '.'), ('7,500', 'NUM'), ('*U*', 'X'), ('fine', 'NOUN'), ('and', 'CONJ'), ('one-week', 'DET'), ('suspension', 'NOUN'), (';', '.'), ('Richard', 'NOUN'), ('M.', 'NOUN'), ('Kane', 'NOUN'), (',', '.'), ('Coconut', 'DET'), ('Creek', 'NOUN'), (',', '.'), ('Fla.', 'NOUN'), (',', '.'), ('$', '.'), ('250,000', 'DET'), ('*U*', 'X'), ('fine', 'NOUN'), (';', '.'), ('John', 'NOUN'), ('B.', 'NOUN'), ('Merrick', 'DET'), (',', '.'), ('Aurora', 'DET'), (',', '.'), ('Colo.', 'NOUN'), (',', '.'), ('$', '.'), ('1,000', 'NUM'), ('*U*', 'X'), ('fine', 'NOUN'), ('and', 'CONJ'), ('10-day', 'ADJ'), ('suspension', 'NOUN'), (';', '.'), ('John', 'NOUN'), ('P.', 'NOUN'), ('Miller', 'NOUN'), (',', '.'), ('Baton', 'DET'), ('Rouge', 'DET'), (',', '.'), ('$', '.'), ('2,000', 'DET'), ('*U*', 'X'), ('fine', 'NOUN'), ('and', 'CONJ'), ('two-week', 'ADJ'), ('suspension', 'NOUN'), (';', '.'), ('Randolph', 'NOUN'), ('K.', 'NOUN'), ('Pace', 'DET'), (',', '.'), ('New', 'NOUN'), ('York', 'NOUN'), (',', '.'), ('$', '.'), ('10,000', 'NUM'), ('*U*', 'X'), ('fine', 'NOUN'), ('and', 'CONJ'), ('90-day', 'DET'), ('suspension', 'NOUN'), (';', '.'), ('Brian', 'DET'), ('D.', 'NOUN'), ('Pitcher', 'DET'), (',', '.'), ('New', 'NOUN'), ('Providence', 'NOUN'), (',', '.'), ('N.J.', 'NOUN'), (',', '.'), ('$', '.'), ('30,000', 'NUM'), ('*U*', 'X'), ('fine', 'NOUN'), (';', '.'), ('Wayne', 'NOUN'), ('A.', 'NOUN'), ('Russo', 'DET'), (',', '.'), ('Bridgeville', 'DET'), (',', '.'), ('Pa.', 'NOUN'), (',', '.'), ('$', '.'), ('4,000', 'NUM'), ('*U*', 'X'), ('fine', 'NOUN'), ('and', 'CONJ'), ('15-day', 'DET'), ('suspension', 'NOUN'), (';', '.'), ('Orville', 'DET'), ('Leroy', 'DET'), ('Sandberg', 'DET'), (',', '.'), ('Aurora', 'DET'), (',', '.'), ('Colo.', 'NOUN'), (',', '.'), ('$', '.'), ('3,500', 'NUM'), ('*U*', 'X'), ('fine', 'NOUN'), ('and', 'CONJ'), ('10-day', 'ADJ'), ('suspension', 'NOUN'), (';', '.'), ('Richard', 'NOUN'), ('T.', 'NOUN'), ('Marchese', 'DET'), (',', '.'), ('Las', 'NOUN'), ('Vegas', 'NOUN'), (',', '.'), ('Nev.', 'NOUN'), (',', '.'), ('$', '.'), ('5,000', 'NUM'), ('*U*', 'X'), ('and', 'CONJ'), ('one-year', 'ADJ'), ('suspension', 'NOUN'), (';', '.'), ('Eric', 'DET'), ('G.', 'NOUN'), ('Monchecourt', 'DET'), (',', '.'), ('Las', 'NOUN'), ('Vegas', 'NOUN'), (',', '.'), ('$', '.'), ('5,000', 'NUM'), ('*U*', 'X'), ('and', 'CONJ'), ('one-year', 'ADJ'), ('suspension', 'NOUN'), (';', '.'), ('and', 'CONJ'), ('Robert', 'NOUN'), ('Gerhard', 'DET'), ('Smith', 'NOUN'), (',', '.'), ('Carson', 'DET'), ('City', 'NOUN'), (',', '.'), ('Nev.', 'NOUN'), (',', '.'), ('two-year', 'ADJ'), ('suspension', 'NOUN'), ('.', '.'), ('Says', 'VERB'), ('*ICH*-1', 'X'), ('Mr.', 'NOUN'), ('Baldwin', 'NOUN'), (',', '.'), ('``', '.'), ('We', 'PRON'), ('recognize', 'VERB'), ('that', 'ADP'), ('we', 'PRON'), ('may', 'VERB'), ('no', 'DET'), ('longer', 'ADJ'), ('have', 'VERB'), ('as', 'ADP'), ('high', 'ADJ'), ('a', 'DET'), ('priority', 'NOUN'), ('in', 'ADP'), ('church', 'NOUN'), ('life', 'NOUN'), ('and', 'CONJ'), ('experience', 'NOUN'), ('.', '.'), (\"''\", '.'), ('USX', 'NOUN'), ('was', 'VERB'), ('cited', 'VERB'), ('*-1', 'X'), ('by', 'ADP'), ('OSHA', 'NOUN'), ('for', 'ADP'), ('several', 'ADJ'), ('health', 'NOUN'), ('and', 'CONJ'), ('safety', 'NOUN'), ('violations', 'NOUN'), ('at', 'ADP'), ('two', 'NUM'), ('Pennsylvania', 'NOUN'), ('plants', 'NOUN'), ('and', 'CONJ'), ('may', 'VERB'), ('face', 'VERB'), ('a', 'DET'), ('record', 'NOUN'), ('fine', 'NOUN'), ('of', 'ADP'), ('$', '.'), ('7.3', 'NUM'), ('million', 'NUM'), ('*U*', 'X'), ('.', '.'), ('MERRILL', 'DET'), ('LYNCH', 'DET'), ('READY', 'DET'), ('ASSETS', 'DET'), ('TRUST', 'DET'), (':', '.'), ('8.64', 'DET'), ('%', 'NOUN'), ('.', '.'), ('A', 'DET'), ('final', 'ADJ'), ('modification', 'DET'), ('*ICH*-1', 'X'), ('was', 'VERB'), ('made', 'VERB'), ('*-130', 'DET'), ('to', 'PRT'), ('the', 'DET'), ('five-point', 'ADJ'), ('opening', 'NOUN'), ('limit', 'NOUN'), ('for', 'ADP'), ('the', 'DET'), ('contract', 'NOUN'), ('.', '.'), ('Section', 'NOUN'), ('501', 'DET'), ('of', 'ADP'), ('the', 'DET'), ('United', 'NOUN'), ('States', 'NOUN'), ('Information', 'NOUN'), ('and', 'CONJ'), ('Educational', 'DET'), ('Exchange', 'NOUN'), ('Act', 'NOUN'), ('of', 'ADP'), ('1948', 'NUM'), ('says', 'VERB'), ('0', 'X'), ('Voice', 'NOUN'), ('material', 'NOUN'), ('shall', 'VERB'), ('be', 'VERB'), ('available', 'ADJ'), ('to', 'PRT'), ('certain', 'ADJ'), ('of', 'ADP'), ('us', 'PRON'), ('-LRB-', '.'), ('but', 'CONJ'), ('now', 'ADV'), (',', '.'), ('thanks', 'DET'), ('to', 'PRT'), ('the', 'DET'), ('USIA', 'NOUN'), (\"'s\", 'PRT'), ('new', 'ADJ'), ('position', 'NOUN'), (',', '.'), ('all', 'DET'), ('of', 'ADP'), ('us', 'PRON'), ('-RRB-', '.'), ('``', '.'), ('for', 'ADP'), ('examination', 'NOUN'), ('only', 'ADV'), ('.', '.'), (\"''\", '.'), ('It', 'PRON'), (\"'s\", 'VERB'), ('probably', 'ADV'), ('worth', 'ADJ'), ('*', 'X'), ('paying', 'VERB'), ('a', 'DET'), ('premium', 'NOUN'), ('for', 'ADP'), ('funds', 'NOUN'), ('that', 'ADP'), ('*T*-42', 'X'), ('invest', 'VERB'), ('in', 'ADP'), ('markets', 'NOUN'), ('that', 'ADP'), ('*T*-43', 'X'), ('are', 'VERB'), ('partially', 'ADV'), ('closed', 'VERB'), ('to', 'PRT'), ('foreign', 'ADJ'), ('investors', 'NOUN'), (',', '.'), ('such', 'ADJ'), ('as', 'ADP'), ('South', 'NOUN'), ('Korea', 'NOUN'), (',', '.'), ('some', 'DET'), ('specialists', 'NOUN'), ('say', 'VERB'), ('0', 'X'), ('*T*-1', 'X'), ('.', '.'), ('He', 'PRON'), ('also', 'ADV'), ('said', 'VERB'), ('that', 'ADP'), ('the', 'DET'), ('group', 'NOUN'), ('reduced', 'VERB'), ('its', 'PRON'), ('offer', 'VERB'), ('because', 'ADP'), ('it', 'PRON'), ('was', 'VERB'), (\"n't\", 'ADV'), ('allowed', 'VERB'), ('*-1', 'X'), ('to', 'PRT'), ('see', 'VERB'), ('Georgia', 'NOUN'), ('Gulf', 'NOUN'), (\"'s\", 'PRT'), ('confidential', 'ADJ'), ('financial', 'ADJ'), ('information', 'NOUN'), ('without', 'ADP'), ('*-2', 'X'), ('agreeing', 'DET'), ('that', 'ADP'), ('it', 'PRON'), ('would', 'VERB'), (\"n't\", 'ADV'), ('make', 'VERB'), ('an', 'DET'), ('offer', 'NOUN'), ('unless', 'ADP'), ('it', 'PRON'), ('had', 'VERB'), ('Georgia', 'NOUN'), ('Gulf', 'NOUN'), (\"'s\", 'PRT'), ('consent', 'NOUN'), ('.', '.'), ('Texas', 'NOUN'), ('Instruments', 'DET'), ('Japan', 'NOUN'), ('Ltd.', 'NOUN'), (',', '.'), ('a', 'DET'), ('unit', 'NOUN'), ('of', 'ADP'), ('Texas', 'NOUN'), ('Instruments', 'DET'), ('Inc.', 'NOUN'), (',', '.'), ('said', 'VERB'), ('0', 'X'), ('it', 'PRON'), ('opened', 'VERB'), ('a', 'DET'), ('plant', 'NOUN'), ('*ICH*-3', 'X'), ('in', 'ADP'), ('South', 'NOUN'), ('Korea', 'NOUN'), ('0', 'X'), ('*T*-2', 'X'), ('to', 'PRT'), ('manufacture', 'DET'), ('control', 'NOUN'), ('devices', 'NOUN'), ('.', '.'), ('Another', 'DET'), ('was', 'VERB'), ('Nancy', 'NOUN'), ('Yeargin', 'NOUN'), (',', '.'), ('who', 'PRON'), ('*T*-89', 'DET'), ('came', 'VERB'), ('to', 'PRT'), ('Greenville', 'NOUN'), ('in', 'ADP'), ('1985', 'NUM'), (',', '.'), ('*-1', 'X'), ('full', 'ADJ'), ('of', 'ADP'), ('the', 'DET'), ('energy', 'NOUN'), ('and', 'CONJ'), ('ambitions', 'NOUN'), ('that', 'ADP'), ('reformers', 'NOUN'), ('wanted', 'VERB'), ('*-2', 'X'), ('to', 'PRT'), ('reward', 'DET'), ('*T*-3', 'X'), ('.', '.'), ('The', 'DET'), ('Los', 'NOUN'), ('Angeles', 'NOUN'), ('County', 'NOUN'), ('district', 'NOUN'), ('attorney', 'NOUN'), (\"'s\", 'PRT'), ('office', 'NOUN'), ('filed', 'VERB'), ('seven', 'NUM'), ('felony', 'NOUN'), ('and', 'CONJ'), ('five', 'NUM'), ('misdemeanor', 'NOUN'), ('counts', 'VERB'), ('charging', 'DET'), ('that', 'ADP'), ('late', 'ADJ'), ('last', 'ADJ'), ('year', 'NOUN'), ('and', 'CONJ'), ('early', 'ADJ'), ('this', 'DET'), ('year', 'NOUN'), ('the', 'DET'), ('Irvine', 'NOUN'), (',', '.'), ('Calif.-based', 'DET'), ('circuit-board', 'DET'), ('manufacturer', 'NOUN'), ('illegally', 'ADV'), ('disposed', 'DET'), ('of', 'ADP'), ('acid', 'ADJ'), (',', '.'), ('caustic', 'DET'), ('and', 'CONJ'), ('heavy', 'ADJ'), ('metals', 'NOUN'), ('into', 'ADP'), ('the', 'DET'), ('sewer', 'DET'), ('system', 'NOUN'), (',', '.'), ('and', 'CONJ'), ('stored', 'VERB'), ('hazardous', 'ADJ'), ('materials', 'NOUN'), ('in', 'ADP'), ('leaky', 'DET'), (',', '.'), ('unlabeled', 'DET'), ('or', 'CONJ'), ('open-top', 'DET'), ('containers', 'DET'), ('.', '.'), ('It', 'PRON'), ('said', 'VERB'), ('0', 'X'), ('the', 'DET'), ('man', 'NOUN'), (',', '.'), ('whom', 'PRON'), ('it', 'PRON'), ('did', 'VERB'), ('not', 'ADV'), ('name', 'NOUN'), ('*T*-63', 'X'), (',', '.'), ('had', 'VERB'), ('been', 'VERB'), ('found', 'VERB'), ('*-1', 'X'), ('to', 'PRT'), ('have', 'VERB'), ('the', 'DET'), ('disease', 'NOUN'), ('after', 'ADP'), ('hospital', 'DET'), ('tests', 'NOUN'), ('.', '.'), ('USX', 'NOUN'), ('Corp.', 'NOUN'), ('posted', 'VERB'), ('a', 'DET'), ('23', 'NUM'), ('%', 'NOUN'), ('drop', 'NOUN'), ('in', 'ADP'), ('third-quarter', 'NOUN'), ('profit', 'NOUN'), (',', '.'), ('as', 'ADP'), ('improved', 'VERB'), ('oil', 'NOUN'), ('results', 'NOUN'), ('failed', 'VERB'), ('*-1', 'X'), ('to', 'PRT'), ('offset', 'VERB'), ('weakness', 'NOUN'), ('in', 'ADP'), ('steel', 'NOUN'), ('and', 'CONJ'), ('natural', 'ADJ'), ('gas', 'NOUN'), ('operations', 'NOUN'), ('.', '.'), ('The', 'DET'), ('firm', 'NOUN'), ('also', 'ADV'), ('has', 'VERB'), ('been', 'VERB'), ('hit', 'VERB'), ('*-1', 'X'), ('with', 'ADP'), ('big', 'ADJ'), ('financial', 'ADJ'), ('settlements', 'DET'), ('with', 'ADP'), ('the', 'DET'), ('government', 'NOUN'), ('stemming', 'VERB'), ('from', 'ADP'), ('its', 'PRON'), ('guilty', 'ADJ'), ('plea', 'DET'), ('to', 'PRT'), ('six', 'NUM'), ('felonies', 'DET'), ('related', 'ADJ'), ('*', 'X'), ('to', 'PRT'), ('a', 'DET'), ('big', 'ADJ'), ('insider-trading', 'DET'), ('scandal', 'NOUN'), ('.', '.'), ('The', 'DET'), ('32', 'NUM'), ('%', 'NOUN'), ('state-owned', 'ADJ'), ('DSM', 'NOUN'), ('had', 'VERB'), ('eight', 'NUM'), ('million', 'NUM'), ('guilders', 'NOUN'), ('of', 'ADP'), ('extraordinary', 'ADJ'), ('charges', 'NOUN'), ('in', 'ADP'), ('the', 'DET'), ('latest', 'ADJ'), ('quarter', 'NOUN'), (',', '.'), ('mainly', 'ADV'), ('*', 'X'), ('to', 'PRT'), ('reflect', 'VERB'), ('one-time', 'ADJ'), ('losses', 'NOUN'), ('in', 'ADP'), ('connection', 'NOUN'), ('with', 'ADP'), ('the', 'DET'), ('disposal', 'NOUN'), ('of', 'ADP'), ('some', 'DET'), ('operations', 'NOUN'), ('.', '.'), ('In', 'ADP'), ('early', 'ADJ'), ('trading', 'NOUN'), ('in', 'ADP'), ('Hong', 'NOUN'), ('Kong', 'NOUN'), ('Thursday', 'NOUN'), (',', '.'), ('gold', 'NOUN'), ('was', 'VERB'), ('quoted', 'VERB'), ('*-1', 'X'), ('at', 'ADP'), ('$', '.'), ('374.19', 'DET'), ('*U*', 'X'), ('an', 'DET'), ('ounce', 'NOUN'), ('.', '.'), ('From', 'ADP'), ('the', 'DET'), ('1940s', 'DET'), ('until', 'ADP'), ('1971', 'NUM'), (',', '.'), ('some', 'DET'), ('two', 'NUM'), ('million', 'NUM'), ('women', 'NOUN'), ('took', 'VERB'), ('the', 'DET'), ('synthetic', 'ADJ'), ('hormone', 'DET'), ('diethylstilbestrol', 'DET'), ('-LRB-', '.'), ('DES', 'NOUN'), ('-RRB-', '.'), ('*-1', 'X'), ('to', 'PRT'), ('prevent', 'VERB'), ('miscarriages', 'DET'), ('and', 'CONJ'), ('morning', 'NOUN'), ('sickness', 'DET'), ('.', '.'), ('But', 'CONJ'), ('the', 'DET'), ('prospects', 'NOUN'), ('for', 'ADP'), ('legislation', 'NOUN'), ('that', 'ADP'), ('*T*-1', 'X'), ('targets', 'VERB'), ('program', 'NOUN'), ('trading', 'NOUN'), ('is', 'VERB'), ('unlikely', 'DET'), ('anytime', 'ADV'), ('soon', 'ADV'), ('.', '.'), ('Exports', 'DET'), ('in', 'ADP'), ('October', 'NOUN'), ('stood', 'VERB'), ('at', 'ADP'), ('$', '.'), ('5.29', 'DET'), ('billion', 'NUM'), ('*U*', 'X'), (',', '.'), ('a', 'DET'), ('mere', 'ADJ'), ('0.7', 'DET'), ('%', 'NOUN'), ('increase', 'NOUN'), ('from', 'ADP'), ('a', 'DET'), ('year', 'NOUN'), ('earlier', 'ADV'), (',', '.'), ('while', 'ADP'), ('imports', 'NOUN'), ('increased', 'VERB'), ('sharply', 'ADV'), ('to', 'PRT'), ('$', '.'), ('5.39', 'DET'), ('billion', 'NUM'), ('*U*', 'X'), (',', '.'), ('up', 'ADV'), ('20', 'NUM'), ('%', 'NOUN'), ('from', 'ADP'), ('last', 'ADJ'), ('October', 'NOUN'), ('.', '.'), ('The', 'DET'), ('development', 'NOUN'), (',', '.'), ('traders', 'NOUN'), ('said', 'VERB'), ('0', 'X'), ('*T*-1', 'X'), (',', '.'), ('showed', 'VERB'), ('that', 'ADP'), ('there', 'DET'), ('is', 'VERB'), ('more', 'ADV'), ('than', 'ADP'), ('ample', 'ADJ'), ('liquidity', 'NOUN'), ('available', 'ADJ'), ('for', 'ADP'), ('investment', 'NOUN'), ('despite', 'ADP'), ('the', 'DET'), ('market', 'NOUN'), (\"'s\", 'PRT'), ('recent', 'ADJ'), ('directionless', 'DET'), ('trend', 'NOUN'), ('.', '.'), ('The', 'DET'), ('promotion', 'NOUN'), ('helped', 'VERB'), ('Riviera', 'NOUN'), ('sales', 'NOUN'), ('exceed', 'VERB'), ('the', 'DET'), ('division', 'NOUN'), (\"'s\", 'PRT'), ('forecast', 'VERB'), ('by', 'ADP'), ('more', 'ADJ'), ('than', 'ADP'), ('10', 'NUM'), ('%', 'NOUN'), (',', '.'), ('Buick', 'NOUN'), ('said', 'VERB'), ('0', 'X'), ('*T*-1', 'X'), ('at', 'ADP'), ('the', 'DET'), ('time', 'NOUN'), ('.', '.'), ('Earlier', 'ADV'), ('staff-reduction', 'DET'), ('moves', 'NOUN'), ('have', 'VERB'), ('trimmed', 'DET'), ('about', 'ADP'), ('300', 'NUM'), ('jobs', 'NOUN'), (',', '.'), ('the', 'DET'), ('spokesman', 'NOUN'), ('said', 'VERB'), ('0', 'X'), ('*T*-1', 'X'), ('.', '.'), ('The', 'DET'), ('following', 'VERB'), ('individuals', 'NOUN'), ('were', 'VERB'), ('fined', 'VERB'), ('*-2', 'X'), ('as', 'ADP'), ('*', 'X'), ('indicated', 'VERB'), ('*-1', 'X'), ('and', 'CONJ'), ('barred', 'VERB'), ('*-2', 'X'), ('from', 'ADP'), ('association', 'NOUN'), ('with', 'ADP'), ('NASD', 'NOUN'), ('members', 'NOUN'), (',', '.'), ('or', 'CONJ'), (',', '.'), ('where', 'ADV'), ('*', 'X'), ('noted', 'VERB'), ('*-3', 'X'), ('*T*-4', 'X'), (',', '.'), ('suspended', 'VERB'), ('*-2', 'X'), ('.', '.'), ('Mr.', 'NOUN'), ('Spoon', 'NOUN'), ('said', 'VERB'), ('0', 'X'), ('the', 'DET'), ('plan', 'NOUN'), ('is', 'VERB'), ('not', 'ADV'), ('an', 'DET'), ('attempt', 'NOUN'), ('*', 'X'), ('to', 'PRT'), ('shore', 'DET'), ('up', 'ADV'), ('a', 'DET'), ('decline', 'NOUN'), ('in', 'ADP'), ('ad', 'NOUN'), ('pages', 'NOUN'), ('in', 'ADP'), ('the', 'DET'), ('first', 'ADJ'), ('nine', 'NUM'), ('months', 'NOUN'), ('of', 'ADP'), ('1989', 'NUM'), (';', '.'), ('Newsweek', 'NOUN'), (\"'s\", 'PRT'), ('ad', 'NOUN'), ('pages', 'NOUN'), ('totaled', 'VERB'), ('1,620', 'DET'), (',', '.'), ('a', 'DET'), ('drop', 'NOUN'), ('of', 'ADP'), ('3.2', 'NUM'), ('%', 'NOUN'), ('from', 'ADP'), ('last', 'ADJ'), ('year', 'NOUN'), (',', '.'), ('according', 'VERB'), ('to', 'PRT'), ('Publishers', 'DET'), ('Information', 'NOUN'), ('Bureau', 'NOUN'), ('.', '.'), ('Ms.', 'NOUN'), ('Kirkpatrick', 'DET'), (',', '.'), ('the', 'DET'), ('Journal', 'NOUN'), (\"'s\", 'PRT'), ('deputy', 'NOUN'), ('editorial', 'NOUN'), ('features', 'NOUN'), ('editor', 'NOUN'), (',', '.'), ('worked', 'VERB'), ('in', 'ADP'), ('Tokyo', 'NOUN'), ('for', 'ADP'), ('three', 'NUM'), ('years', 'NOUN'), ('.', '.'), ('$', '.'), ('107', 'NUM'), ('million', 'NUM'), ('*U*', 'X'), ('of', 'ADP'), ('tax', 'NOUN'), ('allocation', 'NOUN'), ('bonds', 'NOUN'), (',', '.'), ('1989', 'NUM'), ('Series', 'NOUN'), ('A-D', 'DET'), (',', '.'), ('due', 'ADJ'), ('1991-1999', 'DET'), (',', '.'), ('2009', 'NUM'), ('and', 'CONJ'), ('2019', 'NUM'), (',', '.'), ('tentatively', 'ADV'), ('priced', 'VERB'), ('*', 'X'), ('by', 'ADP'), ('a', 'DET'), ('Donaldson', 'NOUN'), ('Lufkin', 'NOUN'), ('&', 'CONJ'), ('Jenrette', 'NOUN'), ('Securities', 'NOUN'), ('Corp.', 'NOUN'), ('group', 'NOUN'), ('*', 'X'), ('to', 'PRT'), ('yield', 'VERB'), ('from', 'ADP'), ('6.40', 'NUM'), ('%', 'NOUN'), ('in', 'ADP'), ('1991', 'NUM'), ('to', 'PRT'), ('7.458', 'NUM'), ('%', 'NOUN'), ('in', 'ADP'), ('2019', 'NUM'), ('.', '.'), ('The', 'DET'), ('Latin', 'DET'), ('American', 'NOUN'), ('nation', 'NOUN'), ('has', 'VERB'), ('paid', 'VERB'), ('very', 'ADV'), ('little', 'ADJ'), ('on', 'ADP'), ('its', 'PRON'), ('debt', 'NOUN'), ('since', 'ADP'), ('early', 'ADJ'), ('last', 'ADJ'), ('year', 'NOUN'), ('.', '.'), ('W.N.', 'DET'), ('Whelen', 'NOUN'), ('&', 'CONJ'), ('Co.', 'NOUN'), (',', '.'), ('of', 'ADP'), ('Georgetown', 'DET'), (',', '.'), ('Del.', 'NOUN'), (',', '.'), ('and', 'CONJ'), ('its', 'PRON'), ('president', 'NOUN'), (',', '.'), ('William', 'NOUN'), ('N.', 'DET'), ('Whelen', 'NOUN'), ('Jr.', 'NOUN'), (',', '.'), ('also', 'ADV'), ('of', 'ADP'), ('Georgetown', 'DET'), (',', '.'), ('were', 'VERB'), ('barred', 'VERB'), ('*-1', 'X'), ('from', 'ADP'), ('*-2', 'X'), ('transacting', 'VERB'), ('principal', 'ADJ'), ('trades', 'NOUN'), ('for', 'ADP'), ('90', 'NUM'), ('days', 'NOUN'), ('and', 'CONJ'), ('were', 'VERB'), ('jointly', 'ADV'), ('fined', 'VERB'), ('*-1', 'X'), ('$', '.'), ('15,000', 'NUM'), ('*U*', 'X'), ('.', '.'), ('One', 'NUM'), ('indicator', 'NOUN'), ('0', 'X'), ('investors', 'NOUN'), ('might', 'VERB'), ('want', 'VERB'), ('*-2', 'X'), ('to', 'PRT'), ('watch', 'VERB'), ('*T*-1', 'X'), ('is', 'VERB'), ('the', 'DET'), ('monthly', 'ADJ'), ('tally', 'NOUN'), ('from', 'ADP'), ('Standard', 'NOUN'), ('&', 'CONJ'), ('Poor', 'NOUN'), (\"'s\", 'PRT'), ('of', 'ADP'), ('the', 'DET'), ('number', 'NOUN'), ('of', 'ADP'), ('public', 'ADJ'), ('companies', 'NOUN'), ('adjusting', 'VERB'), ('their', 'PRON'), ('dividends', 'NOUN'), ('.', '.'), ('Several', 'ADJ'), ('Fed', 'NOUN'), ('governors', 'NOUN'), ('in', 'ADP'), ('Washington', 'NOUN'), ('have', 'VERB'), ('been', 'VERB'), ('pushing', 'VERB'), ('for', 'ADP'), ('easier', 'ADJ'), ('credit', 'NOUN'), (';', '.'), ('but', 'CONJ'), ('many', 'ADJ'), ('of', 'ADP'), ('the', 'DET'), ('regional', 'ADJ'), ('Fed', 'NOUN'), ('presidents', 'NOUN'), ('have', 'VERB'), ('been', 'VERB'), ('resisting', 'DET'), ('such', 'ADJ'), ('a', 'DET'), ('move', 'NOUN'), ('.', '.'), ('An', 'DET'), ('attempted', 'VERB'), ('buy-out', 'NOUN'), ('led', 'VERB'), ('*', 'X'), ('by', 'ADP'), ('John', 'NOUN'), ('J.', 'NOUN'), ('McCabe', 'DET'), (',', '.'), ('chief', 'NOUN'), ('operating', 'VERB'), ('officer', 'NOUN'), (',', '.'), ('never', 'ADV'), ('materialized', 'DET'), (',', '.'), ('and', 'CONJ'), ('a', 'DET'), ('stream', 'DET'), ('of', 'ADP'), ('what', 'PRON'), ('one', 'NUM'), ('staff', 'NOUN'), ('member', 'NOUN'), ('dismissed', 'VERB'), ('*T*-1', 'X'), ('as', 'ADP'), ('``', '.'), ('tire-kickers', 'DET'), ('and', 'CONJ'), ('lookee-loos', 'DET'), (\"''\", '.'), ('had', 'VERB'), ('filed', 'VERB'), ('through', 'ADP'), ('since', 'ADP'), ('.', '.'), ('Prior', 'DET'), ('to', 'PRT'), ('his', 'PRON'), ('term', 'NOUN'), (',', '.'), ('a', 'DET'), ('teacher', 'NOUN'), ('bled', 'DET'), ('to', 'PRT'), ('death', 'NOUN'), ('in', 'ADP'), ('the', 'DET'), ('halls', 'DET'), (',', '.'), ('*-1', 'X'), ('stabbed', 'DET'), ('*-2', 'X'), ('by', 'ADP'), ('a', 'DET'), ('student', 'NOUN'), ('.', '.'), ('Big', 'NOUN'), ('Board', 'NOUN'), ('Chairman', 'NOUN'), ('John', 'NOUN'), ('Phelan', 'NOUN'), ('said', 'VERB'), ('yesterday', 'NOUN'), ('that', 'ADP'), ('he', 'PRON'), ('could', 'VERB'), ('support', 'VERB'), ('*', 'X'), ('letting', 'VERB'), ('federal', 'ADJ'), ('regulators', 'NOUN'), ('suspend', 'VERB'), ('program', 'NOUN'), ('trading', 'NOUN'), ('during', 'ADP'), ('wild', 'ADJ'), ('stock-price', 'DET'), ('swings', 'NOUN'), ('.', '.'), ('The', 'DET'), ('National', 'NOUN'), ('Association', 'NOUN'), ('of', 'ADP'), ('Securities', 'NOUN'), ('Dealers', 'NOUN'), (',', '.'), ('the', 'DET'), ('self-regulatory', 'DET'), ('organization', 'NOUN'), ('for', 'ADP'), ('the', 'DET'), ('over-the-counter', 'ADJ'), ('securities', 'NOUN'), ('markets', 'NOUN'), (',', '.'), ('disciplined', 'DET'), ('a', 'DET'), ('number', 'NOUN'), ('of', 'ADP'), ('firms', 'NOUN'), ('and', 'CONJ'), ('individuals', 'NOUN'), ('for', 'ADP'), ('alleged', 'ADJ'), ('violations', 'NOUN'), ('of', 'ADP'), ('industry', 'NOUN'), ('rules', 'NOUN'), ('.', '.'), ('A', 'DET'), ('family', 'NOUN'), ('of', 'ADP'), ('ceramic', 'DET'), ('superconductors', 'NOUN'), ('discovered', 'VERB'), ('*', 'X'), ('during', 'ADP'), ('the', 'DET'), ('past', 'ADJ'), ('three', 'NUM'), ('years', 'NOUN'), ('promise', 'NOUN'), ('new', 'ADJ'), ('technologies', 'DET'), ('such', 'ADJ'), ('as', 'ADP'), ('cheaper', 'ADJ'), ('electrical', 'ADJ'), ('generation', 'DET'), ('--', '.'), ('but', 'CONJ'), ('only', 'ADV'), ('if', 'ADP'), ('their', 'PRON'), ('current-carrying', 'ADJ'), ('capacity', 'NOUN'), ('can', 'VERB'), ('be', 'VERB'), ('raised', 'VERB'), ('*-1', 'X'), ('.', '.'), ('Why', 'ADV'), ('does', 'VERB'), ('this', 'DET'), ('large', 'ADJ'), ('hypothetical', 'DET'), ('seller', 'NOUN'), ('trade', 'NOUN'), ('in', 'ADP'), ('Chicago', 'NOUN'), ('instead', 'ADV'), ('of', 'ADP'), ('New', 'NOUN'), ('York', 'NOUN'), ('*T*-1', 'X'), ('?', '.'), ('Georgia', 'NOUN'), ('Gulf', 'NOUN'), ('added', 'VERB'), ('1', 'NUM'), ('3\\\\/4', 'NUM'), ('to', 'PRT'), ('51', 'NUM'), ('1\\\\/4', 'NUM'), ('after', 'ADP'), ('NL', 'NOUN'), ('Industries', 'NOUN'), (',', '.'), ('controlled', 'ADJ'), ('*', 'X'), ('by', 'ADP'), ('Dallas', 'NOUN'), ('investor', 'NOUN'), ('Harold', 'NOUN'), ('Simmons', 'NOUN'), (',', '.'), ('offered', 'VERB'), ('*-2', 'X'), ('to', 'PRT'), ('acquire', 'VERB'), ('the', 'DET'), ('stock', 'NOUN'), ('0', 'X'), ('it', 'PRON'), ('does', 'VERB'), (\"n't\", 'ADV'), ('already', 'ADV'), ('own', 'ADJ'), ('*T*-1', 'X'), ('for', 'ADP'), ('$', '.'), ('50', 'NUM'), ('*U*', 'X'), ('a', 'DET'), ('share', 'NOUN'), ('.', '.'), ('Timex', 'NOUN'), ('had', 'VERB'), ('requested', 'VERB'), ('duty-free', 'ADJ'), ('treatment', 'NOUN'), ('for', 'ADP'), ('many', 'ADJ'), ('types', 'NOUN'), ('of', 'ADP'), ('watches', 'NOUN'), (',', '.'), ('covered', 'VERB'), ('*', 'X'), ('by', 'ADP'), ('58', 'NUM'), ('different', 'ADJ'), ('U.S.', 'NOUN'), ('tariff', 'NOUN'), ('classifications', 'DET'), ('.', '.'), ('New', 'NOUN'), ('England', 'NOUN'), ('Electric', 'NOUN'), (',', '.'), ('based', 'VERB'), ('*', 'X'), ('in', 'ADP'), ('Westborough', 'DET'), (',', '.'), ('Mass.', 'NOUN'), (',', '.'), ('had', 'VERB'), ('offered', 'VERB'), ('$', '.'), ('2', 'NUM'), ('billion', 'NUM'), ('*U*', 'X'), ('*ICH*-1', 'X'), ('*-4', 'X'), ('to', 'PRT'), ('acquire', 'VERB'), ('PS', 'NOUN'), ('of', 'ADP'), ('New', 'NOUN'), ('Hampshire', 'NOUN'), (',', '.'), ('well', 'ADV'), ('below', 'ADP'), ('the', 'DET'), ('$', '.'), ('2.29', 'DET'), ('billion', 'NUM'), ('*U*', 'X'), ('value', 'NOUN'), ('0', 'X'), ('United', 'NOUN'), ('Illuminating', 'NOUN'), ('places', 'NOUN'), ('*T*-2', 'X'), ('on', 'ADP'), ('its', 'PRON'), ('bid', 'NOUN'), ('and', 'CONJ'), ('the', 'DET'), ('$', '.'), ('2.25', 'DET'), ('billion', 'NUM'), ('*U*', 'X'), ('0', 'X'), ('Northeast', 'NOUN'), ('says', 'VERB'), ('0', 'X'), ('its', 'PRON'), ('bid', 'NOUN'), ('is', 'VERB'), ('worth', 'ADJ'), ('*T*-3', 'X'), ('.', '.'), ('Although', 'ADP'), ('traders', 'NOUN'), ('rushed', 'VERB'), ('*-3', 'X'), ('to', 'PRT'), ('buy', 'VERB'), ('futures', 'NOUN'), ('contracts', 'NOUN'), (',', '.'), ('many', 'ADJ'), ('remained', 'VERB'), ('skeptical', 'ADJ'), ('about', 'ADP'), ('the', 'DET'), ('Brazilian', 'ADJ'), ('development', 'NOUN'), (',', '.'), ('which', 'DET'), ('*T*-4', 'X'), ('could', 'VERB'), (\"n't\", 'ADV'), ('be', 'VERB'), ('confirmed', 'VERB'), ('*-1', 'X'), (',', '.'), ('analysts', 'NOUN'), ('said', 'VERB'), ('0', 'X'), ('*T*-2', 'X'), ('.', '.'), ('As', 'ADP'), ('*', 'X'), ('discussed', 'VERB'), ('in', 'ADP'), ('the', 'DET'), ('context', 'DET'), ('of', 'ADP'), ('*', 'X'), ('controlling', 'VERB'), ('federal', 'ADJ'), ('spending', 'NOUN'), (',', '.'), ('the', 'DET'), ('line-item', 'ADJ'), ('veto', 'NOUN'), ('is', 'VERB'), ('characterized', 'DET'), ('*-59', 'X'), ('as', 'ADP'), ('a', 'DET'), ('way', 'NOUN'), ('0', 'X'), ('for', 'ADP'), ('the', 'DET'), ('president', 'NOUN'), ('to', 'PRT'), ('excise', 'ADJ'), ('perfectly', 'ADV'), ('constitutional', 'ADJ'), ('provisions', 'NOUN'), ('in', 'ADP'), ('a', 'DET'), ('spending', 'NOUN'), ('bill', 'NOUN'), ('that', 'ADP'), ('*T*-2', 'X'), ('are', 'VERB'), ('objectionable', 'DET'), ('merely', 'ADV'), ('because', 'ADP'), ('they', 'PRON'), ('conflict', 'DET'), ('with', 'ADP'), ('his', 'PRON'), ('policy', 'NOUN'), ('objectives', 'NOUN'), ('*T*-1', 'X'), ('.', '.'), ('However', 'ADV'), (',', '.'), ('Tony', 'NOUN'), ('Lama', 'NOUN'), ('said', 'VERB'), ('0', 'X'), ('it', 'PRON'), ('would', 'VERB'), ('promptly', 'ADV'), ('submit', 'VERB'), ('the', 'DET'), ('offer', 'NOUN'), ('to', 'PRT'), ('a', 'DET'), ('special', 'ADJ'), ('committee', 'NOUN'), ('of', 'ADP'), ('the', 'DET'), ('company', 'NOUN'), (\"'s\", 'PRT'), ('board', 'NOUN'), ('.', '.'), ('The', 'DET'), ('one', 'NUM'), ('character', 'NOUN'), ('at', 'ADP'), ('least', 'ADJ'), ('somewhat', 'ADV'), ('interesting', 'ADJ'), ('was', 'VERB'), ('Irving', 'DET'), ('Louis', 'NOUN'), ('Lobsenz', 'DET'), (',', '.'), ('a', 'DET'), ('pediatrician', 'DET'), ('who', 'PRON'), ('*T*-1', 'X'), ('changed', 'VERB'), ('his', 'PRON'), ('name', 'NOUN'), ('to', 'PRT'), ('Rusty', 'DET'), ('Kent', 'NOUN'), ('London', 'NOUN'), ('and', 'CONJ'), ('became', 'VERB'), ('a', 'DET'), ('master', 'NOUN'), ('gambler', 'DET'), ('and', 'CONJ'), ('author', 'NOUN'), ('of', 'ADP'), ('a', 'DET'), ('book', 'NOUN'), ('on', 'ADP'), ('blackjack', 'DET'), ('.', '.'), ('``', '.'), ('So', 'ADV'), ('people', 'NOUN'), ('who', 'PRON'), ('*T*-202', 'DET'), ('were', 'VERB'), (\"n't\", 'ADV'), ('even', 'ADV'), ('thinking', 'VERB'), ('about', 'ADP'), ('targeting', 'VERB'), ('10', 'NUM'), ('years', 'NOUN'), ('ago', 'ADP'), ('are', 'VERB'), ('scrambling', 'VERB'), ('*-1', 'X'), ('to', 'PRT'), ('define', 'VERB'), ('their', 'PRON'), ('customer', 'NOUN'), ('base', 'NOUN'), ('.', '.'), (\"''\", '.'), ('Its', 'PRON'), ('entrenched', 'DET'), ('49', 'NUM'), ('stock', 'NOUN'), ('specialists', 'NOUN'), ('firms', 'NOUN'), ('are', 'VERB'), ('fighting', 'VERB'), ('tooth', 'DET'), ('and', 'CONJ'), ('nail', 'DET'), ('against', 'ADP'), ('programs', 'NOUN'), ('.', '.'), ('Higher', 'ADJ'), ('margins', 'NOUN'), ('would', 'VERB'), ('chase', 'DET'), ('away', 'ADV'), ('dozens', 'NOUN'), ('of', 'ADP'), ('smaller', 'ADJ'), ('traders', 'NOUN'), ('who', 'PRON'), ('*T*-72', 'X'), ('help', 'VERB'), ('larger', 'ADJ'), ('traders', 'NOUN'), ('buy', 'VERB'), ('and', 'CONJ'), ('sell', 'VERB'), (',', '.'), ('they', 'PRON'), ('say', 'VERB'), ('*T*-1', 'X'), ('.', '.'), ('That', 'DET'), ('was', 'VERB'), ('the', 'DET'), ('law', 'NOUN'), ('.', '.'), ('Lord', 'DET'), ('Chilver', 'DET'), (',', '.'), ('63-year-old', 'DET'), ('chairman', 'NOUN'), ('of', 'ADP'), ('English', 'ADJ'), ('China', 'NOUN'), ('Clays', 'DET'), ('PLC', 'NOUN'), (',', '.'), ('was', 'VERB'), ('named', 'VERB'), ('*-39', 'X'), ('a', 'DET'), ('nonexecutive', 'ADJ'), ('director', 'NOUN'), ('of', 'ADP'), ('this', 'DET'), ('British', 'ADJ'), ('chemical', 'NOUN'), ('company', 'NOUN'), ('.', '.'), ('``', '.'), ('We', 'PRON'), ('flat', 'ADJ'), ('ran', 'VERB'), ('out', 'PRT'), ('of', 'ADP'), ('financing', 'NOUN'), ('resources', 'NOUN'), (',', '.'), (\"''\", '.'), ('Mr.', 'NOUN'), ('Jerritts', 'NOUN'), ('said', 'VERB'), ('*T*-1', 'X'), ('.', '.'), ('Among', 'ADP'), ('other', 'ADJ'), ('Connecticut', 'NOUN'), ('banks', 'NOUN'), ('whose', 'PRON'), ('shares', 'NOUN'), ('*T*-121', 'DET'), ('trade', 'NOUN'), ('in', 'ADP'), ('the', 'DET'), ('OTC', 'NOUN'), ('market', 'NOUN'), (',', '.'), ('Society', 'NOUN'), ('for', 'ADP'), ('Savings', 'NOUN'), ('Bancorp', 'NOUN'), (',', '.'), ('based', 'VERB'), ('*', 'X'), ('in', 'ADP'), ('Hartford', 'NOUN'), (',', '.'), ('saw', 'VERB'), ('its', 'PRON'), ('stock', 'NOUN'), ('rise', 'VERB'), ('1', 'NUM'), ('3\\\\/4', 'NUM'), ('to', 'PRT'), ('18', 'NUM'), ('1\\\\/4', 'NUM'), ('.', '.'), ('At', 'ADP'), ('least', 'ADJ'), (',', '.'), ('that', 'DET'), (\"'s\", 'VERB'), ('the', 'DET'), ('way', 'NOUN'), ('0', 'X'), ('it', 'PRON'), ('was', 'VERB'), ('reported', 'VERB'), ('*-32', 'X'), ('*T*-1', 'X'), ('.', '.'), ('History', 'DET'), (',', '.'), ('after', 'ADP'), ('all', 'DET'), (',', '.'), ('is', 'VERB'), ('not', 'ADV'), ('on', 'ADP'), ('his', 'PRON'), ('side', 'NOUN'), ('.', '.'), ('There', 'DET'), ('is', 'VERB'), ('also', 'ADV'), ('speculation', 'NOUN'), ('that', 'ADP'), ('Mr.', 'NOUN'), ('Newhouse', 'NOUN'), ('could', 'VERB'), ('bring', 'VERB'), ('in', 'ADP'), ('a', 'DET'), ('powerhouse', 'DET'), ('businessman', 'NOUN'), ('or', 'CONJ'), ('another', 'DET'), ('Newhouse', 'NOUN'), ('family', 'NOUN'), ('member', 'NOUN'), ('0', 'X'), ('*T*-1', 'X'), ('to', 'PRT'), ('run', 'VERB'), ('the', 'DET'), ('business', 'NOUN'), ('side', 'NOUN'), (',', '.'), ('in', 'ADP'), ('combination', 'NOUN'), ('with', 'ADP'), ('a', 'DET'), ('publishing', 'NOUN'), ('executive', 'NOUN'), ('like', 'ADP'), ('Robert', 'NOUN'), ('Gottlieb', 'DET'), (',', '.'), ('who', 'PRON'), ('*T*-38', 'X'), ('left', 'VERB'), ('Random', 'NOUN'), ('House', 'NOUN'), (\"'s\", 'PRT'), ('Alfred', 'NOUN'), ('A.', 'NOUN'), ('Knopf', 'NOUN'), ('*-2', 'X'), ('to', 'PRT'), ('run', 'VERB'), ('the', 'DET'), ('New', 'NOUN'), ('Yorker', 'DET'), (',', '.'), ('also', 'ADV'), ('owned', 'VERB'), ('*', 'X'), ('by', 'ADP'), ('the', 'DET'), ('Newhouse', 'NOUN'), ('family', 'NOUN'), ('.', '.'), ('On', 'ADP'), ('one', 'NUM'), ('side', 'NOUN'), ('of', 'ADP'), ('this', 'DET'), ('power', 'NOUN'), ('struggle', 'NOUN'), ('stand', 'VERB'), ('*T*-1', 'X'), ('the', 'DET'), ('forces', 'NOUN'), ('in', 'ADP'), ('ascendency', 'DET'), ('on', 'ADP'), ('Wall', 'NOUN'), ('Street', 'NOUN'), ('--', '.'), ('the', 'DET'), ('New', 'NOUN'), ('Guard', 'NOUN'), ('--', '.'), ('consisting', 'DET'), ('of', 'ADP'), ('high-tech', 'ADJ'), ('computer', 'NOUN'), ('wizards', 'DET'), ('at', 'ADP'), ('the', 'DET'), ('major', 'ADJ'), ('brokerage', 'NOUN'), ('firms', 'NOUN'), (',', '.'), ('their', 'PRON'), ('pension', 'NOUN'), ('fund', 'NOUN'), ('clients', 'NOUN'), ('with', 'ADP'), ('immense', 'DET'), ('pools', 'DET'), ('of', 'ADP'), ('money', 'NOUN'), (',', '.'), ('and', 'CONJ'), ('the', 'DET'), ('traders', 'NOUN'), ('at', 'ADP'), ('the', 'DET'), ('fast-growing', 'ADJ'), ('Chicago', 'NOUN'), ('futures', 'NOUN'), ('exchanges', 'NOUN'), ('.', '.'), ('The', 'DET'), ('rest', 'NOUN'), ('went', 'VERB'), ('to', 'PRT'), ('investors', 'NOUN'), ('from', 'ADP'), ('France', 'NOUN'), ('and', 'CONJ'), ('Hong', 'NOUN'), ('Kong', 'NOUN'), ('.', '.'), ('Biscayne', 'NOUN'), ('has', 'VERB'), (\"n't\", 'ADV'), ('any', 'DET'), ('telephone', 'NOUN'), ('listing', 'NOUN'), (',', '.'), ('an', 'DET'), ('operator', 'NOUN'), ('said', 'VERB'), ('0', 'X'), ('*T*-1', 'X'), ('.', '.'), ('NL', 'NOUN'), ('is', 'VERB'), ('officially', 'ADV'), ('making', 'VERB'), ('the', 'DET'), ('offer', 'NOUN'), ('.', '.'), ('The', 'DET'), ('latest', 'ADJ'), ('two', 'NUM'), ('funds', 'NOUN'), ('were', 'VERB'), ('assembled', 'VERB'), ('*-42', 'X'), ('jointly', 'ADV'), ('by', 'ADP'), ('Goldman', 'NOUN'), (',', '.'), ('Sachs', 'NOUN'), ('&', 'CONJ'), ('Co.', 'NOUN'), ('of', 'ADP'), ('the', 'DET'), ('U.S.', 'NOUN'), ('and', 'CONJ'), ('Japan', 'NOUN'), (\"'s\", 'PRT'), ('Daiwa', 'NOUN'), ('Securities', 'NOUN'), ('Co', 'NOUN'), ('.', '.'), ('The', 'DET'), ('new', 'ADJ'), ('ad', 'NOUN'), ('plan', 'NOUN'), ('from', 'ADP'), ('Newsweek', 'NOUN'), (',', '.'), ('a', 'DET'), ('unit', 'NOUN'), ('of', 'ADP'), ('the', 'DET'), ('Washington', 'NOUN'), ('Post', 'DET'), ('Co.', 'NOUN'), (',', '.'), ('is', 'VERB'), ('the', 'DET'), ('second', 'ADJ'), ('incentive', 'NOUN'), ('plan', 'NOUN'), ('0', 'X'), ('the', 'DET'), ('magazine', 'NOUN'), ('has', 'VERB'), ('offered', 'VERB'), ('advertisers', 'NOUN'), ('*T*-1', 'X'), ('in', 'ADP'), ('three', 'NUM'), ('years', 'NOUN'), ('.', '.'), ('China', 'NOUN'), ('was', 'VERB'), ('the', 'DET'), ('real', 'ADJ'), ('victim', 'NOUN'), ('and', 'CONJ'), ('it', 'PRON'), ('*EXP*-1', 'X'), ('is', 'VERB'), ('unjust', 'ADJ'), ('*', 'X'), ('to', 'PRT'), ('reprove', 'DET'), ('China', 'NOUN'), ('for', 'ADP'), ('it', 'PRON'), ('.', '.'), (\"''\", '.'), ('However', 'ADV'), (',', '.'), ('after', 'ADP'), ('two', 'NUM'), ('meetings', 'NOUN'), ('with', 'ADP'), ('the', 'DET'), ('Soviets', 'NOUN'), (',', '.'), ('a', 'DET'), ('State', 'NOUN'), ('Department', 'NOUN'), ('spokesman', 'NOUN'), ('said', 'VERB'), ('that', 'ADP'), ('it', 'PRON'), ('*EXP*-1', 'X'), (\"'s\", 'PRT'), ('``', '.'), ('too', 'ADV'), ('early', 'ADJ'), ('*', 'X'), ('to', 'PRT'), ('say', 'VERB'), (\"''\", '.'), ('whether', 'ADP'), ('that', 'DET'), ('will', 'VERB'), ('happen', 'VERB'), ('.', '.'), ('But', 'CONJ'), ('the', 'DET'), ('Soviets', 'NOUN'), ('might', 'VERB'), ('still', 'ADV'), ('face', 'VERB'), ('legal', 'ADJ'), ('obstacles', 'NOUN'), ('to', 'PRT'), ('*', 'X'), ('raising', 'VERB'), ('money', 'NOUN'), ('in', 'ADP'), ('the', 'DET'), ('U.S.', 'NOUN'), ('until', 'ADP'), ('they', 'PRON'), ('settle', 'VERB'), ('hundreds', 'NOUN'), ('of', 'ADP'), ('millions', 'NOUN'), ('of', 'ADP'), ('dollars', 'NOUN'), ('in', 'ADP'), ('additional', 'ADJ'), ('debt', 'NOUN'), ('still', 'ADV'), ('outstanding', 'ADJ'), ('from', 'ADP'), ('the', 'DET'), ('World', 'NOUN'), ('War', 'NOUN'), ('II', 'NOUN'), ('lend-lease', 'DET'), ('program', 'NOUN'), ('.', '.'), ('Mrs.', 'NOUN'), ('Ward', 'NOUN'), ('says', 'VERB'), ('0', 'X'), ('she', 'PRON'), ('often', 'ADV'), ('defended', 'VERB'), ('her', 'PRON'), ('to', 'PRT'), ('colleagues', 'NOUN'), ('who', 'PRON'), ('*T*-91', 'DET'), ('called', 'VERB'), ('her', 'PRON'), ('a', 'DET'), ('grandstander', 'DET'), ('.', '.'), ('``', '.'), ('The', 'DET'), ('sound', 'NOUN'), ('of', 'ADP'), ('bells', 'NOUN'), ('is', 'VERB'), ('a', 'DET'), ('net', 'ADJ'), ('0', 'X'), ('*T*-1', 'X'), ('to', 'PRT'), ('draw', 'VERB'), ('people', 'NOUN'), ('into', 'ADP'), ('the', 'DET'), ('church', 'NOUN'), (',', '.'), (\"''\", '.'), ('he', 'PRON'), ('says', 'VERB'), ('*T*-2', 'X'), ('.', '.'), ('They', 'PRON'), ('are', 'VERB'), ('our', 'PRON'), ('version', 'NOUN'), ('of', 'ADP'), ('the', 'DET'), ('East', 'NOUN'), ('bloc', 'DET'), (\"'s\", 'VERB'), ('Nomenklatura', 'DET'), ('and', 'CONJ'), ('they', 'PRON'), ('have', 'VERB'), ('absolutely', 'ADV'), ('no', 'DET'), ('wish', 'NOUN'), ('*', 'X'), ('to', 'PRT'), ('see', 'VERB'), ('anything', 'NOUN'), ('change', 'NOUN'), ('.', '.'), ('Copperweld', 'NOUN'), ('Corp.', 'NOUN'), (',', '.'), ('a', 'DET'), ('specialty', 'NOUN'), ('steelmaker', 'NOUN'), (',', '.'), ('said', 'VERB'), ('0', 'X'), ('445', 'DET'), ('workers', 'NOUN'), ('at', 'ADP'), ('a', 'DET'), ('plant', 'NOUN'), ('in', 'ADP'), ('Shelby', 'DET'), (',', '.'), ('Ohio', 'NOUN'), (',', '.'), ('began', 'VERB'), ('a', 'DET'), ('strike', 'NOUN'), ('after', 'ADP'), ('the', 'DET'), ('United', 'NOUN'), ('Steelworkers', 'DET'), ('Local', 'DET'), ('3057', 'DET'), ('rejected', 'VERB'), ('a', 'DET'), ('new', 'ADJ'), ('contract', 'NOUN'), ('on', 'ADP'), ('Tuesday', 'NOUN'), ('.', '.'), ('Despite', 'ADP'), ('the', 'DET'), ('economic', 'ADJ'), ('slowdown', 'NOUN'), (',', '.'), ('there', 'DET'), ('are', 'VERB'), ('few', 'ADJ'), ('clear', 'ADJ'), ('signs', 'NOUN'), ('that', 'ADP'), ('growth', 'NOUN'), ('is', 'VERB'), ('coming', 'VERB'), ('to', 'PRT'), ('a', 'DET'), ('halt', 'NOUN'), ('.', '.'), ('Speculation', 'NOUN'), ('had', 'VERB'), ('it', 'PRON'), ('that', 'ADP'), ('the', 'DET'), ('company', 'NOUN'), ('was', 'VERB'), ('asking', 'VERB'), ('$', '.'), ('100', 'NUM'), ('million', 'NUM'), ('*U*', 'X'), ('for', 'ADP'), ('an', 'DET'), ('operation', 'NOUN'), ('said', 'VERB'), ('*', 'X'), ('to', 'PRT'), ('be', 'VERB'), ('losing', 'VERB'), ('about', 'ADP'), ('$', '.'), ('20', 'NUM'), ('million', 'NUM'), ('*U*', 'X'), ('a', 'DET'), ('year', 'NOUN'), (',', '.'), ('but', 'CONJ'), ('others', 'NOUN'), ('said', 'VERB'), ('0', 'X'), ('Hearst', 'NOUN'), ('might', 'VERB'), ('have', 'VERB'), ('virtually', 'ADV'), ('given', 'VERB'), ('the', 'DET'), ('paper', 'NOUN'), ('away', 'ADV'), ('.', '.'), ('Mitsubishi', 'NOUN'), (\"'s\", 'PRT'), ('investment', 'NOUN'), ('in', 'ADP'), ('Free', 'NOUN'), ('State', 'NOUN'), ('is', 'VERB'), ('``', '.'), ('very', 'ADV'), ('small', 'ADJ'), ('...', '.'), ('less', 'ADV'), ('than', 'ADP'), ('$', '.'), ('4', 'NUM'), ('million', 'NUM'), ('*U*', 'X'), (',', '.'), (\"''\", '.'), ('Mr.', 'NOUN'), ('Wakui', 'NOUN'), ('says', 'VERB'), ('0', 'X'), ('*T*-1', 'X'), ('.', '.'), ('Yet', 'CONJ'), ('many', 'ADJ'), ('such', 'ADJ'), ('managers', 'NOUN'), ('consistently', 'ADV'), ('fail', 'VERB'), ('*-2', 'X'), ('to', 'PRT'), ('even', 'ADV'), ('keep', 'VERB'), ('up', 'ADV'), ('with', 'ADP'), ('*RNR*-1', 'X'), (',', '.'), ('much', 'ADV'), ('less', 'ADJ'), ('beat', 'VERB'), ('*RNR*-1', 'X'), (',', '.'), ('the', 'DET'), ('returns', 'NOUN'), ('of', 'ADP'), ('standard', 'ADJ'), ('benchmarks', 'DET'), ('like', 'ADP'), ('the', 'DET'), ('S&P', 'NOUN'), ('In', 'ADP'), ('Washington', 'NOUN'), (',', '.'), ('House', 'NOUN'), ('aides', 'NOUN'), ('said', 'VERB'), ('0', 'X'), ('Mr.', 'NOUN'), ('Phelan', 'NOUN'), ('told', 'VERB'), ('congressmen', 'NOUN'), ('that', 'ADP'), ('the', 'DET'), ('collar', 'NOUN'), (',', '.'), ('which', 'DET'), ('*T*-213', 'DET'), ('banned', 'VERB'), ('program', 'NOUN'), ('trades', 'NOUN'), ('through', 'ADP'), ('the', 'DET'), ('Big', 'NOUN'), ('Board', 'NOUN'), (\"'s\", 'PRT'), ('computer', 'NOUN'), ('when', 'ADV'), ('the', 'DET'), ('Dow', 'NOUN'), ('Jones', 'NOUN'), ('Industrial', 'NOUN'), ('Average', 'NOUN'), ('moved', 'VERB'), ('50', 'NUM'), ('points', 'NOUN'), ('*T*-1', 'X'), (',', '.'), ('did', 'VERB'), (\"n't\", 'ADV'), ('work', 'VERB'), ('well', 'ADV'), ('.', '.'), ('The', 'DET'), ('market', 'NOUN'), ('is', 'VERB'), ('just', 'ADV'), ('becoming', 'VERB'), ('more', 'ADV'), ('efficient', 'ADJ'), ('.', '.'), (\"''\", '.'), ('The', 'DET'), ('agreement', 'NOUN'), ('on', 'ADP'), ('Poland', 'NOUN'), ('contrasts', 'DET'), ('with', 'ADP'), ('the', 'DET'), ('major', 'ADJ'), ('differences', 'NOUN'), ('remaining', 'VERB'), ('over', 'ADP'), ('the', 'DET'), ('underlying', 'ADJ'), ('foreign', 'ADJ'), ('aid', 'NOUN'), ('bill', 'NOUN'), (',', '.'), ('which', 'DET'), ('*T*-9', 'X'), ('has', 'VERB'), ('already', 'ADV'), ('provoked', 'DET'), ('veto', 'NOUN'), ('threats', 'NOUN'), ('by', 'ADP'), ('the', 'DET'), ('White', 'NOUN'), ('House', 'NOUN'), ('and', 'CONJ'), ('is', 'VERB'), ('sharply', 'ADV'), ('confined', 'VERB'), ('under', 'ADP'), ('this', 'DET'), ('year', 'NOUN'), (\"'s\", 'PRT'), ('budget', 'NOUN'), ('.', '.'), ('Mr.', 'NOUN'), ('Rapanelli', 'NOUN'), ('recently', 'ADV'), ('has', 'VERB'), ('said', 'VERB'), ('0', 'X'), ('the', 'DET'), ('government', 'NOUN'), ('of', 'ADP'), ('President', 'NOUN'), ('Carlos', 'NOUN'), ('Menem', 'DET'), (',', '.'), ('who', 'PRON'), ('*T*-29', 'X'), ('took', 'VERB'), ('office', 'NOUN'), ('July', 'NOUN'), ('8', 'NUM'), (',', '.'), ('feels', 'DET'), ('0', 'X'), ('a', 'DET'), ('significant', 'ADJ'), ('reduction', 'NOUN'), ('of', 'ADP'), ('principal', 'NOUN'), ('and', 'CONJ'), ('interest', 'NOUN'), ('is', 'VERB'), ('the', 'DET'), ('only', 'ADJ'), ('way', 'NOUN'), ('0', 'X'), ('the', 'DET'), ('debt', 'NOUN'), ('problem', 'NOUN'), ('may', 'VERB'), ('be', 'VERB'), ('solved', 'VERB'), ('*-31', 'X'), ('*T*-1', 'X'), ('.', '.'), ('The', 'DET'), ('legislation', 'NOUN'), ('itself', 'PRON'), ('noted', 'VERB'), ('that', 'ADP'), ('it', 'PRON'), ('was', 'VERB'), ('introduced', 'VERB'), ('*-1', 'X'), ('``', '.'), ('by', 'ADP'), ('request', 'NOUN'), (',', '.'), (\"''\", '.'), ('and', 'CONJ'), ('in', 'ADP'), ('1983', 'NUM'), ('Mr.', 'NOUN'), ('Wilder', 'NOUN'), ('introduced', 'VERB'), ('a', 'DET'), ('bill', 'NOUN'), ('0', 'X'), ('*T*-2', 'X'), ('to', 'PRT'), ('protect', 'VERB'), ('rape', 'NOUN'), ('victims', 'NOUN'), ('from', 'ADP'), ('unfounded', 'DET'), ('interrogation', 'DET'), ('.', '.'), ('Among', 'ADP'), ('professionals', 'NOUN'), (',', '.'), ('76', 'DET'), ('%', 'NOUN'), ('have', 'VERB'), ('a', 'DET'), ('favorable', 'ADJ'), ('opinion', 'NOUN'), ('of', 'ADP'), ('her', 'PRON'), (',', '.'), ('compared', 'VERB'), ('to', 'PRT'), ('62', 'NUM'), ('%', 'NOUN'), ('who', 'PRON'), ('*T*-248', 'DET'), ('approve', 'VERB'), ('of', 'ADP'), ('her', 'PRON'), ('husband', 'NOUN'), (\"'s\", 'PRT'), ('performance', 'NOUN'), ('.', '.'), ('Besides', 'ADP'), ('*-1', 'X'), ('being', 'VERB'), ('a', 'DET'), ('``', '.'), ('minority-owned', 'DET'), ('company', 'NOUN'), (\"''\", '.'), ('Wedtech', 'NOUN'), ('was', 'VERB'), ('located', 'VERB'), ('*-1', 'X'), ('in', 'ADP'), ('the', 'DET'), ('South', 'NOUN'), ('Bronx', 'NOUN'), (',', '.'), ('a', 'DET'), ('blighted', 'DET'), ('area', 'NOUN'), (',', '.'), ('made', 'VERB'), ('*', 'X'), ('famous', 'DET'), ('by', 'ADP'), ('Jimmy', 'DET'), ('Carter', 'NOUN'), ('in', 'ADP'), ('his', 'PRON'), ('1976', 'NUM'), ('presidential', 'ADJ'), ('campaign', 'NOUN'), ('.', '.'), ('The', 'DET'), ('yield', 'NOUN'), ('fell', 'VERB'), ('to', 'PRT'), ('7.88', 'NUM'), ('%', 'NOUN'), ('.', '.'), ('Your', 'PRON'), ('research', 'NOUN'), ('stopped', 'VERB'), ('when', 'ADV'), ('a', 'DET'), ('convenient', 'ADJ'), ('assertion', 'NOUN'), ('could', 'VERB'), ('be', 'VERB'), ('made', 'VERB'), ('*-22', 'X'), ('*T*-1', 'X'), ('.', '.'), ('Each', 'DET'), ('$', '.'), ('5,000', 'NUM'), ('*U*', 'X'), ('bond', 'NOUN'), ('carries', 'VERB'), ('one', 'NUM'), ('warrant', 'NOUN'), (',', '.'), ('exercisable', 'ADJ'), ('from', 'ADP'), ('Nov.', 'NOUN'), ('30', 'NUM'), (',', '.'), ('1989', 'NUM'), (',', '.'), ('through', 'ADP'), ('Nov.', 'NOUN'), ('2', 'NUM'), (',', '.'), ('1993', 'NUM'), (',', '.'), ('0', 'X'), ('*', 'X'), ('to', 'PRT'), ('buy', 'VERB'), ('shares', 'NOUN'), ('at', 'ADP'), ('an', 'DET'), ('expected', 'VERB'), ('premium', 'NOUN'), ('of', 'ADP'), ('2', 'NUM'), ('1\\\\/2', 'NUM'), ('%', 'NOUN'), ('to', 'PRT'), ('the', 'DET'), ('closing', 'ADJ'), ('price', 'NOUN'), ('when', 'ADV'), ('terms', 'NOUN'), ('are', 'VERB'), ('fixed', 'VERB'), ('*-1', 'X'), ('Tuesday', 'NOUN'), ('*T*-2', 'X'), ('*T*-3', 'X'), ('.', '.'), ('Fees', 'NOUN'), ('1', 'NUM'), ('7\\\\/8', 'NUM'), ('.', '.'), ('An', 'DET'), ('Upjohn', 'NOUN'), ('spokesman', 'NOUN'), ('said', 'VERB'), ('0', 'X'), ('he', 'PRON'), ('had', 'VERB'), ('``', '.'), ('heard', 'VERB'), ('nothing', 'NOUN'), (\"''\", '.'), ('0', 'X'), ('*T*-3', 'X'), ('to', 'PRT'), ('suggest', 'VERB'), ('0', 'X'), ('the', 'DET'), ('early', 'ADJ'), ('retirement', 'NOUN'), ('package', 'NOUN'), ('was', 'VERB'), ('spurred', 'VERB'), ('*-1', 'X'), ('by', 'ADP'), ('shareholder', 'NOUN'), ('pressure', 'NOUN'), ('or', 'CONJ'), ('a', 'DET'), ('potential', 'ADJ'), ('bidder', 'DET'), ('for', 'ADP'), ('the', 'DET'), ('company', 'NOUN'), (',', '.'), ('which', 'DET'), ('*T*-2', 'X'), ('occasionally', 'ADV'), ('has', 'VERB'), ('been', 'VERB'), ('the', 'DET'), ('target', 'NOUN'), ('of', 'ADP'), ('takeover', 'NOUN'), ('speculation', 'NOUN'), ('.', '.')]\n"
     ]
    }
   ],
   "source": [
    "print(\"Time taken in seconds: \", difference)\n",
    "print(test_tagged_seq)"
   ]
  },
  {
   "cell_type": "code",
   "execution_count": 27,
   "metadata": {},
   "outputs": [
    {
     "name": "stdout",
     "output_type": "stream",
     "text": [
      "The accuracy of the Vanilla Viterbi Algorithm is : 0.906221325013764\n"
     ]
    }
   ],
   "source": [
    "# accuracy of the vanilla viterbi algorithm\n",
    "\n",
    "check = [i for i, j in zip(test_tagged_seq, tagged_words) if i == j]\n",
    "\n",
    "vanilla_viterbi_accuracy = len(check)/len(test_tagged_seq)\n",
    "\n",
    "print(\"The accuracy of the Vanilla Viterbi Algorithm is :\", vanilla_viterbi_accuracy)"
   ]
  },
  {
   "cell_type": "code",
   "execution_count": 28,
   "metadata": {},
   "outputs": [
    {
     "name": "stdout",
     "output_type": "stream",
     "text": [
      "511\n"
     ]
    }
   ],
   "source": [
    "# understand the incorrect tagged cases\n",
    "\n",
    "incorrect_tagged_cases = [[tagged_words[i-1],j] for i, j in enumerate(zip(test_tagged_seq, tagged_words)) if j[0]!=j[1]]\n",
    "print(len(incorrect_tagged_cases))\n",
    "#incorrect_tagged_cases"
   ]
  },
  {
   "cell_type": "markdown",
   "metadata": {},
   "source": [
    "####  Unknows words\n"
   ]
  },
  {
   "cell_type": "code",
   "execution_count": 29,
   "metadata": {},
   "outputs": [
    {
     "name": "stdout",
     "output_type": "stream",
     "text": [
      "Total Unknown words : 359\n",
      "\n",
      "\n",
      "Unknown Words : ['interrogation', 'Saturday', '94.2', 'Rouge', 'wield', '*T*-236', 'desktop', '0.54', 'W.N.', 'cost-benefit', 'READY', 'feels', '2.25', '14.54', 'Gottlieb', 'mininum-wage', 'proviso', 'felonies', 'contrasts', 'Georgetown', 'takeover-stock', 'aftereffects', 'Proponents', 'benchmarks', 'C.J.B.', 'AMR', 'minority-owned', 'five-day', 'cardiovascular', 'hung', '*-130', 'TRUST', 'Baton', '15-day', 'Colleges', 'Brent', 'Russo', 'chest', 'properties', 'inhibit', 'chase', 'objectionable', 'loathsome', 'eight-month', 'Rita', 'Bhutto', 'ugly', 'subjecting', '1,620', 'unload', '*-138', 'bled', 'self-regulatory', 'exceeds', 'Donoghue', 'Runkel', '*T*-202', 'Mifflin', 'entangled', 'Utah', 'egregious', 'tire-kickers', 'famous', 'Probably', '1991-1999', 'particulars', 'unlikely', 'Orleans-based', '*T*-221', 'logistical', '*T*-121', 'partisan', 'A-D', 'bidder', 'Cross', 'Harcourt', 'Behind', 'hypothetical', 'superiors', 'ventilated', '340,000', 'life-of-contract', 'Against', 'trimmed', '83', 'LYNCH', 'offense', 'hoopla', 'resisting', 'Latin', 'assaults', 'Jaffray', 'Sandberg', 'Piper', 'Mrs', 'superimposed', 'unlabeled', 'consisting', 'Lobsenz', 'Gerhard', 'Spending', '*T*-117', 'ASSETS', 'Steelworkers', 'Lord', 'bickering', 'Local', '2.375', 'reward', 'nail', 'Budget', 'circuit-board', 'employers', 'stock-price', 'Jovanovich', 'shore', 'Sanford', 'altar', 'Given', 'lackluster', 'Karl', 'breathe', '501', 'middle-ground', 'presumes', 'formula', 'Division', '5.39', 'classifications', '19.50', 'Aurora', 'lend-lease', 'unpopularity', '250,000', 'propelling', 'dust', 'Midvale', 'Brace', 'Virginians', 'yet-to-be-formed', 'Nomenklatura', 'stream', 'equals', 'participant', 'teaches', '31-year-old', '1940s', 'clothing', 'tooth', 'lookee-loos', 'dismay', '1,050,000', 'miscarriages', 'pine', 'disappear', 'Meinders', 'insider-trading', 'Unable', '1901', 'no-confidence', 'settlements', 'Eagleton', 'achievement-test', 'Nomura', 'immense', 'characterized', 'plea', 'nurtured', 'Brisk', '*T*-177', 'Denver', 'track', '57.7', '*T*-248', 'Pitcher', 'Garret', 'Menem', 'Antitrust', 'Clays', 'disciplined', 'Pardus', 'betting', 'copied', 'Scowcroft', 'astonishment', 'ceramic', 'expense', 'waivers', 'arbitragers', '0.7', 'Pace', 'materialized', 'heavy-duty', 'Educational', 'bloc', '2,000', '374.19', 'storm', 'inflated', '11-month-old', 'technologies', 'developer', 'Jimmy', 'context', 'conflict', 'sickness', 'comfortably', 'leaky', 'enjoy', 'gambler', 'sewer', 'high-balance', 'La.', 'Eric', 'Five', 'Wamre', 'staff-reduction', 'mount', '63-year-old', 'Prior', 'Hayne', 'pediatrician', 'Washington-based', 'grandstander', 'worsening', 'Irving', 'centimeter', 'liberty', 'direct-investment', '5.29', '11,390,000', 'triple', 'defeated', 'Carson', 'playwright', 'unfounded', 'tip', 'entrenched', '292.32', 'Pakistan', '14.26', 'luck', 'Rusty', '14.28', 'pools', 'Rae', 'eyeing', 'onus', 'wizards', 'ascendency', 'containers', 'elimination', 'Filling', 'sheaf', '42-year', 'Marchese', 'Orville', 'McCabe', 'oils', 'Metropolitan', 'Hasbrouk', 'Monchecourt', 'Suisse', 'Clinton', 'Bridgeville', 'hormone', 'blackjack', 'gauges', 'upturn', 'Yorker', 'Jackson', 'hospital', 'painted', 'reins', '*T*-91', '2.29', 'Brian', 'Intermec', 'charging', 'generation', 'Calif.-based', 'stairs', 'Kirkpatrick', 'modification', 'N.', 'agreeing', 'Publishers', 'Coconut', '90-day', 'couples', 'nonresidential', 'provoked', 'Instruments', '*T*-89', 'diethylstilbestrol', 'clearer', 'Office', 'Exports', 'unproven', 'Monticello', 'disposed', 'herald', 'Shelby', '3057', 'amps', 'Chilver', 'powerhouse', 'malnutrition', '325,000', '86', '99.1', 'budding', 'Hale', 'Westborough', '*T*-213', 'caustic', 'Cole', 'tricky', 'Getting', 'Merrick', 'open-top', 'Post', 'Hopwood', 'overpaying', 'lengthened', 'Short', 'Earlham', '76', 'grower', 'Houghton', 'manufacture', '8.64', 'blighted', '445', 'generations', 'Rekindled', 'stabbed', 'longest', 'halls', 'infectious', 'directionless', 'restraints', 'warn', 'severance', 'staying', 'History', '263.07', '6,000', 'one-week', 'clouds', 'thanks', 'counting', 'Leroy', 'Lighthouse', 'exchanging', 'reprove', 'MERRILL', 'Grant', 'explosive']\n"
     ]
    }
   ],
   "source": [
    "# Unknown words \n",
    "\n",
    "test_vocab_set = set([t for t in test_tagged_words])\n",
    "\n",
    "unknown_words = list(test_vocab_set - training_vocabulary_set)\n",
    "print(\"Total Unknown words :\", len(unknown_words))\n",
    "print(\"\\n\")\n",
    "print(\"Unknown Words :\", unknown_words)"
   ]
  },
  {
   "cell_type": "markdown",
   "metadata": {},
   "source": [
    "### Solve the problem of unknown words"
   ]
  },
  {
   "cell_type": "markdown",
   "metadata": {},
   "source": [
    "#### Method 1 "
   ]
  },
  {
   "cell_type": "markdown",
   "metadata": {},
   "source": [
    "Method 1\n",
    "The default Vanilla viterbi algorithm achieved an accuracy of about 94.14%. This approx. 5.86% loss of accuracy was majorly due to the fact that when the algorithm encountered an unknown word (i.e. not present in the training set), it assigned an incorrect tag arbitrarily. This is because, for unknown words, the emission probabilities for all candidate tags are 0, so the algorithm arbitrarily chooses (the first) tag.\n",
    "\n",
    "Now lets see how we can minimize this loss by modifying the vanilla viterbi.\n",
    "\n",
    "If a word is not present in the training vocabulary (unknown word), its emission probability will be ZERO. In that case the state probability will inturn be zero. Thus in cases where the algorithm encounters a word which it has not see previously, we can omit the emission probability and only consider the transition probability.\n",
    "\n",
    "The algorithm can be modified to deal the case as below -\n",
    "\n",
    "If word in unknown then\n",
    "\n",
    "consider only the transition_p (emission probability being 0)\n",
    "\n",
    "else\n",
    "\n",
    "consider both the emission and transition probability."
   ]
  },
  {
   "cell_type": "code",
   "execution_count": 30,
   "metadata": {},
   "outputs": [],
   "source": [
    "# Modified Viterbi Heuristic for Unknown words\n",
    "def Unknown_Words_With_Vanilla_Viterbi(words, training_bag = training_tagged_words):\n",
    "    state = []\n",
    "    #T = list(set([pair[1] for pair in train_bag]))\n",
    "    T = list(set(get_tuple_value_from_list(training_bag, 1)))\n",
    "    \n",
    "    for key, word in enumerate(words):\n",
    "        p = [] \n",
    "        for tag in T:\n",
    "            if key == 0:\n",
    "                transition_p = df_tags.loc['.', tag]\n",
    "            else:\n",
    "                transition_p = df_tags.loc[state[-1], tag]\n",
    "                \n",
    "            # compute emission and state probabilities\n",
    "            emission_p = emission_probability_word_given_tag(words[key], tag)[0]/emission_probability_word_given_tag(words[key], tag)[1]\n",
    "            \n",
    "            # modification to the original vanilla viterbi algorithm \n",
    "            # to consider unknown words\n",
    "            if word not in training_vocabulary_set:\n",
    "                state_probability = transition_p\n",
    "            else:\n",
    "                state_probability = emission_p * transition_p\n",
    "                \n",
    "            p.append(state_probability)\n",
    "            \n",
    "        pmax = max(p)\n",
    "        # getting state for which probability is maximum\n",
    "        state_max = T[p.index(pmax)] \n",
    "        state.append(state_max)\n",
    "    return list(zip(words, state))"
   ]
  },
  {
   "cell_type": "code",
   "execution_count": 31,
   "metadata": {},
   "outputs": [],
   "source": [
    "# tagging the test sentences\n",
    "start = time.time()\n",
    "unknown_word_test_tagged_seq = Unknown_Words_With_Vanilla_Viterbi(test_tagged_words)\n",
    "\n",
    "# accuracy\n",
    "test_unknown_word_check = [i for i, j in zip(unknown_word_test_tagged_seq, tagged_words) if i == j]\n",
    "\n",
    "optimized_viterbi_accuracy = len(test_unknown_word_check)/len(unknown_word_test_tagged_seq)\n",
    "\n",
    "end = time.time()\n",
    "difference = end-start"
   ]
  },
  {
   "cell_type": "code",
   "execution_count": 32,
   "metadata": {},
   "outputs": [
    {
     "name": "stdout",
     "output_type": "stream",
     "text": [
      "Time taken in seconds:  1282.589856147766\n",
      "The accuracy of the Vanilla Viterbi Algorithm after modification to handle unknown words is: 0.9412736281886585\n"
     ]
    }
   ],
   "source": [
    "print(\"Time taken in seconds: \", difference)\n",
    "print(\"The accuracy of the Vanilla Viterbi Algorithm after modification to handle unknown words is:\", optimized_viterbi_accuracy)"
   ]
  },
  {
   "cell_type": "markdown",
   "metadata": {},
   "source": [
    "The accuracy of the Vanilla Viterbi Algorithm after modification to handle unknown words is: 0.9377224199288257\n",
    "We see the modified viterbi algorithm performs better than the original vanilla viterbi algorithm. The modified viterbi achieves an accuracy of (approx.) 94 comapred to 94% of the vanilla viterbi.\n",
    "\n",
    "Still there is a loss of approx. 6%.\n",
    "\n",
    "Now lets see if we can in reduce this loss further.\n",
    "\n",
    "Let's try with some Lexicon and Rule-Based Models for POS Tagging.\n",
    "Unigram Tagger"
   ]
  },
  {
   "cell_type": "code",
   "execution_count": 33,
   "metadata": {},
   "outputs": [
    {
     "name": "stdout",
     "output_type": "stream",
     "text": [
      "Unigram Tagger Accuracy:  0.9054872453661222\n"
     ]
    }
   ],
   "source": [
    "# Unigram Tagger\n",
    "\n",
    "unigram_tagger = nltk.UnigramTagger(train_set)\n",
    "unigram_tagger_accuracy = unigram_tagger.evaluate(test_set)\n",
    "print(\"Unigram Tagger Accuracy: \", unigram_tagger_accuracy)"
   ]
  },
  {
   "cell_type": "markdown",
   "metadata": {},
   "source": [
    "Let's now try combining the unigram tagger with a rule based regex tagger."
   ]
  },
  {
   "cell_type": "code",
   "execution_count": 34,
   "metadata": {},
   "outputs": [],
   "source": [
    "# rule based regex tagger\n",
    "\n",
    "patterns = [\n",
    "    (r'^[aA-zZ].*[0-9]+','NOUN'),  # Alpha Numeric\n",
    "    (r'.*ness$', 'NOUN'),\n",
    "    (r'.*\\'s$', 'NOUN'),              # possessive nouns\n",
    "    (r'.*s$', 'NOUN'),                # plural nouns\n",
    "    (r'.*', 'NOUN'),    \n",
    "    (r'.*ly$', 'ADV'),\n",
    "    (r'^(0|([*|-|$].*))','X'), # Any special character combination\n",
    "    (r'.*ould$', 'X'), # modals\n",
    "    (r'(The|the|A|a|An|an)$', 'DET'),\n",
    "    (r'^([0-9]|[aA-zZ])+\\-[aA-zZ]*$','ADJ'),\n",
    "    (r'.*able$', 'ADJ'), # adjective like 100-megabytes 237-Seats\n",
    "    (r'[aA-zZ]+(ed|ing|es)$', 'VERB'), # Any word ending with 'ing' or 'ed' is a verb\n",
    "    (r'[0-9].?[,\\/]?[0-9]*','NUM')# Numbers \n",
    "    ]"
   ]
  },
  {
   "cell_type": "code",
   "execution_count": 35,
   "metadata": {},
   "outputs": [],
   "source": [
    "# rule based RegexpTagger\n",
    "\n",
    "rule_based_tagger = nltk.RegexpTagger(patterns)\n",
    "\n",
    "# unigram tagger backed up by the rule-based tagger\n",
    "rule_based_unigram_tagger = nltk.UnigramTagger(train_set, backoff = rule_based_tagger)\n",
    "\n",
    "accuracy_rule_based_unigram_tagger = rule_based_unigram_tagger.evaluate(test_set)"
   ]
  },
  {
   "cell_type": "code",
   "execution_count": 36,
   "metadata": {},
   "outputs": [
    {
     "name": "stdout",
     "output_type": "stream",
     "text": [
      "Unigram Tagger Accuracy backed up by the RegexpTagger: 0.9418241879243898\n"
     ]
    }
   ],
   "source": [
    "print(\"Unigram Tagger Accuracy backed up by the RegexpTagger:\", accuracy_rule_based_unigram_tagger)"
   ]
  },
  {
   "cell_type": "code",
   "execution_count": 37,
   "metadata": {},
   "outputs": [],
   "source": [
    "# Bigram tagger\n",
    "\n",
    "bigram_tagger = nltk.BigramTagger(train_set, backoff = rule_based_unigram_tagger)\n",
    "bigram_tagger.evaluate(test_set)\n",
    "accuracy_bigram_tagger = bigram_tagger.evaluate(test_set)"
   ]
  },
  {
   "cell_type": "code",
   "execution_count": 38,
   "metadata": {},
   "outputs": [
    {
     "name": "stdout",
     "output_type": "stream",
     "text": [
      "Bigram Tagger Accuracy backed up by the rule based unigram tagger: 0.9440264268673151\n"
     ]
    }
   ],
   "source": [
    "print(\"Bigram Tagger Accuracy backed up by the rule based unigram tagger:\", accuracy_bigram_tagger)"
   ]
  },
  {
   "cell_type": "code",
   "execution_count": 39,
   "metadata": {},
   "outputs": [],
   "source": [
    "# trigram tagger\n",
    "\n",
    "trigram_tagger = nltk.TrigramTagger(train_set, backoff = bigram_tagger)\n",
    "trigram_tagger.evaluate(test_set)\n",
    "accuracy_trigram_tagger = trigram_tagger.evaluate(test_set)"
   ]
  },
  {
   "cell_type": "code",
   "execution_count": 40,
   "metadata": {},
   "outputs": [
    {
     "name": "stdout",
     "output_type": "stream",
     "text": [
      "Trigram Tagger accuracy backed up by the bigram tagger: 0.9445769866030465\n"
     ]
    }
   ],
   "source": [
    "print(\"Trigram Tagger accuracy backed up by the bigram tagger:\", accuracy_trigram_tagger)"
   ]
  },
  {
   "cell_type": "markdown",
   "metadata": {},
   "source": [
    "##### Method 2\n",
    "We see that the Trigram Tagger backed up by the bigram tagger gives an accuracy of about 94.6%. Let's now try to modify the viterbi algorithm to use this trigram tagger as a back-off.\n",
    "\n",
    "When the viterbi algorithm is not able to tag an unknown word, it uses the rule-based tagger."
   ]
  },
  {
   "cell_type": "code",
   "execution_count": 41,
   "metadata": {},
   "outputs": [],
   "source": [
    "\n",
    "def trigram_tagger(word, train_set = train_set):\n",
    "    \n",
    "    patterns = [\n",
    "    (r'[aA-zZ]+(ed|ing|es)$', 'VERB'), # Any word ending with 'ing' or 'ed' is a verb\n",
    "\n",
    "    (r'.*ly$', 'ADV'),\n",
    "        \n",
    "    (r'^([0-9]|[aA-zZ])+\\-[aA-zZ]*$','ADJ'),\n",
    "    (r'.*able$', 'ADJ'), \n",
    "    (r'.*ful$', 'ADJ'),\n",
    "    (r'.*ous$', 'ADJ'),\n",
    "        \n",
    "    (r'^[aA-zZ].*[0-9]+','NOUN'),     # Alpha Numeric\n",
    "    (r'.*ness$', 'NOUN'),\n",
    "    (r'.*\\'s$', 'NOUN'),              # possessive nouns - words ending with 's\n",
    "    (r'.*s$', 'NOUN'),                # plural nouns\n",
    "    (r'.*ers$', 'NOUN'),              # eg.- kinderganteners, autobioghapgers\n",
    "    (r'.*ment$', 'NOUN'),\n",
    "    (r'.*town$', 'NOUN'),\n",
    "        \n",
    "    (r'^(0|([*|-|$].*))','X'), # Any special character combination\n",
    "    (r'.*ould$', 'X'),\n",
    "        \n",
    "    (r'(The|the|A|a|An|an|That|that|This|this|Those|those|These|these)$', 'DET'), # That/this/these/those belong to the category of Demonstrative determiners\n",
    "    (r'[0-9].?[,\\/]?[0-9]*','NUM'), # Numbers \n",
    "        \n",
    "    (r'.*', 'NOUN')\n",
    "    ]\n",
    "\n",
    "    regex_based_tagger = nltk.RegexpTagger(patterns)\n",
    "\n",
    "    # trigram backed up by the regex tagger\n",
    "    trigram_regex_tagger = nltk.TrigramTagger(train_set, backoff = regex_based_tagger)\n",
    "    return trigram_regex_tagger.tag_sents([[(word)]])"
   ]
  },
  {
   "cell_type": "code",
   "execution_count": 42,
   "metadata": {},
   "outputs": [],
   "source": [
    "def viterbi_backedup_by_trigram_tagger(words, training_bag = training_tagged_words):\n",
    "    state = []\n",
    "    tag_set = list(set(get_tuple_value_from_list(training_bag, 1))) #list(set([pair[1] for pair in training_bag]))\n",
    "    \n",
    "    # unknown words with trigram tagger backed up by the rule based tagger\n",
    "\n",
    "    for key, word in enumerate(words):\n",
    "        if word not in training_vocabulary_set:\n",
    "            unknown_word_tag = trigram_tagger(word)\n",
    "            for sent in unknown_word_tag:\n",
    "                for tup in sent:\n",
    "                    state.append(tup[1])\n",
    "        else:            \n",
    "            p = [] \n",
    "            for tag in tag_set:\n",
    "                if key == 0:\n",
    "                    transition_p = df_tags.loc['.', tag]\n",
    "                else:\n",
    "                    transition_p = df_tags.loc[state[-1], tag]\n",
    "                \n",
    "            # compute emission and state probabilities\n",
    "                emission_p = emission_probability_word_given_tag(words[key], tag)[0]/emission_probability_word_given_tag(words[key], tag)[1]\n",
    "                state_probability = emission_p * transition_p    \n",
    "                p.append(state_probability)\n",
    "            \n",
    "            pmax = max(p)\n",
    "            # getting state for which probability is maximum\n",
    "            state_max = tag_set[p.index(pmax)] \n",
    "            state.append(state_max)\n",
    "    return list(zip(words, state))"
   ]
  },
  {
   "cell_type": "markdown",
   "metadata": {},
   "source": [
    "#### Evaluating tagging accuracy"
   ]
  },
  {
   "cell_type": "code",
   "execution_count": 43,
   "metadata": {},
   "outputs": [],
   "source": [
    "# tagging the test sentences\n",
    "viterbi_trigram_tagged_seq = viterbi_backedup_by_trigram_tagger(test_tagged_words)\n",
    "\n",
    "# accuracy\n",
    "viterbi_trigram_word_check = [i for i, j in zip(viterbi_trigram_tagged_seq, tagged_words) if i == j]\n",
    "\n",
    "viterbi_trigram_accuracy = len(viterbi_trigram_word_check)/len(viterbi_trigram_tagged_seq)"
   ]
  },
  {
   "cell_type": "code",
   "execution_count": 44,
   "metadata": {},
   "outputs": [
    {
     "name": "stdout",
     "output_type": "stream",
     "text": [
      "viterbi backed up by trigram tagger accuracy: 0.9594420994677922\n"
     ]
    }
   ],
   "source": [
    "print(\"viterbi backed up by trigram tagger accuracy:\", viterbi_trigram_accuracy)"
   ]
  },
  {
   "cell_type": "markdown",
   "metadata": {},
   "source": [
    "#### Compare the tagging accuracies of the modifications with the vanilla Viterbi algorithm\n",
    "##### 1. First lets check the tagging accuracy on the test_set data generated using the test_train_split"
   ]
  },
  {
   "cell_type": "code",
   "execution_count": 45,
   "metadata": {},
   "outputs": [
    {
     "data": {
      "text/html": [
       "<div>\n",
       "<style scoped>\n",
       "    .dataframe tbody tr th:only-of-type {\n",
       "        vertical-align: middle;\n",
       "    }\n",
       "\n",
       "    .dataframe tbody tr th {\n",
       "        vertical-align: top;\n",
       "    }\n",
       "\n",
       "    .dataframe thead th {\n",
       "        text-align: right;\n",
       "    }\n",
       "</style>\n",
       "<table border=\"1\" class=\"dataframe\">\n",
       "  <thead>\n",
       "    <tr style=\"text-align: right;\">\n",
       "      <th></th>\n",
       "      <th>Tagging_Accuracy</th>\n",
       "    </tr>\n",
       "    <tr>\n",
       "      <th>Tagging_Algorithm</th>\n",
       "      <th></th>\n",
       "    </tr>\n",
       "  </thead>\n",
       "  <tbody>\n",
       "    <tr>\n",
       "      <td>Vanilla Viterbi</td>\n",
       "      <td>90.622133</td>\n",
       "    </tr>\n",
       "    <tr>\n",
       "      <td>Optimized Vanilla Viterbi</td>\n",
       "      <td>94.127363</td>\n",
       "    </tr>\n",
       "    <tr>\n",
       "      <td>Unigram Tagger</td>\n",
       "      <td>90.548725</td>\n",
       "    </tr>\n",
       "    <tr>\n",
       "      <td>Unigram + RegexpTagger</td>\n",
       "      <td>94.182419</td>\n",
       "    </tr>\n",
       "    <tr>\n",
       "      <td>Bigram Tagger + Unigram_tagger</td>\n",
       "      <td>94.402643</td>\n",
       "    </tr>\n",
       "    <tr>\n",
       "      <td>Trigram Tagger + Bigram_tagger</td>\n",
       "      <td>94.457699</td>\n",
       "    </tr>\n",
       "    <tr>\n",
       "      <td>Viterbi + Trigram_tagger</td>\n",
       "      <td>95.944210</td>\n",
       "    </tr>\n",
       "  </tbody>\n",
       "</table>\n",
       "</div>"
      ],
      "text/plain": [
       "                                Tagging_Accuracy\n",
       "Tagging_Algorithm                               \n",
       "Vanilla Viterbi                        90.622133\n",
       "Optimized Vanilla Viterbi              94.127363\n",
       "Unigram Tagger                         90.548725\n",
       "Unigram + RegexpTagger                 94.182419\n",
       "Bigram Tagger + Unigram_tagger         94.402643\n",
       "Trigram Tagger + Bigram_tagger         94.457699\n",
       "Viterbi + Trigram_tagger               95.944210"
      ]
     },
     "execution_count": 45,
     "metadata": {},
     "output_type": "execute_result"
    }
   ],
   "source": [
    "acccuracy_data = [['Vanilla Viterbi', vanilla_viterbi_accuracy*100], \n",
    "                  ['Optimized Vanilla Viterbi', optimized_viterbi_accuracy*100], \n",
    "                  ['Unigram Tagger', unigram_tagger_accuracy*100],\n",
    "                  ['Unigram + RegexpTagger', accuracy_rule_based_unigram_tagger*100],\n",
    "                  ['Bigram Tagger + Unigram_tagger', accuracy_bigram_tagger*100],\n",
    "                  ['Trigram Tagger + Bigram_tagger', accuracy_trigram_tagger*100],\n",
    "                  ['Viterbi + Trigram_tagger', viterbi_trigram_accuracy*100]]\n",
    "\n",
    "df_data_acccuracy = pd.DataFrame(acccuracy_data, columns = ['Tagging_Algorithm', 'Tagging_Accuracy'])\n",
    "\n",
    "df_data_acccuracy.set_index('Tagging_Algorithm', drop = True, inplace = True)\n",
    "\n",
    "df_data_acccuracy"
   ]
  },
  {
   "cell_type": "code",
   "execution_count": 46,
   "metadata": {},
   "outputs": [
    {
     "data": {
      "text/plain": [
       "<matplotlib.axes._subplots.AxesSubplot at 0x1f8907ab308>"
      ]
     },
     "execution_count": 46,
     "metadata": {},
     "output_type": "execute_result"
    },
    {
     "data": {
      "image/png": "[encoded data removed]",
      "text/plain": [
       "<Figure size 432x288 with 1 Axes>"
      ]
     },
     "metadata": {
      "needs_background": "light"
     },
     "output_type": "display_data"
    }
   ],
   "source": [
    "df_data_acccuracy.plot.line(rot = 90, legend = False)"
   ]
  },
  {
   "cell_type": "markdown",
   "metadata": {},
   "source": [
    "#### 2. Next, lets check the tagging accuracies for the algorithm on the sample test sentences provided -"
   ]
  },
  {
   "cell_type": "code",
   "execution_count": 59,
   "metadata": {},
   "outputs": [],
   "source": [
    "test_sentences = ['Android is a mobile operating system developed by Google.',\n",
    "\"Android has been the best-selling OS worldwide on smartphones since 2011 and on tablets since 2013.\",\n",
    "\"Google and Twitter made a deal in 2015 that gave Google access to Twitter's firehose.\",\n",
    "\"Twitter is an online news and social networking service on which users post and interact with messages known as tweets.\",\n",
    "\"Before entering politics, Donald Trump was a domineering businessman and a television personality.\",\n",
    "\"The 2018 FIFA World Cup is the 21st FIFA World Cup, an international football tournament contested once every four years.\",\n",
    "\"This is the first World Cup to be held in Eastern Europe and the 11th time that it has been held in Europe.\",\n",
    "\"Show me the cheapest round trips from Dallas to Atlanta\",\n",
    "\"I would like to see flights from Denver to Philadelphia.\",\n",
    "\"Show me the price of the flights leaving Atlanta at about 3 in the afternoon and arriving in San Francisco.\",\n",
    "\"NASA invited social media users to experience the launch of ICESAT-2 Satellite.\"]"
   ]
  },
  {
   "cell_type": "code",
   "execution_count": 60,
   "metadata": {},
   "outputs": [
    {
     "data": {
      "text/plain": [
       "[[('Android', 'NOUN'),\n",
       "  ('is', 'VERB'),\n",
       "  ('a', 'DET'),\n",
       "  ('mobile', 'ADJ'),\n",
       "  ('operating', 'NOUN'),\n",
       "  ('system', 'NOUN'),\n",
       "  ('developed', 'VERB'),\n",
       "  ('by', 'ADP'),\n",
       "  ('Google', 'NOUN'),\n",
       "  ('.', '.')],\n",
       " [('Android', 'NOUN'),\n",
       "  ('has', 'VERB'),\n",
       "  ('been', 'VERB'),\n",
       "  ('the', 'DET'),\n",
       "  ('best-selling', 'ADJ'),\n",
       "  ('OS', 'NOUN'),\n",
       "  ('worldwide', 'NOUN'),\n",
       "  ('on', 'ADP'),\n",
       "  ('smartphones', 'NOUN'),\n",
       "  ('since', 'ADP'),\n",
       "  ('2011', 'NUM'),\n",
       "  ('and', 'CONJ'),\n",
       "  ('on', 'ADP'),\n",
       "  ('tablets', 'NOUN'),\n",
       "  ('since', 'ADP'),\n",
       "  ('2013', 'NUM'),\n",
       "  ('.', '.')],\n",
       " [('Google', 'NOUN'),\n",
       "  ('and', 'CONJ'),\n",
       "  ('Twitter', 'NOUN'),\n",
       "  ('made', 'VERB'),\n",
       "  ('a', 'DET'),\n",
       "  ('deal', 'NOUN'),\n",
       "  ('in', 'ADP'),\n",
       "  ('2015', 'NUM'),\n",
       "  ('that', 'DET'),\n",
       "  ('gave', 'VERB'),\n",
       "  ('Google', 'NOUN'),\n",
       "  ('access', 'NOUN'),\n",
       "  ('to', 'PRT'),\n",
       "  ('Twitter', 'NOUN'),\n",
       "  (\"'s\", 'PRT'),\n",
       "  ('firehose', 'NOUN'),\n",
       "  ('.', '.')],\n",
       " [('Twitter', 'NOUN'),\n",
       "  ('is', 'VERB'),\n",
       "  ('an', 'DET'),\n",
       "  ('online', 'ADJ'),\n",
       "  ('news', 'NOUN'),\n",
       "  ('and', 'CONJ'),\n",
       "  ('social', 'ADJ'),\n",
       "  ('networking', 'NOUN'),\n",
       "  ('service', 'NOUN'),\n",
       "  ('on', 'ADP'),\n",
       "  ('which', 'DET'),\n",
       "  ('users', 'NOUN'),\n",
       "  ('post', 'NOUN'),\n",
       "  ('and', 'CONJ'),\n",
       "  ('interact', 'NOUN'),\n",
       "  ('with', 'ADP'),\n",
       "  ('messages', 'NOUN'),\n",
       "  ('known', 'VERB'),\n",
       "  ('as', 'ADP'),\n",
       "  ('tweets', 'NOUN'),\n",
       "  ('.', '.')],\n",
       " [('Before', 'ADP'),\n",
       "  ('entering', 'VERB'),\n",
       "  ('politics', 'NOUN'),\n",
       "  (',', '.'),\n",
       "  ('Donald', 'NOUN'),\n",
       "  ('Trump', 'NOUN'),\n",
       "  ('was', 'VERB'),\n",
       "  ('a', 'DET'),\n",
       "  ('domineering', 'ADJ'),\n",
       "  ('businessman', 'NOUN'),\n",
       "  ('and', 'CONJ'),\n",
       "  ('a', 'DET'),\n",
       "  ('television', 'NOUN'),\n",
       "  ('personality', 'NOUN'),\n",
       "  ('.', '.')],\n",
       " [('The', 'DET'),\n",
       "  ('2018', 'NUM'),\n",
       "  ('FIFA', 'NOUN'),\n",
       "  ('World', 'NOUN'),\n",
       "  ('Cup', 'NOUN'),\n",
       "  ('is', 'VERB'),\n",
       "  ('the', 'DET'),\n",
       "  ('21st', 'NUM'),\n",
       "  ('FIFA', 'NOUN'),\n",
       "  ('World', 'NOUN'),\n",
       "  ('Cup', 'NOUN'),\n",
       "  (',', '.'),\n",
       "  ('an', 'DET'),\n",
       "  ('international', 'ADJ'),\n",
       "  ('football', 'NOUN'),\n",
       "  ('tournament', 'NOUN'),\n",
       "  ('contested', 'VERB'),\n",
       "  ('once', 'ADV'),\n",
       "  ('every', 'DET'),\n",
       "  ('four', 'NUM'),\n",
       "  ('years', 'NOUN'),\n",
       "  ('.', '.')],\n",
       " [('This', 'DET'),\n",
       "  ('is', 'VERB'),\n",
       "  ('the', 'DET'),\n",
       "  ('first', 'ADJ'),\n",
       "  ('World', 'NOUN'),\n",
       "  ('Cup', 'NOUN'),\n",
       "  ('to', 'PRT'),\n",
       "  ('be', 'VERB'),\n",
       "  ('held', 'VERB'),\n",
       "  ('in', 'ADP'),\n",
       "  ('Eastern', 'NOUN'),\n",
       "  ('Europe', 'NOUN'),\n",
       "  ('and', 'CONJ'),\n",
       "  ('the', 'DET'),\n",
       "  ('11th', 'NUM'),\n",
       "  ('time', 'NOUN'),\n",
       "  ('that', 'ADP'),\n",
       "  ('it', 'PRON'),\n",
       "  ('has', 'VERB'),\n",
       "  ('been', 'VERB'),\n",
       "  ('held', 'VERB'),\n",
       "  ('in', 'ADP'),\n",
       "  ('Europe', 'NOUN'),\n",
       "  ('.', '.')],\n",
       " [('Show', 'VERB'),\n",
       "  ('me', 'PRON'),\n",
       "  ('the', 'DET'),\n",
       "  ('cheapest', 'ADJ'),\n",
       "  ('round', 'NOUN'),\n",
       "  ('trips', 'NOUN'),\n",
       "  ('from', 'ADP'),\n",
       "  ('Dallas', 'NOUN'),\n",
       "  ('to', 'PRT'),\n",
       "  ('Atlanta', 'VERB')],\n",
       " [('I', 'PRON'),\n",
       "  ('would', 'VERB'),\n",
       "  ('like', 'VERB'),\n",
       "  ('to', 'PRT'),\n",
       "  ('see', 'VERB'),\n",
       "  ('flights', 'NOUN'),\n",
       "  ('from', 'ADP'),\n",
       "  ('Denver', 'NOUN'),\n",
       "  ('to', 'PRT'),\n",
       "  ('Philadelphia', 'NOUN'),\n",
       "  ('.', '.')],\n",
       " [('Show', 'VERB'),\n",
       "  ('me', 'PRON'),\n",
       "  ('the', 'DET'),\n",
       "  ('price', 'NOUN'),\n",
       "  ('of', 'ADP'),\n",
       "  ('the', 'DET'),\n",
       "  ('flights', 'NOUN'),\n",
       "  ('leaving', 'VERB'),\n",
       "  ('Atlanta', 'NOUN'),\n",
       "  ('at', 'ADP'),\n",
       "  ('about', 'ADV'),\n",
       "  ('3', 'NUM'),\n",
       "  ('in', 'ADP'),\n",
       "  ('the', 'DET'),\n",
       "  ('afternoon', 'NOUN'),\n",
       "  ('and', 'CONJ'),\n",
       "  ('arriving', 'NOUN'),\n",
       "  ('in', 'ADP'),\n",
       "  ('San', 'NOUN'),\n",
       "  ('Francisco', 'NOUN'),\n",
       "  ('.', '.')],\n",
       " [('NASA', 'NOUN'),\n",
       "  ('invited', 'VERB'),\n",
       "  ('social', 'ADJ'),\n",
       "  ('media', 'NOUN'),\n",
       "  ('users', 'NOUN'),\n",
       "  ('to', 'PRT'),\n",
       "  ('experience', 'VERB'),\n",
       "  ('the', 'DET'),\n",
       "  ('launch', 'NOUN'),\n",
       "  ('of', 'ADP'),\n",
       "  ('ICESAT-2', 'NOUN'),\n",
       "  ('Satellite', 'NOUN'),\n",
       "  ('.', '.')]]"
      ]
     },
     "execution_count": 60,
     "metadata": {},
     "output_type": "execute_result"
    }
   ],
   "source": [
    "test_tokenized_sents = [word_tokenize(sent) for sent in test_sentences]\n",
    "test_corpus_pos_tags = nltk.pos_tag_sents(test_tokenized_sents, tagset = 'universal')\n",
    "test_corpus_pos_tags"
   ]
  },
  {
   "cell_type": "code",
   "execution_count": 61,
   "metadata": {},
   "outputs": [],
   "source": [
    "# untagged words from the test data provided\n",
    "test_tagged_words = get_nested_tuple_from_list(test_corpus_pos_tags, 0)\n",
    "\n",
    "# tagged words\n",
    "tagged_words_test_run_base  = get_nested_tuple_from_list(test_corpus_pos_tags, -1)"
   ]
  },
  {
   "cell_type": "code",
   "execution_count": 62,
   "metadata": {},
   "outputs": [
    {
     "data": {
      "text/plain": [
       "['Android',\n",
       " 'is',\n",
       " 'a',\n",
       " 'mobile',\n",
       " 'operating',\n",
       " 'system',\n",
       " 'developed',\n",
       " 'by',\n",
       " 'Google',\n",
       " '.',\n",
       " 'Android',\n",
       " 'has',\n",
       " 'been',\n",
       " 'the',\n",
       " 'best-selling',\n",
       " 'OS',\n",
       " 'worldwide',\n",
       " 'on',\n",
       " 'smartphones',\n",
       " 'since',\n",
       " '2011',\n",
       " 'and',\n",
       " 'on',\n",
       " 'tablets',\n",
       " 'since',\n",
       " '2013',\n",
       " '.',\n",
       " 'Google',\n",
       " 'and',\n",
       " 'Twitter',\n",
       " 'made',\n",
       " 'a',\n",
       " 'deal',\n",
       " 'in',\n",
       " '2015',\n",
       " 'that',\n",
       " 'gave',\n",
       " 'Google',\n",
       " 'access',\n",
       " 'to',\n",
       " 'Twitter',\n",
       " \"'s\",\n",
       " 'firehose',\n",
       " '.',\n",
       " 'Twitter',\n",
       " 'is',\n",
       " 'an',\n",
       " 'online',\n",
       " 'news',\n",
       " 'and',\n",
       " 'social',\n",
       " 'networking',\n",
       " 'service',\n",
       " 'on',\n",
       " 'which',\n",
       " 'users',\n",
       " 'post',\n",
       " 'and',\n",
       " 'interact',\n",
       " 'with',\n",
       " 'messages',\n",
       " 'known',\n",
       " 'as',\n",
       " 'tweets',\n",
       " '.',\n",
       " 'Before',\n",
       " 'entering',\n",
       " 'politics',\n",
       " ',',\n",
       " 'Donald',\n",
       " 'Trump',\n",
       " 'was',\n",
       " 'a',\n",
       " 'domineering',\n",
       " 'businessman',\n",
       " 'and',\n",
       " 'a',\n",
       " 'television',\n",
       " 'personality',\n",
       " '.',\n",
       " 'The',\n",
       " '2018',\n",
       " 'FIFA',\n",
       " 'World',\n",
       " 'Cup',\n",
       " 'is',\n",
       " 'the',\n",
       " '21st',\n",
       " 'FIFA',\n",
       " 'World',\n",
       " 'Cup',\n",
       " ',',\n",
       " 'an',\n",
       " 'international',\n",
       " 'football',\n",
       " 'tournament',\n",
       " 'contested',\n",
       " 'once',\n",
       " 'every',\n",
       " 'four',\n",
       " 'years',\n",
       " '.',\n",
       " 'This',\n",
       " 'is',\n",
       " 'the',\n",
       " 'first',\n",
       " 'World',\n",
       " 'Cup',\n",
       " 'to',\n",
       " 'be',\n",
       " 'held',\n",
       " 'in',\n",
       " 'Eastern',\n",
       " 'Europe',\n",
       " 'and',\n",
       " 'the',\n",
       " '11th',\n",
       " 'time',\n",
       " 'that',\n",
       " 'it',\n",
       " 'has',\n",
       " 'been',\n",
       " 'held',\n",
       " 'in',\n",
       " 'Europe',\n",
       " '.',\n",
       " 'Show',\n",
       " 'me',\n",
       " 'the',\n",
       " 'cheapest',\n",
       " 'round',\n",
       " 'trips',\n",
       " 'from',\n",
       " 'Dallas',\n",
       " 'to',\n",
       " 'Atlanta',\n",
       " 'I',\n",
       " 'would',\n",
       " 'like',\n",
       " 'to',\n",
       " 'see',\n",
       " 'flights',\n",
       " 'from',\n",
       " 'Denver',\n",
       " 'to',\n",
       " 'Philadelphia',\n",
       " '.',\n",
       " 'Show',\n",
       " 'me',\n",
       " 'the',\n",
       " 'price',\n",
       " 'of',\n",
       " 'the',\n",
       " 'flights',\n",
       " 'leaving',\n",
       " 'Atlanta',\n",
       " 'at',\n",
       " 'about',\n",
       " '3',\n",
       " 'in',\n",
       " 'the',\n",
       " 'afternoon',\n",
       " 'and',\n",
       " 'arriving',\n",
       " 'in',\n",
       " 'San',\n",
       " 'Francisco',\n",
       " '.',\n",
       " 'NASA',\n",
       " 'invited',\n",
       " 'social',\n",
       " 'media',\n",
       " 'users',\n",
       " 'to',\n",
       " 'experience',\n",
       " 'the',\n",
       " 'launch',\n",
       " 'of',\n",
       " 'ICESAT-2',\n",
       " 'Satellite',\n",
       " '.']"
      ]
     },
     "execution_count": 62,
     "metadata": {},
     "output_type": "execute_result"
    }
   ],
   "source": [
    "test_tagged_words"
   ]
  },
  {
   "cell_type": "markdown",
   "metadata": {},
   "source": [
    "#### 1. Testing the accuracy of Vanilla Viterbi on sample test data -"
   ]
  },
  {
   "cell_type": "code",
   "execution_count": 63,
   "metadata": {},
   "outputs": [],
   "source": [
    "# tagging the test sentences\n",
    "sample_data_test_tagged_seq = vanilla_viterbi(test_tagged_words)\n",
    "\n",
    "# Let's check the accuracy of the vanilla viterbi algorithm\n",
    "sample_data_test_check = [i for i, j in zip(sample_data_test_tagged_seq, tagged_words_test_run_base) if i == j]\n",
    "\n",
    "vanilla_viterbi_accuracy_on_sample_test_data = len(sample_data_test_check)/len(sample_data_test_tagged_seq)"
   ]
  },
  {
   "cell_type": "code",
   "execution_count": 64,
   "metadata": {},
   "outputs": [
    {
     "name": "stdout",
     "output_type": "stream",
     "text": [
      "Vanilla Viterbi Algorithm accuracy on the sample test data: 0.7458563535911602\n"
     ]
    }
   ],
   "source": [
    "print(\"Vanilla Viterbi Algorithm accuracy on the sample test data:\", vanilla_viterbi_accuracy_on_sample_test_data)"
   ]
  },
  {
   "cell_type": "markdown",
   "metadata": {},
   "source": [
    "#### 2. Testing the accuracy of Vanilla_Viterbi_for_Unknown_Words on sample test data -"
   ]
  },
  {
   "cell_type": "code",
   "execution_count": 66,
   "metadata": {},
   "outputs": [],
   "source": [
    "# tagging the test sentences\n",
    "sample_test_data_unknown_word_tagged_seq = Unknown_Words_With_Vanilla_Viterbi(test_tagged_words)\n",
    "\n",
    "# accuracy\n",
    "sample_test_data_unknown_word_check = [i for i, j in zip(sample_test_data_unknown_word_tagged_seq, tagged_words_test_run_base) if i == j]\n",
    "\n",
    "sample_test_data_optimized_viterbi_accuracy = len(sample_test_data_unknown_word_check)/len(sample_test_data_unknown_word_tagged_seq)"
   ]
  },
  {
   "cell_type": "code",
   "execution_count": 67,
   "metadata": {},
   "outputs": [
    {
     "name": "stdout",
     "output_type": "stream",
     "text": [
      "Vanilla_Viterbi_for_Unknown_Words accuracy on the sample test data: 0.856353591160221\n"
     ]
    }
   ],
   "source": [
    "\n",
    "print(\"Unknown_Words_With_Vanilla_Viterbi accuracy on the sample test data:\", sample_test_data_optimized_viterbi_accuracy)"
   ]
  },
  {
   "cell_type": "markdown",
   "metadata": {},
   "source": [
    "#### 3. Testing the accuracy of viterbi_backedup_by_trigram_tagger on sample test data -"
   ]
  },
  {
   "cell_type": "code",
   "execution_count": 71,
   "metadata": {},
   "outputs": [],
   "source": [
    "# tagging the test sentences\n",
    "sample_test_data_viterbi_trigram_tagged_seq = viterbi_backedup_by_trigram_tagger(test_tagged_words)\n",
    "\n",
    "# accuracy\n",
    "sample_test_data_viterbi_trigram_check = [i for i, j in zip(sample_test_data_viterbi_trigram_tagged_seq, tagged_words_test_run_base) if i == j]\n",
    "\n",
    "sample_test_data_viterbi_trigram_accuracy = len(sample_test_data_viterbi_trigram_check)/len(sample_test_data_viterbi_trigram_tagged_seq)"
   ]
  },
  {
   "cell_type": "code",
   "execution_count": 72,
   "metadata": {},
   "outputs": [
    {
     "name": "stdout",
     "output_type": "stream",
     "text": [
      "viterbi_backedup_by_trigram_tagger accuracy on the sample test data: 0.9281767955801105\n"
     ]
    }
   ],
   "source": [
    "print(\"viterbi_backedup_by_trigram_tagger accuracy on the sample test data:\", sample_test_data_viterbi_trigram_accuracy)"
   ]
  },
  {
   "cell_type": "markdown",
   "metadata": {},
   "source": [
    "The accuracy of the viterbi_backedup_by_trigram_tagger on the sample test data is - 0.9281767955801105"
   ]
  },
  {
   "cell_type": "markdown",
   "metadata": {},
   "source": [
    "### Compare the tagging accuracies of the modifications with the vanilla Viterbi algorithm"
   ]
  },
  {
   "cell_type": "code",
   "execution_count": 74,
   "metadata": {},
   "outputs": [
    {
     "data": {
      "text/html": [
       "<div>\n",
       "<style scoped>\n",
       "    .dataframe tbody tr th:only-of-type {\n",
       "        vertical-align: middle;\n",
       "    }\n",
       "\n",
       "    .dataframe tbody tr th {\n",
       "        vertical-align: top;\n",
       "    }\n",
       "\n",
       "    .dataframe thead th {\n",
       "        text-align: right;\n",
       "    }\n",
       "</style>\n",
       "<table border=\"1\" class=\"dataframe\">\n",
       "  <thead>\n",
       "    <tr style=\"text-align: right;\">\n",
       "      <th></th>\n",
       "      <th>Tagging_Accuracy</th>\n",
       "    </tr>\n",
       "    <tr>\n",
       "      <th>Tagging_Algorithm</th>\n",
       "      <th></th>\n",
       "    </tr>\n",
       "  </thead>\n",
       "  <tbody>\n",
       "    <tr>\n",
       "      <td>Vanilla Viterbi</td>\n",
       "      <td>74.585635</td>\n",
       "    </tr>\n",
       "    <tr>\n",
       "      <td>Optimized Vanilla Viterbi</td>\n",
       "      <td>85.635359</td>\n",
       "    </tr>\n",
       "    <tr>\n",
       "      <td>Viterbi + Trigram_tagger</td>\n",
       "      <td>92.817680</td>\n",
       "    </tr>\n",
       "  </tbody>\n",
       "</table>\n",
       "</div>"
      ],
      "text/plain": [
       "                           Tagging_Accuracy\n",
       "Tagging_Algorithm                          \n",
       "Vanilla Viterbi                   74.585635\n",
       "Optimized Vanilla Viterbi         85.635359\n",
       "Viterbi + Trigram_tagger          92.817680"
      ]
     },
     "execution_count": 74,
     "metadata": {},
     "output_type": "execute_result"
    }
   ],
   "source": [
    "acccuracy_on_sample_test_data = [['Vanilla Viterbi', vanilla_viterbi_accuracy_on_sample_test_data*100], \n",
    "                  ['Optimized Vanilla Viterbi', sample_test_data_optimized_viterbi_accuracy*100], \n",
    "                  ['Viterbi + Trigram_tagger', sample_test_data_viterbi_trigram_accuracy*100]]\n",
    "\n",
    "df_sample_test_data_acccuracy = pd.DataFrame(acccuracy_on_sample_test_data, columns = ['Tagging_Algorithm', 'Tagging_Accuracy'])\n",
    "\n",
    "df_sample_test_data_acccuracy.set_index('Tagging_Algorithm', drop = True, inplace = True)\n",
    "\n",
    "df_sample_test_data_acccuracy"
   ]
  },
  {
   "cell_type": "code",
   "execution_count": 75,
   "metadata": {},
   "outputs": [
    {
     "data": {
      "text/plain": [
       "<matplotlib.axes._subplots.AxesSubplot at 0x1f892ea9748>"
      ]
     },
     "execution_count": 75,
     "metadata": {},
     "output_type": "execute_result"
    },
    {
     "data": {
      "image/png": "[encoded data removed]",
      "text/plain": [
       "<Figure size 432x288 with 1 Axes>"
      ]
     },
     "metadata": {
      "needs_background": "light"
     },
     "output_type": "display_data"
    }
   ],
   "source": [
    "df_sample_test_data_acccuracy.plot.line(rot = 90, legend = False)"
   ]
  },
  {
   "cell_type": "markdown",
   "metadata": {},
   "source": [
    "### List down cases which were incorrectly tagged by original POS tagger and got corrected by your modifications"
   ]
  },
  {
   "cell_type": "code",
   "execution_count": 76,
   "metadata": {},
   "outputs": [],
   "source": [
    "# test sentences\n",
    "\n",
    "test_data_sentence_1 = 'Android is a mobile operating system developed by Google.'\n",
    "test_data_sentence_2 = 'Android has been the best-selling OS worldwide on smartphones since 2011 and on tablets since 2013.'\n",
    "test_data_sentence_3 = \"Google and Twitter made a deal in 2015 that gave Google access to Twitter's firehose.\"\n",
    "test_data_sentence_4 = 'Twitter is an online news and social networking service on which users post and interact with messages known as tweets.'\n",
    "test_data_sentence_5 = 'Before entering politics, Donald Trump was a domineering businessman and a television personality.'\n",
    "test_data_sentence_6 = 'The 2018 FIFA World Cup is the 21st FIFA World Cup, an international football tournament contested once every four years.'\n",
    "test_data_sentence_7 = 'This is the first World Cup to be held in Eastern Europe and the 11th time that it has been held in Europe.'\n",
    "test_data_sentence_8 = 'Show me the cheapest round trips from Dallas to Atlanta'\n",
    "test_data_sentence_9 = 'I would like to see flights from Denver to Philadelphia.'\n",
    "test_data_sentence_10 = 'Show me the price of the flights leaving Atlanta at about 3 in the afternoon and arriving in San Francisco.'\n",
    "test_data_sentence_11 = 'NASA invited social media users to experience the launch of ICESAT-2 Satellite.'"
   ]
  },
  {
   "cell_type": "markdown",
   "metadata": {},
   "source": [
    "#### Case - 1"
   ]
  },
  {
   "cell_type": "code",
   "execution_count": 77,
   "metadata": {},
   "outputs": [
    {
     "name": "stdout",
     "output_type": "stream",
     "text": [
      "Tagging sequence with Vanilla_Viterbi -\n",
      "\n",
      " [('Android', 'DET'), ('is', 'VERB'), ('a', 'DET'), ('mobile', 'ADJ'), ('operating', 'NOUN'), ('system', 'NOUN'), ('developed', 'VERB'), ('by', 'ADP'), ('Google', 'DET'), ('.', '.')]\n",
      "\n",
      "\n",
      "------------------------------------------------------------------------------------------------------------------------\n",
      "Tagging sequence with viterbi_backedup_by_trigram_tagger -\n",
      "\n",
      " [('Android', 'NOUN'), ('is', 'VERB'), ('a', 'DET'), ('mobile', 'ADJ'), ('operating', 'NOUN'), ('system', 'NOUN'), ('developed', 'VERB'), ('by', 'ADP'), ('Google', 'NOUN'), ('.', '.')]\n"
     ]
    }
   ],
   "source": [
    "# test_data_sentence_1 = 'Android is a mobile operating system developed by Google.'\n",
    "\n",
    "words_test_data_sentence_1 = nltk.word_tokenize(test_data_sentence_1)\n",
    "\n",
    "# pos tags with Vanilla_Viterbi\n",
    "pos_tagged_sequence_with_vanilla_viterbi = vanilla_viterbi(words_test_data_sentence_1)\n",
    "print(\"Tagging sequence with Vanilla_Viterbi -\\n\\n\", pos_tagged_sequence_with_vanilla_viterbi)\n",
    "\n",
    "print('\\n')\n",
    "print('-'*120)\n",
    "\n",
    "# pos tags with viterbi_backedup_by_trigram_tagger\n",
    "pos_tagged_sequence_with_viterbi_trigram = viterbi_backedup_by_trigram_tagger(words_test_data_sentence_1)\n",
    "print(\"Tagging sequence with viterbi_backedup_by_trigram_tagger -\\n\\n\", pos_tagged_sequence_with_viterbi_trigram)"
   ]
  },
  {
   "cell_type": "code",
   "execution_count": 78,
   "metadata": {},
   "outputs": [
    {
     "data": {
      "text/html": [
       "<div>\n",
       "<style scoped>\n",
       "    .dataframe tbody tr th:only-of-type {\n",
       "        vertical-align: middle;\n",
       "    }\n",
       "\n",
       "    .dataframe tbody tr th {\n",
       "        vertical-align: top;\n",
       "    }\n",
       "\n",
       "    .dataframe thead th {\n",
       "        text-align: right;\n",
       "    }\n",
       "</style>\n",
       "<table border=\"1\" class=\"dataframe\">\n",
       "  <thead>\n",
       "    <tr style=\"text-align: right;\">\n",
       "      <th></th>\n",
       "      <th>vanilla_viterbi_tags</th>\n",
       "      <th>viterbi_trigram_tags_with_corrections</th>\n",
       "    </tr>\n",
       "  </thead>\n",
       "  <tbody>\n",
       "    <tr>\n",
       "      <td>0</td>\n",
       "      <td>(Android, DET)</td>\n",
       "      <td>(Android, NOUN)</td>\n",
       "    </tr>\n",
       "    <tr>\n",
       "      <td>1</td>\n",
       "      <td>(is, VERB)</td>\n",
       "      <td>(is, VERB)</td>\n",
       "    </tr>\n",
       "    <tr>\n",
       "      <td>2</td>\n",
       "      <td>(a, DET)</td>\n",
       "      <td>(a, DET)</td>\n",
       "    </tr>\n",
       "    <tr>\n",
       "      <td>3</td>\n",
       "      <td>(mobile, ADJ)</td>\n",
       "      <td>(mobile, ADJ)</td>\n",
       "    </tr>\n",
       "    <tr>\n",
       "      <td>4</td>\n",
       "      <td>(operating, NOUN)</td>\n",
       "      <td>(operating, NOUN)</td>\n",
       "    </tr>\n",
       "    <tr>\n",
       "      <td>5</td>\n",
       "      <td>(system, NOUN)</td>\n",
       "      <td>(system, NOUN)</td>\n",
       "    </tr>\n",
       "    <tr>\n",
       "      <td>6</td>\n",
       "      <td>(developed, VERB)</td>\n",
       "      <td>(developed, VERB)</td>\n",
       "    </tr>\n",
       "    <tr>\n",
       "      <td>7</td>\n",
       "      <td>(by, ADP)</td>\n",
       "      <td>(by, ADP)</td>\n",
       "    </tr>\n",
       "    <tr>\n",
       "      <td>8</td>\n",
       "      <td>(Google, DET)</td>\n",
       "      <td>(Google, NOUN)</td>\n",
       "    </tr>\n",
       "    <tr>\n",
       "      <td>9</td>\n",
       "      <td>(., .)</td>\n",
       "      <td>(., .)</td>\n",
       "    </tr>\n",
       "  </tbody>\n",
       "</table>\n",
       "</div>"
      ],
      "text/plain": [
       "  vanilla_viterbi_tags viterbi_trigram_tags_with_corrections\n",
       "0       (Android, DET)                       (Android, NOUN)\n",
       "1           (is, VERB)                            (is, VERB)\n",
       "2             (a, DET)                              (a, DET)\n",
       "3        (mobile, ADJ)                         (mobile, ADJ)\n",
       "4    (operating, NOUN)                     (operating, NOUN)\n",
       "5       (system, NOUN)                        (system, NOUN)\n",
       "6    (developed, VERB)                     (developed, VERB)\n",
       "7            (by, ADP)                             (by, ADP)\n",
       "8        (Google, DET)                        (Google, NOUN)\n",
       "9               (., .)                                (., .)"
      ]
     },
     "execution_count": 78,
     "metadata": {},
     "output_type": "execute_result"
    }
   ],
   "source": [
    "cols = ['vanilla_viterbi_tags', 'viterbi_trigram_tags_with_corrections']\n",
    "df_tags_correction_1 = pd.DataFrame(columns = cols)\n",
    "df_tags_correction_1 = df_tags_correction_1.fillna(0)\n",
    "\n",
    "df_tags_correction_1.vanilla_viterbi_tags = [tup for tup in pos_tagged_sequence_with_vanilla_viterbi]\n",
    "df_tags_correction_1.viterbi_trigram_tags_with_corrections = [tup for tup in pos_tagged_sequence_with_viterbi_trigram]\n",
    "\n",
    "df_tags_correction_1"
   ]
  },
  {
   "cell_type": "markdown",
   "metadata": {},
   "source": [
    "As we see above in the sample test sentence 1 the word 'Android' was tagged as PRT by vanilla viterbi. The modified algorithm of viterbi backed up by trigram tagger corrected this and tagged 'Android' as NOUN."
   ]
  },
  {
   "cell_type": "markdown",
   "metadata": {},
   "source": [
    "#### Case - 2"
   ]
  },
  {
   "cell_type": "code",
   "execution_count": 79,
   "metadata": {},
   "outputs": [
    {
     "name": "stdout",
     "output_type": "stream",
     "text": [
      "Tagging sequence with Vanilla_Viterbi -\n",
      "\n",
      " [('The', 'DET'), ('2018', 'DET'), ('FIFA', 'DET'), ('World', 'NOUN'), ('Cup', 'DET'), ('is', 'VERB'), ('the', 'DET'), ('21st', 'DET'), ('FIFA', 'DET'), ('World', 'NOUN'), ('Cup', 'DET'), (',', '.'), ('an', 'DET'), ('international', 'ADJ'), ('football', 'NOUN'), ('tournament', 'DET'), ('contested', 'DET'), ('once', 'ADV'), ('every', 'DET'), ('four', 'NUM'), ('years', 'NOUN'), ('.', '.')]\n",
      "\n",
      "\n",
      "------------------------------------------------------------------------------------------------------------------------\n",
      "Tagging sequence with viterbi_backedup_by_trigram_tagger -\n",
      "\n",
      " [('The', 'DET'), ('2018', 'NUM'), ('FIFA', 'NOUN'), ('World', 'NOUN'), ('Cup', 'NOUN'), ('is', 'VERB'), ('the', 'DET'), ('21st', 'NUM'), ('FIFA', 'NOUN'), ('World', 'NOUN'), ('Cup', 'NOUN'), (',', '.'), ('an', 'DET'), ('international', 'ADJ'), ('football', 'NOUN'), ('tournament', 'NOUN'), ('contested', 'VERB'), ('once', 'ADV'), ('every', 'DET'), ('four', 'NUM'), ('years', 'NOUN'), ('.', '.')]\n"
     ]
    }
   ],
   "source": [
    "# test_data_sentence_6 = 'The 2018 FIFA World Cup is the 21st FIFA World Cup, \n",
    "#                   an international football tournament contested once every four years.'\n",
    "\n",
    "words_test_data_sentence_6 = nltk.word_tokenize(test_data_sentence_6)\n",
    "\n",
    "# pos tags with Vanilla_Viterbi\n",
    "pos_tagged_sequence_with_vanilla_viterbi_6 = vanilla_viterbi(words_test_data_sentence_6)\n",
    "print(\"Tagging sequence with Vanilla_Viterbi -\\n\\n\", pos_tagged_sequence_with_vanilla_viterbi_6)\n",
    "\n",
    "print('\\n')\n",
    "print('-'*120)\n",
    "\n",
    "# pos tags with viterbi_backedup_by_trigram_tagger\n",
    "pos_tagged_sequence_with_viterbi_trigram_6 = viterbi_backedup_by_trigram_tagger(words_test_data_sentence_6)\n",
    "print(\"Tagging sequence with viterbi_backedup_by_trigram_tagger -\\n\\n\", pos_tagged_sequence_with_viterbi_trigram_6)"
   ]
  },
  {
   "cell_type": "code",
   "execution_count": 80,
   "metadata": {},
   "outputs": [
    {
     "data": {
      "text/html": [
       "<div>\n",
       "<style scoped>\n",
       "    .dataframe tbody tr th:only-of-type {\n",
       "        vertical-align: middle;\n",
       "    }\n",
       "\n",
       "    .dataframe tbody tr th {\n",
       "        vertical-align: top;\n",
       "    }\n",
       "\n",
       "    .dataframe thead th {\n",
       "        text-align: right;\n",
       "    }\n",
       "</style>\n",
       "<table border=\"1\" class=\"dataframe\">\n",
       "  <thead>\n",
       "    <tr style=\"text-align: right;\">\n",
       "      <th></th>\n",
       "      <th>vanilla_viterbi_tags</th>\n",
       "      <th>viterbi_trigram_tags_with_corrections</th>\n",
       "    </tr>\n",
       "  </thead>\n",
       "  <tbody>\n",
       "    <tr>\n",
       "      <td>0</td>\n",
       "      <td>(The, DET)</td>\n",
       "      <td>(The, DET)</td>\n",
       "    </tr>\n",
       "    <tr>\n",
       "      <td>1</td>\n",
       "      <td>(2018, DET)</td>\n",
       "      <td>(2018, NUM)</td>\n",
       "    </tr>\n",
       "    <tr>\n",
       "      <td>2</td>\n",
       "      <td>(FIFA, DET)</td>\n",
       "      <td>(FIFA, NOUN)</td>\n",
       "    </tr>\n",
       "    <tr>\n",
       "      <td>3</td>\n",
       "      <td>(World, NOUN)</td>\n",
       "      <td>(World, NOUN)</td>\n",
       "    </tr>\n",
       "    <tr>\n",
       "      <td>4</td>\n",
       "      <td>(Cup, DET)</td>\n",
       "      <td>(Cup, NOUN)</td>\n",
       "    </tr>\n",
       "    <tr>\n",
       "      <td>5</td>\n",
       "      <td>(is, VERB)</td>\n",
       "      <td>(is, VERB)</td>\n",
       "    </tr>\n",
       "    <tr>\n",
       "      <td>6</td>\n",
       "      <td>(the, DET)</td>\n",
       "      <td>(the, DET)</td>\n",
       "    </tr>\n",
       "    <tr>\n",
       "      <td>7</td>\n",
       "      <td>(21st, DET)</td>\n",
       "      <td>(21st, NUM)</td>\n",
       "    </tr>\n",
       "    <tr>\n",
       "      <td>8</td>\n",
       "      <td>(FIFA, DET)</td>\n",
       "      <td>(FIFA, NOUN)</td>\n",
       "    </tr>\n",
       "    <tr>\n",
       "      <td>9</td>\n",
       "      <td>(World, NOUN)</td>\n",
       "      <td>(World, NOUN)</td>\n",
       "    </tr>\n",
       "    <tr>\n",
       "      <td>10</td>\n",
       "      <td>(Cup, DET)</td>\n",
       "      <td>(Cup, NOUN)</td>\n",
       "    </tr>\n",
       "    <tr>\n",
       "      <td>11</td>\n",
       "      <td>(,, .)</td>\n",
       "      <td>(,, .)</td>\n",
       "    </tr>\n",
       "    <tr>\n",
       "      <td>12</td>\n",
       "      <td>(an, DET)</td>\n",
       "      <td>(an, DET)</td>\n",
       "    </tr>\n",
       "    <tr>\n",
       "      <td>13</td>\n",
       "      <td>(international, ADJ)</td>\n",
       "      <td>(international, ADJ)</td>\n",
       "    </tr>\n",
       "    <tr>\n",
       "      <td>14</td>\n",
       "      <td>(football, NOUN)</td>\n",
       "      <td>(football, NOUN)</td>\n",
       "    </tr>\n",
       "    <tr>\n",
       "      <td>15</td>\n",
       "      <td>(tournament, DET)</td>\n",
       "      <td>(tournament, NOUN)</td>\n",
       "    </tr>\n",
       "    <tr>\n",
       "      <td>16</td>\n",
       "      <td>(contested, DET)</td>\n",
       "      <td>(contested, VERB)</td>\n",
       "    </tr>\n",
       "    <tr>\n",
       "      <td>17</td>\n",
       "      <td>(once, ADV)</td>\n",
       "      <td>(once, ADV)</td>\n",
       "    </tr>\n",
       "    <tr>\n",
       "      <td>18</td>\n",
       "      <td>(every, DET)</td>\n",
       "      <td>(every, DET)</td>\n",
       "    </tr>\n",
       "    <tr>\n",
       "      <td>19</td>\n",
       "      <td>(four, NUM)</td>\n",
       "      <td>(four, NUM)</td>\n",
       "    </tr>\n",
       "    <tr>\n",
       "      <td>20</td>\n",
       "      <td>(years, NOUN)</td>\n",
       "      <td>(years, NOUN)</td>\n",
       "    </tr>\n",
       "    <tr>\n",
       "      <td>21</td>\n",
       "      <td>(., .)</td>\n",
       "      <td>(., .)</td>\n",
       "    </tr>\n",
       "  </tbody>\n",
       "</table>\n",
       "</div>"
      ],
      "text/plain": [
       "    vanilla_viterbi_tags viterbi_trigram_tags_with_corrections\n",
       "0             (The, DET)                            (The, DET)\n",
       "1            (2018, DET)                           (2018, NUM)\n",
       "2            (FIFA, DET)                          (FIFA, NOUN)\n",
       "3          (World, NOUN)                         (World, NOUN)\n",
       "4             (Cup, DET)                           (Cup, NOUN)\n",
       "5             (is, VERB)                            (is, VERB)\n",
       "6             (the, DET)                            (the, DET)\n",
       "7            (21st, DET)                           (21st, NUM)\n",
       "8            (FIFA, DET)                          (FIFA, NOUN)\n",
       "9          (World, NOUN)                         (World, NOUN)\n",
       "10            (Cup, DET)                           (Cup, NOUN)\n",
       "11                (,, .)                                (,, .)\n",
       "12             (an, DET)                             (an, DET)\n",
       "13  (international, ADJ)                  (international, ADJ)\n",
       "14      (football, NOUN)                      (football, NOUN)\n",
       "15     (tournament, DET)                    (tournament, NOUN)\n",
       "16      (contested, DET)                     (contested, VERB)\n",
       "17           (once, ADV)                           (once, ADV)\n",
       "18          (every, DET)                          (every, DET)\n",
       "19           (four, NUM)                           (four, NUM)\n",
       "20         (years, NOUN)                         (years, NOUN)\n",
       "21                (., .)                                (., .)"
      ]
     },
     "execution_count": 80,
     "metadata": {},
     "output_type": "execute_result"
    }
   ],
   "source": [
    "df_tags_correction_6 = pd.DataFrame(columns = cols)\n",
    "df_tags_correction_6 = df_tags_correction_6.fillna(0)\n",
    "\n",
    "df_tags_correction_6.vanilla_viterbi_tags = [tup for tup in pos_tagged_sequence_with_vanilla_viterbi_6]\n",
    "df_tags_correction_6.viterbi_trigram_tags_with_corrections = [tup for tup in pos_tagged_sequence_with_viterbi_trigram_6]\n",
    "\n",
    "df_tags_correction_6"
   ]
  },
  {
   "cell_type": "markdown",
   "metadata": {},
   "source": [
    "#### As we see above in the sample test sentence 6 the following words were incorrectly tagged by the vanilla viterbi algorithm - '2018' - PRT, 'FIFA' - PRT, 'Cup' - PRT, '21st' - PRT, 'tournament' - PRT, 'contested' - PRT.\n",
    "\n",
    "#### The above words were corrected by viterbi backed up by the trigram tagger. The corrections were made as - '2018' - NUM, 'FIFA' - NOUN, 'Cup' - NOUN, '21st' - NUM, 'tournament' - NOUN, 'contested' - VERB."
   ]
  },
  {
   "cell_type": "markdown",
   "metadata": {},
   "source": [
    "#### Case - 3"
   ]
  },
  {
   "cell_type": "code",
   "execution_count": 81,
   "metadata": {},
   "outputs": [
    {
     "name": "stdout",
     "output_type": "stream",
     "text": [
      "Tagging sequence with Vanilla_Viterbi -\n",
      "\n",
      " [('Show', 'NOUN'), ('me', 'PRON'), ('the', 'DET'), ('cheapest', 'ADJ'), ('round', 'NOUN'), ('trips', 'DET'), ('from', 'ADP'), ('Dallas', 'NOUN'), ('to', 'PRT'), ('Atlanta', 'NOUN')]\n",
      "\n",
      "\n",
      "------------------------------------------------------------------------------------------------------------------------\n",
      "Tagging sequence with viterbi_backedup_by_trigram_tagger -\n",
      "\n",
      " [('Show', 'NOUN'), ('me', 'PRON'), ('the', 'DET'), ('cheapest', 'ADJ'), ('round', 'NOUN'), ('trips', 'NOUN'), ('from', 'ADP'), ('Dallas', 'NOUN'), ('to', 'PRT'), ('Atlanta', 'NOUN')]\n"
     ]
    }
   ],
   "source": [
    "# test_data_sentence_8 = 'Show me the cheapest round trips from Dallas to Atlanta'\n",
    "\n",
    "words_test_data_sentence_8 = nltk.word_tokenize(test_data_sentence_8)\n",
    "\n",
    "# pos tags with Vanilla_Viterbi\n",
    "pos_tagged_sequence_with_vanilla_viterbi_8 = vanilla_viterbi(words_test_data_sentence_8)\n",
    "print(\"Tagging sequence with Vanilla_Viterbi -\\n\\n\", pos_tagged_sequence_with_vanilla_viterbi_8)\n",
    "\n",
    "print('\\n')\n",
    "print('-'*120)\n",
    "\n",
    "# pos tags with viterbi_backedup_by_trigram_tagger\n",
    "pos_tagged_sequence_with_viterbi_trigram_8 = viterbi_backedup_by_trigram_tagger(words_test_data_sentence_8)\n",
    "print(\"Tagging sequence with viterbi_backedup_by_trigram_tagger -\\n\\n\", pos_tagged_sequence_with_viterbi_trigram_8)"
   ]
  },
  {
   "cell_type": "code",
   "execution_count": 82,
   "metadata": {},
   "outputs": [
    {
     "data": {
      "text/html": [
       "<div>\n",
       "<style scoped>\n",
       "    .dataframe tbody tr th:only-of-type {\n",
       "        vertical-align: middle;\n",
       "    }\n",
       "\n",
       "    .dataframe tbody tr th {\n",
       "        vertical-align: top;\n",
       "    }\n",
       "\n",
       "    .dataframe thead th {\n",
       "        text-align: right;\n",
       "    }\n",
       "</style>\n",
       "<table border=\"1\" class=\"dataframe\">\n",
       "  <thead>\n",
       "    <tr style=\"text-align: right;\">\n",
       "      <th></th>\n",
       "      <th>vanilla_viterbi_tags</th>\n",
       "      <th>viterbi_trigram_tags_with_corrections</th>\n",
       "    </tr>\n",
       "  </thead>\n",
       "  <tbody>\n",
       "    <tr>\n",
       "      <td>0</td>\n",
       "      <td>(Show, NOUN)</td>\n",
       "      <td>(Show, NOUN)</td>\n",
       "    </tr>\n",
       "    <tr>\n",
       "      <td>1</td>\n",
       "      <td>(me, PRON)</td>\n",
       "      <td>(me, PRON)</td>\n",
       "    </tr>\n",
       "    <tr>\n",
       "      <td>2</td>\n",
       "      <td>(the, DET)</td>\n",
       "      <td>(the, DET)</td>\n",
       "    </tr>\n",
       "    <tr>\n",
       "      <td>3</td>\n",
       "      <td>(cheapest, ADJ)</td>\n",
       "      <td>(cheapest, ADJ)</td>\n",
       "    </tr>\n",
       "    <tr>\n",
       "      <td>4</td>\n",
       "      <td>(round, NOUN)</td>\n",
       "      <td>(round, NOUN)</td>\n",
       "    </tr>\n",
       "    <tr>\n",
       "      <td>5</td>\n",
       "      <td>(trips, DET)</td>\n",
       "      <td>(trips, NOUN)</td>\n",
       "    </tr>\n",
       "    <tr>\n",
       "      <td>6</td>\n",
       "      <td>(from, ADP)</td>\n",
       "      <td>(from, ADP)</td>\n",
       "    </tr>\n",
       "    <tr>\n",
       "      <td>7</td>\n",
       "      <td>(Dallas, NOUN)</td>\n",
       "      <td>(Dallas, NOUN)</td>\n",
       "    </tr>\n",
       "    <tr>\n",
       "      <td>8</td>\n",
       "      <td>(to, PRT)</td>\n",
       "      <td>(to, PRT)</td>\n",
       "    </tr>\n",
       "    <tr>\n",
       "      <td>9</td>\n",
       "      <td>(Atlanta, NOUN)</td>\n",
       "      <td>(Atlanta, NOUN)</td>\n",
       "    </tr>\n",
       "  </tbody>\n",
       "</table>\n",
       "</div>"
      ],
      "text/plain": [
       "  vanilla_viterbi_tags viterbi_trigram_tags_with_corrections\n",
       "0         (Show, NOUN)                          (Show, NOUN)\n",
       "1           (me, PRON)                            (me, PRON)\n",
       "2           (the, DET)                            (the, DET)\n",
       "3      (cheapest, ADJ)                       (cheapest, ADJ)\n",
       "4        (round, NOUN)                         (round, NOUN)\n",
       "5         (trips, DET)                         (trips, NOUN)\n",
       "6          (from, ADP)                           (from, ADP)\n",
       "7       (Dallas, NOUN)                        (Dallas, NOUN)\n",
       "8            (to, PRT)                             (to, PRT)\n",
       "9      (Atlanta, NOUN)                       (Atlanta, NOUN)"
      ]
     },
     "execution_count": 82,
     "metadata": {},
     "output_type": "execute_result"
    }
   ],
   "source": [
    "df_tags_correction_8 = pd.DataFrame(columns = cols)\n",
    "df_tags_correction_8 = df_tags_correction_8.fillna(0)\n",
    "\n",
    "df_tags_correction_8.vanilla_viterbi_tags = [tup for tup in pos_tagged_sequence_with_vanilla_viterbi_8]\n",
    "df_tags_correction_8.viterbi_trigram_tags_with_corrections = [tup for tup in pos_tagged_sequence_with_viterbi_trigram_8]\n",
    "\n",
    "df_tags_correction_8"
   ]
  },
  {
   "cell_type": "markdown",
   "metadata": {},
   "source": [
    "##### As we see in the sample test sentence 8, the vanilla viterbi tagged 'trips' as PRT. This was corrected by the modified viterbi algorithm (backed up by the trigram tagger) and tagged as NOUN.\n",
    "##### Now lets see the tags and corrections for all the sample test sentences with both the methods.\n",
    "##### Method 1 - We used only the transition probability for unknown words.\n",
    "##### Method 2 - We used the viterbi algorithm and backed it up with the trigram tagger which was inturn backed up by the rule based regex tagger.¶"
   ]
  },
  {
   "cell_type": "code",
   "execution_count": 83,
   "metadata": {},
   "outputs": [
    {
     "name": "stdout",
     "output_type": "stream",
     "text": [
      "Tagging sequence with Vanilla_Viterbi -\n",
      "\n",
      " [('Android', 'DET'), ('is', 'VERB'), ('a', 'DET'), ('mobile', 'ADJ'), ('operating', 'NOUN'), ('system', 'NOUN'), ('developed', 'VERB'), ('by', 'ADP'), ('Google', 'DET'), ('.', '.'), ('Android', 'DET'), ('has', 'VERB'), ('been', 'VERB'), ('the', 'DET'), ('best-selling', 'ADJ'), ('OS', 'DET'), ('worldwide', 'DET'), ('on', 'ADP'), ('smartphones', 'DET'), ('since', 'ADP'), ('2011', 'DET'), ('and', 'CONJ'), ('on', 'ADP'), ('tablets', 'NOUN'), ('since', 'ADP'), ('2013', 'DET'), ('.', '.'), ('Google', 'DET'), ('and', 'CONJ'), ('Twitter', 'DET'), ('made', 'VERB'), ('a', 'DET'), ('deal', 'NOUN'), ('in', 'ADP'), ('2015', 'DET'), ('that', 'ADP'), ('gave', 'VERB'), ('Google', 'DET'), ('access', 'NOUN'), ('to', 'PRT'), ('Twitter', 'DET'), (\"'s\", 'VERB'), ('firehose', 'DET'), ('.', '.'), ('Twitter', 'DET'), ('is', 'VERB'), ('an', 'DET'), ('online', 'DET'), ('news', 'NOUN'), ('and', 'CONJ'), ('social', 'ADJ'), ('networking', 'NOUN'), ('service', 'NOUN'), ('on', 'ADP'), ('which', 'DET'), ('users', 'NOUN'), ('post', 'NOUN'), ('and', 'CONJ'), ('interact', 'DET'), ('with', 'ADP'), ('messages', 'DET'), ('known', 'VERB'), ('as', 'ADP'), ('tweets', 'DET'), ('.', '.'), ('Before', 'ADP'), ('entering', 'VERB'), ('politics', 'NOUN'), (',', '.'), ('Donald', 'NOUN'), ('Trump', 'NOUN'), ('was', 'VERB'), ('a', 'DET'), ('domineering', 'DET'), ('businessman', 'NOUN'), ('and', 'CONJ'), ('a', 'DET'), ('television', 'NOUN'), ('personality', 'DET'), ('.', '.'), ('The', 'DET'), ('2018', 'DET'), ('FIFA', 'DET'), ('World', 'NOUN'), ('Cup', 'DET'), ('is', 'VERB'), ('the', 'DET'), ('21st', 'DET'), ('FIFA', 'DET'), ('World', 'NOUN'), ('Cup', 'DET'), (',', '.'), ('an', 'DET'), ('international', 'ADJ'), ('football', 'NOUN'), ('tournament', 'DET'), ('contested', 'DET'), ('once', 'ADV'), ('every', 'DET'), ('four', 'NUM'), ('years', 'NOUN'), ('.', '.'), ('This', 'DET'), ('is', 'VERB'), ('the', 'DET'), ('first', 'ADJ'), ('World', 'NOUN'), ('Cup', 'DET'), ('to', 'PRT'), ('be', 'VERB'), ('held', 'VERB'), ('in', 'ADP'), ('Eastern', 'NOUN'), ('Europe', 'NOUN'), ('and', 'CONJ'), ('the', 'DET'), ('11th', 'ADJ'), ('time', 'NOUN'), ('that', 'ADP'), ('it', 'PRON'), ('has', 'VERB'), ('been', 'VERB'), ('held', 'VERB'), ('in', 'ADP'), ('Europe', 'NOUN'), ('.', '.'), ('Show', 'NOUN'), ('me', 'PRON'), ('the', 'DET'), ('cheapest', 'ADJ'), ('round', 'NOUN'), ('trips', 'DET'), ('from', 'ADP'), ('Dallas', 'NOUN'), ('to', 'PRT'), ('Atlanta', 'NOUN'), ('I', 'PRON'), ('would', 'VERB'), ('like', 'ADP'), ('to', 'PRT'), ('see', 'VERB'), ('flights', 'NOUN'), ('from', 'ADP'), ('Denver', 'DET'), ('to', 'PRT'), ('Philadelphia', 'NOUN'), ('.', '.'), ('Show', 'NOUN'), ('me', 'PRON'), ('the', 'DET'), ('price', 'NOUN'), ('of', 'ADP'), ('the', 'DET'), ('flights', 'NOUN'), ('leaving', 'VERB'), ('Atlanta', 'NOUN'), ('at', 'ADP'), ('about', 'ADP'), ('3', 'NUM'), ('in', 'ADP'), ('the', 'DET'), ('afternoon', 'NOUN'), ('and', 'CONJ'), ('arriving', 'DET'), ('in', 'ADP'), ('San', 'NOUN'), ('Francisco', 'NOUN'), ('.', '.'), ('NASA', 'DET'), ('invited', 'DET'), ('social', 'ADJ'), ('media', 'NOUN'), ('users', 'NOUN'), ('to', 'PRT'), ('experience', 'NOUN'), ('the', 'DET'), ('launch', 'NOUN'), ('of', 'ADP'), ('ICESAT-2', 'DET'), ('Satellite', 'DET'), ('.', '.')]\n",
      "\n",
      "\n",
      "-----------------------------------------------------------------------------------------------------------------------------\n",
      "Tagging sequence with viterbi using only transition probability for unknown words -\n",
      "\n",
      " [('Android', 'NOUN'), ('is', 'VERB'), ('a', 'DET'), ('mobile', 'ADJ'), ('operating', 'NOUN'), ('system', 'NOUN'), ('developed', 'VERB'), ('by', 'ADP'), ('Google', 'DET'), ('.', '.'), ('Android', 'NOUN'), ('has', 'VERB'), ('been', 'VERB'), ('the', 'DET'), ('best-selling', 'ADJ'), ('OS', 'NOUN'), ('worldwide', 'NOUN'), ('on', 'ADP'), ('smartphones', 'DET'), ('since', 'ADP'), ('2011', 'DET'), ('and', 'CONJ'), ('on', 'ADP'), ('tablets', 'NOUN'), ('since', 'ADP'), ('2013', 'DET'), ('.', '.'), ('Google', 'NOUN'), ('and', 'CONJ'), ('Twitter', 'NOUN'), ('made', 'VERB'), ('a', 'DET'), ('deal', 'NOUN'), ('in', 'ADP'), ('2015', 'DET'), ('that', 'ADP'), ('gave', 'VERB'), ('Google', 'X'), ('access', 'NOUN'), ('to', 'PRT'), ('Twitter', 'VERB'), (\"'s\", 'PRT'), ('firehose', 'VERB'), ('.', '.'), ('Twitter', 'NOUN'), ('is', 'VERB'), ('an', 'DET'), ('online', 'NOUN'), ('news', 'NOUN'), ('and', 'CONJ'), ('social', 'ADJ'), ('networking', 'NOUN'), ('service', 'NOUN'), ('on', 'ADP'), ('which', 'DET'), ('users', 'NOUN'), ('post', 'NOUN'), ('and', 'CONJ'), ('interact', 'NOUN'), ('with', 'ADP'), ('messages', 'DET'), ('known', 'VERB'), ('as', 'ADP'), ('tweets', 'DET'), ('.', '.'), ('Before', 'ADP'), ('entering', 'VERB'), ('politics', 'NOUN'), (',', '.'), ('Donald', 'NOUN'), ('Trump', 'NOUN'), ('was', 'VERB'), ('a', 'DET'), ('domineering', 'NOUN'), ('businessman', 'NOUN'), ('and', 'CONJ'), ('a', 'DET'), ('television', 'NOUN'), ('personality', 'NOUN'), ('.', '.'), ('The', 'DET'), ('2018', 'NOUN'), ('FIFA', 'NOUN'), ('World', 'NOUN'), ('Cup', 'NOUN'), ('is', 'VERB'), ('the', 'DET'), ('21st', 'NOUN'), ('FIFA', 'NOUN'), ('World', 'NOUN'), ('Cup', 'NOUN'), (',', '.'), ('an', 'DET'), ('international', 'ADJ'), ('football', 'NOUN'), ('tournament', 'NOUN'), ('contested', 'NOUN'), ('once', 'ADV'), ('every', 'DET'), ('four', 'NUM'), ('years', 'NOUN'), ('.', '.'), ('This', 'DET'), ('is', 'VERB'), ('the', 'DET'), ('first', 'ADJ'), ('World', 'NOUN'), ('Cup', 'NOUN'), ('to', 'PRT'), ('be', 'VERB'), ('held', 'VERB'), ('in', 'ADP'), ('Eastern', 'NOUN'), ('Europe', 'NOUN'), ('and', 'CONJ'), ('the', 'DET'), ('11th', 'ADJ'), ('time', 'NOUN'), ('that', 'ADP'), ('it', 'PRON'), ('has', 'VERB'), ('been', 'VERB'), ('held', 'VERB'), ('in', 'ADP'), ('Europe', 'NOUN'), ('.', '.'), ('Show', 'NOUN'), ('me', 'PRON'), ('the', 'DET'), ('cheapest', 'ADJ'), ('round', 'NOUN'), ('trips', 'NOUN'), ('from', 'ADP'), ('Dallas', 'NOUN'), ('to', 'PRT'), ('Atlanta', 'NOUN'), ('I', 'PRON'), ('would', 'VERB'), ('like', 'ADP'), ('to', 'PRT'), ('see', 'VERB'), ('flights', 'NOUN'), ('from', 'ADP'), ('Denver', 'DET'), ('to', 'PRT'), ('Philadelphia', 'NOUN'), ('.', '.'), ('Show', 'NOUN'), ('me', 'PRON'), ('the', 'DET'), ('price', 'NOUN'), ('of', 'ADP'), ('the', 'DET'), ('flights', 'NOUN'), ('leaving', 'VERB'), ('Atlanta', 'NOUN'), ('at', 'ADP'), ('about', 'ADP'), ('3', 'NUM'), ('in', 'ADP'), ('the', 'DET'), ('afternoon', 'NOUN'), ('and', 'CONJ'), ('arriving', 'NOUN'), ('in', 'ADP'), ('San', 'NOUN'), ('Francisco', 'NOUN'), ('.', '.'), ('NASA', 'NOUN'), ('invited', 'NOUN'), ('social', 'ADJ'), ('media', 'NOUN'), ('users', 'NOUN'), ('to', 'PRT'), ('experience', 'NOUN'), ('the', 'DET'), ('launch', 'NOUN'), ('of', 'ADP'), ('ICESAT-2', 'DET'), ('Satellite', 'NOUN'), ('.', '.')]\n",
      "\n",
      "\n",
      "-----------------------------------------------------------------------------------------------------------------------------\n",
      "Tagging sequence with viterbi_backedup_by_trigram_tagger -\n",
      "\n",
      " [('Android', 'NOUN'), ('is', 'VERB'), ('a', 'DET'), ('mobile', 'ADJ'), ('operating', 'NOUN'), ('system', 'NOUN'), ('developed', 'VERB'), ('by', 'ADP'), ('Google', 'NOUN'), ('.', '.'), ('Android', 'NOUN'), ('has', 'VERB'), ('been', 'VERB'), ('the', 'DET'), ('best-selling', 'ADJ'), ('OS', 'NOUN'), ('worldwide', 'NOUN'), ('on', 'ADP'), ('smartphones', 'VERB'), ('since', 'ADP'), ('2011', 'NUM'), ('and', 'CONJ'), ('on', 'ADP'), ('tablets', 'NOUN'), ('since', 'ADP'), ('2013', 'NUM'), ('.', '.'), ('Google', 'NOUN'), ('and', 'CONJ'), ('Twitter', 'NOUN'), ('made', 'VERB'), ('a', 'DET'), ('deal', 'NOUN'), ('in', 'ADP'), ('2015', 'NUM'), ('that', 'ADP'), ('gave', 'VERB'), ('Google', 'NOUN'), ('access', 'NOUN'), ('to', 'PRT'), ('Twitter', 'NOUN'), (\"'s\", 'PRT'), ('firehose', 'NOUN'), ('.', '.'), ('Twitter', 'NOUN'), ('is', 'VERB'), ('an', 'DET'), ('online', 'NOUN'), ('news', 'NOUN'), ('and', 'CONJ'), ('social', 'ADJ'), ('networking', 'NOUN'), ('service', 'NOUN'), ('on', 'ADP'), ('which', 'DET'), ('users', 'NOUN'), ('post', 'NOUN'), ('and', 'CONJ'), ('interact', 'NOUN'), ('with', 'ADP'), ('messages', 'VERB'), ('known', 'VERB'), ('as', 'ADP'), ('tweets', 'NOUN'), ('.', '.'), ('Before', 'ADP'), ('entering', 'VERB'), ('politics', 'NOUN'), (',', '.'), ('Donald', 'NOUN'), ('Trump', 'NOUN'), ('was', 'VERB'), ('a', 'DET'), ('domineering', 'VERB'), ('businessman', 'NOUN'), ('and', 'CONJ'), ('a', 'DET'), ('television', 'NOUN'), ('personality', 'NOUN'), ('.', '.'), ('The', 'DET'), ('2018', 'NUM'), ('FIFA', 'NOUN'), ('World', 'NOUN'), ('Cup', 'NOUN'), ('is', 'VERB'), ('the', 'DET'), ('21st', 'NUM'), ('FIFA', 'NOUN'), ('World', 'NOUN'), ('Cup', 'NOUN'), (',', '.'), ('an', 'DET'), ('international', 'ADJ'), ('football', 'NOUN'), ('tournament', 'NOUN'), ('contested', 'VERB'), ('once', 'ADV'), ('every', 'DET'), ('four', 'NUM'), ('years', 'NOUN'), ('.', '.'), ('This', 'DET'), ('is', 'VERB'), ('the', 'DET'), ('first', 'ADJ'), ('World', 'NOUN'), ('Cup', 'NOUN'), ('to', 'PRT'), ('be', 'VERB'), ('held', 'VERB'), ('in', 'ADP'), ('Eastern', 'NOUN'), ('Europe', 'NOUN'), ('and', 'CONJ'), ('the', 'DET'), ('11th', 'ADJ'), ('time', 'NOUN'), ('that', 'ADP'), ('it', 'PRON'), ('has', 'VERB'), ('been', 'VERB'), ('held', 'VERB'), ('in', 'ADP'), ('Europe', 'NOUN'), ('.', '.'), ('Show', 'NOUN'), ('me', 'PRON'), ('the', 'DET'), ('cheapest', 'ADJ'), ('round', 'NOUN'), ('trips', 'NOUN'), ('from', 'ADP'), ('Dallas', 'NOUN'), ('to', 'PRT'), ('Atlanta', 'NOUN'), ('I', 'PRON'), ('would', 'VERB'), ('like', 'ADP'), ('to', 'PRT'), ('see', 'VERB'), ('flights', 'NOUN'), ('from', 'ADP'), ('Denver', 'NOUN'), ('to', 'PRT'), ('Philadelphia', 'NOUN'), ('.', '.'), ('Show', 'NOUN'), ('me', 'PRON'), ('the', 'DET'), ('price', 'NOUN'), ('of', 'ADP'), ('the', 'DET'), ('flights', 'NOUN'), ('leaving', 'VERB'), ('Atlanta', 'NOUN'), ('at', 'ADP'), ('about', 'ADP'), ('3', 'NUM'), ('in', 'ADP'), ('the', 'DET'), ('afternoon', 'NOUN'), ('and', 'CONJ'), ('arriving', 'VERB'), ('in', 'ADP'), ('San', 'NOUN'), ('Francisco', 'NOUN'), ('.', '.'), ('NASA', 'NOUN'), ('invited', 'VERB'), ('social', 'ADJ'), ('media', 'NOUN'), ('users', 'NOUN'), ('to', 'PRT'), ('experience', 'NOUN'), ('the', 'DET'), ('launch', 'NOUN'), ('of', 'ADP'), ('ICESAT-2', 'NOUN'), ('Satellite', 'NOUN'), ('.', '.')]\n"
     ]
    }
   ],
   "source": [
    "# Default Vanilla Viterbi\n",
    "# pos tags with Vanilla_Viterbi\n",
    "sample_test_data_tagged_sequence_with_vanilla_viterbi = vanilla_viterbi(test_tagged_words)\n",
    "print(\"Tagging sequence with Vanilla_Viterbi -\\n\\n\", sample_test_data_tagged_sequence_with_vanilla_viterbi)\n",
    "\n",
    "print('\\n')\n",
    "print('-'*125)\n",
    "\n",
    "# Method 1 - pos tags with Vanilla_Viterbi_for_Unknown_Words\n",
    "sample_test_data_tagged_sequence_unknown_words = Unknown_Words_With_Vanilla_Viterbi(test_tagged_words)\n",
    "print(\"Tagging sequence with viterbi using only transition probability for unknown words -\\n\\n\", \n",
    "      sample_test_data_tagged_sequence_unknown_words)\n",
    "\n",
    "print('\\n')\n",
    "print('-'*125)\n",
    "\n",
    "# Method 2 - pos tags with viterbi_backedup_by_trigram_tagger\n",
    "sample_test_data_tagged_sequence_with_viterbi_trigram = viterbi_backedup_by_trigram_tagger(test_tagged_words)\n",
    "print(\"Tagging sequence with viterbi_backedup_by_trigram_tagger -\\n\\n\", sample_test_data_tagged_sequence_with_viterbi_trigram)"
   ]
  },
  {
   "cell_type": "code",
   "execution_count": 84,
   "metadata": {},
   "outputs": [
    {
     "data": {
      "text/html": [
       "<div>\n",
       "<style scoped>\n",
       "    .dataframe tbody tr th:only-of-type {\n",
       "        vertical-align: middle;\n",
       "    }\n",
       "\n",
       "    .dataframe tbody tr th {\n",
       "        vertical-align: top;\n",
       "    }\n",
       "\n",
       "    .dataframe thead th {\n",
       "        text-align: right;\n",
       "    }\n",
       "</style>\n",
       "<table border=\"1\" class=\"dataframe\">\n",
       "  <thead>\n",
       "    <tr style=\"text-align: right;\">\n",
       "      <th></th>\n",
       "      <th>actual_tags</th>\n",
       "      <th>as_tagged_by_vanilla_viterbi</th>\n",
       "      <th>as_tagged_by_Vanilla_Viterbi_for_Unknown_Words</th>\n",
       "      <th>as_tagged_by_Vanilla_Viterbi_backed_by_trigram_tagger</th>\n",
       "    </tr>\n",
       "  </thead>\n",
       "  <tbody>\n",
       "    <tr>\n",
       "      <td>0</td>\n",
       "      <td>(Android, NOUN)</td>\n",
       "      <td>(Android, DET)</td>\n",
       "      <td>(Android, NOUN)</td>\n",
       "      <td>(Android, NOUN)</td>\n",
       "    </tr>\n",
       "    <tr>\n",
       "      <td>8</td>\n",
       "      <td>(Google, NOUN)</td>\n",
       "      <td>(Google, DET)</td>\n",
       "      <td>(Google, DET)</td>\n",
       "      <td>(Google, NOUN)</td>\n",
       "    </tr>\n",
       "    <tr>\n",
       "      <td>10</td>\n",
       "      <td>(Android, NOUN)</td>\n",
       "      <td>(Android, DET)</td>\n",
       "      <td>(Android, NOUN)</td>\n",
       "      <td>(Android, NOUN)</td>\n",
       "    </tr>\n",
       "    <tr>\n",
       "      <td>15</td>\n",
       "      <td>(OS, NOUN)</td>\n",
       "      <td>(OS, DET)</td>\n",
       "      <td>(OS, NOUN)</td>\n",
       "      <td>(OS, NOUN)</td>\n",
       "    </tr>\n",
       "    <tr>\n",
       "      <td>16</td>\n",
       "      <td>(worldwide, NOUN)</td>\n",
       "      <td>(worldwide, DET)</td>\n",
       "      <td>(worldwide, NOUN)</td>\n",
       "      <td>(worldwide, NOUN)</td>\n",
       "    </tr>\n",
       "    <tr>\n",
       "      <td>18</td>\n",
       "      <td>(smartphones, NOUN)</td>\n",
       "      <td>(smartphones, DET)</td>\n",
       "      <td>(smartphones, DET)</td>\n",
       "      <td>(smartphones, VERB)</td>\n",
       "    </tr>\n",
       "    <tr>\n",
       "      <td>20</td>\n",
       "      <td>(2011, NUM)</td>\n",
       "      <td>(2011, DET)</td>\n",
       "      <td>(2011, DET)</td>\n",
       "      <td>(2011, NUM)</td>\n",
       "    </tr>\n",
       "    <tr>\n",
       "      <td>25</td>\n",
       "      <td>(2013, NUM)</td>\n",
       "      <td>(2013, DET)</td>\n",
       "      <td>(2013, DET)</td>\n",
       "      <td>(2013, NUM)</td>\n",
       "    </tr>\n",
       "    <tr>\n",
       "      <td>27</td>\n",
       "      <td>(Google, NOUN)</td>\n",
       "      <td>(Google, DET)</td>\n",
       "      <td>(Google, NOUN)</td>\n",
       "      <td>(Google, NOUN)</td>\n",
       "    </tr>\n",
       "    <tr>\n",
       "      <td>29</td>\n",
       "      <td>(Twitter, NOUN)</td>\n",
       "      <td>(Twitter, DET)</td>\n",
       "      <td>(Twitter, NOUN)</td>\n",
       "      <td>(Twitter, NOUN)</td>\n",
       "    </tr>\n",
       "    <tr>\n",
       "      <td>34</td>\n",
       "      <td>(2015, NUM)</td>\n",
       "      <td>(2015, DET)</td>\n",
       "      <td>(2015, DET)</td>\n",
       "      <td>(2015, NUM)</td>\n",
       "    </tr>\n",
       "    <tr>\n",
       "      <td>37</td>\n",
       "      <td>(Google, NOUN)</td>\n",
       "      <td>(Google, DET)</td>\n",
       "      <td>(Google, X)</td>\n",
       "      <td>(Google, NOUN)</td>\n",
       "    </tr>\n",
       "    <tr>\n",
       "      <td>40</td>\n",
       "      <td>(Twitter, NOUN)</td>\n",
       "      <td>(Twitter, DET)</td>\n",
       "      <td>(Twitter, VERB)</td>\n",
       "      <td>(Twitter, NOUN)</td>\n",
       "    </tr>\n",
       "    <tr>\n",
       "      <td>41</td>\n",
       "      <td>('s, PRT)</td>\n",
       "      <td>('s, VERB)</td>\n",
       "      <td>('s, PRT)</td>\n",
       "      <td>('s, PRT)</td>\n",
       "    </tr>\n",
       "    <tr>\n",
       "      <td>42</td>\n",
       "      <td>(firehose, NOUN)</td>\n",
       "      <td>(firehose, DET)</td>\n",
       "      <td>(firehose, VERB)</td>\n",
       "      <td>(firehose, NOUN)</td>\n",
       "    </tr>\n",
       "    <tr>\n",
       "      <td>44</td>\n",
       "      <td>(Twitter, NOUN)</td>\n",
       "      <td>(Twitter, DET)</td>\n",
       "      <td>(Twitter, NOUN)</td>\n",
       "      <td>(Twitter, NOUN)</td>\n",
       "    </tr>\n",
       "    <tr>\n",
       "      <td>47</td>\n",
       "      <td>(online, ADJ)</td>\n",
       "      <td>(online, DET)</td>\n",
       "      <td>(online, NOUN)</td>\n",
       "      <td>(online, NOUN)</td>\n",
       "    </tr>\n",
       "    <tr>\n",
       "      <td>58</td>\n",
       "      <td>(interact, NOUN)</td>\n",
       "      <td>(interact, DET)</td>\n",
       "      <td>(interact, NOUN)</td>\n",
       "      <td>(interact, NOUN)</td>\n",
       "    </tr>\n",
       "    <tr>\n",
       "      <td>60</td>\n",
       "      <td>(messages, NOUN)</td>\n",
       "      <td>(messages, DET)</td>\n",
       "      <td>(messages, DET)</td>\n",
       "      <td>(messages, VERB)</td>\n",
       "    </tr>\n",
       "    <tr>\n",
       "      <td>63</td>\n",
       "      <td>(tweets, NOUN)</td>\n",
       "      <td>(tweets, DET)</td>\n",
       "      <td>(tweets, DET)</td>\n",
       "      <td>(tweets, NOUN)</td>\n",
       "    </tr>\n",
       "    <tr>\n",
       "      <td>73</td>\n",
       "      <td>(domineering, ADJ)</td>\n",
       "      <td>(domineering, DET)</td>\n",
       "      <td>(domineering, NOUN)</td>\n",
       "      <td>(domineering, VERB)</td>\n",
       "    </tr>\n",
       "    <tr>\n",
       "      <td>78</td>\n",
       "      <td>(personality, NOUN)</td>\n",
       "      <td>(personality, DET)</td>\n",
       "      <td>(personality, NOUN)</td>\n",
       "      <td>(personality, NOUN)</td>\n",
       "    </tr>\n",
       "    <tr>\n",
       "      <td>81</td>\n",
       "      <td>(2018, NUM)</td>\n",
       "      <td>(2018, DET)</td>\n",
       "      <td>(2018, NOUN)</td>\n",
       "      <td>(2018, NUM)</td>\n",
       "    </tr>\n",
       "    <tr>\n",
       "      <td>82</td>\n",
       "      <td>(FIFA, NOUN)</td>\n",
       "      <td>(FIFA, DET)</td>\n",
       "      <td>(FIFA, NOUN)</td>\n",
       "      <td>(FIFA, NOUN)</td>\n",
       "    </tr>\n",
       "    <tr>\n",
       "      <td>84</td>\n",
       "      <td>(Cup, NOUN)</td>\n",
       "      <td>(Cup, DET)</td>\n",
       "      <td>(Cup, NOUN)</td>\n",
       "      <td>(Cup, NOUN)</td>\n",
       "    </tr>\n",
       "    <tr>\n",
       "      <td>87</td>\n",
       "      <td>(21st, NUM)</td>\n",
       "      <td>(21st, DET)</td>\n",
       "      <td>(21st, NOUN)</td>\n",
       "      <td>(21st, NUM)</td>\n",
       "    </tr>\n",
       "    <tr>\n",
       "      <td>88</td>\n",
       "      <td>(FIFA, NOUN)</td>\n",
       "      <td>(FIFA, DET)</td>\n",
       "      <td>(FIFA, NOUN)</td>\n",
       "      <td>(FIFA, NOUN)</td>\n",
       "    </tr>\n",
       "    <tr>\n",
       "      <td>90</td>\n",
       "      <td>(Cup, NOUN)</td>\n",
       "      <td>(Cup, DET)</td>\n",
       "      <td>(Cup, NOUN)</td>\n",
       "      <td>(Cup, NOUN)</td>\n",
       "    </tr>\n",
       "    <tr>\n",
       "      <td>95</td>\n",
       "      <td>(tournament, NOUN)</td>\n",
       "      <td>(tournament, DET)</td>\n",
       "      <td>(tournament, NOUN)</td>\n",
       "      <td>(tournament, NOUN)</td>\n",
       "    </tr>\n",
       "    <tr>\n",
       "      <td>96</td>\n",
       "      <td>(contested, VERB)</td>\n",
       "      <td>(contested, DET)</td>\n",
       "      <td>(contested, NOUN)</td>\n",
       "      <td>(contested, VERB)</td>\n",
       "    </tr>\n",
       "    <tr>\n",
       "      <td>107</td>\n",
       "      <td>(Cup, NOUN)</td>\n",
       "      <td>(Cup, DET)</td>\n",
       "      <td>(Cup, NOUN)</td>\n",
       "      <td>(Cup, NOUN)</td>\n",
       "    </tr>\n",
       "    <tr>\n",
       "      <td>131</td>\n",
       "      <td>(trips, NOUN)</td>\n",
       "      <td>(trips, DET)</td>\n",
       "      <td>(trips, NOUN)</td>\n",
       "      <td>(trips, NOUN)</td>\n",
       "    </tr>\n",
       "    <tr>\n",
       "      <td>143</td>\n",
       "      <td>(Denver, NOUN)</td>\n",
       "      <td>(Denver, DET)</td>\n",
       "      <td>(Denver, DET)</td>\n",
       "      <td>(Denver, NOUN)</td>\n",
       "    </tr>\n",
       "    <tr>\n",
       "      <td>163</td>\n",
       "      <td>(arriving, NOUN)</td>\n",
       "      <td>(arriving, DET)</td>\n",
       "      <td>(arriving, NOUN)</td>\n",
       "      <td>(arriving, VERB)</td>\n",
       "    </tr>\n",
       "    <tr>\n",
       "      <td>168</td>\n",
       "      <td>(NASA, NOUN)</td>\n",
       "      <td>(NASA, DET)</td>\n",
       "      <td>(NASA, NOUN)</td>\n",
       "      <td>(NASA, NOUN)</td>\n",
       "    </tr>\n",
       "    <tr>\n",
       "      <td>169</td>\n",
       "      <td>(invited, VERB)</td>\n",
       "      <td>(invited, DET)</td>\n",
       "      <td>(invited, NOUN)</td>\n",
       "      <td>(invited, VERB)</td>\n",
       "    </tr>\n",
       "    <tr>\n",
       "      <td>178</td>\n",
       "      <td>(ICESAT-2, NOUN)</td>\n",
       "      <td>(ICESAT-2, DET)</td>\n",
       "      <td>(ICESAT-2, DET)</td>\n",
       "      <td>(ICESAT-2, NOUN)</td>\n",
       "    </tr>\n",
       "    <tr>\n",
       "      <td>179</td>\n",
       "      <td>(Satellite, NOUN)</td>\n",
       "      <td>(Satellite, DET)</td>\n",
       "      <td>(Satellite, NOUN)</td>\n",
       "      <td>(Satellite, NOUN)</td>\n",
       "    </tr>\n",
       "  </tbody>\n",
       "</table>\n",
       "</div>"
      ],
      "text/plain": [
       "             actual_tags as_tagged_by_vanilla_viterbi  \\\n",
       "0        (Android, NOUN)               (Android, DET)   \n",
       "8         (Google, NOUN)                (Google, DET)   \n",
       "10       (Android, NOUN)               (Android, DET)   \n",
       "15            (OS, NOUN)                    (OS, DET)   \n",
       "16     (worldwide, NOUN)             (worldwide, DET)   \n",
       "18   (smartphones, NOUN)           (smartphones, DET)   \n",
       "20           (2011, NUM)                  (2011, DET)   \n",
       "25           (2013, NUM)                  (2013, DET)   \n",
       "27        (Google, NOUN)                (Google, DET)   \n",
       "29       (Twitter, NOUN)               (Twitter, DET)   \n",
       "34           (2015, NUM)                  (2015, DET)   \n",
       "37        (Google, NOUN)                (Google, DET)   \n",
       "40       (Twitter, NOUN)               (Twitter, DET)   \n",
       "41             ('s, PRT)                   ('s, VERB)   \n",
       "42      (firehose, NOUN)              (firehose, DET)   \n",
       "44       (Twitter, NOUN)               (Twitter, DET)   \n",
       "47         (online, ADJ)                (online, DET)   \n",
       "58      (interact, NOUN)              (interact, DET)   \n",
       "60      (messages, NOUN)              (messages, DET)   \n",
       "63        (tweets, NOUN)                (tweets, DET)   \n",
       "73    (domineering, ADJ)           (domineering, DET)   \n",
       "78   (personality, NOUN)           (personality, DET)   \n",
       "81           (2018, NUM)                  (2018, DET)   \n",
       "82          (FIFA, NOUN)                  (FIFA, DET)   \n",
       "84           (Cup, NOUN)                   (Cup, DET)   \n",
       "87           (21st, NUM)                  (21st, DET)   \n",
       "88          (FIFA, NOUN)                  (FIFA, DET)   \n",
       "90           (Cup, NOUN)                   (Cup, DET)   \n",
       "95    (tournament, NOUN)            (tournament, DET)   \n",
       "96     (contested, VERB)             (contested, DET)   \n",
       "107          (Cup, NOUN)                   (Cup, DET)   \n",
       "131        (trips, NOUN)                 (trips, DET)   \n",
       "143       (Denver, NOUN)                (Denver, DET)   \n",
       "163     (arriving, NOUN)              (arriving, DET)   \n",
       "168         (NASA, NOUN)                  (NASA, DET)   \n",
       "169      (invited, VERB)               (invited, DET)   \n",
       "178     (ICESAT-2, NOUN)              (ICESAT-2, DET)   \n",
       "179    (Satellite, NOUN)             (Satellite, DET)   \n",
       "\n",
       "    as_tagged_by_Vanilla_Viterbi_for_Unknown_Words  \\\n",
       "0                                  (Android, NOUN)   \n",
       "8                                    (Google, DET)   \n",
       "10                                 (Android, NOUN)   \n",
       "15                                      (OS, NOUN)   \n",
       "16                               (worldwide, NOUN)   \n",
       "18                              (smartphones, DET)   \n",
       "20                                     (2011, DET)   \n",
       "25                                     (2013, DET)   \n",
       "27                                  (Google, NOUN)   \n",
       "29                                 (Twitter, NOUN)   \n",
       "34                                     (2015, DET)   \n",
       "37                                     (Google, X)   \n",
       "40                                 (Twitter, VERB)   \n",
       "41                                       ('s, PRT)   \n",
       "42                                (firehose, VERB)   \n",
       "44                                 (Twitter, NOUN)   \n",
       "47                                  (online, NOUN)   \n",
       "58                                (interact, NOUN)   \n",
       "60                                 (messages, DET)   \n",
       "63                                   (tweets, DET)   \n",
       "73                             (domineering, NOUN)   \n",
       "78                             (personality, NOUN)   \n",
       "81                                    (2018, NOUN)   \n",
       "82                                    (FIFA, NOUN)   \n",
       "84                                     (Cup, NOUN)   \n",
       "87                                    (21st, NOUN)   \n",
       "88                                    (FIFA, NOUN)   \n",
       "90                                     (Cup, NOUN)   \n",
       "95                              (tournament, NOUN)   \n",
       "96                               (contested, NOUN)   \n",
       "107                                    (Cup, NOUN)   \n",
       "131                                  (trips, NOUN)   \n",
       "143                                  (Denver, DET)   \n",
       "163                               (arriving, NOUN)   \n",
       "168                                   (NASA, NOUN)   \n",
       "169                                (invited, NOUN)   \n",
       "178                                (ICESAT-2, DET)   \n",
       "179                              (Satellite, NOUN)   \n",
       "\n",
       "    as_tagged_by_Vanilla_Viterbi_backed_by_trigram_tagger  \n",
       "0                                      (Android, NOUN)     \n",
       "8                                       (Google, NOUN)     \n",
       "10                                     (Android, NOUN)     \n",
       "15                                          (OS, NOUN)     \n",
       "16                                   (worldwide, NOUN)     \n",
       "18                                 (smartphones, VERB)     \n",
       "20                                         (2011, NUM)     \n",
       "25                                         (2013, NUM)     \n",
       "27                                      (Google, NOUN)     \n",
       "29                                     (Twitter, NOUN)     \n",
       "34                                         (2015, NUM)     \n",
       "37                                      (Google, NOUN)     \n",
       "40                                     (Twitter, NOUN)     \n",
       "41                                           ('s, PRT)     \n",
       "42                                    (firehose, NOUN)     \n",
       "44                                     (Twitter, NOUN)     \n",
       "47                                      (online, NOUN)     \n",
       "58                                    (interact, NOUN)     \n",
       "60                                    (messages, VERB)     \n",
       "63                                      (tweets, NOUN)     \n",
       "73                                 (domineering, VERB)     \n",
       "78                                 (personality, NOUN)     \n",
       "81                                         (2018, NUM)     \n",
       "82                                        (FIFA, NOUN)     \n",
       "84                                         (Cup, NOUN)     \n",
       "87                                         (21st, NUM)     \n",
       "88                                        (FIFA, NOUN)     \n",
       "90                                         (Cup, NOUN)     \n",
       "95                                  (tournament, NOUN)     \n",
       "96                                   (contested, VERB)     \n",
       "107                                        (Cup, NOUN)     \n",
       "131                                      (trips, NOUN)     \n",
       "143                                     (Denver, NOUN)     \n",
       "163                                   (arriving, VERB)     \n",
       "168                                       (NASA, NOUN)     \n",
       "169                                    (invited, VERB)     \n",
       "178                                   (ICESAT-2, NOUN)     \n",
       "179                                  (Satellite, NOUN)     "
      ]
     },
     "execution_count": 84,
     "metadata": {},
     "output_type": "execute_result"
    }
   ],
   "source": [
    "# A dataframe showing - \n",
    "# 1. the actual tags using nltk.pos_tag_sent\n",
    "# 2. words as tagged by vanilla viterbi\n",
    "# 3. words as tagged by Vanilla_Viterbi_for_Unknown_Words - METHOD - 1\n",
    "# 4. words as tagged by viterbi_backedup_by_trigram_tagger - METHOD - 2\n",
    "\n",
    "cols1 = ['actual_tags', 'as_tagged_by_vanilla_viterbi', 'as_tagged_by_Vanilla_Viterbi_for_Unknown_Words',\n",
    "            'as_tagged_by_Vanilla_Viterbi_backed_by_trigram_tagger']\n",
    "\n",
    "df_tags_comparison = pd.DataFrame(columns = cols1)\n",
    "df_tags_comparison = df_tags_comparison.fillna(0)\n",
    "\n",
    "# Actual tags\n",
    "df_tags_comparison.actual_tags = [tup for tup in tagged_words_test_run_base]\n",
    "\n",
    "# tags by vanilla viterbi\n",
    "df_tags_comparison.as_tagged_by_vanilla_viterbi = [tup for tup in sample_test_data_tagged_sequence_with_vanilla_viterbi]\n",
    "\n",
    "# tags by Vanilla_Viterbi_for_Unknown_Words - METHOD - 1\n",
    "df_tags_comparison.as_tagged_by_Vanilla_Viterbi_for_Unknown_Words = [tup for tup in sample_test_data_tagged_sequence_unknown_words]\n",
    "\n",
    "# tags by viterbi_backedup_by_trigram_tagger - METHOD - 2\n",
    "df_tags_comparison.as_tagged_by_Vanilla_Viterbi_backed_by_trigram_tagger = [tup for tup in \n",
    "                                                                            sample_test_data_tagged_sequence_with_viterbi_trigram]\n",
    "\n",
    "df_tags_comparison[df_tags_comparison.as_tagged_by_vanilla_viterbi != \n",
    "                   df_tags_comparison.as_tagged_by_Vanilla_Viterbi_backed_by_trigram_tagger]"
   ]
  },
  {
   "cell_type": "markdown",
   "metadata": {},
   "source": [
    "### Conclusion :\n",
    "##### Thus we see that most of the words that were incorrectly tagged by the vanilla viterbi algorithm were corrected by the viterbi algorithm backed up by the trigram tagger.\n",
    "##### In this analysis we used 2 modification techniques for the original vanilla viterbi -\n",
    "\n",
    "##### Method 1 -\n",
    "- We used only the transition probability for unknown words.\n",
    "- This method showed an increase in the accuracy (94.4%) but still had some incorrect classification.\n",
    "\n",
    "- The accuracy could be increased further and we turned two a second modification in method-2 below.\n",
    "\n",
    "##### Method 2 -\n",
    "- We used the viterbi algorithm and backed it up with the trigram tagger which was inturn backed up by the rule based \n",
    "regex tagger.\n",
    "- This gave us an accuracy of 95.82% on the test data.\n",
    "- Also on testing this model on the provided sample test data, it achieved an accuracy of 92.81% and comes out to be \n",
    "the winner."
   ]
  },
  {
   "cell_type": "code",
   "execution_count": null,
   "metadata": {},
   "outputs": [],
   "source": []
  }
 ],
 "metadata": {
  "kernelspec": {
   "display_name": "Python 3",
   "language": "python",
   "name": "python3"
  },
  "language_info": {
   "codemirror_mode": {
    "name": "ipython",
    "version": 3
   },
   "file_extension": ".py",
   "mimetype": "text/x-python",
   "name": "python",
   "nbconvert_exporter": "python",
   "pygments_lexer": "ipython3",
   "version": "3.7.4"
  }
 },
 "nbformat": 4,
 "nbformat_minor": 2
}
